{
  "nbformat": 4,
  "nbformat_minor": 0,
  "metadata": {
    "colab": {
      "name": "Script11.ipynb",
      "provenance": [],
      "authorship_tag": "ABX9TyO7BGofM3nM4erOG4uisv2y",
      "include_colab_link": true
    },
    "kernelspec": {
      "name": "python3",
      "display_name": "Python 3"
    },
    "language_info": {
      "name": "python"
    }
  },
  "cells": [
    {
      "cell_type": "markdown",
      "metadata": {
        "id": "view-in-github",
        "colab_type": "text"
      },
      "source": [
        "<a href=\"https://colab.research.google.com/github/DiasMelissa/DiasMelissa/blob/main/Script11.ipynb\" target=\"_parent\"><img src=\"https://colab.research.google.com/assets/colab-badge.svg\" alt=\"Open In Colab\"/></a>"
      ]
    },
    {
      "cell_type": "markdown",
      "source": [
        "# **Errors and exceptions**\n",
        "\n",
        "try:\n",
        "...\n",
        "\n",
        "except Exception1:\n",
        "\n",
        "...\n",
        "\n",
        "except Exception2:\n",
        "\n",
        "....\n",
        "\n",
        "else:\n",
        "\n",
        "...\n",
        "\n",
        "Even if there is still an error it is possible to use **finally**.\n",
        "\n",
        "https://docs.python.org/3.6/library/exceptions.html"
      ],
      "metadata": {
        "id": "5sgIjOPNoLqi"
      }
    },
    {
      "cell_type": "markdown",
      "source": [
        "Try, except and finally"
      ],
      "metadata": {
        "id": "HLvlg1k7pbSv"
      }
    },
    {
      "cell_type": "code",
      "execution_count": 2,
      "metadata": {
        "colab": {
          "base_uri": "https://localhost:8080/"
        },
        "id": "20YickLToJPF",
        "outputId": "54634a0e-7098-491b-89bf-223ef56fbb54"
      },
      "outputs": [
        {
          "output_type": "stream",
          "name": "stdout",
          "text": [
            "it is not allowed\n"
          ]
        }
      ],
      "source": [
        "try:\n",
        "  10 + 'm'\n",
        "except TypeError:\n",
        "  print('it is not allowed')  "
      ]
    },
    {
      "cell_type": "code",
      "source": [
        "try:\n",
        "  f = open('testandoerros.txt','w')\n",
        "  f.write('Writing in the file')\n",
        "except IOError:\n",
        "  print('Error: there is no file')  \n",
        "else:\n",
        "  print('It was successfully recorded')  \n",
        "  f.close()\n"
      ],
      "metadata": {
        "colab": {
          "base_uri": "https://localhost:8080/"
        },
        "id": "X2r1NCfxp427",
        "outputId": "4e8e76a4-60ae-4cba-ebd8-5af219d0a2f8"
      },
      "execution_count": 5,
      "outputs": [
        {
          "output_type": "stream",
          "name": "stdout",
          "text": [
            "It was successfully recorded\n"
          ]
        }
      ]
    },
    {
      "cell_type": "code",
      "source": [
        "try:\n",
        "  f = open('testandoerros','r')\n",
        "  f.write('Writing in the file')\n",
        "except IOError:\n",
        "  print('Error: there is no file')  \n",
        "else:\n",
        "  print('It was successfully recorded')  \n",
        "  f.close()\n"
      ],
      "metadata": {
        "colab": {
          "base_uri": "https://localhost:8080/"
        },
        "id": "zDtvsrGyq6bi",
        "outputId": "79c29769-5d60-454a-8b0f-bfd29c9130c0"
      },
      "execution_count": 6,
      "outputs": [
        {
          "output_type": "stream",
          "name": "stdout",
          "text": [
            "Error: there is no file\n"
          ]
        }
      ]
    },
    {
      "cell_type": "code",
      "source": [
        "try:\n",
        "  f = open('testandoerros.txt','w')\n",
        "  f.write('Writing in the file')\n",
        "except IOError:\n",
        "  print('Error: there is no file')  \n",
        "else:\n",
        "  print('It was successfully recorded')  \n",
        "  f.close()\n",
        "finally:\n",
        "  print(\"Finally always works\")"
      ],
      "metadata": {
        "colab": {
          "base_uri": "https://localhost:8080/"
        },
        "id": "p0cChasRrIG-",
        "outputId": "5e04935f-4006-4f11-e6c5-14d15e2e94dd"
      },
      "execution_count": 7,
      "outputs": [
        {
          "output_type": "stream",
          "name": "stdout",
          "text": [
            "It was successfully recorded\n",
            "Finally always works\n"
          ]
        }
      ]
    },
    {
      "cell_type": "code",
      "source": [
        "def askint():\n",
        "  try:\n",
        "    val = int(input(\"Write a number: \"))\n",
        "  except UnboundLocalError:\n",
        "    print(\"You didn't write a number\")\n",
        "  finally:\n",
        "    print(\"Thanks!\")  \n",
        "  print(val)  \n"
      ],
      "metadata": {
        "id": "1FAeL-EerWMy"
      },
      "execution_count": 8,
      "outputs": []
    },
    {
      "cell_type": "code",
      "source": [
        "askint()"
      ],
      "metadata": {
        "id": "PeGJAjrpsDbg"
      },
      "execution_count": null,
      "outputs": []
    },
    {
      "cell_type": "code",
      "source": [
        "def askint():\n",
        "  try:\n",
        "    val = int(input(\"Write a number: \"))\n",
        "  except:\n",
        "    print(\"You didn't write a number\")\n",
        "    val = int(input(\"Try again: \"))\n",
        "  finally:\n",
        "    print(\"Thanks!\")  \n",
        "  print(val)  "
      ],
      "metadata": {
        "id": "0QvvDyCAsS9H"
      },
      "execution_count": 13,
      "outputs": []
    },
    {
      "cell_type": "code",
      "source": [
        "askint()"
      ],
      "metadata": {
        "colab": {
          "base_uri": "https://localhost:8080/"
        },
        "id": "cMxpgOmDscGa",
        "outputId": "c27213c5-4c0f-411b-df8c-50356aaac6f8"
      },
      "execution_count": 15,
      "outputs": [
        {
          "output_type": "stream",
          "name": "stdout",
          "text": [
            "Write a number: \n",
            "You didn't write a number\n",
            "Try again: 2\n",
            "Thanks!\n",
            "2\n"
          ]
        }
      ]
    },
    {
      "cell_type": "code",
      "source": [
        "def askint():\n",
        "  while True:\n",
        "    try:\n",
        "      val = int(input(\"Write a number: \"))\n",
        "    except:\n",
        "      print(\"You didn't write a number\")\n",
        "      continue\n",
        "    else:\n",
        "      print(\"Thanks!\")  \n",
        "      break\n",
        "    finally: \n",
        "      print(\"The end of execution\") \n",
        "    print(val)  "
      ],
      "metadata": {
        "id": "zwMoNyNRsk66"
      },
      "execution_count": 16,
      "outputs": []
    },
    {
      "cell_type": "code",
      "source": [
        "askint()"
      ],
      "metadata": {
        "colab": {
          "base_uri": "https://localhost:8080/"
        },
        "id": "o-LNWlC0tR53",
        "outputId": "9ab61843-b9d0-481f-f205-8e184812f4a2"
      },
      "execution_count": 17,
      "outputs": [
        {
          "output_type": "stream",
          "name": "stdout",
          "text": [
            "Write a number: \n",
            "You didn't write a number\n",
            "The end of execution\n",
            "Write a number: \n",
            "You didn't write a number\n",
            "The end of execution\n",
            "Write a number: \n",
            "You didn't write a number\n",
            "The end of execution\n",
            "Write a number: 10\n",
            "Thanks!\n",
            "The end of execution\n"
          ]
        }
      ]
    },
    {
      "cell_type": "code",
      "source": [
        "tuple = (0, 1, 2)\n",
        "try:\n",
        "  tuple.append(4)\n",
        "  for each in tuple:\n",
        "    print(each)\n",
        "except AttributeError as e:\n",
        "  print('Error: ', e)\n",
        "except IOError as e:\n",
        "  print('Error I/O: ', e)  \n"
      ],
      "metadata": {
        "colab": {
          "base_uri": "https://localhost:8080/"
        },
        "id": "jW0hUPuatS3E",
        "outputId": "e8d0b18b-d554-4496-b1d3-c03a62d77f2c"
      },
      "execution_count": 19,
      "outputs": [
        {
          "output_type": "stream",
          "name": "stdout",
          "text": [
            "Error:  'tuple' object has no attribute 'append'\n"
          ]
        }
      ]
    }
  ]
}