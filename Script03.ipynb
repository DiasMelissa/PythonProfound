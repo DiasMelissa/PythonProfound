{
  "nbformat": 4,
  "nbformat_minor": 0,
  "metadata": {
    "colab": {
      "name": "Script03.ipynb",
      "provenance": [],
      "authorship_tag": "ABX9TyNRBsvJ/JWurzQOueQnPxpH",
      "include_colab_link": true
    },
    "kernelspec": {
      "name": "python3",
      "display_name": "Python 3"
    },
    "language_info": {
      "name": "python"
    }
  },
  "cells": [
    {
      "cell_type": "markdown",
      "metadata": {
        "id": "view-in-github",
        "colab_type": "text"
      },
      "source": [
        "<a href=\"https://colab.research.google.com/github/DiasMelissa/DiasMelissa/blob/main/Script03.ipynb\" target=\"_parent\"><img src=\"https://colab.research.google.com/assets/colab-badge.svg\" alt=\"Open In Colab\"/></a>"
      ]
    },
    {
      "cell_type": "markdown",
      "source": [
        "# **Data structures**\n",
        "\n",
        "It's a general version of a sequence. It's possible to be changing.\n",
        "\n",
        "lista = [var1, var2, ... , varn]"
      ],
      "metadata": {
        "id": "D-nIjkwS16hA"
      }
    },
    {
      "cell_type": "code",
      "execution_count": 9,
      "metadata": {
        "colab": {
          "base_uri": "https://localhost:8080/"
        },
        "id": "Z3bLCjjb10MI",
        "outputId": "cc601976-bd19-40cb-c8fb-d287d853f273"
      },
      "outputs": [
        {
          "output_type": "stream",
          "name": "stdout",
          "text": [
            "['bread', 'egg', 'milk', 'apple']\n"
          ]
        }
      ],
      "source": [
        "Shoppinglist = ['bread', 'egg', 'milk', 'apple']\n",
        "print(Shoppinglist)"
      ]
    },
    {
      "cell_type": "code",
      "source": [
        "Shoppinglist[0]"
      ],
      "metadata": {
        "colab": {
          "base_uri": "https://localhost:8080/",
          "height": 36
        },
        "id": "yY4gxfAk4pMg",
        "outputId": "87abce98-dfab-4708-eb8b-0c8c53572c95"
      },
      "execution_count": 10,
      "outputs": [
        {
          "output_type": "execute_result",
          "data": {
            "text/plain": [
              "'bread'"
            ],
            "application/vnd.google.colaboratory.intrinsic+json": {
              "type": "string"
            }
          },
          "metadata": {},
          "execution_count": 10
        }
      ]
    },
    {
      "cell_type": "code",
      "source": [
        "item1 = Shoppinglist[0]\n",
        "item2 = Shoppinglist[1]\n",
        "item3 = Shoppinglist[2]"
      ],
      "metadata": {
        "id": "MjcaTsU05A_M"
      },
      "execution_count": 11,
      "outputs": []
    },
    {
      "cell_type": "code",
      "source": [
        "print(item1, item2, item3)"
      ],
      "metadata": {
        "colab": {
          "base_uri": "https://localhost:8080/"
        },
        "id": "P4ElRkbj5PAm",
        "outputId": "de0ae360-4469-4d99-cbf0-8ac1b556cf77"
      },
      "execution_count": 12,
      "outputs": [
        {
          "output_type": "stream",
          "name": "stdout",
          "text": [
            "bread egg milk\n"
          ]
        }
      ]
    },
    {
      "cell_type": "markdown",
      "source": [
        "Updating a list item"
      ],
      "metadata": {
        "id": "pjgn8Evy59nz"
      }
    },
    {
      "cell_type": "code",
      "source": [
        "Shoppinglist[2] = 'chocolate'\n",
        "print(Shoppinglist)"
      ],
      "metadata": {
        "colab": {
          "base_uri": "https://localhost:8080/"
        },
        "id": "61z8-mCG6ND2",
        "outputId": "4d245180-bf7f-4efa-93ad-1ab3e2740816"
      },
      "execution_count": 13,
      "outputs": [
        {
          "output_type": "stream",
          "name": "stdout",
          "text": [
            "['bread', 'egg', 'chocolate', 'apple']\n"
          ]
        }
      ]
    },
    {
      "cell_type": "markdown",
      "source": [
        "Deleting a list item"
      ],
      "metadata": {
        "id": "0O6BVxrW6c2y"
      }
    },
    {
      "cell_type": "code",
      "source": [
        "del Shoppinglist[3]\n",
        "print(Shoppinglist)"
      ],
      "metadata": {
        "colab": {
          "base_uri": "https://localhost:8080/"
        },
        "id": "EgoGNvb06Xbm",
        "outputId": "68dea602-a87e-47a1-d483-747e8225d38e"
      },
      "execution_count": 14,
      "outputs": [
        {
          "output_type": "stream",
          "name": "stdout",
          "text": [
            "['bread', 'egg', 'chocolate']\n"
          ]
        }
      ]
    },
    {
      "cell_type": "markdown",
      "source": [
        "Nested lists"
      ],
      "metadata": {
        "id": "HPm5sM8e7ffK"
      }
    },
    {
      "cell_type": "code",
      "source": [
        "\n"
      ],
      "metadata": {
        "id": "rBihfHhM7ktV"
      },
      "execution_count": null,
      "outputs": []
    }
  ]
}