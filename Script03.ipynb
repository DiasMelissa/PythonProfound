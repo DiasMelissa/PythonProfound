{
  "nbformat": 4,
  "nbformat_minor": 0,
  "metadata": {
    "colab": {
      "name": "Script03.ipynb",
      "provenance": [],
      "authorship_tag": "ABX9TyP+4jmCuYqLTGT9Gjbsp6Pw",
      "include_colab_link": true
    },
    "kernelspec": {
      "name": "python3",
      "display_name": "Python 3"
    },
    "language_info": {
      "name": "python"
    }
  },
  "cells": [
    {
      "cell_type": "markdown",
      "metadata": {
        "id": "view-in-github",
        "colab_type": "text"
      },
      "source": [
        "<a href=\"https://colab.research.google.com/github/DiasMelissa/DiasMelissa/blob/main/Script03.ipynb\" target=\"_parent\"><img src=\"https://colab.research.google.com/assets/colab-badge.svg\" alt=\"Open In Colab\"/></a>"
      ]
    },
    {
      "cell_type": "markdown",
      "source": [
        "# **Data structures**\n",
        "\n",
        "It's a general version of a sequence. It's possible to be changing.\n",
        "\n",
        "lista = [var1, var2, ... , varn]"
      ],
      "metadata": {
        "id": "D-nIjkwS16hA"
      }
    },
    {
      "cell_type": "code",
      "execution_count": 9,
      "metadata": {
        "colab": {
          "base_uri": "https://localhost:8080/"
        },
        "id": "Z3bLCjjb10MI",
        "outputId": "cc601976-bd19-40cb-c8fb-d287d853f273"
      },
      "outputs": [
        {
          "output_type": "stream",
          "name": "stdout",
          "text": [
            "['bread', 'egg', 'milk', 'apple']\n"
          ]
        }
      ],
      "source": [
        "Shoppinglist = ['bread', 'egg', 'milk', 'apple']\n",
        "print(Shoppinglist)"
      ]
    },
    {
      "cell_type": "code",
      "source": [
        "Shoppinglist[0]"
      ],
      "metadata": {
        "colab": {
          "base_uri": "https://localhost:8080/",
          "height": 36
        },
        "id": "yY4gxfAk4pMg",
        "outputId": "87abce98-dfab-4708-eb8b-0c8c53572c95"
      },
      "execution_count": 10,
      "outputs": [
        {
          "output_type": "execute_result",
          "data": {
            "text/plain": [
              "'bread'"
            ],
            "application/vnd.google.colaboratory.intrinsic+json": {
              "type": "string"
            }
          },
          "metadata": {},
          "execution_count": 10
        }
      ]
    },
    {
      "cell_type": "code",
      "source": [
        "item1 = Shoppinglist[0]\n",
        "item2 = Shoppinglist[1]\n",
        "item3 = Shoppinglist[2]"
      ],
      "metadata": {
        "id": "MjcaTsU05A_M"
      },
      "execution_count": 11,
      "outputs": []
    },
    {
      "cell_type": "code",
      "source": [
        "print(item1, item2, item3)"
      ],
      "metadata": {
        "colab": {
          "base_uri": "https://localhost:8080/"
        },
        "id": "P4ElRkbj5PAm",
        "outputId": "de0ae360-4469-4d99-cbf0-8ac1b556cf77"
      },
      "execution_count": 12,
      "outputs": [
        {
          "output_type": "stream",
          "name": "stdout",
          "text": [
            "bread egg milk\n"
          ]
        }
      ]
    },
    {
      "cell_type": "markdown",
      "source": [
        "Updating a list item"
      ],
      "metadata": {
        "id": "pjgn8Evy59nz"
      }
    },
    {
      "cell_type": "code",
      "source": [
        "Shoppinglist[2] = 'chocolate'\n",
        "print(Shoppinglist)"
      ],
      "metadata": {
        "colab": {
          "base_uri": "https://localhost:8080/"
        },
        "id": "61z8-mCG6ND2",
        "outputId": "4d245180-bf7f-4efa-93ad-1ab3e2740816"
      },
      "execution_count": 13,
      "outputs": [
        {
          "output_type": "stream",
          "name": "stdout",
          "text": [
            "['bread', 'egg', 'chocolate', 'apple']\n"
          ]
        }
      ]
    },
    {
      "cell_type": "markdown",
      "source": [
        "Deleting a list item"
      ],
      "metadata": {
        "id": "0O6BVxrW6c2y"
      }
    },
    {
      "cell_type": "code",
      "source": [
        "del Shoppinglist[3]\n",
        "print(Shoppinglist)"
      ],
      "metadata": {
        "colab": {
          "base_uri": "https://localhost:8080/"
        },
        "id": "EgoGNvb06Xbm",
        "outputId": "68dea602-a87e-47a1-d483-747e8225d38e"
      },
      "execution_count": 14,
      "outputs": [
        {
          "output_type": "stream",
          "name": "stdout",
          "text": [
            "['bread', 'egg', 'chocolate']\n"
          ]
        }
      ]
    },
    {
      "cell_type": "markdown",
      "source": [
        "Nested lists"
      ],
      "metadata": {
        "id": "HPm5sM8e7ffK"
      }
    },
    {
      "cell_type": "code",
      "source": [
        "lists = [[5,6,7], [32,35,40], [11,15,18]]\n",
        "print(lists)\n"
      ],
      "metadata": {
        "colab": {
          "base_uri": "https://localhost:8080/"
        },
        "id": "rBihfHhM7ktV",
        "outputId": "f762c102-edba-4851-b062-645f76da689a"
      },
      "execution_count": 2,
      "outputs": [
        {
          "output_type": "stream",
          "name": "stdout",
          "text": [
            "[[5, 6, 7], [32, 35, 40], [11, 15, 18]]\n"
          ]
        }
      ]
    },
    {
      "cell_type": "code",
      "source": [
        "c = lists[0]\n",
        "print(c)"
      ],
      "metadata": {
        "colab": {
          "base_uri": "https://localhost:8080/"
        },
        "id": "wjL6hexLnp8K",
        "outputId": "e7a8c5bf-d114-4ac3-a86a-e62d22b7a246"
      },
      "execution_count": 4,
      "outputs": [
        {
          "output_type": "stream",
          "name": "stdout",
          "text": [
            "[5, 6, 7]\n"
          ]
        }
      ]
    },
    {
      "cell_type": "code",
      "source": [
        "e = c[0]\n",
        "print(e)"
      ],
      "metadata": {
        "colab": {
          "base_uri": "https://localhost:8080/"
        },
        "id": "POoRfU54nvhE",
        "outputId": "e0c4f461-5068-4e36-d365-a3eb566d0068"
      },
      "execution_count": 5,
      "outputs": [
        {
          "output_type": "stream",
          "name": "stdout",
          "text": [
            "5\n"
          ]
        }
      ]
    },
    {
      "cell_type": "markdown",
      "source": [
        "Operations with lists"
      ],
      "metadata": {
        "id": "Zoex43-5oQQk"
      }
    },
    {
      "cell_type": "code",
      "source": [
        "lists = [[5,6,7], [32,35,40], [11,15,18]]\n",
        "print(lists)"
      ],
      "metadata": {
        "colab": {
          "base_uri": "https://localhost:8080/"
        },
        "id": "Y9wKkmcroSlj",
        "outputId": "b99bf639-932c-4149-9373-b6e17a66658f"
      },
      "execution_count": 7,
      "outputs": [
        {
          "output_type": "stream",
          "name": "stdout",
          "text": [
            "[[5, 6, 7], [32, 35, 40], [11, 15, 18]]\n"
          ]
        }
      ]
    },
    {
      "cell_type": "code",
      "source": [
        "c = lists[0][0]\n",
        "print(c)"
      ],
      "metadata": {
        "colab": {
          "base_uri": "https://localhost:8080/"
        },
        "id": "MaKO0jFhokpU",
        "outputId": "22fb9831-9a53-4442-e23b-17445c5895ac"
      },
      "execution_count": 8,
      "outputs": [
        {
          "output_type": "stream",
          "name": "stdout",
          "text": [
            "5\n"
          ]
        }
      ]
    },
    {
      "cell_type": "code",
      "source": [
        "d = lists[1][2]\n",
        "print(d)"
      ],
      "metadata": {
        "colab": {
          "base_uri": "https://localhost:8080/"
        },
        "id": "a3opAX29os0e",
        "outputId": "50683fb4-1a78-4db0-9c23-d3cbd7db7a0c"
      },
      "execution_count": 10,
      "outputs": [
        {
          "output_type": "stream",
          "name": "stdout",
          "text": [
            "40\n"
          ]
        }
      ]
    },
    {
      "cell_type": "code",
      "source": [
        "e = lists[0][2] + 50\n",
        "print(e)"
      ],
      "metadata": {
        "colab": {
          "base_uri": "https://localhost:8080/"
        },
        "id": "T1iqp8OzpBNx",
        "outputId": "fc907012-4bbe-44be-f5e9-b01855b2f2a8"
      },
      "execution_count": 11,
      "outputs": [
        {
          "output_type": "stream",
          "name": "stdout",
          "text": [
            "57\n"
          ]
        }
      ]
    },
    {
      "cell_type": "code",
      "source": [
        "f = 20"
      ],
      "metadata": {
        "id": "4g3aEqKPpN-v"
      },
      "execution_count": 12,
      "outputs": []
    },
    {
      "cell_type": "code",
      "source": [
        "h = f * lists[0][2]\n",
        "print(h)"
      ],
      "metadata": {
        "colab": {
          "base_uri": "https://localhost:8080/"
        },
        "id": "u_7DSeXHpQYf",
        "outputId": "96b96802-e60a-47d4-8b03-5987a0cdba0f"
      },
      "execution_count": 13,
      "outputs": [
        {
          "output_type": "stream",
          "name": "stdout",
          "text": [
            "140\n"
          ]
        }
      ]
    },
    {
      "cell_type": "markdown",
      "source": [
        "Concatenating lists"
      ],
      "metadata": {
        "id": "IZZyCeJxpwAG"
      }
    },
    {
      "cell_type": "code",
      "source": [
        "list1 = [0, 1, 2]\n",
        "list2 = [5, 6, 7]\n",
        "list3 = list1 + list2\n",
        "print(list3)"
      ],
      "metadata": {
        "colab": {
          "base_uri": "https://localhost:8080/"
        },
        "id": "KnnmW3djpx73",
        "outputId": "ab5f0d93-0cfe-414c-aed0-46fe0ba326a8"
      },
      "execution_count": 14,
      "outputs": [
        {
          "output_type": "stream",
          "name": "stdout",
          "text": [
            "[0, 1, 2, 5, 6, 7]\n"
          ]
        }
      ]
    },
    {
      "cell_type": "markdown",
      "source": [
        "In operator"
      ],
      "metadata": {
        "id": "vFENsRPMqNqn"
      }
    },
    {
      "cell_type": "code",
      "source": [
        "list4 = [0, 5.9, 50.5, 100]\n",
        "print(5 in list4)"
      ],
      "metadata": {
        "colab": {
          "base_uri": "https://localhost:8080/"
        },
        "id": "_yMYdrhNqPfk",
        "outputId": "d791f6ab-af98-433a-ad8e-ca3b0574e833"
      },
      "execution_count": 15,
      "outputs": [
        {
          "output_type": "stream",
          "name": "stdout",
          "text": [
            "False\n"
          ]
        }
      ]
    },
    {
      "cell_type": "code",
      "source": [
        "list5 = [20, 40, 90, 80]\n",
        "print(90 in list5)"
      ],
      "metadata": {
        "colab": {
          "base_uri": "https://localhost:8080/"
        },
        "id": "y18xz51eqiKO",
        "outputId": "dd22b282-c498-4b99-9e89-47b54da8b7e7"
      },
      "execution_count": 16,
      "outputs": [
        {
          "output_type": "stream",
          "name": "stdout",
          "text": [
            "True\n"
          ]
        }
      ]
    },
    {
      "cell_type": "markdown",
      "source": [
        "Built-in functions"
      ],
      "metadata": {
        "id": "ioFDdoXVqsLb"
      }
    },
    {
      "cell_type": "code",
      "source": [
        "# list length \n",
        "\n",
        "list6 = [23, 87, 10, 150, 200]\n",
        "len(list6)"
      ],
      "metadata": {
        "colab": {
          "base_uri": "https://localhost:8080/"
        },
        "id": "RH9uQ3ghqvT4",
        "outputId": "14400f3c-9abf-4985-be43-089a53c62601"
      },
      "execution_count": 18,
      "outputs": [
        {
          "output_type": "execute_result",
          "data": {
            "text/plain": [
              "5"
            ]
          },
          "metadata": {},
          "execution_count": 18
        }
      ]
    },
    {
      "cell_type": "code",
      "source": [
        "# Return the maximum of the list\n",
        "\n",
        "max (list6)"
      ],
      "metadata": {
        "colab": {
          "base_uri": "https://localhost:8080/"
        },
        "id": "N0sIiVH2sMp3",
        "outputId": "d74dc09b-87ce-414b-e03c-0997e47081e9"
      },
      "execution_count": 19,
      "outputs": [
        {
          "output_type": "execute_result",
          "data": {
            "text/plain": [
              "200"
            ]
          },
          "metadata": {},
          "execution_count": 19
        }
      ]
    },
    {
      "cell_type": "code",
      "source": [
        "# Return the minimum of the list\n",
        "\n",
        "min (list6)"
      ],
      "metadata": {
        "colab": {
          "base_uri": "https://localhost:8080/"
        },
        "id": "DNNLfVDpsprb",
        "outputId": "9679ae60-6b9e-427a-ccbb-5034623d4e7c"
      },
      "execution_count": 20,
      "outputs": [
        {
          "output_type": "execute_result",
          "data": {
            "text/plain": [
              "10"
            ]
          },
          "metadata": {},
          "execution_count": 20
        }
      ]
    },
    {
      "cell_type": "code",
      "source": [
        "shoppinglist = ['egg', 'potato', 'bread', 'apple', 'butter']"
      ],
      "metadata": {
        "id": "UBEiSXhtswY_"
      },
      "execution_count": 21,
      "outputs": []
    },
    {
      "cell_type": "code",
      "source": [
        "# Adding item to list\n",
        "\n",
        "shoppinglist.append('meat')"
      ],
      "metadata": {
        "id": "3mgHbO-ls92T"
      },
      "execution_count": 22,
      "outputs": []
    },
    {
      "cell_type": "code",
      "source": [
        "shoppinglist"
      ],
      "metadata": {
        "colab": {
          "base_uri": "https://localhost:8080/"
        },
        "id": "ERa4DfF2tW1U",
        "outputId": "f4ad285b-e59a-48d4-83b0-a16ce6d83643"
      },
      "execution_count": 23,
      "outputs": [
        {
          "output_type": "execute_result",
          "data": {
            "text/plain": [
              "['egg', 'potato', 'bread', 'apple', 'butter', 'meat']"
            ]
          },
          "metadata": {},
          "execution_count": 23
        }
      ]
    },
    {
      "cell_type": "code",
      "source": [
        "# Counting how many times the element is in the list\n",
        "\n",
        "shoppinglist.count('bread')"
      ],
      "metadata": {
        "colab": {
          "base_uri": "https://localhost:8080/"
        },
        "id": "1O8PKqsQtum5",
        "outputId": "4f652eb2-fbed-465c-8806-3bf298a38fb1"
      },
      "execution_count": 24,
      "outputs": [
        {
          "output_type": "execute_result",
          "data": {
            "text/plain": [
              "1"
            ]
          },
          "metadata": {},
          "execution_count": 24
        }
      ]
    },
    {
      "cell_type": "code",
      "source": [
        "# Creating an empty list\n",
        "\n",
        "a = []\n",
        "print(a)"
      ],
      "metadata": {
        "colab": {
          "base_uri": "https://localhost:8080/"
        },
        "id": "KIiv2oAQwLcI",
        "outputId": "f2c41f96-8dfe-4aa2-c48f-a4696dcbf088"
      },
      "execution_count": 26,
      "outputs": [
        {
          "output_type": "stream",
          "name": "stdout",
          "text": [
            "[]\n"
          ]
        }
      ]
    },
    {
      "cell_type": "code",
      "source": [
        "type(a)"
      ],
      "metadata": {
        "colab": {
          "base_uri": "https://localhost:8080/"
        },
        "id": "B6o1QfLpwYIr",
        "outputId": "7d87b57a-e6b9-4430-d1d1-b4a644369670"
      },
      "execution_count": 27,
      "outputs": [
        {
          "output_type": "execute_result",
          "data": {
            "text/plain": [
              "list"
            ]
          },
          "metadata": {},
          "execution_count": 27
        }
      ]
    },
    {
      "cell_type": "code",
      "source": [
        "a.append(100)\n",
        "print(a)"
      ],
      "metadata": {
        "colab": {
          "base_uri": "https://localhost:8080/"
        },
        "id": "kee7yb6Vwiof",
        "outputId": "07f7fc82-966b-4520-ddf4-65a0e692de97"
      },
      "execution_count": 28,
      "outputs": [
        {
          "output_type": "stream",
          "name": "stdout",
          "text": [
            "[100]\n"
          ]
        }
      ]
    },
    {
      "cell_type": "code",
      "source": [
        "a.append(50)\n",
        "print(a)"
      ],
      "metadata": {
        "colab": {
          "base_uri": "https://localhost:8080/"
        },
        "id": "jIB0b2kgwpFl",
        "outputId": "3387507f-9bee-474c-c74f-b2ce147e496f"
      },
      "execution_count": 29,
      "outputs": [
        {
          "output_type": "stream",
          "name": "stdout",
          "text": [
            "[100, 50]\n"
          ]
        }
      ]
    },
    {
      "cell_type": "code",
      "source": [
        "oldlist = [0, 1, 2, 3]"
      ],
      "metadata": {
        "id": "1AADtoJ7wzfF"
      },
      "execution_count": 30,
      "outputs": []
    },
    {
      "cell_type": "code",
      "source": [
        "newlist = []"
      ],
      "metadata": {
        "id": "VP2Igxcuw5SO"
      },
      "execution_count": 31,
      "outputs": []
    },
    {
      "cell_type": "code",
      "source": [
        "# Copying items from one list to another\n",
        "\n",
        "for i in oldlist:\n",
        "  newlist.append(i)\n",
        "print(newlist)  "
      ],
      "metadata": {
        "colab": {
          "base_uri": "https://localhost:8080/"
        },
        "id": "SqTPwRTkw9NI",
        "outputId": "1a307054-dd3c-4e1b-fc2c-378c1152ab1f"
      },
      "execution_count": 32,
      "outputs": [
        {
          "output_type": "stream",
          "name": "stdout",
          "text": [
            "[0, 1, 2, 3]\n"
          ]
        }
      ]
    },
    {
      "cell_type": "code",
      "source": [
        "cities = ['London', 'New York', 'Las Vegas', 'Chicago']\n",
        "cities.extend(['Lisbon', 'Rio de Janeiro'])\n",
        "print(cities)"
      ],
      "metadata": {
        "colab": {
          "base_uri": "https://localhost:8080/"
        },
        "id": "LmBAeysJzvok",
        "outputId": "8ba37b92-62be-4d64-d378-161939dc55e7"
      },
      "execution_count": 38,
      "outputs": [
        {
          "output_type": "stream",
          "name": "stdout",
          "text": [
            "['London', 'New York', 'Las Vegas', 'Chicago', 'Lisbon', 'Rio de Janeiro']\n"
          ]
        }
      ]
    },
    {
      "cell_type": "code",
      "source": [
        "cities.index('Chicago')"
      ],
      "metadata": {
        "colab": {
          "base_uri": "https://localhost:8080/"
        },
        "id": "HEH3TBz60QzD",
        "outputId": "0de8d066-6bde-4ae1-facd-25492934be6c"
      },
      "execution_count": 39,
      "outputs": [
        {
          "output_type": "execute_result",
          "data": {
            "text/plain": [
              "3"
            ]
          },
          "metadata": {},
          "execution_count": 39
        }
      ]
    },
    {
      "cell_type": "code",
      "source": [
        "cities.insert(1, 'São Paulo')\n",
        "print(cities)"
      ],
      "metadata": {
        "colab": {
          "base_uri": "https://localhost:8080/"
        },
        "id": "bQDTIAp60eMY",
        "outputId": "a131b9ac-7233-44a1-f8fc-5c6c8a7773c6"
      },
      "execution_count": 40,
      "outputs": [
        {
          "output_type": "stream",
          "name": "stdout",
          "text": [
            "['London', 'São Paulo', 'New York', 'Las Vegas', 'Chicago', 'Lisbon', 'Rio de Janeiro']\n"
          ]
        }
      ]
    },
    {
      "cell_type": "code",
      "source": [
        "cities.remove('Rio de Janeiro')\n",
        "print(cities)"
      ],
      "metadata": {
        "colab": {
          "base_uri": "https://localhost:8080/"
        },
        "id": "u_C5vwKG0sWV",
        "outputId": "a29f2f90-0d13-4318-cb76-ff13e45d09b8"
      },
      "execution_count": 41,
      "outputs": [
        {
          "output_type": "stream",
          "name": "stdout",
          "text": [
            "['London', 'São Paulo', 'New York', 'Las Vegas', 'Chicago', 'Lisbon']\n"
          ]
        }
      ]
    },
    {
      "cell_type": "code",
      "source": [
        "cities.reverse()\n",
        "print(cities)"
      ],
      "metadata": {
        "colab": {
          "base_uri": "https://localhost:8080/"
        },
        "id": "oqNw5M9B0yi3",
        "outputId": "a4cfe7aa-c0a3-470f-d4bb-5061b13570eb"
      },
      "execution_count": 42,
      "outputs": [
        {
          "output_type": "stream",
          "name": "stdout",
          "text": [
            "['Lisbon', 'Chicago', 'Las Vegas', 'New York', 'São Paulo', 'London']\n"
          ]
        }
      ]
    },
    {
      "cell_type": "code",
      "source": [
        "y = [ 2, 6, 1, 3, 8]\n",
        "\n",
        "y.sort()\n",
        "\n",
        "print(y)"
      ],
      "metadata": {
        "colab": {
          "base_uri": "https://localhost:8080/"
        },
        "id": "ZAfi5N5a07ou",
        "outputId": "fb79b958-4f3f-4399-e438-d7c25ffa01af"
      },
      "execution_count": 43,
      "outputs": [
        {
          "output_type": "stream",
          "name": "stdout",
          "text": [
            "[1, 2, 3, 6, 8]\n"
          ]
        }
      ]
    }
  ]
}