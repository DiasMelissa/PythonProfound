{
  "nbformat": 4,
  "nbformat_minor": 0,
  "metadata": {
    "colab": {
      "name": "Script10.ipynb",
      "provenance": [],
      "authorship_tag": "ABX9TyMsNSqgk1PMmNyXkOMBTyVI",
      "include_colab_link": true
    },
    "kernelspec": {
      "name": "python3",
      "display_name": "Python 3"
    },
    "language_info": {
      "name": "python"
    }
  },
  "cells": [
    {
      "cell_type": "markdown",
      "metadata": {
        "id": "view-in-github",
        "colab_type": "text"
      },
      "source": [
        "<a href=\"https://colab.research.google.com/github/DiasMelissa/DiasMelissa/blob/main/Script10.ipynb\" target=\"_parent\"><img src=\"https://colab.research.google.com/assets/colab-badge.svg\" alt=\"Open In Colab\"/></a>"
      ]
    },
    {
      "cell_type": "markdown",
      "source": [
        "# **Modules and packages**\n",
        "\n",
        "Modules are many programs to facilitate maintenance of a big function.\n",
        "Files with extension **.py** that implement a set of functions.\n",
        "\n",
        "Example:\n",
        "\n",
        "import math\n",
        "\n",
        "It's possible to specify:\n",
        "\n",
        "from math import sqrt\n",
        "\n",
        "Obs: to check modules and packages in anaconda use:\n",
        "\n",
        "conda list\n",
        "\n",
        "To install modules and packages in anaconda use:\n",
        "\n",
        "conda install modulename\n",
        "\n",
        "or\n",
        "\n",
        "pip install modulename\n",
        "\n",
        "Packages are a form to strucuture the python modules. It's a directory of modules that contain only one script __init__.py. Module is only one file in Python.\n",
        "\n",
        "import module\n",
        "import package.module\n",
        "\n",
        "Pypi is a repository where you find out information about python packages."
      ],
      "metadata": {
        "id": "MYxcvBLPwOU2"
      }
    },
    {
      "cell_type": "code",
      "execution_count": null,
      "metadata": {
        "id": "MojUiKpvwMDA"
      },
      "outputs": [],
      "source": [
        "import math"
      ]
    }
  ]
}