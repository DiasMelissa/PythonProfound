{
  "nbformat": 4,
  "nbformat_minor": 0,
  "metadata": {
    "colab": {
      "name": "Script07.ipynb",
      "provenance": [],
      "authorship_tag": "ABX9TyPiRUub0drDRwAwD64qFfk3",
      "include_colab_link": true
    },
    "kernelspec": {
      "name": "python3",
      "display_name": "Python 3"
    },
    "language_info": {
      "name": "python"
    }
  },
  "cells": [
    {
      "cell_type": "markdown",
      "metadata": {
        "id": "view-in-github",
        "colab_type": "text"
      },
      "source": [
        "<a href=\"https://colab.research.google.com/github/DiasMelissa/DiasMelissa/blob/main/Script07.ipynb\" target=\"_parent\"><img src=\"https://colab.research.google.com/assets/colab-badge.svg\" alt=\"Open In Colab\"/></a>"
      ]
    },
    {
      "cell_type": "markdown",
      "source": [
        "# **Files**\n",
        "\n",
        "\n",
        "Create a file called arquivo1.txt with the following sentence:\n",
        "Testando gravação de arquivos em Python  Acrescentando conteúdo"
      ],
      "metadata": {
        "id": "Ip7r1Zwl0eeu"
      }
    },
    {
      "cell_type": "markdown",
      "source": [
        "Reading the file"
      ],
      "metadata": {
        "id": "pUF26GqzCFz5"
      }
    },
    {
      "cell_type": "code",
      "execution_count": 5,
      "metadata": {
        "id": "0NCCPafE0ceR"
      },
      "outputs": [],
      "source": [
        "file1 = open(\"/content/arquivo1.txt\", \"r\")"
      ]
    },
    {
      "cell_type": "code",
      "source": [
        "print(file1.read())"
      ],
      "metadata": {
        "colab": {
          "base_uri": "https://localhost:8080/"
        },
        "id": "N6UwW-MVDCuh",
        "outputId": "617e225c-f109-47d5-fc77-8a7a4c29bd9c"
      },
      "execution_count": 6,
      "outputs": [
        {
          "output_type": "stream",
          "name": "stdout",
          "text": [
            "Testando gravação de arquivos em Python  Acrescentando conteúdo\n"
          ]
        }
      ]
    },
    {
      "cell_type": "code",
      "source": [
        "# Count characters\n",
        "print(file1.tell())"
      ],
      "metadata": {
        "colab": {
          "base_uri": "https://localhost:8080/"
        },
        "id": "ND8OoTZmDZMM",
        "outputId": "59a149b7-3812-4c13-8baa-050bf7cee14d"
      },
      "execution_count": 7,
      "outputs": [
        {
          "output_type": "stream",
          "name": "stdout",
          "text": [
            "66\n"
          ]
        }
      ]
    },
    {
      "cell_type": "code",
      "source": [
        "# Return to a point in the file\n",
        "print(file1.seek(0,0))"
      ],
      "metadata": {
        "colab": {
          "base_uri": "https://localhost:8080/"
        },
        "id": "d8-kPXTcEAXJ",
        "outputId": "59bfef7d-ce6c-476c-fb9c-091e6b758c78"
      },
      "execution_count": 8,
      "outputs": [
        {
          "output_type": "stream",
          "name": "stdout",
          "text": [
            "0\n"
          ]
        }
      ]
    },
    {
      "cell_type": "code",
      "source": [
        "print(file1.read(20))"
      ],
      "metadata": {
        "colab": {
          "base_uri": "https://localhost:8080/"
        },
        "id": "Uir0m8FmEZRQ",
        "outputId": "0ee726ab-a289-467b-9359-050c29777f13"
      },
      "execution_count": 9,
      "outputs": [
        {
          "output_type": "stream",
          "name": "stdout",
          "text": [
            "Testando gravação de\n"
          ]
        }
      ]
    },
    {
      "cell_type": "markdown",
      "source": [
        "Writing files"
      ],
      "metadata": {
        "id": "SEU94GIIE41D"
      }
    },
    {
      "cell_type": "code",
      "source": [
        "file2 = open(\"/content/arquivo1.txt\", \"w\")"
      ],
      "metadata": {
        "id": "yRi2KIo-E6Qu"
      },
      "execution_count": 10,
      "outputs": []
    },
    {
      "cell_type": "code",
      "source": [
        "file2.write(\"Testing\")"
      ],
      "metadata": {
        "colab": {
          "base_uri": "https://localhost:8080/"
        },
        "id": "FC7koTHtGhAQ",
        "outputId": "5516d211-591a-4c58-d585-3304b325f50c"
      },
      "execution_count": 11,
      "outputs": [
        {
          "output_type": "execute_result",
          "data": {
            "text/plain": [
              "7"
            ]
          },
          "metadata": {},
          "execution_count": 11
        }
      ]
    },
    {
      "cell_type": "code",
      "source": [
        "file2.close()"
      ],
      "metadata": {
        "id": "qsmRYoEfGtV3"
      },
      "execution_count": 12,
      "outputs": []
    },
    {
      "cell_type": "code",
      "source": [
        "file2 = open(\"/content/arquivo1.txt\", \"r\")"
      ],
      "metadata": {
        "id": "nLKzT7lBG8D1"
      },
      "execution_count": 13,
      "outputs": []
    },
    {
      "cell_type": "code",
      "source": [
        "print(file2.read())"
      ],
      "metadata": {
        "colab": {
          "base_uri": "https://localhost:8080/"
        },
        "id": "YR14NdzuHFPw",
        "outputId": "cecad9f7-37d8-4f30-ee6f-ec84e9d82224"
      },
      "execution_count": 14,
      "outputs": [
        {
          "output_type": "stream",
          "name": "stdout",
          "text": [
            "Testing\n"
          ]
        }
      ]
    },
    {
      "cell_type": "markdown",
      "source": [
        "Adding content"
      ],
      "metadata": {
        "id": "lnHLb9ODHkC7"
      }
    },
    {
      "cell_type": "code",
      "source": [
        "file3 = open(\"/content/arquivo1.txt\", \"a\")"
      ],
      "metadata": {
        "id": "YCXHpRXmHlVq"
      },
      "execution_count": 20,
      "outputs": []
    },
    {
      "cell_type": "code",
      "source": [
        "file3.write(\"\\n Python is a powerful tool\")"
      ],
      "metadata": {
        "colab": {
          "base_uri": "https://localhost:8080/"
        },
        "id": "HCWblxT8Huk6",
        "outputId": "5556c24d-bba9-4967-f1f4-be9aa0f938dd"
      },
      "execution_count": 21,
      "outputs": [
        {
          "output_type": "execute_result",
          "data": {
            "text/plain": [
              "27"
            ]
          },
          "metadata": {},
          "execution_count": 21
        }
      ]
    },
    {
      "cell_type": "code",
      "source": [
        "file3.close()"
      ],
      "metadata": {
        "id": "IR6TW2mwH7jt"
      },
      "execution_count": 22,
      "outputs": []
    },
    {
      "cell_type": "code",
      "source": [
        "file3 = open(\"/content/arquivo1.txt\", \"r\")"
      ],
      "metadata": {
        "id": "O1DhgEYwICsi"
      },
      "execution_count": 23,
      "outputs": []
    },
    {
      "cell_type": "code",
      "source": [
        "print(file3.read())"
      ],
      "metadata": {
        "colab": {
          "base_uri": "https://localhost:8080/"
        },
        "id": "S6bIjKPqIKBF",
        "outputId": "8f43db5b-5186-4470-d71a-886a7671b0c9"
      },
      "execution_count": 24,
      "outputs": [
        {
          "output_type": "stream",
          "name": "stdout",
          "text": [
            "TestingPython is a powerful tool\n",
            " Python is a powerful tool\n"
          ]
        }
      ]
    },
    {
      "cell_type": "code",
      "source": [
        "print(file3.seek(0,0))"
      ],
      "metadata": {
        "colab": {
          "base_uri": "https://localhost:8080/"
        },
        "id": "HrMUZZqzIazk",
        "outputId": "4a31cbf3-02d2-4dcb-82db-4689b2da2fd3"
      },
      "execution_count": 27,
      "outputs": [
        {
          "output_type": "stream",
          "name": "stdout",
          "text": [
            "0\n"
          ]
        }
      ]
    },
    {
      "cell_type": "code",
      "source": [
        "print(file3.read(12))"
      ],
      "metadata": {
        "colab": {
          "base_uri": "https://localhost:8080/"
        },
        "id": "rYVsu8xbIsXN",
        "outputId": "d52e2148-f1f7-4e8b-9e6f-2d90b9ecdb0f"
      },
      "execution_count": 31,
      "outputs": [
        {
          "output_type": "stream",
          "name": "stdout",
          "text": [
            "hon is a pow\n"
          ]
        }
      ]
    }
  ]
}