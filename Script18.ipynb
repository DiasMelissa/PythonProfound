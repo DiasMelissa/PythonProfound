{
  "nbformat": 4,
  "nbformat_minor": 0,
  "metadata": {
    "colab": {
      "name": "Script18.ipynb",
      "provenance": [],
      "authorship_tag": "ABX9TyOd8b/ReV1q/ZhH8wQUNtsy",
      "include_colab_link": true
    },
    "kernelspec": {
      "name": "python3",
      "display_name": "Python 3"
    },
    "language_info": {
      "name": "python"
    }
  },
  "cells": [
    {
      "cell_type": "markdown",
      "metadata": {
        "id": "view-in-github",
        "colab_type": "text"
      },
      "source": [
        "<a href=\"https://colab.research.google.com/github/DiasMelissa/DiasMelissa/blob/main/Script18.ipynb\" target=\"_parent\"><img src=\"https://colab.research.google.com/assets/colab-badge.svg\" alt=\"Open In Colab\"/></a>"
      ]
    },
    {
      "cell_type": "markdown",
      "source": [
        "# **SciPy**\n",
        "\n",
        "It is a collection of packages dealing with scientific computing problems."
      ],
      "metadata": {
        "id": "vHynefp5fMGy"
      }
    },
    {
      "cell_type": "code",
      "execution_count": null,
      "metadata": {
        "id": "c3YSzBeTfKV8"
      },
      "outputs": [],
      "source": [
        ""
      ]
    }
  ]
}