{
  "nbformat": 4,
  "nbformat_minor": 0,
  "metadata": {
    "colab": {
      "name": "Script14.ipynb",
      "provenance": [],
      "authorship_tag": "ABX9TyNtaN9bzPuwMQ4Tq8ywvjRR",
      "include_colab_link": true
    },
    "kernelspec": {
      "name": "python3",
      "display_name": "Python 3"
    },
    "language_info": {
      "name": "python"
    }
  },
  "cells": [
    {
      "cell_type": "markdown",
      "metadata": {
        "id": "view-in-github",
        "colab_type": "text"
      },
      "source": [
        "<a href=\"https://colab.research.google.com/github/DiasMelissa/DiasMelissa/blob/main/Script14.ipynb\" target=\"_parent\"><img src=\"https://colab.research.google.com/assets/colab-badge.svg\" alt=\"Open In Colab\"/></a>"
      ]
    },
    {
      "cell_type": "markdown",
      "source": [
        "# **Creating database and inserting data**"
      ],
      "metadata": {
        "id": "6yMGPlVFgQEg"
      }
    },
    {
      "cell_type": "code",
      "execution_count": 1,
      "metadata": {
        "id": "-cQzLPqigJwk"
      },
      "outputs": [],
      "source": [
        "import os\n",
        "os.remove('dsa.db') if os.path.exists('dsa.db') else None"
      ]
    },
    {
      "cell_type": "code",
      "source": [
        ""
      ],
      "metadata": {
        "id": "PW5-zYK7wL8m"
      },
      "execution_count": null,
      "outputs": []
    }
  ]
}