{
  "nbformat": 4,
  "nbformat_minor": 0,
  "metadata": {
    "colab": {
      "name": "Script14.ipynb",
      "provenance": [],
      "toc_visible": true,
      "authorship_tag": "ABX9TyNHDfiiNYqvaWhUiLEad25N",
      "include_colab_link": true
    },
    "kernelspec": {
      "name": "python3",
      "display_name": "Python 3"
    },
    "language_info": {
      "name": "python"
    }
  },
  "cells": [
    {
      "cell_type": "markdown",
      "metadata": {
        "id": "view-in-github",
        "colab_type": "text"
      },
      "source": [
        "<a href=\"https://colab.research.google.com/github/DiasMelissa/DiasMelissa/blob/main/Script14.ipynb\" target=\"_parent\"><img src=\"https://colab.research.google.com/assets/colab-badge.svg\" alt=\"Open In Colab\"/></a>"
      ]
    },
    {
      "cell_type": "markdown",
      "source": [
        "# **Creating database and inserting data**"
      ],
      "metadata": {
        "id": "6yMGPlVFgQEg"
      }
    },
    {
      "cell_type": "code",
      "execution_count": 38,
      "metadata": {
        "id": "-cQzLPqigJwk"
      },
      "outputs": [],
      "source": [
        "import os\n",
        "os.remove('dsa.db') if os.path.exists('dsa.db') else None"
      ]
    },
    {
      "cell_type": "code",
      "source": [
        "import sqlite3\n",
        "\n",
        "conection = sqlite3.connect('dsa.db')\n",
        "\n",
        "c = conection.cursor()\n",
        "\n",
        "def create_table():\n",
        "  c.execute('CREATE TABLE IF NOT EXISTS products(id INTEGER PRIMARY KEY AUTOINCREMENT NOT NULL, date TEXT, '\\\n",
        "            'prod_name TEXT, value REAL)' ) \n",
        "def data_insert():\n",
        "  c.execute(\"INSERT INTO products VALUES(10, '2022-05-02 18:52:10','Keyboard', 90)\")\n",
        "  conection.commit()\n",
        "  c.close()\n",
        "  conection.close()"
      ],
      "metadata": {
        "id": "PW5-zYK7wL8m"
      },
      "execution_count": 39,
      "outputs": []
    },
    {
      "cell_type": "code",
      "source": [
        "create_table()"
      ],
      "metadata": {
        "id": "2mEU6FFlzxxB"
      },
      "execution_count": 40,
      "outputs": []
    },
    {
      "cell_type": "code",
      "source": [
        "data_insert()"
      ],
      "metadata": {
        "id": "HXl6UcaIz5G2"
      },
      "execution_count": 41,
      "outputs": []
    },
    {
      "cell_type": "markdown",
      "source": [
        "# **Entering data using variables**"
      ],
      "metadata": {
        "id": "MEPb_tbC0Kiy"
      }
    },
    {
      "cell_type": "code",
      "source": [
        "import sqlite3\n",
        "import random\n",
        "import time\n",
        "import datetime\n",
        "\n",
        "conn = sqlite3.connect('dsa.db')\n",
        "\n",
        "c = conn.cursor()\n",
        "\n",
        "def create_table():\n",
        "  c.execute('CREATE TABLE IF NOT EXISTS produtos(id INTEGER PRIMARY KEY AUTOINCREMENT NOT NULL, date TEXT, '\\\n",
        "            'prod_name TEXT, valor REAL)' ) \n",
        "def data_insert():\n",
        "  c.execute(\"INSERT INTO produtos VALUES('2018-05-02 12:34:45','Keyboard', 130.00)\")\n",
        "  conn.commit()\n",
        "  c.close()\n",
        "  conn.close()\n",
        "\n",
        "def data_insert_var():\n",
        "  new_date = datetime.datetime.now()\n",
        "  new_prod_name = 'Monitor'\n",
        "  new_valor = random.randrange(10, 50)\n",
        "  c.execute(\"INSERT INTO produtos (date, prod_name, valor) VALUES(?, ?, ?)\", (new_date, new_prod_name, new_valor))\n",
        "  conn.commit()  "
      ],
      "metadata": {
        "id": "_LI4p6DS0S2M"
      },
      "execution_count": 50,
      "outputs": []
    },
    {
      "cell_type": "code",
      "source": [
        "for i in range(10):\n",
        "  data_insert_var()\n",
        "  time.sleep(1)"
      ],
      "metadata": {
        "id": "MtBg5jp45t4d"
      },
      "execution_count": 51,
      "outputs": []
    },
    {
      "cell_type": "code",
      "source": [
        "c.close()\n",
        "conn.close()"
      ],
      "metadata": {
        "id": "Ukl-3P2d6qim"
      },
      "execution_count": 52,
      "outputs": []
    },
    {
      "cell_type": "markdown",
      "source": [
        "# **Data reading**"
      ],
      "metadata": {
        "id": "OLo0il5d7Wyd"
      }
    },
    {
      "cell_type": "code",
      "source": [
        "import sqlite3\n",
        "import random\n",
        "import time\n",
        "import datetime\n",
        "\n",
        "conn = sqlite3.connect('dsa.db')\n",
        "\n",
        "c = conn.cursor()\n",
        "\n",
        "def create_table():\n",
        "  c.execute('CREATE TABLE IF NOT EXISTS produtos(id INTEGER PRIMARY KEY AUTOINCREMENT NOT NULL, date TEXT, '\\\n",
        "            'prod_name TEXT, valor REAL)' ) \n",
        "def data_insert():\n",
        "  c.execute(\"INSERT INTO produtos VALUES('2018-05-02 12:34:45','Keyboard', 130.00)\")\n",
        "  conn.commit()\n",
        "  c.close()\n",
        "  conn.close()\n",
        "\n",
        "def data_insert_var():\n",
        "  new_date = datetime.datetime.now()\n",
        "  new_prod_name = 'Monitor'\n",
        "  new_valor = random.randrange(10, 50)\n",
        "  c.execute(\"INSERT INTO produtos (date, prod_name, valor) VALUES(?, ?, ?)\", (new_date, new_prod_name, new_valor))\n",
        "  conn.commit()  \n",
        "\n",
        "def lecture_all_data():\n",
        "  c.execute(\"SELECT * FROM PRODUTOS\")\n",
        "  for line in c.fetchall():\n",
        "    print(line)\n",
        "\n",
        "def lecture_all_data():\n",
        "  c.execute(\"SELECT * FROM PRODUTOS\")\n",
        "  for line in c.fetchall():\n",
        "    print(line)\n",
        "\n",
        "def lecture_records():\n",
        "  c.execute(\"SELECT * FROM PRODUTOS WHERE valor > 60.0\")\n",
        "  for line in c.fetchall():\n",
        "    print(line)\n",
        "\n",
        "def lecture_columns():\n",
        "  c.execute(\"SELECT * FROM PRODUTOS\")\n",
        "  for line in c.fetchall():\n",
        "    print(line[3])"
      ],
      "metadata": {
        "id": "S4TNt0ud7ikq"
      },
      "execution_count": 53,
      "outputs": []
    },
    {
      "cell_type": "code",
      "source": [
        "lecture_all_data()"
      ],
      "metadata": {
        "id": "ASM2uZ4f9D4r",
        "outputId": "64b6f330-e64e-4a6d-f371-4e3da47cca55",
        "colab": {
          "base_uri": "https://localhost:8080/"
        }
      },
      "execution_count": 54,
      "outputs": [
        {
          "output_type": "stream",
          "name": "stdout",
          "text": [
            "(10, '2020-05-02 14:32:11', 'Teclado', 90.0)\n",
            "(11, '2021-07-06 20:51:14.475529', 'Monitor', 92.0)\n",
            "(12, '2021-07-06 20:51:15.479652', 'Monitor', 56.0)\n",
            "(14, '2021-07-06 20:51:17.491347', 'Monitor', 80.0)\n",
            "(15, '2021-07-06 20:51:18.498449', 'Monitor', 73.0)\n",
            "(16, '2021-07-06 20:51:19.503444', 'Monitor', 88.0)\n",
            "(17, '2021-07-06 20:51:20.508122', 'Monitor', 92.0)\n",
            "(18, '2021-07-06 20:51:21.511482', 'Monitor', 55.0)\n",
            "(19, '2021-07-06 20:51:22.515474', 'Monitor', 82.0)\n",
            "(20, '2021-07-06 20:51:23.520584', 'Monitor', 61.0)\n",
            "(21, '2022-07-08 22:25:56.289219', 'Monitor', 38.0)\n",
            "(22, '2022-07-08 22:25:57.298301', 'Monitor', 13.0)\n",
            "(23, '2022-07-08 22:25:58.305756', 'Monitor', 11.0)\n",
            "(24, '2022-07-08 22:25:59.313889', 'Monitor', 18.0)\n",
            "(25, '2022-07-08 22:26:00.321139', 'Monitor', 39.0)\n",
            "(26, '2022-07-08 22:26:01.330283', 'Monitor', 34.0)\n",
            "(27, '2022-07-08 22:26:02.337754', 'Monitor', 44.0)\n",
            "(28, '2022-07-08 22:26:03.345480', 'Monitor', 25.0)\n",
            "(29, '2022-07-08 22:26:04.353452', 'Monitor', 27.0)\n",
            "(30, '2022-07-08 22:26:05.360762', 'Monitor', 37.0)\n"
          ]
        }
      ]
    },
    {
      "cell_type": "code",
      "source": [
        "lecture_records()"
      ],
      "metadata": {
        "id": "wchhBP7c9Hvh",
        "outputId": "dfe0e685-28e4-4bba-c6cf-600fed713f25",
        "colab": {
          "base_uri": "https://localhost:8080/"
        }
      },
      "execution_count": 55,
      "outputs": [
        {
          "output_type": "stream",
          "name": "stdout",
          "text": [
            "(10, '2020-05-02 14:32:11', 'Teclado', 90.0)\n",
            "(11, '2021-07-06 20:51:14.475529', 'Monitor', 92.0)\n",
            "(14, '2021-07-06 20:51:17.491347', 'Monitor', 80.0)\n",
            "(15, '2021-07-06 20:51:18.498449', 'Monitor', 73.0)\n",
            "(16, '2021-07-06 20:51:19.503444', 'Monitor', 88.0)\n",
            "(17, '2021-07-06 20:51:20.508122', 'Monitor', 92.0)\n",
            "(19, '2021-07-06 20:51:22.515474', 'Monitor', 82.0)\n",
            "(20, '2021-07-06 20:51:23.520584', 'Monitor', 61.0)\n"
          ]
        }
      ]
    },
    {
      "cell_type": "code",
      "source": [
        "lecture_columns()"
      ],
      "metadata": {
        "id": "k0DOOpe79PB9",
        "outputId": "0a8b3fa8-09af-417d-e5c3-06fc428812be",
        "colab": {
          "base_uri": "https://localhost:8080/"
        }
      },
      "execution_count": 56,
      "outputs": [
        {
          "output_type": "stream",
          "name": "stdout",
          "text": [
            "90.0\n",
            "92.0\n",
            "56.0\n",
            "80.0\n",
            "73.0\n",
            "88.0\n",
            "92.0\n",
            "55.0\n",
            "82.0\n",
            "61.0\n",
            "38.0\n",
            "13.0\n",
            "11.0\n",
            "18.0\n",
            "39.0\n",
            "34.0\n",
            "44.0\n",
            "25.0\n",
            "27.0\n",
            "37.0\n"
          ]
        }
      ]
    },
    {
      "cell_type": "code",
      "source": [
        "c.close()\n",
        "conn.close()"
      ],
      "metadata": {
        "id": "Fzx5BJDI9PHZ"
      },
      "execution_count": 57,
      "outputs": []
    }
  ]
}