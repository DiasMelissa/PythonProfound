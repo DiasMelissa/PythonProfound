{
  "nbformat": 4,
  "nbformat_minor": 0,
  "metadata": {
    "colab": {
      "name": "Script05.ipynb",
      "provenance": [],
      "authorship_tag": "ABX9TyN4rdCc3yO2d7VS7CU8yUhK",
      "include_colab_link": true
    },
    "kernelspec": {
      "name": "python3",
      "display_name": "Python 3"
    },
    "language_info": {
      "name": "python"
    }
  },
  "cells": [
    {
      "cell_type": "markdown",
      "metadata": {
        "id": "view-in-github",
        "colab_type": "text"
      },
      "source": [
        "<a href=\"https://colab.research.google.com/github/DiasMelissa/DiasMelissa/blob/main/Script05.ipynb\" target=\"_parent\"><img src=\"https://colab.research.google.com/assets/colab-badge.svg\" alt=\"Open In Colab\"/></a>"
      ]
    },
    {
      "cell_type": "markdown",
      "source": [
        "# **Tuples**\n",
        "\n",
        "It's similar to list, but it's immutable.\n",
        "\n",
        "tuples = (var1, var2, ..., varn)\n",
        "\n",
        "You can't use append and del to tuples items."
      ],
      "metadata": {
        "id": "82ba-UYu8eqP"
      }
    },
    {
      "cell_type": "code",
      "execution_count": 1,
      "metadata": {
        "id": "zakVojUF8Vgx"
      },
      "outputs": [],
      "source": [
        "tuple1 = (\"History\", 30, \"English\")"
      ]
    },
    {
      "cell_type": "code",
      "source": [
        "tuple1"
      ],
      "metadata": {
        "colab": {
          "base_uri": "https://localhost:8080/"
        },
        "id": "yddhnWvQ9yqU",
        "outputId": "5a9d7ac5-3fba-4ae4-88be-60a457ff01f7"
      },
      "execution_count": 2,
      "outputs": [
        {
          "output_type": "execute_result",
          "data": {
            "text/plain": [
              "('History', 30, 'English')"
            ]
          },
          "metadata": {},
          "execution_count": 2
        }
      ]
    },
    {
      "cell_type": "code",
      "source": [
        "tuple1[0]"
      ],
      "metadata": {
        "colab": {
          "base_uri": "https://localhost:8080/",
          "height": 36
        },
        "id": "JclJdT5I-WEY",
        "outputId": "b8bf586c-8a60-426c-b700-199559fdf58d"
      },
      "execution_count": 3,
      "outputs": [
        {
          "output_type": "execute_result",
          "data": {
            "text/plain": [
              "'History'"
            ],
            "application/vnd.google.colaboratory.intrinsic+json": {
              "type": "string"
            }
          },
          "metadata": {},
          "execution_count": 3
        }
      ]
    },
    {
      "cell_type": "code",
      "source": [
        "len(tuple1)"
      ],
      "metadata": {
        "colab": {
          "base_uri": "https://localhost:8080/"
        },
        "id": "qrM8JCFp-Zxt",
        "outputId": "dd09cf87-3e4a-4cb7-df63-1e5d15043f4d"
      },
      "execution_count": 4,
      "outputs": [
        {
          "output_type": "execute_result",
          "data": {
            "text/plain": [
              "3"
            ]
          },
          "metadata": {},
          "execution_count": 4
        }
      ]
    },
    {
      "cell_type": "code",
      "source": [
        "tuple1[1:]"
      ],
      "metadata": {
        "colab": {
          "base_uri": "https://localhost:8080/"
        },
        "id": "nFoKauKA-eTP",
        "outputId": "f0ece297-32c3-4d3e-ebe7-120bd4eda90b"
      },
      "execution_count": 10,
      "outputs": [
        {
          "output_type": "execute_result",
          "data": {
            "text/plain": [
              "(30, 'English')"
            ]
          },
          "metadata": {},
          "execution_count": 10
        }
      ]
    },
    {
      "cell_type": "code",
      "source": [
        "tuple1.index('English')"
      ],
      "metadata": {
        "colab": {
          "base_uri": "https://localhost:8080/"
        },
        "id": "y_uFGR-M-uhc",
        "outputId": "3dedf731-f398-41c1-89a6-bd2bcd7d76e8"
      },
      "execution_count": 11,
      "outputs": [
        {
          "output_type": "execute_result",
          "data": {
            "text/plain": [
              "2"
            ]
          },
          "metadata": {},
          "execution_count": 11
        }
      ]
    },
    {
      "cell_type": "code",
      "source": [
        "del tuple1"
      ],
      "metadata": {
        "id": "7lRVeNuI_ARY"
      },
      "execution_count": 12,
      "outputs": []
    },
    {
      "cell_type": "code",
      "source": [
        "tuple1"
      ],
      "metadata": {
        "id": "3CSvSiw1_Fki"
      },
      "execution_count": null,
      "outputs": []
    },
    {
      "cell_type": "code",
      "source": [
        "tuple2 = (\"A\", \"B\", \"C\", \"D\", \"E\")\n",
        "print(tuple2)"
      ],
      "metadata": {
        "colab": {
          "base_uri": "https://localhost:8080/"
        },
        "id": "5wVH-Hmi_G-T",
        "outputId": "8e35e365-edd3-4b53-acab-2f3a801c6011"
      },
      "execution_count": 14,
      "outputs": [
        {
          "output_type": "stream",
          "name": "stdout",
          "text": [
            "('A', 'B', 'C', 'D', 'E')\n"
          ]
        }
      ]
    },
    {
      "cell_type": "code",
      "source": [
        "list1 = list(tuple2)\n",
        "print(list1)"
      ],
      "metadata": {
        "colab": {
          "base_uri": "https://localhost:8080/"
        },
        "id": "Hvyho_bl_buo",
        "outputId": "aeecd7a0-0ff9-463f-c17e-7bf69602b09b"
      },
      "execution_count": 16,
      "outputs": [
        {
          "output_type": "stream",
          "name": "stdout",
          "text": [
            "['A', 'B', 'C', 'D', 'E']\n"
          ]
        }
      ]
    },
    {
      "cell_type": "code",
      "source": [
        "list1.append('F')\n",
        "print(list1)"
      ],
      "metadata": {
        "colab": {
          "base_uri": "https://localhost:8080/"
        },
        "id": "ebeE5M2U_lY4",
        "outputId": "354d7f3d-472f-4e0b-f616-93c618995454"
      },
      "execution_count": 17,
      "outputs": [
        {
          "output_type": "stream",
          "name": "stdout",
          "text": [
            "['A', 'B', 'C', 'D', 'E', 'F']\n"
          ]
        }
      ]
    },
    {
      "cell_type": "code",
      "source": [
        "tuple3 = tuple(list1)\n",
        "print(tuple3)"
      ],
      "metadata": {
        "colab": {
          "base_uri": "https://localhost:8080/"
        },
        "id": "9QLz8Uoh_tpq",
        "outputId": "f89e7fe4-0a94-47eb-d988-5e009b9c0716"
      },
      "execution_count": 18,
      "outputs": [
        {
          "output_type": "stream",
          "name": "stdout",
          "text": [
            "('A', 'B', 'C', 'D', 'E', 'F')\n"
          ]
        }
      ]
    }
  ]
}