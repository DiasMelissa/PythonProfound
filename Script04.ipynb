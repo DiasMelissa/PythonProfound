{
  "nbformat": 4,
  "nbformat_minor": 0,
  "metadata": {
    "colab": {
      "name": "Script04.ipynb",
      "provenance": [],
      "authorship_tag": "ABX9TyMeYuwpDWzftI2P2FDThYW1",
      "include_colab_link": true
    },
    "kernelspec": {
      "name": "python3",
      "display_name": "Python 3"
    },
    "language_info": {
      "name": "python"
    }
  },
  "cells": [
    {
      "cell_type": "markdown",
      "metadata": {
        "id": "view-in-github",
        "colab_type": "text"
      },
      "source": [
        "<a href=\"https://colab.research.google.com/github/DiasMelissa/DiasMelissa/blob/main/Script04.ipynb\" target=\"_parent\"><img src=\"https://colab.research.google.com/assets/colab-badge.svg\" alt=\"Open In Colab\"/></a>"
      ]
    },
    {
      "cell_type": "markdown",
      "source": [
        "# **Dictionaries**\n",
        "\n",
        "It's considered as hash tables (mapping).\n",
        "\n",
        "dict = {key1:var1, key2:var2, ... , keyn:varn}"
      ],
      "metadata": {
        "id": "ARbFQ_F71v_M"
      }
    },
    {
      "cell_type": "code",
      "execution_count": 1,
      "metadata": {
        "id": "kSBNn_rj1Xe3"
      },
      "outputs": [],
      "source": [
        "people = {\"Melissa\": 26, \"Molly\": 2, \"William\": 25}"
      ]
    },
    {
      "cell_type": "code",
      "source": [
        "people"
      ],
      "metadata": {
        "colab": {
          "base_uri": "https://localhost:8080/"
        },
        "id": "7ln_lKWL3Gdo",
        "outputId": "7141131f-dabe-435c-851d-412b45ed68a6"
      },
      "execution_count": 2,
      "outputs": [
        {
          "output_type": "execute_result",
          "data": {
            "text/plain": [
              "{'Melissa': 26, 'Molly': 2, 'William': 25}"
            ]
          },
          "metadata": {},
          "execution_count": 2
        }
      ]
    },
    {
      "cell_type": "code",
      "source": [
        "people[\"Melissa\"]"
      ],
      "metadata": {
        "colab": {
          "base_uri": "https://localhost:8080/"
        },
        "id": "48QJSJNF3N_1",
        "outputId": "4c337363-43d5-4630-9126-84374e55c801"
      },
      "execution_count": 3,
      "outputs": [
        {
          "output_type": "execute_result",
          "data": {
            "text/plain": [
              "26"
            ]
          },
          "metadata": {},
          "execution_count": 3
        }
      ]
    },
    {
      "cell_type": "code",
      "source": [
        "people[\"Maria\"] = 50"
      ],
      "metadata": {
        "id": "MHYuNX0l3eCD"
      },
      "execution_count": 4,
      "outputs": []
    },
    {
      "cell_type": "code",
      "source": [
        "people"
      ],
      "metadata": {
        "colab": {
          "base_uri": "https://localhost:8080/"
        },
        "id": "MaiDvN-83jiJ",
        "outputId": "8e80bb23-5edb-4cd3-fa70-13529fa8191c"
      },
      "execution_count": 5,
      "outputs": [
        {
          "output_type": "execute_result",
          "data": {
            "text/plain": [
              "{'Maria': 50, 'Melissa': 26, 'Molly': 2, 'William': 25}"
            ]
          },
          "metadata": {},
          "execution_count": 5
        }
      ]
    },
    {
      "cell_type": "code",
      "source": [
        "people.clear()\n",
        "print(people)"
      ],
      "metadata": {
        "colab": {
          "base_uri": "https://localhost:8080/"
        },
        "id": "--2lcSq24BUw",
        "outputId": "eff182d9-8eb0-4d54-8533-f757e5c2a3f8"
      },
      "execution_count": 7,
      "outputs": [
        {
          "output_type": "stream",
          "name": "stdout",
          "text": [
            "{}\n"
          ]
        }
      ]
    },
    {
      "cell_type": "code",
      "source": [
        "del people\n",
        "print(people)"
      ],
      "metadata": {
        "id": "w4LbhSCK4JDr"
      },
      "execution_count": null,
      "outputs": []
    },
    {
      "cell_type": "code",
      "source": [
        "people = {\"Melissa\": 26, \"Molly\": 2, \"William\": 25}"
      ],
      "metadata": {
        "id": "V_RBtC1v4Odk"
      },
      "execution_count": 11,
      "outputs": []
    },
    {
      "cell_type": "code",
      "source": [
        "len(people)"
      ],
      "metadata": {
        "colab": {
          "base_uri": "https://localhost:8080/"
        },
        "id": "r9Voj7A84ZrJ",
        "outputId": "92835827-e621-49eb-df5e-ff43bf046726"
      },
      "execution_count": 12,
      "outputs": [
        {
          "output_type": "execute_result",
          "data": {
            "text/plain": [
              "3"
            ]
          },
          "metadata": {},
          "execution_count": 12
        }
      ]
    },
    {
      "cell_type": "code",
      "source": [
        "people.keys()"
      ],
      "metadata": {
        "colab": {
          "base_uri": "https://localhost:8080/"
        },
        "id": "1mJ1JtNv4cBP",
        "outputId": "0eda7104-1faf-466b-ba8e-d5f5ce66968e"
      },
      "execution_count": 13,
      "outputs": [
        {
          "output_type": "execute_result",
          "data": {
            "text/plain": [
              "dict_keys(['Melissa', 'Molly', 'William'])"
            ]
          },
          "metadata": {},
          "execution_count": 13
        }
      ]
    },
    {
      "cell_type": "code",
      "source": [
        "people.values()"
      ],
      "metadata": {
        "colab": {
          "base_uri": "https://localhost:8080/"
        },
        "id": "_33Jn1p94hxQ",
        "outputId": "39102686-2c39-4576-cd51-e7876be82e45"
      },
      "execution_count": 14,
      "outputs": [
        {
          "output_type": "execute_result",
          "data": {
            "text/plain": [
              "dict_values([26, 2, 25])"
            ]
          },
          "metadata": {},
          "execution_count": 14
        }
      ]
    },
    {
      "cell_type": "code",
      "source": [
        "people.items()"
      ],
      "metadata": {
        "colab": {
          "base_uri": "https://localhost:8080/"
        },
        "id": "SFZRMt3x4ng-",
        "outputId": "6c9b1f39-1b2d-48f3-9f87-0a2294270a03"
      },
      "execution_count": 15,
      "outputs": [
        {
          "output_type": "execute_result",
          "data": {
            "text/plain": [
              "dict_items([('Melissa', 26), ('Molly', 2), ('William', 25)])"
            ]
          },
          "metadata": {},
          "execution_count": 15
        }
      ]
    },
    {
      "cell_type": "code",
      "source": [
        "people2 = {\"Fernanda\": 18, \"Karen\": 23, \"Rafael\": 33}\n",
        "print(people2)"
      ],
      "metadata": {
        "colab": {
          "base_uri": "https://localhost:8080/"
        },
        "id": "siSvkXRb42JF",
        "outputId": "be87d715-f670-4e8d-d38f-ebfec20ad180"
      },
      "execution_count": 18,
      "outputs": [
        {
          "output_type": "stream",
          "name": "stdout",
          "text": [
            "{'Fernanda': 18, 'Karen': 23, 'Rafael': 33}\n"
          ]
        }
      ]
    },
    {
      "cell_type": "code",
      "source": [
        "people.update(people2)\n",
        "print(people)"
      ],
      "metadata": {
        "colab": {
          "base_uri": "https://localhost:8080/"
        },
        "id": "uZEigaUV5Men",
        "outputId": "70d3e45f-72e1-4ed0-863c-71fccabe2e47"
      },
      "execution_count": 20,
      "outputs": [
        {
          "output_type": "stream",
          "name": "stdout",
          "text": [
            "{'Melissa': 26, 'Molly': 2, 'William': 25, 'Fernanda': 18, 'Karen': 23, 'Rafael': 33}\n"
          ]
        }
      ]
    },
    {
      "cell_type": "code",
      "source": [
        "dictionary1 = {}"
      ],
      "metadata": {
        "id": "I0RYUD-m5Uec"
      },
      "execution_count": 21,
      "outputs": []
    },
    {
      "cell_type": "code",
      "source": [
        "dictionary1"
      ],
      "metadata": {
        "colab": {
          "base_uri": "https://localhost:8080/"
        },
        "id": "vcP73U4x5ZD8",
        "outputId": "88678734-d62e-4cd1-fbd3-c2f649ed6613"
      },
      "execution_count": 22,
      "outputs": [
        {
          "output_type": "execute_result",
          "data": {
            "text/plain": [
              "{}"
            ]
          },
          "metadata": {},
          "execution_count": 22
        }
      ]
    },
    {
      "cell_type": "code",
      "source": [
        "dictionary1[\"key1\"] = 50\n",
        "print(dictionary1)"
      ],
      "metadata": {
        "colab": {
          "base_uri": "https://localhost:8080/"
        },
        "id": "0DNj8HYB5cuW",
        "outputId": "a56857c5-f3b5-413b-bdad-a9a3ac194ffc"
      },
      "execution_count": 23,
      "outputs": [
        {
          "output_type": "stream",
          "name": "stdout",
          "text": [
            "{'key1': 50}\n"
          ]
        }
      ]
    },
    {
      "cell_type": "code",
      "source": [
        "dictionary1[\"key2\"] = 20\n",
        "print(dictionary1)"
      ],
      "metadata": {
        "colab": {
          "base_uri": "https://localhost:8080/"
        },
        "id": "7h48NT7l5qDW",
        "outputId": "aa976486-5caf-42b8-c3b6-335949ebdd0d"
      },
      "execution_count": 24,
      "outputs": [
        {
          "output_type": "stream",
          "name": "stdout",
          "text": [
            "{'key1': 50, 'key2': 20}\n"
          ]
        }
      ]
    },
    {
      "cell_type": "code",
      "source": [
        "dictionary1[10] = 1\n",
        "print(dictionary1)"
      ],
      "metadata": {
        "colab": {
          "base_uri": "https://localhost:8080/"
        },
        "id": "6XooZTdS50xB",
        "outputId": "a9514af4-d314-482e-ebe3-fed728d0a312"
      },
      "execution_count": 25,
      "outputs": [
        {
          "output_type": "stream",
          "name": "stdout",
          "text": [
            "{'key1': 50, 'key2': 20, 10: 1}\n"
          ]
        }
      ]
    },
    {
      "cell_type": "code",
      "source": [
        "dictionary1[100] = \"python\"\n",
        "print(dictionary1)"
      ],
      "metadata": {
        "colab": {
          "base_uri": "https://localhost:8080/"
        },
        "id": "PIN2TGJt569n",
        "outputId": "3000caa2-4346-4de2-f3d5-4e784f2c1fdb"
      },
      "execution_count": 26,
      "outputs": [
        {
          "output_type": "stream",
          "name": "stdout",
          "text": [
            "{'key1': 50, 'key2': 20, 10: 1, 100: 'python'}\n"
          ]
        }
      ]
    },
    {
      "cell_type": "code",
      "source": [
        "dictionary3 = {'key1': 100, 'key2': [0, 1, 3], 'key3': ['bread', 'banana', 'water']}\n",
        "print(dictionary3)"
      ],
      "metadata": {
        "colab": {
          "base_uri": "https://localhost:8080/"
        },
        "id": "6hVBlyfL6Sj9",
        "outputId": "612d6ec0-bc68-4fc2-b239-7c4193834bbc"
      },
      "execution_count": 29,
      "outputs": [
        {
          "output_type": "stream",
          "name": "stdout",
          "text": [
            "{'key1': 100, 'key2': [0, 1, 3], 'key3': ['bread', 'banana', 'water']}\n"
          ]
        }
      ]
    },
    {
      "cell_type": "code",
      "source": [
        "dictionary3['key3'][0].upper()"
      ],
      "metadata": {
        "colab": {
          "base_uri": "https://localhost:8080/",
          "height": 36
        },
        "id": "kVqQv34D6p5U",
        "outputId": "10c4e4ea-ac0a-4a9d-d67a-c3118d56c273"
      },
      "execution_count": 30,
      "outputs": [
        {
          "output_type": "execute_result",
          "data": {
            "text/plain": [
              "'BREAD'"
            ],
            "application/vnd.google.colaboratory.intrinsic+json": {
              "type": "string"
            }
          },
          "metadata": {},
          "execution_count": 30
        }
      ]
    },
    {
      "cell_type": "code",
      "source": [
        "var1 = dictionary3['key2'][2] - 1\n",
        "print(var1)"
      ],
      "metadata": {
        "colab": {
          "base_uri": "https://localhost:8080/"
        },
        "id": "ExwHHXGv66AC",
        "outputId": "32c32fa6-ec13-4f99-eda8-9058d74b17eb"
      },
      "execution_count": 33,
      "outputs": [
        {
          "output_type": "stream",
          "name": "stdout",
          "text": [
            "2\n"
          ]
        }
      ]
    },
    {
      "cell_type": "code",
      "source": [
        "dic_nested = {'key':{'key2':{'key3': \"Hello\"}}}\n",
        "print(dic_nested)"
      ],
      "metadata": {
        "colab": {
          "base_uri": "https://localhost:8080/"
        },
        "id": "uOgZfpKn7ZDv",
        "outputId": "fa3b48a1-a13a-4f04-90f1-b0e9152bb24c"
      },
      "execution_count": 34,
      "outputs": [
        {
          "output_type": "stream",
          "name": "stdout",
          "text": [
            "{'key': {'key2': {'key3': 'Hello'}}}\n"
          ]
        }
      ]
    },
    {
      "cell_type": "code",
      "source": [
        "dic_nested['key']['key2']['key3']\n"
      ],
      "metadata": {
        "colab": {
          "base_uri": "https://localhost:8080/",
          "height": 36
        },
        "id": "M4_N305b74af",
        "outputId": "5e2d9226-34c3-40e1-98cd-6115d6daa8e9"
      },
      "execution_count": 36,
      "outputs": [
        {
          "output_type": "execute_result",
          "data": {
            "text/plain": [
              "'Hello'"
            ],
            "application/vnd.google.colaboratory.intrinsic+json": {
              "type": "string"
            }
          },
          "metadata": {},
          "execution_count": 36
        }
      ]
    }
  ]
}