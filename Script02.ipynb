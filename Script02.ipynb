{
  "nbformat": 4,
  "nbformat_minor": 0,
  "metadata": {
    "colab": {
      "name": "Script02.ipynb",
      "provenance": [],
      "authorship_tag": "ABX9TyM8XjMf0YFXIcw8c5dCfbhN",
      "include_colab_link": true
    },
    "kernelspec": {
      "name": "python3",
      "display_name": "Python 3"
    },
    "language_info": {
      "name": "python"
    }
  },
  "cells": [
    {
      "cell_type": "markdown",
      "metadata": {
        "id": "view-in-github",
        "colab_type": "text"
      },
      "source": [
        "<a href=\"https://colab.research.google.com/github/DiasMelissa/DiasMelissa/blob/main/Script02.ipynb\" target=\"_parent\"><img src=\"https://colab.research.google.com/assets/colab-badge.svg\" alt=\"Open In Colab\"/></a>"
      ]
    },
    {
      "cell_type": "markdown",
      "source": [
        "# **Strings**\n",
        "You can use 'string', \"string\" or combine both."
      ],
      "metadata": {
        "id": "fgFshEmmkMTe"
      }
    },
    {
      "cell_type": "code",
      "execution_count": 1,
      "metadata": {
        "colab": {
          "base_uri": "https://localhost:8080/"
        },
        "id": "aI_hY8pWkJQh",
        "outputId": "a76f22aa-565d-41bc-d587-40aa33f2603d"
      },
      "outputs": [
        {
          "output_type": "stream",
          "name": "stdout",
          "text": [
            "Hello Word\n"
          ]
        }
      ],
      "source": [
        "# Printing a string\n",
        "\n",
        "print(\"Hello Word\")"
      ]
    },
    {
      "cell_type": "code",
      "source": [
        "# Printing a string with space\n",
        "\n",
        "print(\"Hello \\n World\")"
      ],
      "metadata": {
        "colab": {
          "base_uri": "https://localhost:8080/"
        },
        "id": "Ieon7RdslEkG",
        "outputId": "9f25e6cf-89cc-4b03-a94a-a55d19747450"
      },
      "execution_count": 2,
      "outputs": [
        {
          "output_type": "stream",
          "name": "stdout",
          "text": [
            "Hello \n",
            " World\n"
          ]
        }
      ]
    },
    {
      "cell_type": "markdown",
      "source": [
        "Indexing a string"
      ],
      "metadata": {
        "id": "OOe5nzg-laud"
      }
    },
    {
      "cell_type": "code",
      "source": [
        "# Assign to a string\n",
        "\n",
        "s = \"Hello World\"\n",
        "print(s[0])"
      ],
      "metadata": {
        "colab": {
          "base_uri": "https://localhost:8080/"
        },
        "id": "wjMze8BElj-v",
        "outputId": "27a55414-f8a9-44e0-9444-94868e1fa809"
      },
      "execution_count": 4,
      "outputs": [
        {
          "output_type": "stream",
          "name": "stdout",
          "text": [
            "H\n"
          ]
        }
      ]
    },
    {
      "cell_type": "code",
      "source": [
        "# Printing a variable from a position\n",
        "print(s[:5])"
      ],
      "metadata": {
        "colab": {
          "base_uri": "https://localhost:8080/"
        },
        "id": "pIHutQ93mP85",
        "outputId": "1e3c01db-0214-4a17-82b4-024097a5a3fc"
      },
      "execution_count": 8,
      "outputs": [
        {
          "output_type": "stream",
          "name": "stdout",
          "text": [
            "Hello\n"
          ]
        }
      ]
    },
    {
      "cell_type": "code",
      "source": [
        "# Return everything except the last two letters\n",
        "print(s[:-2])"
      ],
      "metadata": {
        "colab": {
          "base_uri": "https://localhost:8080/"
        },
        "id": "VdhCh8kOmw-w",
        "outputId": "a3afebb7-d565-4e41-c9a8-6406f2130505"
      },
      "execution_count": 10,
      "outputs": [
        {
          "output_type": "stream",
          "name": "stdout",
          "text": [
            "Hello Wor\n"
          ]
        }
      ]
    }
  ]
}