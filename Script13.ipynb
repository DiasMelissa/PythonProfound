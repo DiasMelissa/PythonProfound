{
  "nbformat": 4,
  "nbformat_minor": 0,
  "metadata": {
    "colab": {
      "name": "Script13.ipynb",
      "provenance": [],
      "authorship_tag": "ABX9TyNtHL3bMtgYNAMy3Ow+g5qa",
      "include_colab_link": true
    },
    "kernelspec": {
      "name": "python3",
      "display_name": "Python 3"
    },
    "language_info": {
      "name": "python"
    }
  },
  "cells": [
    {
      "cell_type": "markdown",
      "metadata": {
        "id": "view-in-github",
        "colab_type": "text"
      },
      "source": [
        "<a href=\"https://colab.research.google.com/github/DiasMelissa/DiasMelissa/blob/main/Script13.ipynb\" target=\"_parent\"><img src=\"https://colab.research.google.com/assets/colab-badge.svg\" alt=\"Open In Colab\"/></a>"
      ]
    },
    {
      "cell_type": "markdown",
      "source": [
        "# **Accessing database with python**"
      ],
      "metadata": {
        "id": "mqq9FJIUTIPf"
      }
    },
    {
      "cell_type": "code",
      "execution_count": 14,
      "metadata": {
        "id": "lmrL8RYZTDqx"
      },
      "outputs": [],
      "source": [
        "import os\n",
        "os.remove(\"escola.db\") if os.path.exists(\"escola.db\") else None\n"
      ]
    },
    {
      "cell_type": "code",
      "source": [
        "import sqlite3"
      ],
      "metadata": {
        "id": "uS9h2H21UQxJ"
      },
      "execution_count": 15,
      "outputs": []
    },
    {
      "cell_type": "code",
      "source": [
        "createConnection = sqlite3.connect('escola.db')"
      ],
      "metadata": {
        "id": "eyF5KXbdUWk_"
      },
      "execution_count": 16,
      "outputs": []
    },
    {
      "cell_type": "code",
      "source": [
        "type(createConnection)"
      ],
      "metadata": {
        "colab": {
          "base_uri": "https://localhost:8080/"
        },
        "id": "i4HBECqtU4d3",
        "outputId": "5d11580c-8af2-4dab-b746-1b104ce8a29d"
      },
      "execution_count": 17,
      "outputs": [
        {
          "output_type": "execute_result",
          "data": {
            "text/plain": [
              "sqlite3.Connection"
            ]
          },
          "metadata": {},
          "execution_count": 17
        }
      ]
    },
    {
      "cell_type": "code",
      "source": [
        "createCursor = createConnection.cursor()"
      ],
      "metadata": {
        "id": "NMfrpL0fU7tS"
      },
      "execution_count": 18,
      "outputs": []
    },
    {
      "cell_type": "code",
      "source": [
        "type(createCursor)"
      ],
      "metadata": {
        "colab": {
          "base_uri": "https://localhost:8080/"
        },
        "id": "BFukytvyVM7F",
        "outputId": "d132e6ae-9a4c-40cb-9c33-d1dd63683e29"
      },
      "execution_count": 19,
      "outputs": [
        {
          "output_type": "execute_result",
          "data": {
            "text/plain": [
              "sqlite3.Cursor"
            ]
          },
          "metadata": {},
          "execution_count": 19
        }
      ]
    },
    {
      "cell_type": "code",
      "source": [
        "sql_create = ''' create table courses ( \n",
        "  id integer primary key,\n",
        "  title varchar(100), \n",
        "  category varchar(140)) '''"
      ],
      "metadata": {
        "id": "q1YK-kwpVReq"
      },
      "execution_count": 22,
      "outputs": []
    },
    {
      "cell_type": "code",
      "source": [
        "createCursor.execute(sql_create)"
      ],
      "metadata": {
        "colab": {
          "base_uri": "https://localhost:8080/"
        },
        "id": "Y1sHCo9MX6KO",
        "outputId": "082e8b29-d339-41fc-9c42-e41ae877e00f"
      },
      "execution_count": 23,
      "outputs": [
        {
          "output_type": "execute_result",
          "data": {
            "text/plain": [
              "<sqlite3.Cursor at 0x7f1bddf38ea0>"
            ]
          },
          "metadata": {},
          "execution_count": 23
        }
      ]
    },
    {
      "cell_type": "code",
      "source": [
        "sql_insert = 'insert into courses values (?, ?, ?)'"
      ],
      "metadata": {
        "id": "jAWJUPt4Y0I8"
      },
      "execution_count": 24,
      "outputs": []
    },
    {
      "cell_type": "code",
      "source": [
        "recset = [(1000, 'Data Scientist', 'Data Scientist'),\n",
        "          (1001, 'Big Data Fundamentals', 'Big Data'),\n",
        "          (1002, 'Python Fundamentals','Data Analysis')]"
      ],
      "metadata": {
        "id": "NdXRZklEZQvj"
      },
      "execution_count": 25,
      "outputs": []
    },
    {
      "cell_type": "code",
      "source": [
        "for rec in recset:\n",
        "  createCursor.execute(sql_insert, rec)"
      ],
      "metadata": {
        "id": "YykYlFtgaPMx"
      },
      "execution_count": 26,
      "outputs": []
    },
    {
      "cell_type": "code",
      "source": [
        "createConnection.commit()"
      ],
      "metadata": {
        "id": "jZj1EADoadHV"
      },
      "execution_count": 27,
      "outputs": []
    },
    {
      "cell_type": "code",
      "source": [
        "sql_select = 'select * from courses'"
      ],
      "metadata": {
        "id": "3RxyO0I_ancC"
      },
      "execution_count": 28,
      "outputs": []
    },
    {
      "cell_type": "code",
      "source": [
        "createCursor.execute(sql_select)\n",
        "data = createCursor.fetchall()"
      ],
      "metadata": {
        "id": "-abgZzuvaxjH"
      },
      "execution_count": 30,
      "outputs": []
    },
    {
      "cell_type": "code",
      "source": [
        "for line in data:\n",
        "  print('Course Id: %d, Title: %s, Category: %s \\n' % line )"
      ],
      "metadata": {
        "colab": {
          "base_uri": "https://localhost:8080/"
        },
        "id": "qshhu8KDa4su",
        "outputId": "5d39dc6b-55e0-4e67-de7d-3dddd3add9cc"
      },
      "execution_count": 31,
      "outputs": [
        {
          "output_type": "stream",
          "name": "stdout",
          "text": [
            "Course Id: 1000, Title: Data Scientist, Category: Data Scientist \n",
            "\n",
            "Course Id: 1001, Title: Big Data Fundamentals, Category: Big Data \n",
            "\n",
            "Course Id: 1002, Title: Python Fundamentals, Category: Data Analysis \n",
            "\n"
          ]
        }
      ]
    },
    {
      "cell_type": "code",
      "source": [
        "recset = [(1003, 'Data Management with MongoDB', 'Big Data'),\n",
        "          (1004, 'R Fundamentals', 'Data Analysis')]\n",
        "\n",
        "for rec in recset:\n",
        "  createCursor.execute(sql_insert, rec)\n",
        "\n",
        "createConnection.commit()\n",
        "\n"
      ],
      "metadata": {
        "id": "_BZeDSPseGXZ"
      },
      "execution_count": 32,
      "outputs": []
    },
    {
      "cell_type": "code",
      "source": [
        "createCursor.execute('select * from courses')\n",
        "recset = createCursor.fetchall()\n",
        "\n",
        "for rec in recset:\n",
        "  print('Course Id: %d, Title: %s, Category: %s \\n' % rec )"
      ],
      "metadata": {
        "colab": {
          "base_uri": "https://localhost:8080/"
        },
        "id": "wI3lEsT8em1u",
        "outputId": "65e49b7d-98c3-4346-debf-8ac8b916375c"
      },
      "execution_count": 33,
      "outputs": [
        {
          "output_type": "stream",
          "name": "stdout",
          "text": [
            "Course Id: 1000, Title: Data Scientist, Category: Data Scientist \n",
            "\n",
            "Course Id: 1001, Title: Big Data Fundamentals, Category: Big Data \n",
            "\n",
            "Course Id: 1002, Title: Python Fundamentals, Category: Data Analysis \n",
            "\n",
            "Course Id: 1003, Title: Data Management with MongoDB, Category: Big Data \n",
            "\n",
            "Course Id: 1004, Title: R Fundamentals, Category: Data Analysis \n",
            "\n"
          ]
        }
      ]
    },
    {
      "cell_type": "code",
      "source": [
        "createConnection.close()"
      ],
      "metadata": {
        "id": "EsWi5bcDfMmK"
      },
      "execution_count": 34,
      "outputs": []
    }
  ]
}