{
  "nbformat": 4,
  "nbformat_minor": 0,
  "metadata": {
    "colab": {
      "name": "Script16.ipynb",
      "provenance": [],
      "authorship_tag": "ABX9TyNAtRtoqSKoBj7mBmSLd9cS",
      "include_colab_link": true
    },
    "kernelspec": {
      "name": "python3",
      "display_name": "Python 3"
    },
    "language_info": {
      "name": "python"
    }
  },
  "cells": [
    {
      "cell_type": "markdown",
      "metadata": {
        "id": "view-in-github",
        "colab_type": "text"
      },
      "source": [
        "<a href=\"https://colab.research.google.com/github/DiasMelissa/DiasMelissa/blob/main/Script16.ipynb\" target=\"_parent\"><img src=\"https://colab.research.google.com/assets/colab-badge.svg\" alt=\"Open In Colab\"/></a>"
      ]
    },
    {
      "cell_type": "markdown",
      "source": [
        "# **Data analysis**"
      ],
      "metadata": {
        "id": "WyVJPzQuQdcM"
      }
    },
    {
      "cell_type": "markdown",
      "source": [
        "# **Numpy**\n",
        "\n",
        "\n",
        "It is a package for mathematical computation in python."
      ],
      "metadata": {
        "id": "3pUqCy2aTFZJ"
      }
    },
    {
      "cell_type": "code",
      "execution_count": null,
      "metadata": {
        "id": "6OcwyiAbQYVX"
      },
      "outputs": [],
      "source": [
        "import numpy as np\n"
      ]
    },
    {
      "cell_type": "code",
      "source": [
        "np.__version__"
      ],
      "metadata": {
        "colab": {
          "base_uri": "https://localhost:8080/",
          "height": 35
        },
        "id": "oxr7bHmzaV0T",
        "outputId": "f2277965-35bb-466e-f9b5-f3af885d5413"
      },
      "execution_count": null,
      "outputs": [
        {
          "output_type": "execute_result",
          "data": {
            "text/plain": [
              "'1.21.6'"
            ],
            "application/vnd.google.colaboratory.intrinsic+json": {
              "type": "string"
            }
          },
          "metadata": {},
          "execution_count": 2
        }
      ]
    },
    {
      "cell_type": "code",
      "source": [
        "help(np.array)"
      ],
      "metadata": {
        "colab": {
          "base_uri": "https://localhost:8080/"
        },
        "id": "bw3bU1k3aZyi",
        "outputId": "94c69c62-7cc6-4a68-cbd6-98d92842f3d8"
      },
      "execution_count": null,
      "outputs": [
        {
          "output_type": "stream",
          "name": "stdout",
          "text": [
            "Help on built-in function array in module numpy:\n",
            "\n",
            "array(...)\n",
            "    array(object, dtype=None, *, copy=True, order='K', subok=False, ndmin=0,\n",
            "          like=None)\n",
            "    \n",
            "    Create an array.\n",
            "    \n",
            "    Parameters\n",
            "    ----------\n",
            "    object : array_like\n",
            "        An array, any object exposing the array interface, an object whose\n",
            "        __array__ method returns an array, or any (nested) sequence.\n",
            "    dtype : data-type, optional\n",
            "        The desired data-type for the array.  If not given, then the type will\n",
            "        be determined as the minimum type required to hold the objects in the\n",
            "        sequence.\n",
            "    copy : bool, optional\n",
            "        If true (default), then the object is copied.  Otherwise, a copy will\n",
            "        only be made if __array__ returns a copy, if obj is a nested sequence,\n",
            "        or if a copy is needed to satisfy any of the other requirements\n",
            "        (`dtype`, `order`, etc.).\n",
            "    order : {'K', 'A', 'C', 'F'}, optional\n",
            "        Specify the memory layout of the array. If object is not an array, the\n",
            "        newly created array will be in C order (row major) unless 'F' is\n",
            "        specified, in which case it will be in Fortran order (column major).\n",
            "        If object is an array the following holds.\n",
            "    \n",
            "        ===== ========= ===================================================\n",
            "        order  no copy                     copy=True\n",
            "        ===== ========= ===================================================\n",
            "        'K'   unchanged F & C order preserved, otherwise most similar order\n",
            "        'A'   unchanged F order if input is F and not C, otherwise C order\n",
            "        'C'   C order   C order\n",
            "        'F'   F order   F order\n",
            "        ===== ========= ===================================================\n",
            "    \n",
            "        When ``copy=False`` and a copy is made for other reasons, the result is\n",
            "        the same as if ``copy=True``, with some exceptions for 'A', see the\n",
            "        Notes section. The default order is 'K'.\n",
            "    subok : bool, optional\n",
            "        If True, then sub-classes will be passed-through, otherwise\n",
            "        the returned array will be forced to be a base-class array (default).\n",
            "    ndmin : int, optional\n",
            "        Specifies the minimum number of dimensions that the resulting\n",
            "        array should have.  Ones will be pre-pended to the shape as\n",
            "        needed to meet this requirement.\n",
            "    like : array_like\n",
            "        Reference object to allow the creation of arrays which are not\n",
            "        NumPy arrays. If an array-like passed in as ``like`` supports\n",
            "        the ``__array_function__`` protocol, the result will be defined\n",
            "        by it. In this case, it ensures the creation of an array object\n",
            "        compatible with that passed in via this argument.\n",
            "    \n",
            "        .. versionadded:: 1.20.0\n",
            "    \n",
            "    Returns\n",
            "    -------\n",
            "    out : ndarray\n",
            "        An array object satisfying the specified requirements.\n",
            "    \n",
            "    See Also\n",
            "    --------\n",
            "    empty_like : Return an empty array with shape and type of input.\n",
            "    ones_like : Return an array of ones with shape and type of input.\n",
            "    zeros_like : Return an array of zeros with shape and type of input.\n",
            "    full_like : Return a new array with shape of input filled with value.\n",
            "    empty : Return a new uninitialized array.\n",
            "    ones : Return a new array setting values to one.\n",
            "    zeros : Return a new array setting values to zero.\n",
            "    full : Return a new array of given shape filled with value.\n",
            "    \n",
            "    \n",
            "    Notes\n",
            "    -----\n",
            "    When order is 'A' and `object` is an array in neither 'C' nor 'F' order,\n",
            "    and a copy is forced by a change in dtype, then the order of the result is\n",
            "    not necessarily 'C' as expected. This is likely a bug.\n",
            "    \n",
            "    Examples\n",
            "    --------\n",
            "    >>> np.array([1, 2, 3])\n",
            "    array([1, 2, 3])\n",
            "    \n",
            "    Upcasting:\n",
            "    \n",
            "    >>> np.array([1, 2, 3.0])\n",
            "    array([ 1.,  2.,  3.])\n",
            "    \n",
            "    More than one dimension:\n",
            "    \n",
            "    >>> np.array([[1, 2], [3, 4]])\n",
            "    array([[1, 2],\n",
            "           [3, 4]])\n",
            "    \n",
            "    Minimum dimensions 2:\n",
            "    \n",
            "    >>> np.array([1, 2, 3], ndmin=2)\n",
            "    array([[1, 2, 3]])\n",
            "    \n",
            "    Type provided:\n",
            "    \n",
            "    >>> np.array([1, 2, 3], dtype=complex)\n",
            "    array([ 1.+0.j,  2.+0.j,  3.+0.j])\n",
            "    \n",
            "    Data-type consisting of more than one element:\n",
            "    \n",
            "    >>> x = np.array([(1,2),(3,4)],dtype=[('a','<i4'),('b','<i4')])\n",
            "    >>> x['a']\n",
            "    array([1, 3])\n",
            "    \n",
            "    Creating an array from sub-classes:\n",
            "    \n",
            "    >>> np.array(np.mat('1 2; 3 4'))\n",
            "    array([[1, 2],\n",
            "           [3, 4]])\n",
            "    \n",
            "    >>> np.array(np.mat('1 2; 3 4'), subok=True)\n",
            "    matrix([[1, 2],\n",
            "            [3, 4]])\n",
            "\n"
          ]
        }
      ]
    },
    {
      "cell_type": "code",
      "source": [
        "vector1 = np.array([0, 1, 2, 4, 8, 9, 10, 15])"
      ],
      "metadata": {
        "id": "qLvvWujxaqnV"
      },
      "execution_count": null,
      "outputs": []
    },
    {
      "cell_type": "code",
      "source": [
        "print(vector1)"
      ],
      "metadata": {
        "colab": {
          "base_uri": "https://localhost:8080/"
        },
        "id": "LVXGYt9Na4iC",
        "outputId": "46e94650-630b-43c2-8510-73f1a8f71029"
      },
      "execution_count": null,
      "outputs": [
        {
          "output_type": "stream",
          "name": "stdout",
          "text": [
            "[ 0  1  2  4  8  9 10 15]\n"
          ]
        }
      ]
    },
    {
      "cell_type": "code",
      "source": [
        "type(vector1)"
      ],
      "metadata": {
        "colab": {
          "base_uri": "https://localhost:8080/"
        },
        "id": "LoKVu0V2a7cX",
        "outputId": "12470221-d35b-4a6e-d9a0-0f9b87b0d3b8"
      },
      "execution_count": null,
      "outputs": [
        {
          "output_type": "execute_result",
          "data": {
            "text/plain": [
              "numpy.ndarray"
            ]
          },
          "metadata": {},
          "execution_count": 6
        }
      ]
    },
    {
      "cell_type": "code",
      "source": [
        "vector1.cumsum()"
      ],
      "metadata": {
        "colab": {
          "base_uri": "https://localhost:8080/"
        },
        "id": "Zxq9FlVpa9qp",
        "outputId": "649beb95-943e-460d-e5d6-8ab4702fed9e"
      },
      "execution_count": null,
      "outputs": [
        {
          "output_type": "execute_result",
          "data": {
            "text/plain": [
              "array([ 0,  1,  3,  7, 15, 24, 34, 49])"
            ]
          },
          "metadata": {},
          "execution_count": 7
        }
      ]
    },
    {
      "cell_type": "code",
      "source": [
        "listone = [0, 1, 2, 4, 8, 9, 10, 15]"
      ],
      "metadata": {
        "id": "f6YEUPRabVqd"
      },
      "execution_count": null,
      "outputs": []
    },
    {
      "cell_type": "code",
      "source": [
        "listone"
      ],
      "metadata": {
        "colab": {
          "base_uri": "https://localhost:8080/"
        },
        "id": "N3Pwc1hLbezi",
        "outputId": "0708b539-3505-4e36-b24d-ffe9cac17e89"
      },
      "execution_count": null,
      "outputs": [
        {
          "output_type": "execute_result",
          "data": {
            "text/plain": [
              "[0, 1, 2, 4, 8, 9, 10, 15]"
            ]
          },
          "metadata": {},
          "execution_count": 9
        }
      ]
    },
    {
      "cell_type": "code",
      "source": [
        "type(listone)"
      ],
      "metadata": {
        "colab": {
          "base_uri": "https://localhost:8080/"
        },
        "id": "4i9u6jmZbgkx",
        "outputId": "a6dc9ddf-2b0e-48a6-d943-9c2d4c167539"
      },
      "execution_count": null,
      "outputs": [
        {
          "output_type": "execute_result",
          "data": {
            "text/plain": [
              "list"
            ]
          },
          "metadata": {},
          "execution_count": 10
        }
      ]
    },
    {
      "cell_type": "code",
      "source": [
        "vector1[0]"
      ],
      "metadata": {
        "colab": {
          "base_uri": "https://localhost:8080/"
        },
        "id": "zFkS5psBbkKQ",
        "outputId": "306d0642-a6e5-4a01-f408-36fe45f0041d"
      },
      "execution_count": null,
      "outputs": [
        {
          "output_type": "execute_result",
          "data": {
            "text/plain": [
              "0"
            ]
          },
          "metadata": {},
          "execution_count": 11
        }
      ]
    },
    {
      "cell_type": "code",
      "source": [
        "vector1[0] = 100"
      ],
      "metadata": {
        "id": "qYTo6LJSbsY-"
      },
      "execution_count": null,
      "outputs": []
    },
    {
      "cell_type": "code",
      "source": [
        "print(vector1)"
      ],
      "metadata": {
        "colab": {
          "base_uri": "https://localhost:8080/"
        },
        "id": "JKr78cQ4bxK1",
        "outputId": "d53b51de-0622-4784-9cc9-06e90a5174c3"
      },
      "execution_count": null,
      "outputs": [
        {
          "output_type": "stream",
          "name": "stdout",
          "text": [
            "[100   1   2   4   8   9  10  15]\n"
          ]
        }
      ]
    },
    {
      "cell_type": "code",
      "source": [
        "#It's not possible to insert another variable with another type\n",
        "vector1[0] = 'New'"
      ],
      "metadata": {
        "colab": {
          "base_uri": "https://localhost:8080/",
          "height": 183
        },
        "id": "JTRzSDETbzTu",
        "outputId": "74d17f2e-cc63-423f-8871-21e602ae269d"
      },
      "execution_count": null,
      "outputs": [
        {
          "output_type": "error",
          "ename": "ValueError",
          "evalue": "ignored",
          "traceback": [
            "\u001b[0;31m---------------------------------------------------------------------------\u001b[0m",
            "\u001b[0;31mValueError\u001b[0m                                Traceback (most recent call last)",
            "\u001b[0;32m<ipython-input-15-af2e59bb5910>\u001b[0m in \u001b[0;36m<module>\u001b[0;34m()\u001b[0m\n\u001b[1;32m      1\u001b[0m \u001b[0;31m#It's not possible to insert another variable with another type\u001b[0m\u001b[0;34m\u001b[0m\u001b[0;34m\u001b[0m\u001b[0;34m\u001b[0m\u001b[0m\n\u001b[0;32m----> 2\u001b[0;31m \u001b[0mvector1\u001b[0m\u001b[0;34m[\u001b[0m\u001b[0;36m0\u001b[0m\u001b[0;34m]\u001b[0m \u001b[0;34m=\u001b[0m \u001b[0;34m'New'\u001b[0m\u001b[0;34m\u001b[0m\u001b[0;34m\u001b[0m\u001b[0m\n\u001b[0m",
            "\u001b[0;31mValueError\u001b[0m: invalid literal for int() with base 10: 'New'"
          ]
        }
      ]
    },
    {
      "cell_type": "code",
      "source": [
        "print(vector1.shape)"
      ],
      "metadata": {
        "colab": {
          "base_uri": "https://localhost:8080/"
        },
        "id": "29gruxEVcO20",
        "outputId": "b33886c2-0e5d-41fe-971e-1ea0d4d2b75f"
      },
      "execution_count": null,
      "outputs": [
        {
          "output_type": "stream",
          "name": "stdout",
          "text": [
            "(8,)\n"
          ]
        }
      ]
    },
    {
      "cell_type": "markdown",
      "source": [
        "# **Functions**"
      ],
      "metadata": {
        "id": "wFrjQIS1cVCQ"
      }
    },
    {
      "cell_type": "code",
      "source": [
        "vector2 = np.arange(0., 10., .4 )"
      ],
      "metadata": {
        "id": "uvq4RcjFcWec"
      },
      "execution_count": null,
      "outputs": []
    },
    {
      "cell_type": "code",
      "source": [
        "print(vector2)"
      ],
      "metadata": {
        "colab": {
          "base_uri": "https://localhost:8080/"
        },
        "id": "vZxnsnLyeQdo",
        "outputId": "b5978f4f-4cba-4ab1-8e51-4696b86e8f0a"
      },
      "execution_count": null,
      "outputs": [
        {
          "output_type": "stream",
          "name": "stdout",
          "text": [
            "[0.  0.4 0.8 1.2 1.6 2.  2.4 2.8 3.2 3.6 4.  4.4 4.8 5.2 5.6 6.  6.4 6.8\n",
            " 7.2 7.6 8.  8.4 8.8 9.2 9.6]\n"
          ]
        }
      ]
    },
    {
      "cell_type": "code",
      "source": [
        "type(vector2)"
      ],
      "metadata": {
        "colab": {
          "base_uri": "https://localhost:8080/"
        },
        "id": "_F9zxx7beSYz",
        "outputId": "ea4ba0dd-3408-4063-e452-6cbbd173222c"
      },
      "execution_count": null,
      "outputs": [
        {
          "output_type": "execute_result",
          "data": {
            "text/plain": [
              "numpy.ndarray"
            ]
          },
          "metadata": {},
          "execution_count": 21
        }
      ]
    },
    {
      "cell_type": "code",
      "source": [
        "np.shape(vector2)"
      ],
      "metadata": {
        "colab": {
          "base_uri": "https://localhost:8080/"
        },
        "id": "87lrVsqWeWC8",
        "outputId": "e8d26a36-e336-47df-dc76-e07dc2cde173"
      },
      "execution_count": null,
      "outputs": [
        {
          "output_type": "execute_result",
          "data": {
            "text/plain": [
              "(25,)"
            ]
          },
          "metadata": {},
          "execution_count": 22
        }
      ]
    },
    {
      "cell_type": "code",
      "source": [
        "print(vector2.dtype)"
      ],
      "metadata": {
        "colab": {
          "base_uri": "https://localhost:8080/"
        },
        "id": "iMcRYqjAeYoB",
        "outputId": "cc799085-7fbb-44d5-f75b-a22f5f24d709"
      },
      "execution_count": null,
      "outputs": [
        {
          "output_type": "stream",
          "name": "stdout",
          "text": [
            "float64\n"
          ]
        }
      ]
    },
    {
      "cell_type": "code",
      "source": [
        "x = np.arange(2, 10, 0.5)\n",
        "print(x)"
      ],
      "metadata": {
        "colab": {
          "base_uri": "https://localhost:8080/"
        },
        "id": "aUA7wSpUedoz",
        "outputId": "5c223438-21ef-4287-ec62-2f3090b76b28"
      },
      "execution_count": null,
      "outputs": [
        {
          "output_type": "stream",
          "name": "stdout",
          "text": [
            "[2.  2.5 3.  3.5 4.  4.5 5.  5.5 6.  6.5 7.  7.5 8.  8.5 9.  9.5]\n"
          ]
        }
      ]
    },
    {
      "cell_type": "code",
      "source": [
        "print(np.zeros(10))"
      ],
      "metadata": {
        "colab": {
          "base_uri": "https://localhost:8080/"
        },
        "id": "2qHuWiGMeqcR",
        "outputId": "8af45fd0-17ca-4061-c140-190c38514006"
      },
      "execution_count": null,
      "outputs": [
        {
          "output_type": "stream",
          "name": "stdout",
          "text": [
            "[0. 0. 0. 0. 0. 0. 0. 0. 0. 0.]\n"
          ]
        }
      ]
    },
    {
      "cell_type": "code",
      "source": [
        "z = np.eye(3)"
      ],
      "metadata": {
        "id": "40vej1A9es-C"
      },
      "execution_count": null,
      "outputs": []
    },
    {
      "cell_type": "code",
      "source": [
        "z"
      ],
      "metadata": {
        "colab": {
          "base_uri": "https://localhost:8080/"
        },
        "id": "mmAa0nPHexKQ",
        "outputId": "20b36eaf-daaf-45d4-bd79-9c922af7efed"
      },
      "execution_count": null,
      "outputs": [
        {
          "output_type": "execute_result",
          "data": {
            "text/plain": [
              "array([[1., 0., 0.],\n",
              "       [0., 1., 0.],\n",
              "       [0., 0., 1.]])"
            ]
          },
          "metadata": {},
          "execution_count": 27
        }
      ]
    },
    {
      "cell_type": "code",
      "source": [
        "d = np.diag(np.array([1, 2, 3, 4]))"
      ],
      "metadata": {
        "id": "yMERRfb7e2yY"
      },
      "execution_count": null,
      "outputs": []
    },
    {
      "cell_type": "code",
      "source": [
        "d"
      ],
      "metadata": {
        "colab": {
          "base_uri": "https://localhost:8080/"
        },
        "id": "1RjFcUFkfCkV",
        "outputId": "8948c648-74e5-4579-fd7b-fff68ce62a16"
      },
      "execution_count": null,
      "outputs": [
        {
          "output_type": "execute_result",
          "data": {
            "text/plain": [
              "array([[1, 0, 0, 0],\n",
              "       [0, 2, 0, 0],\n",
              "       [0, 0, 3, 0],\n",
              "       [0, 0, 0, 4]])"
            ]
          },
          "metadata": {},
          "execution_count": 29
        }
      ]
    },
    {
      "cell_type": "code",
      "source": [
        "c = np.array([1 +1j, 3+5j, 10+ 12j])"
      ],
      "metadata": {
        "id": "jcx5mVF4fEUk"
      },
      "execution_count": null,
      "outputs": []
    },
    {
      "cell_type": "code",
      "source": [
        "c"
      ],
      "metadata": {
        "colab": {
          "base_uri": "https://localhost:8080/"
        },
        "id": "ZjHcyDx8fXFS",
        "outputId": "549180a2-782a-45c5-fb24-429e6c65f5f4"
      },
      "execution_count": null,
      "outputs": [
        {
          "output_type": "execute_result",
          "data": {
            "text/plain": [
              "array([ 1. +1.j,  3. +5.j, 10.+12.j])"
            ]
          },
          "metadata": {},
          "execution_count": 33
        }
      ]
    },
    {
      "cell_type": "code",
      "source": [
        "b = np.array([True, True, True, False])"
      ],
      "metadata": {
        "id": "sgsHr1HrfavF"
      },
      "execution_count": null,
      "outputs": []
    },
    {
      "cell_type": "code",
      "source": [
        "b"
      ],
      "metadata": {
        "colab": {
          "base_uri": "https://localhost:8080/"
        },
        "id": "Ouej-8uTfgfz",
        "outputId": "f2d6b6a3-c415-4afe-c0de-de15c750b9c9"
      },
      "execution_count": null,
      "outputs": [
        {
          "output_type": "execute_result",
          "data": {
            "text/plain": [
              "array([ True,  True,  True, False])"
            ]
          },
          "metadata": {},
          "execution_count": 35
        }
      ]
    },
    {
      "cell_type": "code",
      "source": [
        "a = np.array(['Molly', 'Mel', 'Will'])"
      ],
      "metadata": {
        "id": "VWVDKOA4fi5J"
      },
      "execution_count": null,
      "outputs": []
    },
    {
      "cell_type": "code",
      "source": [
        "a"
      ],
      "metadata": {
        "colab": {
          "base_uri": "https://localhost:8080/"
        },
        "id": "cOhJOiANfpCh",
        "outputId": "2499fbe7-878a-43b1-995c-6dd5e047a0a6"
      },
      "execution_count": null,
      "outputs": [
        {
          "output_type": "execute_result",
          "data": {
            "text/plain": [
              "array(['Molly', 'Mel', 'Will'], dtype='<U5')"
            ]
          },
          "metadata": {},
          "execution_count": 37
        }
      ]
    },
    {
      "cell_type": "code",
      "source": [
        "np.linspace(1, 5)"
      ],
      "metadata": {
        "colab": {
          "base_uri": "https://localhost:8080/"
        },
        "id": "UWQDIaupftHg",
        "outputId": "c1517c50-6723-4974-96ae-5043385639af"
      },
      "execution_count": null,
      "outputs": [
        {
          "output_type": "execute_result",
          "data": {
            "text/plain": [
              "array([1.        , 1.08163265, 1.16326531, 1.24489796, 1.32653061,\n",
              "       1.40816327, 1.48979592, 1.57142857, 1.65306122, 1.73469388,\n",
              "       1.81632653, 1.89795918, 1.97959184, 2.06122449, 2.14285714,\n",
              "       2.2244898 , 2.30612245, 2.3877551 , 2.46938776, 2.55102041,\n",
              "       2.63265306, 2.71428571, 2.79591837, 2.87755102, 2.95918367,\n",
              "       3.04081633, 3.12244898, 3.20408163, 3.28571429, 3.36734694,\n",
              "       3.44897959, 3.53061224, 3.6122449 , 3.69387755, 3.7755102 ,\n",
              "       3.85714286, 3.93877551, 4.02040816, 4.10204082, 4.18367347,\n",
              "       4.26530612, 4.34693878, 4.42857143, 4.51020408, 4.59183673,\n",
              "       4.67346939, 4.75510204, 4.83673469, 4.91836735, 5.        ])"
            ]
          },
          "metadata": {},
          "execution_count": 38
        }
      ]
    },
    {
      "cell_type": "code",
      "source": [
        "np.linspace(1, 5, 10)"
      ],
      "metadata": {
        "colab": {
          "base_uri": "https://localhost:8080/"
        },
        "id": "U__IFkWSf3Y4",
        "outputId": "f359b56d-5fbd-4efb-d038-22c9b4f4b711"
      },
      "execution_count": null,
      "outputs": [
        {
          "output_type": "execute_result",
          "data": {
            "text/plain": [
              "array([1.        , 1.44444444, 1.88888889, 2.33333333, 2.77777778,\n",
              "       3.22222222, 3.66666667, 4.11111111, 4.55555556, 5.        ])"
            ]
          },
          "metadata": {},
          "execution_count": 40
        }
      ]
    },
    {
      "cell_type": "code",
      "source": [
        "print(np.linspace(0, 5, 20))"
      ],
      "metadata": {
        "colab": {
          "base_uri": "https://localhost:8080/"
        },
        "id": "WHdW78dxgATq",
        "outputId": "4258b762-cdff-4dfb-f303-1bb31a22b2be"
      },
      "execution_count": null,
      "outputs": [
        {
          "output_type": "stream",
          "name": "stdout",
          "text": [
            "[0.         0.26315789 0.52631579 0.78947368 1.05263158 1.31578947\n",
            " 1.57894737 1.84210526 2.10526316 2.36842105 2.63157895 2.89473684\n",
            " 3.15789474 3.42105263 3.68421053 3.94736842 4.21052632 4.47368421\n",
            " 4.73684211 5.        ]\n"
          ]
        }
      ]
    },
    {
      "cell_type": "markdown",
      "source": [
        "# **Matrizes**"
      ],
      "metadata": {
        "id": "F92Ey-hZgE99"
      }
    },
    {
      "cell_type": "code",
      "source": [
        "matriz1 = np.array([[0, 1, 2], [3, 4, 5]])"
      ],
      "metadata": {
        "id": "Qxcimt6ygrYp"
      },
      "execution_count": null,
      "outputs": []
    },
    {
      "cell_type": "code",
      "source": [
        "print(matriz1)"
      ],
      "metadata": {
        "colab": {
          "base_uri": "https://localhost:8080/"
        },
        "id": "a-CjnF4Ug4oo",
        "outputId": "054912c5-5c57-4d47-da02-3d972b1a6046"
      },
      "execution_count": null,
      "outputs": [
        {
          "output_type": "stream",
          "name": "stdout",
          "text": [
            "[[0 1 2]\n",
            " [3 4 5]]\n"
          ]
        }
      ]
    },
    {
      "cell_type": "code",
      "source": [
        "print(matriz1.shape)"
      ],
      "metadata": {
        "colab": {
          "base_uri": "https://localhost:8080/"
        },
        "id": "AcZSVliWg6zy",
        "outputId": "363f6e8f-e0a6-416c-b7a0-0ba78f5b7466"
      },
      "execution_count": null,
      "outputs": [
        {
          "output_type": "stream",
          "name": "stdout",
          "text": [
            "(2, 3)\n"
          ]
        }
      ]
    },
    {
      "cell_type": "code",
      "source": [
        "matriz2 = np.ones((2,3))"
      ],
      "metadata": {
        "id": "Zfa8U5UChCJL"
      },
      "execution_count": null,
      "outputs": []
    },
    {
      "cell_type": "code",
      "source": [
        "matriz2"
      ],
      "metadata": {
        "colab": {
          "base_uri": "https://localhost:8080/"
        },
        "id": "eVIFM2vPhLOK",
        "outputId": "166cbc9e-e8fa-46a4-9599-4df44e5d3117"
      },
      "execution_count": null,
      "outputs": [
        {
          "output_type": "execute_result",
          "data": {
            "text/plain": [
              "array([[1., 1., 1.],\n",
              "       [1., 1., 1.]])"
            ]
          },
          "metadata": {},
          "execution_count": 48
        }
      ]
    },
    {
      "cell_type": "code",
      "source": [
        "list1 = [[0, 1, 2], [3, 4, 5], [6, 7, 8]]"
      ],
      "metadata": {
        "id": "nfe4U66khO7r"
      },
      "execution_count": null,
      "outputs": []
    },
    {
      "cell_type": "code",
      "source": [
        "matriz3 = np.matrix(list1)"
      ],
      "metadata": {
        "id": "X40sg8dkhfOi"
      },
      "execution_count": null,
      "outputs": []
    },
    {
      "cell_type": "code",
      "source": [
        "matriz3"
      ],
      "metadata": {
        "colab": {
          "base_uri": "https://localhost:8080/"
        },
        "id": "CNCjobvshpbp",
        "outputId": "42a9fd99-3b78-4c29-dd48-0f3d80d05528"
      },
      "execution_count": null,
      "outputs": [
        {
          "output_type": "execute_result",
          "data": {
            "text/plain": [
              "matrix([[0, 1, 2],\n",
              "        [3, 4, 5],\n",
              "        [6, 7, 8]])"
            ]
          },
          "metadata": {},
          "execution_count": 52
        }
      ]
    },
    {
      "cell_type": "code",
      "source": [
        "type(matriz3)"
      ],
      "metadata": {
        "colab": {
          "base_uri": "https://localhost:8080/"
        },
        "id": "CH7Qr2nHh169",
        "outputId": "3c52e70e-26ed-4ff4-c6b8-54eccadd2103"
      },
      "execution_count": null,
      "outputs": [
        {
          "output_type": "execute_result",
          "data": {
            "text/plain": [
              "numpy.matrix"
            ]
          },
          "metadata": {},
          "execution_count": 53
        }
      ]
    },
    {
      "cell_type": "code",
      "source": [
        "np.shape(matriz3)"
      ],
      "metadata": {
        "colab": {
          "base_uri": "https://localhost:8080/"
        },
        "id": "IGwVFSJKh7mm",
        "outputId": "aa2f95d3-a664-4b57-8ae5-4c116566495f"
      },
      "execution_count": null,
      "outputs": [
        {
          "output_type": "execute_result",
          "data": {
            "text/plain": [
              "(3, 3)"
            ]
          },
          "metadata": {},
          "execution_count": 54
        }
      ]
    },
    {
      "cell_type": "code",
      "source": [
        "matriz3.size"
      ],
      "metadata": {
        "colab": {
          "base_uri": "https://localhost:8080/"
        },
        "id": "DgiVmbvFh-nn",
        "outputId": "70092100-abae-4264-be7a-1e70251c93ac"
      },
      "execution_count": null,
      "outputs": [
        {
          "output_type": "execute_result",
          "data": {
            "text/plain": [
              "9"
            ]
          },
          "metadata": {},
          "execution_count": 55
        }
      ]
    },
    {
      "cell_type": "code",
      "source": [
        "print(matriz3.dtype)"
      ],
      "metadata": {
        "colab": {
          "base_uri": "https://localhost:8080/"
        },
        "id": "R-wm4ruaiHA1",
        "outputId": "3aa883f7-055e-4de5-c149-18b2df67af05"
      },
      "execution_count": null,
      "outputs": [
        {
          "output_type": "stream",
          "name": "stdout",
          "text": [
            "int64\n"
          ]
        }
      ]
    },
    {
      "cell_type": "code",
      "source": [
        "matriz3.itemsize"
      ],
      "metadata": {
        "colab": {
          "base_uri": "https://localhost:8080/"
        },
        "id": "KhbFtlE3iLO5",
        "outputId": "78ffa935-1fef-4078-a671-48fb36027ce5"
      },
      "execution_count": null,
      "outputs": [
        {
          "output_type": "execute_result",
          "data": {
            "text/plain": [
              "8"
            ]
          },
          "metadata": {},
          "execution_count": 57
        }
      ]
    },
    {
      "cell_type": "code",
      "source": [
        "matriz3.nbytes"
      ],
      "metadata": {
        "colab": {
          "base_uri": "https://localhost:8080/"
        },
        "id": "T1OaZorZiWmi",
        "outputId": "eed34553-286d-4d9e-b26a-210f406adcb1"
      },
      "execution_count": null,
      "outputs": [
        {
          "output_type": "execute_result",
          "data": {
            "text/plain": [
              "72"
            ]
          },
          "metadata": {},
          "execution_count": 58
        }
      ]
    },
    {
      "cell_type": "code",
      "source": [
        "print(matriz3[2,1])"
      ],
      "metadata": {
        "colab": {
          "base_uri": "https://localhost:8080/"
        },
        "id": "fKY15GwGiaUH",
        "outputId": "3768bf26-f296-4e94-d229-2f985650aa31"
      },
      "execution_count": null,
      "outputs": [
        {
          "output_type": "stream",
          "name": "stdout",
          "text": [
            "7\n"
          ]
        }
      ]
    },
    {
      "cell_type": "code",
      "source": [
        "matriz3[1,0] = 100"
      ],
      "metadata": {
        "id": "J2JqwKUPii1i"
      },
      "execution_count": null,
      "outputs": []
    },
    {
      "cell_type": "code",
      "source": [
        "matriz3"
      ],
      "metadata": {
        "colab": {
          "base_uri": "https://localhost:8080/"
        },
        "id": "93epQDQeiutW",
        "outputId": "2a82d182-1c15-4b78-c323-0ed778c2e4be"
      },
      "execution_count": null,
      "outputs": [
        {
          "output_type": "execute_result",
          "data": {
            "text/plain": [
              "matrix([[  0,   1,   2],\n",
              "        [100,   4,   5],\n",
              "        [  6,   7,   8]])"
            ]
          },
          "metadata": {},
          "execution_count": 62
        }
      ]
    },
    {
      "cell_type": "code",
      "source": [
        "x = np.array([1,2])\n",
        "y = np.array([1.0,2.0])\n",
        "z = np.array([1,2], dtype = np.float64)\n",
        "\n",
        "print (x.dtype, y.dtype, z.dtype)"
      ],
      "metadata": {
        "colab": {
          "base_uri": "https://localhost:8080/"
        },
        "id": "UuqK0ZaLi3XS",
        "outputId": "d09995ff-bd05-4c6c-ca34-30a10eba2474"
      },
      "execution_count": null,
      "outputs": [
        {
          "output_type": "stream",
          "name": "stdout",
          "text": [
            "int64 float64 float64\n"
          ]
        }
      ]
    },
    {
      "cell_type": "code",
      "source": [
        "matriz4 = np.array([[25, 50], [30, 80]], dtype = float)"
      ],
      "metadata": {
        "id": "H94fD8Fyj4BA"
      },
      "execution_count": null,
      "outputs": []
    },
    {
      "cell_type": "code",
      "source": [
        "matriz4"
      ],
      "metadata": {
        "colab": {
          "base_uri": "https://localhost:8080/"
        },
        "id": "ZT3mtSmnkIs_",
        "outputId": "9c10ea59-bf3b-4e01-bcf0-469704cdce26"
      },
      "execution_count": null,
      "outputs": [
        {
          "output_type": "execute_result",
          "data": {
            "text/plain": [
              "array([[25., 50.],\n",
              "       [30., 80.]])"
            ]
          },
          "metadata": {},
          "execution_count": 66
        }
      ]
    },
    {
      "cell_type": "code",
      "source": [
        "matriz4.itemsize"
      ],
      "metadata": {
        "colab": {
          "base_uri": "https://localhost:8080/"
        },
        "id": "5gjh_nHKkLSX",
        "outputId": "9fe27312-efe1-495b-cf23-cde45b7cf1f8"
      },
      "execution_count": null,
      "outputs": [
        {
          "output_type": "execute_result",
          "data": {
            "text/plain": [
              "8"
            ]
          },
          "metadata": {},
          "execution_count": 67
        }
      ]
    },
    {
      "cell_type": "code",
      "source": [
        "matriz4.nbytes"
      ],
      "metadata": {
        "colab": {
          "base_uri": "https://localhost:8080/"
        },
        "id": "jzsAgyP4kSQz",
        "outputId": "e47232d4-c6f6-4fd5-e59d-3376f73c10fc"
      },
      "execution_count": null,
      "outputs": [
        {
          "output_type": "execute_result",
          "data": {
            "text/plain": [
              "32"
            ]
          },
          "metadata": {},
          "execution_count": 68
        }
      ]
    },
    {
      "cell_type": "code",
      "source": [
        "matriz4.ndim"
      ],
      "metadata": {
        "colab": {
          "base_uri": "https://localhost:8080/"
        },
        "id": "gmKXXTA5kUpu",
        "outputId": "df0b2c9d-3d07-4023-e88d-468b35577166"
      },
      "execution_count": null,
      "outputs": [
        {
          "output_type": "execute_result",
          "data": {
            "text/plain": [
              "2"
            ]
          },
          "metadata": {},
          "execution_count": 69
        }
      ]
    },
    {
      "cell_type": "code",
      "source": [
        "matriz4[0,1]"
      ],
      "metadata": {
        "colab": {
          "base_uri": "https://localhost:8080/"
        },
        "id": "J0HW4KYykc5o",
        "outputId": "8150fccb-2c54-45d8-e55f-89ed113aa191"
      },
      "execution_count": null,
      "outputs": [
        {
          "output_type": "execute_result",
          "data": {
            "text/plain": [
              "50.0"
            ]
          },
          "metadata": {},
          "execution_count": 70
        }
      ]
    },
    {
      "cell_type": "code",
      "source": [
        "matriz3[0,1] = 70"
      ],
      "metadata": {
        "id": "tvtWfBstkYIp"
      },
      "execution_count": null,
      "outputs": []
    },
    {
      "cell_type": "code",
      "source": [
        "matriz3"
      ],
      "metadata": {
        "colab": {
          "base_uri": "https://localhost:8080/"
        },
        "id": "uixNO2f5kmJQ",
        "outputId": "3db50a03-ad84-4f6f-9952-d74d3e9a5c73"
      },
      "execution_count": null,
      "outputs": [
        {
          "output_type": "execute_result",
          "data": {
            "text/plain": [
              "matrix([[  0,  70,   2],\n",
              "        [100,   4,   5],\n",
              "        [  6,   7,   8]])"
            ]
          },
          "metadata": {},
          "execution_count": 72
        }
      ]
    },
    {
      "cell_type": "markdown",
      "source": [
        "# **Random()**\n"
      ],
      "metadata": {
        "id": "WT9J26BckpyG"
      }
    },
    {
      "cell_type": "code",
      "source": [
        "print(np.random.rand(12))"
      ],
      "metadata": {
        "colab": {
          "base_uri": "https://localhost:8080/"
        },
        "id": "vx4uvCjOk5UR",
        "outputId": "5898fb17-afd7-4a7f-f32f-ae5b5fa2f27f"
      },
      "execution_count": null,
      "outputs": [
        {
          "output_type": "stream",
          "name": "stdout",
          "text": [
            "[0.65808845 0.3363391  0.83568457 0.6929193  0.25862996 0.66689525\n",
            " 0.13683256 0.4128567  0.00737691 0.16323534 0.93542669 0.69288742]\n"
          ]
        }
      ]
    },
    {
      "cell_type": "code",
      "source": [
        "import matplotlib.pyplot as plt"
      ],
      "metadata": {
        "id": "UREjKI-3lNK6"
      },
      "execution_count": null,
      "outputs": []
    },
    {
      "cell_type": "code",
      "source": [
        "print(np.random.rand(12))"
      ],
      "metadata": {
        "colab": {
          "base_uri": "https://localhost:8080/"
        },
        "id": "4mcyzAWOlRZj",
        "outputId": "2171403a-66b3-47fa-9c55-3027f4d154b8"
      },
      "execution_count": null,
      "outputs": [
        {
          "output_type": "stream",
          "name": "stdout",
          "text": [
            "[0.62600685 0.73712858 0.39750303 0.92333785 0.88653758 0.01632265\n",
            " 0.12398265 0.0764201  0.56672788 0.71024925 0.77182506 0.14431088]\n"
          ]
        }
      ]
    },
    {
      "cell_type": "code",
      "source": [
        "plt.show((plt.hist(np.random.rand(1000))))"
      ],
      "metadata": {
        "colab": {
          "base_uri": "https://localhost:8080/",
          "height": 265
        },
        "id": "HdDeuCfhlcey",
        "outputId": "381d0033-8efb-4da7-e647-47f133a3309e"
      },
      "execution_count": null,
      "outputs": [
        {
          "output_type": "display_data",
          "data": {
            "text/plain": [
              "<Figure size 432x288 with 1 Axes>"
            ],
            "image/png": "[encoded data removed]"
          },
          "metadata": {
            "needs_background": "light"
          }
        }
      ]
    },
    {
      "cell_type": "code",
      "source": [
        "print(np.random.randn(6, 6))"
      ],
      "metadata": {
        "colab": {
          "base_uri": "https://localhost:8080/"
        },
        "id": "zwIH991vlupd",
        "outputId": "51a84025-eca1-4b4b-8e00-34223f98ab94"
      },
      "execution_count": null,
      "outputs": [
        {
          "output_type": "stream",
          "name": "stdout",
          "text": [
            "[[ 1.47534883  1.1944127  -1.22032814  1.42522301  1.10132006 -0.46474276]\n",
            " [ 0.35523777  0.98760161  0.54043663 -1.66470986  2.46522869 -1.41612891]\n",
            " [-0.99976409  1.35240102  0.12774692  0.05562891  1.11254398 -0.8163324 ]\n",
            " [ 0.98982853 -0.26434472  0.4981121  -0.75854514  0.58188112  0.37946341]\n",
            " [ 1.88655913 -0.73275073 -2.36651823 -1.49352092  0.06972372 -0.64514169]\n",
            " [-0.34244617  0.48501666 -0.2481849  -0.24523175  2.85502978  0.55943906]]\n"
          ]
        }
      ]
    },
    {
      "cell_type": "code",
      "source": [
        "plt.show((plt.hist(np.random.randn(1000))))"
      ],
      "metadata": {
        "colab": {
          "base_uri": "https://localhost:8080/",
          "height": 265
        },
        "id": "EHCkQ1LNlzpL",
        "outputId": "63a591ac-6863-4f53-8ddb-ea58fdcf899e"
      },
      "execution_count": null,
      "outputs": [
        {
          "output_type": "display_data",
          "data": {
            "text/plain": [
              "<Figure size 432x288 with 1 Axes>"
            ],
            "image/png": "[encoded data removed]"
          },
          "metadata": {
            "needs_background": "light"
          }
        }
      ]
    },
    {
      "cell_type": "code",
      "source": [
        "image = np.random.rand(30, 30)\n",
        "plt.imshow(image, cmap = plt.cm.hot)\n",
        "plt.colorbar()"
      ],
      "metadata": {
        "colab": {
          "base_uri": "https://localhost:8080/",
          "height": 283
        },
        "id": "gV3EO487mIbM",
        "outputId": "f2ebe9ed-080b-4089-b207-fee91b9fc356"
      },
      "execution_count": null,
      "outputs": [
        {
          "output_type": "execute_result",
          "data": {
            "text/plain": [
              "<matplotlib.colorbar.Colorbar at 0x7fbb353181d0>"
            ]
          },
          "metadata": {},
          "execution_count": 84
        },
        {
          "output_type": "display_data",
          "data": {
            "text/plain": [
              "<Figure size 432x288 with 2 Axes>"
            ],
            "image/png": "[encoded data removed]"
          },
          "metadata": {
            "needs_background": "light"
          }
        }
      ]
    },
    {
      "cell_type": "markdown",
      "source": [
        "# **Operations with datasets**"
      ],
      "metadata": {
        "id": "rcXsjlnnmg9Q"
      }
    },
    {
      "cell_type": "code",
      "source": [
        "import os\n",
        "\n",
        "filename = os.path.join('iris.csv')"
      ],
      "metadata": {
        "id": "822lsPQFmort"
      },
      "execution_count": null,
      "outputs": []
    },
    {
      "cell_type": "code",
      "source": [
        "!head iris.csv"
      ],
      "metadata": {
        "colab": {
          "base_uri": "https://localhost:8080/"
        },
        "id": "mXzo1Jitm0UQ",
        "outputId": "29f8f359-6003-4836-8fca-cf7a91b7b61b"
      },
      "execution_count": null,
      "outputs": [
        {
          "output_type": "stream",
          "name": "stdout",
          "text": [
            "sepal_length,sepal_width,petal_length,petal_width,species\n",
            "5.1,3.5,1.4,0.2,setosa\n",
            "4.9,3,1.4,0.2,setosa\n",
            "4.7,3.2,1.3,0.2,setosa\n",
            "4.6,3.1,1.5,0.2,setosa\n",
            "5,3.6,1.4,0.2,setosa\n",
            "5.4,3.9,1.7,0.4,setosa\n",
            "4.6,3.4,1.4,0.3,setosa\n",
            "5,3.4,1.5,0.2,setosa\n",
            "4.4,2.9,1.4,0.2,setosa\n"
          ]
        }
      ]
    },
    {
      "cell_type": "code",
      "source": [
        "file = np.loadtxt(filename, delimiter = ',', usecols = (0, 1, 2, 3), skiprows = 1)\n",
        "print(file)"
      ],
      "metadata": {
        "colab": {
          "base_uri": "https://localhost:8080/"
        },
        "id": "bMULta9KnDDi",
        "outputId": "d80218de-e25b-4c95-97ce-6a1d9567f1cb"
      },
      "execution_count": null,
      "outputs": [
        {
          "output_type": "stream",
          "name": "stdout",
          "text": [
            "[[5.1 3.5 1.4 0.2]\n",
            " [4.9 3.  1.4 0.2]\n",
            " [4.7 3.2 1.3 0.2]\n",
            " [4.6 3.1 1.5 0.2]\n",
            " [5.  3.6 1.4 0.2]\n",
            " [5.4 3.9 1.7 0.4]\n",
            " [4.6 3.4 1.4 0.3]\n",
            " [5.  3.4 1.5 0.2]\n",
            " [4.4 2.9 1.4 0.2]\n",
            " [4.9 3.1 1.5 0.1]\n",
            " [5.4 3.7 1.5 0.2]\n",
            " [4.8 3.4 1.6 0.2]\n",
            " [4.8 3.  1.4 0.1]\n",
            " [4.3 3.  1.1 0.1]\n",
            " [5.8 4.  1.2 0.2]\n",
            " [5.7 4.4 1.5 0.4]\n",
            " [5.4 3.9 1.3 0.4]\n",
            " [5.1 3.5 1.4 0.3]\n",
            " [5.7 3.8 1.7 0.3]\n",
            " [5.1 3.8 1.5 0.3]\n",
            " [5.4 3.4 1.7 0.2]\n",
            " [5.1 3.7 1.5 0.4]\n",
            " [4.6 3.6 1.  0.2]\n",
            " [5.1 3.3 1.7 0.5]\n",
            " [4.8 3.4 1.9 0.2]\n",
            " [5.  3.  1.6 0.2]\n",
            " [5.  3.4 1.6 0.4]\n",
            " [5.2 3.5 1.5 0.2]\n",
            " [5.2 3.4 1.4 0.2]\n",
            " [4.7 3.2 1.6 0.2]\n",
            " [4.8 3.1 1.6 0.2]\n",
            " [5.4 3.4 1.5 0.4]\n",
            " [5.2 4.1 1.5 0.1]\n",
            " [5.5 4.2 1.4 0.2]\n",
            " [4.9 3.1 1.5 0.1]\n",
            " [5.  3.2 1.2 0.2]\n",
            " [5.5 3.5 1.3 0.2]\n",
            " [4.9 3.1 1.5 0.1]\n",
            " [4.4 3.  1.3 0.2]\n",
            " [5.1 3.4 1.5 0.2]\n",
            " [5.  3.5 1.3 0.3]\n",
            " [4.5 2.3 1.3 0.3]\n",
            " [4.4 3.2 1.3 0.2]\n",
            " [5.  3.5 1.6 0.6]\n",
            " [5.1 3.8 1.9 0.4]\n",
            " [4.8 3.  1.4 0.3]\n",
            " [5.1 3.8 1.6 0.2]\n",
            " [4.6 3.2 1.4 0.2]\n",
            " [5.3 3.7 1.5 0.2]\n",
            " [5.  3.3 1.4 0.2]\n",
            " [7.  3.2 4.7 1.4]\n",
            " [6.4 3.2 4.5 1.5]\n",
            " [6.9 3.1 4.9 1.5]\n",
            " [5.5 2.3 4.  1.3]\n",
            " [6.5 2.8 4.6 1.5]\n",
            " [5.7 2.8 4.5 1.3]\n",
            " [6.3 3.3 4.7 1.6]\n",
            " [4.9 2.4 3.3 1. ]\n",
            " [6.6 2.9 4.6 1.3]\n",
            " [5.2 2.7 3.9 1.4]\n",
            " [5.  2.  3.5 1. ]\n",
            " [5.9 3.  4.2 1.5]\n",
            " [6.  2.2 4.  1. ]\n",
            " [6.1 2.9 4.7 1.4]\n",
            " [5.6 2.9 3.6 1.3]\n",
            " [6.7 3.1 4.4 1.4]\n",
            " [5.6 3.  4.5 1.5]\n",
            " [5.8 2.7 4.1 1. ]\n",
            " [6.2 2.2 4.5 1.5]\n",
            " [5.6 2.5 3.9 1.1]\n",
            " [5.9 3.2 4.8 1.8]\n",
            " [6.1 2.8 4.  1.3]\n",
            " [6.3 2.5 4.9 1.5]\n",
            " [6.1 2.8 4.7 1.2]\n",
            " [6.4 2.9 4.3 1.3]\n",
            " [6.6 3.  4.4 1.4]\n",
            " [6.8 2.8 4.8 1.4]\n",
            " [6.7 3.  5.  1.7]\n",
            " [6.  2.9 4.5 1.5]\n",
            " [5.7 2.6 3.5 1. ]\n",
            " [5.5 2.4 3.8 1.1]\n",
            " [5.5 2.4 3.7 1. ]\n",
            " [5.8 2.7 3.9 1.2]\n",
            " [6.  2.7 5.1 1.6]\n",
            " [5.4 3.  4.5 1.5]\n",
            " [6.  3.4 4.5 1.6]\n",
            " [6.7 3.1 4.7 1.5]\n",
            " [6.3 2.3 4.4 1.3]\n",
            " [5.6 3.  4.1 1.3]\n",
            " [5.5 2.5 4.  1.3]\n",
            " [5.5 2.6 4.4 1.2]\n",
            " [6.1 3.  4.6 1.4]\n",
            " [5.8 2.6 4.  1.2]\n",
            " [5.  2.3 3.3 1. ]\n",
            " [5.6 2.7 4.2 1.3]\n",
            " [5.7 3.  4.2 1.2]\n",
            " [5.7 2.9 4.2 1.3]\n",
            " [6.2 2.9 4.3 1.3]\n",
            " [5.1 2.5 3.  1.1]\n",
            " [5.7 2.8 4.1 1.3]\n",
            " [6.3 3.3 6.  2.5]\n",
            " [5.8 2.7 5.1 1.9]\n",
            " [7.1 3.  5.9 2.1]\n",
            " [6.3 2.9 5.6 1.8]\n",
            " [6.5 3.  5.8 2.2]\n",
            " [7.6 3.  6.6 2.1]\n",
            " [4.9 2.5 4.5 1.7]\n",
            " [7.3 2.9 6.3 1.8]\n",
            " [6.7 2.5 5.8 1.8]\n",
            " [7.2 3.6 6.1 2.5]\n",
            " [6.5 3.2 5.1 2. ]\n",
            " [6.4 2.7 5.3 1.9]\n",
            " [6.8 3.  5.5 2.1]\n",
            " [5.7 2.5 5.  2. ]\n",
            " [5.8 2.8 5.1 2.4]\n",
            " [6.4 3.2 5.3 2.3]\n",
            " [6.5 3.  5.5 1.8]\n",
            " [7.7 3.8 6.7 2.2]\n",
            " [7.7 2.6 6.9 2.3]\n",
            " [6.  2.2 5.  1.5]\n",
            " [6.9 3.2 5.7 2.3]\n",
            " [5.6 2.8 4.9 2. ]\n",
            " [7.7 2.8 6.7 2. ]\n",
            " [6.3 2.7 4.9 1.8]\n",
            " [6.7 3.3 5.7 2.1]\n",
            " [7.2 3.2 6.  1.8]\n",
            " [6.2 2.8 4.8 1.8]\n",
            " [6.1 3.  4.9 1.8]\n",
            " [6.4 2.8 5.6 2.1]\n",
            " [7.2 3.  5.8 1.6]\n",
            " [7.4 2.8 6.1 1.9]\n",
            " [7.9 3.8 6.4 2. ]\n",
            " [6.4 2.8 5.6 2.2]\n",
            " [6.3 2.8 5.1 1.5]\n",
            " [6.1 2.6 5.6 1.4]\n",
            " [7.7 3.  6.1 2.3]\n",
            " [6.3 3.4 5.6 2.4]\n",
            " [6.4 3.1 5.5 1.8]\n",
            " [6.  3.  4.8 1.8]\n",
            " [6.9 3.1 5.4 2.1]\n",
            " [6.7 3.1 5.6 2.4]\n",
            " [6.9 3.1 5.1 2.3]\n",
            " [5.8 2.7 5.1 1.9]\n",
            " [6.8 3.2 5.9 2.3]\n",
            " [6.7 3.3 5.7 2.5]\n",
            " [6.7 3.  5.2 2.3]\n",
            " [6.3 2.5 5.  1.9]\n",
            " [6.5 3.  5.2 2. ]\n",
            " [6.2 3.4 5.4 2.3]\n",
            " [5.9 3.  5.1 1.8]]\n"
          ]
        }
      ]
    },
    {
      "cell_type": "code",
      "source": [
        "type(file)"
      ],
      "metadata": {
        "colab": {
          "base_uri": "https://localhost:8080/"
        },
        "id": "aGhKhqzios17",
        "outputId": "6796f5a8-f7a1-4c0f-ef9e-6f36f7fe535e"
      },
      "execution_count": null,
      "outputs": [
        {
          "output_type": "execute_result",
          "data": {
            "text/plain": [
              "numpy.ndarray"
            ]
          },
          "metadata": {},
          "execution_count": 90
        }
      ]
    },
    {
      "cell_type": "code",
      "source": [
        "var1, var2 = np.loadtxt(filename, delimiter = ',', usecols = (0, 1), skiprows = 1, unpack = True)\n",
        "plt.show(plt.plot(var1, var2, 'o', markersize = 8, alpha = 0.75))"
      ],
      "metadata": {
        "colab": {
          "base_uri": "https://localhost:8080/",
          "height": 268
        },
        "id": "fXr6LEuqovCL",
        "outputId": "0c5ba23f-0556-49e7-caf3-97516b93e388"
      },
      "execution_count": null,
      "outputs": [
        {
          "output_type": "display_data",
          "data": {
            "text/plain": [
              "<Figure size 432x288 with 1 Axes>"
            ],
            "image/png": "[encoded data removed]"
          },
          "metadata": {
            "needs_background": "light"
          }
        }
      ]
    },
    {
      "cell_type": "markdown",
      "source": [
        "# **Statistics**"
      ],
      "metadata": {
        "id": "60HxSfkppVq5"
      }
    },
    {
      "cell_type": "code",
      "source": [
        "A = np.array([10, 25, 60, 95, 80])"
      ],
      "metadata": {
        "id": "71oeu1JbppsD"
      },
      "execution_count": null,
      "outputs": []
    },
    {
      "cell_type": "code",
      "source": [
        "np.mean(A)"
      ],
      "metadata": {
        "colab": {
          "base_uri": "https://localhost:8080/"
        },
        "id": "EM4_fzrNpxhS",
        "outputId": "f71b433e-84be-42c8-9243-c99037c5bb47"
      },
      "execution_count": null,
      "outputs": [
        {
          "output_type": "execute_result",
          "data": {
            "text/plain": [
              "54.0"
            ]
          },
          "metadata": {},
          "execution_count": 94
        }
      ]
    },
    {
      "cell_type": "code",
      "source": [
        "np.std(A)"
      ],
      "metadata": {
        "colab": {
          "base_uri": "https://localhost:8080/"
        },
        "id": "N26r14Rjp1aS",
        "outputId": "230a3b3a-066e-47ee-b628-45cce5d7c7ec"
      },
      "execution_count": null,
      "outputs": [
        {
          "output_type": "execute_result",
          "data": {
            "text/plain": [
              "32.155870381627054"
            ]
          },
          "metadata": {},
          "execution_count": 95
        }
      ]
    },
    {
      "cell_type": "code",
      "source": [
        "np.var(A)"
      ],
      "metadata": {
        "colab": {
          "base_uri": "https://localhost:8080/"
        },
        "id": "5lkb-cFIqAwk",
        "outputId": "0a1bfc60-129a-4c32-9531-8ab8b90b0cd6"
      },
      "execution_count": null,
      "outputs": [
        {
          "output_type": "execute_result",
          "data": {
            "text/plain": [
              "1034.0"
            ]
          },
          "metadata": {},
          "execution_count": 96
        }
      ]
    },
    {
      "cell_type": "code",
      "source": [
        "d = np.arange(2, 10)"
      ],
      "metadata": {
        "id": "BectO6FUqCzU"
      },
      "execution_count": null,
      "outputs": []
    },
    {
      "cell_type": "code",
      "source": [
        "d"
      ],
      "metadata": {
        "colab": {
          "base_uri": "https://localhost:8080/"
        },
        "id": "iVK-jcrkqPNT",
        "outputId": "ba3c4a22-4d14-4b23-b997-21d29625c93e"
      },
      "execution_count": null,
      "outputs": [
        {
          "output_type": "execute_result",
          "data": {
            "text/plain": [
              "array([2, 3, 4, 5, 6, 7, 8, 9])"
            ]
          },
          "metadata": {},
          "execution_count": 98
        }
      ]
    },
    {
      "cell_type": "code",
      "source": [
        "np.sum(d)"
      ],
      "metadata": {
        "colab": {
          "base_uri": "https://localhost:8080/"
        },
        "id": "h-bw3gkTqQPj",
        "outputId": "1ea28694-2fc5-4df3-9a69-c3f6d935ce84"
      },
      "execution_count": null,
      "outputs": [
        {
          "output_type": "execute_result",
          "data": {
            "text/plain": [
              "44"
            ]
          },
          "metadata": {},
          "execution_count": 99
        }
      ]
    },
    {
      "cell_type": "code",
      "source": [
        "np.prod(d)"
      ],
      "metadata": {
        "colab": {
          "base_uri": "https://localhost:8080/"
        },
        "id": "pZZRzTliqS4h",
        "outputId": "c5942c07-e08d-410f-81d2-a2512dc146fb"
      },
      "execution_count": null,
      "outputs": [
        {
          "output_type": "execute_result",
          "data": {
            "text/plain": [
              "362880"
            ]
          },
          "metadata": {},
          "execution_count": 100
        }
      ]
    },
    {
      "cell_type": "code",
      "source": [
        "np.cumsum(d)"
      ],
      "metadata": {
        "colab": {
          "base_uri": "https://localhost:8080/"
        },
        "id": "QaffmL7Kqa1L",
        "outputId": "1b18a2e1-da49-4cdb-89b5-978f2c1948e2"
      },
      "execution_count": null,
      "outputs": [
        {
          "output_type": "execute_result",
          "data": {
            "text/plain": [
              "array([ 2,  5,  9, 14, 20, 27, 35, 44])"
            ]
          },
          "metadata": {},
          "execution_count": 101
        }
      ]
    },
    {
      "cell_type": "code",
      "source": [
        "a = np.random.randn(400, 2)\n",
        "m = a.mean(0)\n",
        "print(m, m.shape)"
      ],
      "metadata": {
        "colab": {
          "base_uri": "https://localhost:8080/"
        },
        "id": "o8PPZbnpqgP7",
        "outputId": "880136d1-a51f-4be8-c32d-bc76fafa3d0b"
      },
      "execution_count": null,
      "outputs": [
        {
          "output_type": "stream",
          "name": "stdout",
          "text": [
            "[0.02885038 0.02727253] (2,)\n"
          ]
        }
      ]
    },
    {
      "cell_type": "code",
      "source": [
        "plt.plot(a[:,0], a[:,1], 'o', markersize = 5, alpha = 0.50)\n",
        "plt.plot(m[0], m[1], 'o', markersize= 10)\n",
        "plt.show()"
      ],
      "metadata": {
        "colab": {
          "base_uri": "https://localhost:8080/",
          "height": 265
        },
        "id": "ws1Ut-Npqxd1",
        "outputId": "362d12ba-33f9-4fd4-a041-29844eb95518"
      },
      "execution_count": null,
      "outputs": [
        {
          "output_type": "display_data",
          "data": {
            "text/plain": [
              "<Figure size 432x288 with 1 Axes>"
            ],
            "image/png": "[encoded data removed]"
          },
          "metadata": {
            "needs_background": "light"
          }
        }
      ]
    },
    {
      "cell_type": "markdown",
      "source": [
        "# **Operations with arrays**"
      ],
      "metadata": {
        "id": "z94MP_PLsO4d"
      }
    },
    {
      "cell_type": "code",
      "source": [
        "a = np.diag(np.arange(3))"
      ],
      "metadata": {
        "id": "dtgWHZxbtA2c"
      },
      "execution_count": null,
      "outputs": []
    },
    {
      "cell_type": "code",
      "source": [
        "a"
      ],
      "metadata": {
        "colab": {
          "base_uri": "https://localhost:8080/"
        },
        "id": "UjmolG07vpeX",
        "outputId": "94dd9a99-e3c3-4042-fb1a-ebb0fe0e27f4"
      },
      "execution_count": null,
      "outputs": [
        {
          "output_type": "execute_result",
          "data": {
            "text/plain": [
              "array([[0, 0, 0],\n",
              "       [0, 1, 0],\n",
              "       [0, 0, 2]])"
            ]
          },
          "metadata": {},
          "execution_count": 106
        }
      ]
    },
    {
      "cell_type": "code",
      "source": [
        "a[1, 1]"
      ],
      "metadata": {
        "colab": {
          "base_uri": "https://localhost:8080/"
        },
        "id": "TPzHTqb9vqfe",
        "outputId": "b650458e-91a7-4505-80ec-1cedf4b6867f"
      },
      "execution_count": null,
      "outputs": [
        {
          "output_type": "execute_result",
          "data": {
            "text/plain": [
              "1"
            ]
          },
          "metadata": {},
          "execution_count": 107
        }
      ]
    },
    {
      "cell_type": "code",
      "source": [
        "a[1]"
      ],
      "metadata": {
        "colab": {
          "base_uri": "https://localhost:8080/"
        },
        "id": "rDz9q2GqyF74",
        "outputId": "3764ee86-6cb1-4d97-9ded-bb20e8f923ef"
      },
      "execution_count": null,
      "outputs": [
        {
          "output_type": "execute_result",
          "data": {
            "text/plain": [
              "array([0, 1, 0])"
            ]
          },
          "metadata": {},
          "execution_count": 108
        }
      ]
    },
    {
      "cell_type": "code",
      "source": [
        "b = np.arange(10)"
      ],
      "metadata": {
        "id": "G1MugjoIyH6h"
      },
      "execution_count": null,
      "outputs": []
    },
    {
      "cell_type": "code",
      "source": [
        "b"
      ],
      "metadata": {
        "colab": {
          "base_uri": "https://localhost:8080/"
        },
        "id": "tj-EC459yLDx",
        "outputId": "54a96330-48f2-4cf2-a503-063a219d3c08"
      },
      "execution_count": null,
      "outputs": [
        {
          "output_type": "execute_result",
          "data": {
            "text/plain": [
              "array([0, 1, 2, 3, 4, 5, 6, 7, 8, 9])"
            ]
          },
          "metadata": {},
          "execution_count": 110
        }
      ]
    },
    {
      "cell_type": "code",
      "source": [
        "b[2:9:3]"
      ],
      "metadata": {
        "colab": {
          "base_uri": "https://localhost:8080/"
        },
        "id": "z25ImtLnyMPb",
        "outputId": "f9755b31-15c1-4cf3-ba4a-2e3e270d323f"
      },
      "execution_count": null,
      "outputs": [
        {
          "output_type": "execute_result",
          "data": {
            "text/plain": [
              "array([2, 5, 8])"
            ]
          },
          "metadata": {},
          "execution_count": 111
        }
      ]
    },
    {
      "cell_type": "code",
      "source": [
        "a = np.array([1, 2, 3, 4]) \n",
        "b = np.array([4, 5, 5, 6]) \n",
        "a == b"
      ],
      "metadata": {
        "colab": {
          "base_uri": "https://localhost:8080/"
        },
        "id": "7puj7B6GyovX",
        "outputId": "bdee9303-a7ba-4f4f-a728-33283beb1003"
      },
      "execution_count": null,
      "outputs": [
        {
          "output_type": "execute_result",
          "data": {
            "text/plain": [
              "array([False, False, False, False])"
            ]
          },
          "metadata": {},
          "execution_count": 112
        }
      ]
    },
    {
      "cell_type": "code",
      "source": [
        "np.array_equal(a, b)"
      ],
      "metadata": {
        "colab": {
          "base_uri": "https://localhost:8080/"
        },
        "id": "95aH2BuUy4pK",
        "outputId": "38f70166-0475-4c79-b6ad-84a21ed807cd"
      },
      "execution_count": null,
      "outputs": [
        {
          "output_type": "execute_result",
          "data": {
            "text/plain": [
              "False"
            ]
          },
          "metadata": {},
          "execution_count": 113
        }
      ]
    },
    {
      "cell_type": "code",
      "source": [
        "a.min()\n"
      ],
      "metadata": {
        "colab": {
          "base_uri": "https://localhost:8080/"
        },
        "id": "9XEujQDDy9Sd",
        "outputId": "7f747f24-dde0-4b50-e20e-9a32e259ca20"
      },
      "execution_count": null,
      "outputs": [
        {
          "output_type": "execute_result",
          "data": {
            "text/plain": [
              "1"
            ]
          },
          "metadata": {},
          "execution_count": 114
        }
      ]
    },
    {
      "cell_type": "code",
      "source": [
        "a.max()"
      ],
      "metadata": {
        "colab": {
          "base_uri": "https://localhost:8080/"
        },
        "id": "FVq9n1XCy_n8",
        "outputId": "f20b5e82-2984-4827-8adf-4e3fee9857ec"
      },
      "execution_count": null,
      "outputs": [
        {
          "output_type": "execute_result",
          "data": {
            "text/plain": [
              "4"
            ]
          },
          "metadata": {},
          "execution_count": 115
        }
      ]
    },
    {
      "cell_type": "code",
      "source": [
        "np.array([1, 2, 3]) + 1.0"
      ],
      "metadata": {
        "colab": {
          "base_uri": "https://localhost:8080/"
        },
        "id": "YZopD3pDzBOm",
        "outputId": "45d14580-3a7b-490a-d4c5-85f3e6ec8c45"
      },
      "execution_count": null,
      "outputs": [
        {
          "output_type": "execute_result",
          "data": {
            "text/plain": [
              "array([2., 3., 4.])"
            ]
          },
          "metadata": {},
          "execution_count": 116
        }
      ]
    },
    {
      "cell_type": "code",
      "source": [
        "a = np.array([1.1, 1.3, 1.5, 1.7, 1.9, 2.1, 2.3, 2.6, 2.9])"
      ],
      "metadata": {
        "id": "rHNKKw26zQAv"
      },
      "execution_count": null,
      "outputs": []
    },
    {
      "cell_type": "code",
      "source": [
        "b = np.around(a)"
      ],
      "metadata": {
        "id": "1yOtJpBfzd9r"
      },
      "execution_count": null,
      "outputs": []
    },
    {
      "cell_type": "code",
      "source": [
        "b"
      ],
      "metadata": {
        "colab": {
          "base_uri": "https://localhost:8080/"
        },
        "id": "AsPgO1Ltzi6j",
        "outputId": "02ac6a82-ea9e-4e0e-9ec1-f1f3f0278c44"
      },
      "execution_count": null,
      "outputs": [
        {
          "output_type": "execute_result",
          "data": {
            "text/plain": [
              "array([1., 1., 2., 2., 2., 2., 2., 3., 3.])"
            ]
          },
          "metadata": {},
          "execution_count": 120
        }
      ]
    },
    {
      "cell_type": "code",
      "source": [
        "B = np.array([1, 2, 3, 4])"
      ],
      "metadata": {
        "id": "xhjWAwiWzkuR"
      },
      "execution_count": null,
      "outputs": []
    },
    {
      "cell_type": "code",
      "source": [
        "B"
      ],
      "metadata": {
        "colab": {
          "base_uri": "https://localhost:8080/"
        },
        "id": "k8QpSZQXzxsW",
        "outputId": "f28d77ed-6848-48f6-892e-a751a2eaa684"
      },
      "execution_count": null,
      "outputs": [
        {
          "output_type": "execute_result",
          "data": {
            "text/plain": [
              "array([1, 2, 3, 4])"
            ]
          },
          "metadata": {},
          "execution_count": 122
        }
      ]
    },
    {
      "cell_type": "code",
      "source": [
        "C = B.flatten()"
      ],
      "metadata": {
        "id": "XFV0afOIzz30"
      },
      "execution_count": null,
      "outputs": []
    },
    {
      "cell_type": "code",
      "source": [
        "C"
      ],
      "metadata": {
        "colab": {
          "base_uri": "https://localhost:8080/"
        },
        "id": "8fkJLGfmz4h3",
        "outputId": "85c7527c-0296-4afa-818c-3b25927cadfe"
      },
      "execution_count": null,
      "outputs": [
        {
          "output_type": "execute_result",
          "data": {
            "text/plain": [
              "array([1, 2, 3, 4])"
            ]
          },
          "metadata": {},
          "execution_count": 124
        }
      ]
    },
    {
      "cell_type": "code",
      "source": [
        "v = np.array([1, 2, 3])"
      ],
      "metadata": {
        "id": "kcK9hyK2z6n1"
      },
      "execution_count": null,
      "outputs": []
    },
    {
      "cell_type": "code",
      "source": [
        "v[:, np.newaxis], v[:, np.newaxis].shape, v[np.newaxis,:].shape"
      ],
      "metadata": {
        "colab": {
          "base_uri": "https://localhost:8080/"
        },
        "id": "gA9iTThj0AZp",
        "outputId": "1b8ee08d-b143-4785-bb2f-506989131b36"
      },
      "execution_count": null,
      "outputs": [
        {
          "output_type": "execute_result",
          "data": {
            "text/plain": [
              "(array([[1],\n",
              "        [2],\n",
              "        [3]]), (3, 1), (1, 3))"
            ]
          },
          "metadata": {},
          "execution_count": 126
        }
      ]
    },
    {
      "cell_type": "code",
      "source": [
        "np.repeat(v, 3)"
      ],
      "metadata": {
        "colab": {
          "base_uri": "https://localhost:8080/"
        },
        "id": "1sLsodZt0gIK",
        "outputId": "bda5f479-8b3d-471f-e049-bf257eecd5dd"
      },
      "execution_count": null,
      "outputs": [
        {
          "output_type": "execute_result",
          "data": {
            "text/plain": [
              "array([1, 1, 1, 2, 2, 2, 3, 3, 3])"
            ]
          },
          "metadata": {},
          "execution_count": 127
        }
      ]
    },
    {
      "cell_type": "code",
      "source": [
        "np.tile(v, 3)"
      ],
      "metadata": {
        "colab": {
          "base_uri": "https://localhost:8080/"
        },
        "id": "kYMx2Zvd0qeC",
        "outputId": "96e0a989-7eb5-41b0-c67b-b77e10faa398"
      },
      "execution_count": null,
      "outputs": [
        {
          "output_type": "execute_result",
          "data": {
            "text/plain": [
              "array([1, 2, 3, 1, 2, 3, 1, 2, 3])"
            ]
          },
          "metadata": {},
          "execution_count": 128
        }
      ]
    },
    {
      "cell_type": "code",
      "source": [
        "w = np.array([5, 6])"
      ],
      "metadata": {
        "id": "QZNkDyDd0wUu"
      },
      "execution_count": null,
      "outputs": []
    },
    {
      "cell_type": "code",
      "source": [
        "np.concatenate((v, w), axis = 0)"
      ],
      "metadata": {
        "colab": {
          "base_uri": "https://localhost:8080/"
        },
        "id": "MIioaAXh00ip",
        "outputId": "99b826b0-6322-41f6-e6ec-9d9090883856"
      },
      "execution_count": null,
      "outputs": [
        {
          "output_type": "execute_result",
          "data": {
            "text/plain": [
              "array([1, 2, 3, 5, 6])"
            ]
          },
          "metadata": {},
          "execution_count": 132
        }
      ]
    },
    {
      "cell_type": "code",
      "source": [
        "r = np.copy(v)"
      ],
      "metadata": {
        "id": "uFJsfIJr1A0s"
      },
      "execution_count": null,
      "outputs": []
    },
    {
      "cell_type": "code",
      "source": [
        "r"
      ],
      "metadata": {
        "colab": {
          "base_uri": "https://localhost:8080/"
        },
        "id": "XkGHvAuN1DyN",
        "outputId": "090c479c-1062-42dd-dfd6-8a0e21807e3b"
      },
      "execution_count": null,
      "outputs": [
        {
          "output_type": "execute_result",
          "data": {
            "text/plain": [
              "array([1, 2, 3])"
            ]
          },
          "metadata": {},
          "execution_count": 134
        }
      ]
    },
    {
      "cell_type": "markdown",
      "source": [
        "# **Pandas**\n",
        "\n",
        "They were created to design to quickly and expressively manipulate structured data. They are useful to manipulate time series."
      ],
      "metadata": {
        "id": "SR8gsZrK5JBX"
      }
    },
    {
      "cell_type": "code",
      "source": [
        "import pandas as pd"
      ],
      "metadata": {
        "id": "ZZ42tkQn5LZ-"
      },
      "execution_count": 2,
      "outputs": []
    },
    {
      "cell_type": "code",
      "source": [
        "pd.__version__"
      ],
      "metadata": {
        "colab": {
          "base_uri": "https://localhost:8080/",
          "height": 35
        },
        "id": "a9tFC0qN9Bbl",
        "outputId": "76ecde25-aadd-4bef-eb67-485df5e32112"
      },
      "execution_count": null,
      "outputs": [
        {
          "output_type": "execute_result",
          "data": {
            "text/plain": [
              "'1.3.5'"
            ],
            "application/vnd.google.colaboratory.intrinsic+json": {
              "type": "string"
            }
          },
          "metadata": {},
          "execution_count": 136
        }
      ]
    },
    {
      "cell_type": "code",
      "source": [
        "Obj = pd.Series([56, 70, -20, 12])"
      ],
      "metadata": {
        "id": "U3XDNuBh9Glu"
      },
      "execution_count": null,
      "outputs": []
    },
    {
      "cell_type": "code",
      "source": [
        "Obj"
      ],
      "metadata": {
        "colab": {
          "base_uri": "https://localhost:8080/"
        },
        "id": "HkTUsXPI9Vxp",
        "outputId": "67ee6230-8c22-44db-b508-2fffabfa43c6"
      },
      "execution_count": null,
      "outputs": [
        {
          "output_type": "execute_result",
          "data": {
            "text/plain": [
              "0    56\n",
              "1    70\n",
              "2   -20\n",
              "3    12\n",
              "dtype: int64"
            ]
          },
          "metadata": {},
          "execution_count": 138
        }
      ]
    },
    {
      "cell_type": "code",
      "source": [
        "type(Obj)"
      ],
      "metadata": {
        "colab": {
          "base_uri": "https://localhost:8080/"
        },
        "id": "XxXG-e6U9Ysm",
        "outputId": "d3025198-de07-4215-b2bc-361807db56c8"
      },
      "execution_count": null,
      "outputs": [
        {
          "output_type": "execute_result",
          "data": {
            "text/plain": [
              "pandas.core.series.Series"
            ]
          },
          "metadata": {},
          "execution_count": 139
        }
      ]
    },
    {
      "cell_type": "code",
      "source": [
        "Obj.values"
      ],
      "metadata": {
        "colab": {
          "base_uri": "https://localhost:8080/"
        },
        "id": "XRD58Y6P9xip",
        "outputId": "69cc746e-5bec-42c8-8c10-e536cd2a0014"
      },
      "execution_count": null,
      "outputs": [
        {
          "output_type": "execute_result",
          "data": {
            "text/plain": [
              "array([ 56,  70, -20,  12])"
            ]
          },
          "metadata": {},
          "execution_count": 140
        }
      ]
    },
    {
      "cell_type": "code",
      "source": [
        "Obj.index"
      ],
      "metadata": {
        "colab": {
          "base_uri": "https://localhost:8080/"
        },
        "id": "QClXQ63o90GR",
        "outputId": "4e0eba19-2f99-41f0-ce81-3d9e52a7f51f"
      },
      "execution_count": null,
      "outputs": [
        {
          "output_type": "execute_result",
          "data": {
            "text/plain": [
              "RangeIndex(start=0, stop=4, step=1)"
            ]
          },
          "metadata": {},
          "execution_count": 141
        }
      ]
    },
    {
      "cell_type": "code",
      "source": [
        "Obj2 = pd.Series([50, 45, 79, 11], index = ['a', 'b', 'c', 'd'])"
      ],
      "metadata": {
        "id": "080H7ONw94k0"
      },
      "execution_count": null,
      "outputs": []
    },
    {
      "cell_type": "code",
      "source": [
        "Obj2"
      ],
      "metadata": {
        "colab": {
          "base_uri": "https://localhost:8080/"
        },
        "id": "BvvJaj4Z-YnT",
        "outputId": "e5947960-f0d9-4eea-df1e-840086428fad"
      },
      "execution_count": null,
      "outputs": [
        {
          "output_type": "execute_result",
          "data": {
            "text/plain": [
              "a    50\n",
              "b    45\n",
              "c    79\n",
              "d    11\n",
              "dtype: int64"
            ]
          },
          "metadata": {},
          "execution_count": 143
        }
      ]
    },
    {
      "cell_type": "code",
      "source": [
        "Obj2.values"
      ],
      "metadata": {
        "colab": {
          "base_uri": "https://localhost:8080/"
        },
        "id": "ZM8bfwbm-aA2",
        "outputId": "e649eb03-a663-43a8-e830-20eb39f798a5"
      },
      "execution_count": null,
      "outputs": [
        {
          "output_type": "execute_result",
          "data": {
            "text/plain": [
              "array([50, 45, 79, 11])"
            ]
          },
          "metadata": {},
          "execution_count": 145
        }
      ]
    },
    {
      "cell_type": "code",
      "source": [
        "Obj2.index"
      ],
      "metadata": {
        "colab": {
          "base_uri": "https://localhost:8080/"
        },
        "id": "-LvVfYCh-dwM",
        "outputId": "bf82af71-ee1e-407f-f455-572b05bfb7c8"
      },
      "execution_count": null,
      "outputs": [
        {
          "output_type": "execute_result",
          "data": {
            "text/plain": [
              "Index(['a', 'b', 'c', 'd'], dtype='object')"
            ]
          },
          "metadata": {},
          "execution_count": 146
        }
      ]
    },
    {
      "cell_type": "code",
      "source": [
        "Obj2[Obj2 > 3]"
      ],
      "metadata": {
        "colab": {
          "base_uri": "https://localhost:8080/"
        },
        "id": "Xc734kOW-f6Q",
        "outputId": "9e0a503b-6a90-46c7-ea7e-dc1b885079e4"
      },
      "execution_count": null,
      "outputs": [
        {
          "output_type": "execute_result",
          "data": {
            "text/plain": [
              "a    50\n",
              "b    45\n",
              "c    79\n",
              "d    11\n",
              "dtype: int64"
            ]
          },
          "metadata": {},
          "execution_count": 147
        }
      ]
    },
    {
      "cell_type": "code",
      "source": [
        "Obj2['b']"
      ],
      "metadata": {
        "colab": {
          "base_uri": "https://localhost:8080/"
        },
        "id": "Vmobwv0U-x-h",
        "outputId": "0dafec3c-95e3-47c6-fb2b-6e699e8dbd80"
      },
      "execution_count": null,
      "outputs": [
        {
          "output_type": "execute_result",
          "data": {
            "text/plain": [
              "45"
            ]
          },
          "metadata": {},
          "execution_count": 148
        }
      ]
    },
    {
      "cell_type": "code",
      "source": [
        "'d' in Obj2"
      ],
      "metadata": {
        "colab": {
          "base_uri": "https://localhost:8080/"
        },
        "id": "Yj6mR9oM-1xC",
        "outputId": "67f729d3-54d0-491d-e805-638467cbe1eb"
      },
      "execution_count": null,
      "outputs": [
        {
          "output_type": "execute_result",
          "data": {
            "text/plain": [
              "True"
            ]
          },
          "metadata": {},
          "execution_count": 149
        }
      ]
    },
    {
      "cell_type": "code",
      "source": [
        "dictionary = {'Soccer': 5200, 'Tennis': 120, 'Swimming' : 698, 'Volleyball': 1550}"
      ],
      "metadata": {
        "id": "vEEQ205S-6lS"
      },
      "execution_count": null,
      "outputs": []
    },
    {
      "cell_type": "code",
      "source": [
        "Obj3 = pd.Series(dictionary)"
      ],
      "metadata": {
        "id": "VPTZSV8__fQw"
      },
      "execution_count": null,
      "outputs": []
    },
    {
      "cell_type": "code",
      "source": [
        "Obj3"
      ],
      "metadata": {
        "colab": {
          "base_uri": "https://localhost:8080/"
        },
        "id": "6_wbUoWm_k9U",
        "outputId": "f927b61e-0013-459a-b225-8a1b87379f00"
      },
      "execution_count": null,
      "outputs": [
        {
          "output_type": "execute_result",
          "data": {
            "text/plain": [
              "Soccer        5200\n",
              "Tennis         120\n",
              "Swimming       698\n",
              "Volleyball    1550\n",
              "dtype: int64"
            ]
          },
          "metadata": {},
          "execution_count": 152
        }
      ]
    },
    {
      "cell_type": "code",
      "source": [
        "type(Obj3)"
      ],
      "metadata": {
        "colab": {
          "base_uri": "https://localhost:8080/"
        },
        "id": "DS2BIvFw_sEX",
        "outputId": "f54d6d0a-ee46-47b9-c9e8-19b1531f1957"
      },
      "execution_count": null,
      "outputs": [
        {
          "output_type": "execute_result",
          "data": {
            "text/plain": [
              "pandas.core.series.Series"
            ]
          },
          "metadata": {},
          "execution_count": 153
        }
      ]
    },
    {
      "cell_type": "code",
      "source": [
        "Sports = ['Soccer', 'Tennis', 'Swimming', 'Basketball']"
      ],
      "metadata": {
        "id": "3BUMsddt_u4x"
      },
      "execution_count": null,
      "outputs": []
    },
    {
      "cell_type": "code",
      "source": [
        "Obj4 = pd.Series(dictionary, index = Sports)"
      ],
      "metadata": {
        "id": "3ROJhbVV_6P3"
      },
      "execution_count": null,
      "outputs": []
    },
    {
      "cell_type": "code",
      "source": [
        "Obj4"
      ],
      "metadata": {
        "colab": {
          "base_uri": "https://localhost:8080/"
        },
        "id": "IROhg1VPAAtv",
        "outputId": "d29127f0-03dc-42c3-ee52-595756fa244c"
      },
      "execution_count": null,
      "outputs": [
        {
          "output_type": "execute_result",
          "data": {
            "text/plain": [
              "Soccer        5200.0\n",
              "Tennis         120.0\n",
              "Swimming       698.0\n",
              "Basketball       NaN\n",
              "dtype: float64"
            ]
          },
          "metadata": {},
          "execution_count": 156
        }
      ]
    },
    {
      "cell_type": "code",
      "source": [
        "pd.isnull(Obj4)"
      ],
      "metadata": {
        "colab": {
          "base_uri": "https://localhost:8080/"
        },
        "id": "QmqE_uLXAKME",
        "outputId": "6ba13b27-a562-4409-ea30-7ca8ac8ce34f"
      },
      "execution_count": null,
      "outputs": [
        {
          "output_type": "execute_result",
          "data": {
            "text/plain": [
              "Soccer        False\n",
              "Tennis        False\n",
              "Swimming      False\n",
              "Basketball     True\n",
              "dtype: bool"
            ]
          },
          "metadata": {},
          "execution_count": 157
        }
      ]
    },
    {
      "cell_type": "code",
      "source": [
        "pd.notnull(Obj4)"
      ],
      "metadata": {
        "colab": {
          "base_uri": "https://localhost:8080/"
        },
        "id": "eaFy5VznAZVh",
        "outputId": "fdf7b297-ddd2-4a6e-a5f2-61e6db0fe8e3"
      },
      "execution_count": null,
      "outputs": [
        {
          "output_type": "execute_result",
          "data": {
            "text/plain": [
              "Soccer         True\n",
              "Tennis         True\n",
              "Swimming       True\n",
              "Basketball    False\n",
              "dtype: bool"
            ]
          },
          "metadata": {},
          "execution_count": 158
        }
      ]
    },
    {
      "cell_type": "code",
      "source": [
        "Obj4.isnull()"
      ],
      "metadata": {
        "colab": {
          "base_uri": "https://localhost:8080/"
        },
        "id": "mONs2ul_Acoj",
        "outputId": "48ef969d-948c-436e-fd47-2b4f408c0a09"
      },
      "execution_count": null,
      "outputs": [
        {
          "output_type": "execute_result",
          "data": {
            "text/plain": [
              "Soccer        False\n",
              "Tennis        False\n",
              "Swimming      False\n",
              "Basketball     True\n",
              "dtype: bool"
            ]
          },
          "metadata": {},
          "execution_count": 159
        }
      ]
    },
    {
      "cell_type": "code",
      "source": [
        "Obj3 + Obj4"
      ],
      "metadata": {
        "colab": {
          "base_uri": "https://localhost:8080/"
        },
        "id": "HA6wY8OtAjYn",
        "outputId": "bf07242c-78bf-4955-e54e-4870366e0a3c"
      },
      "execution_count": null,
      "outputs": [
        {
          "output_type": "execute_result",
          "data": {
            "text/plain": [
              "Basketball        NaN\n",
              "Soccer        10400.0\n",
              "Swimming       1396.0\n",
              "Tennis          240.0\n",
              "Volleyball        NaN\n",
              "dtype: float64"
            ]
          },
          "metadata": {},
          "execution_count": 160
        }
      ]
    },
    {
      "cell_type": "code",
      "source": [
        "Obj4.name = 'population'"
      ],
      "metadata": {
        "id": "hIVKu9GhA7RY"
      },
      "execution_count": null,
      "outputs": []
    },
    {
      "cell_type": "code",
      "source": [
        "Obj4.index.name = 'sport'"
      ],
      "metadata": {
        "id": "dH6aiGrMBF0c"
      },
      "execution_count": null,
      "outputs": []
    },
    {
      "cell_type": "code",
      "source": [
        "Obj4"
      ],
      "metadata": {
        "colab": {
          "base_uri": "https://localhost:8080/"
        },
        "id": "icn2iGh4BKb4",
        "outputId": "7deca720-95b9-4afc-a806-94bd1a06ce3d"
      },
      "execution_count": null,
      "outputs": [
        {
          "output_type": "execute_result",
          "data": {
            "text/plain": [
              "sport\n",
              "Soccer        5200.0\n",
              "Tennis         120.0\n",
              "Swimming       698.0\n",
              "Basketball       NaN\n",
              "Name: population, dtype: float64"
            ]
          },
          "metadata": {},
          "execution_count": 165
        }
      ]
    },
    {
      "cell_type": "markdown",
      "source": [
        "# **Dataframes**\n",
        "\n",
        "They are similar to an excel spreadsheet."
      ],
      "metadata": {
        "id": "t_E433K3Bcq4"
      }
    },
    {
      "cell_type": "code",
      "source": [
        "from pandas import DataFrame"
      ],
      "metadata": {
        "id": "S9Sc690lBgQf"
      },
      "execution_count": null,
      "outputs": []
    },
    {
      "cell_type": "code",
      "source": [
        "data = {'State' : ['São Paulo', 'Paraná', 'Mato Grosso', 'Minas Gerais', 'Acre'],\n",
        "        'Year' : [2002, 2003, 2004, 2005, 2006],\n",
        "        'Population' : [1.5, 1.7, 3.6, 2.4, 2.9]}"
      ],
      "metadata": {
        "id": "Qf-www9bB456"
      },
      "execution_count": null,
      "outputs": []
    },
    {
      "cell_type": "code",
      "source": [
        "frame = DataFrame(data)"
      ],
      "metadata": {
        "id": "62SPVAEoCm52"
      },
      "execution_count": null,
      "outputs": []
    },
    {
      "cell_type": "code",
      "source": [
        "frame"
      ],
      "metadata": {
        "colab": {
          "base_uri": "https://localhost:8080/",
          "height": 206
        },
        "id": "Hl5AMSN6Cw09",
        "outputId": "a7feab1d-611d-453a-f907-a8b81ae3b7e8"
      },
      "execution_count": null,
      "outputs": [
        {
          "output_type": "execute_result",
          "data": {
            "text/plain": [
              "          State  Year  Population\n",
              "0     São Paulo  2002         1.5\n",
              "1        Paraná  2003         1.7\n",
              "2   Mato Grosso  2004         3.6\n",
              "3  Minas Gerais  2005         2.4\n",
              "4          Acre  2006         2.9"
            ],
            "text/html": [
              "\n",
              "  <div id=\"df-c7a48cd8-595a-4611-b556-82b59745626e\">\n",
              "    <div class=\"colab-df-container\">\n",
              "      <div>\n",
              "<style scoped>\n",
              "    .dataframe tbody tr th:only-of-type {\n",
              "        vertical-align: middle;\n",
              "    }\n",
              "\n",
              "    .dataframe tbody tr th {\n",
              "        vertical-align: top;\n",
              "    }\n",
              "\n",
              "    .dataframe thead th {\n",
              "        text-align: right;\n",
              "    }\n",
              "</style>\n",
              "<table border=\"1\" class=\"dataframe\">\n",
              "  <thead>\n",
              "    <tr style=\"text-align: right;\">\n",
              "      <th></th>\n",
              "      <th>State</th>\n",
              "      <th>Year</th>\n",
              "      <th>Population</th>\n",
              "    </tr>\n",
              "  </thead>\n",
              "  <tbody>\n",
              "    <tr>\n",
              "      <th>0</th>\n",
              "      <td>São Paulo</td>\n",
              "      <td>2002</td>\n",
              "      <td>1.5</td>\n",
              "    </tr>\n",
              "    <tr>\n",
              "      <th>1</th>\n",
              "      <td>Paraná</td>\n",
              "      <td>2003</td>\n",
              "      <td>1.7</td>\n",
              "    </tr>\n",
              "    <tr>\n",
              "      <th>2</th>\n",
              "      <td>Mato Grosso</td>\n",
              "      <td>2004</td>\n",
              "      <td>3.6</td>\n",
              "    </tr>\n",
              "    <tr>\n",
              "      <th>3</th>\n",
              "      <td>Minas Gerais</td>\n",
              "      <td>2005</td>\n",
              "      <td>2.4</td>\n",
              "    </tr>\n",
              "    <tr>\n",
              "      <th>4</th>\n",
              "      <td>Acre</td>\n",
              "      <td>2006</td>\n",
              "      <td>2.9</td>\n",
              "    </tr>\n",
              "  </tbody>\n",
              "</table>\n",
              "</div>\n",
              "      <button class=\"colab-df-convert\" onclick=\"convertToInteractive('df-c7a48cd8-595a-4611-b556-82b59745626e')\"\n",
              "              title=\"Convert this dataframe to an interactive table.\"\n",
              "              style=\"display:none;\">\n",
              "        \n",
              "  <svg xmlns=\"http://www.w3.org/2000/svg\" height=\"24px\"viewBox=\"0 0 24 24\"\n",
              "       width=\"24px\">\n",
              "    <path d=\"M0 0h24v24H0V0z\" fill=\"none\"/>\n",
              "    <path d=\"M18.56 5.44l.94 2.06.94-2.06 2.06-.94-2.06-.94-.94-2.06-.94 2.06-2.06.94zm-11 1L8.5 8.5l.94-2.06 2.06-.94-2.06-.94L8.5 2.5l-.94 2.06-2.06.94zm10 10l.94 2.06.94-2.06 2.06-.94-2.06-.94-.94-2.06-.94 2.06-2.06.94z\"/><path d=\"M17.41 7.96l-1.37-1.37c-.4-.4-.92-.59-1.43-.59-.52 0-1.04.2-1.43.59L10.3 9.45l-7.72 7.72c-.78.78-.78 2.05 0 2.83L4 21.41c.39.39.9.59 1.41.59.51 0 1.02-.2 1.41-.59l7.78-7.78 2.81-2.81c.8-.78.8-2.07 0-2.86zM5.41 20L4 18.59l7.72-7.72 1.47 1.35L5.41 20z\"/>\n",
              "  </svg>\n",
              "      </button>\n",
              "      \n",
              "  <style>\n",
              "    .colab-df-container {\n",
              "      display:flex;\n",
              "      flex-wrap:wrap;\n",
              "      gap: 12px;\n",
              "    }\n",
              "\n",
              "    .colab-df-convert {\n",
              "      background-color: #E8F0FE;\n",
              "      border: none;\n",
              "      border-radius: 50%;\n",
              "      cursor: pointer;\n",
              "      display: none;\n",
              "      fill: #1967D2;\n",
              "      height: 32px;\n",
              "      padding: 0 0 0 0;\n",
              "      width: 32px;\n",
              "    }\n",
              "\n",
              "    .colab-df-convert:hover {\n",
              "      background-color: #E2EBFA;\n",
              "      box-shadow: 0px 1px 2px rgba(60, 64, 67, 0.3), 0px 1px 3px 1px rgba(60, 64, 67, 0.15);\n",
              "      fill: #174EA6;\n",
              "    }\n",
              "\n",
              "    [theme=dark] .colab-df-convert {\n",
              "      background-color: #3B4455;\n",
              "      fill: #D2E3FC;\n",
              "    }\n",
              "\n",
              "    [theme=dark] .colab-df-convert:hover {\n",
              "      background-color: #434B5C;\n",
              "      box-shadow: 0px 1px 3px 1px rgba(0, 0, 0, 0.15);\n",
              "      filter: drop-shadow(0px 1px 2px rgba(0, 0, 0, 0.3));\n",
              "      fill: #FFFFFF;\n",
              "    }\n",
              "  </style>\n",
              "\n",
              "      <script>\n",
              "        const buttonEl =\n",
              "          document.querySelector('#df-c7a48cd8-595a-4611-b556-82b59745626e button.colab-df-convert');\n",
              "        buttonEl.style.display =\n",
              "          google.colab.kernel.accessAllowed ? 'block' : 'none';\n",
              "\n",
              "        async function convertToInteractive(key) {\n",
              "          const element = document.querySelector('#df-c7a48cd8-595a-4611-b556-82b59745626e');\n",
              "          const dataTable =\n",
              "            await google.colab.kernel.invokeFunction('convertToInteractive',\n",
              "                                                     [key], {});\n",
              "          if (!dataTable) return;\n",
              "\n",
              "          const docLinkHtml = 'Like what you see? Visit the ' +\n",
              "            '<a target=\"_blank\" href=https://colab.research.google.com/notebooks/data_table.ipynb>data table notebook</a>'\n",
              "            + ' to learn more about interactive tables.';\n",
              "          element.innerHTML = '';\n",
              "          dataTable['output_type'] = 'display_data';\n",
              "          await google.colab.output.renderOutput(dataTable, element);\n",
              "          const docLink = document.createElement('div');\n",
              "          docLink.innerHTML = docLinkHtml;\n",
              "          element.appendChild(docLink);\n",
              "        }\n",
              "      </script>\n",
              "    </div>\n",
              "  </div>\n",
              "  "
            ]
          },
          "metadata": {},
          "execution_count": 172
        }
      ]
    },
    {
      "cell_type": "code",
      "source": [
        "type(frame)"
      ],
      "metadata": {
        "colab": {
          "base_uri": "https://localhost:8080/"
        },
        "id": "o8YPZRJuCzKx",
        "outputId": "22c6f8c0-60e8-4576-b815-836e602811a1"
      },
      "execution_count": null,
      "outputs": [
        {
          "output_type": "execute_result",
          "data": {
            "text/plain": [
              "pandas.core.frame.DataFrame"
            ]
          },
          "metadata": {},
          "execution_count": 173
        }
      ]
    },
    {
      "cell_type": "code",
      "source": [
        "DataFrame(data, columns = ['Year', 'State', 'Population'])"
      ],
      "metadata": {
        "colab": {
          "base_uri": "https://localhost:8080/",
          "height": 206
        },
        "id": "jO9d79PgC1NS",
        "outputId": "341b15a1-29ff-4093-b0f3-fb67602dd53c"
      },
      "execution_count": null,
      "outputs": [
        {
          "output_type": "execute_result",
          "data": {
            "text/plain": [
              "   Year         State  Population\n",
              "0  2002     São Paulo         1.5\n",
              "1  2003        Paraná         1.7\n",
              "2  2004   Mato Grosso         3.6\n",
              "3  2005  Minas Gerais         2.4\n",
              "4  2006          Acre         2.9"
            ],
            "text/html": [
              "\n",
              "  <div id=\"df-8e067fb4-df15-4a14-a701-7937c96dbf9f\">\n",
              "    <div class=\"colab-df-container\">\n",
              "      <div>\n",
              "<style scoped>\n",
              "    .dataframe tbody tr th:only-of-type {\n",
              "        vertical-align: middle;\n",
              "    }\n",
              "\n",
              "    .dataframe tbody tr th {\n",
              "        vertical-align: top;\n",
              "    }\n",
              "\n",
              "    .dataframe thead th {\n",
              "        text-align: right;\n",
              "    }\n",
              "</style>\n",
              "<table border=\"1\" class=\"dataframe\">\n",
              "  <thead>\n",
              "    <tr style=\"text-align: right;\">\n",
              "      <th></th>\n",
              "      <th>Year</th>\n",
              "      <th>State</th>\n",
              "      <th>Population</th>\n",
              "    </tr>\n",
              "  </thead>\n",
              "  <tbody>\n",
              "    <tr>\n",
              "      <th>0</th>\n",
              "      <td>2002</td>\n",
              "      <td>São Paulo</td>\n",
              "      <td>1.5</td>\n",
              "    </tr>\n",
              "    <tr>\n",
              "      <th>1</th>\n",
              "      <td>2003</td>\n",
              "      <td>Paraná</td>\n",
              "      <td>1.7</td>\n",
              "    </tr>\n",
              "    <tr>\n",
              "      <th>2</th>\n",
              "      <td>2004</td>\n",
              "      <td>Mato Grosso</td>\n",
              "      <td>3.6</td>\n",
              "    </tr>\n",
              "    <tr>\n",
              "      <th>3</th>\n",
              "      <td>2005</td>\n",
              "      <td>Minas Gerais</td>\n",
              "      <td>2.4</td>\n",
              "    </tr>\n",
              "    <tr>\n",
              "      <th>4</th>\n",
              "      <td>2006</td>\n",
              "      <td>Acre</td>\n",
              "      <td>2.9</td>\n",
              "    </tr>\n",
              "  </tbody>\n",
              "</table>\n",
              "</div>\n",
              "      <button class=\"colab-df-convert\" onclick=\"convertToInteractive('df-8e067fb4-df15-4a14-a701-7937c96dbf9f')\"\n",
              "              title=\"Convert this dataframe to an interactive table.\"\n",
              "              style=\"display:none;\">\n",
              "        \n",
              "  <svg xmlns=\"http://www.w3.org/2000/svg\" height=\"24px\"viewBox=\"0 0 24 24\"\n",
              "       width=\"24px\">\n",
              "    <path d=\"M0 0h24v24H0V0z\" fill=\"none\"/>\n",
              "    <path d=\"M18.56 5.44l.94 2.06.94-2.06 2.06-.94-2.06-.94-.94-2.06-.94 2.06-2.06.94zm-11 1L8.5 8.5l.94-2.06 2.06-.94-2.06-.94L8.5 2.5l-.94 2.06-2.06.94zm10 10l.94 2.06.94-2.06 2.06-.94-2.06-.94-.94-2.06-.94 2.06-2.06.94z\"/><path d=\"M17.41 7.96l-1.37-1.37c-.4-.4-.92-.59-1.43-.59-.52 0-1.04.2-1.43.59L10.3 9.45l-7.72 7.72c-.78.78-.78 2.05 0 2.83L4 21.41c.39.39.9.59 1.41.59.51 0 1.02-.2 1.41-.59l7.78-7.78 2.81-2.81c.8-.78.8-2.07 0-2.86zM5.41 20L4 18.59l7.72-7.72 1.47 1.35L5.41 20z\"/>\n",
              "  </svg>\n",
              "      </button>\n",
              "      \n",
              "  <style>\n",
              "    .colab-df-container {\n",
              "      display:flex;\n",
              "      flex-wrap:wrap;\n",
              "      gap: 12px;\n",
              "    }\n",
              "\n",
              "    .colab-df-convert {\n",
              "      background-color: #E8F0FE;\n",
              "      border: none;\n",
              "      border-radius: 50%;\n",
              "      cursor: pointer;\n",
              "      display: none;\n",
              "      fill: #1967D2;\n",
              "      height: 32px;\n",
              "      padding: 0 0 0 0;\n",
              "      width: 32px;\n",
              "    }\n",
              "\n",
              "    .colab-df-convert:hover {\n",
              "      background-color: #E2EBFA;\n",
              "      box-shadow: 0px 1px 2px rgba(60, 64, 67, 0.3), 0px 1px 3px 1px rgba(60, 64, 67, 0.15);\n",
              "      fill: #174EA6;\n",
              "    }\n",
              "\n",
              "    [theme=dark] .colab-df-convert {\n",
              "      background-color: #3B4455;\n",
              "      fill: #D2E3FC;\n",
              "    }\n",
              "\n",
              "    [theme=dark] .colab-df-convert:hover {\n",
              "      background-color: #434B5C;\n",
              "      box-shadow: 0px 1px 3px 1px rgba(0, 0, 0, 0.15);\n",
              "      filter: drop-shadow(0px 1px 2px rgba(0, 0, 0, 0.3));\n",
              "      fill: #FFFFFF;\n",
              "    }\n",
              "  </style>\n",
              "\n",
              "      <script>\n",
              "        const buttonEl =\n",
              "          document.querySelector('#df-8e067fb4-df15-4a14-a701-7937c96dbf9f button.colab-df-convert');\n",
              "        buttonEl.style.display =\n",
              "          google.colab.kernel.accessAllowed ? 'block' : 'none';\n",
              "\n",
              "        async function convertToInteractive(key) {\n",
              "          const element = document.querySelector('#df-8e067fb4-df15-4a14-a701-7937c96dbf9f');\n",
              "          const dataTable =\n",
              "            await google.colab.kernel.invokeFunction('convertToInteractive',\n",
              "                                                     [key], {});\n",
              "          if (!dataTable) return;\n",
              "\n",
              "          const docLinkHtml = 'Like what you see? Visit the ' +\n",
              "            '<a target=\"_blank\" href=https://colab.research.google.com/notebooks/data_table.ipynb>data table notebook</a>'\n",
              "            + ' to learn more about interactive tables.';\n",
              "          element.innerHTML = '';\n",
              "          dataTable['output_type'] = 'display_data';\n",
              "          await google.colab.output.renderOutput(dataTable, element);\n",
              "          const docLink = document.createElement('div');\n",
              "          docLink.innerHTML = docLinkHtml;\n",
              "          element.appendChild(docLink);\n",
              "        }\n",
              "      </script>\n",
              "    </div>\n",
              "  </div>\n",
              "  "
            ]
          },
          "metadata": {},
          "execution_count": 174
        }
      ]
    },
    {
      "cell_type": "code",
      "source": [
        "frame2 = DataFrame(data, columns = ['Year', 'State', 'Population', 'Debit'],\n",
        "                   index = ['one', 'two', 'three', 'four', 'five'])"
      ],
      "metadata": {
        "id": "DjI-Cy9hDFlP"
      },
      "execution_count": null,
      "outputs": []
    },
    {
      "cell_type": "code",
      "source": [
        "frame2"
      ],
      "metadata": {
        "colab": {
          "base_uri": "https://localhost:8080/",
          "height": 206
        },
        "id": "Aq5O3rPoDipP",
        "outputId": "24b172e6-6d87-4034-857f-ac374661825c"
      },
      "execution_count": null,
      "outputs": [
        {
          "output_type": "execute_result",
          "data": {
            "text/plain": [
              "       Year         State  Population Debit\n",
              "one    2002     São Paulo         1.5   NaN\n",
              "two    2003        Paraná         1.7   NaN\n",
              "three  2004   Mato Grosso         3.6   NaN\n",
              "four   2005  Minas Gerais         2.4   NaN\n",
              "five   2006          Acre         2.9   NaN"
            ],
            "text/html": [
              "\n",
              "  <div id=\"df-a583278f-74b8-4a35-8891-c7a8e0eefd30\">\n",
              "    <div class=\"colab-df-container\">\n",
              "      <div>\n",
              "<style scoped>\n",
              "    .dataframe tbody tr th:only-of-type {\n",
              "        vertical-align: middle;\n",
              "    }\n",
              "\n",
              "    .dataframe tbody tr th {\n",
              "        vertical-align: top;\n",
              "    }\n",
              "\n",
              "    .dataframe thead th {\n",
              "        text-align: right;\n",
              "    }\n",
              "</style>\n",
              "<table border=\"1\" class=\"dataframe\">\n",
              "  <thead>\n",
              "    <tr style=\"text-align: right;\">\n",
              "      <th></th>\n",
              "      <th>Year</th>\n",
              "      <th>State</th>\n",
              "      <th>Population</th>\n",
              "      <th>Debit</th>\n",
              "    </tr>\n",
              "  </thead>\n",
              "  <tbody>\n",
              "    <tr>\n",
              "      <th>one</th>\n",
              "      <td>2002</td>\n",
              "      <td>São Paulo</td>\n",
              "      <td>1.5</td>\n",
              "      <td>NaN</td>\n",
              "    </tr>\n",
              "    <tr>\n",
              "      <th>two</th>\n",
              "      <td>2003</td>\n",
              "      <td>Paraná</td>\n",
              "      <td>1.7</td>\n",
              "      <td>NaN</td>\n",
              "    </tr>\n",
              "    <tr>\n",
              "      <th>three</th>\n",
              "      <td>2004</td>\n",
              "      <td>Mato Grosso</td>\n",
              "      <td>3.6</td>\n",
              "      <td>NaN</td>\n",
              "    </tr>\n",
              "    <tr>\n",
              "      <th>four</th>\n",
              "      <td>2005</td>\n",
              "      <td>Minas Gerais</td>\n",
              "      <td>2.4</td>\n",
              "      <td>NaN</td>\n",
              "    </tr>\n",
              "    <tr>\n",
              "      <th>five</th>\n",
              "      <td>2006</td>\n",
              "      <td>Acre</td>\n",
              "      <td>2.9</td>\n",
              "      <td>NaN</td>\n",
              "    </tr>\n",
              "  </tbody>\n",
              "</table>\n",
              "</div>\n",
              "      <button class=\"colab-df-convert\" onclick=\"convertToInteractive('df-a583278f-74b8-4a35-8891-c7a8e0eefd30')\"\n",
              "              title=\"Convert this dataframe to an interactive table.\"\n",
              "              style=\"display:none;\">\n",
              "        \n",
              "  <svg xmlns=\"http://www.w3.org/2000/svg\" height=\"24px\"viewBox=\"0 0 24 24\"\n",
              "       width=\"24px\">\n",
              "    <path d=\"M0 0h24v24H0V0z\" fill=\"none\"/>\n",
              "    <path d=\"M18.56 5.44l.94 2.06.94-2.06 2.06-.94-2.06-.94-.94-2.06-.94 2.06-2.06.94zm-11 1L8.5 8.5l.94-2.06 2.06-.94-2.06-.94L8.5 2.5l-.94 2.06-2.06.94zm10 10l.94 2.06.94-2.06 2.06-.94-2.06-.94-.94-2.06-.94 2.06-2.06.94z\"/><path d=\"M17.41 7.96l-1.37-1.37c-.4-.4-.92-.59-1.43-.59-.52 0-1.04.2-1.43.59L10.3 9.45l-7.72 7.72c-.78.78-.78 2.05 0 2.83L4 21.41c.39.39.9.59 1.41.59.51 0 1.02-.2 1.41-.59l7.78-7.78 2.81-2.81c.8-.78.8-2.07 0-2.86zM5.41 20L4 18.59l7.72-7.72 1.47 1.35L5.41 20z\"/>\n",
              "  </svg>\n",
              "      </button>\n",
              "      \n",
              "  <style>\n",
              "    .colab-df-container {\n",
              "      display:flex;\n",
              "      flex-wrap:wrap;\n",
              "      gap: 12px;\n",
              "    }\n",
              "\n",
              "    .colab-df-convert {\n",
              "      background-color: #E8F0FE;\n",
              "      border: none;\n",
              "      border-radius: 50%;\n",
              "      cursor: pointer;\n",
              "      display: none;\n",
              "      fill: #1967D2;\n",
              "      height: 32px;\n",
              "      padding: 0 0 0 0;\n",
              "      width: 32px;\n",
              "    }\n",
              "\n",
              "    .colab-df-convert:hover {\n",
              "      background-color: #E2EBFA;\n",
              "      box-shadow: 0px 1px 2px rgba(60, 64, 67, 0.3), 0px 1px 3px 1px rgba(60, 64, 67, 0.15);\n",
              "      fill: #174EA6;\n",
              "    }\n",
              "\n",
              "    [theme=dark] .colab-df-convert {\n",
              "      background-color: #3B4455;\n",
              "      fill: #D2E3FC;\n",
              "    }\n",
              "\n",
              "    [theme=dark] .colab-df-convert:hover {\n",
              "      background-color: #434B5C;\n",
              "      box-shadow: 0px 1px 3px 1px rgba(0, 0, 0, 0.15);\n",
              "      filter: drop-shadow(0px 1px 2px rgba(0, 0, 0, 0.3));\n",
              "      fill: #FFFFFF;\n",
              "    }\n",
              "  </style>\n",
              "\n",
              "      <script>\n",
              "        const buttonEl =\n",
              "          document.querySelector('#df-a583278f-74b8-4a35-8891-c7a8e0eefd30 button.colab-df-convert');\n",
              "        buttonEl.style.display =\n",
              "          google.colab.kernel.accessAllowed ? 'block' : 'none';\n",
              "\n",
              "        async function convertToInteractive(key) {\n",
              "          const element = document.querySelector('#df-a583278f-74b8-4a35-8891-c7a8e0eefd30');\n",
              "          const dataTable =\n",
              "            await google.colab.kernel.invokeFunction('convertToInteractive',\n",
              "                                                     [key], {});\n",
              "          if (!dataTable) return;\n",
              "\n",
              "          const docLinkHtml = 'Like what you see? Visit the ' +\n",
              "            '<a target=\"_blank\" href=https://colab.research.google.com/notebooks/data_table.ipynb>data table notebook</a>'\n",
              "            + ' to learn more about interactive tables.';\n",
              "          element.innerHTML = '';\n",
              "          dataTable['output_type'] = 'display_data';\n",
              "          await google.colab.output.renderOutput(dataTable, element);\n",
              "          const docLink = document.createElement('div');\n",
              "          docLink.innerHTML = docLinkHtml;\n",
              "          element.appendChild(docLink);\n",
              "        }\n",
              "      </script>\n",
              "    </div>\n",
              "  </div>\n",
              "  "
            ]
          },
          "metadata": {},
          "execution_count": 176
        }
      ]
    },
    {
      "cell_type": "code",
      "source": [
        "frame2['State']"
      ],
      "metadata": {
        "colab": {
          "base_uri": "https://localhost:8080/"
        },
        "id": "YOiWQNpLDlpB",
        "outputId": "0532efdf-67a0-4faf-fa1d-3064b98e2e11"
      },
      "execution_count": null,
      "outputs": [
        {
          "output_type": "execute_result",
          "data": {
            "text/plain": [
              "one         São Paulo\n",
              "two            Paraná\n",
              "three     Mato Grosso\n",
              "four     Minas Gerais\n",
              "five             Acre\n",
              "Name: State, dtype: object"
            ]
          },
          "metadata": {},
          "execution_count": 177
        }
      ]
    },
    {
      "cell_type": "code",
      "source": [
        "type(frame2)"
      ],
      "metadata": {
        "colab": {
          "base_uri": "https://localhost:8080/"
        },
        "id": "zaVpstGjDrNG",
        "outputId": "d3cd1862-2f1f-4aac-d238-b42c3fe4b749"
      },
      "execution_count": null,
      "outputs": [
        {
          "output_type": "execute_result",
          "data": {
            "text/plain": [
              "pandas.core.frame.DataFrame"
            ]
          },
          "metadata": {},
          "execution_count": 178
        }
      ]
    },
    {
      "cell_type": "code",
      "source": [
        "frame2.index"
      ],
      "metadata": {
        "colab": {
          "base_uri": "https://localhost:8080/"
        },
        "id": "HoDomAmuD1CM",
        "outputId": "3e3f15e7-7cc5-4093-ee33-299976678beb"
      },
      "execution_count": null,
      "outputs": [
        {
          "output_type": "execute_result",
          "data": {
            "text/plain": [
              "Index(['one', 'two', 'three', 'four', 'five'], dtype='object')"
            ]
          },
          "metadata": {},
          "execution_count": 180
        }
      ]
    },
    {
      "cell_type": "code",
      "source": [
        "frame2.columns"
      ],
      "metadata": {
        "colab": {
          "base_uri": "https://localhost:8080/"
        },
        "id": "zr-qyJBOD9Qx",
        "outputId": "66f5085a-d8b6-4bd0-88a0-ddbcb744388d"
      },
      "execution_count": null,
      "outputs": [
        {
          "output_type": "execute_result",
          "data": {
            "text/plain": [
              "Index(['Year', 'State', 'Population', 'Debit'], dtype='object')"
            ]
          },
          "metadata": {},
          "execution_count": 181
        }
      ]
    },
    {
      "cell_type": "code",
      "source": [
        "frame2.dtypes"
      ],
      "metadata": {
        "colab": {
          "base_uri": "https://localhost:8080/"
        },
        "id": "Ug5y8h2JEAqF",
        "outputId": "2cbb8fbf-b1fd-4af1-9a35-8459a9b32186"
      },
      "execution_count": null,
      "outputs": [
        {
          "output_type": "execute_result",
          "data": {
            "text/plain": [
              "Year            int64\n",
              "State          object\n",
              "Population    float64\n",
              "Debit          object\n",
              "dtype: object"
            ]
          },
          "metadata": {},
          "execution_count": 183
        }
      ]
    },
    {
      "cell_type": "code",
      "source": [
        "frame2.values"
      ],
      "metadata": {
        "colab": {
          "base_uri": "https://localhost:8080/"
        },
        "id": "x3xXj3LtEFap",
        "outputId": "654edb64-a363-4b61-bc2d-ccc142b54854"
      },
      "execution_count": null,
      "outputs": [
        {
          "output_type": "execute_result",
          "data": {
            "text/plain": [
              "array([[2002, 'São Paulo', 1.5, nan],\n",
              "       [2003, 'Paraná', 1.7, nan],\n",
              "       [2004, 'Mato Grosso', 3.6, nan],\n",
              "       [2005, 'Minas Gerais', 2.4, nan],\n",
              "       [2006, 'Acre', 2.9, nan]], dtype=object)"
            ]
          },
          "metadata": {},
          "execution_count": 184
        }
      ]
    },
    {
      "cell_type": "code",
      "source": [
        "frame2['Year']"
      ],
      "metadata": {
        "colab": {
          "base_uri": "https://localhost:8080/"
        },
        "id": "eD5k-myUEKti",
        "outputId": "53d313cb-b626-4f8a-9637-ec33c055b962"
      },
      "execution_count": null,
      "outputs": [
        {
          "output_type": "execute_result",
          "data": {
            "text/plain": [
              "one      2002\n",
              "two      2003\n",
              "three    2004\n",
              "four     2005\n",
              "five     2006\n",
              "Name: Year, dtype: int64"
            ]
          },
          "metadata": {},
          "execution_count": 185
        }
      ]
    },
    {
      "cell_type": "code",
      "source": [
        "frame2.Year"
      ],
      "metadata": {
        "colab": {
          "base_uri": "https://localhost:8080/"
        },
        "id": "kJCuA5TGENfd",
        "outputId": "a5172967-8267-48f4-c3ee-afeecc9965b4"
      },
      "execution_count": null,
      "outputs": [
        {
          "output_type": "execute_result",
          "data": {
            "text/plain": [
              "one      2002\n",
              "two      2003\n",
              "three    2004\n",
              "four     2005\n",
              "five     2006\n",
              "Name: Year, dtype: int64"
            ]
          },
          "metadata": {},
          "execution_count": 187
        }
      ]
    },
    {
      "cell_type": "code",
      "source": [
        "frame2[:2]"
      ],
      "metadata": {
        "colab": {
          "base_uri": "https://localhost:8080/",
          "height": 112
        },
        "id": "G2J6Ez4fESbk",
        "outputId": "bcb2eb43-8968-453f-c034-c7d30e8f0ad6"
      },
      "execution_count": null,
      "outputs": [
        {
          "output_type": "execute_result",
          "data": {
            "text/plain": [
              "     Year      State  Population Debit\n",
              "one  2002  São Paulo         1.5   NaN\n",
              "two  2003     Paraná         1.7   NaN"
            ],
            "text/html": [
              "\n",
              "  <div id=\"df-56f825c6-7561-4c6f-a0fb-7ec438b35cf9\">\n",
              "    <div class=\"colab-df-container\">\n",
              "      <div>\n",
              "<style scoped>\n",
              "    .dataframe tbody tr th:only-of-type {\n",
              "        vertical-align: middle;\n",
              "    }\n",
              "\n",
              "    .dataframe tbody tr th {\n",
              "        vertical-align: top;\n",
              "    }\n",
              "\n",
              "    .dataframe thead th {\n",
              "        text-align: right;\n",
              "    }\n",
              "</style>\n",
              "<table border=\"1\" class=\"dataframe\">\n",
              "  <thead>\n",
              "    <tr style=\"text-align: right;\">\n",
              "      <th></th>\n",
              "      <th>Year</th>\n",
              "      <th>State</th>\n",
              "      <th>Population</th>\n",
              "      <th>Debit</th>\n",
              "    </tr>\n",
              "  </thead>\n",
              "  <tbody>\n",
              "    <tr>\n",
              "      <th>one</th>\n",
              "      <td>2002</td>\n",
              "      <td>São Paulo</td>\n",
              "      <td>1.5</td>\n",
              "      <td>NaN</td>\n",
              "    </tr>\n",
              "    <tr>\n",
              "      <th>two</th>\n",
              "      <td>2003</td>\n",
              "      <td>Paraná</td>\n",
              "      <td>1.7</td>\n",
              "      <td>NaN</td>\n",
              "    </tr>\n",
              "  </tbody>\n",
              "</table>\n",
              "</div>\n",
              "      <button class=\"colab-df-convert\" onclick=\"convertToInteractive('df-56f825c6-7561-4c6f-a0fb-7ec438b35cf9')\"\n",
              "              title=\"Convert this dataframe to an interactive table.\"\n",
              "              style=\"display:none;\">\n",
              "        \n",
              "  <svg xmlns=\"http://www.w3.org/2000/svg\" height=\"24px\"viewBox=\"0 0 24 24\"\n",
              "       width=\"24px\">\n",
              "    <path d=\"M0 0h24v24H0V0z\" fill=\"none\"/>\n",
              "    <path d=\"M18.56 5.44l.94 2.06.94-2.06 2.06-.94-2.06-.94-.94-2.06-.94 2.06-2.06.94zm-11 1L8.5 8.5l.94-2.06 2.06-.94-2.06-.94L8.5 2.5l-.94 2.06-2.06.94zm10 10l.94 2.06.94-2.06 2.06-.94-2.06-.94-.94-2.06-.94 2.06-2.06.94z\"/><path d=\"M17.41 7.96l-1.37-1.37c-.4-.4-.92-.59-1.43-.59-.52 0-1.04.2-1.43.59L10.3 9.45l-7.72 7.72c-.78.78-.78 2.05 0 2.83L4 21.41c.39.39.9.59 1.41.59.51 0 1.02-.2 1.41-.59l7.78-7.78 2.81-2.81c.8-.78.8-2.07 0-2.86zM5.41 20L4 18.59l7.72-7.72 1.47 1.35L5.41 20z\"/>\n",
              "  </svg>\n",
              "      </button>\n",
              "      \n",
              "  <style>\n",
              "    .colab-df-container {\n",
              "      display:flex;\n",
              "      flex-wrap:wrap;\n",
              "      gap: 12px;\n",
              "    }\n",
              "\n",
              "    .colab-df-convert {\n",
              "      background-color: #E8F0FE;\n",
              "      border: none;\n",
              "      border-radius: 50%;\n",
              "      cursor: pointer;\n",
              "      display: none;\n",
              "      fill: #1967D2;\n",
              "      height: 32px;\n",
              "      padding: 0 0 0 0;\n",
              "      width: 32px;\n",
              "    }\n",
              "\n",
              "    .colab-df-convert:hover {\n",
              "      background-color: #E2EBFA;\n",
              "      box-shadow: 0px 1px 2px rgba(60, 64, 67, 0.3), 0px 1px 3px 1px rgba(60, 64, 67, 0.15);\n",
              "      fill: #174EA6;\n",
              "    }\n",
              "\n",
              "    [theme=dark] .colab-df-convert {\n",
              "      background-color: #3B4455;\n",
              "      fill: #D2E3FC;\n",
              "    }\n",
              "\n",
              "    [theme=dark] .colab-df-convert:hover {\n",
              "      background-color: #434B5C;\n",
              "      box-shadow: 0px 1px 3px 1px rgba(0, 0, 0, 0.15);\n",
              "      filter: drop-shadow(0px 1px 2px rgba(0, 0, 0, 0.3));\n",
              "      fill: #FFFFFF;\n",
              "    }\n",
              "  </style>\n",
              "\n",
              "      <script>\n",
              "        const buttonEl =\n",
              "          document.querySelector('#df-56f825c6-7561-4c6f-a0fb-7ec438b35cf9 button.colab-df-convert');\n",
              "        buttonEl.style.display =\n",
              "          google.colab.kernel.accessAllowed ? 'block' : 'none';\n",
              "\n",
              "        async function convertToInteractive(key) {\n",
              "          const element = document.querySelector('#df-56f825c6-7561-4c6f-a0fb-7ec438b35cf9');\n",
              "          const dataTable =\n",
              "            await google.colab.kernel.invokeFunction('convertToInteractive',\n",
              "                                                     [key], {});\n",
              "          if (!dataTable) return;\n",
              "\n",
              "          const docLinkHtml = 'Like what you see? Visit the ' +\n",
              "            '<a target=\"_blank\" href=https://colab.research.google.com/notebooks/data_table.ipynb>data table notebook</a>'\n",
              "            + ' to learn more about interactive tables.';\n",
              "          element.innerHTML = '';\n",
              "          dataTable['output_type'] = 'display_data';\n",
              "          await google.colab.output.renderOutput(dataTable, element);\n",
              "          const docLink = document.createElement('div');\n",
              "          docLink.innerHTML = docLinkHtml;\n",
              "          element.appendChild(docLink);\n",
              "        }\n",
              "      </script>\n",
              "    </div>\n",
              "  </div>\n",
              "  "
            ]
          },
          "metadata": {},
          "execution_count": 188
        }
      ]
    },
    {
      "cell_type": "markdown",
      "source": [
        "# **Numpy and Pandas**"
      ],
      "metadata": {
        "id": "p2UA6kMsEacX"
      }
    },
    {
      "cell_type": "code",
      "source": [
        "import numpy as np"
      ],
      "metadata": {
        "id": "zQ6HwEcOEeG2"
      },
      "execution_count": 16,
      "outputs": []
    },
    {
      "cell_type": "code",
      "source": [
        "frame2['Debit'] = np.arange(5.)"
      ],
      "metadata": {
        "id": "jXu1nJzZEk8X"
      },
      "execution_count": null,
      "outputs": []
    },
    {
      "cell_type": "code",
      "source": [
        "frame2"
      ],
      "metadata": {
        "colab": {
          "base_uri": "https://localhost:8080/",
          "height": 206
        },
        "id": "ZkfEDkKkQV4K",
        "outputId": "0de8cf0d-1010-4bdb-c420-4cb449a3badf"
      },
      "execution_count": null,
      "outputs": [
        {
          "output_type": "execute_result",
          "data": {
            "text/plain": [
              "       Year         State  Population  Debit\n",
              "one    2002     São Paulo         1.5    0.0\n",
              "two    2003        Paraná         1.7    1.0\n",
              "three  2004   Mato Grosso         3.6    2.0\n",
              "four   2005  Minas Gerais         2.4    3.0\n",
              "five   2006          Acre         2.9    4.0"
            ],
            "text/html": [
              "\n",
              "  <div id=\"df-c154c25d-13e1-45f6-b89b-6475e606a451\">\n",
              "    <div class=\"colab-df-container\">\n",
              "      <div>\n",
              "<style scoped>\n",
              "    .dataframe tbody tr th:only-of-type {\n",
              "        vertical-align: middle;\n",
              "    }\n",
              "\n",
              "    .dataframe tbody tr th {\n",
              "        vertical-align: top;\n",
              "    }\n",
              "\n",
              "    .dataframe thead th {\n",
              "        text-align: right;\n",
              "    }\n",
              "</style>\n",
              "<table border=\"1\" class=\"dataframe\">\n",
              "  <thead>\n",
              "    <tr style=\"text-align: right;\">\n",
              "      <th></th>\n",
              "      <th>Year</th>\n",
              "      <th>State</th>\n",
              "      <th>Population</th>\n",
              "      <th>Debit</th>\n",
              "    </tr>\n",
              "  </thead>\n",
              "  <tbody>\n",
              "    <tr>\n",
              "      <th>one</th>\n",
              "      <td>2002</td>\n",
              "      <td>São Paulo</td>\n",
              "      <td>1.5</td>\n",
              "      <td>0.0</td>\n",
              "    </tr>\n",
              "    <tr>\n",
              "      <th>two</th>\n",
              "      <td>2003</td>\n",
              "      <td>Paraná</td>\n",
              "      <td>1.7</td>\n",
              "      <td>1.0</td>\n",
              "    </tr>\n",
              "    <tr>\n",
              "      <th>three</th>\n",
              "      <td>2004</td>\n",
              "      <td>Mato Grosso</td>\n",
              "      <td>3.6</td>\n",
              "      <td>2.0</td>\n",
              "    </tr>\n",
              "    <tr>\n",
              "      <th>four</th>\n",
              "      <td>2005</td>\n",
              "      <td>Minas Gerais</td>\n",
              "      <td>2.4</td>\n",
              "      <td>3.0</td>\n",
              "    </tr>\n",
              "    <tr>\n",
              "      <th>five</th>\n",
              "      <td>2006</td>\n",
              "      <td>Acre</td>\n",
              "      <td>2.9</td>\n",
              "      <td>4.0</td>\n",
              "    </tr>\n",
              "  </tbody>\n",
              "</table>\n",
              "</div>\n",
              "      <button class=\"colab-df-convert\" onclick=\"convertToInteractive('df-c154c25d-13e1-45f6-b89b-6475e606a451')\"\n",
              "              title=\"Convert this dataframe to an interactive table.\"\n",
              "              style=\"display:none;\">\n",
              "        \n",
              "  <svg xmlns=\"http://www.w3.org/2000/svg\" height=\"24px\"viewBox=\"0 0 24 24\"\n",
              "       width=\"24px\">\n",
              "    <path d=\"M0 0h24v24H0V0z\" fill=\"none\"/>\n",
              "    <path d=\"M18.56 5.44l.94 2.06.94-2.06 2.06-.94-2.06-.94-.94-2.06-.94 2.06-2.06.94zm-11 1L8.5 8.5l.94-2.06 2.06-.94-2.06-.94L8.5 2.5l-.94 2.06-2.06.94zm10 10l.94 2.06.94-2.06 2.06-.94-2.06-.94-.94-2.06-.94 2.06-2.06.94z\"/><path d=\"M17.41 7.96l-1.37-1.37c-.4-.4-.92-.59-1.43-.59-.52 0-1.04.2-1.43.59L10.3 9.45l-7.72 7.72c-.78.78-.78 2.05 0 2.83L4 21.41c.39.39.9.59 1.41.59.51 0 1.02-.2 1.41-.59l7.78-7.78 2.81-2.81c.8-.78.8-2.07 0-2.86zM5.41 20L4 18.59l7.72-7.72 1.47 1.35L5.41 20z\"/>\n",
              "  </svg>\n",
              "      </button>\n",
              "      \n",
              "  <style>\n",
              "    .colab-df-container {\n",
              "      display:flex;\n",
              "      flex-wrap:wrap;\n",
              "      gap: 12px;\n",
              "    }\n",
              "\n",
              "    .colab-df-convert {\n",
              "      background-color: #E8F0FE;\n",
              "      border: none;\n",
              "      border-radius: 50%;\n",
              "      cursor: pointer;\n",
              "      display: none;\n",
              "      fill: #1967D2;\n",
              "      height: 32px;\n",
              "      padding: 0 0 0 0;\n",
              "      width: 32px;\n",
              "    }\n",
              "\n",
              "    .colab-df-convert:hover {\n",
              "      background-color: #E2EBFA;\n",
              "      box-shadow: 0px 1px 2px rgba(60, 64, 67, 0.3), 0px 1px 3px 1px rgba(60, 64, 67, 0.15);\n",
              "      fill: #174EA6;\n",
              "    }\n",
              "\n",
              "    [theme=dark] .colab-df-convert {\n",
              "      background-color: #3B4455;\n",
              "      fill: #D2E3FC;\n",
              "    }\n",
              "\n",
              "    [theme=dark] .colab-df-convert:hover {\n",
              "      background-color: #434B5C;\n",
              "      box-shadow: 0px 1px 3px 1px rgba(0, 0, 0, 0.15);\n",
              "      filter: drop-shadow(0px 1px 2px rgba(0, 0, 0, 0.3));\n",
              "      fill: #FFFFFF;\n",
              "    }\n",
              "  </style>\n",
              "\n",
              "      <script>\n",
              "        const buttonEl =\n",
              "          document.querySelector('#df-c154c25d-13e1-45f6-b89b-6475e606a451 button.colab-df-convert');\n",
              "        buttonEl.style.display =\n",
              "          google.colab.kernel.accessAllowed ? 'block' : 'none';\n",
              "\n",
              "        async function convertToInteractive(key) {\n",
              "          const element = document.querySelector('#df-c154c25d-13e1-45f6-b89b-6475e606a451');\n",
              "          const dataTable =\n",
              "            await google.colab.kernel.invokeFunction('convertToInteractive',\n",
              "                                                     [key], {});\n",
              "          if (!dataTable) return;\n",
              "\n",
              "          const docLinkHtml = 'Like what you see? Visit the ' +\n",
              "            '<a target=\"_blank\" href=https://colab.research.google.com/notebooks/data_table.ipynb>data table notebook</a>'\n",
              "            + ' to learn more about interactive tables.';\n",
              "          element.innerHTML = '';\n",
              "          dataTable['output_type'] = 'display_data';\n",
              "          await google.colab.output.renderOutput(dataTable, element);\n",
              "          const docLink = document.createElement('div');\n",
              "          docLink.innerHTML = docLinkHtml;\n",
              "          element.appendChild(docLink);\n",
              "        }\n",
              "      </script>\n",
              "    </div>\n",
              "  </div>\n",
              "  "
            ]
          },
          "metadata": {},
          "execution_count": 191
        }
      ]
    },
    {
      "cell_type": "code",
      "source": [
        "frame2.values"
      ],
      "metadata": {
        "colab": {
          "base_uri": "https://localhost:8080/"
        },
        "id": "4S1MSzYAQj70",
        "outputId": "ee415d67-81f6-4ec6-e352-508a781cd417"
      },
      "execution_count": null,
      "outputs": [
        {
          "output_type": "execute_result",
          "data": {
            "text/plain": [
              "array([[2002, 'São Paulo', 1.5, 0.0],\n",
              "       [2003, 'Paraná', 1.7, 1.0],\n",
              "       [2004, 'Mato Grosso', 3.6, 2.0],\n",
              "       [2005, 'Minas Gerais', 2.4, 3.0],\n",
              "       [2006, 'Acre', 2.9, 4.0]], dtype=object)"
            ]
          },
          "metadata": {},
          "execution_count": 192
        }
      ]
    },
    {
      "cell_type": "code",
      "source": [
        "frame2.describe()"
      ],
      "metadata": {
        "colab": {
          "base_uri": "https://localhost:8080/",
          "height": 300
        },
        "id": "zPFEKmoUQmhR",
        "outputId": "a6a0205e-432c-44a6-b64e-a2a2728ba9f5"
      },
      "execution_count": null,
      "outputs": [
        {
          "output_type": "execute_result",
          "data": {
            "text/plain": [
              "              Year  Population     Debit\n",
              "count     5.000000    5.000000  5.000000\n",
              "mean   2004.000000    2.420000  2.000000\n",
              "std       1.581139    0.864292  1.581139\n",
              "min    2002.000000    1.500000  0.000000\n",
              "25%    2003.000000    1.700000  1.000000\n",
              "50%    2004.000000    2.400000  2.000000\n",
              "75%    2005.000000    2.900000  3.000000\n",
              "max    2006.000000    3.600000  4.000000"
            ],
            "text/html": [
              "\n",
              "  <div id=\"df-0637672a-112e-42f8-b49b-36b42dc53c3c\">\n",
              "    <div class=\"colab-df-container\">\n",
              "      <div>\n",
              "<style scoped>\n",
              "    .dataframe tbody tr th:only-of-type {\n",
              "        vertical-align: middle;\n",
              "    }\n",
              "\n",
              "    .dataframe tbody tr th {\n",
              "        vertical-align: top;\n",
              "    }\n",
              "\n",
              "    .dataframe thead th {\n",
              "        text-align: right;\n",
              "    }\n",
              "</style>\n",
              "<table border=\"1\" class=\"dataframe\">\n",
              "  <thead>\n",
              "    <tr style=\"text-align: right;\">\n",
              "      <th></th>\n",
              "      <th>Year</th>\n",
              "      <th>Population</th>\n",
              "      <th>Debit</th>\n",
              "    </tr>\n",
              "  </thead>\n",
              "  <tbody>\n",
              "    <tr>\n",
              "      <th>count</th>\n",
              "      <td>5.000000</td>\n",
              "      <td>5.000000</td>\n",
              "      <td>5.000000</td>\n",
              "    </tr>\n",
              "    <tr>\n",
              "      <th>mean</th>\n",
              "      <td>2004.000000</td>\n",
              "      <td>2.420000</td>\n",
              "      <td>2.000000</td>\n",
              "    </tr>\n",
              "    <tr>\n",
              "      <th>std</th>\n",
              "      <td>1.581139</td>\n",
              "      <td>0.864292</td>\n",
              "      <td>1.581139</td>\n",
              "    </tr>\n",
              "    <tr>\n",
              "      <th>min</th>\n",
              "      <td>2002.000000</td>\n",
              "      <td>1.500000</td>\n",
              "      <td>0.000000</td>\n",
              "    </tr>\n",
              "    <tr>\n",
              "      <th>25%</th>\n",
              "      <td>2003.000000</td>\n",
              "      <td>1.700000</td>\n",
              "      <td>1.000000</td>\n",
              "    </tr>\n",
              "    <tr>\n",
              "      <th>50%</th>\n",
              "      <td>2004.000000</td>\n",
              "      <td>2.400000</td>\n",
              "      <td>2.000000</td>\n",
              "    </tr>\n",
              "    <tr>\n",
              "      <th>75%</th>\n",
              "      <td>2005.000000</td>\n",
              "      <td>2.900000</td>\n",
              "      <td>3.000000</td>\n",
              "    </tr>\n",
              "    <tr>\n",
              "      <th>max</th>\n",
              "      <td>2006.000000</td>\n",
              "      <td>3.600000</td>\n",
              "      <td>4.000000</td>\n",
              "    </tr>\n",
              "  </tbody>\n",
              "</table>\n",
              "</div>\n",
              "      <button class=\"colab-df-convert\" onclick=\"convertToInteractive('df-0637672a-112e-42f8-b49b-36b42dc53c3c')\"\n",
              "              title=\"Convert this dataframe to an interactive table.\"\n",
              "              style=\"display:none;\">\n",
              "        \n",
              "  <svg xmlns=\"http://www.w3.org/2000/svg\" height=\"24px\"viewBox=\"0 0 24 24\"\n",
              "       width=\"24px\">\n",
              "    <path d=\"M0 0h24v24H0V0z\" fill=\"none\"/>\n",
              "    <path d=\"M18.56 5.44l.94 2.06.94-2.06 2.06-.94-2.06-.94-.94-2.06-.94 2.06-2.06.94zm-11 1L8.5 8.5l.94-2.06 2.06-.94-2.06-.94L8.5 2.5l-.94 2.06-2.06.94zm10 10l.94 2.06.94-2.06 2.06-.94-2.06-.94-.94-2.06-.94 2.06-2.06.94z\"/><path d=\"M17.41 7.96l-1.37-1.37c-.4-.4-.92-.59-1.43-.59-.52 0-1.04.2-1.43.59L10.3 9.45l-7.72 7.72c-.78.78-.78 2.05 0 2.83L4 21.41c.39.39.9.59 1.41.59.51 0 1.02-.2 1.41-.59l7.78-7.78 2.81-2.81c.8-.78.8-2.07 0-2.86zM5.41 20L4 18.59l7.72-7.72 1.47 1.35L5.41 20z\"/>\n",
              "  </svg>\n",
              "      </button>\n",
              "      \n",
              "  <style>\n",
              "    .colab-df-container {\n",
              "      display:flex;\n",
              "      flex-wrap:wrap;\n",
              "      gap: 12px;\n",
              "    }\n",
              "\n",
              "    .colab-df-convert {\n",
              "      background-color: #E8F0FE;\n",
              "      border: none;\n",
              "      border-radius: 50%;\n",
              "      cursor: pointer;\n",
              "      display: none;\n",
              "      fill: #1967D2;\n",
              "      height: 32px;\n",
              "      padding: 0 0 0 0;\n",
              "      width: 32px;\n",
              "    }\n",
              "\n",
              "    .colab-df-convert:hover {\n",
              "      background-color: #E2EBFA;\n",
              "      box-shadow: 0px 1px 2px rgba(60, 64, 67, 0.3), 0px 1px 3px 1px rgba(60, 64, 67, 0.15);\n",
              "      fill: #174EA6;\n",
              "    }\n",
              "\n",
              "    [theme=dark] .colab-df-convert {\n",
              "      background-color: #3B4455;\n",
              "      fill: #D2E3FC;\n",
              "    }\n",
              "\n",
              "    [theme=dark] .colab-df-convert:hover {\n",
              "      background-color: #434B5C;\n",
              "      box-shadow: 0px 1px 3px 1px rgba(0, 0, 0, 0.15);\n",
              "      filter: drop-shadow(0px 1px 2px rgba(0, 0, 0, 0.3));\n",
              "      fill: #FFFFFF;\n",
              "    }\n",
              "  </style>\n",
              "\n",
              "      <script>\n",
              "        const buttonEl =\n",
              "          document.querySelector('#df-0637672a-112e-42f8-b49b-36b42dc53c3c button.colab-df-convert');\n",
              "        buttonEl.style.display =\n",
              "          google.colab.kernel.accessAllowed ? 'block' : 'none';\n",
              "\n",
              "        async function convertToInteractive(key) {\n",
              "          const element = document.querySelector('#df-0637672a-112e-42f8-b49b-36b42dc53c3c');\n",
              "          const dataTable =\n",
              "            await google.colab.kernel.invokeFunction('convertToInteractive',\n",
              "                                                     [key], {});\n",
              "          if (!dataTable) return;\n",
              "\n",
              "          const docLinkHtml = 'Like what you see? Visit the ' +\n",
              "            '<a target=\"_blank\" href=https://colab.research.google.com/notebooks/data_table.ipynb>data table notebook</a>'\n",
              "            + ' to learn more about interactive tables.';\n",
              "          element.innerHTML = '';\n",
              "          dataTable['output_type'] = 'display_data';\n",
              "          await google.colab.output.renderOutput(dataTable, element);\n",
              "          const docLink = document.createElement('div');\n",
              "          docLink.innerHTML = docLinkHtml;\n",
              "          element.appendChild(docLink);\n",
              "        }\n",
              "      </script>\n",
              "    </div>\n",
              "  </div>\n",
              "  "
            ]
          },
          "metadata": {},
          "execution_count": 193
        }
      ]
    },
    {
      "cell_type": "code",
      "source": [
        "frame2['two': 'four']"
      ],
      "metadata": {
        "colab": {
          "base_uri": "https://localhost:8080/",
          "height": 143
        },
        "id": "jekJiZxHQuUl",
        "outputId": "1a8818de-66ef-4069-bc09-9944848cb647"
      },
      "execution_count": null,
      "outputs": [
        {
          "output_type": "execute_result",
          "data": {
            "text/plain": [
              "       Year         State  Population  Debit\n",
              "two    2003        Paraná         1.7    1.0\n",
              "three  2004   Mato Grosso         3.6    2.0\n",
              "four   2005  Minas Gerais         2.4    3.0"
            ],
            "text/html": [
              "\n",
              "  <div id=\"df-098bc126-4cb6-4225-8228-e59e51388f8c\">\n",
              "    <div class=\"colab-df-container\">\n",
              "      <div>\n",
              "<style scoped>\n",
              "    .dataframe tbody tr th:only-of-type {\n",
              "        vertical-align: middle;\n",
              "    }\n",
              "\n",
              "    .dataframe tbody tr th {\n",
              "        vertical-align: top;\n",
              "    }\n",
              "\n",
              "    .dataframe thead th {\n",
              "        text-align: right;\n",
              "    }\n",
              "</style>\n",
              "<table border=\"1\" class=\"dataframe\">\n",
              "  <thead>\n",
              "    <tr style=\"text-align: right;\">\n",
              "      <th></th>\n",
              "      <th>Year</th>\n",
              "      <th>State</th>\n",
              "      <th>Population</th>\n",
              "      <th>Debit</th>\n",
              "    </tr>\n",
              "  </thead>\n",
              "  <tbody>\n",
              "    <tr>\n",
              "      <th>two</th>\n",
              "      <td>2003</td>\n",
              "      <td>Paraná</td>\n",
              "      <td>1.7</td>\n",
              "      <td>1.0</td>\n",
              "    </tr>\n",
              "    <tr>\n",
              "      <th>three</th>\n",
              "      <td>2004</td>\n",
              "      <td>Mato Grosso</td>\n",
              "      <td>3.6</td>\n",
              "      <td>2.0</td>\n",
              "    </tr>\n",
              "    <tr>\n",
              "      <th>four</th>\n",
              "      <td>2005</td>\n",
              "      <td>Minas Gerais</td>\n",
              "      <td>2.4</td>\n",
              "      <td>3.0</td>\n",
              "    </tr>\n",
              "  </tbody>\n",
              "</table>\n",
              "</div>\n",
              "      <button class=\"colab-df-convert\" onclick=\"convertToInteractive('df-098bc126-4cb6-4225-8228-e59e51388f8c')\"\n",
              "              title=\"Convert this dataframe to an interactive table.\"\n",
              "              style=\"display:none;\">\n",
              "        \n",
              "  <svg xmlns=\"http://www.w3.org/2000/svg\" height=\"24px\"viewBox=\"0 0 24 24\"\n",
              "       width=\"24px\">\n",
              "    <path d=\"M0 0h24v24H0V0z\" fill=\"none\"/>\n",
              "    <path d=\"M18.56 5.44l.94 2.06.94-2.06 2.06-.94-2.06-.94-.94-2.06-.94 2.06-2.06.94zm-11 1L8.5 8.5l.94-2.06 2.06-.94-2.06-.94L8.5 2.5l-.94 2.06-2.06.94zm10 10l.94 2.06.94-2.06 2.06-.94-2.06-.94-.94-2.06-.94 2.06-2.06.94z\"/><path d=\"M17.41 7.96l-1.37-1.37c-.4-.4-.92-.59-1.43-.59-.52 0-1.04.2-1.43.59L10.3 9.45l-7.72 7.72c-.78.78-.78 2.05 0 2.83L4 21.41c.39.39.9.59 1.41.59.51 0 1.02-.2 1.41-.59l7.78-7.78 2.81-2.81c.8-.78.8-2.07 0-2.86zM5.41 20L4 18.59l7.72-7.72 1.47 1.35L5.41 20z\"/>\n",
              "  </svg>\n",
              "      </button>\n",
              "      \n",
              "  <style>\n",
              "    .colab-df-container {\n",
              "      display:flex;\n",
              "      flex-wrap:wrap;\n",
              "      gap: 12px;\n",
              "    }\n",
              "\n",
              "    .colab-df-convert {\n",
              "      background-color: #E8F0FE;\n",
              "      border: none;\n",
              "      border-radius: 50%;\n",
              "      cursor: pointer;\n",
              "      display: none;\n",
              "      fill: #1967D2;\n",
              "      height: 32px;\n",
              "      padding: 0 0 0 0;\n",
              "      width: 32px;\n",
              "    }\n",
              "\n",
              "    .colab-df-convert:hover {\n",
              "      background-color: #E2EBFA;\n",
              "      box-shadow: 0px 1px 2px rgba(60, 64, 67, 0.3), 0px 1px 3px 1px rgba(60, 64, 67, 0.15);\n",
              "      fill: #174EA6;\n",
              "    }\n",
              "\n",
              "    [theme=dark] .colab-df-convert {\n",
              "      background-color: #3B4455;\n",
              "      fill: #D2E3FC;\n",
              "    }\n",
              "\n",
              "    [theme=dark] .colab-df-convert:hover {\n",
              "      background-color: #434B5C;\n",
              "      box-shadow: 0px 1px 3px 1px rgba(0, 0, 0, 0.15);\n",
              "      filter: drop-shadow(0px 1px 2px rgba(0, 0, 0, 0.3));\n",
              "      fill: #FFFFFF;\n",
              "    }\n",
              "  </style>\n",
              "\n",
              "      <script>\n",
              "        const buttonEl =\n",
              "          document.querySelector('#df-098bc126-4cb6-4225-8228-e59e51388f8c button.colab-df-convert');\n",
              "        buttonEl.style.display =\n",
              "          google.colab.kernel.accessAllowed ? 'block' : 'none';\n",
              "\n",
              "        async function convertToInteractive(key) {\n",
              "          const element = document.querySelector('#df-098bc126-4cb6-4225-8228-e59e51388f8c');\n",
              "          const dataTable =\n",
              "            await google.colab.kernel.invokeFunction('convertToInteractive',\n",
              "                                                     [key], {});\n",
              "          if (!dataTable) return;\n",
              "\n",
              "          const docLinkHtml = 'Like what you see? Visit the ' +\n",
              "            '<a target=\"_blank\" href=https://colab.research.google.com/notebooks/data_table.ipynb>data table notebook</a>'\n",
              "            + ' to learn more about interactive tables.';\n",
              "          element.innerHTML = '';\n",
              "          dataTable['output_type'] = 'display_data';\n",
              "          await google.colab.output.renderOutput(dataTable, element);\n",
              "          const docLink = document.createElement('div');\n",
              "          docLink.innerHTML = docLinkHtml;\n",
              "          element.appendChild(docLink);\n",
              "        }\n",
              "      </script>\n",
              "    </div>\n",
              "  </div>\n",
              "  "
            ]
          },
          "metadata": {},
          "execution_count": 196
        }
      ]
    },
    {
      "cell_type": "code",
      "source": [
        "frame2.loc['four']"
      ],
      "metadata": {
        "colab": {
          "base_uri": "https://localhost:8080/"
        },
        "id": "Cml6v19WRJN-",
        "outputId": "2340d4ac-6e9d-453d-fdec-9b15e70650d2"
      },
      "execution_count": null,
      "outputs": [
        {
          "output_type": "execute_result",
          "data": {
            "text/plain": [
              "Year                  2005\n",
              "State         Minas Gerais\n",
              "Population             2.4\n",
              "Debit                  3.0\n",
              "Name: four, dtype: object"
            ]
          },
          "metadata": {},
          "execution_count": 201
        }
      ]
    },
    {
      "cell_type": "code",
      "source": [
        "frame2.iloc[2]"
      ],
      "metadata": {
        "colab": {
          "base_uri": "https://localhost:8080/"
        },
        "id": "B-SGctNRW_Wi",
        "outputId": "7b961ce3-e0da-4076-87b2-b71b824117dd"
      },
      "execution_count": null,
      "outputs": [
        {
          "output_type": "execute_result",
          "data": {
            "text/plain": [
              "Year                 2004\n",
              "State         Mato Grosso\n",
              "Population            3.6\n",
              "Debit                 2.0\n",
              "Name: three, dtype: object"
            ]
          },
          "metadata": {},
          "execution_count": 202
        }
      ]
    },
    {
      "cell_type": "code",
      "source": [
        "web_stats = {'Days':[1, 2, 3, 4, 5, 6, 7],\n",
        "             'Visitors': [45, 23, 67, 78, 23, 12, 14],\n",
        "             'Taxes': [11, 22, 33, 44, 55, 66, 77]}"
      ],
      "metadata": {
        "id": "lqkBD2uobsyt"
      },
      "execution_count": null,
      "outputs": []
    },
    {
      "cell_type": "code",
      "source": [
        "df = pd.DataFrame(web_stats)"
      ],
      "metadata": {
        "id": "Us8onYzfcVY7"
      },
      "execution_count": null,
      "outputs": []
    },
    {
      "cell_type": "code",
      "source": [
        "print(df)"
      ],
      "metadata": {
        "colab": {
          "base_uri": "https://localhost:8080/"
        },
        "id": "a5Du67GdcbQU",
        "outputId": "d49a70c4-5b38-46d2-e756-7af61b4c8c19"
      },
      "execution_count": null,
      "outputs": [
        {
          "output_type": "stream",
          "name": "stdout",
          "text": [
            "   Days  Visitors  Taxes\n",
            "0     1        45     11\n",
            "1     2        23     22\n",
            "2     3        67     33\n",
            "3     4        78     44\n",
            "4     5        23     55\n",
            "5     6        12     66\n",
            "6     7        14     77\n"
          ]
        }
      ]
    },
    {
      "cell_type": "code",
      "source": [
        "print(df.set_index('Days'))"
      ],
      "metadata": {
        "colab": {
          "base_uri": "https://localhost:8080/"
        },
        "id": "RvP6QoD9cep-",
        "outputId": "784ab610-ac8e-4b9e-f203-55ba2520c816"
      },
      "execution_count": null,
      "outputs": [
        {
          "output_type": "stream",
          "name": "stdout",
          "text": [
            "      Visitors  Taxes\n",
            "Days                 \n",
            "1           45     11\n",
            "2           23     22\n",
            "3           67     33\n",
            "4           78     44\n",
            "5           23     55\n",
            "6           12     66\n",
            "7           14     77\n"
          ]
        }
      ]
    },
    {
      "cell_type": "code",
      "source": [
        "print(df.head())"
      ],
      "metadata": {
        "colab": {
          "base_uri": "https://localhost:8080/"
        },
        "id": "_D1wbQNScvsN",
        "outputId": "946bcdff-1816-4319-f109-095008b09b5d"
      },
      "execution_count": null,
      "outputs": [
        {
          "output_type": "stream",
          "name": "stdout",
          "text": [
            "   Days  Visitors  Taxes\n",
            "0     1        45     11\n",
            "1     2        23     22\n",
            "2     3        67     33\n",
            "3     4        78     44\n",
            "4     5        23     55\n"
          ]
        }
      ]
    },
    {
      "cell_type": "code",
      "source": [
        "print(df['Visitors'])"
      ],
      "metadata": {
        "colab": {
          "base_uri": "https://localhost:8080/"
        },
        "id": "uhhdtGoxc0Yi",
        "outputId": "620cbe0b-cee9-4633-d3e8-9537650da9a2"
      },
      "execution_count": null,
      "outputs": [
        {
          "output_type": "stream",
          "name": "stdout",
          "text": [
            "0    45\n",
            "1    23\n",
            "2    67\n",
            "3    78\n",
            "4    23\n",
            "5    12\n",
            "6    14\n",
            "Name: Visitors, dtype: int64\n"
          ]
        }
      ]
    },
    {
      "cell_type": "code",
      "source": [
        "print(df[['Visitors', 'Taxes']])"
      ],
      "metadata": {
        "colab": {
          "base_uri": "https://localhost:8080/"
        },
        "id": "bbQoOEVLc-7M",
        "outputId": "3be5ccb7-bee1-4733-a758-529b2c58e7c4"
      },
      "execution_count": null,
      "outputs": [
        {
          "output_type": "stream",
          "name": "stdout",
          "text": [
            "   Visitors  Taxes\n",
            "0        45     11\n",
            "1        23     22\n",
            "2        67     33\n",
            "3        78     44\n",
            "4        23     55\n",
            "5        12     66\n",
            "6        14     77\n"
          ]
        }
      ]
    },
    {
      "cell_type": "markdown",
      "source": [
        "# **Dataframes and CSV Files**"
      ],
      "metadata": {
        "id": "1hKfY0ubdjmD"
      }
    },
    {
      "cell_type": "code",
      "source": [
        "df = pd.read_csv('salarios.csv')"
      ],
      "metadata": {
        "id": "gcyxFqgGd1H8"
      },
      "execution_count": 3,
      "outputs": []
    },
    {
      "cell_type": "code",
      "source": [
        "df"
      ],
      "metadata": {
        "colab": {
          "base_uri": "https://localhost:8080/",
          "height": 424
        },
        "id": "3ax92ZKkiAeI",
        "outputId": "11a32ae4-cb1c-49e7-c933-5ae97a2dbe57"
      },
      "execution_count": 4,
      "outputs": [
        {
          "output_type": "execute_result",
          "data": {
            "text/plain": [
              "                      Name            Position Title        Department  \\\n",
              "0          AARON,  ELVIA J          WATER RATE TAKER       WATER MGMNT   \n",
              "1        AARON,  JEFFERY M            POLICE OFFICER            POLICE   \n",
              "2           AARON,  KARINA            POLICE OFFICER            POLICE   \n",
              "3      AARON,  KIMBERLEI R  CHIEF CONTRACT EXPEDITER  GENERAL SERVICES   \n",
              "4      ABAD JR,  VICENTE M         CIVIL ENGINEER IV       WATER MGMNT   \n",
              "...                    ...                       ...               ...   \n",
              "32177   ZYGOWICZ,  PETER J            POLICE OFFICER            POLICE   \n",
              "32178    ZYMANTAS,  MARK E            POLICE OFFICER            POLICE   \n",
              "32179  ZYRKOWSKI,  CARLO E            POLICE OFFICER            POLICE   \n",
              "32180  ZYSKOWSKI,  DARIUSZ   CHIEF DATA BASE ANALYST              DoIT   \n",
              "32181                  NaN                       NaN               NaN   \n",
              "\n",
              "      Employee Annual Salary  \n",
              "0                  $88965.00  \n",
              "1                  $80778.00  \n",
              "2                  $80778.00  \n",
              "3                  $84780.00  \n",
              "4                 $104736.00  \n",
              "...                      ...  \n",
              "32177              $86520.00  \n",
              "32178              $83616.00  \n",
              "32179              $86520.00  \n",
              "32180             $110352.00  \n",
              "32181                    NaN  \n",
              "\n",
              "[32182 rows x 4 columns]"
            ],
            "text/html": [
              "\n",
              "  <div id=\"df-b7854c7b-bc6d-4a50-8fd2-21db646d9e3d\">\n",
              "    <div class=\"colab-df-container\">\n",
              "      <div>\n",
              "<style scoped>\n",
              "    .dataframe tbody tr th:only-of-type {\n",
              "        vertical-align: middle;\n",
              "    }\n",
              "\n",
              "    .dataframe tbody tr th {\n",
              "        vertical-align: top;\n",
              "    }\n",
              "\n",
              "    .dataframe thead th {\n",
              "        text-align: right;\n",
              "    }\n",
              "</style>\n",
              "<table border=\"1\" class=\"dataframe\">\n",
              "  <thead>\n",
              "    <tr style=\"text-align: right;\">\n",
              "      <th></th>\n",
              "      <th>Name</th>\n",
              "      <th>Position Title</th>\n",
              "      <th>Department</th>\n",
              "      <th>Employee Annual Salary</th>\n",
              "    </tr>\n",
              "  </thead>\n",
              "  <tbody>\n",
              "    <tr>\n",
              "      <th>0</th>\n",
              "      <td>AARON,  ELVIA J</td>\n",
              "      <td>WATER RATE TAKER</td>\n",
              "      <td>WATER MGMNT</td>\n",
              "      <td>$88965.00</td>\n",
              "    </tr>\n",
              "    <tr>\n",
              "      <th>1</th>\n",
              "      <td>AARON,  JEFFERY M</td>\n",
              "      <td>POLICE OFFICER</td>\n",
              "      <td>POLICE</td>\n",
              "      <td>$80778.00</td>\n",
              "    </tr>\n",
              "    <tr>\n",
              "      <th>2</th>\n",
              "      <td>AARON,  KARINA</td>\n",
              "      <td>POLICE OFFICER</td>\n",
              "      <td>POLICE</td>\n",
              "      <td>$80778.00</td>\n",
              "    </tr>\n",
              "    <tr>\n",
              "      <th>3</th>\n",
              "      <td>AARON,  KIMBERLEI R</td>\n",
              "      <td>CHIEF CONTRACT EXPEDITER</td>\n",
              "      <td>GENERAL SERVICES</td>\n",
              "      <td>$84780.00</td>\n",
              "    </tr>\n",
              "    <tr>\n",
              "      <th>4</th>\n",
              "      <td>ABAD JR,  VICENTE M</td>\n",
              "      <td>CIVIL ENGINEER IV</td>\n",
              "      <td>WATER MGMNT</td>\n",
              "      <td>$104736.00</td>\n",
              "    </tr>\n",
              "    <tr>\n",
              "      <th>...</th>\n",
              "      <td>...</td>\n",
              "      <td>...</td>\n",
              "      <td>...</td>\n",
              "      <td>...</td>\n",
              "    </tr>\n",
              "    <tr>\n",
              "      <th>32177</th>\n",
              "      <td>ZYGOWICZ,  PETER J</td>\n",
              "      <td>POLICE OFFICER</td>\n",
              "      <td>POLICE</td>\n",
              "      <td>$86520.00</td>\n",
              "    </tr>\n",
              "    <tr>\n",
              "      <th>32178</th>\n",
              "      <td>ZYMANTAS,  MARK E</td>\n",
              "      <td>POLICE OFFICER</td>\n",
              "      <td>POLICE</td>\n",
              "      <td>$83616.00</td>\n",
              "    </tr>\n",
              "    <tr>\n",
              "      <th>32179</th>\n",
              "      <td>ZYRKOWSKI,  CARLO E</td>\n",
              "      <td>POLICE OFFICER</td>\n",
              "      <td>POLICE</td>\n",
              "      <td>$86520.00</td>\n",
              "    </tr>\n",
              "    <tr>\n",
              "      <th>32180</th>\n",
              "      <td>ZYSKOWSKI,  DARIUSZ</td>\n",
              "      <td>CHIEF DATA BASE ANALYST</td>\n",
              "      <td>DoIT</td>\n",
              "      <td>$110352.00</td>\n",
              "    </tr>\n",
              "    <tr>\n",
              "      <th>32181</th>\n",
              "      <td>NaN</td>\n",
              "      <td>NaN</td>\n",
              "      <td>NaN</td>\n",
              "      <td>NaN</td>\n",
              "    </tr>\n",
              "  </tbody>\n",
              "</table>\n",
              "<p>32182 rows × 4 columns</p>\n",
              "</div>\n",
              "      <button class=\"colab-df-convert\" onclick=\"convertToInteractive('df-b7854c7b-bc6d-4a50-8fd2-21db646d9e3d')\"\n",
              "              title=\"Convert this dataframe to an interactive table.\"\n",
              "              style=\"display:none;\">\n",
              "        \n",
              "  <svg xmlns=\"http://www.w3.org/2000/svg\" height=\"24px\"viewBox=\"0 0 24 24\"\n",
              "       width=\"24px\">\n",
              "    <path d=\"M0 0h24v24H0V0z\" fill=\"none\"/>\n",
              "    <path d=\"M18.56 5.44l.94 2.06.94-2.06 2.06-.94-2.06-.94-.94-2.06-.94 2.06-2.06.94zm-11 1L8.5 8.5l.94-2.06 2.06-.94-2.06-.94L8.5 2.5l-.94 2.06-2.06.94zm10 10l.94 2.06.94-2.06 2.06-.94-2.06-.94-.94-2.06-.94 2.06-2.06.94z\"/><path d=\"M17.41 7.96l-1.37-1.37c-.4-.4-.92-.59-1.43-.59-.52 0-1.04.2-1.43.59L10.3 9.45l-7.72 7.72c-.78.78-.78 2.05 0 2.83L4 21.41c.39.39.9.59 1.41.59.51 0 1.02-.2 1.41-.59l7.78-7.78 2.81-2.81c.8-.78.8-2.07 0-2.86zM5.41 20L4 18.59l7.72-7.72 1.47 1.35L5.41 20z\"/>\n",
              "  </svg>\n",
              "      </button>\n",
              "      \n",
              "  <style>\n",
              "    .colab-df-container {\n",
              "      display:flex;\n",
              "      flex-wrap:wrap;\n",
              "      gap: 12px;\n",
              "    }\n",
              "\n",
              "    .colab-df-convert {\n",
              "      background-color: #E8F0FE;\n",
              "      border: none;\n",
              "      border-radius: 50%;\n",
              "      cursor: pointer;\n",
              "      display: none;\n",
              "      fill: #1967D2;\n",
              "      height: 32px;\n",
              "      padding: 0 0 0 0;\n",
              "      width: 32px;\n",
              "    }\n",
              "\n",
              "    .colab-df-convert:hover {\n",
              "      background-color: #E2EBFA;\n",
              "      box-shadow: 0px 1px 2px rgba(60, 64, 67, 0.3), 0px 1px 3px 1px rgba(60, 64, 67, 0.15);\n",
              "      fill: #174EA6;\n",
              "    }\n",
              "\n",
              "    [theme=dark] .colab-df-convert {\n",
              "      background-color: #3B4455;\n",
              "      fill: #D2E3FC;\n",
              "    }\n",
              "\n",
              "    [theme=dark] .colab-df-convert:hover {\n",
              "      background-color: #434B5C;\n",
              "      box-shadow: 0px 1px 3px 1px rgba(0, 0, 0, 0.15);\n",
              "      filter: drop-shadow(0px 1px 2px rgba(0, 0, 0, 0.3));\n",
              "      fill: #FFFFFF;\n",
              "    }\n",
              "  </style>\n",
              "\n",
              "      <script>\n",
              "        const buttonEl =\n",
              "          document.querySelector('#df-b7854c7b-bc6d-4a50-8fd2-21db646d9e3d button.colab-df-convert');\n",
              "        buttonEl.style.display =\n",
              "          google.colab.kernel.accessAllowed ? 'block' : 'none';\n",
              "\n",
              "        async function convertToInteractive(key) {\n",
              "          const element = document.querySelector('#df-b7854c7b-bc6d-4a50-8fd2-21db646d9e3d');\n",
              "          const dataTable =\n",
              "            await google.colab.kernel.invokeFunction('convertToInteractive',\n",
              "                                                     [key], {});\n",
              "          if (!dataTable) return;\n",
              "\n",
              "          const docLinkHtml = 'Like what you see? Visit the ' +\n",
              "            '<a target=\"_blank\" href=https://colab.research.google.com/notebooks/data_table.ipynb>data table notebook</a>'\n",
              "            + ' to learn more about interactive tables.';\n",
              "          element.innerHTML = '';\n",
              "          dataTable['output_type'] = 'display_data';\n",
              "          await google.colab.output.renderOutput(dataTable, element);\n",
              "          const docLink = document.createElement('div');\n",
              "          docLink.innerHTML = docLinkHtml;\n",
              "          element.appendChild(docLink);\n",
              "        }\n",
              "      </script>\n",
              "    </div>\n",
              "  </div>\n",
              "  "
            ]
          },
          "metadata": {},
          "execution_count": 4
        }
      ]
    },
    {
      "cell_type": "code",
      "source": [
        "df = pd.read_csv('salarios.csv', sep = ';')"
      ],
      "metadata": {
        "id": "8lU-WmhViCnb"
      },
      "execution_count": 61,
      "outputs": []
    },
    {
      "cell_type": "code",
      "source": [
        "df"
      ],
      "metadata": {
        "id": "WaPGX1l4-ATM",
        "outputId": "3891c088-1f31-4659-9da0-76ec8bed282d",
        "colab": {
          "base_uri": "https://localhost:8080/",
          "height": 424
        }
      },
      "execution_count": 62,
      "outputs": [
        {
          "output_type": "execute_result",
          "data": {
            "text/plain": [
              "      Name,Position Title,Department,Employee Annual Salary\n",
              "0      AARON,  ELVIA J,WATER RATE TAKER,WATER MGMNT,$...   \n",
              "1      AARON,  JEFFERY M,POLICE OFFICER,POLICE,$80778.00   \n",
              "2         AARON,  KARINA,POLICE OFFICER,POLICE,$80778.00   \n",
              "3      AARON,  KIMBERLEI R,CHIEF CONTRACT EXPEDITER,G...   \n",
              "4      ABAD JR,  VICENTE M,CIVIL ENGINEER IV,WATER MG...   \n",
              "...                                                  ...   \n",
              "32177  ZYGOWICZ,  PETER J,POLICE OFFICER,POLICE,$8652...   \n",
              "32178  ZYMANTAS,  MARK E,POLICE OFFICER,POLICE,$83616.00   \n",
              "32179  ZYRKOWSKI,  CARLO E,POLICE OFFICER,POLICE,$865...   \n",
              "32180  ZYSKOWSKI,  DARIUSZ,CHIEF DATA BASE ANALYST,Do...   \n",
              "32181                                                ,,,   \n",
              "\n",
              "[32182 rows x 1 columns]"
            ],
            "text/html": [
              "\n",
              "  <div id=\"df-6412c270-810a-4620-90ac-c626bd137150\">\n",
              "    <div class=\"colab-df-container\">\n",
              "      <div>\n",
              "<style scoped>\n",
              "    .dataframe tbody tr th:only-of-type {\n",
              "        vertical-align: middle;\n",
              "    }\n",
              "\n",
              "    .dataframe tbody tr th {\n",
              "        vertical-align: top;\n",
              "    }\n",
              "\n",
              "    .dataframe thead th {\n",
              "        text-align: right;\n",
              "    }\n",
              "</style>\n",
              "<table border=\"1\" class=\"dataframe\">\n",
              "  <thead>\n",
              "    <tr style=\"text-align: right;\">\n",
              "      <th></th>\n",
              "      <th>Name,Position Title,Department,Employee Annual Salary</th>\n",
              "    </tr>\n",
              "  </thead>\n",
              "  <tbody>\n",
              "    <tr>\n",
              "      <th>0</th>\n",
              "      <td>AARON,  ELVIA J,WATER RATE TAKER,WATER MGMNT,$...</td>\n",
              "    </tr>\n",
              "    <tr>\n",
              "      <th>1</th>\n",
              "      <td>AARON,  JEFFERY M,POLICE OFFICER,POLICE,$80778.00</td>\n",
              "    </tr>\n",
              "    <tr>\n",
              "      <th>2</th>\n",
              "      <td>AARON,  KARINA,POLICE OFFICER,POLICE,$80778.00</td>\n",
              "    </tr>\n",
              "    <tr>\n",
              "      <th>3</th>\n",
              "      <td>AARON,  KIMBERLEI R,CHIEF CONTRACT EXPEDITER,G...</td>\n",
              "    </tr>\n",
              "    <tr>\n",
              "      <th>4</th>\n",
              "      <td>ABAD JR,  VICENTE M,CIVIL ENGINEER IV,WATER MG...</td>\n",
              "    </tr>\n",
              "    <tr>\n",
              "      <th>...</th>\n",
              "      <td>...</td>\n",
              "    </tr>\n",
              "    <tr>\n",
              "      <th>32177</th>\n",
              "      <td>ZYGOWICZ,  PETER J,POLICE OFFICER,POLICE,$8652...</td>\n",
              "    </tr>\n",
              "    <tr>\n",
              "      <th>32178</th>\n",
              "      <td>ZYMANTAS,  MARK E,POLICE OFFICER,POLICE,$83616.00</td>\n",
              "    </tr>\n",
              "    <tr>\n",
              "      <th>32179</th>\n",
              "      <td>ZYRKOWSKI,  CARLO E,POLICE OFFICER,POLICE,$865...</td>\n",
              "    </tr>\n",
              "    <tr>\n",
              "      <th>32180</th>\n",
              "      <td>ZYSKOWSKI,  DARIUSZ,CHIEF DATA BASE ANALYST,Do...</td>\n",
              "    </tr>\n",
              "    <tr>\n",
              "      <th>32181</th>\n",
              "      <td>,,,</td>\n",
              "    </tr>\n",
              "  </tbody>\n",
              "</table>\n",
              "<p>32182 rows × 1 columns</p>\n",
              "</div>\n",
              "      <button class=\"colab-df-convert\" onclick=\"convertToInteractive('df-6412c270-810a-4620-90ac-c626bd137150')\"\n",
              "              title=\"Convert this dataframe to an interactive table.\"\n",
              "              style=\"display:none;\">\n",
              "        \n",
              "  <svg xmlns=\"http://www.w3.org/2000/svg\" height=\"24px\"viewBox=\"0 0 24 24\"\n",
              "       width=\"24px\">\n",
              "    <path d=\"M0 0h24v24H0V0z\" fill=\"none\"/>\n",
              "    <path d=\"M18.56 5.44l.94 2.06.94-2.06 2.06-.94-2.06-.94-.94-2.06-.94 2.06-2.06.94zm-11 1L8.5 8.5l.94-2.06 2.06-.94-2.06-.94L8.5 2.5l-.94 2.06-2.06.94zm10 10l.94 2.06.94-2.06 2.06-.94-2.06-.94-.94-2.06-.94 2.06-2.06.94z\"/><path d=\"M17.41 7.96l-1.37-1.37c-.4-.4-.92-.59-1.43-.59-.52 0-1.04.2-1.43.59L10.3 9.45l-7.72 7.72c-.78.78-.78 2.05 0 2.83L4 21.41c.39.39.9.59 1.41.59.51 0 1.02-.2 1.41-.59l7.78-7.78 2.81-2.81c.8-.78.8-2.07 0-2.86zM5.41 20L4 18.59l7.72-7.72 1.47 1.35L5.41 20z\"/>\n",
              "  </svg>\n",
              "      </button>\n",
              "      \n",
              "  <style>\n",
              "    .colab-df-container {\n",
              "      display:flex;\n",
              "      flex-wrap:wrap;\n",
              "      gap: 12px;\n",
              "    }\n",
              "\n",
              "    .colab-df-convert {\n",
              "      background-color: #E8F0FE;\n",
              "      border: none;\n",
              "      border-radius: 50%;\n",
              "      cursor: pointer;\n",
              "      display: none;\n",
              "      fill: #1967D2;\n",
              "      height: 32px;\n",
              "      padding: 0 0 0 0;\n",
              "      width: 32px;\n",
              "    }\n",
              "\n",
              "    .colab-df-convert:hover {\n",
              "      background-color: #E2EBFA;\n",
              "      box-shadow: 0px 1px 2px rgba(60, 64, 67, 0.3), 0px 1px 3px 1px rgba(60, 64, 67, 0.15);\n",
              "      fill: #174EA6;\n",
              "    }\n",
              "\n",
              "    [theme=dark] .colab-df-convert {\n",
              "      background-color: #3B4455;\n",
              "      fill: #D2E3FC;\n",
              "    }\n",
              "\n",
              "    [theme=dark] .colab-df-convert:hover {\n",
              "      background-color: #434B5C;\n",
              "      box-shadow: 0px 1px 3px 1px rgba(0, 0, 0, 0.15);\n",
              "      filter: drop-shadow(0px 1px 2px rgba(0, 0, 0, 0.3));\n",
              "      fill: #FFFFFF;\n",
              "    }\n",
              "  </style>\n",
              "\n",
              "      <script>\n",
              "        const buttonEl =\n",
              "          document.querySelector('#df-6412c270-810a-4620-90ac-c626bd137150 button.colab-df-convert');\n",
              "        buttonEl.style.display =\n",
              "          google.colab.kernel.accessAllowed ? 'block' : 'none';\n",
              "\n",
              "        async function convertToInteractive(key) {\n",
              "          const element = document.querySelector('#df-6412c270-810a-4620-90ac-c626bd137150');\n",
              "          const dataTable =\n",
              "            await google.colab.kernel.invokeFunction('convertToInteractive',\n",
              "                                                     [key], {});\n",
              "          if (!dataTable) return;\n",
              "\n",
              "          const docLinkHtml = 'Like what you see? Visit the ' +\n",
              "            '<a target=\"_blank\" href=https://colab.research.google.com/notebooks/data_table.ipynb>data table notebook</a>'\n",
              "            + ' to learn more about interactive tables.';\n",
              "          element.innerHTML = '';\n",
              "          dataTable['output_type'] = 'display_data';\n",
              "          await google.colab.output.renderOutput(dataTable, element);\n",
              "          const docLink = document.createElement('div');\n",
              "          docLink.innerHTML = docLinkHtml;\n",
              "          element.appendChild(docLink);\n",
              "        }\n",
              "      </script>\n",
              "    </div>\n",
              "  </div>\n",
              "  "
            ]
          },
          "metadata": {},
          "execution_count": 62
        }
      ]
    },
    {
      "cell_type": "code",
      "source": [
        "!head salarios.csv"
      ],
      "metadata": {
        "id": "YI8K7sOr-Jax",
        "outputId": "3e42fe51-1414-4a83-b9b9-399a77200c1d",
        "colab": {
          "base_uri": "https://localhost:8080/"
        }
      },
      "execution_count": 8,
      "outputs": [
        {
          "output_type": "stream",
          "name": "stdout",
          "text": [
            "Name,Position Title,Department,Employee Annual Salary\n",
            "\"AARON,  ELVIA J\",WATER RATE TAKER,WATER MGMNT,$88965.00\n",
            "\"AARON,  JEFFERY M\",POLICE OFFICER,POLICE,$80778.00\n",
            "\"AARON,  KARINA\",POLICE OFFICER,POLICE,$80778.00\n",
            "\"AARON,  KIMBERLEI R\",CHIEF CONTRACT EXPEDITER,GENERAL SERVICES,$84780.00\n",
            "\"ABAD JR,  VICENTE M\",CIVIL ENGINEER IV,WATER MGMNT,$104736.00\n",
            "\"ABARCA,  ANABEL\",ASST TO THE ALDERMAN,CITY COUNCIL,$70764.00\n",
            "\"ABARCA,  EMMANUEL\",GENERAL LABORER - DSS,STREETS & SAN,$40560.00\n",
            "\"ABBATACOLA,  ROBERT J\",ELECTRICAL MECHANIC,AVIATION,$91520.00\n",
            "\"ABBATEMARCO,  JAMES J\",FIRE ENGINEER,FIRE,$90456.00\n"
          ]
        }
      ]
    },
    {
      "cell_type": "code",
      "source": [
        "df = pd.read_csv('salarios.csv', names = ['a', 'b', 'c', 'd'])"
      ],
      "metadata": {
        "id": "PvIbRM10-NHV"
      },
      "execution_count": 9,
      "outputs": []
    },
    {
      "cell_type": "code",
      "source": [
        "df"
      ],
      "metadata": {
        "id": "kigGM2dX-cyF",
        "outputId": "6a19d010-feb5-4131-82ed-583cb8d43efa",
        "colab": {
          "base_uri": "https://localhost:8080/",
          "height": 424
        }
      },
      "execution_count": 10,
      "outputs": [
        {
          "output_type": "execute_result",
          "data": {
            "text/plain": [
              "                         a                         b                 c  \\\n",
              "0                     Name            Position Title        Department   \n",
              "1          AARON,  ELVIA J          WATER RATE TAKER       WATER MGMNT   \n",
              "2        AARON,  JEFFERY M            POLICE OFFICER            POLICE   \n",
              "3           AARON,  KARINA            POLICE OFFICER            POLICE   \n",
              "4      AARON,  KIMBERLEI R  CHIEF CONTRACT EXPEDITER  GENERAL SERVICES   \n",
              "...                    ...                       ...               ...   \n",
              "32178   ZYGOWICZ,  PETER J            POLICE OFFICER            POLICE   \n",
              "32179    ZYMANTAS,  MARK E            POLICE OFFICER            POLICE   \n",
              "32180  ZYRKOWSKI,  CARLO E            POLICE OFFICER            POLICE   \n",
              "32181  ZYSKOWSKI,  DARIUSZ   CHIEF DATA BASE ANALYST              DoIT   \n",
              "32182                  NaN                       NaN               NaN   \n",
              "\n",
              "                            d  \n",
              "0      Employee Annual Salary  \n",
              "1                   $88965.00  \n",
              "2                   $80778.00  \n",
              "3                   $80778.00  \n",
              "4                   $84780.00  \n",
              "...                       ...  \n",
              "32178               $86520.00  \n",
              "32179               $83616.00  \n",
              "32180               $86520.00  \n",
              "32181              $110352.00  \n",
              "32182                     NaN  \n",
              "\n",
              "[32183 rows x 4 columns]"
            ],
            "text/html": [
              "\n",
              "  <div id=\"df-62e48775-a9ae-4cb3-9919-cafc50b89eae\">\n",
              "    <div class=\"colab-df-container\">\n",
              "      <div>\n",
              "<style scoped>\n",
              "    .dataframe tbody tr th:only-of-type {\n",
              "        vertical-align: middle;\n",
              "    }\n",
              "\n",
              "    .dataframe tbody tr th {\n",
              "        vertical-align: top;\n",
              "    }\n",
              "\n",
              "    .dataframe thead th {\n",
              "        text-align: right;\n",
              "    }\n",
              "</style>\n",
              "<table border=\"1\" class=\"dataframe\">\n",
              "  <thead>\n",
              "    <tr style=\"text-align: right;\">\n",
              "      <th></th>\n",
              "      <th>a</th>\n",
              "      <th>b</th>\n",
              "      <th>c</th>\n",
              "      <th>d</th>\n",
              "    </tr>\n",
              "  </thead>\n",
              "  <tbody>\n",
              "    <tr>\n",
              "      <th>0</th>\n",
              "      <td>Name</td>\n",
              "      <td>Position Title</td>\n",
              "      <td>Department</td>\n",
              "      <td>Employee Annual Salary</td>\n",
              "    </tr>\n",
              "    <tr>\n",
              "      <th>1</th>\n",
              "      <td>AARON,  ELVIA J</td>\n",
              "      <td>WATER RATE TAKER</td>\n",
              "      <td>WATER MGMNT</td>\n",
              "      <td>$88965.00</td>\n",
              "    </tr>\n",
              "    <tr>\n",
              "      <th>2</th>\n",
              "      <td>AARON,  JEFFERY M</td>\n",
              "      <td>POLICE OFFICER</td>\n",
              "      <td>POLICE</td>\n",
              "      <td>$80778.00</td>\n",
              "    </tr>\n",
              "    <tr>\n",
              "      <th>3</th>\n",
              "      <td>AARON,  KARINA</td>\n",
              "      <td>POLICE OFFICER</td>\n",
              "      <td>POLICE</td>\n",
              "      <td>$80778.00</td>\n",
              "    </tr>\n",
              "    <tr>\n",
              "      <th>4</th>\n",
              "      <td>AARON,  KIMBERLEI R</td>\n",
              "      <td>CHIEF CONTRACT EXPEDITER</td>\n",
              "      <td>GENERAL SERVICES</td>\n",
              "      <td>$84780.00</td>\n",
              "    </tr>\n",
              "    <tr>\n",
              "      <th>...</th>\n",
              "      <td>...</td>\n",
              "      <td>...</td>\n",
              "      <td>...</td>\n",
              "      <td>...</td>\n",
              "    </tr>\n",
              "    <tr>\n",
              "      <th>32178</th>\n",
              "      <td>ZYGOWICZ,  PETER J</td>\n",
              "      <td>POLICE OFFICER</td>\n",
              "      <td>POLICE</td>\n",
              "      <td>$86520.00</td>\n",
              "    </tr>\n",
              "    <tr>\n",
              "      <th>32179</th>\n",
              "      <td>ZYMANTAS,  MARK E</td>\n",
              "      <td>POLICE OFFICER</td>\n",
              "      <td>POLICE</td>\n",
              "      <td>$83616.00</td>\n",
              "    </tr>\n",
              "    <tr>\n",
              "      <th>32180</th>\n",
              "      <td>ZYRKOWSKI,  CARLO E</td>\n",
              "      <td>POLICE OFFICER</td>\n",
              "      <td>POLICE</td>\n",
              "      <td>$86520.00</td>\n",
              "    </tr>\n",
              "    <tr>\n",
              "      <th>32181</th>\n",
              "      <td>ZYSKOWSKI,  DARIUSZ</td>\n",
              "      <td>CHIEF DATA BASE ANALYST</td>\n",
              "      <td>DoIT</td>\n",
              "      <td>$110352.00</td>\n",
              "    </tr>\n",
              "    <tr>\n",
              "      <th>32182</th>\n",
              "      <td>NaN</td>\n",
              "      <td>NaN</td>\n",
              "      <td>NaN</td>\n",
              "      <td>NaN</td>\n",
              "    </tr>\n",
              "  </tbody>\n",
              "</table>\n",
              "<p>32183 rows × 4 columns</p>\n",
              "</div>\n",
              "      <button class=\"colab-df-convert\" onclick=\"convertToInteractive('df-62e48775-a9ae-4cb3-9919-cafc50b89eae')\"\n",
              "              title=\"Convert this dataframe to an interactive table.\"\n",
              "              style=\"display:none;\">\n",
              "        \n",
              "  <svg xmlns=\"http://www.w3.org/2000/svg\" height=\"24px\"viewBox=\"0 0 24 24\"\n",
              "       width=\"24px\">\n",
              "    <path d=\"M0 0h24v24H0V0z\" fill=\"none\"/>\n",
              "    <path d=\"M18.56 5.44l.94 2.06.94-2.06 2.06-.94-2.06-.94-.94-2.06-.94 2.06-2.06.94zm-11 1L8.5 8.5l.94-2.06 2.06-.94-2.06-.94L8.5 2.5l-.94 2.06-2.06.94zm10 10l.94 2.06.94-2.06 2.06-.94-2.06-.94-.94-2.06-.94 2.06-2.06.94z\"/><path d=\"M17.41 7.96l-1.37-1.37c-.4-.4-.92-.59-1.43-.59-.52 0-1.04.2-1.43.59L10.3 9.45l-7.72 7.72c-.78.78-.78 2.05 0 2.83L4 21.41c.39.39.9.59 1.41.59.51 0 1.02-.2 1.41-.59l7.78-7.78 2.81-2.81c.8-.78.8-2.07 0-2.86zM5.41 20L4 18.59l7.72-7.72 1.47 1.35L5.41 20z\"/>\n",
              "  </svg>\n",
              "      </button>\n",
              "      \n",
              "  <style>\n",
              "    .colab-df-container {\n",
              "      display:flex;\n",
              "      flex-wrap:wrap;\n",
              "      gap: 12px;\n",
              "    }\n",
              "\n",
              "    .colab-df-convert {\n",
              "      background-color: #E8F0FE;\n",
              "      border: none;\n",
              "      border-radius: 50%;\n",
              "      cursor: pointer;\n",
              "      display: none;\n",
              "      fill: #1967D2;\n",
              "      height: 32px;\n",
              "      padding: 0 0 0 0;\n",
              "      width: 32px;\n",
              "    }\n",
              "\n",
              "    .colab-df-convert:hover {\n",
              "      background-color: #E2EBFA;\n",
              "      box-shadow: 0px 1px 2px rgba(60, 64, 67, 0.3), 0px 1px 3px 1px rgba(60, 64, 67, 0.15);\n",
              "      fill: #174EA6;\n",
              "    }\n",
              "\n",
              "    [theme=dark] .colab-df-convert {\n",
              "      background-color: #3B4455;\n",
              "      fill: #D2E3FC;\n",
              "    }\n",
              "\n",
              "    [theme=dark] .colab-df-convert:hover {\n",
              "      background-color: #434B5C;\n",
              "      box-shadow: 0px 1px 3px 1px rgba(0, 0, 0, 0.15);\n",
              "      filter: drop-shadow(0px 1px 2px rgba(0, 0, 0, 0.3));\n",
              "      fill: #FFFFFF;\n",
              "    }\n",
              "  </style>\n",
              "\n",
              "      <script>\n",
              "        const buttonEl =\n",
              "          document.querySelector('#df-62e48775-a9ae-4cb3-9919-cafc50b89eae button.colab-df-convert');\n",
              "        buttonEl.style.display =\n",
              "          google.colab.kernel.accessAllowed ? 'block' : 'none';\n",
              "\n",
              "        async function convertToInteractive(key) {\n",
              "          const element = document.querySelector('#df-62e48775-a9ae-4cb3-9919-cafc50b89eae');\n",
              "          const dataTable =\n",
              "            await google.colab.kernel.invokeFunction('convertToInteractive',\n",
              "                                                     [key], {});\n",
              "          if (!dataTable) return;\n",
              "\n",
              "          const docLinkHtml = 'Like what you see? Visit the ' +\n",
              "            '<a target=\"_blank\" href=https://colab.research.google.com/notebooks/data_table.ipynb>data table notebook</a>'\n",
              "            + ' to learn more about interactive tables.';\n",
              "          element.innerHTML = '';\n",
              "          dataTable['output_type'] = 'display_data';\n",
              "          await google.colab.output.renderOutput(dataTable, element);\n",
              "          const docLink = document.createElement('div');\n",
              "          docLink.innerHTML = docLinkHtml;\n",
              "          element.appendChild(docLink);\n",
              "        }\n",
              "      </script>\n",
              "    </div>\n",
              "  </div>\n",
              "  "
            ]
          },
          "metadata": {},
          "execution_count": 10
        }
      ]
    },
    {
      "cell_type": "code",
      "source": [
        "import sys"
      ],
      "metadata": {
        "id": "knbeIqrD-kXk"
      },
      "execution_count": 11,
      "outputs": []
    },
    {
      "cell_type": "code",
      "source": [
        "data = pd.read_csv('salarios.csv')"
      ],
      "metadata": {
        "id": "gixoKLp4-t6N"
      },
      "execution_count": 12,
      "outputs": []
    },
    {
      "cell_type": "code",
      "source": [
        "data.to_csv(sys.stdout, sep = '|')"
      ],
      "metadata": {
        "id": "UBtN2Xv9_q8K",
        "outputId": "db03a3f1-bf14-48b2-f19f-4bc24268ad2b",
        "colab": {
          "base_uri": "https://localhost:8080/"
        }
      },
      "execution_count": 13,
      "outputs": [
        {
          "output_type": "stream",
          "name": "stdout",
          "text": [
            "\u001b[1;30;43mA saída de streaming foi truncada nas últimas 5000 linhas.\u001b[0m\n",
            "27182|SORENSEN,  STEPHANIE A|POLICE OFFICER|POLICE|$80778.00\n",
            "27183|SORENSON,  CHRIS W|PARAMEDIC|FIRE|$80778.00\n",
            "27184|SORENSON,  ZACHARY F|FIREFIGHTER/PARAMEDIC|FIRE|$87720.00\n",
            "27185|SORFLEET,  STEVEN J|DEPUTY COMMISSIONER|STREETS & SAN|$129096.00\n",
            "27186|SORGANI,  JOHN M|FIREFIGHTER|FIRE|$93594.00\n",
            "27187|SORIA,  ANTHONY|POLICE OFFICER|POLICE|$46206.00\n",
            "27188|SORIA,  CARLOS|FIREFIGHTER-EMT (RECRUIT)|FIRE|$54114.00\n",
            "27189|SORIA JR,  CARLOS|POLICE OFFICER|POLICE|$89718.00\n",
            "27190|SORIANO,  ENRIQUE V|ENVIRONMENTAL ENGINEER II|HEALTH|$95880.00\n",
            "27191|SORIANO,  JULIO|PROJECT COORD|COMMUNITY DEVELOPMENT|$54492.00\n",
            "27192|SORIANO,  SUSANA|FINANCIAL PLANNING ANALYST|COMMUNITY DEVELOPMENT|$79464.00\n",
            "27193|SORIA,  SANDRA|SERGEANT|POLICE|$106920.00\n",
            "27194|SORIA,  STEVE|POLICE OFFICER (ASSIGNED AS DETECTIVE)|POLICE|$97044.00\n",
            "27195|SORIA,  SUSAN A|POLICE COMMUNICATIONS OPERATOR I|OEMC|$61260.00\n",
            "27196|SORICH,  ANDREW D|PROPERTY CUSTODIAN - AUTO POUND|STREETS & SAN|$63708.00\n",
            "27197|SORICH,  KRISTINE|SENIOR LANDSCAPE ARCHITECT|TRANSPORTN|$87912.00\n",
            "27198|SORISTO,  PATRICK J|MACHINIST (AUTOMOTIVE)|GENERAL SERVICES|$92248.00\n",
            "27199|SORRELL,  ESTHER L|FINANCIAL PLANNING ANALYST|COMMUNITY DEVELOPMENT|$83100.00\n",
            "27200|SORRELL,  TRINA M|WATCHMAN|WATER MGMNT|$43950.40\n",
            "27201|SOSA,  DAVID L|HOISTING ENGINEER|TRANSPORTN|$95264.00\n",
            "27202|SOSA,  ERIC M|PARAMEDIC|FIRE|$54114.00\n",
            "27203|SOSA,  JAIME|SERGEANT|POLICE|$103590.00\n",
            "27204|SOSA,  JESSICA|POLICE OFFICER|POLICE|$80778.00\n",
            "27205|SOSA,  NAOMI|GENERAL LABORER - AVIATION|AVIATION|$40788.80\n",
            "27206|SOSA,  SILVIA O|SENIOR DATA ENTRY OPERATOR|POLICE|$55428.00\n",
            "27207|SOSNOWSKI,  THEODORE|LIEUTENANT-EMT|FIRE|$120576.00\n",
            "27208|SOSNOWSKI,  THEODORE E|FIREFIGHTER|FIRE|$65946.00\n",
            "27209|SOTAK,  WILLIAM P|POLICE OFFICER (ASSIGNED AS DETECTIVE)|POLICE|$99888.00\n",
            "27210|SOTELO,  EDILBERTO|TREE TRIMMER|STREETS & SAN|$74464.00\n",
            "27211|SOTELO,  NORMA A|LIBRARIAN I|PUBLIC LIBRARY|$72840.00\n",
            "27212|SOTGIU,  SARA E|POLICE OFFICER|POLICE|$86520.00\n",
            "27213|SOTO,  ALEXIS|POLICE OFFICER|POLICE|$80778.00\n",
            "27214|SOTO,  ALEXIS C|SERGEANT|POLICE|$103590.00\n",
            "27215|SOTO,  ANGELINA G|CUSTODIAL WORKER|AVIATION|$42369.60\n",
            "27216|SOTO,  CARLOS T|PARAMEDIC I/C|FIRE|$97044.00\n",
            "27217|SOTO,  CELESTINO|TRAINING AGENT I - PER AGREEMENT|STREETS & SAN|$76668.80\n",
            "27218|SOTO,  CESAR A|ELECTRICAL MECHANIC|AVIATION|$91520.00\n",
            "27219|SOTO,  CHRISTOPHER|AVIATION SECURITY OFFICER|AVIATION|$48924.00\n",
            "27220|SOTO,  DESIDERIO|CONSUMER INVESTIGATOR I|BUSINESS AFFAIRS|$76656.00\n",
            "27221|SOTO,  DINA M|POLICE OFFICER (ASSIGNED AS DETECTIVE)|POLICE|$97044.00\n",
            "27222|SOTO,  DONOVAN M|EQUIPMENT RENTAL COORD|GENERAL SERVICES|$70380.00\n",
            "27223|SOTO,  FERNANDO|POLICE OFFICER|POLICE|$80778.00\n",
            "27224|SOTO,  FRANCISCO W|POLICE OFFICER|POLICE|$92316.00\n",
            "27225|SOTO III,  GEORGE A|FIRE ENGINEER-PARAMEDIC|FIRE|$101688.00\n",
            "27226|SOTO III,  LOUIS|POLICE OFFICER|POLICE|$46206.00\n",
            "27227|SOTO,  JAIME|FIREFIGHTER/PARAMEDIC|FIRE|$93942.00\n",
            "27228|SOTO,  JAIME A|POLICE OFFICER|POLICE|$80778.00\n",
            "27229|SOTO,  JARIB E|AVIATION SECURITY OFFICER|AVIATION|$46656.00\n",
            "27230|SOTO,  JASMINE|POLICE OFFICER|POLICE|$46206.00\n",
            "27231|SOTO,  JENNIFER|POLICE OFFICER|POLICE|$69684.00\n",
            "27232|SOTO,  JOEL|POLICE OFFICER|POLICE|$46206.00\n",
            "27233|SOTO,  JOSE|AVIATION SECURITY OFFICER|AVIATION|$46656.00\n",
            "27234|SOTO,  JOSEPH|CONSTRUCTION LABORER|WATER MGMNT|$79040.00\n",
            "27235|SOTO JR,  CARLOS E|MOTOR TRUCK DRIVER|TRANSPORTN|$71780.80\n",
            "27236|SOTO JR,  RICHARD|POLICE OFFICER|POLICE|$86520.00\n",
            "27237|SOTO,  JUAN C|FIREFIGHTER-EMT (RECRUIT)|FIRE|$54114.00\n",
            "27238|SOTO,  MANUEL|POLICE OFFICER|POLICE|$73296.00\n",
            "27239|SOTO,  MANUEL E|LIEUTENANT-EMT|FIRE|$113400.00\n",
            "27240|SOTO,  MARILYN|POLICE OFFICER|POLICE|$80778.00\n",
            "27241|SOTOMAYOR,  EMELINA|POOL MOTOR TRUCK DRIVER|AVIATION|$71780.80\n",
            "27242|SOTOMAYOR,  JUAN D|FIRE ENGINEER-EMT|FIRE|$99324.00\n",
            "27243|SOTO,  MEGAN|LEGISLATIVE AIDE|CITY COUNCIL|$29208.00\n",
            "27244|SOTO,  NILDA I|SANITARIAN II|HEALTH|$73200.00\n",
            "27245|SOTO,  PEDRO A|TIMEKEEPER - CPD|POLICE|$69888.00\n",
            "27246|SOTO,  REYNALDO|FIREFIGHTER-EMT|FIRE|$85680.00\n",
            "27247|SOTO,  RICARDO|POLICE OFFICER|POLICE|$83616.00\n",
            "27248|SOTO,  RICARDO C|PARAMEDIC|FIRE|$83616.00\n",
            "27249|SOTO,  ROBERTO L|INVESTIGATOR - IPRA III|IPRA|$106104.00\n",
            "27250|SOTO,  SAMUEL|POLICE OFFICER / FLD TRNG OFFICER|POLICE|$84858.00\n",
            "27251|SOTO,  SAUL|POLICE OFFICER|POLICE|$83616.00\n",
            "27252|SOTOS,  VASILIOS T|FIREFIGHTER (PER ARBITRATORS AWARD)-PARAMEDIC|FIRE|$101688.00\n",
            "27253|SOTO,  TERESE N|POLICE OFFICER (ASSIGNED AS EVIDENCE TECHNICIAN)|POLICE|$90846.00\n",
            "27254|SOTO,  ZORAIDA|CROSSING GUARD|POLICE|$16692.00\n",
            "27255|SOUCHET JR,  RAYMOND A|REFUSE COLLECTION COORD|STREETS & SAN|$97596.00\n",
            "27256|SOUTHALL,  DARCELLA J|TIMEKEEPER - CPD|POLICE|$69888.00\n",
            "27257|SOUTHERN,  MAURICE F|FIREFIGHTER|FIRE|$90018.00\n",
            "27258|SOUTHWARD,  DEBBIE|CONCRETE LABORER|TRANSPORTN|$79040.00\n",
            "27259|SOWA,  JOSEPH W|PLUMBING INSPECTOR I/C|WATER MGMNT|$101292.00\n",
            "27260|SOWA,  MARK|MOTOR TRUCK DRIVER|PUBLIC LIBRARY|$71780.80\n",
            "27261|SOWA,  ROBERT P|MOTOR TRUCK DRIVER|STREETS & SAN|$71780.80\n",
            "27262|SOWELL,  RODNEY L|POLICE OFFICER|POLICE|$80778.00\n",
            "27263|SPAARGAREN,  JEFFREY T|FIREFIGHTER|FIRE|$90018.00\n",
            "27264|SPAARGAREN,  MICHAEL T|POLICE OFFICER|POLICE|$86520.00\n",
            "27265|SPACEK,  GEORGE W|POLICE OFFICER|POLICE|$83616.00\n",
            "27266|SPACEK,  NICHOLAS J|POLICE OFFICER|POLICE|$73296.00\n",
            "27267|SPAIN,  BRIAN S|POLICE OFFICER (ASSIGNED AS DETECTIVE)|POLICE|$93648.00\n",
            "27268|SPAIN,  CYNTHIA D|CROSSING GUARD|POLICE|$22131.20\n",
            "27269|SPAIN,  JERVES L|PARKING ENFORCEMENT AIDE|FINANCE|$48540.00\n",
            "27270|SPAIN,  PETER N|POLICE OFFICER|POLICE|$80778.00\n",
            "27271|SPALDING,  ANDREW T|BUILDING/CONSTRUCTION INSPECTOR|BUILDINGS|$97596.00\n",
            "27272|SPALLA,  JAMES A|LIEUTENANT-EMT|FIRE|$109872.00\n",
            "27273|SPALLA,  RITA F|ADMINISTRATIVE ASST III|STREETS & SAN|$76656.00\n",
            "27274|SPALLIERO,  HEATHER M|PARAMEDIC I/C|FIRE|$90456.00\n",
            "27275|SPALLIERO JR,  JOHN F|FIREFIGHTER/PARAMEDIC|FIRE|$93942.00\n",
            "27276|SPALLINA,  STEVEN J|LIEUTENANT-EMT|FIRE|$117078.00\n",
            "27277|SPANGELO,  ANTHONY J|FIREFIGHTER-EMT|FIRE|$85680.00\n",
            "27278|SPANGLER,  MICHAEL T|FOREMAN OF ELECTRICAL MECHANICS|GENERAL SERVICES|$97760.00\n",
            "27279|SPANOS,  CHRISTINE|POLICE OFFICER|POLICE|$86520.00\n",
            "27280|SPANOS,  NICHOLAS J|POLICE OFFICER (ASSIGNED AS DETECTIVE)|POLICE|$93648.00\n",
            "27281|SPARANO,  DOMINIC|CONCRETE LABORER|TRANSPORTN|$79040.00\n",
            "27282|SPARANO,  FREDERICK K|POLICE OFFICER|POLICE|$69684.00\n",
            "27283|SPARANO,  FREDERICK K|POLICE OFFICER (ASSIGNED AS DETECTIVE)|POLICE|$99888.00\n",
            "27284|SPARKS,  JOHNNY L|SANITATION LABORER|STREETS & SAN|$72384.00\n",
            "27285|SPARKS,  SHERELL D|SERGEANT|POLICE|$103590.00\n",
            "27286|SPARROW,  LAURA|COMMUNICABLE DISEASE CONTROL INVESTIGATOR II|HEALTH|$69888.00\n",
            "27287|SPATARO,  ALBERT F|FIREFIGHTER|FIRE|$80778.00\n",
            "27288|SPATARO,  BRIAN J|POLICE OFFICER|POLICE|$83616.00\n",
            "27289|SPAULDING,  EARLENE|POLICE OFFICER|POLICE|$89718.00\n",
            "27290|SPAW,  JOHN|SEWER BRICKLAYER|WATER MGMNT|$88566.40\n",
            "27291|SPEARMAN,  BERTHA M|COMMUNICABLE DISEASE CONTROL INVESTIGATOR II|HEALTH|$80328.00\n",
            "27292|SPEARMAN,  BRIAN|GENERAL LABORER - DSS|STREETS & SAN|$40560.00\n",
            "27293|SPEARMAN,  TAHANI L|POLICE OFFICER|POLICE|$83616.00\n",
            "27294|SPEAR,  RICHARD D|MACHINIST|WATER MGMNT|$92248.00\n",
            "27295|SPEARS,  CHARLES|POLICE OFFICER|POLICE|$65946.00\n",
            "27296|SPEARS,  CHRIS A|FIREFIGHTER-EMT|FIRE|$85680.00\n",
            "27297|SPEARS,  CORY R|FIREFIGHTER-EMT|FIRE|$85680.00\n",
            "27298|SPEARS,  JOHN L|DETENTION AIDE|POLICE|$55800.00\n",
            "27299|SPEARS JR,  WILLIE L|POLICE OFFICER|POLICE|$86520.00\n",
            "27300|SPEARS,  JUNE|POLICE OFFICER|POLICE|$92316.00\n",
            "27301|SPEARS,  MATTHEW|PERFORMANCE ANALYST|INSPECTOR GEN|$59436.00\n",
            "27302|SPEARS,  RANDALL J|POLICE OFFICER|POLICE|$89718.00\n",
            "27303|SPECHT,  MICHAEL R|POLICE OFFICER|POLICE|$86520.00\n",
            "27304|SPECIALE,  ANTHONY J|TRAFFIC CONTROL AIDE|OEMC|$61260.00\n",
            "27305|SPECIALE,  ROBERT M|PLUMBING INSPECTOR|BUILDINGS|$99252.00\n",
            "27306|SPECIALLE,  MARGARET A|CROSSING GUARD|POLICE|$21080.80\n",
            "27307|SPEDALE,  JOSEPH A|POLICE OFFICER|POLICE|$89718.00\n",
            "27308|SPEDALE,  MARK D|POLICE OFFICER|POLICE|$92316.00\n",
            "27309|SPEEDWELL,  DAVID S|FIREFIGHTER-EMT|FIRE|$88680.00\n",
            "27310|SPEIGHT,  SANDRA Y|ACCOUNTING TECHNICIAN II|GENERAL SERVICES|$73200.00\n",
            "27311|SPEIGHTS,  WILLIAM A|POLICE OFFICER|POLICE|$92316.00\n",
            "27312|SPEIGNER,  LYNDA|TRAFFIC CONTROL AIDE-HOURLY|OEMC|$19656.00\n",
            "27313|SPELLER,  JANEEA L|TRAFFIC CONTROL AIDE-HOURLY|OEMC|$19656.00\n",
            "27314|SPELLMAN,  JOHN F|SERGEANT|POLICE|$106920.00\n",
            "27315|SPELLMAN,  LEMUEL|POOL MOTOR TRUCK DRIVER|TRANSPORTN|$71780.80\n",
            "27316|SPELLMAN,  SONDRA R|WATCHMAN|GENERAL SERVICES|$43950.40\n",
            "27317|SPELLMAN,  YASHICA|CONCRETE LABORER|TRANSPORTN|$79040.00\n",
            "27318|SPENCE,  CHARLES|CHIEF PROGRAMMER/ANALYST|FINANCE|$105564.00\n",
            "27319|SPENCER,  ADAM D|POLICE OFFICER|POLICE|$83616.00\n",
            "27320|SPENCER,  CHONITA R|CONSTRUCTION LABORER|WATER MGMNT|$79040.00\n",
            "27321|SPENCER,  DARRELL F|SERGEANT|POLICE|$106920.00\n",
            "27322|SPENCER,  DONALD|POLICE OFFICER|POLICE|$46206.00\n",
            "27323|SPENCER,  EILEEN M|CROSSING GUARD|POLICE|$17492.80\n",
            "27324|SPENCER,  JOHN|SUPPORT SERVICES ASST|FAMILY & SUPPORT|$58020.00\n",
            "27325|SPENCER,  JORDAN|POLICE OFFICER|POLICE|$80778.00\n",
            "27326|SPENCER,  KEISHEYA M|POLICE COMMUNICATIONS OPERATOR I|OEMC|$46656.00\n",
            "27327|SPENCER,  MICHAEL A|CAPTAIN-EMT|FIRE|$127566.00\n",
            "27328|SPENCER,  NICK P|POLICE OFFICER/EXPLSV DETECT K9 HNDLR|POLICE|$94236.00\n",
            "27329|SPENCER,  PATRICIA A|SENIOR DATA ENTRY OPERATOR|POLICE|$58020.00\n",
            "27330|SPENCER,  QWON L|POLICE OFFICER|POLICE|$86520.00\n",
            "27331|SPENCER,  RENITA|PARKING ENFORCEMENT AIDE|FINANCE|$55800.00\n",
            "27332|SPENCER,  RONNIE R|PROPERTY CUSTODIAN - AUTO POUND|STREETS & SAN|$58020.00\n",
            "27333|SPENCER,  SMITH|ASST CORPORATION COUNSEL|LAW|$75312.00\n",
            "27334|SPENCER,  WILLIAM P|SHIFT SUPVSR OF AVIATION SECURITY|AVIATION|$63516.00\n",
            "27335|SPERINDEO,  PAT C|LIEUTENANT-EMT|FIRE|$117078.00\n",
            "27336|SPERRY,  HEIDI L|COORD OF SPECIAL PROJECTS|COMMUNITY DEVELOPMENT|$77280.00\n",
            "27337|SPIEGEL,  ROBERT L|POLICE OFFICER|POLICE|$80778.00\n",
            "27338|SPIELES,  KEITH|MOTOR TRUCK DRIVER|STREETS & SAN|$72862.40\n",
            "27339|SPIFF,  EUCHARIA I|SR PROGRAMMER/ANALYST PER AGRMNT|DoIT|$104736.00\n",
            "27340|SPIKENER,  ALVIN|POLICE OFFICER|POLICE|$89718.00\n",
            "27341|SPILLER,  FRED|SANITATION LABORER|STREETS & SAN|$72384.00\n",
            "27342|SPILOTRO,  JOHN W|MOTOR TRUCK DRIVER|AVIATION|$71780.80\n",
            "27343|SPINA,  DANIEL T|OPERATING ENGINEER-GROUP A|GENERAL SERVICES|$98675.20\n",
            "27344|SPINO,  JENNIFER|POLICE OFFICER|POLICE|$83616.00\n",
            "27345|SPIRES,  DEANNA J|ELECTION EQUIPMENT & SUPPLY SPEC III|BOARD OF ELECTION|$42456.00\n",
            "27346|SPIRES,  NIKKI V|PARKING ENFORCEMENT AIDE|FINANCE|$44244.00\n",
            "27347|SPIRES,  STACEY D|POLICE OFFICER|POLICE|$86520.00\n",
            "27348|SPIRES,  WAYNE E|LIEUTENANT|FIRE|$106920.00\n",
            "27349|SPISAK,  KEVIN E|POLICE OFFICER|POLICE|$80778.00\n",
            "27350|SPITALLI JR,  NICK A|MOTOR TRUCK DRIVER|STREETS & SAN|$71780.80\n",
            "27351|SPITTZZERI,  JOHN M|SUPVSR OF LOT CLEANING SERVICES|STREETS & SAN|$92304.00\n",
            "27352|SPIZZIRRI,  CHARLES|FIREFIGHTER|FIRE|$93594.00\n",
            "27353|SPIZZIRRI,  EDWARD A|POLICE OFFICER|POLICE|$89718.00\n",
            "27354|SPOON,  ROBERT D|PARAMEDIC|FIRE|$54114.00\n",
            "27355|SPOSATO,  LEONARD A|LIEUTENANT-EMT|FIRE|$117078.00\n",
            "27356|SPOSATO,  NICHOLAS S|ALDERMAN|CITY COUNCIL|$108085.92\n",
            "27357|SPOSATO,  STEPHEN M|LIBRARIAN IV|PUBLIC LIBRARY|$95880.00\n",
            "27358|SPRADLEY,  ERNEST R|SERGEANT|POLICE|$100440.00\n",
            "27359|SPRAGGINS,  DEBRA L|POLICE OFFICER|POLICE|$92316.00\n",
            "27360|SPRAGGINS,  ELMER|WARD SUPERINTENDENT|STREETS & SAN|$93024.00\n",
            "27361|SPRAGGINS,  KEITH M|SANITATION LABORER|STREETS & SAN|$72384.00\n",
            "27362|SPRAGGINS,  MICHELLE D|TIMEKEEPER - CPD|POLICE|$69888.00\n",
            "27363|SPRAGGINS,  PAMELA R|TIMEKEEPER - CPD|POLICE|$60780.00\n",
            "27364|SPRAGGINS,  ROBERT L|POOL MOTOR TRUCK DRIVER|TRANSPORTN|$17134.00\n",
            "27365|SPRALLS,  ESTER R|ADMINISTRATIVE ASST III|BUILDINGS|$80328.00\n",
            "27366|SPRANDEL JR,  LAWRENCE R|SERGEANT|POLICE|$103590.00\n",
            "27367|SPRANGLER,  BROOKS|CLERK III|POLICE|$55428.00\n",
            "27368|SPRATTE,  THOMAS|POLICE OFFICER|POLICE|$73296.00\n",
            "27369|SPREITZER,  STEVEN H|LIEUTENANT-EMT|FIRE|$106524.00\n",
            "27370|SPREMO,  STEVEN|POLICE OFFICER (ASSIGNED AS DETECTIVE)|POLICE|$90456.00\n",
            "27371|SPRENG,  BRIAN J|POLICE OFFICER|POLICE|$83616.00\n",
            "27372|SPRENG,  MICHAEL G|POLICE OFFICER|POLICE|$80778.00\n",
            "27373|SPREWER,  JEANETTE|POLICE OFFICER|POLICE|$89718.00\n",
            "27374|SPREYNE,  BRYAN A|SERGEANT|POLICE|$103590.00\n",
            "27375|SPREYNE,  DANIEL J|AVIATION SECURITY OFFICER|AVIATION|$46656.00\n",
            "27376|SPREYNE,  ROBERT M|AVIATION SECURITY OFFICER - HOURLY|AVIATION|$22120.80\n",
            "27377|SPRING,  JOHN E|POLICE OFFICER|POLICE|$83616.00\n",
            "27378|SPRINKLE,  ROSE|DEPUTY DIR|POLICE|$128016.00\n",
            "27379|SPRIUEL,  SHAWN|SANITATION LABORER|STREETS & SAN|$72384.00\n",
            "27380|SPRUIELL,  MARVIN K|CONSTRUCTION LABORER (SUB-FOREMAN)|WATER MGMNT|$80704.00\n",
            "27381|SPURGEON JR,  BENNY E|POLICE OFFICER|POLICE|$86520.00\n",
            "27382|SPURLIN,  KEITH L|DETENTION AIDE|POLICE|$67212.00\n",
            "27383|SPURLOCK,  CALVIN L|LABORER|TRANSPORTN|$79040.00\n",
            "27384|SPYER,  RALPH J|VENTILATION AND FURNACE INSPECTOR|BUILDINGS|$93288.00\n",
            "27385|SPYKER,  WILLIAM J|POLICE OFFICER|POLICE|$86520.00\n",
            "27386|SQUALLS,  KRISTNER G|MOTOR TRUCK DRIVER|STREETS & SAN|$71780.80\n",
            "27387|SQUARE,  FALEESA R|COMMUNITY ORGANIZER-CAPS|POLICE|$66684.00\n",
            "27388|SQUARE,  MICHAEL A|POLICE OFFICER|POLICE|$92316.00\n",
            "27389|SREBALOS,  KENNETH E|STATION LABORER|WATER MGMNT|$43386.36\n",
            "27390|SRISUTH,  BOONSERM|POLICE OFFICER|POLICE|$83616.00\n",
            "27391|SRIVER,  JEFFREY J|PROJECTS ADMINISTRATOR|TRANSPORTN|$112332.00\n",
            "27392|SRIVER,  NIKKI K|PR TELECOMMUNICATIONS SPECIALIST|DoIT|$96672.00\n",
            "27393|SROKA,  TRACEY A|POLICE OFFICER|POLICE|$80778.00\n",
            "27394|SROMEK,  GREGORY A|ELECTRICAL MECHANIC|AVIATION|$91520.00\n",
            "27395|STAATZ,  MEGAN E|FIRE COMMUNICATIONS OPERATOR I|OEMC|$49272.00\n",
            "27396|STABOLITO,  ALFONSO|CONCRETE LABORER|TRANSPORTN|$79040.00\n",
            "27397|STACEY,  KATIE|LAW CLERK|LAW|$25152.40\n",
            "27398|STACEY,  MICHAEL A|OPERATING ENGINEER-GROUP A|GENERAL SERVICES|$98675.20\n",
            "27399|STACHULA,  CHRISTOPHE D|SERGEANT|POLICE|$106920.00\n",
            "27400|STACHULA,  MICHAEL P|POLICE OFFICER|POLICE|$86520.00\n",
            "27401|STACHULA,  THOMAS J|POLICE OFFICER|POLICE|$92316.00\n",
            "27402|STACHURA,  EDWARD C|PARAMEDIC|FIRE|$83616.00\n",
            "27403|STACHURA,  MELISSA A|POLICE OFFICER|POLICE|$83616.00\n",
            "27404|STACHURA,  ROBERT W|SENIOR PROGRAMMER/ANALYST|BUDGET & MGMT|$72852.00\n",
            "27405|STACK,  BRIAN R|LIEUTENANT|FIRE|$103590.00\n",
            "27406|STACKER,  GEORGE|POLICE OFFICER|POLICE|$83616.00\n",
            "27407|STACKER,  GREGORY A|POLICE OFFICER|POLICE|$86520.00\n",
            "27408|STACK,  JAMES C|SANITATION LABORER|STREETS & SAN|$72384.00\n",
            "27409|STACK,  MICHAEL J|SERGEANT|POLICE|$106920.00\n",
            "27410|STACK,  RICHARD A|FIREFIGHTER-EMT|FIRE|$88680.00\n",
            "27411|STACK,  STEVEN T|LIEUTENANT-EMT|FIRE|$117078.00\n",
            "27412|STACK,  THOMAS P|SERGEANT|POLICE|$103590.00\n",
            "27413|STADLER,  TERENCE J|FIREFIGHTER-EMT|FIRE|$88680.00\n",
            "27414|STADNIK,  RICHARD J|SERGEANT|POLICE|$110370.00\n",
            "27415|STAEHLE,  PAUL C|AMBULANCE COMMANDER|FIRE|$123948.00\n",
            "27416|STAFEN,  KRISTEN H|AMBULANCE COMMANDER|FIRE|$113232.00\n",
            "27417|STAFFORD,  DAVID M|AUDITOR IV|FAMILY & SUPPORT|$114492.00\n",
            "27418|STAGEN,  JAMES F|POLICE OFFICER|POLICE|$86520.00\n",
            "27419|STAGGERS,  ALVIN|POLICE OFFICER|POLICE|$89718.00\n",
            "27420|STAGGERS,  ENID S|POLICE OFFICER|POLICE|$89718.00\n",
            "27421|STAGGERS,  ERNEST T|POLICE OFFICER|POLICE|$92316.00\n",
            "27422|STAGOWSKI,  JAMES|HOISTING ENGINEER|WATER MGMNT|$97968.00\n",
            "27423|STAGROWSKI,  JOHN|SANITATION LABORER|STREETS & SAN|$72384.00\n",
            "27424|STAHL,  JEFFREY J|POLICE OFFICER|POLICE|$86520.00\n",
            "27425|STAHL,  JOHN H|SERGEANT|POLICE|$106920.00\n",
            "27426|STAHMER,  WARREN L|CAPTAIN-EMT|FIRE|$131466.00\n",
            "27427|STAIB JR,  JOHN R|FIREFIGHTER|FIRE|$93594.00\n",
            "27428|STAINBROOK,  GERALD R|TRAFFIC CONTROL AIDE-HOURLY|OEMC|$19656.00\n",
            "27429|STAJURA,  WILLIAM G|FINANCE OFFICER|AVIATION|$83256.00\n",
            "27430|STAKEN,  MICHAEL|POLICE OFFICER|POLICE|$65946.00\n",
            "27431|STAKEN,  ROBERT W|POLICE OFFICER|POLICE|$80778.00\n",
            "27432|STALA,  ROBERT|CAPTAIN-EMT|FIRE|$131466.00\n",
            "27433|STALEY,  NICHOLAS S|LAW CLERK|LAW|$25152.40\n",
            "27434|STALLA,  BRIDGET C|CIVIL ENGINEER V|TRANSPORTN|$114492.00\n",
            "27435|STALLARD,  COLE G|DEPUTY COMMISSIONER|STREETS & SAN|$121644.00\n",
            "27436|STALLARD,  KATHLEEN|CROSSING GUARD|POLICE|$17492.80\n",
            "27437|STALLWORTH,  EDWINA|HOSPITALITY WORKER|FAMILY & SUPPORT|$9516.00\n",
            "27438|STALTER,  KEITH W|HOISTING ENGINEER - MECHANIC|GENERAL SERVICES|$104208.00\n",
            "27439|STALZER,  JOHN E|LIEUTENANT-EMT|FIRE|$117078.00\n",
            "27440|STAMPANATO,  DEBRA M|POOL MOTOR TRUCK DRIVER|TRANSPORTN|$71780.80\n",
            "27441|STAMPLEY,  ERIC E|POLICE OFFICER|POLICE|$89718.00\n",
            "27442|STAMPS,  BRUCE K|SERVICE WRITER|GENERAL SERVICES|$70560.00\n",
            "27443|STAMPS,  ELAYNA H|ASPHALT LABORER|TRANSPORTN|$79040.00\n",
            "27444|STAMPS,  GALE D|CROSSING GUARD|POLICE|$22131.20\n",
            "27445|STAMPS,  JOHNNY E|COORD OF MAINTENANCE REPAIRS|GENERAL SERVICES|$64152.00\n",
            "27446|STAMPS,  LAWRENCE J|POLICE OFFICER|POLICE|$89718.00\n",
            "27447|STAMPS WOODS,  DANA D|CHIEF PLANNING ANALYST|FAMILY & SUPPORT|$59436.00\n",
            "27448|STANCIL,  ELAIN|POLICE OFFICER|POLICE|$89718.00\n",
            "27449|STANCIN,  EDWARD R|POLICE OFFICER|POLICE|$80778.00\n",
            "27450|STANCZAK,  GARY|BLACKSMITH|GENERAL SERVICES|$90438.40\n",
            "27451|STANCZYK,  PAUL|POLICE OFFICER|POLICE|$46206.00\n",
            "27452|ST ANDREW,  JAMES C|POLICE OFFICER|POLICE|$86520.00\n",
            "27453|STANEK,  DANIEL W|POLICE OFFICER (ASSIGNED AS DETECTIVE)|POLICE|$93648.00\n",
            "27454|STANEK,  JEFFREY P|POLICE OFFICER|POLICE|$80778.00\n",
            "27455|STANFORD,  BRITTNEY|CLERK CITY COUNCIL|CITY COUNCIL|$21840.00\n",
            "27456|STANFORD,  EDWARD S|COMMUNITY ORGANIZER-CAPS|POLICE|$69888.00\n",
            "27457|STANFORD,  LINDA M|POLICE OFFICER|POLICE|$89718.00\n",
            "27458|STANFORD,  MILAN B|POLICE OFFICER|POLICE|$89718.00\n",
            "27459|STANG,  CHRISTOPHER|FOREMAN OF WATER PIPE CONSTRUCTION|WATER MGMNT|$101192.00\n",
            "27460|STANIEC,  JO  ANN|POLICE OFFICER|POLICE|$92316.00\n",
            "27461|STANIS,  ANDREW D|POOL MOTOR TRUCK DRIVER|STREETS & SAN|$71780.80\n",
            "27462|STANISLAWSKI,  JEROME L|FIREFIGHTER (PER ARBITRATORS AWARD)-PARAMEDIC|FIRE|$101688.00\n",
            "27463|STANISLAWSKI,  JOSEPH C|FIREFIGHTER-EMT|FIRE|$91764.00\n",
            "27464|STANKOWICZ,  IVAN S|ELECTRICAL MECHANIC (AUTOMOTIVE)|GENERAL SERVICES|$91520.00\n",
            "27465|STANKUS,  JEFFERY D|SERGEANT|POLICE|$103590.00\n",
            "27466|STANLEY,  ANGELA|ACCOUNTANT II|PUBLIC LIBRARY|$80424.00\n",
            "27467|STANLEY,  DEBORAH M|ASST SERGEANT AT ARMS|CITY COUNCIL|$70764.00\n",
            "27468|STANLEY,  JOHN J|POLICE OFFICER|POLICE|$83616.00\n",
            "27469|STANLEY,  JULIUS C|CAPTAIN-EMT|FIRE|$131466.00\n",
            "27470|STANLEY,  MARSHA A|LIBRARY PAGE|PUBLIC LIBRARY|$12407.20\n",
            "27471|STANLEY,  NED|MOTOR TRUCK DRIVER|WATER MGMNT|$71780.80\n",
            "27472|STANLEY,  TODD C|POLICE OFFICER|POLICE|$80778.00\n",
            "27473|STANTON,  KATHRYN|POLICE OFFICER|POLICE|$86520.00\n",
            "27474|STANTON,  PETER J|POLICE OFFICER|POLICE|$83616.00\n",
            "27475|STANTON,  REVA A|STAFF ASSISTANT - EXCLUDED|FAMILY & SUPPORT|$57648.00\n",
            "27476|STANTON,  SHARON|LIBRARY CLERK|PUBLIC LIBRARY|$48168.00\n",
            "27477|STANTON,  THOMAS J|LINEMAN|TRANSPORTN|$95888.00\n",
            "27478|STANTON,  WENDY|POLICE OFFICER|POLICE|$46206.00\n",
            "27479|STANUKINOS,  JOHN J|MOTOR TRUCK DRIVER|STREETS & SAN|$72862.40\n",
            "27480|STANULA,  JOSEPH A|POLICE OFFICER|POLICE|$80778.00\n",
            "27481|STANULA,  KEVIN A|POLICE OFFICER|POLICE|$83616.00\n",
            "27482|STAPKA,  THOMAS P|OPERATING ENGINEER-GROUP A|AVIATION|$98675.20\n",
            "27483|STAPLES,  COREY W|GENERAL LABORER - DSS|STREETS & SAN|$43201.60\n",
            "27484|STAPLES,  MELISSA A|COMMANDER|POLICE|$162684.00\n",
            "27485|STAPLES,  MELVIN D|SUPVSR OF PUBLIC VEHICLE INSPECTORS|BUSINESS AFFAIRS|$97596.00\n",
            "27486|STAPLETON,  DANIEL M|POLICE OFFICER|POLICE|$80778.00\n",
            "27487|STAPLETON,  DANIEL P|ALDERMANIC AIDE|CITY COUNCIL|$36498.00\n",
            "27488|STAPLETON,  KEVIN M|POLICE OFFICER|POLICE|$80778.00\n",
            "27489|STAPLETON,  PAMELA|FINGERPRINT TECHNICIAN I|POLICE|$55428.00\n",
            "27490|STAPLETON,  ROGER|FIREFIGHTER|FIRE|$86520.00\n",
            "27491|STAPLETON,  RYAN P|POLICE OFFICER|POLICE|$83616.00\n",
            "27492|STAPLETON,  SCOTT S|POLICE OFFICER|POLICE|$80778.00\n",
            "27493|STARCK,  ROBERT D|FIREFIGHTER|FIRE|$80778.00\n",
            "27494|STARK,  ADAM D|POLICE OFFICER|POLICE|$80778.00\n",
            "27495|STARK,  ALAN E|DEPUTY COMMISSIONER|WATER MGMNT|$126564.00\n",
            "27496|STARK,  CHRISTOPHER|FINANCIAL PLANNING ANALYST|COMMUNITY DEVELOPMENT|$79464.00\n",
            "27497|STARK,  CHRISTOPHER J|POLICE OFFICER|POLICE|$83616.00\n",
            "27498|STARK,  JAMES G|POLICE OFFICER (ASSIGNED AS DETECTIVE)|POLICE|$99888.00\n",
            "27499|STARKS,  ALVIN D|SERGEANT AT ARMS|CITY COUNCIL|$97020.00\n",
            "27500|STARKS,  ERNESTINE|SUPPORT SERVICES COORD|FAMILY & SUPPORT|$66684.00\n",
            "27501|STARKS,  JEROME B|POLICE OFFICER|POLICE|$80778.00\n",
            "27502|STARKS JR,  SYLVESTER|SANITATION LABORER|STREETS & SAN|$72384.00\n",
            "27503|STARKS,  LISA A|SERGEANT|POLICE|$106920.00\n",
            "27504|STARKS,  RONYA R|POLICE OFFICER|POLICE|$86520.00\n",
            "27505|STARKS,  TAMARA|ASST CORPORATION COUNSEL|LAW|$57192.00\n",
            "27506|STARK,  THOMAS M|LIBRARIAN IV|PUBLIC LIBRARY|$95880.00\n",
            "27507|STARLING,  LOLITA M|POLICE OFFICER / FLD TRNG OFFICER|POLICE|$87780.00\n",
            "27508|STARR,  ROBERT|ASPHALT LABORER|TRANSPORTN|$79040.00\n",
            "27509|STASCH,  ROBERT H|LIEUTENANT|POLICE|$123948.00\n",
            "27510|STASTNY,  THOMAS J|AIRPORT MANAGER - MIDWAY|AVIATION|$93024.00\n",
            "27511|STASZAK,  ROBERT A|CARPENTER|GENERAL SERVICES|$90168.00\n",
            "27512|STASZCUK,  ROWEINE Q|NURSE PRACTITIONER|HEALTH|$121320.00\n",
            "27513|STASZEL,  ANDREW|POLICE OFFICER|POLICE|$86520.00\n",
            "27514|STASZEWSKI,  BEATA|POLICE OFFICER|POLICE|$83616.00\n",
            "27515|STATHAS,  PETER T|MOTOR TRUCK DRIVER|WATER MGMNT|$71780.80\n",
            "27516|STATKIEWICZ,  PAWEL|POLICE OFFICER|POLICE|$46206.00\n",
            "27517|STAUDACHER,  DAVID|INFORMATION COORD|BUSINESS AFFAIRS|$63516.00\n",
            "27518|STAUDACHER,  PAUL C|POLICE OFFICER (ASSIGNED AS DETECTIVE)|POLICE|$93648.00\n",
            "27519|STAUFFER,  FRANCIE M|CROSSING GUARD|POLICE|$16692.00\n",
            "27520|STAUFFER,  MICHAEL F|FIREFIGHTER|FIRE|$86520.00\n",
            "27521|STAUFFER,  PATRICK J|LIEUTENANT-EMT|FIRE|$109872.00\n",
            "27522|STAUFFER,  PAUL C|BATTALION CHIEF - EMT|FIRE|$143682.00\n",
            "27523|STAUNTON,  JAMES M|DETENTION AIDE|POLICE|$73764.00\n",
            "27524|STAUNTON,  MARTIN G|POLICE OFFICER/EXPLSV DETECT K9 HNDLR|POLICE|$90846.00\n",
            "27525|STAUNTON,  PATRICK J|POLICE OFFICER|POLICE|$86520.00\n",
            "27526|STAWIARSKI,  KEVIN M|BATTALION CHIEF|FIRE|$135480.00\n",
            "27527|STAWICKI,  CHRISTOPHER|POLICE OFFICER|POLICE|$69684.00\n",
            "27528|STAZZONE,  JOSEPH A|FIREFIGHTER-EMT|FIRE|$85680.00\n",
            "27529|ST CLAIR II,  MICHAEL E|POLICE OFFICER|POLICE|$83616.00\n",
            "27530|STEADMAN,  GREGORY J|EXECUTIVE ASST|BUSINESS AFFAIRS|$124080.00\n",
            "27531|STECHER,  ROBERT C|MACHINIST (AUTOMOTIVE)|GENERAL SERVICES|$92248.00\n",
            "27532|STEC,  LAWRENCE J|SERGEANT|POLICE|$106920.00\n",
            "27533|STEC,  MICHAEL S|POLICE OFFICER|POLICE|$89718.00\n",
            "27534|STEC,  RYAN|POLICE OFFICER|POLICE|$46206.00\n",
            "27535|STEC,  WILLIAM W|POLICE OFFICER (ASSIGNED AS EVIDENCE TECHNICIAN)|POLICE|$97044.00\n",
            "27536|STEELE,  DORRIS|FOSTER GRANDPARENT|FAMILY & SUPPORT|$2756.00\n",
            "27537|STEELE,  GLORIA G|ADMINISTRATIVE ASST II|BUILDINGS|$58020.00\n",
            "27538|STEELE,  HERBERT P|ADMINISTRATIVE SERVICES OFFICER I|POLICE|$66684.00\n",
            "27539|STEELE,  KENNETH|POLICE OFFICER|POLICE|$80778.00\n",
            "27540|STEELE,  ROBERTA D|SERGEANT|POLICE|$106920.00\n",
            "27541|STEEL,  NANCY L|FOSTER GRANDPARENT|FAMILY & SUPPORT|$2756.00\n",
            "27542|STEEN,  DANIEL|POLICE OFFICER|POLICE|$92316.00\n",
            "27543|STEEVES,  NICOLE R|LIBRARIAN I|PUBLIC LIBRARY|$72840.00\n",
            "27544|STEFANEC,  JOSEPH|POLICE OFFICER|POLICE|$86520.00\n",
            "27545|STEFANIAK,  ELAINE A|CROSSING GUARD|POLICE|$17492.80\n",
            "27546|STEFANI,  MICHAEL A|FIELD SERVICE SPECIALIST II|TRANSPORTN|$77400.00\n",
            "27547|STEFFAN,  JACOB S|PARAMEDIC|FIRE|$54114.00\n",
            "27548|STEFFENS,  ROBERT F|FIREFIGHTER|FIRE|$86520.00\n",
            "27549|STEGALL,  KIM G|PROJECT MANAGER - DOIT|DoIT|$76980.00\n",
            "27550|STEGMILLER,  DAVID A|MOTOR TRUCK DRIVER|STREETS & SAN|$71780.80\n",
            "27551|STEGMILLER,  ROBERT J|POLICE OFFICER|POLICE|$86520.00\n",
            "27552|STEHLIK,  JOSEPH E|SERGEANT|POLICE|$110370.00\n",
            "27553|STEIBING JR,  WALTER H|SHIFT SUPVSR OF AIRPORT GROUND TRANSPORTATION|AVIATION|$64152.00\n",
            "27554|STEIGERWALD,  KURT J|STREET LIGHT REPAIR WORKER|TRANSPORTN|$95888.04\n",
            "27555|STEINBERG,  RYAN|STUDENT INTERN|FINANCE|$8840.00\n",
            "27556|STEINBRENNER,  RICHARD R|POLICE OFFICER / FLD TRNG OFFICER|POLICE|$84858.00\n",
            "27557|STEINBUCK,  CARY|PROJECT MANAGER|COMMUNITY DEVELOPMENT|$95028.00\n",
            "27558|STEINER,  GORDON|MARINE PILOT - FIRE BOAT|FIRE|$101526.12\n",
            "27559|STEINER,  WILLIAM H|AMBULANCE COMMANDER|FIRE|$123948.00\n",
            "27560|STEINLE,  DARRELL F|POLICE OFFICER|POLICE|$89718.00\n",
            "27561|STEINLE,  THOMAS C|POOL MOTOR TRUCK DRIVER|STREETS & SAN|$16151.20\n",
            "27562|STEINMETZ,  CHRISTOPHER J|LIEUTENANT|FIRE|$100440.00\n",
            "27563|STEINMETZ,  ERIK M|FIREFIGHTER/PARAMEDIC|FIRE|$87720.00\n",
            "27564|STEIN,  MICHAEL J|DIR OF ENVIRONMENTAL SERVICES|GENERAL SERVICES|$76512.00\n",
            "27565|STEIN-SPENCER,  LESLEE|DIR OF EMS COMPLIANCE|FIRE|$103740.00\n",
            "27566|STELLA,  NICHOLAS D|POLICE OFFICER|POLICE|$83616.00\n",
            "27567|STELLING,  BRIAN K|POLICE OFFICER|POLICE|$83616.00\n",
            "27568|STELLY,  JOHN M|FIREFIGHTER-EMT|FIRE|$91764.00\n",
            "27569|STELNICKI,  JOSEPH P|FIREFIGHTER|FIRE|$93594.00\n",
            "27570|STELNICKI,  PHILIP J|BATTALION CHIEF|FIRE|$135480.00\n",
            "27571|STENSLAND,  DAVID J|FIREFIGHTER|FIRE|$90018.00\n",
            "27572|STENSON,  CAROL|CLERK III|POLICE|$50496.00\n",
            "27573|STENSON,  DANIEL L|MOTOR TRUCK DRIVER|AVIATION|$71780.80\n",
            "27574|STENSON,  DAVID A|MOTOR TRUCK DRIVER|STREETS & SAN|$72862.40\n",
            "27575|STENSON,  JOSEPH|POLICE OFFICER|POLICE|$86520.00\n",
            "27576|STENSON,  KEVIN M|FIREFIGHTER/PARAMEDIC|FIRE|$87720.00\n",
            "27577|STENSON,  SOMALIA L|TRAFFIC CONTROL AIDE-HOURLY|OEMC|$19656.00\n",
            "27578|STENZEL,  CHRIS A|POLICE OFFICER|POLICE|$80778.00\n",
            "27579|STEPANEK,  DANIEL A|FRM OF MACHINISTS - AUTOMOTIVE|GENERAL SERVICES|$97448.00\n",
            "27580|STEPANEK,  GREGORY J|HOISTING ENGINEER|WATER MGMNT|$97968.00\n",
            "27581|STEPANEK,  ROBERT A|FIREFIGHTER|FIRE|$90018.00\n",
            "27582|STEPANEK,  STEVEN C|CONCRETE LABORER|TRANSPORTN|$79040.00\n",
            "27583|STEPANEK,  THOMAS J|FIRE ENGINEER-EMT|FIRE|$102930.00\n",
            "27584|STEPEK,  KAROLINA|POLICE OFFICER|POLICE|$46206.00\n",
            "27585|STEPHANS,  CLORY F|POLICE OFFICER|POLICE|$83616.00\n",
            "27586|STEPHANS,  KEVIN|POLICE OFFICER|POLICE|$83616.00\n",
            "27587|STEPHEN,  JAMIE T|POLICE OFFICER|POLICE|$83616.00\n",
            "27588|STEPHENS,  ALLISON J|POLICE OFFICER|POLICE|$80778.00\n",
            "27589|STEPHENS,  ANDRE L|PAINTER|AVIATION|$86840.00\n",
            "27590|STEPHENS,  ANDREW M|HOSPITALITY WORKER|FAMILY & SUPPORT|$9516.00\n",
            "27591|STEPHENS,  CLIFFORD M|LABORER|TRANSPORTN|$79040.00\n",
            "27592|STEPHENS,  CRAIG|POLICE OFFICER|POLICE|$92316.00\n",
            "27593|STEPHENS,  DERRICK O|POOL MOTOR TRUCK DRIVER|TRANSPORTN|$71780.80\n",
            "27594|STEPHENS,  GERALDINE M|FOSTER GRANDPARENT|FAMILY & SUPPORT|$2756.00\n",
            "27595|STEPHENS,  JAMES C|SANITATION LABORER|STREETS & SAN|$72384.00\n",
            "27596|STEPHENS,  JOHN B|TREE TRIMMER|STREETS & SAN|$74464.00\n",
            "27597|STEPHENS,  JONATHAN D|POLICE OFFICER|POLICE|$86520.00\n",
            "27598|STEPHENS,  LISA|FINANCIAL PLANNING ANALYST|COMMUNITY DEVELOPMENT|$79464.00\n",
            "27599|STEPHENS,  MARGARET L|HOSPITALITY WORKER|FAMILY & SUPPORT|$9516.00\n",
            "27600|STEPHENSON,  MICHAEL|CONSTRUCTION LABORER|WATER MGMNT|$79040.00\n",
            "27601|STEPHENS,  RICHARD|OPERATING ENGINEER-GROUP C|WATER MGMNT|$93745.60\n",
            "27602|STEPHENS,  ROBERT|HOISTING ENGINEER|TRANSPORTN|$85800.00\n",
            "27603|STEPHENS,  SHAUN M|AVIATION SECURITY OFFICER|AVIATION|$48924.00\n",
            "27604|STEPIEN,  JAMES R|LIEUTENANT-EMT|FIRE|$113400.00\n",
            "27605|STEPIEN,  THERESE M|CROSSING GUARD|POLICE|$18324.80\n",
            "27606|STEPNEY,  DAVID B|POLICE OFFICER|POLICE|$83616.00\n",
            "27607|STEPNEY,  LEE E|FOSTER GRANDPARENT|FAMILY & SUPPORT|$2756.00\n",
            "27608|STEPTER,  DEBORAH Y|ASPHALT LABORER|TRANSPORTN|$79040.00\n",
            "27609|STERBIS,  ADAM P|FIREFIGHTER/PARAMEDIC|FIRE|$87720.00\n",
            "27610|STERLING,  AARON M|FIREFIGHTER-EMT|FIRE|$88680.00\n",
            "27611|STERLING,  DARRYL|GENERAL LABORER - DSS|STREETS & SAN|$43201.60\n",
            "27612|STERLING III,  ODEL|POLLING PLACE INVESTIGATOR II|BOARD OF ELECTION|$50472.00\n",
            "27613|STERLING,  RENA|PAINTER|AVIATION|$92268.80\n",
            "27614|STERN,  BENJAMIN M|PARAMEDIC|FIRE|$54114.00\n",
            "27615|STERN,  DEBORAH A|CROSSING GUARD|POLICE|$20092.80\n",
            "27616|STERN,  STEPHAN M|CLAIMS INVESTIGATOR|LAW|$62340.00\n",
            "27617|STERRENBERG,  WILLIAM T|PARAMEDIC|FIRE|$54114.00\n",
            "27618|STEUER,  DAVID A|POOL MOTOR TRUCK DRIVER|STREETS & SAN|$16151.20\n",
            "27619|STEURER,  RON M|HOISTING ENGINEER - MECHANIC|GENERAL SERVICES|$104208.00\n",
            "27620|STEVENS,  BRIAN E|FIREFIGHTER-EMT|FIRE|$88680.00\n",
            "27621|STEVENS,  CHRISTINE M|TREE TRIMMER|STREETS & SAN|$74464.00\n",
            "27622|STEVENS,  DONIECE R|ASST DIR|FINANCE|$90252.00\n",
            "27623|STEVENS,  JILL M|SERGEANT|POLICE|$100440.00\n",
            "27624|STEVENS,  JOHN M|PARAMEDIC|FIRE|$54114.00\n",
            "27625|STEVENS,  KEVIN J|POLICE OFFICER|POLICE|$83616.00\n",
            "27626|STEVENS,  MATTHEW C|POLICE OFFICER|POLICE|$83616.00\n",
            "27627|STEVENS,  MATTHEW O|POLICE OFFICER|POLICE|$83616.00\n",
            "27628|STEVENS,  MICHAEL J|LIEUTENANT|POLICE|$123948.00\n",
            "27629|STEVENSON,  ELIZABETH C|HOSPITALITY WORKER|FAMILY & SUPPORT|$9516.00\n",
            "27630|STEVENSON,  GREGORY|OPERATING ENGINEER-GROUP A|WATER MGMNT|$98675.20\n",
            "27631|STEVENSON,  HENRY H|SENIOR COMPANION|FAMILY & SUPPORT|$2756.00\n",
            "27632|STEVENSON JR,  WALTER|FOREMAN OF WATER PIPE CONSTRUCTION|WATER MGMNT|$101192.00\n",
            "27633|STEVENSON,  MATTHEW|POLICE OFFICER|POLICE|$46206.00\n",
            "27634|STEVENSON,  ROBERT|AIRPORT MAINTENANCE FOREMAN|AVIATION|$69409.60\n",
            "27635|STEVENSON,  STACY T|PERSONAL COMPUTER OPERATOR III|PROCUREMENT|$60780.00\n",
            "27636|STEVENSON,  STANLEY|POOL MOTOR TRUCK DRIVER|AVIATION|$71780.80\n",
            "27637|STEVENSON,  TONY D|HOSPITALITY WORKER|FAMILY & SUPPORT|$9516.00\n",
            "27638|STEVENS,  PATRICIA J|POLICE OFFICER|POLICE|$80778.00\n",
            "27639|STEVENS,  PETER|POLICE OFFICER|POLICE|$83616.00\n",
            "27640|STEVENS,  RANDOLPH A|POLICE OFFICER|POLICE|$86520.00\n",
            "27641|STEVENS,  ROSALIND D|DIR OF ADMINISTRATION|BUDGET & MGMT|$111996.00\n",
            "27642|STEVENS,  RUSSELL C|FOREMAN OF ELECTRICAL MECHANICS|GENERAL SERVICES|$97760.00\n",
            "27643|STEVENS,  THOMAS M|MANAGER OF PARKING|FINANCE|$102708.00\n",
            "27644|STEVENS,  TIMOTHY N|ASST TO THE ALDERMAN|CITY COUNCIL|$70332.00\n",
            "27645|STEVENS,  TYRONE|SENIOR PUBLIC VEHICLE INSPECTOR|BUSINESS AFFAIRS|$84072.00\n",
            "27646|STEVERSON,  TAMISHA T|CROSSING GUARD - PER AGREEMENT|POLICE|$16484.00\n",
            "27647|STEVERSON,  TRACEY T|CUSTOMER ACCOUNT REPRESENTATIVE|DISABILITIES|$55428.00\n",
            "27648|STEWARD,  BRENDA M|LIBRARY CLERK|PUBLIC LIBRARY|$50496.00\n",
            "27649|STEWARD,  JAMES D|POOL MOTOR TRUCK DRIVER|STREETS & SAN|$71780.80\n",
            "27650|STEWARD,  JESSE R|POOL MOTOR TRUCK DRIVER|AVIATION|$71780.80\n",
            "27651|STEWARD,  LINDA D|CLERK III|POLICE|$55428.00\n",
            "27652|STEWARD,  ROBERT L|CLINICAL THERAPIST III|HEALTH|$79632.00\n",
            "27653|STEWART,  ANDREW P|SERGEANT|POLICE|$103590.00\n",
            "27654|STEWART,  ANNETTE|LIBRARY ASSOCIATE|PUBLIC LIBRARY|$66120.00\n",
            "27655|STEWART,  BARBARA|SENIOR COMPANION|FAMILY & SUPPORT|$2756.00\n",
            "27656|STEWART,  BRIDGETTE E|TRAFFIC CONTROL AIDE-HOURLY|OEMC|$19656.00\n",
            "27657|STEWART,  CARMEN|POLICE OFFICER|POLICE|$89718.00\n",
            "27658|STEWART,  CAROLYN A|SANITATION LABORER|STREETS & SAN|$72384.00\n",
            "27659|STEWART,  CAROLYN M|LIBRARIAN I|PUBLIC LIBRARY|$72840.00\n",
            "27660|STEWART,  CHAD K|POLICE OFFICER|POLICE|$69684.00\n",
            "27661|STEWART,  CHERYL L|DATA ENTRY OPERATOR|WATER MGMNT|$48168.00\n",
            "27662|STEWART,  DAMON M|POLICE OFFICER|POLICE|$86520.00\n",
            "27663|STEWART,  DENISE M|INTAKE AIDE|IPRA|$60780.00\n",
            "27664|STEWART,  DOROTHY L|SENIOR COMPANION|FAMILY & SUPPORT|$2756.00\n",
            "27665|STEWART,  ELAINE M|ADMINISTRATIVE ASST II|FINANCE|$63708.00\n",
            "27666|STEWART,  EMMANUEL T|TRAFFIC CONTROL AIDE-HOURLY|OEMC|$19656.00\n",
            "27667|STEWART,  GORDON T|FIREFIGHTER-EMT|FIRE|$85680.00\n",
            "27668|STEWART,  HOLLIS|LEGAL SECRETARY|LAW|$80328.00\n",
            "27669|STEWART III,  CHARLES|FIRST DEPUTY FIRE COMMISSIONER|FIRE|$197736.00\n",
            "27670|STEWART,  JAMES J|MOTOR TRUCK DRIVER|AVIATION|$71780.80\n",
            "27671|STEWART,  JAVADA L|TRAFFIC CONTROL AIDE-HOURLY|OEMC|$19656.00\n",
            "27672|STEWART,  JOHN M|POLICE OFFICER (ASSIGNED AS DETECTIVE)|POLICE|$97044.00\n",
            "27673|STEWART JR.,  GEORGE|TRAFFIC CONTROL AIDE-HOURLY|OEMC|$19656.00\n",
            "27674|STEWART JR,  JOHN|SR PROCUREMENT SPECIALIST|PROCUREMENT|$80916.00\n",
            "27675|STEWART,  KEITH L|POLICE OFFICER|POLICE|$89718.00\n",
            "27676|STEWART,  KENNETH|CONCRETE LABORER|TRANSPORTN|$79040.00\n",
            "27677|STEWART,  KIM|SUPERVISING PARALEGAL|LAW|$88812.00\n",
            "27678|STEWART,  KUSHINDA T|CONSTRUCTION LABORER|WATER MGMNT|$79040.00\n",
            "27679|STEWART,  LINNETTE|TRAFFIC CONTROL AIDE-HOURLY|OEMC|$19656.00\n",
            "27680|STEWART,  LYNN|PROGRAM AUDITOR III|COMMUNITY DEVELOPMENT|$96672.00\n",
            "27681|STEWART,  MARVIN E|SANITATION LABORER|STREETS & SAN|$72384.00\n",
            "27682|STEWART,  MARVIN H|LABORER|AVIATION|$67329.60\n",
            "27683|STEWART,  MICHAEL|FIREFIGHTER-EMT|FIRE|$88680.00\n",
            "27684|STEWART,  MONICA V|TRAFFIC ENFORCEMENT TECH|FINANCE|$31740.00\n",
            "27685|STEWART,  ORVILLE|CONSTRUCTION LABORER|WATER MGMNT|$79040.00\n",
            "27686|STEWART,  REGINA K|POLICE OFFICER|POLICE|$89718.00\n",
            "27687|STEWART,  REGINALD|COMMITTEE SECRETARY|CITY COUNCIL|$35112.00\n",
            "27688|STEWART,  ROBERT J|CONSTRUCTION LABORER|WATER MGMNT|$79040.00\n",
            "27689|STEWART,  RONALD A|COMMUNICATIONS OPERATIONS MANAGER|OEMC|$99108.00\n",
            "27690|STEWART,  STACY P|SR PROCUREMENT SPECIALIST|PROCUREMENT|$76512.00\n",
            "27691|STEWART,  STEVEN S|SENIOR DATA ENTRY OPERATOR|POLICE|$60780.00\n",
            "27692|STEWART,  TAMARA A|ASST CORPORATION COUNSEL|LAW|$66960.00\n",
            "27693|STEWART,  TOM E|AVIATION SECURITY OFFICER|AVIATION|$64188.00\n",
            "27694|STEWART,  TRAVELLE K|POLICE OFFICER|POLICE|$89718.00\n",
            "27695|STEWART,  TYRONE|LABORER|TRANSPORTN|$79040.00\n",
            "27696|STEWART,  VIRGINIA L|COORD OF GRANTS MANAGEMENT|TRANSPORTN|$88116.00\n",
            "27697|STEWART,  WANDA J|HOSPITALITY WORKER|FAMILY & SUPPORT|$9516.00\n",
            "27698|STIARWALT,  MEGAN|ASST CORPORATION COUNSEL|LAW|$57192.00\n",
            "27699|STIBICH,  TIM E|FIREFIGHTER-EMT|FIRE|$88680.00\n",
            "27700|STIEGLITZ,  DAVID C|FIREFIGHTER-EMT|FIRE|$85680.00\n",
            "27701|STIFF,  MARTHA M|PARKING ENFORCEMENT AIDE|FINANCE|$48540.00\n",
            "27702|STIFF,  ROSCO|POLICE OFFICER|POLICE|$86520.00\n",
            "27703|STIGGERS,  KEITH C|MOTOR TRUCK DRIVER|AVIATION|$71780.80\n",
            "27704|STIGGER,  VALARIE L|SANITATION CLERK|STREETS & SAN|$55968.00\n",
            "27705|STIGLER,  DEBRA L|POLICE OFFICER|POLICE|$89718.00\n",
            "27706|STIGLER,  LINDA M|TRAFFIC CONTROL AIDE|OEMC|$35328.00\n",
            "27707|STIGLER,  LISA M|TRAFFIC ENFORCEMENT TECH|FINANCE|$31740.00\n",
            "27708|STILES,  LAURENCE T|POLICE OFFICER|POLICE|$83616.00\n",
            "27709|STILL,  ERIK|PARKING ENFORCEMENT AIDE|FINANCE|$48540.00\n",
            "27710|STILLWELL,  THERESA|FOSTER GRANDPARENT|FAMILY & SUPPORT|$2756.00\n",
            "27711|STIMAC,  PAUL M|ELECTRICAL MECHANIC (AUTOMOTIVE)|GENERAL SERVICES|$91520.00\n",
            "27712|STINAR,  VINCENT R|POLICE OFFICER|POLICE|$83616.00\n",
            "27713|STINES,  JANETH C|PROGRAM COORD - SPECIAL EVENTS|CULTURAL AFFAIRS|$97416.00\n",
            "27714|STINITES,  ALEXANDER K|SERGEANT|POLICE|$106920.00\n",
            "27715|STINNETT,  GREGORY|AMBULANCE COMMANDER|FIRE|$123948.00\n",
            "27716|STINSON,  EDITH|STAFF ASST|FINANCE|$66684.00\n",
            "27717|STINSON,  GLORIA J|POLICE COMMUNICATIONS OPERATOR I|OEMC|$53628.00\n",
            "27718|STINSON,  JOSEPHINE S|POLICE OFFICER|POLICE|$86520.00\n",
            "27719|STINSON,  SAMANTHA A|ASST TO THE ALDERMAN|CITY COUNCIL|$59928.00\n",
            "27720|STIPANOV,  KRIS A|POLICE OFFICER|POLICE|$83616.00\n",
            "27721|STISCAK,  MICHAEL J|LIEUTENANT|POLICE|$120264.00\n",
            "27722|STIVERS,  SAMANTHA|ASST TO THE MAYOR|MAYOR'S OFFICE|$44004.00\n",
            "27723|STOCKDALE,  JAWAN A|TRAFFIC CONTROL AIDE-HOURLY|OEMC|$19656.00\n",
            "27724|STOCKDALE,  TITUS|PLUMBER|WATER MGMNT|$97032.00\n",
            "27725|STOCKOVER,  THOMAS|MACHINIST|TRANSPORTN|$92248.00\n",
            "27726|STODOLNY,  NICHOLAS|LINEMAN|TRANSPORTN|$95888.00\n",
            "27727|STOECK,  DAVID E|FIREFIGHTER-EMT|FIRE|$85680.00\n",
            "27728|STOFFREGEN,  GALE L|LIEUTENANT-EMT|FIRE|$117078.00\n",
            "27729|STOJACK,  KERRI J|STAFF ASST TO THE ALDERMAN|CITY COUNCIL|$40368.00\n",
            "27730|STOJACK,  MATTHEW J|POLICE OFFICER|POLICE|$86520.00\n",
            "27731|STOJAK,  EDWIN J|POLICE OFFICER|POLICE|$92316.00\n",
            "27732|STOKES,  ANTHONY|POLICE OFFICER|POLICE|$69684.00\n",
            "27733|STOKES,  ASTRID B|CUSTOMER ACCOUNT REPRESENTATIVE|WATER MGMNT|$66684.00\n",
            "27734|STOKES,  CAROLYN M|WATER CHEMIST II|WATER MGMNT|$80424.00\n",
            "27735|STOKES,  DAYNA M|DETENTION AIDE|POLICE|$44568.00\n",
            "27736|STOKES,  JOHN V|MOTOR TRUCK DRIVER|AVIATION|$71780.80\n",
            "27737|STOKES,  JONATHAN R|FIREFIGHTER-EMT|FIRE|$85680.00\n",
            "27738|STOKES JR,  TIMOTHY L|FIREFIGHTER/PARAMEDIC|FIRE|$87720.00\n",
            "27739|STOKES,  SELINA B|POLICE OFFICER|POLICE|$86520.00\n",
            "27740|STOKES,  TRACY S|CLERK IV|WATER MGMNT|$60780.00\n",
            "27741|STOKILO,  ANDREW J|POLICE OFFICER|POLICE|$89718.00\n",
            "27742|STOLFE,  ANTHONY E|FIRE ENGINEER-EMT|FIRE|$99324.00\n",
            "27743|STOLL,  JAMES M|LIEUTENANT-PARAMEDIC|FIRE|$116100.00\n",
            "27744|STOLL,  KEVIN M|POLICE OFFICER (ASSIGNED AS DETECTIVE)|POLICE|$93648.00\n",
            "27745|STONE,  DEAN A|LIEUTENANT|POLICE|$123948.00\n",
            "27746|STONE,  DELIAN M|FIELD VEHICLE INVESTIGATOR|STREETS & SAN|$52834.60\n",
            "27747|STONEHOUSE,  PATRICK|PROGRAM DIR|HEALTH|$63516.00\n",
            "27748|STONE JR,  FREDERICK J|MOTOR TRUCK DRIVER|AVIATION|$71780.80\n",
            "27749|STONE,  KATHERINE H|POLICE OFFICER|POLICE|$83616.00\n",
            "27750|STONE,  MARY C|PROJECTS ADMINISTRATOR|FINANCE|$92100.00\n",
            "27751|STONE,  MONIQUE L|CHIEF VOUCHER EXPEDITER|PUBLIC LIBRARY|$63276.00\n",
            "27752|STONE,  RAYMOND K|FIREFIGHTER-EMT|FIRE|$88680.00\n",
            "27753|STONE,  ROBERT J|ADMINISTRATIVE ASST II|WATER MGMNT|$66684.00\n",
            "27754|STONE,  TASHA Y|PUBLIC HEALTH NURSE II|HEALTH|$99708.00\n",
            "27755|STONE,  TRAVIS S|POLICE OFFICER|POLICE|$80778.00\n",
            "27756|STONE,  VIRGINIA L|FOSTER GRANDPARENT|FAMILY & SUPPORT|$2756.00\n",
            "27757|STONITSCH,  RUDY C|FIREFIGHTER-EMT|FIRE|$85680.00\n",
            "27758|STOPIERZYNSKI,  JOANNE|GENERAL LABORER - DSS|STREETS & SAN|$43201.60\n",
            "27759|STOPKA,  ROBERT A|FIREFIGHTER|FIRE|$83616.00\n",
            "27760|STOPPA,  KENNETH A|LIEUTENANT|POLICE|$120264.00\n",
            "27761|STOPPA,  SANDRA R|POLICE OFFICER|POLICE|$86520.00\n",
            "27762|STORCE,  ANGELA D|POLICE OFFICER|POLICE|$80778.00\n",
            "27763|STORCK,  STEPHEN R|POLICE OFFICER|POLICE|$86520.00\n",
            "27764|STOREY,  MILTON D|POLICE OFFICER (ASGND AS MARINE OFFICER)|POLICE|$97044.00\n",
            "27765|STOREY,  RICARDO T|POLICE OFFICER|POLICE|$86520.00\n",
            "27766|STOREY SR,  MICHAEL|SPECIALIST IN AGING II HOURLY|FAMILY & SUPPORT|$32312.80\n",
            "27767|STORINO,  FRANK L|ASPHALT FOREMAN|TRANSPORTN|$80912.00\n",
            "27768|STORINO,  JACK M|LABORER|TRANSPORTN|$79040.00\n",
            "27769|STORINO,  NICOLAS|FIREFIGHTER-EMT|FIRE|$85680.00\n",
            "27770|STORRIE,  BRIAN A|POLICE OFFICER|POLICE|$83616.00\n",
            "27771|STORR,  SCOTT W|POLICE OFFICER|POLICE|$83616.00\n",
            "27772|STORY,  DONALD E|POLICE OFFICER|POLICE|$83616.00\n",
            "27773|STORY,  IVAN B|PUBLIC HEALTH ADMINISTRATOR II|HEALTH|$76656.00\n",
            "27774|STOTTS,  TREVOR L|POLICE OFFICER|POLICE|$83616.00\n",
            "27775|STOUTENBOROUGH,  ANDREA G|COORD OF INVESTIGATIONS|IPRA|$120000.00\n",
            "27776|STOUT,  MARGARET M|AVIATION COMMUNICATIONS OPERATOR|OEMC|$64188.00\n",
            "27777|STOVALL,  GLENN A|AVIATION SECURITY OFFICER|AVIATION|$67212.00\n",
            "27778|STOVALL,  MARGARET J|POOL MOTOR TRUCK DRIVER|STREETS & SAN|$71780.80\n",
            "27779|STOVALL,  RAMONA Y|POLICE OFFICER|POLICE|$89718.00\n",
            "27780|STOVALL,  THOMAS|STAFF ASST TO THE ALDERMAN|CITY COUNCIL|$44544.00\n",
            "27781|STOVE,  FRANK J|REFUSE COLLECTION COORD|STREETS & SAN|$84888.00\n",
            "27782|STOVER,  DANNY R|POLICE OFFICER (ASSIGNED AS DETECTIVE)|POLICE|$97044.00\n",
            "27783|STOVER,  DENNIS|POLICE OFFICER|POLICE|$89718.00\n",
            "27784|STOVER,  ELIZABETH M|CHIEF PLANNING ANALYST|FAMILY & SUPPORT|$80256.00\n",
            "27785|STOVER,  OMAR D|POLICE OFFICER|POLICE|$80778.00\n",
            "27786|STOYAK,  BRIAN P|POLICE OFFICER|POLICE|$80778.00\n",
            "27787|STOYAK,  KEITH|POLICE OFFICER|POLICE|$69684.00\n",
            "27788|STOYAS,  ZULEMA|POOL MOTOR TRUCK DRIVER|STREETS & SAN|$71780.80\n",
            "27789|STOYIAS,  THOMAS S|POLICE OFFICER|POLICE|$83616.00\n",
            "27790|STRACHAN,  MICHAEL G|FIREFIGHTER|FIRE|$86520.00\n",
            "27791|STRAINIS,  MARK A|MOTOR TRUCK DRIVER|WATER MGMNT|$71780.80\n",
            "27792|STRAKA,  DOUGLAS|POLICE OFFICER|POLICE|$69684.00\n",
            "27793|STRAKA,  SCOTT M|POLICE OFFICER|POLICE|$89718.00\n",
            "27794|STRAKA,  SOPHIA M|POLICE OFFICER|POLICE|$86520.00\n",
            "27795|STRAND,  DONNA L|SERGEANT|POLICE|$110370.00\n",
            "27796|STRAND,  THOMAS|MOTOR TRUCK DRIVER|STREETS & SAN|$72862.40\n",
            "27797|STRANSKI,  GREGORY L|POLICE OFFICER|POLICE|$69684.00\n",
            "27798|STRANSKI,  LORI A|POLICE OFFICER|POLICE|$86520.00\n",
            "27799|STRANSKI,  THOMAS G|POLICE OFFICER|POLICE|$92316.00\n",
            "27800|STRATTON,  JAMES W|PAINTER|GENERAL SERVICES|$86840.00\n",
            "27801|STRATTON,  MELISSA H|DIR OF NEWS AFFAIRS|OEMC|$110004.00\n",
            "27802|STRAUGHTER,  SEBASTIAN|LIEUTENANT|FIRE|$110370.00\n",
            "27803|STRAUSS,  BRIAN J|FIREFIGHTER-EMT|FIRE|$99258.00\n",
            "27804|STRAUSS,  KIRK A|POLICE OFFICER|POLICE|$89718.00\n",
            "27805|STRAVIS,  SANDRA|LIBRARIAN II|PUBLIC LIBRARY|$80424.00\n",
            "27806|STRAWDER,  SHERNET|CROSSING GUARD - PER AGREEMENT|POLICE|$13790.40\n",
            "27807|STRAWDER,  TARRAANNA|CROSSING GUARD - PER AGREEMENT|POLICE|$13790.40\n",
            "27808|STRAWDER,  TYRONE|CONCRETE LABORER|TRANSPORTN|$55328.00\n",
            "27809|STRAZZABOSCO,  PETER L|DEPUTY COMMISSIONER|COMMUNITY DEVELOPMENT|$112332.00\n",
            "27810|STRAZZANTE,  ANTHONY R|POLICE OFFICER|POLICE|$83616.00\n",
            "27811|STRAZZANTE,  PHILIP M|POLICE OFFICER|POLICE|$80778.00\n",
            "27812|STREEPER,  JASON|POLICE OFFICER|POLICE|$73296.00\n",
            "27813|STREET,  JEREMY J|WATCHMAN|WATER MGMNT|$43950.40\n",
            "27814|STREET JR,  LARRY|SANITATION LABORER|STREETS & SAN|$72384.00\n",
            "27815|STREET,  SCOTT|HOISTING ENGINEER|WATER MGMNT|$97968.00\n",
            "27816|STREETS,  LUCILLE L|REFUSE COLLECTION COORD|STREETS & SAN|$84888.00\n",
            "27817|STREFF,  PETER C|FIREFIGHTER|FIRE|$83616.00\n",
            "27818|STREFF,  THOMAS S|POLICE OFFICER|POLICE|$80778.00\n",
            "27819|STREIT,  EDWARD J|ELECTRICAL MECHANIC|WATER MGMNT|$91520.00\n",
            "27820|STRELCZYK,  GREGORY A|POLICE OFFICER|POLICE|$86520.00\n",
            "27821|STRELCZYK,  PATRICK R|POLICE OFFICER|POLICE|$83616.00\n",
            "27822|STRELCZYK,  SHANNON M|FIREFIGHTER-EMT|FIRE|$85680.00\n",
            "27823|STREMPLEWSKI,  TODD|POLICE OFFICER|POLICE|$86520.00\n",
            "27824|STRIBLING,  PATRICIA|SERGEANT|POLICE|$106920.00\n",
            "27825|STRIBLING,  ROGER|MOTOR TRUCK DRIVER|WATER MGMNT|$71780.80\n",
            "27826|STRICKLAND,  BARBARA L|PERSONAL COMPUTER OPERATOR I|POLICE|$48168.00\n",
            "27827|STRICKLAND,  DEMEKA D|POLICE OFFICER|POLICE|$80778.00\n",
            "27828|STRICKLAND,  SAMUEL|LABORER - APPRENTICE|WATER MGMNT|$71136.00\n",
            "27829|STRICKLAND,  VAN|GENERAL LABORER - DSS|STREETS & SAN|$40560.00\n",
            "27830|STRICOFF,  BRIANNE|LAW CLERK|LAW|$25152.40\n",
            "27831|STRIEGEL,  DAVID J|POLICE OFFICER|POLICE|$86520.00\n",
            "27832|STRIMEL,  DANIEL A|ELECTRICAL MECHANIC|TRANSPORTN|$91520.00\n",
            "27833|STRIMEL,  JANET A|CROSSING GUARD|POLICE|$19188.00\n",
            "27834|STRIMEL,  MICHAEL J|FIRE ENGINEER-EMT|FIRE|$102930.00\n",
            "27835|STRITZEL,  JOSEPH L|POLICE OFFICER|POLICE|$69684.00\n",
            "27836|STROCCHIA,  JOHN|FIRE ENGINEER|FIRE|$99888.00\n",
            "27837|STROCCHIA,  JOSEPH|POLICE OFFICER|POLICE|$46206.00\n",
            "27838|STROCCHIA,  NICHOLAS M|FIREFIGHTER-EMT|FIRE|$85680.00\n",
            "27839|STROH,  MATTHEW J|LOAD DISPATCHER|TRANSPORTN|$95888.04\n",
            "27840|STROHMAYER JR,  MICHAEL|BATTALION CHIEF|FIRE|$135480.00\n",
            "27841|STROKA,  JEFFREY J|MOTOR TRUCK DRIVER|STREETS & SAN|$71780.80\n",
            "27842|STROMDAHL JR,  KENNETH|SCHEDULER|MAYOR'S OFFICE|$44004.00\n",
            "27843|STROMPOLIS,  JOHN E|TRAFFIC SIGNAL REPAIRMAN|TRANSPORTN|$95888.04\n",
            "27844|STRONG,  ALLISON R|SUPVSR OF ANIMAL CARE AIDES|ANIMAL CONTRL|$73200.00\n",
            "27845|STRONG,  BARBARA D|SANITATION LABORER|STREETS & SAN|$72384.00\n",
            "27846|STRONG,  CALVIN P|POLICE OFFICER|POLICE|$92316.00\n",
            "27847|STRONG,  CHARMAINE A|POLICE OFFICER|POLICE|$89718.00\n",
            "27848|STRONG,  CURTIS|SANITATION LABORER|STREETS & SAN|$72384.00\n",
            "27849|STRONG,  DERRICK|FIREFIGHTER-EMT|FIRE|$85680.00\n",
            "27850|STRONG,  DONALD M|MOTOR TRUCK DRIVER|STREETS & SAN|$71780.80\n",
            "27851|STRONG JR,  HARRY S|POLICE OFFICER (ASSIGNED AS DETECTIVE)|POLICE|$97044.00\n",
            "27852|STRONG,  QUENTIN D|FIREFIGHTER-EMT|FIRE|$85680.00\n",
            "27853|STRONG,  RACHEL E|MANAGER - AVIATION ID BADGING OPERATIONS|AVIATION|$59796.00\n",
            "27854|STRONG,  ROBERT K|POLICE OFFICER|POLICE|$80778.00\n",
            "27855|STRONG,  RYLENSKI R|FIREFIGHTER|FIRE|$83616.00\n",
            "27856|STRONG,  SAMMIE W|SHEET METAL WORKER|TRANSPORTN|$86382.40\n",
            "27857|STROUD,  DARIUS T|DETENTION AIDE|POLICE|$48924.00\n",
            "27858|STROUD JR,  JAMES E|WATER METER MACHINIST|WATER MGMNT|$80080.00\n",
            "27859|STROUD,  SHERRY G|LEASING AGENT II|GENERAL SERVICES|$80328.00\n",
            "27860|STROUSE,  KATHLEEN M|POLICE OFFICER|POLICE|$89718.00\n",
            "27861|STROZIER,  DARNEICE|ASPHALT LABORER|TRANSPORTN|$79040.00\n",
            "27862|STROZ,  NANCY C|CROSSING GUARD|POLICE|$18324.80\n",
            "27863|STRUBBE,  PAUL A|FIRE ENGINEER|FIRE|$99888.00\n",
            "27864|STRUCK,  JOSEPH A|POLICE OFFICER (ASSIGNED AS DETECTIVE)|POLICE|$99888.00\n",
            "27865|STRUKE,  MARK W|SERGEANT|POLICE|$103590.00\n",
            "27866|STRZALKA,  ANTHONY J|ELECTRICAL MECHANIC-AUTO-POLICE MTR MNT|GENERAL SERVICES|$91520.00\n",
            "27867|STRZALKA,  CHRISTOPHE R|POLICE OFFICER|POLICE|$89718.00\n",
            "27868|STRZALKA,  NOREEN B|POLICE OFFICER (ASSIGNED AS DETECTIVE)|POLICE|$97044.00\n",
            "27869|STRZECHOWSKI,  LAWRENCE J|SERGEANT|POLICE|$103590.00\n",
            "27870|STUART,  ROBERT J|ASST PROCUREMENT OFFICER|PROCUREMENT|$85020.00\n",
            "27871|STUART,  STEPHANIE L|LIEUTENANT|POLICE|$123948.00\n",
            "27872|STUBBLEFIELD,  KENNETH G|POLICE OFFICER|POLICE|$83616.00\n",
            "27873|STUBBS,  EDWARD E|LIEUTENANT|FIRE|$106920.00\n",
            "27874|STUBBS,  LARRY|POLICE OFFICER|POLICE|$92316.00\n",
            "27875|STUBBS,  PERNESSIA|POLICE OFFICER|POLICE|$86520.00\n",
            "27876|STUCK,  DANIEL F|POLICE OFFICER|POLICE|$86520.00\n",
            "27877|STUCKERT,  LAWRENCE O|POLICE OFFICER|POLICE|$83616.00\n",
            "27878|STUCKEY,  ANTOINNE D|POLICE OFFICER|POLICE|$80778.00\n",
            "27879|STUCKIE,  JO ANNE E|SENIOR DATA ENTRY OPERATOR|POLICE|$60780.00\n",
            "27880|STUCK,  ZENON J|CIVIL ENGINEER V|TRANSPORTN|$114492.00\n",
            "27881|STULTS,  STEPHEN M|ASST COMMISSIONER|GENERAL SERVICES|$90252.00\n",
            "27882|STURDIVANT,  EVA J|TITLE V PROGRAM TRAINEE I|FAMILY & SUPPORT|$8580.00\n",
            "27883|STURDIVANT,  JESSE J|FIREFIGHTER-EMT|FIRE|$88680.00\n",
            "27884|STURGILL,  RODNEY E|FIREFIGHTER|FIRE|$86520.00\n",
            "27885|STURM,  RONALD J|SEWER BRICKLAYER|WATER MGMNT|$88566.40\n",
            "27886|STURM,  RONNY|POLICE OFFICER|POLICE|$73296.00\n",
            "27887|STUTZ,  EDWARD P|LIEUTENANT|FIRE|$110370.00\n",
            "27888|STYCZYNSKI,  MARK|POLICE OFFICER|POLICE|$69684.00\n",
            "27889|STYRCZULA,  RICHARD|MACHINIST (AUTOMOTIVE)|GENERAL SERVICES|$92248.00\n",
            "27890|SUAREZ,  ANTONIO J|PARAMEDIC I/C|FIRE|$87534.00\n",
            "27891|SUAREZ DEL REAL,  UBALDO|LIEUTENANT-EMT|FIRE|$109872.00\n",
            "27892|SUAREZ,  ENRIQUE|MANAGER OF BUILDINGS SERVICES|GENERAL SERVICES|$84780.00\n",
            "27893|SUAREZ,  LAURA A|POLICE OFFICER (ASSIGNED AS DETECTIVE)|POLICE|$99888.00\n",
            "27894|SUAREZ,  NADIA|ADMINISTRATIVE ASST III|STREETS & SAN|$69888.00\n",
            "27895|SUAREZ,  RAYNALDO|BUILDING/CONSTRUCTION INSPECTOR|HEALTH|$97596.00\n",
            "27896|SUAREZ,  REGNER E|ALDERMAN|CITY COUNCIL|$114996.00\n",
            "27897|SUAREZ,  REYNALDO|SANITATION LABORER|STREETS & SAN|$72384.00\n",
            "27898|SUAREZ,  RICARDO B|POLICE OFFICER|POLICE|$89718.00\n",
            "27899|SUAREZ,  RICARDO J|CONSTRUCTION LABORER|WATER MGMNT|$79040.00\n",
            "27900|SUBER,  CHRISTOPHE P|SERGEANT|POLICE|$106920.00\n",
            "27901|SUBER,  DELPHENER D|CROSSING GUARD - PER AGREEMENT|POLICE|$16484.00\n",
            "27902|SUBIJANO,  RODERICK C|POLICE OFFICER|POLICE|$83616.00\n",
            "27903|SUCHECKI,  MICHAEL D|FIRE ENGINEER-EMT|FIRE|$99324.00\n",
            "27904|SUCHOCKI,  CARL M|POLICE OFFICER|POLICE|$86520.00\n",
            "27905|SUCHOR,  BERNARD M|BOOTER - PARKING|FINANCE|$64812.80\n",
            "27906|SUCILLA,  STEVEN L|GARAGE ATTENDANT|GENERAL SERVICES|$46592.00\n",
            "27907|SUDERSKI,  GARETT M|POLICE OFFICER (ASSIGNED AS DETECTIVE)|POLICE|$93648.00\n",
            "27908|SUEN,  KIMBALL|POLICE OFFICER|POLICE|$80778.00\n",
            "27909|SUERTH,  BRIAN Z|STREET LIGHT REPAIR WORKER|TRANSPORTN|$95888.04\n",
            "27910|SUERTH,  CHRISTOPHER N|POOL MOTOR TRUCK DRIVER|AVIATION|$71780.80\n",
            "27911|SUERTH,  CONRAD H|WARD SUPERINTENDENT|STREETS & SAN|$106884.00\n",
            "27912|SUERTH,  DANIEL A|POOL MOTOR TRUCK DRIVER|AVIATION|$71780.80\n",
            "27913|SUERTH,  STEPHEN J|HOISTING ENGINEER|WATER MGMNT|$97968.00\n",
            "27914|SUGAR,  ELVIS A|FIREFIGHTER-EMT|FIRE|$85680.00\n",
            "27915|SUGA,  SCOTT|POLICE OFFICER|POLICE|$46206.00\n",
            "27916|SUGGS,  AISHIA L|POLICE COMMUNICATIONS OPERATOR II|OEMC|$73764.00\n",
            "27917|SUGGS,  BYRON|PAYMENT SERVICES REPRESENTATIVE|FINANCE|$41532.00\n",
            "27918|SUGGS,  KE'ANNA D|SANITATION LABORER|STREETS & SAN|$72384.00\n",
            "27919|SUH,  HYO KYOUNG|LIBRARIAN I|PUBLIC LIBRARY|$65460.00\n",
            "27920|SUHL,  MATTHEW|ASST CORPORATION COUNSEL|LAW|$57192.00\n",
            "27921|SUING,  MICHAEL W|POLICE OFFICER|POLICE|$83616.00\n",
            "27922|SUIR,  LARRY|POLICE OFFICER|POLICE|$46206.00\n",
            "27923|SU,  JESUS F|SANITARIAN II|HEALTH|$69888.00\n",
            "27924|SUKALO,  BARBARA L|LEGISLATIVE AIDE|CITY COUNCIL|$41220.00\n",
            "27925|SUKALO,  GARY W|SEWER BRICKLAYER|WATER MGMNT|$88566.40\n",
            "27926|SUKALO,  TINA M|POLICE OFFICER|POLICE|$83616.00\n",
            "27927|SUKALO,  WAYNE G|FIREFIGHTER|FIRE|$86520.00\n",
            "27928|SULEIMAN,  ADNAN A|SR PROGRAMMER/ANALYST PER AGRMNT|DoIT|$104736.00\n",
            "27929|SULEIMAN,  MAHER I|POLICE OFFICER|POLICE|$89718.00\n",
            "27930|SULEWSKI,  PATRICIA M|STAFF ASST|COMMUNITY DEVELOPMENT|$66684.00\n",
            "27931|SULIC,  GERARDO|CONCRETE LABORER|TRANSPORTN|$79040.00\n",
            "27932|SULIGA,  PAUL G|DETENTION AIDE|POLICE|$48924.00\n",
            "27933|SULKES,  SHEILA A|PSYCHOLOGIST|HEALTH|$104736.00\n",
            "27934|SULLINS,  ALFRED L|FIREFIGHTER (PER ARBITRATORS AWARD)-PARAMEDIC|FIRE|$108462.00\n",
            "27935|SULLINS,  ANITA L|POLICE OFFICER|POLICE|$86520.00\n",
            "27936|SULLINS,  EDWARD J|SERGEANT|POLICE|$106920.00\n",
            "27937|SULLIVAN,  ABIGAIL A|ALDERMANIC AIDE|CITY COUNCIL|$24000.00\n",
            "27938|SULLIVAN,  ALLISON R|STAFF ASST|BUILDINGS|$66684.00\n",
            "27939|SULLIVAN,  BRIAN|POLICE OFFICER|POLICE|$65946.00\n",
            "27940|SULLIVAN,  BRIAN D|FIREFIGHTER|FIRE|$86520.00\n",
            "27941|SULLIVAN,  BRIAN M|POLICE OFFICER|POLICE|$80778.00\n",
            "27942|SULLIVAN,  BRIAN P|MOTOR TRUCK DRIVER|AVIATION|$71780.80\n",
            "27943|SULLIVAN,  CARMELLA A|CROSSING GUARD|POLICE|$22131.20\n",
            "27944|SULLIVAN,  CHERYL T|PUBLIC VEHICLE INSPECTOR|BUSINESS AFFAIRS|$73200.00\n",
            "27945|SULLIVAN,  COLIN|POLICE OFFICER|POLICE|$46206.00\n",
            "27946|SULLIVAN,  DANIEL J|LIEUTENANT-EMT|FIRE|$117078.00\n",
            "27947|SULLIVAN,  DANIEL J|HOISTING ENGINEER|WATER MGMNT|$97968.00\n",
            "27948|SULLIVAN,  DANIEL M|FIRE ENGINEER-EMT|FIRE|$105918.00\n",
            "27949|SULLIVAN,  DANIEL P|POLICE OFFICER|POLICE|$86520.00\n",
            "27950|SULLIVAN,  DANIEL W|ELECTRICAL MECHANIC|OEMC|$91520.00\n",
            "27951|SULLIVAN,  DEVIN P|FIREFIGHTER-EMT|FIRE|$85680.00\n",
            "27952|SULLIVAN,  ELIZABETH T|POLICE OFFICER|POLICE|$83616.00\n",
            "27953|SULLIVAN,  EVA D|FOSTER GRANDPARENT|FAMILY & SUPPORT|$2756.00\n",
            "27954|SULLIVAN,  IRVING O|REVENUE INVESTIGATOR I|BUSINESS AFFAIRS|$69888.00\n",
            "27955|SULLIVAN,  JAMAR L|LIEUTENANT|FIRE|$103590.00\n",
            "27956|SULLIVAN,  JAMES B|SR LABOR RELATIONS SPECIALIST|POLICE|$80256.00\n",
            "27957|SULLIVAN,  JAMES T|FIREFIGHTER-EMT|FIRE|$85680.00\n",
            "27958|SULLIVAN,  JOHN C|WATCHMAN|GENERAL SERVICES|$43950.40\n",
            "27959|SULLIVAN,  JOHN T|POLICE OFFICER|POLICE|$89718.00\n",
            "27960|SULLIVAN,  JOHN T|BRIDGE AND STRUCTURAL IRON WORKER|TRANSPORTN|$89440.00\n",
            "27961|SULLIVAN,  JOHN T|POLICE OFFICER|POLICE|$86520.00\n",
            "27962|SULLIVAN,  JOHN W|POLICE OFFICER|POLICE|$83616.00\n",
            "27963|SULLIVAN,  JOSEPH D|SERGEANT|POLICE|$103590.00\n",
            "27964|SULLIVAN JR,  CLIFFORD|FIREFIGHTER|FIRE|$86520.00\n",
            "27965|SULLIVAN JR.,  RICHARD J|MACHINIST (AUTOMOTIVE)|GENERAL SERVICES|$92248.00\n",
            "27966|SULLIVAN,  KAREN L|LIEUTENANT|POLICE|$123948.00\n",
            "27967|SULLIVAN,  LASHANDA L|ELDER PROTECTIVE INVESTIGATOR I|FAMILY & SUPPORT|$53796.00\n",
            "27968|SULLIVAN,  LATANYA R|CROSSING GUARD|POLICE|$18324.80\n",
            "27969|SULLIVAN,  LEE W|LIEUTENANT-EMT|FIRE|$109872.00\n",
            "27970|SULLIVAN,  MARIANNE T|STAFF ASST|STREETS & SAN|$66684.00\n",
            "27971|SULLIVAN,  MARK A|FIREFIGHTER|FIRE|$86520.00\n",
            "27972|SULLIVAN,  MARTIN M|SANITATION LABORER|STREETS & SAN|$72384.00\n",
            "27973|SULLIVAN,  MATTHEW D|LIEUTENANT-EMT|FIRE|$109872.00\n",
            "27974|SULLIVAN,  MICHAEL A|POLICE OFFICER|POLICE|$89718.00\n",
            "27975|SULLIVAN,  MICHAEL E|LABORER|TRANSPORTN|$79040.00\n",
            "27976|SULLIVAN,  MICHAEL P|FIREFIGHTER|FIRE|$86520.00\n",
            "27977|SULLIVAN,  MICHAEL R|POLICE OFFICER|POLICE|$86520.00\n",
            "27978|SULLIVAN,  MICHAEL T|BATTALION CHIEF - EMT|FIRE|$143682.00\n",
            "27979|SULLIVAN,  MICHAEL T|MANAGER OF FINANCE|STREETS & SAN|$110112.00\n",
            "27980|SULLIVAN,  PATRICIA L|POLICE OFFICER (ASSIGNED AS DETECTIVE)|POLICE|$97044.00\n",
            "27981|SULLIVAN,  PATRICK J|GENERAL SUPT OF STREETS AND SANITATION|TRANSPORTN|$104772.00\n",
            "27982|SULLIVAN,  PETER J|OPERATING ENGINEER-GROUP A|WATER MGMNT|$98675.20\n",
            "27983|SULLIVAN,  RAYMOND J|POLICE OFFICER|POLICE|$92316.00\n",
            "27984|SULLIVAN,  RICHARD J|POLICE OFFICER (ASSIGNED AS DETECTIVE)|POLICE|$97044.00\n",
            "27985|SULLIVAN,  TERRENCE P|PARAMEDIC|FIRE|$93594.00\n",
            "27986|SULLIVAN,  THEODORE R|FIRE ENGINEER|FIRE|$93648.00\n",
            "27987|SULLIVAN,  WILLIAM K|POLICE OFFICER (ASSIGNED AS DETECTIVE)|POLICE|$97044.00\n",
            "27988|SULSKI,  MARK E|ASST CHIEF OPERATING ENGINEER|GENERAL SERVICES|$108534.40\n",
            "27989|SULTANA,  AISHA|POLICE OFFICER|POLICE|$86520.00\n",
            "27990|SUMAGAYSAY JR,  JOSE S|SENIOR COMPANION|FAMILY & SUPPORT|$2756.00\n",
            "27991|SUMITA,  JAMES T|POLICE OFFICER|POLICE|$92316.00\n",
            "27992|SUMLER,  PENNY|SR LEGAL PERSONAL COMPUTER OPERATOR|LAW|$66684.00\n",
            "27993|SUMMERRISE,  LEONARD|FIREFIGHTER-EMT|FIRE|$91764.00\n",
            "27994|SUMMERS,  JOSEPH M|PARAMEDIC I/C|FIRE|$90456.00\n",
            "27995|SUMMERS JR,  GEROME|POLICE OFFICER|POLICE|$86520.00\n",
            "27996|SUMMERS JR,  KURT A|CITY TREASURER|TREASURER|$133545.00\n",
            "27997|SUMMERS,  RUSSEL J|ASST COMPTROLLER|FINANCE|$99696.00\n",
            "27998|SUMMERVILLE,  MARTIN T|POLICE OFFICER|POLICE|$92316.00\n",
            "27999|SUMNER,  BRIAN N|OPERATING ENGINEER-GROUP A|WATER MGMNT|$98675.20\n",
            "28000|SUMNER,  WILLIAM|LIBRARIAN I|PUBLIC LIBRARY|$72840.00\n",
            "28001|SUMPTER,  AYANNA C|STAFF ASST TO THE ALDERMAN|CITY COUNCIL|$30000.00\n",
            "28002|SUMRALL,  RAEQUANA A|BENEFITS CLAIMS SUPVSR|FINANCE|$87600.00\n",
            "28003|SUMTER,  TERRY L|POLICE OFFICER|POLICE|$89718.00\n",
            "28004|SUN,  GUOHE|PRINCIPAL DATA BASE ANALYST|DoIT|$99108.00\n",
            "28005|SUN,  JUN L|POLICE OFFICER|POLICE|$83616.00\n",
            "28006|SUN,  SHANI K|POLICE OFFICER|POLICE|$92316.00\n",
            "28007|SUN,  YI K|ASST CORPORATION COUNSEL|LAW|$66960.00\n",
            "28008|SUPA,  ELIZABETH|REPROGRAPHICS TECHNICIAN III|GENERAL SERVICES|$41220.00\n",
            "28009|SUPERFINE,  RICHARD J|LEGAL COUNSEL - BOARD OF ETHICS|BOARD OF ETHICS|$84780.00\n",
            "28010|SURACE,  FRANK V|MACHINIST|AVIATION|$92248.00\n",
            "28011|SURCO ANDRES,  ANTONIO|COMMUNICABLE DISEASE CONTROL INVESTIGATOR II|HEALTH|$69888.00\n",
            "28012|SURDYK,  DANIEL J|POOL MOTOR TRUCK DRIVER|AVIATION|$71780.80\n",
            "28013|SURGAL,  JOSHUA D|POLICE OFFICER|POLICE|$83616.00\n",
            "28014|SURGIT,  CELAL C|POLICE OFFICER|POLICE|$80778.00\n",
            "28015|SURMA,  THOMAS A|POLICE OFFICER|POLICE|$86520.00\n",
            "28016|SURVILLION,  ALLEN F|POLICE OFFICER|POLICE|$83616.00\n",
            "28017|SURVILLION O NEAL,  CHARLA E|FIREFIGHTER-EMT|FIRE|$85680.00\n",
            "28018|SUSA,  TINA|POLICE OFFICER|POLICE|$83616.00\n",
            "28019|SUSINA,  ASHLEY L|LIBRARIAN I|PUBLIC LIBRARY|$62280.00\n",
            "28020|SUSNIS,  ANTHONY A|POLICE OFFICER|POLICE|$92316.00\n",
            "28021|SUSNIS,  MARGARET A|POLICE OFFICER|POLICE|$89718.00\n",
            "28022|SUSNIS,  MAUREEN K|SERGEANT|POLICE|$106920.00\n",
            "28023|SUSNIS,  SHAUN|POLICE OFFICER|POLICE|$46206.00\n",
            "28024|SUSNIS,  TROY A|POLICE OFFICER|POLICE|$86520.00\n",
            "28025|SUS,  SEAN M|POLICE OFFICER|POLICE|$80778.00\n",
            "28026|SUSTR,  JAMES F|FIREFIGHTER-EMT|FIRE|$91764.00\n",
            "28027|SUTCLIFFE,  SCOTT J|PAINTER|AVIATION|$86840.00\n",
            "28028|SUTHAR,  HARDIK B|POLICE OFFICER|POLICE|$80778.00\n",
            "28029|SUTHERLAND,  ERIC D|PARAMEDIC|FIRE|$80778.00\n",
            "28030|SUTHERLAND,  RUSSELL L|POLICE OFFICER (ASSIGNED AS DETECTIVE)|POLICE|$97044.00\n",
            "28031|SUTHERLAND,  SABRINA R|ACCOUNTANT IV|FINANCE|$95880.00\n",
            "28032|SUTHERLIN-THAMES,  ANDREA D|FIREFIGHTER-EMT|FIRE|$85680.00\n",
            "28033|SUTIC,  NATALIJA|LAW CLERK|LAW|$25152.40\n",
            "28034|SUTKUS,  THOMAS F|BATTALION CHIEF - EMT|FIRE|$143682.00\n",
            "28035|SUTOR,  MICHAEL|ASPHALT FOREMAN|TRANSPORTN|$80912.00\n",
            "28036|SUTTER,  JEFFREY W|PARAMEDIC I/C|FIRE|$87534.00\n",
            "28037|SUTTER,  KIM M|POLICE OFFICER|POLICE|$86520.00\n",
            "28038|SUTTON,  BERNARD M|FIREFIGHTER-EMT|FIRE|$88680.00\n",
            "28039|SUTTON,  CASSANDRA|CROSSING GUARD|POLICE|$22131.20\n",
            "28040|SUTTON,  DANA J|POLICE OFFICER|POLICE|$89718.00\n",
            "28041|SUTTON,  ERMA|POOL MOTOR TRUCK DRIVER|AVIATION|$71780.80\n",
            "28042|SUTTON,  FRANK|SANITATION LABORER|STREETS & SAN|$72384.00\n",
            "28043|SUTTON,  JAMES A|AVIATION SECURITY OFFICER|AVIATION|$64188.00\n",
            "28044|SUTTON,  JERLENE T|SANITATION LABORER|STREETS & SAN|$72384.00\n",
            "28045|SUTTON,  MICHAEL A|POOL MOTOR TRUCK DRIVER|STREETS & SAN|$64604.80\n",
            "28046|SUTTON,  PAMELA L|POLICE OFFICER|POLICE|$89718.00\n",
            "28047|SUTTON,  ROMAS P|FIREFIGHTER-EMT (RECRUIT)|FIRE|$54114.00\n",
            "28048|SUTTON,  RONALD D|OPERATING ENGINEER-GROUP A|GENERAL SERVICES|$98675.20\n",
            "28049|SUTTON,  ROSILYNN A|POLICE OFFICER / FLD TRNG OFFICER|POLICE|$94236.00\n",
            "28050|SUVADA,  STEVEN E|POLICE OFFICER (ASSIGNED AS DETECTIVE)|POLICE|$99888.00\n",
            "28051|SVACHULA,  CHRISTOPHE A|SERGEANT|POLICE|$103590.00\n",
            "28052|SVEC,  BETH A|POLICE OFFICER (ASSIGNED AS DETECTIVE)|POLICE|$93648.00\n",
            "28053|SVEC,  JAMES H|CONSTRUCTION LABORER|WATER MGMNT|$79040.00\n",
            "28054|SVEC,  JAMES R|POLICE OFFICER|POLICE|$83616.00\n",
            "28055|SVIENTEK,  KENNETH|POLICE OFFICER|POLICE|$69684.00\n",
            "28056|SVIENTEK,  MICHAEL A|MOTOR TRUCK DRIVER|STREETS & SAN|$71780.80\n",
            "28057|SVIENTY,  JOHN A|POLICE OFFICER|POLICE|$83616.00\n",
            "28058|SVIHULA,  LISA A|POLICE OFFICER|POLICE|$86520.00\n",
            "28059|SVILAR,  WILLIAM|SERGEANT|POLICE|$106920.00\n",
            "28060|SVOBODA  II,  ROGER A|POOL MOTOR TRUCK DRIVER|STREETS & SAN|$17945.20\n",
            "28061|SWABB,  TIMOTHY L|ASST CORPORATION COUNSEL|LAW|$98712.00\n",
            "28062|SWAGLER,  JEFF M|PARAMEDIC|FIRE|$86520.00\n",
            "28063|SWAIN,  DELOIS V|CROSSING GUARD|POLICE|$22131.20\n",
            "28064|SWAIN,  MATTHEW W|SERGEANT|POLICE|$106920.00\n",
            "28065|SWAIN,  MELTONIA S|TRAFFIC CONTROL AIDE-HOURLY|OEMC|$19656.00\n",
            "28066|SWAIN,  STEVEN P|POLICE OFFICER (ASSIGNED AS EVIDENCE TECHNICIAN)|POLICE|$90846.00\n",
            "28067|SWANAGAN,  YOULANDA|CONSTRUCTION LABORER|WATER MGMNT|$79040.00\n",
            "28068|SWANIGAN,  DENISE C|ADMINISTRATIVE ASST III|WATER MGMNT|$80328.00\n",
            "28069|SWANIGAN JR,  ELGIN|GENERAL FOREMAN OF GENERAL TRADES|GENERAL SERVICES|$109928.04\n",
            "28070|SWANIGAN,  LENORA|FOSTER GRANDPARENT|FAMILY & SUPPORT|$2756.00\n",
            "28071|SWAN JR,  THOMAS J|REFUSE COLLECTION COORD|STREETS & SAN|$84888.00\n",
            "28072|SWANK,  JOSEPH P|LABORER|TRANSPORTN|$55328.00\n",
            "28073|SWAN,  LORNA E|EXEC ADMINISTRATIVE ASST I|LAW|$70380.00\n",
            "28074|SWANN,  PAMELA B|ACCOUNTING TECHNICIAN II|AVIATION|$63708.00\n",
            "28075|SWAN,  PATRICK|HOISTING ENGINEER|TRANSPORTN|$97968.00\n",
            "28076|SWANSON,  ANDRE T|MOTOR TRUCK DRIVER|STREETS & SAN|$71780.80\n",
            "28077|SWANSON,  CYNTHIA|SENIOR DATA ENTRY OPERATOR|POLICE|$58020.00\n",
            "28078|SWANSON,  CYNTHIA J|POLICE OFFICER|POLICE|$92316.00\n",
            "28079|SWANSON,  FREDA|SENIOR DATA ENTRY OPERATOR|POLICE|$58020.00\n",
            "28080|SWANSON,  GREGORY A|LIEUTENANT-PARAMEDIC|FIRE|$112476.00\n",
            "28081|SWANSON,  HERBERT R|AVIATION COMMUNICATIONS OPERATOR|OEMC|$67212.00\n",
            "28082|SWANSON,  JOHN D|POLICE OFFICER|POLICE|$89718.00\n",
            "28083|SWANSON,  LEON E|CONCRETE LABORER|TRANSPORTN|$79040.00\n",
            "28084|SWANSON,  MICHAEL A|POLICE OFFICER|POLICE|$86520.00\n",
            "28085|SWANSON NYSTROM,  HELENA|ASST ADMINISTRATIVE SECRETARY I|MAYOR'S OFFICE|$44004.00\n",
            "28086|SWANSON,  STEVEN R|DIRECTOR OF FINANCE|FIRE|$113448.00\n",
            "28087|SWANTEK,  NATHANIEL|POLICE OFFICER|POLICE|$46206.00\n",
            "28088|SWARBRICK,  JOHN R|POLICE OFFICER|POLICE|$83616.00\n",
            "28089|SWARTZ,  ADAM H|PARAMEDIC I/C|FIRE|$87534.00\n",
            "28090|SWAYZE,  KENNETH|MOTOR TRUCK DRIVER|STREETS & SAN|$71780.80\n",
            "28091|SWAYZER,  TIMOTHY|POLICE OFFICER|POLICE|$86520.00\n",
            "28092|SWEENEY,  ADAM C|POLICE OFFICER|POLICE|$80778.00\n",
            "28093|SWEENEY,  ALLISON|POLICE OFFICER|POLICE|$46206.00\n",
            "28094|SWEENEY,  BRIAN T|SERGEANT|POLICE|$106920.00\n",
            "28095|SWEENEY,  GREGORY K|POLICE OFFICER|POLICE|$83616.00\n",
            "28096|SWEENEY,  KEVIN|POOL MOTOR TRUCK DRIVER|STREETS & SAN|$71780.80\n",
            "28097|SWEENEY,  MICHAEL T|FIRE ENGINEER|FIRE|$90456.00\n",
            "28098|SWEENEY,  NANCY S|SERGEANT|POLICE|$103590.00\n",
            "28099|SWEENEY,  PATRICK J|CAPTAIN-EMT|FIRE|$131466.00\n",
            "28100|SWEENEY,  THOMAS|BATTALION CHIEF - EMT|FIRE|$143682.00\n",
            "28101|SWEENEY,  THOMAS B|POLICE OFFICER|POLICE|$80778.00\n",
            "28102|SWEENEY,  THOMAS F|FIREFIGHTER|FIRE|$65946.00\n",
            "28103|SWEENEY,  WILLIAM E|POLICE OFFICER|POLICE|$86520.00\n",
            "28104|SWEEZER,  DIONDRE|POLICE OFFICER|POLICE|$65946.00\n",
            "28105|SWEEZY,  EDWARD J|HOISTING ENGINEER|WATER MGMNT|$97968.00\n",
            "28106|SWEEZY,  FREDRICK T|HOISTING ENGINEER|WATER MGMNT|$97968.00\n",
            "28107|SWEEZY,  MICHAEL|HOISTING ENGINEER|WATER MGMNT|$97968.00\n",
            "28108|SWEIS,  HAZEM|POLICE OFFICER|POLICE|$69684.00\n",
            "28109|SWEISS,  SHADI|POLICE OFFICER|POLICE|$69684.00\n",
            "28110|SWENSON,  CLAYTON|HOISTING ENGINEER|TRANSPORTN|$95264.00\n",
            "28111|SWENSON,  HANNAH|POLICE OFFICER|POLICE|$46206.00\n",
            "28112|SWIATKOWSKI,  MYRIAN M|POLICE OFFICER|POLICE|$83616.00\n",
            "28113|SWICK,  MICHELLE|OPERATING ENGINEER-GROUP A|WATER MGMNT|$98675.20\n",
            "28114|SWIDEREK,  GREGORY A|POLICE OFFICER (ASSIGNED AS DETECTIVE)|POLICE|$99888.00\n",
            "28115|SWIECH,  ROBERT F|MOTOR TRUCK DRIVER|WATER MGMNT|$71780.80\n",
            "28116|SWIETCZAK,  JOHN E|PLUMBING INSPECTOR|WATER MGMNT|$99252.00\n",
            "28117|SWIFT,  DANIEL J|LIEUTENANT-EMT|FIRE|$109872.00\n",
            "28118|SWIFT,  GLENN J|FOREMAN OF MOTOR TRUCK DRIVERS|STREETS & SAN|$75732.80\n",
            "28119|SWIFT JR,  CHARLES|FIREFIGHTER|FIRE|$93594.00\n",
            "28120|SWIFT,  RENEE|SANITATION LABORER|STREETS & SAN|$72384.00\n",
            "28121|SWIMS,  THELMA|CLERK III|POLICE|$45972.00\n",
            "28122|SWINKLE,  GERALD J|POLICE OFFICER (ASSIGNED AS DETECTIVE)|POLICE|$93648.00\n",
            "28123|SWINT,  ALLAN R|COMMUNICABLE DISEASE CONTROL INVESTIGATOR II|HEALTH|$69888.00\n",
            "28124|SWINT,  JACQUELINE|CLERK III|WATER MGMNT|$55428.00\n",
            "28125|SWISTOWICZ,  CRAIG H|POLICE OFFICER|POLICE|$86520.00\n",
            "28126|SWITALLA,  DANIEL A|FIREFIGHTER-EMT (RECRUIT)|FIRE|$54114.00\n",
            "28127|SWITALLA,  STEVEN F|POLICE OFFICER|POLICE|$89718.00\n",
            "28128|SWITALSKI,  DANIEL L|POLICE OFFICER (ASSIGNED AS DETECTIVE)|POLICE|$97044.00\n",
            "28129|SWOBODA,  JANET L|POLICE OFFICER|POLICE|$86520.00\n",
            "28130|SYAS,  VERLISHER H|POLICE OFFICER|POLICE|$86520.00\n",
            "28131|SYDEL,  BARBARA A|POLICE OFFICER|POLICE|$89718.00\n",
            "28132|SYDNEY FRENCH,  HAYDEN J|FIREFIGHTER-EMT|FIRE|$85680.00\n",
            "28133|SYDNOR,  SHELA M|HR GENERALIST - DHR|HUMAN RESOURCES|$63480.00\n",
            "28134|SY,  EVELYN|DIR OF ACCOUNTING|WATER MGMNT|$105564.00\n",
            "28135|SYKES,  CHARLES P|POLICE OFFICER|POLICE|$80778.00\n",
            "28136|SYKES,  DEMOND J|POLICE OFFICER|POLICE|$80778.00\n",
            "28137|SYKES,  ELTON M|CONSTRUCTION LABORER|WATER MGMNT|$79040.00\n",
            "28138|SYLVESTER,  ROBERT|POLICE OFFICER|POLICE|$69684.00\n",
            "28139|SYLVESTRE,  VALERIE|POLICE OFFICER|POLICE|$65946.00\n",
            "28140|SYMANSKI,  SUSAN C|POLICE OFFICER (ASSIGNED AS TRAFFIC SPECIALIST)|POLICE|$94236.00\n",
            "28141|SYRING,  JAMES M|FIREFIGHTER-EMT|FIRE|$88680.00\n",
            "28142|SZAFRANIEC,  NOAH J|SUPERVISING ZONING PLAN EXAMINER|COMMUNITY DEVELOPMENT|$73752.00\n",
            "28143|SZAJNA ARMIDANO,  URSULA|DIR OF COLLECTION PROCESSING|FINANCE|$97416.00\n",
            "28144|SZALA,  DIANE M|AMBULANCE COMMANDER|FIRE|$123948.00\n",
            "28145|SZARZYNSKI,  TIMOTHY M|SERGEANT|POLICE|$106920.00\n",
            "28146|SZCZEPANSKI,  SUSAN|CROSSING GUARD - PER AGREEMENT|POLICE|$16484.00\n",
            "28147|SZCZESNIAK,  JOHN W|FIREFIGHTER/PARAMEDIC|FIRE|$87720.00\n",
            "28148|SZCZUDLO,  STEVEN T|FIREFIGHTER-EMT|FIRE|$85680.00\n",
            "28149|SZCZUR,  CHRISTIAN|POLICE OFFICER|POLICE|$46206.00\n",
            "28150|SZCZUROWSKI,  PIOTR|POLICE OFFICER|POLICE|$83616.00\n",
            "28151|SZCZYGIEL,  PAUL A|FIRE ENGINEER|FIRE|$93648.00\n",
            "28152|SZEFC,  LINDA|SERGEANT|POLICE|$110370.00\n",
            "28153|SZELAG,  JOSEPH T|AVIATION SECURITY OFFICER|AVIATION|$53628.00\n",
            "28154|SZESZOL,  GLEN A|POLICE OFFICER|POLICE|$89718.00\n",
            "28155|SZETO,  PENNY|POLICE OFFICER|POLICE|$80778.00\n",
            "28156|SZEWCZYK,  BOGUSLAW T|PARAMEDIC|FIRE|$80778.00\n",
            "28157|SZEWCZYK,  EDWARD J|AVIATION COMMUNICATIONS OPERATOR|OEMC|$67212.00\n",
            "28158|SZEWCZYK,  JAMES M|SERVICE WRITER|GENERAL SERVICES|$52836.00\n",
            "28159|SZEWCZYK,  JAMES R|FOREMAN OF MOTOR TRUCK DRIVERS|STREETS & SAN|$75732.80\n",
            "28160|SZMYD,  JOHN B|LIEUTENANT|POLICE|$123948.00\n",
            "28161|SZNURA,  PAUL|POLICE OFFICER|POLICE|$83616.00\n",
            "28162|SZORC,  ANDREW C|WARD SUPERINTENDENT|STREETS & SAN|$73020.00\n",
            "28163|SZORC,  MICHAEL J|FOREMAN OF CONSTRUCTION LABORERS|WATER MGMNT|$81328.00\n",
            "28164|SZORC,  RICHARD P|ASST DISTRICT SUPERINTENDENT|WATER MGMNT|$103272.00\n",
            "28165|SZOT,  JOHN M|OPERATING ENGINEER-GROUP A|WATER MGMNT|$98675.20\n",
            "28166|SZUBERT,  LOUIS K|POLICE OFFICER|POLICE|$86520.00\n",
            "28167|SZUBSKI,  STEFAN J|POLICE OFFICER|POLICE|$83616.00\n",
            "28168|SZUDY,  EDMUND M|POLICE OFFICER|POLICE|$83616.00\n",
            "28169|SZURAN,  JOZEF|SANITATION LABORER|STREETS & SAN|$72384.00\n",
            "28170|SZUSZKIEWICZ,  BOGUSLAW C|ENVIRONMENTAL ENGINEER II|HEALTH|$95880.00\n",
            "28171|SZWED,  ERIC P|POLICE FORENSIC INVESTIGATOR I|POLICE|$103590.00\n",
            "28172|SZWEDO,  FRANK A|POLICE OFFICER (ASSIGNED AS DETECTIVE)|POLICE|$93648.00\n",
            "28173|SZYBKOWSKI,  JOHN R|MACHINIST (AUTOMOTIVE)|GENERAL SERVICES|$92248.00\n",
            "28174|SZYKOWNY,  ROBERT W|MOTOR TRUCK DRIVER|STREETS & SAN|$71780.80\n",
            "28175|SZYMANSKI,  DOUGLAS J|POLICE OFFICER (ASSIGNED AS DETECTIVE)|POLICE|$93648.00\n",
            "28176|SZYMANSKI,  SAMANTHA M|POLICE OFFICER|POLICE|$80778.00\n",
            "28177|SZYMCZYK,  DAVID J|FIREFIGHTER-EMT|FIRE|$91764.00\n",
            "28178|SZYMUSIAK,  DIANE|PROCUREMENT SPECIALIST|PROCUREMENT|$57084.00\n",
            "28179|SZYSZKO,  JOHN M|DIR OF MAINTENANCE OPERATIONS|GENERAL SERVICES|$102060.00\n",
            "28180|TABAK,  MARIE A|CROSSING GUARD|POLICE|$18324.80\n",
            "28181|TABARES,  JOHN J|EMERGENCY CREW DISPATCHER|WATER MGMNT|$79040.00\n",
            "28182|TABAR,  FRANKO|TREE TRIMMER|STREETS & SAN|$74464.00\n",
            "28183|TABB SR,  ERIC L|DIVISION SUPERINTENDENT|STREETS & SAN|$88812.00\n",
            "28184|TABB,  TABITHA|POLICE OFFICER|POLICE|$83616.00\n",
            "28185|TABIDZE,  IRINA|EPIDEMIOLOGIST III|HEALTH|$99276.00\n",
            "28186|TABISZ,  RICHARD|AVIATION SECURITY OFFICER|AVIATION|$53628.00\n",
            "28187|TACCAD,  CLARIBEL|ACCOUNTING TECHNICIAN II|COMMUNITY DEVELOPMENT|$63708.00\n",
            "28188|TADAVICH,  GAVIN A|MOTOR TRUCK DRIVER|STREETS & SAN|$71780.80\n",
            "28189|TADEO,  ALITA F|ADMINISTRATIVE ASST II|ADMIN HEARNG|$58020.00\n",
            "28190|TADLA,  EDWARD J|FIREFIGHTER|FIRE|$86520.00\n",
            "28191|TAGGART,  SYLVIA|SANITATION LABORER|STREETS & SAN|$72384.00\n",
            "28192|TAGHON,  JON|PLUMBER|WATER MGMNT|$97032.00\n",
            "28193|TAGLER,  ANGELO M|POLICE OFFICER (ASGND AS MARINE OFFICER)|POLICE|$94236.00\n",
            "28194|TAGLER,  MICHAEL A|FIREFIGHTER-EMT|FIRE|$85680.00\n",
            "28195|TAGLER,  PATRICK D|SAFETY ADMINISTRATOR|STREETS & SAN|$82524.00\n",
            "28196|TAGLER,  THOMAS M|OPERATING ENGINEER-GROUP C|WATER MGMNT|$93745.60\n",
            "28197|TAGLIERI,  CHRISTOPHER C|POLICE OFFICER|POLICE|$80778.00\n",
            "28198|TAGLIOLI,  DONNA M|CROSSING GUARD|POLICE|$18324.80\n",
            "28199|TAGNEY,  BRIAN|POLICE OFFICER|POLICE|$46206.00\n",
            "28200|TAHRILOVA,  STELLA D|CIVIL ENGINEER II|WATER MGMNT|$87912.00\n",
            "28201|TAITT,  JOHN E|POLICE OFFICER|POLICE|$89718.00\n",
            "28202|TAIYM,  DANIEL F|POLICE OFFICER|POLICE|$83616.00\n",
            "28203|TAIYOOB,  RAFIQ|DETENTION AIDE|POLICE|$67212.00\n",
            "28204|TAKAKI,  DEBBIE A|POLICE OFFICER|POLICE|$89718.00\n",
            "28205|TAKAKI,  ROSS K|POLICE OFFICER (ASSIGNED AS DETECTIVE)|POLICE|$99888.00\n",
            "28206|TAKATA,  NANCY M|EXEC ADMINISTRATIVE ASST II|ADMIN HEARNG|$67224.00\n",
            "28207|TALAGA,  BOGUSLAW|PARAMEDIC I/C|FIRE|$90456.00\n",
            "28208|TALAVERA,  FEDERICO|FIREFIGHTER-EMT|FIRE|$85680.00\n",
            "28209|TALBOT,  JULIA|COORD OF SPECIAL PROJECTS|FAMILY & SUPPORT|$84780.00\n",
            "28210|TALIAFERRO,  CHRISTOPHE|SERGEANT|POLICE|$106920.00\n",
            "28211|TALIA,  SARGON|POLICE OFFICER|POLICE|$73296.00\n",
            "28212|TALIYA,  DANIEL|POLICE OFFICER|POLICE|$80778.00\n",
            "28213|TALLEY,  JACQUELINE|POLICE OFFICER|POLICE|$89718.00\n",
            "28214|TALLEY,  YOLANDA L|SERGEANT|POLICE|$106920.00\n",
            "28215|TALPOS,  RADU D|POLICE OFFICER|POLICE|$80778.00\n",
            "28216|TAMAYO,  JORGE E|GENERAL LABORER - DSS|STREETS & SAN|$40560.00\n",
            "28217|TAMEZ,  MARCELA H|BRIDGE OPERATOR|TRANSPORTN|$50496.00\n",
            "28218|TAMEZ,  VERONICA|POLICE OFFICER|POLICE|$83616.00\n",
            "28219|TAMIMI,  MARWAN M|SANITARIAN II|HEALTH|$69888.00\n",
            "28220|TAM,  JESSICA H|LIBRARIAN I|PUBLIC LIBRARY|$72840.00\n",
            "28221|TAMLEY,  KAREN M|COMM MAYORS OFF PEOPLE W DISABILITIES|DISABILITIES|$138420.00\n",
            "28222|TAMLO,  MARK T|POLICE OFFICER|POLICE|$86520.00\n",
            "28223|TAMONDONG,  CANDIDA I|PUBLIC HEALTH NUTRITIONIST III|HEALTH|$67308.00\n",
            "28224|TAMPIER,  CHRISTOPHER M|CONCRETE LABORER|TRANSPORTN|$79040.00\n",
            "28225|TAMRAT,  HILLINA T|ASST CORPORATION COUNSEL SUPVSR|LAW|$87900.00\n",
            "28226|TANAKA,  JOHN S|POLICE OFFICER|POLICE|$86520.00\n",
            "28227|TANAKA,  RONALD Y|POLICE OFFICER|POLICE|$86520.00\n",
            "28228|TANAKA,  STEVE H|POLICE OFFICER (ASSIGNED AS DETECTIVE)|POLICE|$97044.00\n",
            "28229|TANCO,  VICTOR M|MOTOR TRUCK DRIVER|WATER MGMNT|$71780.80\n",
            "28230|TANDY JR,  ALBERT R|POLICE OFFICER|POLICE|$86520.00\n",
            "28231|TANDYK,  JOSEPH L|SERGEANT|POLICE|$110370.00\n",
            "28232|TAN,  EARLENE L|ACCOUNTANT IV|FINANCE|$95880.00\n",
            "28233|TANG,  MARVIN|EQUIPMENT DISPATCHER|STREETS & SAN|$73028.80\n",
            "28234|TANGUAY,  STEVEN N|FIREFIGHTER|FIRE|$83616.00\n",
            "28235|TANG,  WILLIAM|POLICE OFFICER|POLICE|$86520.00\n",
            "28236|TANKSON,  ARLENE L|POLICE OFFICER|POLICE|$89718.00\n",
            "28237|TANNEHILL,  BRIAN J|POLICE OFFICER|POLICE|$86520.00\n",
            "28238|TANNEHILL,  MARTIN J|LIEUTENANT|POLICE|$120264.00\n",
            "28239|TANNEHILL,  MICHELLE M|POLICE OFFICER|POLICE|$80778.00\n",
            "28240|TANNEHILL,  TIMOTHY P|AVIATION SECURITY OFFICER|AVIATION|$70404.00\n",
            "28241|TANOVIC,  SEID|POLICE OFFICER|POLICE|$80778.00\n",
            "28242|TANSLEY,  SARAH C|LIBRARIAN IV|PUBLIC LIBRARY|$95880.00\n",
            "28243|TANTILLA,  MICHAEL A|SERGEANT|POLICE|$110370.00\n",
            "28244|TANTILLO,  STEVEN J|CHIEF ASST CORPORATION COUNSEL|LAW|$124572.00\n",
            "28245|TANTILLO,  TIMOTHY V|POLICE OFFICER|POLICE|$80778.00\n",
            "28246|TANZI,  MARCO F|GRAPHIC ARTIST III|GENERAL SERVICES|$63276.00\n",
            "28247|TANZI,  MICHAEL A|FIREFIGHTER|FIRE|$83616.00\n",
            "28248|TAONE,  JON M|SANITATION LABORER|STREETS & SAN|$72384.00\n",
            "28249|TAORMINA,  LEONARD F|BUILDING/CONSTRUCTION INSPECTOR|BUILDINGS|$73176.00\n",
            "28250|TAPERT MERCADO,  KATIE M|SOCIAL WORKER III|FAMILY & SUPPORT|$87912.00\n",
            "28251|TAPIA,  DANIEL V|POLICE OFFICER (ASSIGNED AS DETECTIVE)|POLICE|$90456.00\n",
            "28252|TAPIA,  DOLORES R|POLICE OFFICER|POLICE|$80778.00\n",
            "28253|TAPIA,  ERIC N|POLICE OFFICER|POLICE|$83616.00\n",
            "28254|TAPIA,  JAIME H|FIREFIGHTER-EMT|FIRE|$85680.00\n",
            "28255|TAPIA,  JUAN|POLICE OFFICER|POLICE|$46206.00\n",
            "28256|TAPIA,  MARIO|POLICE OFFICER|POLICE|$83616.00\n",
            "28257|TAPIA,  MELISSA J|POLICE OFFICER|POLICE|$83616.00\n",
            "28258|TAPIA,  RODOLFO A|CONSTRUCTION LABORER|WATER MGMNT|$79040.00\n",
            "28259|TAPIA,  SUZANNE|POLICE OFFICER|POLICE|$86520.00\n",
            "28260|TAQEE,  MICHAEL M|FIREFIGHTER-EMT|FIRE|$91764.00\n",
            "28261|TARALA,  DONNA M|POLICE OFFICER|POLICE|$83616.00\n",
            "28262|TARASIEWICZ,  PHILLIP P|FOREMAN OF MOTOR TRUCK DRIVERS|TRANSPORTN|$75732.80\n",
            "28263|TARASIUK,  JOHNNY|POLICE OFFICER|POLICE|$83616.00\n",
            "28264|TARAS,  LISA A|POLICE OFFICER|POLICE|$83616.00\n",
            "28265|TARASZKIEWICZ,  ARTHUR R|POLICE OFFICER (ASSIGNED AS DETECTIVE)|POLICE|$93648.00\n",
            "28266|TARDY,  MICHAEL P|BUILDING/CONSTRUCTION INSPECTOR|BUILDINGS|$76608.00\n",
            "28267|TARIQ,  MOHAMMAD|FINANCE OFFICER|FINANCE|$83256.00\n",
            "28268|TART,  DEATRA|MOTOR TRUCK DRIVER|STREETS & SAN|$72862.40\n",
            "28269|TARVER,  TAMARA L|LEGISLATIVE AIDE|CITY COUNCIL|$26616.00\n",
            "28270|TARZIAN,  TIMOTHY J|LABORER|TRANSPORTN|$79040.00\n",
            "28271|TASKOVSKI,  MILORAD B|ASPHALT LABORER|TRANSPORTN|$79040.00\n",
            "28272|TASSONE,  NICHOLAS A|CONSTRUCTION LABORER|WATER MGMNT|$79040.00\n",
            "28273|TATAR,  MICHELLE S|POLICE OFFICER|POLICE|$89718.00\n",
            "28274|TATE,  DIONNE A|DEPUTY DIR|OEMC|$115740.00\n",
            "28275|TATE,  DORIAN|LIBRARY PAGE|PUBLIC LIBRARY|$12407.20\n",
            "28276|TATE,  GARY|WATER RATE TAKER|WATER MGMNT|$81108.00\n",
            "28277|TATE,  HELEN M|ADMINISTRATIVE ASST II|BUILDINGS|$66684.00\n",
            "28278|TATE,  JACKIE|CLERK III|POLICE|$43920.00\n",
            "28279|TATE JR,  JOHNNY E|SERGEANT|POLICE|$103590.00\n",
            "28280|TATE,  JYTONNE F|POLICE OFFICER (PER ARBITRATION AWARD)|POLICE|$97044.00\n",
            "28281|TATE,  KEVIN B|POLICE OFFICER|POLICE|$83616.00\n",
            "28282|TATE,  LUCILLE|SENIOR COMPANION|FAMILY & SUPPORT|$2756.00\n",
            "28283|TATE,  MICHAEL M|SERGEANT|POLICE|$103590.00\n",
            "28284|TATE,  RHEGEAE O|POLICE OFFICER|POLICE|$83616.00\n",
            "28285|TATE,  SHARON M|POLICE OFFICER|POLICE|$89718.00\n",
            "28286|TATE,  STEPHEN H|MOTOR TRUCK DRIVER|STREETS & SAN|$72862.40\n",
            "28287|TATOOLES,  ALEXANDRA J|LEGISLATIVE AIDE|CITY COUNCIL|$21840.00\n",
            "28288|TATRO MENDOZA,  CRUZ|POLICE OFFICER|POLICE|$89718.00\n",
            "28289|TATUM,  TIM S|POLICE OFFICER|POLICE|$83616.00\n",
            "28290|TATUM,  WILLIAM H|SANITATION LABORER|STREETS & SAN|$72384.00\n",
            "28291|TATUM,  WILLIE B|CROSSING GUARD|POLICE|$18324.80\n",
            "28292|TAUS,  JOHN J|SANITATION LABORER|STREETS & SAN|$72384.00\n",
            "28293|TAVARES,  NICKOLAS W|POLICE OFFICER|POLICE|$86520.00\n",
            "28294|TAVES,  SCOTT J|LIBRARIAN I|PUBLIC LIBRARY|$72840.00\n",
            "28295|TAYLER,  JOSEPH R|MOTOR TRUCK DRIVER|GENERAL SERVICES|$71780.80\n",
            "28296|TAYLOR,  AARON J|FIREFIGHTER-EMT|FIRE|$85680.00\n",
            "28297|TAYLOR,  ADRIAN S|POLICE OFFICER|POLICE|$80778.00\n",
            "28298|TAYLOR,  ALMARKO T|POLICE COMMUNICATIONS OPERATOR II|OEMC|$77220.00\n",
            "28299|TAYLOR,  ALMONDO M|SANITATION LABORER|STREETS & SAN|$72384.00\n",
            "28300|TAYLOR,  ARNISHA|CROSSING GUARD - PER AGREEMENT|POLICE|$13790.40\n",
            "28301|TAYLOR,  AUDREY|ADMINISTRATIVE ASST II|BUILDINGS|$55428.00\n",
            "28302|TAYLOR,  BARBARA J|FINANCIAL PLANNING ANALYST|COMMUNITY DEVELOPMENT|$95832.00\n",
            "28303|TAYLOR,  CAROL|CROSSING GUARD|POLICE|$22131.20\n",
            "28304|TAYLOR,  CARRIE|LIBRARY CLERK - HOURLY|PUBLIC LIBRARY|$15995.20\n",
            "28305|TAYLOR,  CEDRIC F|POLICE OFFICER|POLICE|$89718.00\n",
            "28306|TAYLOR,  CHRISTINE|POLICE OFFICER|POLICE|$83616.00\n",
            "28307|TAYLOR,  DANIEL M|MOTOR TRUCK DRIVER|WATER MGMNT|$71780.80\n",
            "28308|TAYLOR,  DARIN E|ENGINEERING TECHNICIAN V|OEMC|$96672.00\n",
            "28309|TAYLOR,  DARLENE|CENTRAL VOUCHER COORDINATOR|FINANCE|$66684.00\n",
            "28310|TAYLOR,  DARREN L|FIREFIGHTER/PARAMEDIC|FIRE|$87720.00\n",
            "28311|TAYLOR,  DEBORAH|LIBRARIAN III|PUBLIC LIBRARY|$87912.00\n",
            "28312|TAYLOR,  DEBORAH A|ACCOUNTANT II|POLICE|$59352.00\n",
            "28313|TAYLOR,  DELROY A|POLICE OFFICER|POLICE|$86520.00\n",
            "28314|TAYLOR,  DENNIS M|DISPATCHER - ASPHALT|TRANSPORTN|$79040.00\n",
            "28315|TAYLOR,  DIANE M|SANITATION LABORER|STREETS & SAN|$72384.00\n",
            "28316|TAYLOR,  DONNELLA L|PERSONAL COMPUTER OPERATOR I|POLICE|$50496.00\n",
            "28317|TAYLOR,  DYONE L|POLICE OFFICER|POLICE|$86520.00\n",
            "28318|TAYLOR,  EARL R|POLICE OFFICER|POLICE|$86520.00\n",
            "28319|TAYLOR,  ERIC|POLICE OFFICER|POLICE|$80778.00\n",
            "28320|TAYLOR,  ERIC W|POLICE OFFICER|POLICE|$83616.00\n",
            "28321|TAYLOR,  ETHEL L|FOSTER GRANDPARENT|FAMILY & SUPPORT|$2756.00\n",
            "28322|TAYLOR,  EUCLID|FIREFIGHTER|FIRE|$93594.00\n",
            "28323|TAYLOR,  EZEKIEL J|FIREFIGHTER-EMT|FIRE|$91764.00\n",
            "28324|TAYLOR,  FREDERICK D|POLICE OFFICER|POLICE|$86520.00\n",
            "28325|TAYLOR,  GEORGE A|FIREFIGHTER/PARAMEDIC|FIRE|$90798.00\n",
            "28326|TAYLOR,  GLEN M|DETENTION AIDE|POLICE|$70404.00\n",
            "28327|TAYLOR,  GREGORY W|FIRE ENGINEER|FIRE|$93648.00\n",
            "28328|TAYLOR,  HARRIET P|ADMINISTRATIVE ASST II|POLICE|$63708.00\n",
            "28329|TAYLOR,  HENRY U|FOREMAN OF SHEET METAL WORKERS|GENERAL SERVICES|$93288.00\n",
            "28330|TAYLOR,  INES W|ALDERMANIC AIDE|CITY COUNCIL|$15000.00\n",
            "28331|TAYLOR,  IRENE D|CROSSING GUARD|POLICE|$19188.00\n",
            "28332|TAYLOR,  IVAN D|CROSSING GUARD - PER AGREEMENT|POLICE|$13790.40\n",
            "28333|TAYLOR,  JALANDA M|AVIATION SECURITY OFFICER|AVIATION|$67212.00\n",
            "28334|TAYLOR,  JAMES|SANITATION LABORER|STREETS & SAN|$72384.00\n",
            "28335|TAYLOR,  JANEE C|COMMUNICATIONS OPERATOR II - 311|OEMC|$60780.00\n",
            "28336|TAYLOR,  JEFFREY G|POLICE OFFICER|POLICE|$86520.00\n",
            "28337|TAYLOR,  JENNIFER C|TRAFFIC ENFORCEMENT TECH|FINANCE|$31740.00\n",
            "28338|TAYLOR-JORDAN,  GISELLE|POLICE OFFICER|POLICE|$92316.00\n",
            "28339|TAYLOR JR,  HOUSTON|POLICE OFFICER|POLICE|$65946.00\n",
            "28340|TAYLOR,  KENNETH A|AVIATION SECURITY OFFICER|AVIATION|$46656.00\n",
            "28341|TAYLOR,  KENNETH A|MOTOR TRUCK DRIVER|PUBLIC LIBRARY|$71780.80\n",
            "28342|TAYLOR,  KENNETH W|FIREFIGHTER|FIRE|$86520.00\n",
            "28343|TAYLOR,  KEN T|FIREFIGHTER|FIRE|$93594.00\n",
            "28344|TAYLOR,  KENYA S|DETENTION AIDE|POLICE|$48924.00\n",
            "28345|TAYLOR,  KEVIN|POLICE OFFICER|POLICE|$46206.00\n",
            "28346|TAYLOR,  KEVIN A|LIEUTENANT|FIRE|$110370.00\n",
            "28347|TAYLOR,  KIERAN|HOISTING ENGINEER|WATER MGMNT|$97968.00\n",
            "28348|TAYLOR,  KIMBERLY A|DEPUTY COMMISSIONER|DISABILITIES|$99984.00\n",
            "28349|TAYLOR,  LA FLORA|CROSSING GUARD|POLICE|$19188.00\n",
            "28350|TAYLOR,  LASHAWN K|POLICE OFFICER|POLICE|$80778.00\n",
            "28351|TAYLOR,  LATISHA|POLICE OFFICER|POLICE|$69684.00\n",
            "28352|TAYLOR,  LATONYA R|LIBRARY CLERK|PUBLIC LIBRARY|$41952.00\n",
            "28353|TAYLOR,  LAWRENCE D|SANITATION LABORER|STREETS & SAN|$72384.00\n",
            "28354|TAYLOR,  LLOYD N|SANITATION LABORER|STREETS & SAN|$72384.00\n",
            "28355|TAYLOR,  MERVYN|PRINCIPAL STOREKEEPER|PUBLIC LIBRARY|$55428.00\n",
            "28356|TAYLOR,  PEGGY|GENERAL LABORER - DSS|STREETS & SAN|$43201.60\n",
            "28357|TAYLOR,  PERRY L|FIREFIGHTER-EMT|FIRE|$88680.00\n",
            "28358|TAYLOR,  RAVEN D|CROSSING GUARD - PER AGREEMENT|POLICE|$16484.00\n",
            "28359|TAYLOR,  ROBERT H|FIRE ENGINEER-PARAMEDIC|FIRE|$108462.00\n",
            "28360|TAYLOR,  RODERICK C|POLICE OFFICER|POLICE|$69684.00\n",
            "28361|TAYLOR,  RONALD W|PARAMEDIC I/C|FIRE|$97044.00\n",
            "28362|TAYLOR,  RONNESHIA E|FINGERPRINT TECHNICIAN II|POLICE|$63708.00\n",
            "28363|TAYLOR,  SABRINA|POLICE OFFICER|POLICE|$83616.00\n",
            "28364|TAYLOR,  SANDRA|STAFF ASST|GENERAL SERVICES|$66684.00\n",
            "28365|TAYLOR,  SCOTT P|PARAMEDIC|FIRE|$54114.00\n",
            "28366|TAYLOR,  SHERMAN|FIREFIGHTER-EMT|FIRE|$91764.00\n",
            "28367|TAYLOR SR,  ANDREW L|MOTOR TRUCK DRIVER|WATER MGMNT|$71780.80\n",
            "28368|TAYLOR,  STEPHANIE L|HOSPITALITY WORKER|FAMILY & SUPPORT|$9516.00\n",
            "28369|TAYLOR,  TODD S|LIEUTENANT-PARAMEDIC|FIRE|$112476.00\n",
            "28370|TAYLOR,  TOWANDA M|POLICE OFFICER|POLICE|$80778.00\n",
            "28371|TAYLOR,  TYRONE|SANITATION LABORER|STREETS & SAN|$72384.00\n",
            "28372|TAYLOR,  VELMA|TIMEKEEPER - CPD|POLICE|$66684.00\n",
            "28373|TAYLOR,  WILLIAM|POLICE OFFICER|POLICE|$69684.00\n",
            "28374|TAYLOR WILLIAMS,  MANUELA D|SR PROGRAMMER/ANALYST PER AGRMNT|DoIT|$104736.00\n",
            "28375|TCHORYK,  JAN M|FIRE ENGINEER-EMT|FIRE|$99324.00\n",
            "28376|TEAGUE-BROWN,  ROSALYN M|POLICE OFFICER|POLICE|$89718.00\n",
            "28377|TEAGUE,  SHIKEMA N|POLICE OFFICER|POLICE|$80778.00\n",
            "28378|TEAHAN,  COLLEEN L|POLICE OFFICER|POLICE|$86520.00\n",
            "28379|TEAHAN,  TERENCE P|POLICE OFFICER (ASSIGNED AS DETECTIVE)|POLICE|$93648.00\n",
            "28380|TEAL,  ERIC M|PARAMEDIC|FIRE|$93594.00\n",
            "28381|TEBBENS,  ROBERT|LIEUTENANT-EMT|FIRE|$113400.00\n",
            "28382|TEDESCHI,  BRIAN C|POLICE OFFICER (ASSIGNED AS DETECTIVE)|POLICE|$93648.00\n",
            "28383|TEDESCHI,  GARY A|OPERATING ENGINEER-GROUP C|WATER MGMNT|$93745.60\n",
            "28384|TEDESSO,  CAROLINE|ASST TO THE EXEC DIR|COMMUNITY DEVELOPMENT|$88812.00\n",
            "28385|TEEMER,  MICHELLE|TRAFFIC CONTROL AIDE-HOURLY|OEMC|$19656.00\n",
            "28386|TEFFT,  LEON J|POLICE OFFICER|POLICE|$89718.00\n",
            "28387|TEGTMEIER,  MATT E|POLICE OFFICER|POLICE|$80778.00\n",
            "28388|TEICHERT,  WILLIAM H|LIBRARIAN I|PUBLIC LIBRARY|$72840.00\n",
            "28389|TEJADA,  OSWALDO R|POLICE OFFICER|POLICE|$80778.00\n",
            "28390|TEJEDA,  ARMANDO|ANIMAL CARE AIDE II|ANIMAL CONTRL|$45528.00\n",
            "28391|TEJEDA,  RHINA|FORENSIC FIREARM/EVIDENCE IDENT TECH|POLICE|$100692.00\n",
            "28392|TELI,  ARGISA|AVIATION SECURITY OFFICER|AVIATION|$46656.00\n",
            "28393|TELKAMP,  SCOTT A|FIREFIGHTER-EMT|FIRE|$95460.00\n",
            "28394|TELLADO JR,  HECTOR|FOREMAN OF MOTOR TRUCK DRIVERS|AVIATION|$75732.80\n",
            "28395|TELLEZ,  ERNEST|AVIATION SECURITY OFFICER|AVIATION|$77220.00\n",
            "28396|TELLEZ,  GUILLEMO|POLICE OFFICER|POLICE|$69684.00\n",
            "28397|TELLEZ,  JOANN M|PROPERTY CUSTODIAN|POLICE|$66684.00\n",
            "28398|TELLEZ,  KAREN A|POLICE OFFICER|POLICE|$89718.00\n",
            "28399|TELLEZ,  MARK A|WINDOW WASHER|AVIATION|$47320.00\n",
            "28400|TELLEZ,  NORA E|POLICE OFFICER|POLICE|$80778.00\n",
            "28401|TELLI,  ANDREA|ASST COMMISSIONER|PUBLIC LIBRARY|$111324.00\n",
            "28402|TELLI,  CHRISTINE A|LIBRARIAN III|PUBLIC LIBRARY|$87912.00\n",
            "28403|TELLI,  JOHN R|LIBRARY DIVISION CHIEF|PUBLIC LIBRARY|$99108.00\n",
            "28404|TELLIS,  TIFFANI N|TRAFFIC ENFORCEMENT TECH|FINANCE|$31740.00\n",
            "28405|TELLO,  JUAN|ASPHALT LABORER|TRANSPORTN|$79040.00\n",
            "28406|TELLO,  LARRY|POLICE OFFICER|POLICE|$46206.00\n",
            "28407|TEMELKOV,  TRAJE|POLICE OFFICER|POLICE|$46206.00\n",
            "28408|TEMEN,  NICHOLAS R|PARAMEDIC|FIRE|$54114.00\n",
            "28409|TEMORES,  EDWARD|LABORER|GENERAL SERVICES|$76960.00\n",
            "28410|TEMPEL,  KENNETH E|FIREFIGHTER|FIRE|$83616.00\n",
            "28411|TEMPLE,  BARRY P|CAPTAIN-EMT|FIRE|$131466.00\n",
            "28412|TEMPLE,  BILLY J|POOL MOTOR TRUCK DRIVER|STREETS & SAN|$71780.80\n",
            "28413|TEMPLE,  CONNIE D|STAFF ASST TO THE ALDERMAN|CITY COUNCIL|$46389.00\n",
            "28414|TEMPLES,  JACQUELINE J|SANITATION LABORER|STREETS & SAN|$72384.00\n",
            "28415|TEMPLETON,  QUINZELLA|CLERK III|STREETS & SAN|$55428.00\n",
            "28416|TENCZA,  DAVID E|POLICE OFFICER|POLICE|$86520.00\n",
            "28417|TENEYUQUE,  GERARDO|SERGEANT|POLICE|$103590.00\n",
            "28418|TENEYUQUE,  RICARDO|POLICE OFFICER|POLICE|$69684.00\n",
            "28419|TENFELDE,  ERIC|PROJECT MANAGER - DOIT|DoIT|$93504.00\n",
            "28420|TENG,  JAMES Y|LIBRARIAN I|PUBLIC LIBRARY|$72840.00\n",
            "28421|TENISON,  SCOTT M|CEMENT FINISHER|WATER MGMNT|$89648.00\n",
            "28422|TENORIO,  ALEXANDRA|LAW CLERK|LAW|$25152.40\n",
            "28423|TENORIO,  ALICIA A|GENERAL LABORER - DSS|STREETS & SAN|$40560.00\n",
            "28424|TENORIO,  VICTOR A|BRIDGE OPERATOR|TRANSPORTN|$55968.00\n",
            "28425|TENORT,  MINNIE P|PARAMEDIC I/C|FIRE|$93648.00\n",
            "28426|TENTLER,  ALBERT W|LIEUTENANT|FIRE|$110370.00\n",
            "28427|TENTLER,  MICHAEL G|ELECTRICAL MECHANIC|WATER MGMNT|$91520.00\n",
            "28428|TENTLER,  STEPHEN R|POLICE OFFICER|POLICE|$89718.00\n",
            "28429|TENTON,  CHRISTOPHE L|POLICE OFFICER (ASSIGNED AS DETECTIVE)|POLICE|$97044.00\n",
            "28430|TENUTO JR,  VINCENT P|MOTOR TRUCK DRIVER|TRANSPORTN|$71780.80\n",
            "28431|TEPER,  ALICJA|POLICE OFFICER|POLICE|$69684.00\n",
            "28432|TERESI,  MARTIN J|POLICE OFFICER|POLICE|$86520.00\n",
            "28433|TERLECKY,  GREG U|FIRE MARSHAL-EMT|FIRE|$91764.00\n",
            "28434|TERMINI,  CHARLES J|MOTOR TRUCK DRIVER|AVIATION|$71780.80\n",
            "28435|TERNAND,  BRANDON R|POLICE OFFICER|POLICE|$80778.00\n",
            "28436|TERNES JR,  RICHARD J|FIREFIGHTER/PARAMEDIC|FIRE|$71604.00\n",
            "28437|TERNES,  VINCENT P|FIRE ENGINEER-EMT|FIRE|$105918.00\n",
            "28438|TERRAZAS,  CARLO D|POOL MOTOR TRUCK DRIVER|STREETS & SAN|$71780.80\n",
            "28439|TERRAZAS,  DAVID|REFUSE COLLECTION COORD|STREETS & SAN|$84888.00\n",
            "28440|TERRAZAS,  JESSE|SERGEANT|POLICE|$106920.00\n",
            "28441|TERRELL,  BRANDON D|TRAFFIC CONTROL AIDE-HOURLY|OEMC|$19656.00\n",
            "28442|TERRELL,  CYNTHIA|POLICE OFFICER|POLICE|$83616.00\n",
            "28443|TERRELL HART,  ADRIENNE|ALDERMANIC AIDE|CITY COUNCIL|$12840.00\n",
            "28444|TERRELL,  HELEN N|EQUIPMENT DISPATCHER|WATER MGMNT|$73028.80\n",
            "28445|TERRELL,  LYNNETTE|PROCUREMENT SPECIALIST|PROCUREMENT|$80916.00\n",
            "28446|TERRILE,  RICHARD A|POOL MOTOR TRUCK DRIVER|TRANSPORTN|$71780.80\n",
            "28447|TERRONES,  SOFIA|POLICE OFFICER|POLICE|$89718.00\n",
            "28448|TERRY,  DAVID E|FIREFIGHTER-EMT|FIRE|$85680.00\n",
            "28449|TERRY,  ELIZABETH R|POLICE COMMUNICATIONS OPERATOR I|OEMC|$67212.00\n",
            "28450|TERRY,  LYRONE W|BATTALION CHIEF - EMT|FIRE|$143682.00\n",
            "28451|TERRY,  MARY E|ADMINISTRATIVE ASST II|WATER MGMNT|$66684.00\n",
            "28452|TERRY,  MONTRELL O|PAINTER|WATER MGMNT|$86840.00\n",
            "28453|TERRY,  MORRELL D|SANITATION LABORER|STREETS & SAN|$72384.00\n",
            "28454|TERRY,  PATRICK N|ASPHALT LABORER|TRANSPORTN|$79040.00\n",
            "28455|TERRY,  YVONNE M|SERGEANT|POLICE|$110370.00\n",
            "28456|TERTELL,  BRIDGETTE E|FIREFIGHTER/PARAMEDIC|FIRE|$87720.00\n",
            "28457|TERUEL,  RICHARD|ELECTRICAL MECHANIC|AVIATION|$91520.00\n",
            "28458|TERZICH,  JENNIFER L|POLICE OFFICER|POLICE|$80778.00\n",
            "28459|TERZIC,  JASNA|AVIATION SECURITY SERGEANT|AVIATION|$73752.00\n",
            "28460|TESFAI,  TEWELDE T|POLICE OFFICER|POLICE|$80778.00\n",
            "28461|TETIWAT,  TAVEESAK|POLICE OFFICER|POLICE|$86520.00\n",
            "28462|TETREV,  GERALD M|LIEUTENANT-EMT|FIRE|$117078.00\n",
            "28463|TEUNE,  JOSEPH|OPERATING ENGINEER-GROUP C|AVIATION|$93745.60\n",
            "28464|TEUTONICO,  JAMES P|SIGN PAINTER|TRANSPORTN|$74880.00\n",
            "28465|TEUTONICO,  MICHAEL A|MOTOR TRUCK DRIVER|STREETS & SAN|$71780.80\n",
            "28466|TEVERBAUGH,  REGINALD D|FIREFIGHTER-EMT|FIRE|$85680.00\n",
            "28467|TEWOLDE,  FREHIWOT|SENIOR DATA ENTRY OPERATOR|POLICE|$60780.00\n",
            "28468|TEWS,  MICHAEL J|POLICE OFFICER|POLICE|$83616.00\n",
            "28469|THACH,  THANH|DATA SERVICES ADMINISTRATOR|DoIT|$66564.00\n",
            "28470|THAMES,  MICHAEL A|CUSTODIAL WORKER|AVIATION|$34008.00\n",
            "28471|THANASENARIS,  TED G|POLICE OFFICER|POLICE|$86520.00\n",
            "28472|THEDFORD,  CHRISTOPHE A|POLICE OFFICER|POLICE|$89718.00\n",
            "28473|THEEKE,  JANIECE A|PARAMEDIC I/C|FIRE|$90456.00\n",
            "28474|THEIS,  LINDA M|CROSSING GUARD|POLICE|$18324.80\n",
            "28475|THEIS,  MICHAEL J|POLICE OFFICER|POLICE|$83616.00\n",
            "28476|THELEN,  DONALD A|FIREFIGHTER|FIRE|$90018.00\n",
            "28477|THELEN JR,  GEORGE A|FIREFIGHTER|FIRE|$93594.00\n",
            "28478|THELEN,  PATRICK M|POLICE OFFICER (ASSIGNED AS DETECTIVE)|POLICE|$93648.00\n",
            "28479|THELMON,  DAVID D|CARPENTER|GENERAL SERVICES|$90168.00\n",
            "28480|THEODATE,  MARIO Y|AVIATION SECURITY OFFICER|AVIATION|$77220.00\n",
            "28481|THEODORATOS,  ANDREAS D|GENERAL FOREMAN OF PAINTERS|GENERAL SERVICES|$108555.24\n",
            "28482|THEODORE,  PETER A|POLICE OFFICER|POLICE|$80778.00\n",
            "28483|THEODORE,  SAM F|HUMAN SERVICE SPECIALIST II|FAMILY & SUPPORT|$73200.00\n",
            "28484|THEODORIDES,  PANAGIOTIS G|POLICE OFFICER|POLICE|$83616.00\n",
            "28485|THEODOROPOULOS,  CHRISTINA F|POLICE OFFICER|POLICE|$80778.00\n",
            "28486|THEOPHILOS,  GEORGE D|ASST CORPORATION COUNSEL SUPVSR|LAW|$99948.00\n",
            "28487|THEUSCH,  DANIEL J|FIREFIGHTER/PARAMEDIC|FIRE|$87720.00\n",
            "28488|THIELE,  KENDRA|POLICE OFFICER|POLICE|$46206.00\n",
            "28489|THIEL,  JEFFREY T|CONSTRUCTION LABORER|WATER MGMNT|$79040.00\n",
            "28490|THIEL JR,  JOSEPH E|LIEUTENANT-EMT|FIRE|$117078.00\n",
            "28491|THIEL,  MARTHA M|POLICE OFFICER|POLICE|$86520.00\n",
            "28492|THIESE,  CHARLES J|TREE TRIMMER|STREETS & SAN|$74464.00\n",
            "28493|THIGPEN,  ANNETTE|CONSTRUCTION LABORER|WATER MGMNT|$79040.00\n",
            "28494|THIGPEN,  MAURICE|POLICE OFFICER|POLICE|$89718.00\n",
            "28495|THILL,  JOHN C|POLICE OFFICER|POLICE|$89718.00\n",
            "28496|THIRY,  PATRICK M|POLICE OFFICER|POLICE|$83616.00\n",
            "28497|THIVEL,  JEFFREY|LIBRARY PAGE|PUBLIC LIBRARY|$12407.20\n",
            "28498|THOLL,  ROBERT J|POLICE OFFICER|POLICE|$86520.00\n",
            "28499|THOMAS,  ABRAHAM A|SANITATION LABORER|STREETS & SAN|$72384.00\n",
            "28500|THOMAS,  ALFRED W|POOL MOTOR TRUCK DRIVER|TRANSPORTN|$71780.80\n",
            "28501|THOMAS,  ALPHONSO|FIREFIGHTER|FIRE|$93594.00\n",
            "28502|THOMAS,  ANDREW|POLICE OFFICER|POLICE|$83616.00\n",
            "28503|THOMAS,  ANGELA|CLERK III|PROCUREMENT|$39624.00\n",
            "28504|THOMAS,  ANGELA C|CROSSING GUARD|POLICE|$18324.80\n",
            "28505|THOMAS,  ANGELA M|STAFF ASST TO THE ALDERMAN|CITY COUNCIL|$40368.00\n",
            "28506|THOMAS,  ARAMON H|POLICE OFFICER (ASGND AS MARINE OFFICER)|POLICE|$90846.00\n",
            "28507|THOMAS,  ARTRA M|INVESTIGATOR - IPRA II|IPRA|$80328.00\n",
            "28508|THOMAS,  BARBARA J|CROSSING GUARD|POLICE|$18324.80\n",
            "28509|THOMAS,  BERTHA|LIBRARY CLERK|PUBLIC LIBRARY|$41952.00\n",
            "28510|THOMAS,  BETTY A|HOSPITALITY WORKER|FAMILY & SUPPORT|$9516.00\n",
            "28511|THOMAS,  BILOS M|POLICE OFFICER|POLICE|$86520.00\n",
            "28512|THOMAS,  BREDA C|POLICE OFFICER|POLICE|$89718.00\n",
            "28513|THOMAS,  BRIAN J|POLICE OFFICER|POLICE|$83616.00\n",
            "28514|THOMAS,  BRYAN C|FIREFIGHTER-EMT (RECRUIT)|FIRE|$54114.00\n",
            "28515|THOMAS,  CHAKAKHAN|PARKING ENFORCEMENT AIDE|FINANCE|$44244.00\n",
            "28516|THOMAS,  CHRISTOPHER O|MOTOR TRUCK DRIVER|STREETS & SAN|$71780.80\n",
            "28517|THOMAS,  CIONNA B|ADMINISTRATIVE ASST II|FAMILY & SUPPORT|$58020.00\n",
            "28518|THOMAS,  CORY D|ASPHALT LABORER|TRANSPORTN|$69160.00\n",
            "28519|THOMAS,  CURTIS|POLICE OFFICER (ASSIGNED AS DETECTIVE)|POLICE|$99888.00\n",
            "28520|THOMAS,  CYNTHIA D|LIBRARY PAGE|PUBLIC LIBRARY|$12407.20\n",
            "28521|THOMAS,  DAKARI L|SANITATION LABORER|STREETS & SAN|$72384.00\n",
            "28522|THOMAS,  DANIEL|CONSTRUCTION LABORER|WATER MGMNT|$79040.00\n",
            "28523|THOMAS,  DAPHNE J|SANITATION LABORER|STREETS & SAN|$72384.00\n",
            "28524|THOMAS,  DARLENE|POLICE OFFICER|POLICE|$89718.00\n",
            "28525|THOMAS,  DARNELL L|PROJECTS ADMINISTRATOR|HEALTH|$76932.00\n",
            "28526|THOMAS,  DARRYL A|LIBRARY CLERK|PUBLIC LIBRARY|$43920.00\n",
            "28527|THOMAS,  DAVID M|BATTALION CHIEF-PARAMEDIC|FIRE|$147120.00\n",
            "28528|THOMAS,  DAWN D|POLICE OFFICER|POLICE|$83616.00\n",
            "28529|THOMAS,  DEBRA B|POLICE OFFICER|POLICE|$86520.00\n",
            "28530|THOMAS,  DERYK E|POLICE OFFICER|POLICE|$80778.00\n",
            "28531|THOMAS,  EDWARD J|TRAFFIC ENFORCEMENT TECH|FINANCE|$31740.00\n",
            "28532|THOMAS,  EVELYN|POLICE OFFICER|POLICE|$46206.00\n",
            "28533|THOMAS,  GEORGE|SANITATION LABORER|STREETS & SAN|$72384.00\n",
            "28534|THOMAS,  GIJO|POLICE OFFICER|POLICE|$69684.00\n",
            "28535|THOMAS,  GREGORY M|OPERATING ENGINEER-GROUP C|WATER MGMNT|$93745.60\n",
            "28536|THOMAS,  GWEN G|LIBRARIAN II|PUBLIC LIBRARY|$80424.00\n",
            "28537|THOMAS,  HENRY F|POLICE OFFICER (ASSIGNED AS DETECTIVE)|POLICE|$93648.00\n",
            "28538|THOMAS,  HERMAN A|POLICE OFFICER|POLICE|$83616.00\n",
            "28539|THOMAS,  HOWARD|WATER RATE TAKER|WATER MGMNT|$77400.00\n",
            "28540|THOMAS III,  CLEVELAND|MANAGER OF VEHICLE MAINTENANCE|GENERAL SERVICES|$93024.00\n",
            "28541|THOMAS III,  ELBERT|POLICE OFFICER|POLICE|$86520.00\n",
            "28542|THOMAS III,  PERCY|PERSONAL ASSISTANT|CULTURAL AFFAIRS|$60000.00\n",
            "28543|THOMAS,  ISAAC|POLICE OFFICER|POLICE|$83616.00\n",
            "28544|THOMAS,  JACKIE N|POOL MOTOR TRUCK DRIVER|STREETS & SAN|$71780.80\n",
            "28545|THOMAS JACKSON,  RAMONA M|STUDENT INTERN|AVIATION|$20020.00\n",
            "28546|THOMAS,  JAMES D|PARKING ENFORCEMENT AIDE|FINANCE|$46380.00\n",
            "28547|THOMAS,  JAMIE J|POLICE OFFICER|POLICE|$83616.00\n",
            "28548|THOMAS,  JEANETTE|POOL MOTOR TRUCK DRIVER|STREETS & SAN|$64604.80\n",
            "28549|THOMAS,  JEAN M|POOL MOTOR TRUCK DRIVER|STREETS & SAN|$64604.80\n",
            "28550|THOMAS,  JEMMIE L|FOSTER GRANDPARENT|FAMILY & SUPPORT|$2756.00\n",
            "28551|THOMAS,  JENNIFER D|POLICE OFFICER|POLICE|$80778.00\n",
            "28552|THOMAS,  JOSEPH|POLICE OFFICER|POLICE|$46206.00\n",
            "28553|THOMAS JR,  GARY B|STAFF ASST TO THE ALDERMAN|CITY COUNCIL|$46860.00\n",
            "28554|THOMAS JR,  LARRY E|SERGEANT|POLICE|$106920.00\n",
            "28555|THOMAS JR,  MAURICE|LIBRARIAN I|PUBLIC LIBRARY|$72840.00\n",
            "28556|THOMAS JR,  RUFUS M|FIREFIGHTER-EMT|FIRE|$95460.00\n",
            "28557|THOMAS,  JULIUS M|CONSTRUCTION LABORER|WATER MGMNT|$79040.00\n",
            "28558|THOMAS,  KELLY M|DATA SERVICES ADMINISTRATOR|IPRA|$76512.00\n",
            "28559|THOMAS,  KENNEDY D|CUSTODIAL WORKER|AVIATION|$42369.60\n",
            "28560|THOMAS,  KEVIN L|POLICE OFFICER|POLICE|$83616.00\n",
            "28561|THOMAS,  KIRK|CONCRETE LABORER|TRANSPORTN|$79040.00\n",
            "28562|THOMAS,  KISHA N|CROSSING GUARD|POLICE|$18324.80\n",
            "28563|THOMAS,  LASHAWN M|TRAFFIC CONTROL AIDE-HOURLY|OEMC|$19656.00\n",
            "28564|THOMAS,  LATASHA R|ALDERMAN|CITY COUNCIL|$115464.96\n",
            "28565|THOMAS,  LAV H|INVESTIGATOR|CITY COUNCIL|$41220.00\n",
            "28566|THOMAS,  LEAH R|POLICE OFFICER|POLICE|$92316.00\n",
            "28567|THOMAS,  LINDA D|FIREFIGHTER-EMT|FIRE|$91764.00\n",
            "28568|THOMAS,  LOUISE|CROSSING GUARD|POLICE|$19188.00\n",
            "28569|THOMAS,  LUTHER C|SANITATION LABORER|STREETS & SAN|$72384.00\n",
            "28570|THOMAS,  MARLITA E|LEGISLATIVE AIDE|CITY COUNCIL|$55872.00\n",
            "28571|THOMAS,  MARVIN W|LIBRARY PAGE|PUBLIC LIBRARY|$12407.20\n",
            "28572|THOMAS,  MAURICE|HOISTING ENGINEER|STREETS & SAN|$97968.00\n",
            "28573|THOMAS,  MAURICE C|LABORER|TRANSPORTN|$79040.00\n",
            "28574|THOMAS,  MICHAEL E|REHABILITATION CONSTRUCTION SPECIALIST|COMMUNITY DEVELOPMENT|$88116.00\n",
            "28575|THOMAS,  MICHAEL J|POLICE OFFICER|POLICE|$83616.00\n",
            "28576|THOMAS,  MICOLE L|HR GENERALIST - DHR|HUMAN RESOURCES|$63480.00\n",
            "28577|THOMAS,  MINOR|SANITATION LABORER|STREETS & SAN|$72384.00\n",
            "28578|THOMASON,  KERRY P|FIREFIGHTER|FIRE|$86520.00\n",
            "28579|THOMAS,  PAMELA Y|TRAFFIC CONTROL AIDE-HOURLY|OEMC|$19656.00\n",
            "28580|THOMAS,  PATRICE N|POLICE OFFICER|POLICE|$86520.00\n",
            "28581|THOMAS,  PAULA M|WATER METER MACHINIST|WATER MGMNT|$80080.00\n",
            "28582|THOMAS,  REGINA Y|SUPVSR OF 311 OPERATIONS|OEMC|$60168.00\n",
            "28583|THOMAS,  RENA|FIREFIGHTER-EMT|FIRE|$85680.00\n",
            "28584|THOMAS,  RENEE L|POLICE COMMUNICATIONS OPERATOR I|OEMC|$73764.00\n",
            "28585|THOMAS,  RETHA J|CROSSING GUARD|POLICE|$21080.80\n",
            "28586|THOMAS,  RICHARD L|FIREFIGHTER-EMT|FIRE|$91764.00\n",
            "28587|THOMAS,  ROBERT D|POLICE OFFICER|POLICE|$83616.00\n",
            "28588|THOMAS,  ROBIN C|AVIATION SECURITY OFFICER|AVIATION|$46656.00\n",
            "28589|THOMAS,  ROSEANN|FOSTER GRANDPARENT|FAMILY & SUPPORT|$2756.00\n",
            "28590|THOMAS,  ROWENA C|EXEC ADMINISTRATIVE ASST I|LAW|$60408.00\n",
            "28591|THOMAS,  SANDRA R|POLICE OFFICER (PER ARBITRATION AWARD)|POLICE|$97044.00\n",
            "28592|THOMAS,  SHAMARR E|TRAFFIC CONTROL AIDE-HOURLY|OEMC|$19656.00\n",
            "28593|THOMAS,  SUNIL|IT DIRECTOR (DoIT)|DoIT|$118080.00\n",
            "28594|THOMAS,  TALMAN D|HEAD LIBRARY CLERK|PUBLIC LIBRARY|$66684.00\n",
            "28595|THOMAS,  TAYLOR P|SUPERVISING ENFORCEMENT TECH|FINANCE|$38172.00\n",
            "28596|THOMAS,  TERRENCE|AIRPORT MANAGER - MIDWAY|AVIATION|$97416.00\n",
            "28597|THOMAS,  TIESHA D|LIBRARY CLERK - HOURLY|PUBLIC LIBRARY|$15995.20\n",
            "28598|THOMAS,  TIMOTHY M|POLICE OFFICER|POLICE|$89718.00\n",
            "28599|THOMAS,  TRINA M|POLICE OFFICER|POLICE|$89718.00\n",
            "28600|THOMAS,  VINCENT O|CLERK IV|FIRE|$50496.00\n",
            "28601|THOMAS,  WAYNE D|FIREFIGHTER-EMT|FIRE|$85680.00\n",
            "28602|THOMAS,  WILLIE T|SANITATION LABORER|STREETS & SAN|$72384.00\n",
            "28603|THOMAS WILSON,  CHRISTINA A|POLICE OFFICER|POLICE|$86520.00\n",
            "28604|THOME,  BRUNO F|MOTOR TRUCK DRIVER|STREETS & SAN|$71780.80\n",
            "28605|THOME,  JAMES A|CONSTRUCTION LABORER|WATER MGMNT|$79040.00\n",
            "28606|THOME,  NICHOLAS D|POOL MOTOR TRUCK DRIVER|AVIATION|$71780.80\n",
            "28607|THOMPSON,  ABASI T|POLICE OFFICER|POLICE|$83616.00\n",
            "28608|THOMPSON,  ALVIN|POLICE OFFICER|POLICE|$69684.00\n",
            "28609|THOMPSON,  ANDRE M|SERGEANT|POLICE|$110370.00\n",
            "28610|THOMPSON,  ANGELA A|CROSSING GUARD|POLICE|$17492.80\n",
            "28611|THOMPSON,  ANTOINETTE D|DETENTION AIDE|POLICE|$53292.00\n",
            "28612|THOMPSON,  BELINDA|POLICE OFFICER|POLICE|$83616.00\n",
            "28613|THOMPSON,  BERNARD|PLUMBER|GENERAL SERVICES|$97032.00\n",
            "28614|THOMPSON BEY,  STEVE A|FIREFIGHTER-EMT|FIRE|$99258.00\n",
            "28615|THOMPSON,  BOBBY|MOTOR TRUCK DRIVER|AVIATION|$71780.80\n",
            "28616|THOMPSON,  BRIAN K|POOL MOTOR TRUCK DRIVER|TRANSPORTN|$71780.80\n",
            "28617|THOMPSON,  BRIAN L|COMMANDER|POLICE|$162684.00\n",
            "28618|THOMPSON,  CHANDRA D|SPECIALIST IN AGING II HOURLY|FAMILY & SUPPORT|$32312.80\n",
            "28619|THOMPSON,  CLAUDE O|MACHINIST|TRANSPORTN|$92248.00\n",
            "28620|THOMPSON,  CRAIG M|POLICE OFFICER|POLICE|$86520.00\n",
            "28621|THOMPSON,  DAVID|LABORER|TRANSPORTN|$79040.00\n",
            "28622|THOMPSON,  DEBORAH|PERSONAL COMPUTER OPERATOR I|POLICE|$55428.00\n",
            "28623|THOMPSON,  DELORES E|COORD OF SPECIAL PROJECTS|TRANSPORTN|$73752.00\n",
            "28624|THOMPSON,  ENID|DATA ENTRY OPERATOR|POLICE|$41952.00\n",
            "28625|THOMPSON,  GREGORY B|CONSTRUCTION LABORER|WATER MGMNT|$79040.00\n",
            "28626|THOMPSON,  HUBERT J|LIBRARIAN II|PUBLIC LIBRARY|$80424.00\n",
            "28627|THOMPSON II,  GEORGE A|MOTOR TRUCK DRIVER|STREETS & SAN|$71780.80\n",
            "28628|THOMPSON,  IRIS B|SANITATION LABORER|STREETS & SAN|$72384.00\n",
            "28629|THOMPSON,  IRVIN B|INVESTIGATOR|CITY COUNCIL|$47000.88\n",
            "28630|THOMPSON,  JANET S|LIBRARIAN II|PUBLIC LIBRARY|$75840.00\n",
            "28631|THOMPSON,  JOANN K|CLERK IV|GENERAL SERVICES|$63708.00\n",
            "28632|THOMPSON,  JOHN J|POLICE OFFICER|POLICE|$83616.00\n",
            "28633|THOMPSON,  JOSEPH M|POLICE OFFICER|POLICE|$83616.00\n",
            "28634|THOMPSON JR,  JEWEL|MOTOR TRUCK DRIVER|TRANSPORTN|$71780.80\n",
            "28635|THOMPSON JR,  TERRENCE J|POLICE OFFICER|POLICE|$86520.00\n",
            "28636|THOMPSON,  LAWRENCE G|POLICE OFFICER|POLICE|$89718.00\n",
            "28637|THOMPSON,  LEROY|SANITATION LABORER|STREETS & SAN|$72384.00\n",
            "28638|THOMPSON,  LEVORA M|ACCOUNTANT III|COMMUNITY DEVELOPMENT|$87912.00\n",
            "28639|THOMPSON,  LISA|SERGEANT|POLICE|$106920.00\n",
            "28640|THOMPSON,  MALCOLM|POLICE OFFICER|POLICE|$89718.00\n",
            "28641|THOMPSON,  MITCHELL|FIREFIGHTER|FIRE|$86520.00\n",
            "28642|THOMPSON,  MONIQUE E|POLICE OFFICER|POLICE|$86520.00\n",
            "28643|THOMPSON,  NICOLE C|POLICE OFFICER|POLICE|$86520.00\n",
            "28644|THOMPSON,  PARIS C|POLICE OFFICER|POLICE|$83616.00\n",
            "28645|THOMPSON,  PHYLLIS L|FOSTER GRANDPARENT|FAMILY & SUPPORT|$2756.00\n",
            "28646|THOMPSON,  RAMONA K|LIBRARIAN III|PUBLIC LIBRARY|$87912.00\n",
            "28647|THOMPSON,  RICKY|POLICE OFFICER|POLICE|$83616.00\n",
            "28648|THOMPSON,  ROBERT E|PAINTER|TRANSPORTN|$86840.00\n",
            "28649|THOMPSON,  ROBERT W|FIREFIGHTER-EMT|FIRE|$91764.00\n",
            "28650|THOMPSON,  ROSALYN S|ADMINISTRATIVE ASST III|POLICE|$80328.00\n",
            "28651|THOMPSON,  ROSE C|ADMINISTRATIVE ASST III|AVIATION|$66684.00\n",
            "28652|THOMPSON,  SCOTT M|LABORER - APPRENTICE|WATER MGMNT|$55328.00\n",
            "28653|THOMPSON,  THERESA M|POLICE OFFICER|POLICE|$89718.00\n",
            "28654|THOMPSON,  TIMOTHY J|POLICE OFFICER (ASSIGNED AS DETECTIVE)|POLICE|$97044.00\n",
            "28655|THOMPSON,  TINA A|POLICE OFFICER|POLICE|$83616.00\n",
            "28656|THOMPSON,  VERNA|SUPERVISING TRAFFIC CONTROL AIDE|OEMC|$55800.00\n",
            "28657|THOMPSON,  VERONICA R|LIBRARY PAGE|PUBLIC LIBRARY|$12407.20\n",
            "28658|THOMSEN,  ROBERT V|POLICE OFFICER|POLICE|$89718.00\n",
            "28659|THORNTON,  ACACIA M|LAW CLERK|BUSINESS AFFAIRS|$14071.20\n",
            "28660|THORNTON,  ARNAZ W|FOREMAN OF MOTOR TRUCK DRIVERS|STREETS & SAN|$75732.80\n",
            "28661|THORNTON,  CAROL I|PARAMEDIC|FIRE|$80778.00\n",
            "28662|THORNTON,  CHARLES C|FIREFIGHTER-EMT|FIRE|$85680.00\n",
            "28663|THORNTON,  JOHN L|POLICE OFFICER|POLICE|$83616.00\n",
            "28664|THORNTON,  JOHN W|ASST SPECIALIST IN AGING|FAMILY & SUPPORT|$73200.00\n",
            "28665|THORNTON,  MARCELLUS K|FIREFIGHTER-EMT|FIRE|$91764.00\n",
            "28666|THORNTON,  MAURICE D|POLICE OFFICER|POLICE|$92316.00\n",
            "28667|THORNTON,  NICHOLAS D|FIREFIGHTER-EMT|FIRE|$85680.00\n",
            "28668|THORNTON,  PATRICK A|PLUMBING INSPECTOR|BUILDINGS|$99252.00\n",
            "28669|THORNTON,  ROBERTA|CLERK IV|AVIATION|$66684.00\n",
            "28670|THORPE,  ROBERT M|POLICE OFFICER|POLICE|$92316.00\n",
            "28671|THORP,  KIMBERLY M|POLICE OFFICER|POLICE|$83616.00\n",
            "28672|THRASHER,  SHELDON|POLICE OFFICER|POLICE|$69684.00\n",
            "28673|THREATT,  DENISE R|WATER QUALITY INSPECTOR|WATER MGMNT|$60780.00\n",
            "28674|THREATT,  KEITH B|POLICE OFFICER|POLICE|$89718.00\n",
            "28675|THREATT,  RYENN V|TRAFFIC CONTROL AIDE-HOURLY|OEMC|$19656.00\n",
            "28676|THRIFT RHODES,  MARGRETTA C|ASST TO THE COMMISSIONER|FAMILY & SUPPORT|$106884.00\n",
            "28677|THROWER,  DERWIN K|SAFETY SPECIALIST|WATER MGMNT|$88968.00\n",
            "28678|THRUN,  JEFFREY S|PARAMEDIC I/C|FIRE|$87534.00\n",
            "28679|THUESTAD,  REBECCA A|POLICE OFFICER|POLICE|$80778.00\n",
            "28680|THUIS,  WILLIAM J|HOISTING ENGINEER|WATER MGMNT|$97968.00\n",
            "28681|THURBER,  DUANE R|LINEMAN|OEMC|$95888.04\n",
            "28682|THURMAN,  CLIFTON|POLICE OFFICER|POLICE|$83616.00\n",
            "28683|THURMAN,  NINA M|WARD SUPERINTENDENT|STREETS & SAN|$111996.00\n",
            "28684|THURMAN-SUGGS,  CALLIE|HOSPITALITY WORKER|FAMILY & SUPPORT|$9516.00\n",
            "28685|THURMOND,  EUGEINA L|CLERK IV|FINANCE|$63708.00\n",
            "28686|THURMOND,  HUGO E|POLICE OFFICER|POLICE|$83616.00\n",
            "28687|THURMOND,  SHELBYRNE D|POLICE OFFICER (PER ARBITRATION AWARD)|POLICE|$97044.00\n",
            "28688|TIBBITS JR,  GEORGE D|LIBRARIAN I|PUBLIC LIBRARY|$72840.00\n",
            "28689|TIBBS,  BEVERLY R|ADMINISTRATIVE ASST II|HEALTH|$55428.00\n",
            "28690|TIBBS,  EDWARD A|POLICE OFFICER|POLICE|$86520.00\n",
            "28691|TIBBS,  MICHAEL L|ASST COMMISSIONER|BUSINESS AFFAIRS|$78528.00\n",
            "28692|TIBERI JR,  ROBERT J|AMBULANCE COMMANDER|FIRE|$113232.00\n",
            "28693|TICEY,  DEBORAH D|ADMINISTRATIVE SERVICES OFFICER I|GENERAL SERVICES|$66684.00\n",
            "28694|TIEMA,  JACQUELINE|DIR OF PLANNING RESEARCH AND DEVELOPMENT|FAMILY & SUPPORT|$96768.00\n",
            "28695|TIERNEY,  BRIAN P|HOISTING ENGINEER|WATER MGMNT|$97968.00\n",
            "28696|TIERNEY,  CHRISTOPHER|HOISTING ENGINEER|TRANSPORTN|$97968.00\n",
            "28697|TIERNEY,  JOHN H|SERGEANT|POLICE|$103590.00\n",
            "28698|TIERNEY,  KERRY A|POLICE OFFICER|POLICE|$86520.00\n",
            "28699|TIESCH RAMIREZ,  JEANNINE M|LIBRARIAN I|PUBLIC LIBRARY|$72840.00\n",
            "28700|TIETZ,  ROBERT C|SERGEANT|POLICE|$103590.00\n",
            "28701|TIGER WILLIAMS,  LA VESHA N|YOUTH SERVICES COORD|POLICE|$80916.00\n",
            "28702|TIGGES,  KATHERINE E|LIBRARIAN I|PUBLIC LIBRARY|$53796.00\n",
            "28703|TIGGS,  LAKEISHA S|SENIOR DATA ENTRY OPERATOR|HEALTH|$55428.00\n",
            "28704|TIGNOR,  DARRYL B|WATER RATE TAKER|WATER MGMNT|$73908.00\n",
            "28705|TILLERY,  ANDRE D|POLICE OFFICER|POLICE|$83616.00\n",
            "28706|TILLERY,  ANIKIA L|PERSONAL COMPUTER OPERATOR II|TRANSPORTN|$50496.00\n",
            "28707|TILLIS,  ADRIENNE|TRAFFIC CONTROL AIDE-HOURLY|OEMC|$19656.00\n",
            "28708|TILLIS,  RENA L|FOSTER GRANDPARENT|FAMILY & SUPPORT|$2756.00\n",
            "28709|TILLIS-SWANSON,  YOLANDA|CROSSING GUARD - PER AGREEMENT|POLICE|$15069.60\n",
            "28710|TILLMAN,  DWAYNE E|SERVICE WRITER|GENERAL SERVICES|$67344.00\n",
            "28711|TILLMAN,  GWENDOLYN L|LEGAL SECRETARY|LAW|$76656.00\n",
            "28712|TILLMAN,  MICHAEL B|STOCKHANDLER|PUBLIC LIBRARY|$41952.00\n",
            "28713|TILLMAN,  ROBERT|SANITATION LABORER|STREETS & SAN|$72384.00\n",
            "28714|TILLMAN,  THOMAS J|POLICE OFFICER|POLICE|$86520.00\n",
            "28715|TILLMAN,  TILIA|INVESTIGATOR|CITY COUNCIL|$37998.00\n",
            "28716|TILLMON,  AMOS L|POLICE OFFICER|POLICE|$83616.00\n",
            "28717|TILLMON,  EBONIE C|POLICE OFFICER|POLICE|$65946.00\n",
            "28718|TILLOTSON,  ROBIN J|REGIONAL DIR - AGING|FAMILY & SUPPORT|$77280.00\n",
            "28719|TIMATYOS,  SOUAD D|STAFF ASST|COMMUNITY DEVELOPMENT|$69888.00\n",
            "28720|TIM,  JERAD|POLICE OFFICER|POLICE|$80778.00\n",
            "28721|TIMMEL,  MARK C|POLICE OFFICER|POLICE|$86520.00\n",
            "28722|TIMMERMAN,  SAMUEL E|POLICE OFFICER|POLICE|$83616.00\n",
            "28723|TIMMONS,  RUTH M|WATER CHEMIST II|WATER MGMNT|$80424.00\n",
            "28724|TIMMONS,  TIMOTHY D|POOL MOTOR TRUCK DRIVER|STREETS & SAN|$71780.80\n",
            "28725|TIMM,  RALPH E|CONSTRUCTION LABORER (SUB-FOREMAN)|WATER MGMNT|$80704.00\n",
            "28726|TIMMRECK,  FRED S|FIRE ENGINEER-EMT|FIRE|$99324.00\n",
            "28727|TIMOTHY,  LORI A|PARAMEDIC FIELD CHIEF|FIRE|$128004.00\n",
            "28728|TIMOTHY,  MICHAEL J|BATTALION CHIEF|FIRE|$135480.00\n",
            "28729|TIMRICK,  HUGH J|FIRE ENGINEER-EMT|FIRE|$102930.00\n",
            "28730|TINAJERO,  CARLOS|MACHINIST (AUTOMOTIVE)|GENERAL SERVICES|$92248.00\n",
            "28731|TINERELLA,  ANTHONY J|BUILDING/CONSTRUCTION INSPECTOR|BUILDINGS|$97596.00\n",
            "28732|TIRADO,  CHRISTIAN|GENERAL LABORER - DSS|STREETS & SAN|$40560.00\n",
            "28733|TIRADO,  EUGENIO|POLICE OFFICER|POLICE|$80778.00\n",
            "28734|TIRADO,  GLORIA A|POLICE OFFICER|POLICE|$86520.00\n",
            "28735|TIRADO,  JOSE M|SERGEANT|POLICE|$103590.00\n",
            "28736|TIRADO,  MARCO A|SERGEANT|POLICE|$103590.00\n",
            "28737|TIRADO,  MAURICIO|FIREFIGHTER-EMT|FIRE|$85680.00\n",
            "28738|TIRADO,  ROBERTO|POLICE OFFICER|POLICE|$89718.00\n",
            "28739|TISCH,  ANAT|LIBRARIAN II|PUBLIC LIBRARY|$80424.00\n",
            "28740|TITO,  CHRISTIAN M|POLICE OFFICER (ASSIGNED AS DETECTIVE)|POLICE|$97044.00\n",
            "28741|TITO,  JOSEPH P|FIRE MARSHAL|FIRE|$93594.00\n",
            "28742|TIWANA,  SHAH J|LIBRARIAN IV|PUBLIC LIBRARY|$95880.00\n",
            "28743|TIZURA,  MATTHEW T|FIREFIGHTER (PER ARBITRATORS AWARD)-PARAMEDIC|FIRE|$95058.00\n",
            "28744|TKACH,  VLADIMIR|SUPRVNG BUILDING/CONTRUCT INSPECTOR|BUILDINGS|$117528.00\n",
            "28745|TLAPA,  LISA M|POLICE OFFICER|POLICE|$86520.00\n",
            "28746|TLOCZEK,  KEVIN R|POLICE OFFICER|POLICE|$86520.00\n",
            "28747|TOBAR,  ANTHONY J|LIEUTENANT|FIRE|$106920.00\n",
            "28748|TOBAR,  CHRISTAL M|CROSSING GUARD|POLICE|$22131.20\n",
            "28749|TOBAR,  MARIE|SANITATION LABORER|STREETS & SAN|$72384.00\n",
            "28750|TOBAR,  MICHAEL E|CAPTAIN|FIRE|$123948.00\n",
            "28751|TOBAR,  VINCE J|MOTOR TRUCK DRIVER|STREETS & SAN|$71780.80\n",
            "28752|TOBIAS,  ADELA G|POLICE OFFICER|POLICE|$80778.00\n",
            "28753|TOBIAS,  BRIAN A|FIREFIGHTER/PARAMEDIC|FIRE|$90798.00\n",
            "28754|TOBIAS JR,  WALTER|ELECTRICAL MECHANIC (AUTOMOTIVE)|GENERAL SERVICES|$91520.00\n",
            "28755|TOBIN,  BRIAN E|FIREFIGHTER|FIRE|$90018.00\n",
            "28756|TOBIN,  KELLY C|POLICE OFFICER|POLICE|$86520.00\n",
            "28757|TOBIN,  MARY P|ASST CORPORATION COUNSEL SUPVSR|LAW|$98712.00\n",
            "28758|TOBIN,  RYNE|POLICE OFFICER|POLICE|$46206.00\n",
            "28759|TOCCO,  THOMAS R|MACHINIST (AUTOMOTIVE)|GENERAL SERVICES|$92248.00\n",
            "28760|TOCZEK,  JAMIE|POLICE OFFICER|POLICE|$83616.00\n",
            "28761|TODD,  BRYAN A|POOL MOTOR TRUCK DRIVER|STREETS & SAN|$16151.20\n",
            "28762|TODD,  DARRYL K|PLUMBING INSPECTOR|BUILDINGS|$99252.00\n",
            "28763|TODDE,  WILLIAM K|POLICE OFFICER|POLICE|$86520.00\n",
            "28764|TODD III,  DAVID|ELECTRICAL MECHANIC-AUTO-POLICE MTR MNT|GENERAL SERVICES|$91520.00\n",
            "28765|TODD,  MANGRUM A|LABORER|AVIATION|$67329.60\n",
            "28766|TODD,  MICHAEL J|HEALTH AND SAFETY ANALYST|GENERAL SERVICES|$62340.00\n",
            "28767|TODD,  ROBERT D|SR INFORMATION ANALYST-IGO|INSPECTOR GEN|$59796.00\n",
            "28768|TODD,  VICKI L|CLINICAL THERAPIST III|HEALTH|$95880.00\n",
            "28769|TODOROVICH,  MICHAEL|MACHINIST (AUTOMOTIVE)|GENERAL SERVICES|$92248.00\n",
            "28770|TOGAS,  LOIS M|PROOFREADER - CITY CLERK|CITY CLERK|$55428.00\n",
            "28771|TOJIN,  GERARDO A|MACHINIST (AUTOMOTIVE)|GENERAL SERVICES|$92248.00\n",
            "28772|TOJONG,  KENNETH L|POLICE OFFICER|POLICE|$89718.00\n",
            "28773|TOJONG,  LESTER Q|POLICE OFFICER|POLICE|$86520.00\n",
            "28774|TOKAR,  RICHARD W|ELEVATOR INSPECTOR|BUILDINGS|$116771.16\n",
            "28775|TOKARZ,  DALE R|PARAMEDIC|FIRE|$90018.00\n",
            "28776|TOKARZ,  JOYCE A|POLICE OFFICER|POLICE|$86520.00\n",
            "28777|TOKARZ,  MATHEW S|FIRE COMMUNICATIONS OPERATOR II|OEMC|$92004.00\n",
            "28778|TOKARZ,  STEVEN A|WEB DEVELOPER|DoIT|$79464.00\n",
            "28779|TOKARZ,  TRACI|POLICE OFFICER|POLICE|$86520.00\n",
            "28780|TOLAND,  BRIAN J|LABORER|AVIATION|$67329.60\n",
            "28781|TOLAR,  TIFFANY D|HEAD LIBRARY CLERK|PUBLIC LIBRARY|$52848.00\n",
            "28782|TOLBERT,  CHRISTOPH C|FIREFIGHTER-EMT|FIRE|$85680.00\n",
            "28783|TOLBERT,  DAVID|PLUMBING INSPECTOR|BUILDINGS|$99252.00\n",
            "28784|TOLBERT,  EVELYN D|FOSTER GRANDPARENT|FAMILY & SUPPORT|$2756.00\n",
            "28785|TOLBERT,  GARRY R|POOL MOTOR TRUCK DRIVER|STREETS & SAN|$14357.20\n",
            "28786|TOLBERT,  KELVIN|GARAGE ATTENDANT|GENERAL SERVICES|$46592.00\n",
            "28787|TOLBERT,  PHILLIP G|POOL MOTOR TRUCK DRIVER|STREETS & SAN|$71780.80\n",
            "28788|TOLBERT,  REDONIA|LIBRARY CLERK|PUBLIC LIBRARY|$41952.00\n",
            "28789|TOLBERT,  ROBERTA M|CROSSING GUARD|POLICE|$18324.80\n",
            "28790|TOLBERT,  SHILYNDA|CLINICAL THERAPIST III|HEALTH|$95880.00\n",
            "28791|TOLBERT,  TAMARA|SANITATION LABORER|STREETS & SAN|$72384.00\n",
            "28792|TOLBERT,  TERESA|POLICE OFFICER (ASSIGNED AS DETECTIVE)|POLICE|$99888.00\n",
            "28793|TOLBERT,  YVONNE A|SENIOR LIBRARY CLERK|PUBLIC LIBRARY|$55428.00\n",
            "28794|TOLEDO,  ABRAHAM E|GENERAL LABORER - DSS|STREETS & SAN|$43201.60\n",
            "28795|TOLEDO,  ALEJANDRO|POLICE OFFICER|POLICE|$83616.00\n",
            "28796|TOLEDO,  AMBAR X|POLICE OFFICER|POLICE|$80778.00\n",
            "28797|TOLEDO,  JACQUELINE D|ASST COMMISSIONER|HUMAN RESOURCES|$93912.00\n",
            "28798|TOLEDO,  PETER H|POLICE OFFICER|POLICE|$80778.00\n",
            "28799|TOLEDO,  RAMON|ASPHALT LABORER|TRANSPORTN|$79040.00\n",
            "28800|TOLIVER,  JANET A|POLICE OFFICER|POLICE|$89718.00\n",
            "28801|TOLIVER,  JASON M|POLICE OFFICER|POLICE|$80778.00\n",
            "28802|TOLIVER,  LEROY|POLICE OFFICER|POLICE|$89718.00\n",
            "28803|TOLLER,  MATTHEW N|POLICE OFFICER|POLICE|$80778.00\n",
            "28804|TOLLISON,  EUGENE|FIREFIGHTER/PARAMEDIC|FIRE|$71604.00\n",
            "28805|TOLLIVER,  ANTONIO|FIREFIGHTER-EMT|FIRE|$91764.00\n",
            "28806|TOLLIVER,  EBONEY D|STUDENT INTERN|TRANSPORTN|$21840.00\n",
            "28807|TOLLIVER,  WILLIAM H|POLICE OFFICER|POLICE|$89718.00\n",
            "28808|TOLSON,  DAVID I|SUPERVISING ENFORCEMENT TECH|FINANCE|$38172.00\n",
            "28809|TOLSON,  VALERIE F|FISCAL POLICY ANALYST|FINANCE|$80256.00\n",
            "28810|TOLSTON,  SHERYL R|COLLECTIONS REPRESENTATIVE|FINANCE|$58020.00\n",
            "28811|TOMA,  JACK|POLICE OFFICER|POLICE|$80778.00\n",
            "28812|TOMALIS JR,  FELIX R|POLICE OFFICER|POLICE|$86520.00\n",
            "28813|TOMA,  LUCAS|POLICE OFFICER|POLICE|$83616.00\n",
            "28814|TOMAN,  ANTHONY M|PARAMEDIC I/C|FIRE|$87534.00\n",
            "28815|TOMAN,  WILLIAM J|LIEUTENANT-EMT|FIRE|$117078.00\n",
            "28816|TOMASELLO,  DOMINICK A|HOISTING ENGINEER|TRANSPORTN|$97968.00\n",
            "28817|TOMASELLO,  MARIA|CHIEF CONTRACT EXPEDITER|TRANSPORTN|$54492.00\n",
            "28818|TOMASELLO,  MARIO|MOTOR TRUCK DRIVER|WATER MGMNT|$71780.80\n",
            "28819|TOMASIELLO,  MICHAEL|POLICE OFFICER|POLICE|$89718.00\n",
            "28820|TOMASO,  MICHAEL R|POLICE OFFICER|POLICE|$83616.00\n",
            "28821|TOMASSO,  JOHN J|HOISTING ENGINEER|WATER MGMNT|$97968.00\n",
            "28822|TOMASZEWSKI,  CHERYL L|PARAMEDIC FIELD CHIEF|FIRE|$128004.00\n",
            "28823|TOMASZEWSKI PELLEGRINI,  LOIS C|POLICE OFFICER (ASSIGNED AS DETECTIVE)|POLICE|$99888.00\n",
            "28824|TOMECEK,  CHRISTOPHER J|A/SUPRV REDISTRICTING|BOARD OF ELECTION|$45720.00\n",
            "28825|TOMENBANG,  EFREN F|CUSTODIAL WORKER|AVIATION|$34008.00\n",
            "28826|TOMESCU,  LIVIUS M|POLICE OFFICER|POLICE|$80778.00\n",
            "28827|TOMIELLO,  STEVEN|ASST CORPORATION COUNSEL SUPVSR|LAW|$86376.00\n",
            "28828|TOMINELLO,  JOHN R|MOTOR TRUCK DRIVER|TRANSPORTN|$71780.80\n",
            "28829|TOMKOW,  ARTUR|POLICE OFFICER|POLICE|$73296.00\n",
            "28830|TOMLINSON,  PAUL|POLICE OFFICER|POLICE|$89718.00\n",
            "28831|TOMLINSON,  REBECCA J|SUPERVISING CLERK|FINANCE|$80328.00\n",
            "28832|TOMS,  STACY M|POLICE OFFICER|POLICE|$80778.00\n",
            "28833|TONER,  JOSEPH D|POLICE OFFICER|POLICE|$80778.00\n",
            "28834|TONER,  PAUL J|SERGEANT|POLICE|$110370.00\n",
            "28835|TONER,  TERENCE N|STAFF ASST TO THE ALDERMAN|CITY COUNCIL|$59928.00\n",
            "28836|TONEY EDWARDS,  ALBERTA E|TRAFFIC CONTROL AIDE|OEMC|$61260.00\n",
            "28837|TONEY,  FRANKLIN|OPERATING ENGINEER-GROUP C|WATER MGMNT|$93745.60\n",
            "28838|TONEY,  FRANKLIN T|CUSTODIAL WORKER|AVIATION|$34008.00\n",
            "28839|TONEY,  PATRICIA A|ASST TO THE COMMISSIONER|GENERAL SERVICES|$80916.00\n",
            "28840|TONEY,  STEFFANIE|POLICE COMMUNICATIONS OPERATOR II|OEMC|$64188.00\n",
            "28841|TONG,  BOBBY W|POLICE OFFICER|POLICE|$86520.00\n",
            "28842|TONG,  SULAN|MANAGER OF AUDIT AND FINANCE|FINANCE|$85872.00\n",
            "28843|TONNE,  ANDREW C|STUDENT INTERN|CULTURAL AFFAIRS|$18200.00\n",
            "28844|TONNE,  JOHN T|FIREFIGHTER-EMT|FIRE|$95460.00\n",
            "28845|TONNE,  ROBERT T|LIEUTENANT-EMT|FIRE|$117078.00\n",
            "28846|TOOLIS,  RICHARD D|POLICE OFFICER|POLICE|$86520.00\n",
            "28847|TOOMEY,  EDWARD P|LIEUTENANT-EMT|FIRE|$117078.00\n",
            "28848|TOOMEY,  JAMES R|FIREFIGHTER|FIRE|$83616.00\n",
            "28849|TOPCZEWSKI,  BRYAN T|SERGEANT|POLICE|$103590.00\n",
            "28850|TOPCZEWSKI,  CHARLES J|MOTOR TRUCK DRIVER|AVIATION|$71780.80\n",
            "28851|TOP,  JACK W|FIRE ENGINEER-EMT|FIRE|$102930.00\n",
            "28852|TOPPEL,  DENNIS F|FIREFIGHTER|FIRE|$90018.00\n",
            "28853|TOPPING,  BRIAN M|MOTOR TRUCK DRIVER|STREETS & SAN|$71780.80\n",
            "28854|TOPPING,  NEAL J|HOISTING ENGINEER - MECHANIC|GENERAL SERVICES|$104208.00\n",
            "28855|TOPPINS,  MANUEL|FIREFIGHTER|FIRE|$90018.00\n",
            "28856|TOPPINS,  YOLANDA A|ADMINISTRATIVE ASST III|BUSINESS AFFAIRS|$69888.00\n",
            "28857|TOPPS,  DAVID P|ASST DISTRICT SUPERINTENDENT|WATER MGMNT|$103272.00\n",
            "28858|TOPPS,  MICHAEL J|SANITATION LABORER|STREETS & SAN|$72384.00\n",
            "28859|TOPP,  WILLIAM|POLICE OFFICER|POLICE|$69684.00\n",
            "28860|TOPUR,  AGNIESZKA K|POLICE OFFICER|POLICE|$83616.00\n",
            "28861|TORBICK,  PAUL J|POLICE OFFICER|POLICE|$83616.00\n",
            "28862|TOREN,  RAYMOND P|FORESTRY SUPVSR|STREETS & SAN|$93228.00\n",
            "28863|TORMEY,  KIMBERLY A|CROSSING GUARD|POLICE|$17492.80\n",
            "28864|TORNES,  CYNTHIA M|POLICE OFFICER|POLICE|$83616.00\n",
            "28865|TORNOW,  JOSEPH F|LINEMAN|TRANSPORTN|$95888.00\n",
            "28866|TORO,  ABRAHAM|LABORER - APPRENTICE|WATER MGMNT|$47424.00\n",
            "28867|TORO,  BENJAMIN|SIGN HANGER|TRANSPORTN|$65124.80\n",
            "28868|TORO,  MOISES B|TREE TRIMMER|STREETS & SAN|$74464.00\n",
            "28869|TORONYI,  SCOTT D|PARAMEDIC I/C|FIRE|$87534.00\n",
            "28870|TORRENCE,  THOMAS M|FIREFIGHTER|FIRE|$90018.00\n",
            "28871|TORRES,  ALBERT|POLICE OFFICER|POLICE|$73296.00\n",
            "28872|TORRES,  ALEJANDRO|TRAFFIC CONTROL AIDE-HOURLY|OEMC|$19656.00\n",
            "28873|TORRES,  ANACLETO|SANITATION LABORER|STREETS & SAN|$72384.00\n",
            "28874|TORRES,  ANGEL S|MOTOR TRUCK DRIVER|STREETS & SAN|$72862.40\n",
            "28875|TORRES,  ANTHONY|POLICE OFFICER|POLICE|$83616.00\n",
            "28876|TORRES,  ANTONIO C|REVENUE INVESTIGATOR II|BUSINESS AFFAIRS|$73200.00\n",
            "28877|TORRES,  ANTONIO O|POLICE OFFICER|POLICE|$86520.00\n",
            "28878|TORRES,  ARTURO|SERGEANT|POLICE|$103590.00\n",
            "28879|TORRES,  AUGUSTO C|POLICE OFFICER|POLICE|$92316.00\n",
            "28880|TORRES,  BEATRICE|AVIATION SECURITY OFFICER|AVIATION|$58476.00\n",
            "28881|TORRES,  BEN|POLICE OFFICER|POLICE|$86520.00\n",
            "28882|TORRES,  BETTY M|EXEC ADMINISTRATIVE ASST I|FIRE|$60408.00\n",
            "28883|TORRES,  CARLOS L|CONSTRUCTION LABORER|WATER MGMNT|$79040.00\n",
            "28884|TORRES,  CARMEN I|TRAINING OFFICER|POLICE|$96672.00\n",
            "28885|TORRES  CASTRO,  FELIPE|ARCHITECT IV|BUILDINGS|$104736.00\n",
            "28886|TORRES,  DANIEL|POLICE OFFICER|POLICE|$86520.00\n",
            "28887|TORRES,  DAVID|DETENTION AIDE|POLICE|$67212.00\n",
            "28888|TORRES,  DAVID B|ASPHALT FOREMAN|TRANSPORTN|$80912.00\n",
            "28889|TORRES,  EFRAIN|POLICE OFFICER|POLICE|$83616.00\n",
            "28890|TORRES,  ELIZABETH|POLICE OFFICER|POLICE|$69684.00\n",
            "28891|TORRES,  EMMANUEL|ANIMAL CARE CLERK - HOURLY|ANIMAL CONTRL|$22640.80\n",
            "28892|TORRES,  ERIC J|POLICE OFFICER (ASSIGNED AS DETECTIVE)|POLICE|$93648.00\n",
            "28893|TORRES,  ERNESTO|FIREFIGHTER|FIRE|$90018.00\n",
            "28894|TORRES,  ESMELIDA|SERGEANT|POLICE|$103590.00\n",
            "28895|TORRES,  FABIAN M|POLICE COMMUNICATIONS OPERATOR II|OEMC|$84792.00\n",
            "28896|TORRES,  GILBERTO|OPERATING ENGINEER-GROUP C|WATER MGMNT|$93745.60\n",
            "28897|TORRES GONZALEZ,  KATHERINE A|TRAINING OFFICER|POLICE|$80328.00\n",
            "28898|TORRES,  GRISELLE|PUBLIC HEALTH ADMINISTRATOR III|HEALTH|$80916.00\n",
            "28899|TORRES,  HECTOR|POOL MOTOR TRUCK DRIVER|STREETS & SAN|$16151.20\n",
            "28900|TORRES,  HECTOR R|FIREFIGHTER|FIRE|$93594.00\n",
            "28901|TORRES,  IRAIDA|POLICE OFFICER|POLICE|$86520.00\n",
            "28902|TORRES,  IRMA|INVESTIGATOR|GENERAL SERVICES|$67224.00\n",
            "28903|TORRES,  JACQUELINE|SENIOR LIBRARY CLERK|PUBLIC LIBRARY|$45972.00\n",
            "28904|TORRES,  JAIME M|POLICE OFFICER|POLICE|$86520.00\n",
            "28905|TORRES,  JAVIER|SPECIAL ASST|TRANSPORTN|$104772.00\n",
            "28906|TORRES,  JAYSON|POLICE OFFICER|POLICE|$80778.00\n",
            "28907|TORRES,  JOAQUIN|POOL MOTOR TRUCK DRIVER|STREETS & SAN|$64604.80\n",
            "28908|TORRES,  JORGE A|FIREFIGHTER-EMT|FIRE|$85680.00\n",
            "28909|TORRES,  JOSE|POLICE OFFICER|POLICE|$69684.00\n",
            "28910|TORRES,  JOSE E|POLICE OFFICER|POLICE|$86520.00\n",
            "28911|TORRES,  JOSE F|ASST CHIEF AIRPORT OPERATIONS SUPVSR|AVIATION|$107124.00\n",
            "28912|TORRES,  JOSE J|POLICE OFFICER|POLICE|$80778.00\n",
            "28913|TORRES,  JOSE M|POLICE OFFICER|POLICE|$86520.00\n",
            "28914|TORRES,  JOSE M|POLICE OFFICER|POLICE|$83616.00\n",
            "28915|TORRES,  JOSEPH S|SANITATION LABORER|STREETS & SAN|$72384.00\n",
            "28916|TORRES JR,  AGUSTIN|POLICE OFFICER|POLICE|$83616.00\n",
            "28917|TORRES JR,  GUSTAVO|POLICE OFFICER|POLICE|$83616.00\n",
            "28918|TORRES JR,  WILFREDO|SERGEANT|POLICE|$103590.00\n",
            "28919|TORRES JR,  WILSON|POLICE OFFICER|POLICE|$86520.00\n",
            "28920|TORRES,  JUAN E|PARAMEDIC I/C|FIRE|$93648.00\n",
            "28921|TORRES,  LISA|POLICE OFFICER|POLICE|$69684.00\n",
            "28922|TORRES,  LOUIS A|MOTOR TRUCK DRIVER|GENERAL SERVICES|$71780.80\n",
            "28923|TORRES,  LOUIS M|POLICE OFFICER|POLICE|$80778.00\n",
            "28924|TORRES,  LYDIA E|CROSSING GUARD|POLICE|$16692.00\n",
            "28925|TORRES,  MANUEL|GENERAL LABORER - DSS|STREETS & SAN|$43201.60\n",
            "28926|TORRES,  MARCO|POLICE OFFICER|POLICE|$80778.00\n",
            "28927|TORRES,  MARK A|GENERAL LABORER - DSS|STREETS & SAN|$43201.60\n",
            "28928|TORRES,  MICHAEL A|OPERATING ENGINEER-GROUP A|WATER MGMNT|$98675.20\n",
            "28929|TORRES,  MICHAEL E|POLICE OFFICER|POLICE|$83616.00\n",
            "28930|TORRES,  MICHAEL M|FIREFIGHTER/PARAMEDIC|FIRE|$87720.00\n",
            "28931|TORRES,  MICHAEL P|CONSTRUCTION LABORER|WATER MGMNT|$79040.00\n",
            "28932|TORRES,  MICHAEL W|ENGINEERING TECHNICIAN V|WATER MGMNT|$96672.00\n",
            "28933|TORRES,  MIGUEL A|POLICE OFFICER / FLD TRNG OFFICER|POLICE|$87780.00\n",
            "28934|TORRES MILLAN,  MARITZA|POLICE OFFICER|POLICE|$69684.00\n",
            "28935|TORRES,  NANCY|SENIOR LIBRARY CLERK|PUBLIC LIBRARY|$45972.00\n",
            "28936|TORRES,  NISSA J|POLICE OFFICER|POLICE|$83616.00\n",
            "28937|TORRES,  NOEL|POLICE OFFICER|POLICE|$83616.00\n",
            "28938|TORRES,  ODILIO|AVIATION SECURITY OFFICER|AVIATION|$61260.00\n",
            "28939|TORRES,  OSCAR|POLICE OFFICER|POLICE|$69684.00\n",
            "28940|TORRES,  OSCAR|POLICE COMMUNICATIONS OPERATOR II|OEMC|$77220.00\n",
            "28941|TORRES,  PETER|POLICE OFFICER (ASSIGNED AS DETECTIVE)|POLICE|$93648.00\n",
            "28942|TORRES,  RAUL|POLICE OFFICER|POLICE|$69684.00\n",
            "28943|TORRES,  RICARDO|POLICE OFFICER|POLICE|$46206.00\n",
            "28944|TORRES,  RICARDO|POLICE OFFICER|POLICE|$46206.00\n",
            "28945|TORRES RICE,  GABRIELA|FIELD PAYROLL AUDITOR|FIRE|$64308.00\n",
            "28946|TORRES,  ROBERT|POLICE OFFICER|POLICE|$80778.00\n",
            "28947|TORRES,  ROBERTO|FIREFIGHTER (PER ARBITRATORS AWARD)-PARAMEDIC|FIRE|$105384.00\n",
            "28948|TORRES,  ROMAN A|POLICE OFFICER|POLICE|$83616.00\n",
            "28949|TORRES,  ROSE A|SR SUPERVISOR-ELECTIONS|BOARD OF ELECTION|$94932.00\n",
            "28950|TORRES,  ROSE MARIE|CLINICAL THERAPIST III|HEALTH|$95880.00\n",
            "28951|TORRES,  ROY|POLICE OFFICER|POLICE|$92316.00\n",
            "28952|TORRES,  SOFIA|SENIOR PERSONNEL ASSISTANT|HEALTH|$66684.00\n",
            "28953|TORRES,  STEVEN S|ELECTRICAL MECHANIC|AVIATION|$91520.00\n",
            "28954|TORRES,  THERESA M|POLICE OFFICER|POLICE|$89718.00\n",
            "28955|TORRES,  THOMAS E|POLICE OFFICER|POLICE|$92316.00\n",
            "28956|TORRES,  TOMAS|FIREFIGHTER|FIRE|$65946.00\n",
            "28957|TORRES,  VINCENT A|POLICE OFFICER|POLICE|$86520.00\n",
            "28958|TORRES,  WANDA I|SERGEANT|POLICE|$106920.00\n",
            "28959|TORRES,  WILSON|CONSTRUCTION LABORER|WATER MGMNT|$79040.00\n",
            "28960|TORREZ,  ANNA|CROSSING GUARD|POLICE|$17492.80\n",
            "28961|TORREZ,  JESSIE|CONSTRUCTION LABORER|WATER MGMNT|$79040.00\n",
            "28962|TORRISE,  DANIEL S|CAPTAIN-EMT|FIRE|$127566.00\n",
            "28963|TORTOLERO,  CARLOS C|CULTURAL AFFAIRS COORD II|CULTURAL AFFAIRS|$62640.00\n",
            "28964|TORTORELLO,  PATRICK M|FIREFIGHTER-EMT|FIRE|$85680.00\n",
            "28965|TORTORELLO,  ROBERT J|FIRE ENGINEER-EMT|FIRE|$102930.00\n",
            "28966|TORTORICE,  PETER P|REFUSE COLLECTION COORD|STREETS & SAN|$97596.00\n",
            "28967|TOSCANO,  DENISSE|PARAMEDIC|FIRE|$54114.00\n",
            "28968|TOTH,  LOU|POLICE OFFICER|POLICE|$83616.00\n",
            "28969|TOTTAS,  CHRISTOS T|POLICE OFFICER|POLICE|$80778.00\n",
            "28970|TOUSANT,  LISA L|INTAKE AIDE|IPRA|$63708.00\n",
            "28971|TOVAR,  CAROLYN Y|POLICE OFFICER|POLICE|$89718.00\n",
            "28972|TOVAR,  JESUS|WATCHMAN|GENERAL SERVICES|$43950.40\n",
            "28973|TOVAR,  MELISSA|POLICE OFFICER|POLICE|$83616.00\n",
            "28974|TOVAR,  RIGOBERTO|POLICE OFFICER|POLICE|$80778.00\n",
            "28975|TOVAR,  ROBERT A|MOTOR TRUCK DRIVER|STREETS & SAN|$72862.40\n",
            "28976|TOVAR,  SAMANTHA|POLICE OFFICER|POLICE|$69684.00\n",
            "28977|TOVEY,  MARK A|ELECTRICAL MECHANIC (AUTOMOTIVE)|GENERAL SERVICES|$91520.00\n",
            "28978|TOW,  BERENICE|PUBLIC HEALTH ADMINISTRATOR III|HEALTH|$77280.00\n",
            "28979|TOWERS,  BRIAN K|FIREFIGHTER|FIRE|$90018.00\n",
            "28980|TOWERS,  CLAUDETTE|OPERATING ENGINEER-GROUP A|GENERAL SERVICES|$98675.20\n",
            "28981|TOWEY,  BRIAN F|POLICE OFFICER/EXPLSV DETECT K9 HNDLR|POLICE|$90846.00\n",
            "28982|TOWEY,  JAMES J|AVIATION SECURITY OFFICER - HOURLY|AVIATION|$22120.80\n",
            "28983|TOWEY,  JOHN J|POLICE OFFICER|POLICE|$86520.00\n",
            "28984|TOWN,  BRIAN P|POLICE OFFICER|POLICE|$83616.00\n",
            "28985|TOWN,  DANIEL P|POLICE OFFICER|POLICE|$83616.00\n",
            "28986|TOWN,  DAVID M|FIREFIGHTER-EMT|FIRE|$88680.00\n",
            "28987|TOWNE,  GEORGE|HOUSE DRAIN INSPECTOR|WATER MGMNT|$99252.00\n",
            "28988|TOWNS,  AUDREYE E|AVIATION SECURITY OFFICER|AVIATION|$80940.00\n",
            "28989|TOWNSELL,  STEPHANIE J|PROGRAM DIR|HEALTH|$73020.00\n",
            "28990|TOWNSELL,  WILLIAM H|ASST DIR|POLICE|$76980.00\n",
            "28991|TOWNSEND,  ALPHONSO|POLICE OFFICER|POLICE|$89718.00\n",
            "28992|TOWNSEND,  ARLANZA|DETENTION AIDE|POLICE|$58476.00\n",
            "28993|TOWNSEND-BALDWIN,  MARY E|FINANCE OFFICER|HEALTH|$72120.00\n",
            "28994|TOWNSEND,  CYNICA M|POLICE COMMUNICATIONS OPERATOR I|OEMC|$51216.00\n",
            "28995|TOWNSEND,  DONNIE|CROSSING GUARD - PER AGREEMENT|POLICE|$16484.00\n",
            "28996|TOWNSEND,  GREGORY C|POLICE OFFICER|POLICE|$86520.00\n",
            "28997|TOWNSEND,  HATTIE L|TRAFFIC CONTROL AIDE|OEMC|$61260.00\n",
            "28998|TOWNSEND JR,  MILTON|TREE TRIMMER|STREETS & SAN|$74464.00\n",
            "28999|TOWNSEND JR,  ROSCOE D|POLICE OFFICER|POLICE|$83616.00\n",
            "29000|TOWNSEND,  JUDY J|PARAMEDIC I/C|FIRE|$99888.00\n",
            "29001|TOWNSEND,  MARIA A|SUPVSR OF PAYMENT CENTER|CITY CLERK|$88812.00\n",
            "29002|TOWNSEND,  MARK L|DEPUTY DISTRICT CHIEF|FIRE|$156360.00\n",
            "29003|TOWNSEND,  MICHAEL B|OPERATING ENGINEER-GROUP C|WATER MGMNT|$93745.60\n",
            "29004|TOWNSEND,  OFELIA A|AVIATION COMMUNICATIONS OPERATOR|OEMC|$53628.00\n",
            "29005|TOWNSEND,  ROBERT L|CUSTODIAL WORKER|AVIATION|$42369.60\n",
            "29006|TOWNSEND,  SANDRA|SANITATION CLERK|STREETS & SAN|$67344.00\n",
            "29007|TOWNSEND,  SHELLEY D|POLICE OFFICER|POLICE|$86520.00\n",
            "29008|TOWNSEND,  TIFFANY L|DISTRICT CLERK|WATER MGMNT|$48156.00\n",
            "29009|TOWNS,  MARY L|TRAFFIC CONTROL AIDE-HOURLY|OEMC|$19656.00\n",
            "29010|TRAAN,  GUAM V|POLICE OFFICER|POLICE|$86520.00\n",
            "29011|TRACEY,  KRISTIN M|POLICE OFFICER|POLICE|$83616.00\n",
            "29012|TRACY,  BRIAN J|HOISTING ENGINEER - MECHANIC|GENERAL SERVICES|$104208.00\n",
            "29013|TRACY,  DWAYNE E|FIRE ENGINEER-PARAMEDIC|FIRE|$108462.00\n",
            "29014|TRACY III,  JAMES T|FIRE ENGINEER|FIRE|$93648.00\n",
            "29015|TRACY,  JAMES|PAYMENT SERVICES REPRESENTATIVE|FINANCE|$36516.00\n",
            "29016|TRACY,  JEFFERY S|FIRE ENGINEER|FIRE|$99888.00\n",
            "29017|TRACY,  JOSEPH L|POLICE OFFICER|POLICE|$83616.00\n",
            "29018|TRACY,  KIMBERLY L|POLICE COMMUNICATIONS OPERATOR II|OEMC|$70404.00\n",
            "29019|TRACY,  MARIA G|POLICE COMMUNICATIONS OPERATOR II|OEMC|$77220.00\n",
            "29020|TRACY,  MICHAEL J|ELECTRICAL MECHANIC|TRANSPORTN|$91520.00\n",
            "29021|TRACY,  MICHAEL J|POLICE COMMUNICATIONS OPERATOR II|OEMC|$73764.00\n",
            "29022|TRACY,  PATRICK D|POLICE OFFICER|POLICE|$80778.00\n",
            "29023|TRACY,  PATRICK K|AVIATION SECURITY OFFICER|AVIATION|$70404.00\n",
            "29024|TRACY,  RAYMOND J|POLICE OFFICER|POLICE|$83616.00\n",
            "29025|TRACY,  ROBERT J|CHIEF|POLICE|$194256.00\n",
            "29026|TRACY,  ROBERT W|FIREFIGHTER-EMT|FIRE|$85680.00\n",
            "29027|TRACY,  TIMOTHY J|ELECTRICAL MECHANIC (AUTOMOTIVE)|GENERAL SERVICES|$91520.00\n",
            "29028|TRACY,  YAZMIN K|FIREFIGHTER (PER ARBITRATORS AWARD)-PARAMEDIC|FIRE|$98244.00\n",
            "29029|TRAGOS,  THOMAS J|CAPTAIN|FIRE|$123948.00\n",
            "29030|TRAHANAS,  PENELOPE J|CAPTAIN|POLICE|$134820.00\n",
            "29031|TRAILOR,  CHRISTOPHER T|MOTOR TRUCK DRIVER|AVIATION|$71780.80\n",
            "29032|TRAINER,  SCOTT T|STREET LIGHT REPAIR WORKER|TRANSPORTN|$95888.04\n",
            "29033|TRAINOR,  DEBORAH M|POOL MOTOR TRUCK DRIVER|STREETS & SAN|$71780.80\n",
            "29034|TRAINOR,  NICOLE C|POLICE OFFICER|POLICE|$80778.00\n",
            "29035|TRAKES,  DANIEL|POLICE OFFICER|POLICE|$73296.00\n",
            "29036|TRAMIL,  ANTHONY K|LIEUTENANT|FIRE|$110370.00\n",
            "29037|TRAMIL,  DIANA|PERSONAL COMPUTER OPERATOR I|POLICE|$55428.00\n",
            "29038|TRAMPAS,  JOSEPH N|FIREFIGHTER-EMT|FIRE|$85680.00\n",
            "29039|TRAMPAS,  PAULA M|POLICE COMMUNICATIONS OPERATOR II|OEMC|$73764.00\n",
            "29040|TRAN,  CUONG Q|COMPUTER APPL ANALYST II-ELECTIONS|BOARD OF ELECTION|$74064.00\n",
            "29041|TRAN,  KHANH B|ACCOUNTANT I|FINANCE|$72840.00\n",
            "29042|TRAN,  MY L|LIBRARIAN II|PUBLIC LIBRARY|$75840.00\n",
            "29043|TRAN,  PHUONG|POLICE OFFICER|POLICE|$46206.00\n",
            "29044|TRAN,  TIEN K|A/MGR OF MIS-ELECTIONS|BOARD OF ELECTION|$94932.00\n",
            "29045|TRAN,  TRANG M|COMPUTER APPL ANALYST I-ELECTIONS|BOARD OF ELECTION|$46860.00\n",
            "29046|TRAN,  TRINH T|SENIOR CLERK-ELECTIONS|BOARD OF ELECTION|$50472.00\n",
            "29047|TRAN,  TRONGPHUC L|ACCOUNTANT III|PUBLIC LIBRARY|$87912.00\n",
            "29048|TRAN,  VIVIAN|DATA ENTRY OPERATOR|POLICE|$41952.00\n",
            "29049|TRAPALIS,  ANTHONY|POLICE OFFICER|POLICE|$86520.00\n",
            "29050|TRAPP,  JERMIRA L|POLICE OFFICER|POLICE|$80778.00\n",
            "29051|TRASK,  CLINTON|GARAGE ATTENDANT|GENERAL SERVICES|$46592.00\n",
            "29052|TRASK,  LOUISE|LIBRARY PAGE|PUBLIC LIBRARY|$12407.20\n",
            "29053|TRASK,  TASHA L|PUBLIC HEALTH ADMINISTRATOR I|HEALTH|$66684.00\n",
            "29054|TRAVERS,  LAWRENCE G|ASST CHIEF OPERATING ENGINEER|AVIATION|$108534.40\n",
            "29055|TRAVERSO,  CRUCITA|COURT FILE CLERK|LAW|$60780.00\n",
            "29056|TRAVERSO,  LIDIO M|POLICE OFFICER|POLICE|$86520.00\n",
            "29057|TRAVIS,  ALBERT A|SANITATION LABORER|STREETS & SAN|$72384.00\n",
            "29058|TRAVIS,  ANTHONY|SENIOR AIR MASK TECHNICIAN|FIRE|$84888.00\n",
            "29059|TRAVIS COOK,  LESLIE R|WATER RATE TAKER|WATER MGMNT|$77400.00\n",
            "29060|TRAVIS,  MESSIAH V|COOLING PLANT INSPECTOR|BUILDINGS|$97760.04\n",
            "29061|TRAVIS,  PHILLIP M|POLICE OFFICER|POLICE|$89718.00\n",
            "29062|TRAVLOS,  ANGELO|POLICE OFFICER|POLICE|$83616.00\n",
            "29063|TRAYLOR,  ADAM J|FIREFIGHTER/PARAMEDIC|FIRE|$90798.00\n",
            "29064|TRAYLOR,  BARBARA A|POLICE OFFICER|POLICE|$89718.00\n",
            "29065|TRAYLOR,  KENSHIRA|POLICE OFFICER|POLICE|$86520.00\n",
            "29066|TRAYLOR,  MAT|FIREFIGHTER-EMT|FIRE|$85680.00\n",
            "29067|TRAYNOR,  CHRIS J|POLICE OFFICER|POLICE|$89718.00\n",
            "29068|TRAYVILLA,  ISABELITO|STORES LABORER|TRANSPORTN|$79040.00\n",
            "29069|TRBOVIC,  MARKO|POLICE OFFICER|POLICE|$69684.00\n",
            "29070|TRBOVIC,  MILAN|POLICE OFFICER|POLICE|$80778.00\n",
            "29071|TREACY,  BRIAN J|POLICE OFFICER|POLICE|$83616.00\n",
            "29072|TREACY,  JOSEPH J|POLICE OFFICER|POLICE|$80778.00\n",
            "29073|TREADWELL,  LUTHER J|ELECTRICAL MECHANIC|WATER MGMNT|$91520.00\n",
            "29074|TREDER,  PAUL R|MOTOR TRUCK DRIVER|STREETS & SAN|$72862.40\n",
            "29075|TREJO,  DAVID|BUILDING/CONSTRUCTION INSPECTOR|BUILDINGS|$88968.00\n",
            "29076|TREMORE,  EDWIN E|POLICE OFFICER|POLICE|$86520.00\n",
            "29077|TRENDLE,  CHUCK A|POLICE OFFICER|POLICE|$86520.00\n",
            "29078|TRENT,  ELAINE|PARKING ENFORCEMENT AIDE|FINANCE|$48540.00\n",
            "29079|TRENT,  GEORGE M|MOTOR TRUCK DRIVER|STREETS & SAN|$71780.80\n",
            "29080|TRENT,  LAVEL|MOTOR TRUCK DRIVER|STREETS & SAN|$71780.80\n",
            "29081|TRENTZ,  CHARLES D|MOTOR TRUCK DRIVER|STREETS & SAN|$71780.80\n",
            "29082|TRENTZ,  DONALD J|PAINTER|STREETS & SAN|$86840.00\n",
            "29083|TREPELAS,  MICHAEL C|SERGEANT|POLICE|$106920.00\n",
            "29084|TRESCH,  MICHAEL T|FIRE ENGINEER-EMT|FIRE|$99324.00\n",
            "29085|TREVINO,  ANTONIO|POLICE OFFICER|POLICE|$86520.00\n",
            "29086|TREVINO DUFFY,  NORMA|POLICE OFFICER|POLICE|$73296.00\n",
            "29087|TREVINO,  IMELDA M|TRAFFIC CONTROL AIDE-HOURLY|OEMC|$19656.00\n",
            "29088|TREVINO,  JAMES C|FIRE ENGINEER-EMT|FIRE|$102930.00\n",
            "29089|TREVINO,  JOSE A|WATCHMAN|GENERAL SERVICES|$43950.40\n",
            "29090|TREVINO JR,  HERIBERTO|POLICE OFFICER|POLICE|$86520.00\n",
            "29091|TREVINO,  JUAN L|FIELD SERVICE SPECIALIST III|TRANSPORTN|$81108.00\n",
            "29092|TREVINO,  LEE|POLICE OFFICER|POLICE|$83616.00\n",
            "29093|TREVINO,  MICHELLE|STAFF ASST|TRANSPORTN|$69888.00\n",
            "29094|TREZEK,  WILLIAM F|LIEUTENANT|FIRE|$106920.00\n",
            "29095|TRIANTAFILLO,  GEORGE|POLICE OFFICER (ASSIGNED AS DETECTIVE)|POLICE|$97044.00\n",
            "29096|TRIANTAFILLO,  JAMES P|SERGEANT|POLICE|$100440.00\n",
            "29097|TRIBBLE,  KAREN D|STAFF ASST|WATER MGMNT|$60168.00\n",
            "29098|TRIBETT,  ANGELIQUE V|SENIOR DATA ENTRY OPERATOR|POLICE|$58020.00\n",
            "29099|TRIBETT,  YOLANDA L|SUPVSR OF DATA ENTRY OPERATORS|POLICE|$73200.00\n",
            "29100|TRICE,  NANCY L|CROSSING GUARD - PER AGREEMENT|POLICE|$16484.00\n",
            "29101|TRICE,  RENE A|TRAFFIC CONTROL AIDE-HOURLY|OEMC|$19656.00\n",
            "29102|TRICE,  YOHANCE O|LIBRARY CLERK|PUBLIC LIBRARY|$41952.00\n",
            "29103|TRICHE,  LINDA|TIMEKEEPER - CPD|POLICE|$66684.00\n",
            "29104|TRICK,  JOHN C|PROGRAM DIRECTOR SPECIAL EVENTS|CULTURAL AFFAIRS|$99696.00\n",
            "29105|TRIER,  CONRAD J|REFUSE COLLECTION COORD|STREETS & SAN|$84888.00\n",
            "29106|TRIEU,  HOA N|PRINCIPAL DATA BASE ANALYST|DoIT|$102024.00\n",
            "29107|TRIGGIANI,  DANIEL R|PARAMEDIC|FIRE|$54114.00\n",
            "29108|TRIGO,  ALFREDO C|FIREFIGHTER (PER ARBITRATORS AWARD)-PARAMEDIC|FIRE|$108462.00\n",
            "29109|TRINH,  LAM T|POLICE OFFICER|POLICE|$80778.00\n",
            "29110|TRINIDAD,  ANTONIO|LIEUTENANT|FIRE|$110370.00\n",
            "29111|TRINIDAD,  DAVID|POLICE OFFICER|POLICE|$92316.00\n",
            "29112|TRINIDAD,  JAMES|CAPTAIN-PARAMEDIC|FIRE|$134592.00\n",
            "29113|TRIPAMER,  ROBERT T|FIREFIGHTER-EMT|FIRE|$85680.00\n",
            "29114|TRIPLETT,  CAROL|CLERK - BD OF ELECTIONS|BOARD OF ELECTION|$29328.00\n",
            "29115|TRIPLETT,  LAFAYETTE|POLICE OFFICER|POLICE|$83616.00\n",
            "29116|TRIPLETTWILLIAMS,  VANESSA M|SENIOR PROGRAMMER/ANALYST|DoIT|$104736.00\n",
            "29117|TRIPOLI,  JOSEPH A|POLICE OFFICER (ASSIGNED AS DETECTIVE)|POLICE|$97044.00\n",
            "29118|TRIPPIEDI,  JOSEPH|POOL MOTOR TRUCK DRIVER|AVIATION|$71780.80\n",
            "29119|TRIPPLET,  CHARIS|ASST TO THE ALDERMAN|CITY COUNCIL|$87552.00\n",
            "29120|TRIPP,  SHERRY L|POLICE OFFICER|POLICE|$69684.00\n",
            "29121|TRIPP,  THESSALONI D|PERSONAL COMPUTER OPERATOR I|POLICE|$48168.00\n",
            "29122|TRIPTOW,  SCOTT W|FIREFIGHTER|FIRE|$86520.00\n",
            "29123|TRLAK,  ROBERT T|SERGEANT|POLICE|$110370.00\n",
            "29124|TROBIANI,  MICHAEL A|POLICE OFFICER|POLICE|$83616.00\n",
            "29125|TROCHE,  DENISE S|POLICE OFFICER (ASSIGNED AS DETECTIVE)|POLICE|$93648.00\n",
            "29126|TROCHE,  RANDY D|POLICE OFFICER (ASSIGNED AS DETECTIVE)|POLICE|$99888.00\n",
            "29127|TROCHE-VARGAS,  JOSE|POLICE OFFICER|POLICE|$69684.00\n",
            "29128|TROGLIA,  GERALD R|SERGEANT|POLICE|$100440.00\n",
            "29129|TROGLIA,  JEFFREY T|POLICE OFFICER|POLICE|$80778.00\n",
            "29130|TROJANEK,  RICHARD J|SENIOR EMERGENCY MANAGEMENT COORD|HEALTH|$72468.00\n",
            "29131|TROKEN,  ERIC V|FIREFIGHTER-EMT|FIRE|$88680.00\n",
            "29132|TROLLINGER,  JOHNNIE M|LIBRARIAN II|PUBLIC LIBRARY|$80424.00\n",
            "29133|TROOGSTAD,  SCOTT M|LIEUTENANT-EMT|FIRE|$109872.00\n",
            "29134|TROPPER,  EVA-MARIE|COORD OF ECON DEV II - PLNG & DEV|COMMUNITY DEVELOPMENT|$80916.00\n",
            "29135|TROST,  DANIEL M|POLICE OFFICER|POLICE|$86520.00\n",
            "29136|TROST,  KENNETH D|FIREFIGHTER/PARAMEDIC|FIRE|$87720.00\n",
            "29137|TROST,  MARK A|POLICE OFFICER|POLICE|$89718.00\n",
            "29138|TROTMAN,  ROBERT M|POLICE OFFICER (ASSIGNED AS DETECTIVE)|POLICE|$93648.00\n",
            "29139|TROTTA,  CARMEN A|OPERATING ENGINEER-GROUP A|GENERAL SERVICES|$98675.20\n",
            "29140|TROTTER,  KENNETH A|LIEUTENANT|FIRE|$106920.00\n",
            "29141|TROTTER,  PHILLIP|FIREFIGHTER/PARAMEDIC|FIRE|$87720.00\n",
            "29142|TROTTER,  ROBERT E|POLICE OFFICER|POLICE|$83616.00\n",
            "29143|TROTTER,  SHANNON K|ASST CORPORATION COUNSEL SUPVSR|LAW|$84864.00\n",
            "29144|TROTTER,  WENDELL G|POLICE OFFICER (ASSIGNED AS DETECTIVE)|POLICE|$99888.00\n",
            "29145|TROTTI,  JOSEPH M|LABORER|AVIATION|$67329.60\n",
            "29146|TROUPE,  RONALD|POLICE OFFICER|POLICE|$80778.00\n",
            "29147|TROUTMAN,  IRIS L|PROJECT COORD|GENERAL SERVICES|$73752.00\n",
            "29148|TROUTMAN,  JEFFREY L|POLICE OFFICER|POLICE|$83616.00\n",
            "29149|TRUDELL,  CAROLINA|CROSSING GUARD|POLICE|$18324.80\n",
            "29150|TRUEBA,  JESSIE A|FIREFIGHTER|FIRE|$93594.00\n",
            "29151|TRUESDALE,  DANIEL A|FIREFIGHTER-EMT|FIRE|$99258.00\n",
            "29152|TRUESDALE,  SAMUEL K|POLICE OFFICER|POLICE|$80778.00\n",
            "29153|TRUEVILLIAN,  ROBERT|PARAMEDIC I/C|FIRE|$90456.00\n",
            "29154|TRUHLAR,  JEFF L|SERGEANT|POLICE|$110370.00\n",
            "29155|TRUITT,  TERRY A|AVIATION SECURITY OFFICER|AVIATION|$73764.00\n",
            "29156|TRUITT,  YVONNE|CROSSING GUARD|POLICE|$20092.80\n",
            "29157|TRUJILLO,  ALFREDO N|SANITATION LABORER|STREETS & SAN|$72384.00\n",
            "29158|TRUJILLO,  AMERICO|LIEUTENANT-EMT|FIRE|$113400.00\n",
            "29159|TRUJILLO,  CAMILO A|PRINCIPAL PROGRAMMER/ANALYST|INSPECTOR GEN|$83352.00\n",
            "29160|TRUJILLO,  ESTEBAN P|POLICE OFFICER|POLICE|$83616.00\n",
            "29161|TRYBAN TELSER,  ESTHER E|ASST CORPORATION COUNSEL SUPVSR|LAW|$102492.00\n",
            "29162|TRYLOVICH,  MARK D|PLUMBER|WATER MGMNT|$97032.00\n",
            "29163|TRZASKOWSKI,  STEVEN L|POOL MOTOR TRUCK DRIVER|STREETS & SAN|$71780.80\n",
            "29164|TRZEPACZ,  JENIFER A|LEGAL SECRETARY|LAW|$73200.00\n",
            "29165|TSAOUSSIS,  SOLON P|ADMINISTRATIVE SERVICES OFFICER I|POLICE|$76656.00\n",
            "29166|TSOKOLAS,  ANGELO|FIREFIGHTER/PARAMEDIC|FIRE|$87720.00\n",
            "29167|TSOUKALAS,  CHRIST T|SERGEANT|POLICE|$106920.00\n",
            "29168|TSOUKALAS,  HELANA S|POLICE OFFICER|POLICE|$80778.00\n",
            "29169|TSUCHIYAMA,  GARY|PROJECT MANAGER - DOIT|DoIT|$82524.00\n",
            "29170|TUBBS,  DOUGLAS M|MOTOR TRUCK DRIVER|TRANSPORTN|$71780.80\n",
            "29171|TUBBS,  MELYNDA D|TRAFFIC CONTROL AIDE-HOURLY|OEMC|$19656.00\n",
            "29172|TUBBS,  OTIS|MACHINIST (AUTOMOTIVE)|GENERAL SERVICES|$92248.00\n",
            "29173|TUCHARSKI,  KONRAD|SEWER BRICKLAYER|WATER MGMNT|$88566.40\n",
            "29174|TUCKER,  BRAD O|POLICE OFFICER|POLICE|$86520.00\n",
            "29175|TUCKER,  BRIAN J|POLICE OFFICER|POLICE|$86520.00\n",
            "29176|TUCKER,  DEBORAH L|SUPERVISING SANITARIAN|HEALTH|$88812.00\n",
            "29177|TUCKER,  HOWARD E|TRAFFIC CONTROL AIDE-HOURLY|OEMC|$19656.00\n",
            "29178|TUCKER,  JAMES L|POLICE OFFICER|POLICE|$83616.00\n",
            "29179|TUCKER,  JASMINE L|POLICE OFFICER|POLICE|$80778.00\n",
            "29180|TUCKER,  KIM L|POLICE COMMUNICATIONS OPERATOR II|OEMC|$77220.00\n",
            "29181|TUCKER,  MANDY|POLICE OFFICER|POLICE|$46206.00\n",
            "29182|TUCKER,  MICHAEL P|CHIEF PLUMBING INSPECTOR|WATER MGMNT|$121550.40\n",
            "29183|TUCKER,  TONYA R|DEPUTY COMMISSIONER|HEALTH|$116904.00\n",
            "29184|TUDISCO JR,  FRANK S|MOTOR TRUCK DRIVER|STREETS & SAN|$71780.80\n",
            "29185|TUDISCO,  LISA M|MOTOR TRUCK DRIVER|AVIATION|$71780.80\n",
            "29186|TUDISCO,  THOMAS W|EQUIPMENT DISPATCHER|AVIATION|$73028.80\n",
            "29187|TUDRON,  MICHAEL|POLICE OFFICER|POLICE|$73296.00\n",
            "29188|TUFENKJIAN,  DAVID A|FIREFIGHTER|FIRE|$86520.00\n",
            "29189|TUGGLE,  JOHNNY L|FIREFIGHTER|FIRE|$80778.00\n",
            "29190|TUIDER,  COLLEEN T|DISPATCH CLERK|ANIMAL CONTRL|$50004.00\n",
            "29191|TULACZ,  MICHAL|POLICE OFFICER|POLICE|$69684.00\n",
            "29192|TULEJA,  DONALD A|FIREFIGHTER-EMT|FIRE|$85680.00\n",
            "29193|TULEJA,  HENRY M|FIREFIGHTER-EMT|FIRE|$85680.00\n",
            "29194|TULL,  DAVID L|POLICE OFFICER|POLICE|$83616.00\n",
            "29195|TULLOS JOHNSON,  LAMORE|POLICE COMMUNICATIONS OPERATOR I|OEMC|$64188.00\n",
            "29196|TULLY JR,  JOHN F|FIRST DEPUTY COMMISSIONER|STREETS & SAN|$142608.00\n",
            "29197|TULLY,  MARTIN E|POLICE OFFICER|POLICE|$83616.00\n",
            "29198|TULLY,  RACHEL A|FIRE COMMUNICATIONS OPERATOR II|OEMC|$92004.00\n",
            "29199|TULLY,  SEAN F|SERGEANT|POLICE|$103590.00\n",
            "29200|TUMA,  MICHAEL L|FIREFIGHTER|FIRE|$86520.00\n",
            "29201|TUMAN,  JOSEPH E|POLICE OFFICER|POLICE|$89718.00\n",
            "29202|TUMAN,  MICHAEL F|POLICE OFFICER (ASSIGNED AS DETECTIVE)|POLICE|$97044.00\n",
            "29203|TUMLOS,  EDWIN D|PROJECT MANAGER|BUSINESS AFFAIRS|$64764.00\n",
            "29204|TUMMILLO,  ANTHONY P|PAINTER|AVIATION|$86840.00\n",
            "29205|TUMMILLO,  DAVID|MOTOR TRUCK DRIVER|WATER MGMNT|$71780.80\n",
            "29206|TUMMINELLO,  GIULIO|MOTOR TRUCK DRIVER|STREETS & SAN|$71780.80\n",
            "29207|TUMPANE,  THOMAS L|ELECTRICAL MECHANIC|GENERAL SERVICES|$91520.00\n",
            "29208|TUNNEY,  THOMAS B|POLICE OFFICER|POLICE|$80778.00\n",
            "29209|TUNNEY,  THOMAS M|ALDERMAN|CITY COUNCIL|$106557.96\n",
            "29210|TUNZI,  MICHAEL|MOTOR TRUCK DRIVER|STREETS & SAN|$71780.80\n",
            "29211|TUNZI,  RICHARD J|POLICE OFFICER|POLICE|$83616.00\n",
            "29212|TUOHY,  MICHAELA M|POLICE OFFICER|POLICE|$83616.00\n",
            "29213|TUPAYACHI,  ELLIOT T|POLICE OFFICER|POLICE|$86520.00\n",
            "29214|TURBAK,  PAWEL|POLICE OFFICER|POLICE|$80778.00\n",
            "29215|TURBYVILLE,  JEROME B|POLICE OFFICER|POLICE|$89718.00\n",
            "29216|TURCINOVIC,  ELVIS|POLICE OFFICER|POLICE|$80778.00\n",
            "29217|TURCO,  CATHERINE|ASST PRESS SECRETARY|MAYOR'S OFFICE|$60000.00\n",
            "29218|TURCOTTE,  RUSSELL E|FOREMAN OF LINEMEN|TRANSPORTN|$106288.00\n",
            "29219|TUREAUD,  ALEXIS|POOL MOTOR TRUCK DRIVER|WATER MGMNT|$71780.80\n",
            "29220|TURKALY,  BRIAN A|SUPERVISING SANITARIAN|HEALTH|$77280.00\n",
            "29221|TURLAN,  PATRICK C|FIREFIGHTER|FIRE|$86520.00\n",
            "29222|TURMAN,  JOSEPH|PLUMBER|WATER MGMNT|$97032.00\n",
            "29223|TURNAGE,  CHARLES A|POLICE OFFICER|POLICE|$46206.00\n",
            "29224|TURNAGE,  MILTON B|AVIATION SECURITY OFFICER|AVIATION|$73764.00\n",
            "29225|TURNBULL,  PATRICE R|POLICE COMMUNICATIONS OPERATOR II|OEMC|$88788.00\n",
            "29226|TURNER,  ANDREW M|POLICE OFFICER|POLICE|$80778.00\n",
            "29227|TURNER,  ARTHUR L|MOTOR TRUCK DRIVER|STREETS & SAN|$71780.80\n",
            "29228|TURNER,  BARBARA L|FOSTER GRANDPARENT|FAMILY & SUPPORT|$2756.00\n",
            "29229|TURNER,  CARL S|POLICE OFFICER|POLICE|$89718.00\n",
            "29230|TURNER,  CHRISTOPHER R|POLLING PLACE INVESTIGATOR II|BOARD OF ELECTION|$36624.00\n",
            "29231|TURNER,  CLIFTON|POLICE OFFICER|POLICE|$65946.00\n",
            "29232|TURNER,  CLIFTON B|POLICE OFFICER|POLICE|$89718.00\n",
            "29233|TURNER,  CURTIS L|MOTOR TRUCK DRIVER|STREETS & SAN|$71780.80\n",
            "29234|TURNER,  DEJUAN L|POLICE OFFICER|POLICE|$80778.00\n",
            "29235|TURNER,  DWAYNE E|SANITATION LABORER|STREETS & SAN|$72384.00\n",
            "29236|TURNER,  EDDIE L|SANITATION LABORER|STREETS & SAN|$72384.00\n",
            "29237|TURNER,  ERIC|ASST CORPORATION COUNSEL|LAW|$57192.00\n",
            "29238|TURNER,  FRANKIE|POLICE OFFICER|POLICE|$69684.00\n",
            "29239|TURNER,  GARRICK R|POLICE OFFICER (ASSIGNED AS DETECTIVE)|POLICE|$97044.00\n",
            "29240|TURNER,  GERARD D|FIRE ENGINEER-EMT|FIRE|$99324.00\n",
            "29241|TURNER,  GLENN|POLICE OFFICER (ASSIGNED AS DETECTIVE)|POLICE|$99888.00\n",
            "29242|TURNER,  GREGORY G|CONSUMER INVESTIGATOR I|BUSINESS AFFAIRS|$57456.00\n",
            "29243|TURNER II,  VINCENT J|POLICE OFFICER|POLICE|$46206.00\n",
            "29244|TURNER IV,  MILES W|LIBRARY ASSOCIATE|PUBLIC LIBRARY|$66120.00\n",
            "29245|TURNER,  JEFFERY|HOISTING ENGINEER|TRANSPORTN|$97968.00\n",
            "29246|TURNER,  JOHNNY T|SANITATION LABORER|STREETS & SAN|$72384.00\n",
            "29247|TURNER,  JOSEPH|POOL MOTOR TRUCK DRIVER|STREETS & SAN|$64604.80\n",
            "29248|TURNER JR,  BENNIE|AVIATION SECURITY OFFICER|AVIATION|$73764.00\n",
            "29249|TURNER JR,  KENNETH|POOL MOTOR TRUCK DRIVER|STREETS & SAN|$71780.80\n",
            "29250|TURNER JR,  MILES E|GENERAL LABORER - DSS|STREETS & SAN|$43201.60\n",
            "29251|TURNER,  JUSTIN B|LABORER - APPRENTICE|WATER MGMNT|$71136.00\n",
            "29252|TURNER,  KENNETH E|POLICE OFFICER|POLICE|$86520.00\n",
            "29253|TURNER,  KIMBERLY|POLICE OFFICER|POLICE|$89718.00\n",
            "29254|TURNER,  LATONIA|SENIOR DATA ENTRY OPERATOR|POLICE|$55428.00\n",
            "29255|TURNER,  LILIA C|ACCOUNTANT IV|COMMUNITY DEVELOPMENT|$95880.00\n",
            "29256|TURNER,  LORRA R|POLICE COMMUNICATIONS OPERATOR II|OEMC|$67212.00\n",
            "29257|TURNER,  LYDARA|LIEUTENANT-EMT|FIRE|$106524.00\n",
            "29258|TURNER,  LYNDA D|DEPUTY DISTRICT CHIEF|FIRE|$156360.00\n",
            "29259|TURNER,  MICHAEL E|TRAINING OFFICER|POLICE|$92340.00\n",
            "29260|TURNER,  MICHAEL T|POLICE OFFICER|POLICE|$89718.00\n",
            "29261|TURNER,  MONIQUER|CROSSING GUARD - PER AGREEMENT|POLICE|$13790.40\n",
            "29262|TURNER,  NICHOLAS J|FIREFIGHTER|FIRE|$65946.00\n",
            "29263|TURNER,  PHILLIP J|LIBRARY ASSOCIATE|PUBLIC LIBRARY|$66120.00\n",
            "29264|TURNER,  RONALD|POLICE OFFICER|POLICE|$86520.00\n",
            "29265|TURNER,  ROY L|CAPTAIN-EMT|FIRE|$127566.00\n",
            "29266|TURNER,  SPENCER K|POLICE OFFICER|POLICE|$89718.00\n",
            "29267|TURNER,  TYRONE|FINGERPRINT TECHNICIAN II|POLICE|$66684.00\n",
            "29268|TURNER,  VIRGIL|ELECTRICAL MECHANIC|TRANSPORTN|$91520.00\n",
            "29269|TURNER,  WALTER E|FRM OF MACHINISTS - AUTOMOTIVE|GENERAL SERVICES|$97448.00\n",
            "29270|TURNEY,  EMMETT G|LIBRARY PAGE|PUBLIC LIBRARY|$12407.20\n",
            "29271|TURNEY,  JAMES B|POLICE OFFICER|POLICE|$86520.00\n",
            "29272|TURNEY,  MARGARET A|TRAFFIC CONTROL AIDE-HOURLY|OEMC|$19656.00\n",
            "29273|TURRENTINE,  HAROLD D|LIEUTENANT-EMT|FIRE|$117078.00\n",
            "29274|TURRENTINE,  LORNE K|FIREFIGHTER-EMT (RECRUIT)|FIRE|$54114.00\n",
            "29275|TURRISE,  RICHARD S|POLICE OFFICER|POLICE|$83616.00\n",
            "29276|TUTERA,  PETER S|FIREFIGHTER-EMT|FIRE|$85680.00\n",
            "29277|TUTKUS,  KATHRYN R|COMMUNICATIONS OPERATOR I - 311|OEMC|$52848.00\n",
            "29278|TUTTLE JR,  MICHAEL J|LIBRARY PAGE|PUBLIC LIBRARY|$12407.20\n",
            "29279|TUTTLE,  KEVIN E|POLICE OFFICER|POLICE|$80778.00\n",
            "29280|TUTTLE,  THERESA L|POLICE OFFICER|POLICE|$80778.00\n",
            "29281|TUZIK,  ROBERT W|FRM OF MACHINISTS - AUTOMOTIVE|GENERAL SERVICES|$97448.00\n",
            "29282|TUZIK,  RYAN M|FIREFIGHTER-EMT|FIRE|$85680.00\n",
            "29283|TWARDAK,  ROBERT|BATTALION CHIEF|FIRE|$135480.00\n",
            "29284|TWAROWSKI,  MICHAEL W|POLICE OFFICER|POLICE|$89718.00\n",
            "29285|TWOHIG,  COLLEEN A|EXEC ADMINISTRATIVE ASST II|PROCUREMENT|$67224.00\n",
            "29286|TYBURSKI,  ROMAN|OPERATING ENGINEER-GROUP A|WATER MGMNT|$98675.20\n",
            "29287|TYLER,  CHASSATTY|TRAFFIC CONTROL AIDE-HOURLY|OEMC|$19656.00\n",
            "29288|TYLER,  DALLAS C|POLICE OFFICER|POLICE|$83616.00\n",
            "29289|TYLER,  DONNA M|AMBULANCE COMMANDER|FIRE|$123948.00\n",
            "29290|TYLER,  EDDIE|PRINCIPAL STOREKEEPER|PUBLIC LIBRARY|$60780.00\n",
            "29291|TYLER,  JUSTIN|PROGRAM AIDE|POLICE|$9360.00\n",
            "29292|TYLER,  LISA M|POLICE OFFICER|POLICE|$80778.00\n",
            "29293|TYLER,  LOIS|SANITATION LABORER|STREETS & SAN|$72384.00\n",
            "29294|TYLER,  MICHAEL C|POLICE OFFICER (ASSIGNED AS DETECTIVE)|POLICE|$99888.00\n",
            "29295|TYLER,  RAYNETTA L|CONSTRUCTION LABORER|WATER MGMNT|$79040.00\n",
            "29296|TYLER,  REGINALD|CONSTRUCTION LABORER|WATER MGMNT|$79040.00\n",
            "29297|TYLER,  SHARON D|POLICE OFFICER|POLICE|$89718.00\n",
            "29298|TYLER,  STEVEN C|POLICE OFFICER (ASSIGNED AS DETECTIVE)|POLICE|$99888.00\n",
            "29299|TYLER,  VANESSA|ADMINISTRATIVE ASST II|FIRE|$58020.00\n",
            "29300|TYLER,  VERONICA L|TRAFFIC CONTROL AIDE-HOURLY|OEMC|$19656.00\n",
            "29301|TYLKA,  JANE|POLICE COMMUNICATIONS OPERATOR II|OEMC|$77220.00\n",
            "29302|TYMICK,  BRYAN A|FIREFIGHTER|FIRE|$93594.00\n",
            "29303|TYRALSKI,  ANDRZEJ|POLICE OFFICER|POLICE|$73296.00\n",
            "29304|TYRCHA,  JOSEPH A|POLICE OFFICER|POLICE|$86520.00\n",
            "29305|TYRRELL,  BERNICE A|HOSPITALITY WORKER|FAMILY & SUPPORT|$9516.00\n",
            "29306|TYSE,  MICHELLE L|POLICE OFFICER|POLICE|$92316.00\n",
            "29307|TYSON,  DWAYNE|AVIATION SECURITY OFFICER|AVIATION|$77220.00\n",
            "29308|TYZNIK,  PATRICIA A|LIBRARY ASSOCIATE - HOURLY|PUBLIC LIBRARY|$24835.20\n",
            "29309|UCHMAN,  ROXANE|SERGEANT|POLICE|$103590.00\n",
            "29310|UCHMAN,  STEVEN M|POLICE OFFICER|POLICE|$86520.00\n",
            "29311|UCHO,  JOSEPH M|BUILDING/CONSTRUCTION INSPECTOR|BUILDINGS|$117528.00\n",
            "29312|UCHWAL,  CHRISTOPHER|SANITARY ENGINEER II|WATER MGMNT|$57384.00\n",
            "29313|UCOL,  MARHODORA G|OCCUPATIONAL HEALTH NURSE|FIRE|$86124.00\n",
            "29314|UCZEN,  MARK D|POLICE OFFICER|POLICE|$86520.00\n",
            "29315|UCZEN,  MICHAEL A|FIREFIGHTER-EMT|FIRE|$99258.00\n",
            "29316|UDDIN,  MOHAMMED J|ACCOUNTANT IV|COMMUNITY DEVELOPMENT|$95880.00\n",
            "29317|UDELL,  CHARLES G|POLICE OFFICER (ASSIGNED AS DETECTIVE)|POLICE|$93648.00\n",
            "29318|UDING,  BRYON S|SERGEANT|POLICE|$100440.00\n",
            "29319|UGARTE,  ARMANDO|POLICE OFFICER|POLICE|$83616.00\n",
            "29320|UGARTE,  RENE|POLICE OFFICER|POLICE|$83616.00\n",
            "29321|UHLARIK,  STEPHANIE L|CHIEF ASST CORPORATION COUNSEL|LAW|$124572.00\n",
            "29322|UJDA,  PETER P|POLICE OFFICER|POLICE|$83616.00\n",
            "29323|ULANSKI,  THOMAS M|FIREFIGHTER|FIRE|$90018.00\n",
            "29324|ULDRYCH,  MARILYN V|SERGEANT|POLICE|$100440.00\n",
            "29325|ULDRYCH,  MELISSA M|POLICE OFFICER|POLICE|$83616.00\n",
            "29326|ULDRYCH,  TIMOTHY A|POLICE OFFICER|POLICE|$83616.00\n",
            "29327|ULLEWEIT,  FREDRICK C|SERGEANT|POLICE|$103590.00\n",
            "29328|ULLEWEIT,  LISA A|POLICE OFFICER|POLICE|$86520.00\n",
            "29329|ULLOA,  JORGE F|POLICE OFFICER|POLICE|$80778.00\n",
            "29330|ULLOA LOPEZ,  MARGIE|PAYMENT RECONCILER|CITY CLERK|$55428.00\n",
            "29331|ULLRICH,  GRANT|ASST CORPORATION COUNSEL|LAW|$63720.00\n",
            "29332|UMARDEEN,  ISMAIL K|ACCOUNTANT III|COMMUNITY DEVELOPMENT|$87912.00\n",
            "29333|UNDERWOOD,  ANTONIO M|HOISTING ENGINEER|WATER MGMNT|$97968.00\n",
            "29334|UNION,  JULIUS|DISTRICT MANAGER - HUMAN SERVICES|FAMILY & SUPPORT|$88812.00\n",
            "29335|UNIZYCKI,  GREGORY W|POLICE OFFICER|POLICE|$80778.00\n",
            "29336|UNIZYCKI,  RICHARD W|SERGEANT|POLICE|$100440.00\n",
            "29337|UNOLD,  DANIEL C|SANITATION LABORER|STREETS & SAN|$72384.00\n",
            "29338|UNZUETA,  LAUREN C|POLICE OFFICER|POLICE|$69684.00\n",
            "29339|UPCHURCH,  AKIL D|POLICE OFFICER|POLICE|$83616.00\n",
            "29340|UPCHURCH,  DARLENE|CROSSING GUARD|POLICE|$20092.80\n",
            "29341|UPSHAW,  RAMAR E|POLICE OFFICER|POLICE|$86520.00\n",
            "29342|UPTON,  SHEILA L|CLERK IV|TRANSPORTN|$66684.00\n",
            "29343|URANOWSKI,  ANTOINETTE P|LIBRARY PAGE|PUBLIC LIBRARY|$12407.20\n",
            "29344|URBAN,  ANETA A|POLICE OFFICER|POLICE|$80778.00\n",
            "29345|URBANEK,  BRANDON V|AVIATION COMMUNICATIONS OPERATOR|OEMC|$58476.00\n",
            "29346|URBAN,  NICHOLAS W|POLICE OFFICER|POLICE|$83616.00\n",
            "29347|URBAN,  PAUL S|POLICE OFFICER|POLICE|$86520.00\n",
            "29348|URBAN,  PRISCILLA|POLICE OFFICER|POLICE|$69684.00\n",
            "29349|URBANSKI,  LEONARD D|FIREFIGHTER|FIRE|$93594.00\n",
            "29350|URBANSKI,  RAYMOND P|POLICE OFFICER|POLICE|$89718.00\n",
            "29351|URBINA,  DANIEL|LABORER - APPRENTICE|WATER MGMNT|$47424.00\n",
            "29352|URBINA MCCARTHY,  MARY|SCHEDULER|MAYOR'S OFFICE|$50004.00\n",
            "29353|URBINATI,  RICHARD F|SHIFT SUPVSR OF SECURITY COMMUNICATIONS CENTER|OEMC|$73236.00\n",
            "29354|URBON,  KENNETH J|POLICE OFFICER|POLICE|$86520.00\n",
            "29355|URCHELL,  THOMAS G|FIREFIGHTER-EMT|FIRE|$85680.00\n",
            "29356|URDIALES,  FRED|CONSTRUCTION LABORER|WATER MGMNT|$79040.00\n",
            "29357|UREY,  CHRISTIAN G|FIREFIGHTER|FIRE|$83616.00\n",
            "29358|URIAN,  TORIBIO|DISTRICT SUPVSR - GRAFFITI REMOVAL SERVICES|STREETS & SAN|$117528.00\n",
            "29359|URIAN,  TORIBIO J|CONSTRUCTION LABORER|WATER MGMNT|$79040.00\n",
            "29360|URIBE JR,  MARIO|POLICE OFFICER|POLICE|$83616.00\n",
            "29361|URIBE JR,  ROBERTO|BUILDING/CONSTRUCTION INSPECTOR|BUILDINGS|$76608.00\n",
            "29362|URIBE,  MAXIMILIAN|POLICE OFFICER|POLICE|$86520.00\n",
            "29363|URIN,  ALEXANDER|FOSTER GRANDPARENT|FAMILY & SUPPORT|$2756.00\n",
            "29364|URIN,  IDA|FOSTER GRANDPARENT|FAMILY & SUPPORT|$2756.00\n",
            "29365|URIOSTEGUI,  JOSE|POOL MOTOR TRUCK DRIVER|AVIATION|$71780.80\n",
            "29366|URQUHART,  KENNETH A|LIEUTENANT|FIRE|$110370.00\n",
            "29367|URQUHART,  MATTHEW C|POLICE OFFICER|POLICE|$86520.00\n",
            "29368|URQUHART,  PIERRE|LIBRARY PAGE|PUBLIC LIBRARY|$12407.20\n",
            "29369|URSETTA,  ROSARIO|TRAFFIC CONTROL AIDE-HOURLY|OEMC|$19656.00\n",
            "29370|URSITTI,  ANTOINETTE M|SERGEANT|POLICE|$100440.00\n",
            "29371|URSITTI,  ERNEST A|SERGEANT|POLICE|$106920.00\n",
            "29372|URSO JR,  EDWARD R|ELECTRICAL MECHANIC|AVIATION|$91520.00\n",
            "29373|USCINSKI,  LUKASZ|FIREFIGHTER|FIRE|$65946.00\n",
            "29374|USHER,  TIMOTHY C|FOREMAN OF STEAMFITTERS|AVIATION|$101920.00\n",
            "29375|USTASIEWSKI,  JOSEPH C|PAINTER|AVIATION|$86840.00\n",
            "29376|USTASZEWSKI,  BRIAN M|POLICE OFFICER|POLICE|$83616.00\n",
            "29377|UTING,  DAVID P|POLICE OFFICER|POLICE|$86520.00\n",
            "29378|UTRERAS,  EDWIN R|POLICE OFFICER|POLICE|$86520.00\n",
            "29379|UTZ,  JON C|POLICE OFFICER|POLICE|$80778.00\n",
            "29380|UYGUN,  MEHMET|POLICE OFFICER|POLICE|$80778.00\n",
            "29381|UZUBELL,  JENNIFER M|POLICE OFFICER|POLICE|$83616.00\n",
            "29382|UZUETA,  AARON G|PARAMEDIC I/C|FIRE|$87534.00\n",
            "29383|VABAKOS,  ELAINE|POLICE OFFICER|POLICE|$83616.00\n",
            "29384|VACA,  SANDRA M|COMMUNICATIONS OPERATOR I - 311|OEMC|$55428.00\n",
            "29385|VACCARO,  JOE|MACHINIST|AVIATION|$92248.00\n",
            "29386|VACCARO,  MARK A|POLICE OFFICER|POLICE|$86520.00\n",
            "29387|VACCARO,  VICTOR C|POLICE OFFICER|POLICE|$86520.00\n",
            "29388|VACEK,  CHRISTOPHER R|POLICE OFFICER|POLICE|$80778.00\n",
            "29389|VACHY,  JASON E|POLICE OFFICER|POLICE|$86520.00\n",
            "29390|VACI,  ANGLYN M|CROSSING GUARD|POLICE|$18324.80\n",
            "29391|VACI,  ANTHONY J|POLICE OFFICER|POLICE|$69684.00\n",
            "29392|VACI,  MATTHEW|POLICE OFFICER|POLICE|$69684.00\n",
            "29393|VACI,  WILLIAM F|FIREFIGHTER|FIRE|$90018.00\n",
            "29394|VACKICEV,  SIMEON E|FIREFIGHTER/PARAMEDIC|FIRE|$90798.00\n",
            "29395|VAHL,  ROBERT A|POLICE OFFICER|POLICE|$86520.00\n",
            "29396|VAILE,  SHANNON D|WATCHMAN|WATER MGMNT|$43950.40\n",
            "29397|VAIL,  RICHARD J|PARAMEDIC I/C|FIRE|$99888.00\n",
            "29398|VAIL,  RITA M|POLICE OFFICER|POLICE|$86520.00\n",
            "29399|VAINISI,  MICHAEL|POLICE OFFICER|POLICE|$69684.00\n",
            "29400|VAITLA,  ARUNA B|AUDITOR III|FINANCE|$95880.00\n",
            "29401|VAJKO,  SUSAN M|PAINTER|STREETS & SAN|$86840.00\n",
            "29402|VAKALAHI,  JOHN F|CROSSING GUARD|POLICE|$17492.80\n",
            "29403|VALADEZ,  ADRIAN|POLICE OFFICER|POLICE|$86520.00\n",
            "29404|VALADEZ,  ALBERTO|TREE TRIMMER|STREETS & SAN|$74464.00\n",
            "29405|VALADEZ,  ALEX|SANITATION LABORER|STREETS & SAN|$72384.00\n",
            "29406|VALADEZ,  BRENDA|POLICE OFFICER|POLICE|$83616.00\n",
            "29407|VALADEZ,  FRANCIS A|COMMANDER|POLICE|$162684.00\n",
            "29408|VALADEZ,  LOUIS A|LIEUTENANT-EMT|FIRE|$117078.00\n",
            "29409|VALADEZ,  LYNDA D|DATA ENTRY OPERATOR|POLICE|$41952.00\n",
            "29410|VALADEZ,  MARTIN J|FIREFIGHTER|FIRE|$65946.00\n",
            "29411|VALADEZ,  RAYMOND R|ASST TO THE ALDERMAN|CITY COUNCIL|$94944.00\n",
            "29412|VALCY,  VIVECA N|FIREFIGHTER|FIRE|$65946.00\n",
            "29413|VALDERRAMA,  CHRISTINE A|SENIOR HELP DESK TECHNICIAN|FIRE|$60168.00\n",
            "29414|VALDERRAMA,  JASON|TRAFFIC CONTROL AIDE-HOURLY|OEMC|$19656.00\n",
            "29415|VALDERRAMA,  JULIA|TITLE V PROGRAM TRAINEE I|FAMILY & SUPPORT|$8580.00\n",
            "29416|VALDES,  ERIC|DETENTION AIDE|POLICE|$48924.00\n",
            "29417|VALDES,  NORA I|POLICE OFFICER|POLICE|$69684.00\n",
            "29418|VALDEZ,  CARMEN J|ASST TO THE COMMISSIONER|AVIATION|$76512.00\n",
            "29419|VALDEZ,  DAVID H|PAINTER|AVIATION|$86840.00\n",
            "29420|VALDEZ,  HENRY J|FIREFIGHTER-EMT|FIRE|$85680.00\n",
            "29421|VALDEZ,  JAVIER|MACHINIST|GENERAL SERVICES|$92248.00\n",
            "29422|VALDEZ,  JOHN D|MANAGER OF SECURITY COMMUNICATIONS CENTER|OEMC|$106884.00\n",
            "29423|VALDEZ,  MARIBEL E|CHIEF CONTRACT EXPEDITER|HEALTH|$80916.00\n",
            "29424|VALDEZ,  OSVALDO|LIEUTENANT|POLICE|$120264.00\n",
            "29425|VALDEZ,  RUBEN|POLICE OFFICER|POLICE|$83616.00\n",
            "29426|VALDEZ,  SERGIO|POLICE OFFICER|POLICE|$83616.00\n",
            "29427|VALDEZ,  SIMON R|CUSTODIAL WORKER|AVIATION|$42369.60\n",
            "29428|VALDEZ,  THOMAS W|MOTOR TRUCK DRIVER|STREETS & SAN|$71780.80\n",
            "29429|VALDIVIA,  DANIEL A|AUDIO EQUIPMENT TECHNICIAN|PUBLIC LIBRARY|$38208.00\n",
            "29430|VALDIVIA,  HERIBERTO|FIREFIGHTER-EMT (RECRUIT)|FIRE|$54114.00\n",
            "29431|VALDIVIA,  RAUL B|SUPERVISING ENVIRONMENTAL ENGINEER|HEALTH|$95832.00\n",
            "29432|VALDOVINOS,  JOSE F|POLICE OFFICER|POLICE|$80778.00\n",
            "29433|VALDOVINOS JR,  JESUS|POLICE OFFICER|POLICE|$46206.00\n",
            "29434|VALE,  DAVID|POOL MOTOR TRUCK DRIVER|STREETS & SAN|$71780.80\n",
            "29435|VALE,  DENIS|SERGEANT|POLICE|$103590.00\n",
            "29436|VALELA,  RENE|LIBRARY PAGE|PUBLIC LIBRARY|$12407.20\n",
            "29437|VALENCIA,  FAVIO|POLICE OFFICER|POLICE|$80778.00\n",
            "29438|VALENCIA,  JOHN F|POLICE OFFICER|POLICE|$86520.00\n",
            "29439|VALENTI,  ANTHONY R|POLICE OFFICER|POLICE|$86520.00\n",
            "29440|VALENTI,  DINO J|LABORER|GENERAL SERVICES|$79040.00\n",
            "29441|VALENTI,  KIMBERLY M|POLICE OFFICER|POLICE|$86520.00\n",
            "29442|VALENTIN,  ANTONIO J|POLICE OFFICER|POLICE|$86520.00\n",
            "29443|VALENTIN,  DAVID|OPERATING ENGINEER-GROUP A|WATER MGMNT|$98675.20\n",
            "29444|VALENTINE,  LISE A|DEPUTY INSPECTOR GENERAL|INSPECTOR GEN|$115008.00\n",
            "29445|VALENTINE,  MICHAEL R|POLICE OFFICER (ASSIGNED AS CANINE HANDLER)|POLICE|$90846.00\n",
            "29446|VALENTINE,  NIGEL L|POLICE OFFICER|POLICE|$80778.00\n",
            "29447|VALENTINE,  NINA S|SANITATION LABORER|STREETS & SAN|$72384.00\n",
            "29448|VALENTINE,  RALPH|POOL MOTOR TRUCK DRIVER|TRANSPORTN|$71780.80\n",
            "29449|VALENTINI,  SALVATORE M|FIREFIGHTER/PARAMEDIC|FIRE|$87720.00\n",
            "29450|VALENTIN,  ISRAEL A|POLICE OFFICER|POLICE|$83616.00\n",
            "29451|VALENTIN JR,  DAVID|POLICE OFFICER|POLICE|$89718.00\n",
            "29452|VALENTINO,  MICHAEL G|POLICE OFFICER|POLICE|$89718.00\n",
            "29453|VALENTIN,  PIERRE|AVIATION SECURITY OFFICER|AVIATION|$53628.00\n",
            "29454|VALENTI,  PATRICK A|FIREFIGHTER-EMT|FIRE|$85680.00\n",
            "29455|VALENZANO,  JAMES E|POLICE OFFICER|POLICE|$92316.00\n",
            "29456|VALENZIANO,  STEVEN A|ASST ZONING ADMINISTRATOR|COMMUNITY DEVELOPMENT|$110040.00\n",
            "29457|VALENZUELA,  ALEJANDRO|FIREFIGHTER|FIRE|$65946.00\n",
            "29458|VALENZUELA,  ANTONIO J|POLICE OFFICER|POLICE|$86520.00\n",
            "29459|VALENZUELA,  JULIAN|POLICE OFFICER|POLICE|$80778.00\n",
            "29460|VALENZUELA,  NOEL|WARD SUPERINTENDENT|STREETS & SAN|$83940.00\n",
            "29461|VALENZUELA,  ORLANDO V|PUBLIC HEALTH ADMINISTRATOR II|HEALTH|$84072.00\n",
            "29462|VALENZUELA,  OSCAR R|POLICE OFFICER (ASSIGNED AS DETECTIVE)|POLICE|$93648.00\n",
            "29463|VALENZUELA,  SANTIAGO|MOTOR TRUCK DRIVER|STREETS & SAN|$71780.80\n",
            "29464|VALERIANO,  ANA L|POLICE OFFICER|POLICE|$83616.00\n",
            "29465|VALERIANO,  JAIRO M|POLICE OFFICER|POLICE|$83616.00\n",
            "29466|VALERIO,  CESAR|POLICE OFFICER|POLICE|$83616.00\n",
            "29467|VALERIO,  MAGDALENA|POLICE OFFICER|POLICE|$83616.00\n",
            "29468|VALERIO,  REYNA|ACCOUNTANT I|PUBLIC LIBRARY|$72840.00\n",
            "29469|VALES,  GLORIA M|PERSONAL COMPUTER OPERATOR I|POLICE|$48168.00\n",
            "29470|VALICENTO,  ANTHONY|SEWER BRICKLAYER|WATER MGMNT|$88566.40\n",
            "29471|VALICENTO,  ROBERT J|LABORER|TRANSPORTN|$79040.00\n",
            "29472|VALKNER,  JOHN L|POLICE OFFICER (ASSIGNED AS DETECTIVE)|POLICE|$97044.00\n",
            "29473|VALLE,  ARTURO|FIREFIGHTER-EMT (RECRUIT)|FIRE|$54114.00\n",
            "29474|VALLEE,  GEORGE D|SERGEANT|POLICE|$110370.00\n",
            "29475|VALLEJO LAMA,  CARMEN L|CROSSING GUARD - PER AGREEMENT|POLICE|$16484.00\n",
            "29476|VALLE,  JOSE|SANITATION LABORER|STREETS & SAN|$72384.00\n",
            "29477|VALLEJO,  VERONICA|AUTO POUND SUPVSR|STREETS & SAN|$63648.00\n",
            "29478|VALLE JR,  MANUEL|SANITATION LABORER|STREETS & SAN|$72384.00\n",
            "29479|VALLES,  JUAN L|TRAFFIC CONTROL AIDE-HOURLY|OEMC|$19656.00\n",
            "29480|VALLIKALAM,  POTHEN V|OPERATING ENGINEER-GROUP C|AVIATION|$93745.60\n",
            "29481|VALTIERRA,  JOHN|POLICE OFFICER|POLICE|$89718.00\n",
            "29482|VAMVLAS,  NICKOLAOS|POLICE OFFICER|POLICE|$80778.00\n",
            "29483|VAN ALSTIN,  CATHY A|LEGISLATIVE AIDE|CITY COUNCIL|$37824.00\n",
            "29484|VANARIA,  DEBORAH A|CROSSING GUARD|POLICE|$19188.00\n",
            "29485|VANARKEL,  MICHAEL E|FIREFIGHTER|FIRE|$93594.00\n",
            "29486|VAN ARKEL,  TERRY M|FIREFIGHTER/PARAMEDIC|FIRE|$93942.00\n",
            "29487|VAN BEVEREN,  JOY A|POLICE OFFICER (ASSIGNED AS DETECTIVE)|POLICE|$97044.00\n",
            "29488|VANCE,  ANTHONY M|POLICE OFFICER|POLICE|$80778.00\n",
            "29489|VANCE,  DE SHAWN L|FIREFIGHTER-EMT|FIRE|$85680.00\n",
            "29490|VAN CLEAVE,  EDWIN|ELECTRICAL MECHANIC|AVIATION|$91520.00\n",
            "29491|VAN DEN BOSCH,  JOAN M|CROSSING GUARD|POLICE|$20092.80\n",
            "29492|VANDENBRANDEN,  JOSEPH M|POLICE OFFICER|POLICE|$89718.00\n",
            "29493|VANDERAH,  KARL D|FIREFIGHTER-EMT|FIRE|$88680.00\n",
            "29494|VANDERCOOK,  ELIZABETH E|ASST TO THE ALDERMAN|CITY COUNCIL|$76188.00\n",
            "29495|VANDERKOLK,  ANDREA G|STAFF ASST TO THE ALDERMAN|CITY COUNCIL|$49200.00\n",
            "29496|VAN DERMEIR,  JOHN J|FIRE ENGINEER-EMT|FIRE|$105918.00\n",
            "29497|VANDER MEY,  BRYAN L|POLICE OFFICER|POLICE|$83616.00\n",
            "29498|VANDER PLOEG,  MARK F|SERGEANT|POLICE|$103590.00\n",
            "29499|VANDER VAART,  MARTIN|MOTOR TRUCK DRIVER - TIRE REPAIR|GENERAL SERVICES|$72862.40\n",
            "29500|VAN DE VELDE,  CHARLES A|POLICE OFFICER (ASSIGNED AS DETECTIVE)|POLICE|$97044.00\n",
            "29501|VAN DEVEN,  GARY R|FIREFIGHTER-EMT|FIRE|$85680.00\n",
            "29502|VAN DORPE,  CHRISTOPHER L|FIREFIGHTER/PARAMEDIC|FIRE|$87720.00\n",
            "29503|VAN DORPE,  JOHN A|BATTALION CHIEF - EMT|FIRE|$143682.00\n",
            "29504|VAN DORP,  TIMOTHY H|POLICE OFFICER|POLICE|$86520.00\n",
            "29505|VANDUYS,  MICHAEL R|OPERATING ENGINEER-GROUP A|AVIATION|$98675.20\n",
            "29506|VAN DYKE,  JASON D|POLICE OFFICER|POLICE|$83616.00\n",
            "29507|VANECKO,  RUSSELL J|LINEMAN|TRANSPORTN|$95888.00\n",
            "29508|VANEK,  AMANDA J|SERGEANT|POLICE|$100440.00\n",
            "29509|VANEK,  MARC D|SERGEANT|POLICE|$100440.00\n",
            "29510|VAN GIESEN,  MARK A|SERGEANT|POLICE|$110370.00\n",
            "29511|VAN HORN,  TODD R|LIEUTENANT-EMT|FIRE|$113400.00\n",
            "29512|VAN HOVE,  MICHAEL T|AVIATION SECURITY OFFICER|AVIATION|$48924.00\n",
            "29513|VANICELLI,  MADDELYN M|LIBRARIAN I|PUBLIC LIBRARY|$62280.00\n",
            "29514|VANNA,  GREGORY J|ELECTRICAL MECHANIC-AUTO-POLICE MTR MNT|GENERAL SERVICES|$91520.00\n",
            "29515|VANNA,  HERMINIA|PUBLIC HEALTH ADMINISTRATOR II|HEALTH|$80328.00\n",
            "29516|VANNA,  JASON W|POLICE OFFICER|POLICE|$83616.00\n",
            "29517|VANNA,  ROBERT D|SERGEANT|POLICE|$106920.00\n",
            "29518|VANNESTE,  ROBERT|STUDENT INTERN - MAYOR'S FELLOWS|MAYOR'S OFFICE|$36400.00\n",
            "29519|VANN,  EUGENE|POLICE OFFICER|POLICE|$46206.00\n",
            "29520|VANN,  EUGENE G|LIEUTENANT|POLICE|$123948.00\n",
            "29521|VANORNY,  LINDSEY M|ASST CORPORATION COUNSEL|LAW|$60324.00\n",
            "29522|VANORSBY,  ADRIENNE|POLICE OFFICER|POLICE|$83616.00\n",
            "29523|VANOUREK,  JOSEPH E|POLICE OFFICER|POLICE|$83616.00\n",
            "29524|VAN SLYKE,  CLAIRE|POLICE OFFICER|POLICE|$86520.00\n",
            "29525|VAN SWEARINGEN,  GUY H|LIEUTENANT-EMT|FIRE|$117078.00\n",
            "29526|VANTHOF,  SARAH G|SERGEANT|POLICE|$100440.00\n",
            "29527|VAN THOLEN,  LUZ M|PUBLIC HEALTH ADMINISTRATOR I|HEALTH|$69888.00\n",
            "29528|VAN VRANKEN,  JAMES D|SERGEANT|POLICE|$110370.00\n",
            "29529|VANWITZENBURG,  SYLVIA A|POLICE OFFICER (ASSIGNED AS DETECTIVE)|POLICE|$97044.00\n",
            "29530|VAN ZANDT,  CRAIG M|FIREFIGHTER|FIRE|$65946.00\n",
            "29531|VAN ZANT,  KAHLILL J|FIREFIGHTER-EMT|FIRE|$85680.00\n",
            "29532|VARALLO,  YASMIN B|POLICE OFFICER|POLICE|$83616.00\n",
            "29533|VARCHETTO,  ANTHONY|POLICE OFFICER|POLICE|$83616.00\n",
            "29534|VARCHETTO,  KENNETH P|POLICE OFFICER|POLICE|$86520.00\n",
            "29535|VARELA,  BERTHA C|SANITATION LABORER|STREETS & SAN|$72384.00\n",
            "29536|VARELA,  JACLYN D|POLICE OFFICER|POLICE|$80778.00\n",
            "29537|VARELA,  JEANNETTE|POLICE OFFICER|POLICE|$83616.00\n",
            "29538|VARELA,  LUIS|POLICE OFFICER|POLICE|$86520.00\n",
            "29539|VARELA,  LUIS A|BRIDGE OPERATOR|TRANSPORTN|$73908.00\n",
            "29540|VARELA,  MARIA L|POLICE OFFICER|POLICE|$86520.00\n",
            "29541|VARELA,  ROCIO I|ALDERMANIC AIDE|CITY COUNCIL|$34998.00\n",
            "29542|VARGA,  DIANA|POLICE OFFICER|POLICE|$46206.00\n",
            "29543|VARGAS,  ARTEMIO|POLICE OFFICER|POLICE|$80778.00\n",
            "29544|VARGAS,  DAVID|SANITATION LABORER|STREETS & SAN|$72384.00\n",
            "29545|VARGAS,  DIVINA B|EPIDEMIOLOGIST II|HEALTH|$95880.00\n",
            "29546|VARGAS,  EDUARDO|CONSTRUCTION LABORER|WATER MGMNT|$79040.00\n",
            "29547|VARGAS,  ELLIOT C|GARAGE ATTENDANT|GENERAL SERVICES|$46592.00\n",
            "29548|VARGAS,  FERNANDO I|FIRE ENGINEER|FIRE|$99888.00\n",
            "29549|VARGAS,  JESSE D|MOTOR TRUCK DRIVER|STREETS & SAN|$71780.80\n",
            "29550|VARGAS JR,  RODOLFO|SERGEANT|POLICE|$100440.00\n",
            "29551|VARGAS,  JULIO C|POLICE OFFICER|POLICE|$83616.00\n",
            "29552|VARGAS,  MARILYN|CROSSING GUARD|POLICE|$20092.80\n",
            "29553|VARGAS,  MICHAEL|POLICE OFFICER|POLICE|$80778.00\n",
            "29554|VARGAS,  PETRA|FOSTER GRANDPARENT|FAMILY & SUPPORT|$2756.00\n",
            "29555|VARGAS,  RAMON|ELECTRICAL INSPECTOR|BUILDINGS|$95880.00\n",
            "29556|VARGAS,  REYNALDO|FIREFIGHTER-EMT|FIRE|$85680.00\n",
            "29557|VARGAS,  ROBERTA E|POLICE OFFICER|POLICE|$86520.00\n",
            "29558|VARGAS,  RUBEN|POLICE OFFICER|POLICE|$69684.00\n",
            "29559|VARGAS,  THOMAS|POLICE OFFICER|POLICE|$80778.00\n",
            "29560|VARGA,  THOMAS|POLICE OFFICER|POLICE|$73296.00\n",
            "29561|VARI,  CHRISTOPHER T|ELECTRICAL MECHANIC|GENERAL SERVICES|$91520.00\n",
            "29562|VARI,  KELLY R|ASST DIVISION SUPERINTENDENT|STREETS & SAN|$69684.00\n",
            "29563|VARI,  PATRICK M|ELECTRICAL MECHANIC|GENERAL SERVICES|$91520.00\n",
            "29564|VARNADO,  CHANA R|POLICE OFFICER|POLICE|$92316.00\n",
            "29565|VARNAGIS,  JOHN D|OPERATING ENGINEER-GROUP A|AVIATION|$98675.20\n",
            "29566|VARNES,  BRIANNA B|FIRE COMMUNICATIONS OPERATOR I|OEMC|$65676.00\n",
            "29567|VARNEY,  KYLE|POLICE OFFICER|POLICE|$46206.00\n",
            "29568|VASAVID,  JAMES N|POLICE OFFICER|POLICE|$86520.00\n",
            "29569|VASILAKIS,  NICK|HOISTING ENGINEER|STREETS & SAN|$97968.00\n",
            "29570|VASILEVICH,  DOUGLAS J|FIREFIGHTER|FIRE|$93594.00\n",
            "29571|VASILEV,  MIRJANCO|POLICE OFFICER|POLICE|$69684.00\n",
            "29572|VASILOPOULOS,  GUS N|SERGEANT|POLICE|$106920.00\n",
            "29573|VASKO JR,  STEPHEN M|SERVICE WRITER|GENERAL SERVICES|$67344.00\n",
            "29574|VASKO,  MICHAEL|FIREFIGHTER-EMT|FIRE|$88680.00\n",
            "29575|VASQUEZ,  ALDO|LIBRARY PAGE|PUBLIC LIBRARY|$12407.20\n",
            "29576|VASQUEZ,  ANGELO|CONSTRUCTION LABORER|WATER MGMNT|$79040.00\n",
            "29577|VASQUEZ,  ANTHONY P|DEPUTY FIRE COMMISSIONER|FIRE|$187680.00\n",
            "29578|VASQUEZ,  DANIEL|POLICE OFFICER|POLICE|$69684.00\n",
            "29579|VASQUEZ,  DANIEL A|POLICE OFFICER (ASSIGNED AS EVIDENCE TECHNICIAN)|POLICE|$90846.00\n",
            "29580|VASQUEZ,  DIMAR|POLICE OFFICER|POLICE|$46206.00\n",
            "29581|VASQUEZ,  EDUARDO|FIREFIGHTER-EMT|FIRE|$85680.00\n",
            "29582|VASQUEZ,  EDUARDO B|POLICE OFFICER|POLICE|$80778.00\n",
            "29583|VASQUEZ,  FIDEL|SUPERVISING TRAFFIC CONTROL AIDE|OEMC|$55800.00\n",
            "29584|VASQUEZ,  JESUS|BUILDING/CONSTRUCTION INSPECTOR|BUILDINGS|$88968.00\n",
            "29585|VASQUEZ,  JHON E|POLICE OFFICER|POLICE|$46206.00\n",
            "29586|VASQUEZ,  JORGE|OPERATING ENGINEER-GROUP A|WATER MGMNT|$98675.20\n",
            "29587|VASQUEZ,  JOSE F|LINEMAN|TRANSPORTN|$95888.00\n",
            "29588|VASQUEZ,  JOSEPH J|TRAFFIC CONTROL AIDE-HOURLY|OEMC|$19656.00\n",
            "29589|VASQUEZ JR,  MARTIN|POLICE OFFICER|POLICE|$69684.00\n",
            "29590|VASQUEZ,  MARCELINO|ELECTRICAL MECHANIC|TRANSPORTN|$91520.00\n",
            "29591|VASQUEZ,  MATTHEW C|FIREFIGHTER/PARAMEDIC|FIRE|$87720.00\n",
            "29592|VASQUEZ,  MICHAEL R|POLICE OFFICER|POLICE|$80778.00\n",
            "29593|VASQUEZ,  MICHELIN|LABORER - APPRENTICE|WATER MGMNT|$71136.00\n",
            "29594|VASQUEZ,  PABLO|POLICE OFFICER|POLICE|$89718.00\n",
            "29595|VASQUEZ,  RAUL A|POLICE OFFICER|POLICE|$80778.00\n",
            "29596|VASQUEZ,  ROSA M|POLICE OFFICER|POLICE|$83616.00\n",
            "29597|VASQUEZ,  SERGIO|TREE TRIMMER|STREETS & SAN|$74464.00\n",
            "29598|VASQUEZ,  VIDAL|SERGEANT|POLICE|$110370.00\n",
            "29599|VASQUEZ,  VINCENT A|POLICE OFFICER|POLICE|$80778.00\n",
            "29600|VASQUEZ,  YVONNE M|LABORER|AVIATION|$67329.60\n",
            "29601|VASSALLA,  MARIO|POLICE OFFICER|POLICE|$89718.00\n",
            "29602|VASSELLI,  EMMA|POLICE OFFICER|POLICE|$83616.00\n",
            "29603|VASSELLI,  NICHOLAS P|POLICE OFFICER|POLICE|$80778.00\n",
            "29604|VASSILEVA,  TINKA D|FILTRATION ENGINEER II|WATER MGMNT|$87912.00\n",
            "29605|VATES,  CHRISTIAN K|FIREFIGHTER/PARAMEDIC|FIRE|$83514.00\n",
            "29606|VAUGHAN,  LESTER D|POLICE OFFICER|POLICE|$80778.00\n",
            "29607|VAUGHN,  ASHANTHI D|LIBRARY PAGE|PUBLIC LIBRARY|$12407.20\n",
            "29608|VAUGHN,  DE MARRIA W|LABORER|AVIATION|$67329.60\n",
            "29609|VAUGHN,  JARCQUES|TRAFFIC CONTROL AIDE-HOURLY|OEMC|$19656.00\n",
            "29610|VAUGHN,  JOANNE|CUSTODIAL WORKER|AVIATION|$42369.60\n",
            "29611|VAUGHN JR,  JOSEPH T|REHABILITATION CONSTRUCTION SPECIALIST|COMMUNITY DEVELOPMENT|$75876.00\n",
            "29612|VAUL-KENNEDY,  GAYLE R|FIREFIGHTER (PER ARBITRATORS AWARD)-PARAMEDIC|FIRE|$108462.00\n",
            "29613|VAVAL,  YASMINA|POLICE OFFICER|POLICE|$83616.00\n",
            "29614|VAVOULEAS,  TAMMY L|COMMUNICATIONS OPERATOR I - 311|OEMC|$52848.00\n",
            "29615|VAZQUEZ,  ALFREDO|MANAGER OF 311 OPERATIONS|OEMC|$93024.00\n",
            "29616|VAZQUEZ,  ALICIA|CROSSING GUARD|POLICE|$18324.80\n",
            "29617|VAZQUEZ,  ANGEL L|LIEUTENANT-PARAMEDIC|FIRE|$112476.00\n",
            "29618|VAZQUEZ,  ANTHONY|POOL MOTOR TRUCK DRIVER|STREETS & SAN|$17945.20\n",
            "29619|VAZQUEZ,  AURORA|INVESTIGATOR - IPRA II|IPRA|$106104.00\n",
            "29620|VAZQUEZ,  DANIEL|POLICE OFFICER|POLICE|$80778.00\n",
            "29621|VAZQUEZ,  DAVE|POLICE OFFICER|POLICE|$65946.00\n",
            "29622|VAZQUEZ,  EDWARD H|CONSTRUCTION LABORER|GENERAL SERVICES|$79040.00\n",
            "29623|VAZQUEZ,  EVELYN|PROGRAM DIR|HEALTH|$84780.00\n",
            "29624|VAZQUEZ,  GEORGE L|ELECTRICAL MECHANIC-AUTO-POLICE MTR MNT|GENERAL SERVICES|$91520.00\n",
            "29625|VAZQUEZ,  GERMAN J|SERGEANT|POLICE|$110370.00\n",
            "29626|VAZQUEZ,  JOAQUIN|FIREFIGHTER|FIRE|$83616.00\n",
            "29627|VAZQUEZ JR,  HARRY|POLICE OFFICER|POLICE|$46206.00\n",
            "29628|VAZQUEZ JR,  JESUS M|POLICE OFFICER|POLICE|$86520.00\n",
            "29629|VAZQUEZ,  KEYLA|SUPVSR OF PERSONNEL SERVICES|INSPECTOR GEN|$77280.00\n",
            "29630|VAZQUEZ,  LOURDES M|POOL MOTOR TRUCK DRIVER|STREETS & SAN|$71780.80\n",
            "29631|VAZQUEZ LUCIANO,  VELMA|SPECIAL ASST|FAMILY & SUPPORT|$88812.00\n",
            "29632|VAZQUEZ,  LUIS J|FIREFIGHTER|FIRE|$83616.00\n",
            "29633|VAZQUEZ,  MARIA|POLICE OFFICER|POLICE|$69684.00\n",
            "29634|VAZQUEZ,  MIGDALIZ|POLICE OFFICER|POLICE|$80778.00\n",
            "29635|VAZQUEZ,  MIGUEL A|POLICE OFFICER|POLICE|$86520.00\n",
            "29636|VAZQUEZ,  MIGUEL A|POLICE OFFICER|POLICE|$83616.00\n",
            "29637|VAZQUEZ,  OWEN|POLICE OFFICER|POLICE|$89718.00\n",
            "29638|VAZQUEZ PEREZ,  LUZ M|SUPERVISING DISEASE CONTROL INVESTIGATOR - EXCL|HEALTH|$73752.00\n",
            "29639|VAZQUEZ TOPETE,  GUILLERMINA|COORD OF COMMUNITY SERVICES|FAMILY & SUPPORT|$73752.00\n",
            "29640|VAZQUEZ,  WILSON R|EQUIPMENT TRAINING SPECIALIST / MTD|AVIATION|$75936.00\n",
            "29641|VAZQUEZ,  YOLANDA|POLICE OFFICER|POLICE|$89718.00\n",
            "29642|VAZQUEZ,  YOLANDA|PROGRAM COORD|HEALTH|$69888.00\n",
            "29643|VEAL,  DEMETRIUS|TREE TRIMMER|STREETS & SAN|$74464.00\n",
            "29644|VEE,  DANA L|GENERAL LABORER - AVIATION|AVIATION|$39520.00\n",
            "29645|VEGA,  ALICIA|LIBRARY CLERK|PUBLIC LIBRARY|$45972.00\n",
            "29646|VEGA,  ANA L|POLICE OFFICER|POLICE|$83616.00\n",
            "29647|VEGA,  ANGELICA|FIRE COMMUNICATIONS OPERATOR I|OEMC|$65676.00\n",
            "29648|VEGA,  ARTURO|POLICE OFFICER|POLICE|$89718.00\n",
            "29649|VEGA,  CARMEN J|STAFF ASST|GENERAL SERVICES|$73200.00\n",
            "29650|VEGA,  DANIEL|MOTOR TRUCK DRIVER|STREETS & SAN|$71780.80\n",
            "29651|VEGA,  DOLORES|PRINCIPAL CLERK-ELECTIONS|BOARD OF ELECTION|$53028.00\n",
            "29652|VEGA,  GERARDO|POLICE OFFICER|POLICE|$80778.00\n",
            "29653|VEGA,  GERARDO|POLICE OFFICER|POLICE|$83616.00\n",
            "29654|VEGA,  HENRY R|CLERK III|POLICE|$48168.00\n",
            "29655|VEGA,  JEFFREY J|POLICE OFFICER|POLICE|$83616.00\n",
            "29656|VEGA,  JESSE M|HOISTING ENGINEER|AVIATION|$97968.00\n",
            "29657|VEGA,  JESSICA M|TRAFFIC CONTROL AIDE-HOURLY|OEMC|$19656.00\n",
            "29658|VEGA,  JOSE A|STATIONARY FIREMAN|WATER MGMNT|$65686.40\n",
            "29659|VEGA,  JOSE M|STATIONARY FIREMAN|WATER MGMNT|$65686.40\n",
            "29660|VEGA,  JULIAN A|POLICE OFFICER|POLICE|$86520.00\n",
            "29661|VEGA,  LUIS|POLICE OFFICER|POLICE|$92316.00\n",
            "29662|VEGA,  MARIA|COMMUNICABLE DISEASE CONTROL INVESTIGATOR II|HEALTH|$69888.00\n",
            "29663|VEGA,  MARILYN|FIREFIGHTER|FIRE|$65946.00\n",
            "29664|VEGA,  MARIO|POLICE OFFICER|POLICE|$65946.00\n",
            "29665|VEGA,  NORMA I|POLICE OFFICER|POLICE|$83616.00\n",
            "29666|VEGA,  OLGA C|AVIATION SECURITY OFFICER|AVIATION|$53628.00\n",
            "29667|VEGAS,  CHRISTOPHER J|FIREFIGHTER-EMT|FIRE|$88680.00\n",
            "29668|VEGA,  THELMA|POLICE OFFICER|POLICE|$80778.00\n",
            "29669|VEJAR,  YESENIA|POLICE OFFICER|POLICE|$65946.00\n",
            "29670|VELA,  JESUS|POLICE OFFICER|POLICE|$80778.00\n",
            "29671|VELASCO,  DEBORAH A|GENERAL LABORER - DSS|STREETS & SAN|$40560.00\n",
            "29672|VELASCO,  GABRIEL|FIREFIGHTER|FIRE|$80778.00\n",
            "29673|VELASCO JR,  EUGENIO|POLICE OFFICER|POLICE|$86520.00\n",
            "29674|VELASCO,  MARIA P|ASST TO THE COMMISSIONER|TRANSPORTN|$77280.00\n",
            "29675|VELASCO,  STEVE|PARAMEDIC|FIRE|$54114.00\n",
            "29676|VELASQUEZ,  DAISY|POLICE OFFICER|POLICE|$69684.00\n",
            "29677|VELASQUEZ,  DOREEN M|POLICE OFFICER (ASSIGNED AS DETECTIVE)|POLICE|$97044.00\n",
            "29678|VELASQUEZ,  GILBERT P|POLICE OFFICER|POLICE|$86520.00\n",
            "29679|VELASQUEZ,  HECTOR|LIEUTENANT-EMT|FIRE|$109872.00\n",
            "29680|VELASQUEZ,  ORLANDO|POLICE OFFICER / FLD TRNG OFFICER|POLICE|$94236.00\n",
            "29681|VELASQUEZ,  SCOTT|EQUAL EMPLOYMENT OPPORTUNITY OFFICER|HUMAN RESOURCES|$90000.00\n",
            "29682|VELASQUEZ,  SOFIA|POLICE OFFICER|POLICE|$46206.00\n",
            "29683|VELASQUEZ,  TERESA A|SPECIALIST IN AGING II|FAMILY & SUPPORT|$80424.00\n",
            "29684|VELAZQUEZ,  ABIMAEL|EQUIPMENT DISPATCHER|GENERAL SERVICES|$73028.80\n",
            "29685|VELAZQUEZ,  ANGELO C|POLICE OFFICER|POLICE|$89718.00\n",
            "29686|VELAZQUEZ,  AXEL|POLICE OFFICER|POLICE|$83616.00\n",
            "29687|VELAZQUEZ,  COSME C|POLICE OFFICER|POLICE|$83616.00\n",
            "29688|VELAZQUEZ,  GUSTAVO|POLICE OFFICER|POLICE|$86520.00\n",
            "29689|VELAZQUEZ,  HIPOLITO|POLICE OFFICER (ASSIGNED AS DETECTIVE)|POLICE|$97044.00\n",
            "29690|VELAZQUEZ,  JOHN|WATER RATE TAKER|WATER MGMNT|$73908.00\n",
            "29691|VELAZQUEZ,  JORGE|GENERAL LABORER - DSS|STREETS & SAN|$43201.60\n",
            "29692|VELAZQUEZ,  JOSE|POLICE OFFICER|POLICE|$65946.00\n",
            "29693|VELAZQUEZ JR,  MARCOS A|ELEVATOR INSPECTOR|BUILDINGS|$116771.16\n",
            "29694|VELAZQUEZ JR,  RUBEN|POLICE OFFICER (ASSIGNED AS DETECTIVE)|POLICE|$97044.00\n",
            "29695|VELAZQUEZ,  JUAN G|POLICE OFFICER|POLICE|$80778.00\n",
            "29696|VELAZQUEZ,  MARIA|POLICE OFFICER|POLICE|$89718.00\n",
            "29697|VELAZQUEZ,  MARIA E|TITLE V PROGRAM TRAINEE I|FAMILY & SUPPORT|$8580.00\n",
            "29698|VELAZQUEZ,  MARIANO|POLICE OFFICER|POLICE|$65946.00\n",
            "29699|VELAZQUEZ,  MARTIN J|POLICE OFFICER|POLICE|$83616.00\n",
            "29700|VELAZQUEZ,  MIGUEL A|OPERATING ENGINEER-GROUP C|WATER MGMNT|$93745.60\n",
            "29701|VELAZQUEZ,  MIGUEL A|AVIATION SECURITY OFFICER|AVIATION|$67212.00\n",
            "29702|VELAZQUEZ,  MILAGROS|PROJECTS ADMINISTRATOR|GENERAL SERVICES|$73980.00\n",
            "29703|VELAZQUEZ,  MIRIAM|DIR OF ACCOUNTING|FINANCE|$105564.00\n",
            "29704|VELAZQUEZ,  SATURNINO|POLICE OFFICER|POLICE|$89718.00\n",
            "29705|VELAZQUEZ,  SERGIO|POLICE OFFICER|POLICE|$86520.00\n",
            "29706|VELAZQUEZ,  WILFREDO|SERVICE WRITER|GENERAL SERVICES|$48156.00\n",
            "29707|VELAZQUEZ,  YOLANDA|AVIATION SECURITY OFFICER|AVIATION|$67212.00\n",
            "29708|VELETA,  BERNARD T|POLICE OFFICER|POLICE|$83616.00\n",
            "29709|VELETA,  CHRISTINE A|PARAMEDIC|FIRE|$54114.00\n",
            "29710|VELETTE,  PAUL J|FIREFIGHTER|FIRE|$80778.00\n",
            "29711|VELEZ,  ALAN N|AVIATION SECURITY OFFICER|AVIATION|$64188.00\n",
            "29712|VELEZ,  ALEXANDER|POLICE OFFICER|POLICE|$80778.00\n",
            "29713|VELEZ,  BENJAMIN M|POLICE OFFICER|POLICE|$89718.00\n",
            "29714|VELEZ,  BRYAN M|LIEUTENANT-EMT|FIRE|$109872.00\n",
            "29715|VELEZ,  CARLOS E|DEPUTY CHIEF|POLICE|$170112.00\n",
            "29716|VELEZ,  CHRISTINE|EXECUTIVE SECRETARY II|FAMILY & SUPPORT|$60408.00\n",
            "29717|VELEZ,  EDDIE|POLICE OFFICER|POLICE|$89718.00\n",
            "29718|VELEZ,  ESTHER|CROSSING GUARD|POLICE|$22131.20\n",
            "29719|VELEZ,  FELIPE|FIREFIGHTER (PER ARBITRATORS AWARD)-PARAMEDIC|FIRE|$108462.00\n",
            "29720|VELEZ,  FERNANDO C|POLICE OFFICER|POLICE|$89718.00\n",
            "29721|VELEZ,  FRANCISCO|COMMANDER|FIRE|$121956.00\n",
            "29722|VELEZ,  ISABEL C|LIBRARY ASSOCIATE|PUBLIC LIBRARY|$66120.00\n",
            "29723|VELEZ,  JESUS|MOTOR TRUCK DRIVER|STREETS & SAN|$71780.80\n",
            "29724|VELEZ,  JOHN P|POLICE OFFICER|POLICE|$80778.00\n",
            "29725|VELEZ,  JOSE A|POLICE OFFICER|POLICE|$83616.00\n",
            "29726|VELEZ JR,  JAIME|POLICE OFFICER|POLICE|$86520.00\n",
            "29727|VELEZ,  JUDY|ADMINISTRATIVE SERVICES OFFICER II|PUBLIC LIBRARY|$88812.00\n",
            "29728|VELEZ,  KAHARI D|AVIATION SECURITY OFFICER|AVIATION|$53628.00\n",
            "29729|VELEZ,  LETICIA|POLICE OFFICER|POLICE|$86520.00\n",
            "29730|VELEZ,  LUIS F|PARAMEDIC|FIRE|$54114.00\n",
            "29731|VELEZ,  RICARDO P|POOL MOTOR TRUCK DRIVER|TRANSPORTN|$71780.80\n",
            "29732|VELEZ,  STEFANIE M|FIRE COMMUNICATIONS OPERATOR I|OEMC|$64384.08\n",
            "29733|VELLA,  ROBERT|POLICE OFFICER|POLICE|$92316.00\n",
            "29734|VELLER,  CARL F|FIREFIGHTER-EMT|FIRE|$85680.00\n",
            "29735|VELLER,  JOHN G|LIEUTENANT|FIRE|$100440.00\n",
            "29736|VELLER,  MICHAEL J|AVIATION SECURITY OFFICER|AVIATION|$46656.00\n",
            "29737|VELORIA,  SCOTT A|CONCRETE LABORER|TRANSPORTN|$79040.00\n",
            "29738|VELOZ,  DAVID W|FOREMAN OF MACHINISTS|GENERAL SERVICES|$97448.00\n",
            "29739|VENCES,  SERGIO|POLICE OFFICER|POLICE|$83616.00\n",
            "29740|VENCKUS,  JAMES F|ASST TO THE COMMISSIONER|POLICE|$77280.00\n",
            "29741|VENCKUS,  JOHN P|POLICE OFFICER|POLICE|$86520.00\n",
            "29742|VENEGAS,  ANGELA V|SHEET METAL WORKER|AVIATION|$86382.40\n",
            "29743|VENEGAS,  JASON A|POLICE OFFICER|POLICE|$83616.00\n",
            "29744|VENEGAS,  JESSICA A|POLICE OFFICER|POLICE|$80778.00\n",
            "29745|VENEGAS,  JON P|POLICE OFFICER|POLICE|$80778.00\n",
            "29746|VENIACE,  LINDA|POOL MOTOR TRUCK DRIVER|AVIATION|$71780.80\n",
            "29747|VENTIMIGLIA,  SALVATORE N|FIREFIGHTER-EMT|FIRE|$85680.00\n",
            "29748|VENTRELLA,  JOHN F|POLICE OFFICER|POLICE|$83616.00\n",
            "29749|VENTURA,  MARR C|POLICE OFFICER|POLICE|$83616.00\n",
            "29750|VENTURA,  RAEGYN M|TRAFFIC CONTROL AIDE-HOURLY|OEMC|$19656.00\n",
            "29751|VENTURA,  RENEE S|SANITATION LABORER|STREETS & SAN|$72384.00\n",
            "29752|VENTURELLI,  GARY M|FIREFIGHTER/PARAMEDIC|FIRE|$90798.00\n",
            "29753|VENTURELLI,  JAMES J|MOTOR TRUCK DRIVER|WATER MGMNT|$71780.80\n",
            "29754|VERA,  ALFONSO|MOTOR TRUCK DRIVER|WATER MGMNT|$71780.80\n",
            "29755|VERA,  ELIZABETH|POLICE OFFICER (ASSIGNED AS EVIDENCE TECHNICIAN)|POLICE|$90846.00\n",
            "29756|VERA-HAMPSHIRE,  DORSEY E|LIBRARIAN I|PUBLIC LIBRARY|$53796.00\n",
            "29757|VERA,  JESSICA C|ADMINISTRATIVE ASST III - EXCLUDED|BUDGET & MGMT|$63276.00\n",
            "29758|VERA,  JESUS|POLICE OFFICER|POLICE|$80778.00\n",
            "29759|VERA,  JOSE|POOL MOTOR TRUCK DRIVER|TRANSPORTN|$71780.80\n",
            "29760|VERALDI,  ROSARIO|ELECTRICAL MECHANIC (AUTOMOTIVE)|GENERAL SERVICES|$91520.00\n",
            "29761|VERA,  MIGUEL A|POLICE OFFICER|POLICE|$80778.00\n",
            "29762|VERA,  RICARDO A|POLICE CADET|POLICE|$9360.00\n",
            "29763|VERA,  RICHARD A|LABORER|TRANSPORTN|$79040.00\n",
            "29764|VERA,  SERGIO M|BUILDING/CONSTRUCTION INSPECTOR|HEALTH|$112200.00\n",
            "29765|VERA,  VICTOR M|ASST TO THE ALDERMAN|CITY COUNCIL|$69024.00\n",
            "29766|VERBLE,  JOSEPH J|POLICE OFFICER|POLICE|$80778.00\n",
            "29767|VERDERBER,  DARREN J|FIREFIGHTER (PER ARBITRATORS AWARD)-PARAMEDIC|FIRE|$101688.00\n",
            "29768|VERDIN,  JOSEPH M|POLICE OFFICER|POLICE|$83616.00\n",
            "29769|VERDIN,  ROBERTO F|POLICE OFFICER|POLICE|$83616.00\n",
            "29770|VERDON,  DONALD E|POLICE OFFICER|POLICE|$80778.00\n",
            "29771|VEREECKE,  MELANIE C|LIBRARIAN III|PUBLIC LIBRARY|$87912.00\n",
            "29772|VERGARA,  FRANCISCA|SERGEANT|POLICE|$100440.00\n",
            "29773|VERGARA,  HECTOR L|SERGEANT|POLICE|$110370.00\n",
            "29774|VERGARA,  MONICA|SENIOR DATA ENTRY OPERATOR|POLICE|$50496.00\n",
            "29775|VERGIL,  ALEXIS L|POLICE OFFICER|POLICE|$80778.00\n",
            "29776|VERGIS,  NICHOLAS E|POLICE OFFICER|POLICE|$69684.00\n",
            "29777|VERGNAUD,  SUSAN|GRAPHIC ARTIST III|GENERAL SERVICES|$49668.00\n",
            "29778|VERMA,  ANUPAM|MANAGING ENGINEER - WATER MANAGEMENT|WATER MGMNT|$107952.00\n",
            "29779|VERNER,  RUSSELL|FIREFIGHTER-EMT|FIRE|$85680.00\n",
            "29780|VERNIKOV,  YAKOV N|SENIOR COMPANION|FAMILY & SUPPORT|$2756.00\n",
            "29781|VERRANEAULT,  CRISTINA|CROSSING GUARD|POLICE|$17492.80\n",
            "29782|VERTA,  CAMILLE A|POLICE COMMUNICATIONS OPERATOR II|OEMC|$77220.00\n",
            "29783|VERTA,  JOHN D|SERGEANT|POLICE|$103590.00\n",
            "29784|VERTA,  RAYMOND J|POLICE OFFICER (ASSIGNED AS DETECTIVE)|POLICE|$97044.00\n",
            "29785|VERTA,  RHONDA M|POLICE OFFICER|POLICE|$80778.00\n",
            "29786|VERTONE,  JOSEPH P|MOTOR TRUCK DRIVER|GENERAL SERVICES|$71780.80\n",
            "29787|VERTUCCI,  JOHN A|MOTOR TRUCK DRIVER|STREETS & SAN|$71780.80\n",
            "29788|VERZONI,  JOSEPH G|FOREMAN OF HOISTING ENGINEERS|STREETS & SAN|$106288.00\n",
            "29789|VERZONI,  PATRICIA R|MANAGER OF REVENUE COLLECTIONS|FINANCE|$94980.00\n",
            "29790|VESSEL,  SHIRLEY A|ADMINISTRATIVE ASST III|BUILDINGS|$80328.00\n",
            "29791|VETOS,  ANGELA|SUPERVISING TIMEKEEPER - LABORER|TRANSPORTN|$67344.00\n",
            "29792|VETOS,  MICHAEL J|SANITATION LABORER|STREETS & SAN|$72384.00\n",
            "29793|VETRANO,  PETER J|POLICE OFFICER (ASSIGNED AS DETECTIVE)|POLICE|$99888.00\n",
            "29794|VETRANO,  ROSS J|CONSTRUCTION LABORER|WATER MGMNT|$79040.00\n",
            "29795|VHORA,  ABDUL|POLICE OFFICER|POLICE|$69684.00\n",
            "29796|VIA,  HENRY B|POLICE OFFICER|POLICE|$89718.00\n",
            "29797|VIA,  MARY L|POLICE OFFICER|POLICE|$86520.00\n",
            "29798|VIANNA,  PEDRO|POLICE OFFICER|POLICE|$69684.00\n",
            "29799|VICARI,  FRANK A|POLICE OFFICER|POLICE|$83616.00\n",
            "29800|VICARI,  JOSEPH J|CEMENT FINISHER|TRANSPORTN|$89648.00\n",
            "29801|VICARI,  KIMBERLY A|POLICE OFFICER|POLICE|$80778.00\n",
            "29802|VICARI,  VALARIE M|POLICE OFFICER|POLICE|$83616.00\n",
            "29803|VICENCIO,  YVETTE M|POLICE OFFICER|POLICE|$80778.00\n",
            "29804|VICK,  JOHN R|POLICE OFFICER/EXPLSV DETECT K9 HNDLR|POLICE|$97044.00\n",
            "29805|VICK,  WILLIAM C|SERGEANT|POLICE|$110370.00\n",
            "29806|VICTORIA,  FRANCIS C|CUSTODIAL WORKER - PART TIME|AVIATION|$13468.00\n",
            "29807|VIDA,  BRIAN|POLICE OFFICER|POLICE|$65946.00\n",
            "29808|VIDEKA,  MICHAEL J|LIEUTENANT-EMT|FIRE|$117078.00\n",
            "29809|VIDEKA,  TODD A|FOREMAN OF CARPENTERS|WATER MGMNT|$95368.00\n",
            "29810|VIDINICH,  JOSEPH C|FIRE ENGINEER-EMT|FIRE|$99324.00\n",
            "29811|VIDLJINOVIC,  AMANDA M|POLICE OFFICER|POLICE|$80778.00\n",
            "29812|VIDLJINOVIC,  STEVAN N|POLICE OFFICER|POLICE|$80778.00\n",
            "29813|VIDLJINOVIC,  TOMISLAV|POLICE OFFICER|POLICE|$80778.00\n",
            "29814|VIDMAR,  JOSEPH A|ASST CHIEF OPERATING ENGINEER|WATER MGMNT|$108534.40\n",
            "29815|VIEYRA,  CARLOS|POLICE OFFICER|POLICE|$83616.00\n",
            "29816|VIEYRA,  JOEL|DEPUTY COMMISSIONER|TRANSPORTN|$116904.00\n",
            "29817|VILAYTHONG,  KHANH LUCY|LAW CLERK|LAW|$25152.40\n",
            "29818|VILCHIS,  RICHARD|POLICE OFFICER|POLICE|$83616.00\n",
            "29819|VILENCHIK,  DINA|SENIOR PROGRAMMER/ANALYST|BUSINESS AFFAIRS|$104736.00\n",
            "29820|VILLA,  BENJAMIN J|FIREFIGHTER-EMT|FIRE|$88680.00\n",
            "29821|VILLA,  DANIEL|POLICE OFFICER|POLICE|$86520.00\n",
            "29822|VILLA,  DIANNA L|POLICE OFFICER|POLICE|$80778.00\n",
            "29823|VILLAFRANCA,  MARCELINA|PUBLIC HEALTH AIDE|HEALTH|$48168.00\n",
            "29824|VILLAGOMEZ,  KATHERINE M|CONSTRUCTION LABORER|WATER MGMNT|$79040.00\n",
            "29825|VILLAGOMEZ,  MARIA E|CROSSING GUARD|POLICE|$18324.80\n",
            "29826|VILLAGOMEZ,  OCTAVIO|POLICE OFFICER|POLICE|$65946.00\n",
            "29827|VILLAGRANA,  ALEXANDER|POLICE OFFICER|POLICE|$86520.00\n",
            "29828|VILLAGRANA,  MIGUEL A|FIREFIGHTER-EMT (RECRUIT)|FIRE|$54114.00\n",
            "29829|VILLA,  JOHN M|POLICE OFFICER (ASSIGNED AS DETECTIVE)|POLICE|$99888.00\n",
            "29830|VILLA,  JOSE P|POLICE OFFICER|POLICE|$80778.00\n",
            "29831|VILLALOBOS,  DAVID A|SERGEANT|POLICE|$110370.00\n",
            "29832|VILLALOBOS,  EDWARD M|POLICE OFFICER|POLICE|$83616.00\n",
            "29833|VILLALOBOS,  ELICEO|ELECTRICAL MECHANIC (AUTOMOTIVE)|GENERAL SERVICES|$91520.00\n",
            "29834|VILLALONA,  ESPERANZA|ADMINISTRATIVE ASST III|FINANCE|$76656.00\n",
            "29835|VILLALONA,  WILLIAM E|SUPRVNG BUILDING/CONTRUCT INSPECTOR|HEALTH|$128952.00\n",
            "29836|VILLALON,  ROLANDO|CIVIL ENGINEER IV|WATER MGMNT|$104736.00\n",
            "29837|VILLALPANDO,  OSCAR|COORD OF STUDIO OPERATIONS|BUSINESS AFFAIRS|$73752.00\n",
            "29838|VILLALPANDO,  PATRICIA|AUDITOR II|FINANCE|$87912.00\n",
            "29839|VILLA,  MELISSA R|FORENSIC AUDIT INVESTIGATOR|INSPECTOR GEN|$66648.00\n",
            "29840|VILLA,  MICHAEL A|POLICE OFFICER|POLICE|$89718.00\n",
            "29841|VILLANOVA,  CURT R|FIREFIGHTER|FIRE|$80778.00\n",
            "29842|VILLANUEVA,  ARTURO L|POLICE OFFICER|POLICE|$80778.00\n",
            "29843|VILLANUEVA,  HECTOR|POLICE OFFICER|POLICE|$83616.00\n",
            "29844|VILLANUEVA,  JAIME J|OPERATING ENGINEER-GROUP C|WATER MGMNT|$93745.60\n",
            "29845|VILLANUEVA,  JAVIER|FIREFIGHTER-EMT|FIRE|$85680.00\n",
            "29846|VILLANUEVA,  JOSE A|FIREFIGHTER-EMT|FIRE|$85680.00\n",
            "29847|VILLANUEVA,  LEONARDO|PLUMBER|WATER MGMNT|$97032.00\n",
            "29848|VILLANUEVA,  MARIA F|LIBRARIAN II|PUBLIC LIBRARY|$80424.00\n",
            "29849|VILLANUEVA,  MICHAEL|SANITATION LABORER|STREETS & SAN|$72384.00\n",
            "29850|VILLANUEVA,  MICHAEL A|WEIGHMASTER|STREETS & SAN|$72384.00\n",
            "29851|VILLAREAL,  RUDY|SANITATION LABORER|STREETS & SAN|$74464.00\n",
            "29852|VILLARREAL,  CRISTINA M|DIR OF PUBLIC AFFAIRS|HEALTH|$84000.00\n",
            "29853|VILLARREAL III,  RAUL|MOTOR TRUCK DRIVER|STREETS & SAN|$71780.80\n",
            "29854|VILLARREAL,  JASON A|POLICE OFFICER|POLICE|$83616.00\n",
            "29855|VILLARREAL,  MARCO A|POLICE OFFICER|POLICE|$83616.00\n",
            "29856|VILLARREAL,  MARIA E|SANITATION LABORER|STREETS & SAN|$72384.00\n",
            "29857|VILLARREAL,  RAUL|ELECTRICAL MECHANIC|WATER MGMNT|$91520.00\n",
            "29858|VILLARREAL,  RITA D|ELECTRICAL MECHANIC|AVIATION|$91520.00\n",
            "29859|VILLARREAL,  STEPHEN A|POLICE OFFICER|POLICE|$92316.00\n",
            "29860|VILLASENOR,  ARMANDO|POLICE OFFICER|POLICE|$83616.00\n",
            "29861|VILLASENOR,  JUAN|PLUMBER|WATER MGMNT|$97032.00\n",
            "29862|VILLASENOR,  VICTOR G|ASST DISTRICT SUPERINTENDENT|WATER MGMNT|$103272.00\n",
            "29863|VILLA,  SERGIO|POLICE OFFICER|POLICE|$80778.00\n",
            "29864|VILLATORO,  HECTOR A|MOTOR TRUCK DRIVER|GENERAL SERVICES|$71780.80\n",
            "29865|VILLEDA,  RIGOBERTO L|POLICE OFFICER|POLICE|$83616.00\n",
            "29866|VILLEGAS,  JOSAFAT|PAINTER|STREETS & SAN|$86840.00\n",
            "29867|VILLEGAS,  MIGUEL|GARAGE ATTENDANT|GENERAL SERVICES|$46592.00\n",
            "29868|VILLENA,  SHARON A|CROSSING GUARD|POLICE|$18324.80\n",
            "29869|VILLETTE,  KATHLEEN L|LIBRARIAN III|PUBLIC LIBRARY|$87912.00\n",
            "29870|VILORIA,  CHRISTOPHE S|SENIOR DATA ENTRY OPERATOR|POLICE|$48168.00\n",
            "29871|VIMARCO,  PAMELA A|CROSSING GUARD|POLICE|$20092.80\n",
            "29872|VINAKOS,  ANDREW|POLICE OFFICER|POLICE|$69684.00\n",
            "29873|VINCENT,  ANTHONY|PLUMBER|WATER MGMNT|$97032.00\n",
            "29874|VINCENT,  ANTHONY|POLICE OFFICER|POLICE|$69684.00\n",
            "29875|VINCENT,  MAUREEN L|SERGEANT|POLICE|$106920.00\n",
            "29876|VINCENT,  RICHARD T|FIREFIGHTER-EMT|FIRE|$85680.00\n",
            "29877|VINCENT,  WILLIAM E|CONCRETE LABORER|TRANSPORTN|$79040.00\n",
            "29878|VINE,  PATRICIA A|CROSSING GUARD|POLICE|$18324.80\n",
            "29879|VINS,  JAMES M|POLICE OFFICER|POLICE|$89718.00\n",
            "29880|VINSON,  CLIFFORD J|SANITATION LABORER|STREETS & SAN|$72384.00\n",
            "29881|VINSON,  LONNIE|POLICE OFFICER|POLICE|$86520.00\n",
            "29882|VINSON,  PETER S|POLICE OFFICER|POLICE|$89718.00\n",
            "29883|VIRAMONTES,  CARMEN|FIRE ENGINEER-EMT|FIRE|$102930.00\n",
            "29884|VIRAMONTES,  HENRY K|SENIOR DATA ENTRY OPERATOR|POLICE|$60780.00\n",
            "29885|VIRAMONTES JR,  ANTONIO|LABORER|TRANSPORTN|$55328.00\n",
            "29886|VIRAMONTES,  MIRIAM A|POOL MOTOR TRUCK DRIVER|AVIATION|$71780.80\n",
            "29887|VIRAMONTES,  RICARDO|POLICE OFFICER|POLICE|$83616.00\n",
            "29888|VIRELLA,  ROLANDO|POLICE OFFICER|POLICE|$86520.00\n",
            "29889|VIRGILIO,  CARLO|POLICE OFFICER (ASSIGNED AS DETECTIVE)|POLICE|$99888.00\n",
            "29890|VIRIYAKUL,  VINIJ V|FIREFIGHTER-EMT|FIRE|$85680.00\n",
            "29891|VISCARRA,  MARIA E|POLICE OFFICER|POLICE|$80778.00\n",
            "29892|VISOR  JR,  ROY|POLICE OFFICER|POLICE|$92316.00\n",
            "29893|VISOR,  PHILIP A|POLICE OFFICER (ASSIGNED AS DETECTIVE)|POLICE|$93648.00\n",
            "29894|VISTO PEREZ,  MARIA|POLICE COMMUNICATIONS OPERATOR I|OEMC|$77220.00\n",
            "29895|VITALE,  VICTORIA|DISPATCHER - ASPHALT|TRANSPORTN|$79040.00\n",
            "29896|VITALO,  JOHN A|ENGINEERING TECHNICIAN V|FINANCE|$88116.00\n",
            "29897|VITCA,  FELICIAN|POLICE OFFICER|POLICE|$86520.00\n",
            "29898|VITEK,  BRIAN D|REFUSE COLLECTION COORD|STREETS & SAN|$84888.00\n",
            "29899|VITEK,  KATHLEEN A|INFORMATION COORD|BUSINESS AFFAIRS|$93024.00\n",
            "29900|VITELLARO JR.,  RICHARD|POLICE OFFICER|POLICE|$65946.00\n",
            "29901|VITELLARO,  MICHAEL A|POLICE OFFICER|POLICE|$83616.00\n",
            "29902|VITERI,  ALVARO O|POLICE OFFICER|POLICE|$86520.00\n",
            "29903|VITERI,  ANGELICA|POLICE OFFICER|POLICE|$80778.00\n",
            "29904|VITI,  MARIA T|POLICE OFFICER (ASSIGNED AS DETECTIVE)|POLICE|$97044.00\n",
            "29905|VITO,  ANTHONY J|POLICE OFFICER|POLICE|$80778.00\n",
            "29906|VITTORI,  JAMES L|POLICE OFFICER|POLICE|$73296.00\n",
            "29907|VITTORI,  LOUIS J|POLICE OFFICER (ASSIGNED AS DETECTIVE)|POLICE|$93648.00\n",
            "29908|VITTORINI,  DOMINICK|PLUMBING INSPECTOR|BUILDINGS|$99252.00\n",
            "29909|VITULLI,  AMY M|POLICE OFFICER|POLICE|$86520.00\n",
            "29910|VITULLI,  KATHLEEN M|PARAMEDIC I/C|FIRE|$99888.00\n",
            "29911|VITULLI,  MICHAEL R|FIRE ENGINEER-EMT|FIRE|$102930.00\n",
            "29912|VIVANCO,  ADRIAN|POLICE OFFICER|POLICE|$83616.00\n",
            "29913|VIVAS JR,  ALFREDO|POLICE OFFICER (ASSIGNED AS DETECTIVE)|POLICE|$93648.00\n",
            "29914|VIVERITO,  DENISE M|FIREFIGHTER/PARAMEDIC|FIRE|$90798.00\n",
            "29915|VIVERITO,  EDWARD D|ELECTRICAL MECHANIC|AVIATION|$91520.00\n",
            "29916|VIVERITO,  VINCENT P|SERGEANT|POLICE|$103590.00\n",
            "29917|VIVEROS,  DAVID|AUTO POUND SUPVSR|STREETS & SAN|$93228.00\n",
            "29918|VIVIANO,  DANA A|CEMENT FINISHER|WATER MGMNT|$89648.00\n",
            "29919|VIVIRITO,  PATRICK A|AVIATION SECURITY OFFICER|AVIATION|$64188.00\n",
            "29920|VIZZINI,  JAMES S|POLICE OFFICER|POLICE|$83616.00\n",
            "29921|VLASIC,  MICHAEL J|FRM OF MACHINISTS - AUTOMOTIVE|GENERAL SERVICES|$97448.00\n",
            "29922|VLCANSKY,  MILAN L|POLICE OFFICER|POLICE|$83616.00\n",
            "29923|VLCANSKY,  VLADIMIR M|POLICE OFFICER|POLICE|$86520.00\n",
            "29924|VOCATY,  JOHN F|POOL MOTOR TRUCK DRIVER|STREETS & SAN|$71780.80\n",
            "29925|VO,  DANIEL H|POLICE OFFICER|POLICE|$86520.00\n",
            "29926|VOEGTLE,  JAY J|PIPE LOCATING MACHINE OPERATOR|WATER MGMNT|$101192.00\n",
            "29927|VOGEL,  JEANNE M|POLICE OFFICER (ASSIGNED AS DETECTIVE)|POLICE|$93648.00\n",
            "29928|VOGELL,  ROBYN L|CROSSING GUARD|POLICE|$21080.80\n",
            "29929|VOGEL,  MARTIN A|POLICE OFFICER|POLICE|$86520.00\n",
            "29930|VOGENTHALER,  MICHAEL W|POLICE OFFICER (ASSIGNED AS DETECTIVE)|POLICE|$97044.00\n",
            "29931|VOGENTHALER,  THOMAS E|CAPTAIN-EMT|FIRE|$127566.00\n",
            "29932|VOGLER,  JASON J|POLICE OFFICER|POLICE|$83616.00\n",
            "29933|VOGRICH,  GLENN J|FIREFIGHTER|FIRE|$93594.00\n",
            "29934|VOGT,  ROBERT F|PARAMEDIC I/C|FIRE|$83370.00\n",
            "29935|VOGT,  VINCENT N|POLICE OFFICER|POLICE|$86520.00\n",
            "29936|VOGT,  WILLIAM C|DISTRICT CHIEF|FIRE|$170112.00\n",
            "29937|VOGWILL,  DAVID J|FIREFIGHTER-EMT|FIRE|$85680.00\n",
            "29938|VOIGHT,  ROBERT M|POLICE OFFICER (ASSIGNED AS DETECTIVE)|POLICE|$93648.00\n",
            "29939|VOJTAS,  MICHAEL J|PARAMEDIC|FIRE|$80778.00\n",
            "29940|VO,  KELLY N|POLICE OFFICER|POLICE|$83616.00\n",
            "29941|VOLANTI,  CHARLES A|ASPHALT LABORER|TRANSPORTN|$79040.00\n",
            "29942|VOLINI,  MAUREEN C|SUPVSR OF PERSONNEL SERVICES|PROCUREMENT|$84780.00\n",
            "29943|VOLINI,  MICHAEL A|ASST COMMISSIONER|TRANSPORTN|$114588.00\n",
            "29944|VOLK,  BERNARD E|FIREFIGHTER|FIRE|$93594.00\n",
            "29945|VOLK,  JEREMY R|POLICE OFFICER|POLICE|$89718.00\n",
            "29946|VON BERGEN,  THOMAS|BATTALION CHIEF - EMT|FIRE|$143682.00\n",
            "29947|VONIL,  ROOSEVELT K|POOL MOTOR TRUCK DRIVER|STREETS & SAN|$71780.80\n",
            "29948|VON KONDRAT,  ERICK M|POLICE OFFICER|POLICE|$86520.00\n",
            "29949|VONMOSER,  CARRIE|ALDERMANIC AIDE|CITY COUNCIL|$40950.00\n",
            "29950|VOPICKA,  RICHARD F|LIEUTENANT-EMT|FIRE|$109872.00\n",
            "29951|VOPICKA,  SUSAN|ASST TO THE COMMISSIONER|CULTURAL AFFAIRS|$80916.00\n",
            "29952|VORIS,  DANIEL J|FIRE ENGINEER-EMT|FIRE|$102930.00\n",
            "29953|VORTES,  VELMA|CLERK IV|FIRE|$63708.00\n",
            "29954|VOSBURGH,  GRANT|PARAMEDIC|FIRE|$54114.00\n",
            "29955|VOSE,  LORI A|LIBRARY PAGE|PUBLIC LIBRARY|$12407.20\n",
            "29956|VOSSEL,  PAUL K|AVIATION SECURITY OFFICER|AVIATION|$46656.00\n",
            "29957|VOSS,  JONATHAN S|POLICE OFFICER|POLICE|$80778.00\n",
            "29958|VOULGARIS,  ELIAS A|COMMANDER|POLICE|$162684.00\n",
            "29959|VOVES III,  JAMES E|FIREFIGHTER|FIRE|$83616.00\n",
            "29960|VOVOS,  THOMAS S|POLICE OFFICER (ASSIGNED AS DETECTIVE)|POLICE|$97044.00\n",
            "29961|VRENTAS,  NANCY|POLICE OFFICER|POLICE|$83616.00\n",
            "29962|VUCKO,  JASON M|LIEUTENANT|POLICE|$116724.00\n",
            "29963|VUJIC,  MILAN|SERGEANT|POLICE|$110370.00\n",
            "29964|VULETIC II,  ANTHONY J|FIREFIGHTER (PER ARBITRATORS AWARD)-PARAMEDIC|FIRE|$98244.00\n",
            "29965|VULETIC,  NEBOJSA|POLICE OFFICER|POLICE|$86520.00\n",
            "29966|VULICH,  FRANK|HOISTING ENGINEER|WATER MGMNT|$97968.00\n",
            "29967|VUOLO,  MARIA|ASST CORPORATION COUNSEL|LAW|$57192.00\n",
            "29968|VUONG,  TUAN Q|SENIOR DATA BASE ANALYST|GENERAL SERVICES|$104736.00\n",
            "29969|VYHNANEK,  JOHN I|ASPHALT LABORER|TRANSPORTN|$79040.00\n",
            "29970|WABI,  STEVE A|FIREFIGHTER-EMT|FIRE|$85680.00\n",
            "29971|WACHOWSKI,  IRENE|ACCOUNTING TECHNICIAN III|COMMUNITY DEVELOPMENT|$63708.00\n",
            "29972|WACH,  THOMAS R|FIREFIGHTER-EMT|FIRE|$85680.00\n",
            "29973|WADAS,  MICHAEL W|FIREFIGHTER-EMT|FIRE|$85680.00\n",
            "29974|WADDELL,  CHARLES E|FIREFIGHTER/PARAMEDIC|FIRE|$87720.00\n",
            "29975|WADDELL,  REBECCA L|PARAMEDIC|FIRE|$54114.00\n",
            "29976|WADDY,  TODD Y|CONSTRUCTION LABORER|WATER MGMNT|$79040.00\n",
            "29977|WADE,  DEMEKA J|PERSONAL ASSISTANT|FIRE|$76632.00\n",
            "29978|WADE,  DENISE|ASST DEPUTY CHIEF PARAMEDIC|FIRE|$156360.00\n",
            "29979|WADE,  DEXTER R|SANITATION LABORER|STREETS & SAN|$72384.00\n",
            "29980|WADE,  ERIC S|LIBRARY CLERK|PUBLIC LIBRARY|$41952.00\n",
            "29981|WADE,  FRANKLIN D|MOTOR TRUCK DRIVER|STREETS & SAN|$71780.80\n",
            "29982|WADE JOHNSON,  JANINE|FIREFIGHTER-EMT|FIRE|$95460.00\n",
            "29983|WADE JR,  LEONARD E|REFUSE COLLECTION COORD|STREETS & SAN|$97596.00\n",
            "29984|WADE,  LANDON J|SERGEANT|POLICE|$106920.00\n",
            "29985|WADE,  MARCUS G|POLICE OFFICER|POLICE|$83616.00\n",
            "29986|WADE,  MARSHALL L|FIREFIGHTER-EMT|FIRE|$91764.00\n",
            "29987|WADE,  MARTHA R|ADMINISTRATIVE ASST III|AVIATION|$69888.00\n",
            "29988|WADE,  WILLIAM E|MOTOR TRUCK DRIVER|STREETS & SAN|$71780.80\n",
            "29989|WADLEY,  EDWARD W|PARKING ENFORCEMENT AIDE|FINANCE|$44244.00\n",
            "29990|WADMAN,  EMILIE R|PARAMEDIC|FIRE|$54114.00\n",
            "29991|WADOLNY,  ALISON M|PARAMEDIC|FIRE|$54114.00\n",
            "29992|WAEDEKIN,  ANTHONY J|FIREFIGHTER (PER ARBITRATORS AWARD)-PARAMEDIC|FIRE|$98244.00\n",
            "29993|WAFER,  DEANN L|POLICE OFFICER|POLICE|$86520.00\n",
            "29994|WAFER,  JERRY B|AVIATION COMMUNICATIONS OPERATOR|OEMC|$80940.00\n",
            "29995|WAGER,  GARY J|POLICE OFFICER (ASSIGNED AS DETECTIVE)|POLICE|$93648.00\n",
            "29996|WAGNER,  BRIAN J|ELECTRICAL MECHANIC (AUTOMOTIVE)|GENERAL SERVICES|$91520.00\n",
            "29997|WAGNER,  CHARLES G|GENERAL SUPT OF STREETS AND SANITATION|STREETS & SAN|$110112.00\n",
            "29998|WAGNER,  CHRISTOPHE M|BATTALION CHIEF - EMT|FIRE|$143682.00\n",
            "29999|WAGNER,  DENNIS T|LIEUTENANT-EMT|FIRE|$117078.00\n",
            "30000|WAGNER,  JAMES M|FIREFIGHTER-EMT|FIRE|$85680.00\n",
            "30001|WAGNER,  JAMES W|ASPHALT FOREMAN|TRANSPORTN|$80912.00\n",
            "30002|WAGNER,  JOANN|DISPATCHER - ASPHALT|TRANSPORTN|$79040.00\n",
            "30003|WAGNER,  JOHN B|FIREFIGHTER-EMT|FIRE|$91764.00\n",
            "30004|WAGNER,  JOHN M|OPERATING ENGINEER-GROUP A|AVIATION|$98675.20\n",
            "30005|WAGNER,  JOSEPH A|POLICE OFFICER|POLICE|$83616.00\n",
            "30006|WAGNER,  MATTHEW P|POLICE OFFICER|POLICE|$80778.00\n",
            "30007|WAGNER,  MELISSA A|LIBRARIAN I|PUBLIC LIBRARY|$53796.00\n",
            "30008|WAGNER,  MICHAEL|POLICE OFFICER|POLICE|$69684.00\n",
            "30009|WAGNER,  MICHAEL J|FOREMAN OF MOTOR TRUCK DRIVERS|TRANSPORTN|$75732.80\n",
            "30010|WAGNER,  NATHANIEL O|LIBRARY ASSOCIATE - HOURLY|PUBLIC LIBRARY|$24835.20\n",
            "30011|WAGNER,  RICHARD W|MACHINIST (AUTOMOTIVE)|GENERAL SERVICES|$92248.00\n",
            "30012|WAGNER,  ROBERT D|HOISTING ENGINEER|WATER MGMNT|$97968.00\n",
            "30013|WAGNER,  RYAN|POLICE OFFICER|POLICE|$83616.00\n",
            "30014|WAGNER,  SHERRY D|POLICE OFFICER|POLICE|$46206.00\n",
            "30015|WAGNER,  THOMAS|FAA FIRE TRAINING SPECIALIST|FIRE|$123948.00\n",
            "30016|WAGNER,  WILLIAM T|POLICE OFFICER|POLICE|$83616.00\n",
            "30017|WAGUESPACK,  SCOTT E|ALDERMAN|CITY COUNCIL|$108723.96\n",
            "30018|WAHLGREN,  DAWN K|PARAMEDIC|FIRE|$54114.00\n",
            "30019|WAHL,  HOWARD B|FIREFIGHTER (PER ARBITRATORS AWARD)-PARAMEDIC|FIRE|$101688.00\n",
            "30020|WAHRER,  DANIELLE A|POLICE OFFICER|POLICE|$83616.00\n",
            "30021|WAINDLE,  BARBARA A|LIBRARIAN I|PUBLIC LIBRARY|$72840.00\n",
            "30022|WAITE,  PAUL D|ENVIRONMENTAL ENGINEER III|GENERAL SERVICES|$79632.00\n",
            "30023|WAKEFIELD,  DELORES R|POLICE COMMUNICATIONS OPERATOR I|OEMC|$67212.00\n",
            "30024|WAKEFIELD,  JEREMY C|SANITATION LABORER|STREETS & SAN|$72384.00\n",
            "30025|WAKEFIELD,  KENNETH L|POLICE OFFICER|POLICE|$89718.00\n",
            "30026|WAKE,  THOMAS J|POLICE OFFICER|POLICE|$83616.00\n",
            "30027|WALANO,  MICHAEL C|POLICE OFFICER|POLICE|$83616.00\n",
            "30028|WALAT,  HENRY J|POOL MOTOR TRUCK DRIVER|STREETS & SAN|$71780.80\n",
            "30029|WALBERG III,  HERBERT J|POLICE OFFICER|POLICE|$83616.00\n",
            "30030|WALCOTT,  DEKALB E|FIREFIGHTER-EMT|FIRE|$85680.00\n",
            "30031|WALCZAK,  CHRISTOPHER S|FIREFIGHTER/PARAMEDIC|FIRE|$83514.00\n",
            "30032|WALCZAK,  TRACY L|SERGEANT|POLICE|$100440.00\n",
            "30033|WALDBUESSER,  THERESA A|POLICE OFFICER|POLICE|$69684.00\n",
            "30034|WALDERA,  THOMAS P|COMMANDER|POLICE|$162684.00\n",
            "30035|WALDHOFF,  JEFFERY A|ASST CORPORATION COUNSEL|LAW|$86376.00\n",
            "30036|WALDINGER,  SCOTT B|ENGINEERING TECHNICIAN IV|WATER MGMNT|$73200.00\n",
            "30037|WALDMAN,  STEVEN M|CONSTRUCTION LABORER|WATER MGMNT|$79040.00\n",
            "30038|WALDROM,  JEFFREY A|LIEUTENANT-EMT|FIRE|$106524.00\n",
            "30039|WALEGA,  CRAIG J|OPERATING ENGINEER-GROUP C|WATER MGMNT|$93745.60\n",
            "30040|WALEROWICZ,  RON J|PARAMEDIC I/C|FIRE|$97044.00\n",
            "30041|WALICZEK,  EDWARD J|LIEUTENANT-EMT|FIRE|$117078.00\n",
            "30042|WALKER,  AARON K|REFUSE COLLECTION COORD|STREETS & SAN|$93228.00\n",
            "30043|WALKER,  ADAM R|ASST CORPORATION COUNSEL|LAW|$103788.00\n",
            "30044|WALKER,  ALFRED L|COMMUNICATIONS OPERATOR I - 311|OEMC|$50496.00\n",
            "30045|WALKER,  ANDREA|POLICE OFFICER|POLICE|$86520.00\n",
            "30046|WALKER,  ANNASTASIA M|CHIEF ADMINISTRATIVE OFFICER|FIRE|$138780.00\n",
            "30047|WALKER,  ANNIE|SENIOR DATA ENTRY OPERATOR|POLICE|$52848.00\n",
            "30048|WALKER,  ANTHONY|POLICE OFFICER|POLICE|$89718.00\n",
            "30049|WALKER,  BERNADETTE D|CROSSING GUARD|POLICE|$22131.20\n",
            "30050|WALKER,  CALVIN E|FIRE ENGINEER|FIRE|$99888.00\n",
            "30051|WALKER,  CLAY T|POLICE OFFICER|POLICE|$86520.00\n",
            "30052|WALKER,  COREY L|SERGEANT|POLICE|$103590.00\n",
            "30053|WALKER,  CORNELL|FIREFIGHTER-EMT|FIRE|$95460.00\n",
            "30054|WALKER,  CRAIG D|DETENTION AIDE|POLICE|$64188.00\n",
            "30055|WALKER,  DANIELLE L|LIBRARY PAGE|PUBLIC LIBRARY|$12407.20\n",
            "30056|WALKER,  DANTE S|POLICE OFFICER|POLICE|$86520.00\n",
            "30057|WALKER,  DAPHINE R|ADMINISTRATIVE ASST III|HEALTH|$69888.00\n",
            "30058|WALKER,  DARICE M|POLICE OFFICER|POLICE|$80778.00\n",
            "30059|WALKER,  DAVID L|POLICE OFFICER|POLICE|$92316.00\n",
            "30060|WALKER,  DENISE|POLICE COMMUNICATIONS OPERATOR II|OEMC|$88788.00\n",
            "30061|WALKER,  DONALD L|CAPTAIN-EMT|FIRE|$131466.00\n",
            "30062|WALKER,  DONNELL|POLICE OFFICER|POLICE|$83616.00\n",
            "30063|WALKER,  ERIC M|POLICE OFFICER (ASSIGNED AS DETECTIVE)|POLICE|$93648.00\n",
            "30064|WALKER,  EUNICE E|POOL MOTOR TRUCK DRIVER|TRANSPORTN|$71780.80\n",
            "30065|WALKER,  FACHIN N|POLICE OFFICER|POLICE|$83616.00\n",
            "30066|WALKER,  HERBERT C|POLICE OFFICER|POLICE|$86520.00\n",
            "30067|WALKER,  JEAN|SENIOR DATA ENTRY OPERATOR|POLICE|$60780.00\n",
            "30068|WALKER,  JEFFREY L|POLICE OFFICER|POLICE|$89718.00\n",
            "30069|WALKER,  JERMELL|POOL MOTOR TRUCK DRIVER|STREETS & SAN|$64604.80\n",
            "30070|WALKER,  JEWEL L|SANITARIAN II|HEALTH|$69888.00\n",
            "30071|WALKER,  KAREN E|CLERK III|STREETS & SAN|$43920.00\n",
            "30072|WALKER,  KENNETH F|POLICE OFFICER|POLICE|$86520.00\n",
            "30073|WALKER,  KYLE L|POLICE OFFICER|POLICE|$86520.00\n",
            "30074|WALKER,  LEISA|SENIOR DATA ENTRY OPERATOR|POLICE|$58020.00\n",
            "30075|WALKER,  LISA M|POLICE OFFICER|POLICE|$86520.00\n",
            "30076|WALKER,  LISA M|ACCOUNTANT IV|FINANCE|$95880.00\n",
            "30077|WALKER,  MARY E|FOSTER GRANDPARENT|FAMILY & SUPPORT|$2756.00\n",
            "30078|WALKER,  MARY L|ADMINISTRATIVE ASST II|WATER MGMNT|$66684.00\n",
            "30079|WALKER,  MATTHEW C|LIBRARY CLERK - HOURLY|PUBLIC LIBRARY|$15995.20\n",
            "30080|WALKER,  MICHAEL|PRINCIPAL COMPUTER CONSOLE OPERATOR|DoIT|$73752.00\n",
            "30081|WALKER,  MICHELLE A|POLICE OFFICER|POLICE|$83616.00\n",
            "30082|WALKER,  MYRTA T|POLICE OFFICER|POLICE|$89718.00\n",
            "30083|WALKER,  NADINE|CROSSING GUARD - PER AGREEMENT|POLICE|$13790.40\n",
            "30084|WALKER,  NICOL|POLICE OFFICER|POLICE|$80778.00\n",
            "30085|WALKER,  NORA D|POLICE OFFICER|POLICE|$89718.00\n",
            "30086|WALKER,  PAMELA J|ARCHITECT IV|BUILDINGS|$79632.00\n",
            "30087|WALKER,  PARTIECE|POLICE OFFICER|POLICE|$80778.00\n",
            "30088|WALKER,  PATRICA A|FOSTER GRANDPARENT|FAMILY & SUPPORT|$2756.00\n",
            "30089|WALKER,  RHONDA L|CAPTAIN|FIRE|$120264.00\n",
            "30090|WALKER,  ROBERT A|FIRE MARSHAL-EMT|FIRE|$91764.00\n",
            "30091|WALKER,  ROBERT E|SERGEANT|POLICE|$103590.00\n",
            "30092|WALKER,  RONALD S|POLICE OFFICER|POLICE|$83616.00\n",
            "30093|WALKER,  SHANNON M|CROSSING GUARD|POLICE|$18324.80\n",
            "30094|WALKER,  SHARHONDA|CROSSING GUARD - PER AGREEMENT|POLICE|$13790.40\n",
            "30095|WALKER,  SHARON K|POLICE OFFICER (ASSIGNED AS DETECTIVE)|POLICE|$97044.00\n",
            "30096|WALKER,  SHEILA M|ADMINISTRATIVE ASST II|BUILDINGS|$55428.00\n",
            "30097|WALKER SMITH,  PAMELA B|PROJECT COORD|PROCUREMENT|$77280.00\n",
            "30098|WALKER,  STACEY D|POLICE OFFICER|POLICE|$92316.00\n",
            "30099|WALKER,  STANLEY L|MACHINIST (AUTOMOTIVE)|GENERAL SERVICES|$92248.00\n",
            "30100|WALKER,  TANESHA P|LIBRARY PAGE|PUBLIC LIBRARY|$12407.20\n",
            "30101|WALKER,  TIFFANY O|POLICE OFFICER|POLICE|$83616.00\n",
            "30102|WALKER,  TRACI L|SERGEANT|POLICE|$103590.00\n",
            "30103|WALKER,  TRACY K|POLICE COMMUNICATIONS OPERATOR I|OEMC|$61260.00\n",
            "30104|WALKER,  WILLIAM|MOTOR TRUCK DRIVER|STREETS & SAN|$71780.80\n",
            "30105|WALKER,  YOLANDA|TRAFFIC CONTROL AIDE-HOURLY|OEMC|$19656.00\n",
            "30106|WALKOSZ,  CHRISTOPHER|POLICE OFFICER|POLICE|$46206.00\n",
            "30107|WALKOSZ,  JACEK|POLICE OFFICER|POLICE|$83616.00\n",
            "30108|WALLACE,  ADAM T|POLICE OFFICER|POLICE|$80778.00\n",
            "30109|WALLACE,  ANDREW E|SERGEANT|POLICE|$110370.00\n",
            "30110|WALLACE BEVLY,  RICA J|CLERK IV|FINANCE|$52848.00\n",
            "30111|WALLACE,  CHRISTOPHER A|ASST CORPORATION COUNSEL SUPVSR|LAW|$87900.00\n",
            "30112|WALLACE,  CURTIS L|POLICE OFFICER|POLICE|$89718.00\n",
            "30113|WALLACE,  DARRYL|POLICE OFFICER|POLICE|$89718.00\n",
            "30114|WALLACE,  DEBRA|TRAFFIC CONTROL AIDE-HOURLY|OEMC|$19656.00\n",
            "30115|WALLACE,  ELANDRIA A|CROSSING GUARD|POLICE|$17492.80\n",
            "30116|WALLACE,  ERICK|PLUMBER|WATER MGMNT|$97032.00\n",
            "30117|WALLACE,  JLYNN|POLICE OFFICER|POLICE|$83616.00\n",
            "30118|WALLACE,  JOSEPH L|POLICE OFFICER|POLICE|$69684.00\n",
            "30119|WALLACE,  JOSHUA D|SERGEANT|POLICE|$103590.00\n",
            "30120|WALLACE JR,  CHARLES V|POLICE OFFICER|POLICE|$92316.00\n",
            "30121|WALLACE,  KAREN D|DIR OF HUMAN RIGHTS COMPLIANCE|HUMAN RELATIONS|$86796.00\n",
            "30122|WALLACE,  KENNETH R|SANITATION LABORER|STREETS & SAN|$72384.00\n",
            "30123|WALLACE,  LAWRENCE M|POLICE OFFICER|POLICE|$89718.00\n",
            "30124|WALLACE,  LISA A|POLICE OFFICER|POLICE|$92316.00\n",
            "30125|WALLACE,  MARCUS|OPERATING ENGINEER-GROUP A|WATER MGMNT|$98675.20\n",
            "30126|WALLACE,  NEIL P|FIREFIGHTER|FIRE|$86520.00\n",
            "30127|WALLACE,  PAUL E|POLICE OFFICER (ASSIGNED AS CANINE HANDLER)|POLICE|$97044.00\n",
            "30128|WALLACE,  SHIRLEY J|LIBRARIAN IV|PUBLIC LIBRARY|$90948.00\n",
            "30129|WALLACE,  STEVEN C|REPROGRAPHICS TECHNICIAN I/C|CITY CLERK|$73752.00\n",
            "30130|WALLER,  FRED L|DEPUTY CHIEF|POLICE|$170112.00\n",
            "30131|WALLER,  JOHN A|FOREMAN OF SEWER BRICKLAYERS|WATER MGMNT|$97427.20\n",
            "30132|WALLER,  KEISHA L|POLICE OFFICER|POLICE|$89718.00\n",
            "30133|WALL,  JOHN M|FIRE ENGINEER-EMT|FIRE|$105918.00\n",
            "30134|WALLS,  ELAINE|SENIOR DATA ENTRY OPERATOR|POLICE|$55428.00\n",
            "30135|WALLS,  EMMETT L|SUPPORT SERVICES COORD|FAMILY & SUPPORT|$88116.00\n",
            "30136|WALLS-HANLEY,  ARETHA|SENIOR DATA ENTRY OPERATOR|POLICE|$50496.00\n",
            "30137|WALLS,  JACQUELYN L|STAFF ASSISTANT - EXCLUDED|FAMILY & SUPPORT|$57648.00\n",
            "30138|WALLS,  JAMES D|POLICE OFFICER|POLICE|$83616.00\n",
            "30139|WALLS JR,  ULYSSES|CONSTRUCTION LABORER|WATER MGMNT|$79040.00\n",
            "30140|WALLS,  LORRIE A|FISCAL ADMINISTRATOR|FAMILY & SUPPORT|$102060.00\n",
            "30141|WALLS-MONTGOMERY,  JACQUELINE E|POLICE COMMUNICATIONS OPERATOR I|OEMC|$53628.00\n",
            "30142|WALLS,  SHIRLEY G|SENIOR COMPANION|FAMILY & SUPPORT|$2756.00\n",
            "30143|WALSH,  AMY E|POLICE OFFICER|POLICE|$83616.00\n",
            "30144|WALSH,  CHARLENE S|CIVIL ENGINEER IV|TRANSPORTN|$79632.00\n",
            "30145|WALSH,  CORINNE|POLICE OFFICER|POLICE|$46206.00\n",
            "30146|WALSH,  DANIEL R|FIREFIGHTER|FIRE|$65946.00\n",
            "30147|WALSH,  DAVID J|FIREFIGHTER|FIRE|$90018.00\n",
            "30148|WALSH,  DENIS P|LIEUTENANT|POLICE|$123948.00\n",
            "30149|WALSH,  DENNIS P|CAPTAIN|POLICE|$134820.00\n",
            "30150|WALSH,  DONNA M|POLICE OFFICER (ASSIGNED AS DETECTIVE)|POLICE|$93648.00\n",
            "30151|WALSH,  EDWARD|OPERATING ENGINEER-GROUP C|WATER MGMNT|$93745.60\n",
            "30152|WALSH,  FRANCIS M|FIREFIGHTER-EMT|FIRE|$91764.00\n",
            "30153|WALSH,  HUGHIE B|FIREFIGHTER|FIRE|$65946.00\n",
            "30154|WALSH,  JAMES E|SERGEANT|POLICE|$103590.00\n",
            "30155|WALSH,  JAMES P|LIEUTENANT|FIRE|$103590.00\n",
            "30156|WALSH,  JAMES P|FIRE ENGINEER-EMT|FIRE|$99324.00\n",
            "30157|WALSH,  JAY M|POLICE OFFICER|POLICE|$86520.00\n",
            "30158|WALSH,  JENNIFER M|PARAMEDIC|FIRE|$83616.00\n",
            "30159|WALSH,  JOHN M|OPERATING ENGINEER-GROUP A|WATER MGMNT|$98675.20\n",
            "30160|WALSH,  JOHN M|FIREFIGHTER|FIRE|$86520.00\n",
            "30161|WALSH,  JOHN M|LABORER|AVIATION|$67329.60\n",
            "30162|WALSH,  JOHN P|FIREFIGHTER|FIRE|$83616.00\n",
            "30163|WALSH,  JOHN T|POLICE OFFICER|POLICE|$80778.00\n",
            "30164|WALSH,  JOSEPH E|FIREFIGHTER|FIRE|$80778.00\n",
            "30165|WALSH,  JOSEPH J|POLICE OFFICER|POLICE|$86520.00\n",
            "30166|WALSH JR,  MICHAEL P|POLICE OFFICER|POLICE|$80778.00\n",
            "30167|WALSH JR,  THOMAS M|SERGEANT|POLICE|$106920.00\n",
            "30168|WALSH,  KEVIN M|OPERATING ENGINEER-GROUP C|WATER MGMNT|$93745.60\n",
            "30169|WALSH,  LORETTA|ASST TO THE COMMISSIONER|COMMUNITY DEVELOPMENT|$97416.00\n",
            "30170|WALSH,  MARK A|POLICE OFFICER (ASGND AS MARINE OFFICER)|POLICE|$94236.00\n",
            "30171|WALSH,  MARTIN C|POLICE OFFICER|POLICE|$86520.00\n",
            "30172|WALSH,  MAURICE J|CHIEF OPERATING ENGINEER|WATER MGMNT|$118414.44\n",
            "30173|WALSH,  MICHAEL J|FIREFIGHTER|FIRE|$90018.00\n",
            "30174|WALSH,  MICHAEL J|POLICE OFFICER (ASSIGNED AS DETECTIVE)|POLICE|$93648.00\n",
            "30175|WALSH,  MICHAEL P|LIEUTENANT|POLICE|$123948.00\n",
            "30176|WALSH,  MICHAEL V|POLICE OFFICER|POLICE|$83616.00\n",
            "30177|WALSH,  MORAG|SENIOR ARCHIVAL SPECIALIST|PUBLIC LIBRARY|$80424.00\n",
            "30178|WALSH,  PATRICIA A|DEPUTY CHIEF|POLICE|$170112.00\n",
            "30179|WALSH,  PATRICIA L|POLICE OFFICER (ASSIGNED AS DETECTIVE)|POLICE|$93648.00\n",
            "30180|WALSH,  PATRICK|POLICE OFFICER|POLICE|$69684.00\n",
            "30181|WALSH,  PATRICK J|FIREFIGHTER-EMT|FIRE|$85680.00\n",
            "30182|WALSH,  PATRICK M|FIRE COMMUNICATIONS OPERATOR II|OEMC|$92004.00\n",
            "30183|WALSH,  PHILIP M|FIREFIGHTER-EMT|FIRE|$95460.00\n",
            "30184|WALSH,  RONALD M|FIREFIGHTER|FIRE|$86520.00\n",
            "30185|WALSH,  SEAN F|ARCHITECTURAL IRON WORKER|TRANSPORTN|$91312.00\n",
            "30186|WALSH,  SEAN M|ASST DISTRICT SUPERINTENDENT|WATER MGMNT|$103272.00\n",
            "30187|WALSH,  STEPHANIE J|PARAMEDIC|FIRE|$54114.00\n",
            "30188|WALSH,  STEPHANIE M|POLICE OFFICER|POLICE|$80778.00\n",
            "30189|WALSH,  STEPHEN L|FIREFIGHTER|FIRE|$83616.00\n",
            "30190|WALSH,  THOMAS J|ELECTRICAL INSPECTOR|BUILDINGS|$95880.00\n",
            "30191|WALSH,  THOMAS J|POLICE OFFICER|POLICE|$86520.00\n",
            "30192|WALSH,  THOMAS V|POLICE OFFICER|POLICE|$86520.00\n",
            "30193|WALSH,  TIMOTHY M|BATTALION CHIEF-PARAMEDIC|FIRE|$147120.00\n",
            "30194|WALSH,  TIMOTHY R|FIRE ENGINEER-EMT|FIRE|$102930.00\n",
            "30195|WALSH,  TRACY L|EXEC ADMINISTRATIVE ASST II|AVIATION|$54492.00\n",
            "30196|WALSH,  VINCENT J|SERGEANT|POLICE|$110370.00\n",
            "30197|WALSH,  WILLIAM J|OPERATING ENGINEER-GROUP C|AVIATION|$93745.60\n",
            "30198|WALSKI,  KEVIN W|FIREFIGHTER-EMT|FIRE|$85680.00\n",
            "30199|WALTER,  KAREN A|PARAMEDIC|FIRE|$83616.00\n",
            "30200|WALTER,  MARK J|POLICE AGENT|POLICE|$97044.00\n",
            "30201|WALTER,  MICHAEL J|POLICE OFFICER/EXPLSV DETECT K9 HNDLR|POLICE|$94236.00\n",
            "30202|WALTER,  SAJIT|POLICE OFFICER|POLICE|$80778.00\n",
            "30203|WALTER,  SANDRA I|SERGEANT|POLICE|$106920.00\n",
            "30204|WALTERS,  CHARLES E|POLICE OFFICER|POLICE|$86520.00\n",
            "30205|WALTERS,  DERRICK D|MACHINIST (AUTOMOTIVE)|GENERAL SERVICES|$92248.00\n",
            "30206|WALTERS,  MICHAEL J|FIREFIGHTER-EMT|FIRE|$88680.00\n",
            "30207|WALTERS,  MICHELLE|ANIMAL CARE AIDE I|ANIMAL CONTRL|$66684.00\n",
            "30208|WALTER,  TIMOTHY A|POLICE OFFICER|POLICE|$92316.00\n",
            "30209|WALTHALL,  KEITH|SERGEANT|POLICE|$110370.00\n",
            "30210|WALTHALL,  MARKUS K|POLICE OFFICER|POLICE|$83616.00\n",
            "30211|WALTHOUR,  JOE L|AUDITOR III|POLICE|$95880.00\n",
            "30212|WALTON,  ANTHONY|FIREFIGHTER|FIRE|$83616.00\n",
            "30213|WALTON,  ANTHONY N|POLICE OFFICER|POLICE|$80778.00\n",
            "30214|WALTON,  CANDACE E|PARKING ENFORCEMENT AIDE|FINANCE|$50904.00\n",
            "30215|WALTON,  CATRINA|POLICE COMMUNICATIONS OPERATOR I|OEMC|$46656.00\n",
            "30216|WALTON,  DARYL D|FIREFIGHTER-EMT|FIRE|$88680.00\n",
            "30217|WALTON,  DOROTHY J|SENIOR LIBRARY CLERK|PUBLIC LIBRARY|$50496.00\n",
            "30218|WALTON,  DWAYNE S|POLICE OFFICER|POLICE|$86520.00\n",
            "30219|WALTON,  GLENN H|POLICE OFFICER|POLICE|$83616.00\n",
            "30220|WALTON,  HENRY A|POLICE OFFICER|POLICE|$89718.00\n",
            "30221|WALTON,  HOMER|POLICE OFFICER|POLICE|$92316.00\n",
            "30222|WALTON JR,  BOBBY E|LABORER - APPRENTICE|WATER MGMNT|$63232.00\n",
            "30223|WALTON JR,  RICHARD A|POLICE OFFICER|POLICE|$80778.00\n",
            "30224|WALTON,  MARCELLA M|POLICE COMMUNICATIONS OPERATOR II|OEMC|$73764.00\n",
            "30225|WALTON,  MARY J|CROSSING GUARD|POLICE|$18324.80\n",
            "30226|WALTON,  MATTHEW K|POLICE OFFICER|POLICE|$83616.00\n",
            "30227|WALTON,  NANCY N|POLICE OFFICER|POLICE|$80778.00\n",
            "30228|WALTON,  PATRICIA E|CLERK III|POLICE|$45972.00\n",
            "30229|WALTON,  ROBERT D|TRAFFIC CONTROL AIDE|OEMC|$35328.00\n",
            "30230|WALTON,  SHAVELL|TRAFFIC CONTROL AIDE-HOURLY|OEMC|$19656.00\n",
            "30231|WALTON TROUTMAN,  LINDA C|POLICE OFFICER|POLICE|$83616.00\n",
            "30232|WALTON,  WANDA J|POLICE COMMUNICATIONS OPERATOR II|OEMC|$51216.00\n",
            "30233|WANDA,  FRANK A|POOL MOTOR TRUCK DRIVER|STREETS & SAN|$71780.80\n",
            "30234|WANER,  ARTHUR G|VENTILATION AND FURNACE INSPECTOR|BUILDINGS|$93288.00\n",
            "30235|WANG CAREY,  SOPHIA S|BUSINESS CONSULTANT SUPERVISOR|BUSINESS AFFAIRS|$80916.00\n",
            "30236|WANGLER,  DANIEL J|ASST CORPORATION COUNSEL|LAW|$92676.00\n",
            "30237|WANG,  SHENG|PROGRAMMER/ANALYST|FIRE|$87912.00\n",
            "30238|WANUCHA JR,  LAWRENCE W|POLICE OFFICER|POLICE|$89718.00\n",
            "30239|WARCHOL,  BRIAN A|POLICE OFFICER|POLICE|$80778.00\n",
            "30240|WARD,  AARON A|POLICE OFFICER|POLICE|$86520.00\n",
            "30241|WARDA,  ASHOR L|POLICE OFFICER|POLICE|$80778.00\n",
            "30242|WARD,  ANDRE L|FIREFIGHTER-EMT|FIRE|$85680.00\n",
            "30243|WARD,  ANGEL F|SERGEANT|POLICE|$103590.00\n",
            "30244|WARD,  ANTHONY F|STOCKHANDLER (PER AGREEMENT)|PUBLIC LIBRARY|$50496.00\n",
            "30245|WARD,  APRIL|SANITATION LABORER|STREETS & SAN|$72384.00\n",
            "30246|WARD,  BENNYE S|WATCHMAN|WATER MGMNT|$43950.40\n",
            "30247|WARD,  BRENDA F|COMMUNICATIONS OPERATOR I - 311|OEMC|$60780.00\n",
            "30248|WARD,  CATHERINE G|SHIFT SUPVSR OF SECURITY COMMUNICATIONS CENTER|OEMC|$73236.00\n",
            "30249|WARD,  CHAD A|LIBRARY PAGE|PUBLIC LIBRARY|$12407.20\n",
            "30250|WARD,  CHARLES J|LIEUTENANT-EMT|FIRE|$106524.00\n",
            "30251|WARD,  CRAIG L|PLUMBER|WATER MGMNT|$97032.00\n",
            "30252|WARD,  DANNYE E|POLICE OFFICER|POLICE|$92316.00\n",
            "30253|WARD,  DAVINA F|SERGEANT|POLICE|$103590.00\n",
            "30254|WARDELL,  SAMUEL|LABORER - APPRENTICE|WATER MGMNT|$55328.00\n",
            "30255|WARDEN,  RONALD A|DETENTION AIDE|POLICE|$58476.00\n",
            "30256|WARD,  GREGORY|POOL MOTOR TRUCK DRIVER|STREETS & SAN|$64604.80\n",
            "30257|WARD,  HELENA S|POLICE OFFICER|POLICE|$86520.00\n",
            "30258|WARD,  JAMES L|POLICE OFFICER|POLICE|$83616.00\n",
            "30259|WARD,  JOEL|POOL MOTOR TRUCK DRIVER|AVIATION|$71780.80\n",
            "30260|WARD,  JOHN P|CAPTAIN-EMT|FIRE|$131466.00\n",
            "30261|WARD,  JOHN S|SERGEANT|POLICE|$103590.00\n",
            "30262|WARD,  JOSEPH R|LABORER - APPRENTICE|WATER MGMNT|$55328.00\n",
            "30263|WARD,  KEVIN P|POLICE OFFICER|POLICE|$69684.00\n",
            "30264|WARD,  KEVIN P|FIREFIGHTER|FIRE|$86520.00\n",
            "30265|WARD,  KEVIN W|FIREFIGHTER (PER ARBITRATORS AWARD)-PARAMEDIC|FIRE|$95058.00\n",
            "30266|WARD,  LAURA|CROSSING GUARD|POLICE|$19188.00\n",
            "30267|WARD LAWRENCE,  HEATHER C|PUBLIC HEALTH NURSE II|HEALTH|$99708.00\n",
            "30268|WARDLOW,  MEKO R|SANITATION LABORER|STREETS & SAN|$72384.00\n",
            "30269|WARD,  MATIKA W|TRAFFIC CONTROL AIDE-HOURLY|OEMC|$19656.00\n",
            "30270|WARD,  MATTHEW S|POLICE OFFICER|POLICE|$83616.00\n",
            "30271|WARD,  MICHAEL|SERGEANT|POLICE|$106920.00\n",
            "30272|WARD,  MILLICENT D|COORD OF SPECIAL PROJECTS|OEMC|$80916.00\n",
            "30273|WARD,  ORSON A|POLICE OFFICER|POLICE|$86520.00\n",
            "30274|WARD,  PATRICIA L|POLICE COMMUNICATIONS OPERATOR II|OEMC|$73764.00\n",
            "30275|WARD,  PATRICK J|LIEUTENANT-PARAMEDIC|FIRE|$123450.00\n",
            "30276|WARD,  REGINALD M|POLICE OFFICER|POLICE|$80778.00\n",
            "30277|WARD,  RODERICK|POLICE OFFICER|POLICE|$46206.00\n",
            "30278|WARD,  SEAN P|PARAMEDIC|FIRE|$54114.00\n",
            "30279|WARD,  SONJI S|SR PROCUREMENT SPECIALIST|PROCUREMENT|$88812.00\n",
            "30280|WARD,  TRACIE J|TRAINING & DEVELOPMENT ANALYST|HUMAN RESOURCES|$80256.00\n",
            "30281|WARD,  VALERIE M|POLICE OFFICER|POLICE|$89718.00\n",
            "30282|WARD,  WILLIAM A|SANITATION LABORER|STREETS & SAN|$72384.00\n",
            "30283|WARE BAKER,  MARY J|FOSTER GRANDPARENT|FAMILY & SUPPORT|$2756.00\n",
            "30284|WARE,  BENJAMIN C|FIREFIGHTER|FIRE|$80778.00\n",
            "30285|WARE,  CHRISTOPHER D|POLICE OFFICER|POLICE|$86520.00\n",
            "30286|WARE,  DARRYL M|POOL MOTOR TRUCK DRIVER|AVIATION|$71780.80\n",
            "30287|WARE,  JOHN C|FOREMAN OF HOISTING ENGINEERS|WATER MGMNT|$106288.00\n",
            "30288|WARE KING,  LOLITA D|STAFF ASST|BUILDINGS|$76656.00\n",
            "30289|WARE,  REMICK D|POOL MOTOR TRUCK DRIVER|TRANSPORTN|$71780.80\n",
            "30290|WARE,  RODNEY L|FIREFIGHTER-EMT|FIRE|$85680.00\n",
            "30291|WARE,  ROSIE L|FOSTER GRANDPARENT|FAMILY & SUPPORT|$2756.00\n",
            "30292|WARE SR,  SAMUEL K|WARRANT AND EXTRADITION AIDE|POLICE|$73200.00\n",
            "30293|WARE,  STEVEN J|POLICE OFFICER|POLICE|$92316.00\n",
            "30294|WARE,  TIMOTHY F|SERGEANT|POLICE|$110370.00\n",
            "30295|WARE,  WALTER M|POLICE OFFICER|POLICE|$86520.00\n",
            "30296|WARFIELD,  DENNIS A|FIREFIGHTER|FIRE|$86520.00\n",
            "30297|WARFIELD,  H.C.|FOSTER GRANDPARENT|FAMILY & SUPPORT|$2756.00\n",
            "30298|WARFIELD,  JESSE B|FIREFIGHTER-EMT|FIRE|$85680.00\n",
            "30299|WARFIELD,  MELVIN E|MANAGER OF BUILDINGS SERVICES|GENERAL SERVICES|$80916.00\n",
            "30300|WARJAS,  CHRIS|POLICE OFFICER|POLICE|$69684.00\n",
            "30301|WARNECKE,  VIRGINIA E|POLICE OFFICER|POLICE|$86520.00\n",
            "30302|WARNER,  FELICIA C|PROJECT MANAGER|PROCUREMENT|$76980.00\n",
            "30303|WARNER  JR,  JEROME D|POLICE OFFICER|POLICE|$80778.00\n",
            "30304|WARNER,  MARA R|LIBRARIAN I|PUBLIC LIBRARY|$72840.00\n",
            "30305|WARNER,  MARK T|POLICE OFFICER|POLICE|$86520.00\n",
            "30306|WARNER,  NATHANIEL J|POLICE OFFICER|POLICE|$80778.00\n",
            "30307|WARNICK,  ALEXIS|CROSSING GUARD - PER AGREEMENT|POLICE|$13790.40\n",
            "30308|WARNKE,  JOSEPH P|FIREFIGHTER|FIRE|$65946.00\n",
            "30309|WARNKE,  ROBERT J|FIREFIGHTER|FIRE|$86520.00\n",
            "30310|WARNOCK,  THOMAS W|CIVIL ENGINEER V|TRANSPORTN|$114492.00\n",
            "30311|WARNSTEDT,  THOMAS T|POLICE OFFICER|POLICE|$86520.00\n",
            "30312|WARREN,  ANTHONY L|ASST CHIEF OPERATING ENGINEER|WATER MGMNT|$108534.40\n",
            "30313|WARREN,  CHARLOTTE|CROSSING GUARD|POLICE|$16692.00\n",
            "30314|WARREN,  COLLIN|POLICE OFFICER|POLICE|$46206.00\n",
            "30315|WARREN,  CRYSTAL A|REGIONAL DIR - AGING|FAMILY & SUPPORT|$84780.00\n",
            "30316|WARREN,  DANIEL E|POLICE OFFICER / FLD TRNG OFFICER|POLICE|$87780.00\n",
            "30317|WARREN,  DWAYNE A|SANITATION LABORER|STREETS & SAN|$72384.00\n",
            "30318|WARREN,  ERIC S|POLICE COMMUNICATIONS OPERATOR II|OEMC|$73764.00\n",
            "30319|WARREN,  JAMES T|ASPHALT LABORER|TRANSPORTN|$79040.00\n",
            "30320|WARREN,  LORRAINE R|POLICE OFFICER|POLICE|$89718.00\n",
            "30321|WARREN,  MARSHALL W|POLICE OFFICER|POLICE|$92316.00\n",
            "30322|WARREN,  MICHAEL P|FIREFIGHTER-EMT|FIRE|$88680.00\n",
            "30323|WARREN,  MICHELLE M|MOTOR TRUCK DRIVER|WATER MGMNT|$71780.80\n",
            "30324|WARREN,  MIRANDA A|COMMUNICATIONS OPERATOR I - 311|OEMC|$50496.00\n",
            "30325|WARREN,  NORMA|SANITATION LABORER|STREETS & SAN|$72384.00\n",
            "30326|WARREN,  RHONDA H|STATIONARY FIREMAN|WATER MGMNT|$65686.40\n",
            "30327|WARREN,  RODERICK D|IT DIRECTOR (DoIT)|DoIT|$103740.00\n",
            "30328|WARREN,  SANDRA M|CROSSING GUARD|POLICE|$19188.00\n",
            "30329|WARREN STANLEY,  GWENDOLYN Y|POLICE OFFICER|POLICE|$89718.00\n",
            "30330|WARREN,  STEPHANIE L|TIMEKEEPER - CPD|POLICE|$58020.00\n",
            "30331|WARREN,  THOMAS W|MOTOR TRUCK DRIVER|WATER MGMNT|$71780.80\n",
            "30332|WARRICK,  DONNELL J|FIRE ENGINEER|FIRE|$99888.00\n",
            "30333|WARRICK,  GEORGE K|MANAGER OF SECURITY COMMUNICATIONS CENTER|OEMC|$102060.00\n",
            "30334|WARRICK,  MICHAEL T|OPERATING ENGINEER-GROUP C|WATER MGMNT|$93745.60\n",
            "30335|WARRINGTON,  BERNARD|FIRE ENGINEER|FIRE|$99888.00\n",
            "30336|WARZOCHA,  ROBERT T|POLICE OFFICER|POLICE|$89718.00\n",
            "30337|WARZYNSKI,  DANIEL J|POLICE OFFICER|POLICE|$80778.00\n",
            "30338|WASHINGTON,  AARON|GENERAL LABORER - DSS|STREETS & SAN|$40560.00\n",
            "30339|WASHINGTON,  AARON C|POLICE OFFICER|POLICE|$86520.00\n",
            "30340|WASHINGTON,  ANGELA R|TITLE V PROGRAM TRAINEE I|FAMILY & SUPPORT|$8580.00\n",
            "30341|WASHINGTON,  ANTHONY D|POLICE OFFICER|POLICE|$92316.00\n",
            "30342|WASHINGTON,  BARBARA A|GARAGE ATTENDANT|GENERAL SERVICES|$46592.00\n",
            "30343|WASHINGTON,  BARBARA A|LIBRARY CLERK|PUBLIC LIBRARY|$41952.00\n",
            "30344|WASHINGTON,  BELINDA J|COMMUNITY ORGANIZER-CAPS|POLICE|$66684.00\n",
            "30345|WASHINGTON,  BRYAN O|PLUMBER|WATER MGMNT|$97032.00\n",
            "30346|WASHINGTON,  BRYANT L|SANITATION LABORER|STREETS & SAN|$72384.00\n",
            "30347|WASHINGTON,  CHENETRA L|POLICE COMMUNICATIONS OPERATOR II|OEMC|$67212.00\n",
            "30348|WASHINGTON,  CONNIE|GENERAL LABORER - DSS|STREETS & SAN|$40560.00\n",
            "30349|WASHINGTON,  CURTIS J|POOL MOTOR TRUCK DRIVER|AVIATION|$71780.80\n",
            "30350|WASHINGTON,  DARLA Y|ACCOUNTING TECHNICIAN II|POLICE|$69888.00\n",
            "30351|WASHINGTON,  DEBRA|CROSSING GUARD - PER AGREEMENT|POLICE|$16484.00\n",
            "30352|WASHINGTON,  DWAYNE|LIEUTENANT-PARAMEDIC|FIRE|$109068.00\n",
            "30353|WASHINGTON,  ERIC T|FIREFIGHTER-EMT (RECRUIT)|FIRE|$54114.00\n",
            "30354|WASHINGTON,  ERIC T|DEPUTY CHIEF|POLICE|$170112.00\n",
            "30355|WASHINGTON,  FELICIA L|LIBRARY CLERK|PUBLIC LIBRARY|$50496.00\n",
            "30356|WASHINGTON,  GLENN C|POLICE COMMUNICATIONS OPERATOR I|OEMC|$61260.00\n",
            "30357|WASHINGTON,  JAMES E|FIREFIGHTER|FIRE|$86520.00\n",
            "30358|WASHINGTON,  JENNIFER L|PROGRAM DIRECTOR SPECIAL EVENTS|CULTURAL AFFAIRS|$100692.00\n",
            "30359|WASHINGTON JONE,  KAREN|MEDICAL X-RAY TECHNOLOGIST|HEALTH|$73200.00\n",
            "30360|WASHINGTON,  JOSEILYN M|POLICE COMMUNICATIONS OPERATOR I|OEMC|$58476.00\n",
            "30361|WASHINGTON,  JOSEPH|WATER CHEMIST III|WATER MGMNT|$87912.00\n",
            "30362|WASHINGTON JR,  CLIFTON|ELECTRICAL MECHANIC-AUTO-POLICE MTR MNT|GENERAL SERVICES|$91520.00\n",
            "30363|WASHINGTON,  LANCE T|PARKING ENFORCEMENT AIDE|FINANCE|$53292.00\n",
            "30364|WASHINGTON,  LANCE W|POLICE OFFICER|POLICE|$89718.00\n",
            "30365|WASHINGTON,  LARRY L|PROCUREMENT SPECIALIST|PROCUREMENT|$80916.00\n",
            "30366|WASHINGTON,  LELA A|PERSONAL COMPUTER OPERATOR II|POLICE|$58020.00\n",
            "30367|WASHINGTON,  LISA A|COORDINATING PLANNER|COMMUNITY DEVELOPMENT|$91152.00\n",
            "30368|WASHINGTON,  LUCILLE|LEGISLATIVE AIDE|CITY COUNCIL|$10400.00\n",
            "30369|WASHINGTON,  MARK A|FIREFIGHTER|FIRE|$93594.00\n",
            "30370|WASHINGTON,  MARNI|POLICE OFFICER|POLICE|$83616.00\n",
            "30371|WASHINGTON,  MICHAEL A|POLICE OFFICER|POLICE|$65946.00\n",
            "30372|WASHINGTON,  MONIQUE J|SERGEANT|POLICE|$103590.00\n",
            "30373|WASHINGTON,  MONTESE D|VETERINARY ASST|ANIMAL CONTRL|$54864.00\n",
            "30374|WASHINGTON,  PHILIP S|POLICE OFFICER / FLD TRNG OFFICER|POLICE|$97044.00\n",
            "30375|WASHINGTON REED,  JANET|FIRE COMMUNICATIONS OPERATOR II|OEMC|$92004.00\n",
            "30376|WASHINGTON,  RICKEY W|POLICE OFFICER|POLICE|$80778.00\n",
            "30377|WASHINGTON,  RODNEY M|POLICE OFFICER|POLICE|$92316.00\n",
            "30378|WASHINGTON,  ROGER L|POLICE OFFICER|POLICE|$83616.00\n",
            "30379|WASHINGTON,  SEAN L|LIEUTENANT-EMT|FIRE|$109872.00\n",
            "30380|WASHINGTON,  SHARHONDA|HEAD LIBRARY CLERK|PUBLIC LIBRARY|$55428.00\n",
            "30381|WASHINGTON,  TAKIA D|POLICE OFFICER / FLD TRNG OFFICER|POLICE|$87780.00\n",
            "30382|WASHINGTON,  TERRY B|FIREFIGHTER|FIRE|$93594.00\n",
            "30383|WASHINGTON,  TIFFINY|POLICE OFFICER|POLICE|$73296.00\n",
            "30384|WASHINGTON,  TODD M|FIREFIGHTER-EMT|FIRE|$88680.00\n",
            "30385|WASHINGTON,  TONI M|POLICE OFFICER (ASSIGNED AS DETECTIVE)|POLICE|$99888.00\n",
            "30386|WASHINGTON,  TONY O|POLICE OFFICER|POLICE|$80778.00\n",
            "30387|WASHINGTON,  VANESSA E|DETENTION AIDE|POLICE|$73764.00\n",
            "30388|WASHINGTON,  VICTOR D|POOL MOTOR TRUCK DRIVER|STREETS & SAN|$71780.80\n",
            "30389|WASHKEVICH,  JONATHAN G|POLICE OFFICER|POLICE|$86520.00\n",
            "30390|WASH,  WILLIE C|POLICE OFFICER|POLICE|$86520.00\n",
            "30391|WASIELEWSKI,  CARL M|POLICE OFFICER|POLICE|$80778.00\n",
            "30392|WASIELEWSKI,  LAWRENCE J|ELECTRICAL MECHANIC|GENERAL SERVICES|$91520.00\n",
            "30393|WASIK,  MICHAEL P|BOOTER - PARKING|FINANCE|$64812.80\n",
            "30394|WASINSKI,  MARK J|FIRE ENGINEER|FIRE|$99888.00\n",
            "30395|WASKIEWICZ,  THOMAS J|POLICE OFFICER|POLICE|$92316.00\n",
            "30396|WASSERMAN,  JOEL H|AMBULANCE COMMANDER|FIRE|$113232.00\n",
            "30397|WASZAK,  JOSEPH S|POLICE OFFICER|POLICE|$86520.00\n",
            "30398|WATANABE,  RONALD S|FIREFIGHTER|FIRE|$90018.00\n",
            "30399|WATANABE,  SCOTT A|LIBRARIAN I|PUBLIC LIBRARY|$72840.00\n",
            "30400|WATERS IV,  MILTON M|POLICE OFFICER|POLICE|$89718.00\n",
            "30401|WATERS,  JOSEPHINE E|CROSSING GUARD|POLICE|$17492.80\n",
            "30402|WATERS JR,  JOHN L|PARAMEDIC|FIRE|$80778.00\n",
            "30403|WATERS,  PEARL|CROSSING GUARD|POLICE|$22131.20\n",
            "30404|WATERSTRAAT,  ROBERT G|POLICE OFFICER|POLICE|$80778.00\n",
            "30405|WATHEN,  VICTOR L|POLICE OFFICER (ASSIGNED AS DETECTIVE)|POLICE|$93648.00\n",
            "30406|WATKINS,  ALVIN E|POOL MOTOR TRUCK DRIVER|AVIATION|$71780.80\n",
            "30407|WATKINS,  CARLA M|POLICE OFFICER|POLICE|$80778.00\n",
            "30408|WATKINS,  DEANDRE M|POLICE CADET|POLICE|$9360.00\n",
            "30409|WATKINS,  DERRICK|POLICE OFFICER|POLICE|$89718.00\n",
            "30410|WATKINS,  DOROTHY J|HOSPITALITY WORKER|FAMILY & SUPPORT|$9516.00\n",
            "30411|WATKINS,  GAIL|TRAFFIC CONTROL AIDE-HOURLY|OEMC|$19656.00\n",
            "30412|WATKINS,  GARDNER|SANITATION LABORER|STREETS & SAN|$72384.00\n",
            "30413|WATKINS,  GARY G|SR LABOR RELATIONS SPECIALIST|LAW|$80256.00\n",
            "30414|WATKINS,  HILLEL|POLICE OFFICER|POLICE|$83616.00\n",
            "30415|WATKINS,  JACQUELINE A|POLICE OFFICER|POLICE|$86520.00\n",
            "30416|WATKINS JR,  BRACK|CUSTODIAL WORKER|AVIATION|$34008.00\n",
            "30417|WATKINS,  KATINA S|POLICE OFFICER|POLICE|$83616.00\n",
            "30418|WATKINS,  KENNETH D|POLICE OFFICER|POLICE|$86520.00\n",
            "30419|WATKINS,  LAVINIA|TRAFFIC CONTROL AIDE-HOURLY|OEMC|$19656.00\n",
            "30420|WATKINS,  LESLEY M|POLICE OFFICER|POLICE|$80778.00\n",
            "30421|WATKINS,  MELISSA R|POLICE OFFICER|POLICE|$83616.00\n",
            "30422|WATKINS,  NICOLE D|ADMINISTRATIVE ASST II|PUBLIC LIBRARY|$60780.00\n",
            "30423|WATKINS,  OCTAVIA C|POLICE OFFICER|POLICE|$83616.00\n",
            "30424|WATKINS,  ROBERT D|POLICE OFFICER|POLICE|$92316.00\n",
            "30425|WATKINS,  SYDNEY C|TRAFFIC CONTROL AIDE-HOURLY|OEMC|$19656.00\n",
            "30426|WATKINS,  TAMALA M|POLICE OFFICER|POLICE|$86520.00\n",
            "30427|WATKINS,  TONDALAYO|CUSTODIAL WORKER|GENERAL SERVICES|$34008.00\n",
            "30428|WATKINS,  ULYSSES|MOTOR TRUCK DRIVER|STREETS & SAN|$71780.80\n",
            "30429|WATKINS,  VICTORIA R|ASST TO THE DIR OF INTERGOVERNMENTAL AFFAIRS|MAYOR'S OFFICE|$116652.00\n",
            "30430|WATSON,  ANDRE|AVIATION SECURITY OFFICER|AVIATION|$64188.00\n",
            "30431|WATSON,  ANTHONY|POLICE OFFICER|POLICE|$89718.00\n",
            "30432|WATSON,  ARLESEUIA N|POLICE OFFICER (ASSIGNED AS DETECTIVE)|POLICE|$93648.00\n",
            "30433|WATSON,  BRENT C|FIREFIGHTER-EMT|FIRE|$88680.00\n",
            "30434|WATSON,  BROOKS A|LIEUTENANT|FIRE|$103590.00\n",
            "30435|WATSON,  CASSANDRA|SR LEGAL PERSONAL COMPUTER OPERATOR|LAW|$66684.00\n",
            "30436|WATSON,  CHRIS L|CROSSING GUARD - PER AGREEMENT|POLICE|$13790.40\n",
            "30437|WATSON,  DANYELLE|POLICE OFFICER|POLICE|$73296.00\n",
            "30438|WATSON,  DARLENE|STAFF ASST|FIRE|$66684.00\n",
            "30439|WATSON,  DAVID L|POLICE OFFICER|POLICE|$80778.00\n",
            "30440|WATSON,  ERIC H|POLICE OFFICER|POLICE|$83616.00\n",
            "30441|WATSON,  FRANCES A|DISPATCH CLERK|ANIMAL CONTRL|$66684.00\n",
            "30442|WATSON,  GRAYLIN L|POLICE OFFICER|POLICE|$83616.00\n",
            "30443|WATSON,  HERON A|SANITATION LABORER|STREETS & SAN|$72384.00\n",
            "30444|WATSON,  HORATIO|PROJECTS ADMINISTRATOR|AVIATION|$85128.00\n",
            "30445|WATSON HOWARD,  GABRIELLE C|TRAFFIC CONTROL AIDE-HOURLY|OEMC|$19656.00\n",
            "30446|WATSON,  JAKYRA N|LIBRARY PAGE|PUBLIC LIBRARY|$12407.20\n",
            "30447|WATSON,  JEANNE-CHATTON|POLICE COMMUNICATIONS OPERATOR II|OEMC|$56208.00\n",
            "30448|WATSON,  JOHN R|POLICE OFFICER|POLICE|$89718.00\n",
            "30449|WATSON,  JOSEPH G|POLICE OFFICER|POLICE|$89718.00\n",
            "30450|WATSON,  JOSEPH M|POOL MOTOR TRUCK DRIVER|AVIATION|$71780.80\n",
            "30451|WATSON JR,  VERNON A|POLICE OFFICER|POLICE|$86520.00\n",
            "30452|WATSON,  LARRY W|COMMANDER|POLICE|$162684.00\n",
            "30453|WATSON,  MECHIE|POLICE OFFICER|POLICE|$86520.00\n",
            "30454|WATSON,  NAVJOT|POLICE OFFICER|POLICE|$80778.00\n",
            "30455|WATSON,  PATRICK C|ADMINISTRATIVE ASST|CITY COUNCIL|$45000.00\n",
            "30456|WATSON,  ROBERT B|POLICE OFFICER|POLICE|$80778.00\n",
            "30457|WATSON,  ROBERT D|TRAFFIC CONTROL AIDE-HOURLY|OEMC|$19656.00\n",
            "30458|WATSON,  RODERICK S|SERGEANT|POLICE|$103590.00\n",
            "30459|WATSON,  SHAWN M|FIRE ENGINEER-EMT|FIRE|$99324.00\n",
            "30460|WATSON,  WILLIAM K|LIBRARIAN I|PUBLIC LIBRARY|$72840.00\n",
            "30461|WATSON WILLIAMS,  ADDIE B|MOTOR TRUCK DRIVER|STREETS & SAN|$71780.80\n",
            "30462|WATSON,  YOLANDA|ACCOUNTANT III|FINANCE|$87912.00\n",
            "30463|WATT,  SEAN M|AVIATION SECURITY OFFICER|AVIATION|$53628.00\n",
            "30464|WATTS IV,  VAN B|POLICE OFFICER|POLICE|$92316.00\n",
            "30465|WATTS JR,  OTIS O|POLICE OFFICER|POLICE|$83616.00\n",
            "30466|WATTS,  MARTHA|ADMINISTRATIVE ASST II|FINANCE|$63708.00\n",
            "30467|WATTS,  NATALIE A|CLERK II|FAMILY & SUPPORT|$50496.00\n",
            "30468|WATTS,  SHEILA S|SENIOR DATA ENTRY OPERATOR|POLICE|$50496.00\n",
            "30469|WAWRZYNIAK,  JOHN|OPERATING ENGINEER-GROUP A|GENERAL SERVICES|$98675.20\n",
            "30470|WAXLER,  BRIAN|PSYCHOLOGIST|HEALTH|$79632.00\n",
            "30471|WAY,  JONATHAN M|POLICE OFFICER|POLICE|$89718.00\n",
            "30472|WAYNAUSKAS,  WILLIAM|FIRE ENGINEER-EMT|FIRE|$105918.00\n",
            "30473|WAYNE,  DINAH A|FINANCIAL PLANNING ANALYST|COMMUNITY DEVELOPMENT|$86796.00\n",
            "30474|WAZNY,  ADAM|POLICE OFFICER|POLICE|$83616.00\n",
            "30475|WCIORKA,  CLAUDIA|LIEUTENANT-PARAMEDIC|FIRE|$116100.00\n",
            "30476|WCISEL,  RAY A|POLICE COMMUNICATIONS OPERATOR II|OEMC|$67212.00\n",
            "30477|WEATHERLY,  BOBBY F|POLICE OFFICER|POLICE|$83616.00\n",
            "30478|WEATHERLY,  LORETTA|FIELD PAYROLL AUDITOR|STREETS & SAN|$81108.00\n",
            "30479|WEATHERLY,  REGINALD V|POLICE OFFICER|POLICE|$83616.00\n",
            "30480|WEATHERS,  ANTHONY|POLICE OFFICER|POLICE|$89718.00\n",
            "30481|WEATHERSBY,  JUNAE D|POLICE OFFICER|POLICE|$73296.00\n",
            "30482|WEATHERSBY,  KASHAUNNA C|POLICE OFFICER|POLICE|$80778.00\n",
            "30483|WEATHERSBY LEE,  KAREN|POLICE OFFICER|POLICE|$89718.00\n",
            "30484|WEATHERSBY,  MARVIN W|POLICE OFFICER|POLICE|$86520.00\n",
            "30485|WEATHERS,  CHARLES L|HOISTING ENGINEER|WATER MGMNT|$97968.00\n",
            "30486|WEATHERS,  CHARLIE R|POOL MOTOR TRUCK DRIVER|AVIATION|$71780.80\n",
            "30487|WEATHERSPOON,  CARL M|POLICE OFFICER|POLICE|$92316.00\n",
            "30488|WEATHERSPOON,  VANESSA|LIBRARY PAGE|PUBLIC LIBRARY|$12407.20\n",
            "30489|WEATHERSPOON,  WESLEY S|POLICE OFFICER|POLICE|$89718.00\n",
            "30490|WEATHERS,  REBECCA L|POLICE OFFICER|POLICE|$86520.00\n",
            "30491|WEAVER,  DAPHNE M|SENIOR DATA ENTRY OPERATOR|POLICE|$58020.00\n",
            "30492|WEAVER,  GLORIA|ANIMAL CARE CLERK - HOURLY|ANIMAL CONTRL|$22640.80\n",
            "30493|WEAVER,  JOAN M|PUBLIC HEALTH ADMINISTRATOR III|HEALTH|$84780.00\n",
            "30494|WEAVER,  KEITH F|FIELD SUPVSR|TRANSPORTN|$117528.00\n",
            "30495|WEAVER,  KENNETH D|FIREFIGHTER (PER ARBITRATORS AWARD)-PARAMEDIC|FIRE|$108462.00\n",
            "30496|WEAVER,  KINGSLEY N|EPIDEMIOLOGIST IV|HEALTH|$94872.00\n",
            "30497|WEAVER,  MURIEL|TRAFFIC ENFORCEMENT TECH|FINANCE|$31740.00\n",
            "30498|WEAVER,  WARREN E|POLICE OFFICER|POLICE|$83616.00\n",
            "30499|WEBB,  ALAN S|FIREFIGHTER|FIRE|$86520.00\n",
            "30500|WEBB,  BETTY|HUMAN SERVICE SPECIALIST II|FAMILY & SUPPORT|$88116.00\n",
            "30501|WEBB,  DARCEL V|SERGEANT|POLICE|$110370.00\n",
            "30502|WEBB,  DEREK|WARRANT AND EXTRADITION AIDE|POLICE|$80328.00\n",
            "30503|WEBB,  JOSEPH M|POLICE OFFICER|POLICE|$89718.00\n",
            "30504|WEBB JR,  KENNETH M|POLICE OFFICER|POLICE|$89718.00\n",
            "30505|WEBB JR,  WILLIAM E|POLICE OFFICER|POLICE|$86520.00\n",
            "30506|WEBB,  KIMBERLY A|ASST TO THE ALDERMAN|CITY COUNCIL|$64116.00\n",
            "30507|WEBB LAY,  VANESSA F|AUDITOR II|FINANCE|$87912.00\n",
            "30508|WEBB,  LOY A|LAW CLERK|LAW|$25152.40\n",
            "30509|WEBB,  MAIRA|INVESTIGATOR - IPRA III|IPRA|$116388.00\n",
            "30510|WEBB,  MARY A|POLICE OFFICER|POLICE|$83616.00\n",
            "30511|WEBB,  MAUREEN F|POLICE OFFICER|POLICE|$80778.00\n",
            "30512|WEBB,  MICHAEL|POLICE OFFICER|POLICE|$69684.00\n",
            "30513|WEBB,  SAMANTHA M|POLICE OFFICER|POLICE|$80778.00\n",
            "30514|WEBB,  SHARITA J|COORD OF SPECIAL PROJECTS|FAMILY & SUPPORT|$80916.00\n",
            "30515|WEBB,  TARIC C|POLICE OFFICER|POLICE|$86520.00\n",
            "30516|WEBER,  ELISABETH K|PROJECTS ADMINISTRATOR|HEALTH|$102852.00\n",
            "30517|WEBER,  JAIME|POLICE OFFICER|POLICE|$80778.00\n",
            "30518|WEBER,  JEFFREY E|POLICE OFFICER|POLICE|$83616.00\n",
            "30519|WEBER,  JEFFREY M|FIREFIGHTER-EMT|FIRE|$91764.00\n",
            "30520|WEBER,  LISA D|PARAMEDIC|FIRE|$83616.00\n",
            "30521|WEBER,  MATTHEW J|POLICE OFFICER (ASSIGNED AS DETECTIVE)|POLICE|$93648.00\n",
            "30522|WEBER,  MICHAEL P|PROJECT COORD|COMMUNITY DEVELOPMENT|$73752.00\n",
            "30523|WEBER,  PAUL R|FOREMAN OF PLUMBERS|TRANSPORTN|$101192.00\n",
            "30524|WEBER,  RUBEN|POLICE OFFICER (ASSIGNED AS DETECTIVE)|POLICE|$93648.00\n",
            "30525|WEBER,  STEPHANIE N|POLICE OFFICER|POLICE|$86520.00\n",
            "30526|WEBSTER-BOYDE,  BRANDON B|AVIATION SECURITY OFFICER|AVIATION|$48924.00\n",
            "30527|WEBSTER,  CANDALAYA|GENERAL LABORER - DSS|STREETS & SAN|$43201.60\n",
            "30528|WEBSTER,  IAN M|DEPUTY COMPTROLLER|FINANCE|$113352.00\n",
            "30529|WEBSTER JR,  MILTON G|FIRE ENGINEER-EMT|FIRE|$99324.00\n",
            "30530|WEBSTER,  NORMA N|CROSSING GUARD|POLICE|$20092.80\n",
            "30531|WEBSTER,  PAUL A|IRON INSPECTOR|BUILDINGS|$93600.00\n",
            "30532|WEBSTER,  RAYMOND L|POOL MOTOR TRUCK DRIVER|TRANSPORTN|$71780.80\n",
            "30533|WEBSTER,  ROGER|POLICE OFFICER|POLICE|$86520.00\n",
            "30534|WEDDINGTON JR,  ARNOLD E|POLICE OFFICER (ASSIGNED AS DETECTIVE)|POLICE|$97044.00\n",
            "30535|WEDEL,  JOHN D|DIR OF MAINTENANCE OPERATIONS|GENERAL SERVICES|$106884.00\n",
            "30536|WEDSTER,  NICHOLAS J|POLICE OFFICER|POLICE|$80778.00\n",
            "30537|WEDSTER,  RUTH R|CAPTAIN|POLICE|$134820.00\n",
            "30538|WEEDEN,  WILLIAM C|DEPUTY CHIEF ADMINISTRATOR|IPRA|$130380.00\n",
            "30539|WEEK,  DAVID A|PARAMEDIC I/C|FIRE|$97044.00\n",
            "30540|WEEKS,  LAURICE|FOSTER GRANDPARENT|FAMILY & SUPPORT|$2756.00\n",
            "30541|WEEL,  ROBERT G|CAPTAIN|FIRE|$123948.00\n",
            "30542|WEGE,  MATTHEW S|FIREFIGHTER/PARAMEDIC|FIRE|$71604.00\n",
            "30543|WEHRLE,  KAREN|CROSSING GUARD - PER AGREEMENT|POLICE|$13790.40\n",
            "30544|WEHRWEIN,  JASON|HOISTING ENGINEER|STREETS & SAN|$97968.00\n",
            "30545|WEIDEL,  TIMOTHY W|AVIATION SECURITY OFFICER|AVIATION|$70404.00\n",
            "30546|WEIDIG,  STEVE W|SERGEANT|POLICE|$110370.00\n",
            "30547|WEIGAND,  DAVID A|SERGEANT|POLICE|$110370.00\n",
            "30548|WEIGAND,  THOMAS J|POLICE OFFICER|POLICE|$80778.00\n",
            "30549|WEIGERT,  KAREN R|ASST TO THE MAYOR|MAYOR'S OFFICE|$124992.00\n",
            "30550|WEIGLEIN,  TIMOTHY R|SERGEANT|POLICE|$103590.00\n",
            "30551|WEILER,  CHRIS S|FIREFIGHTER-EMT|FIRE|$85680.00\n",
            "30552|WEINERT,  DARCI N|SENIOR HEARING OFFICER|ADMIN HEARNG|$66696.00\n",
            "30553|WEINERT,  JOHN|POLICE OFFICER|POLICE|$46206.00\n",
            "30554|WEINGART,  CAROL A|POLICE OFFICER|POLICE|$89718.00\n",
            "30555|WEINSTEIN,  DAVID J|STUDIO EQUIPMENT MANAGER|BUSINESS AFFAIRS|$102060.00\n",
            "30556|WEINTHALER,  TIMOTHY|POLICE OFFICER|POLICE|$46206.00\n",
            "30557|WEIR,  JESSICA R|POLICE OFFICER|POLICE|$83616.00\n",
            "30558|WEISS,  CHRISTINA A|SUPERVISING POLICE COMMUNICATIONS OPERATOR|OEMC|$92604.00\n",
            "30559|WEISSER,  JOHN|POLICE OFFICER (ASSIGNED AS DETECTIVE)|POLICE|$93648.00\n",
            "30560|WEISS,  JAMES R|ELECTRICAL MECHANIC (AUTOMOTIVE)|GENERAL SERVICES|$91520.00\n",
            "30561|WEISS,  JOEL T|PARAMEDIC I/C|FIRE|$90456.00\n",
            "30562|WEITZMAN,  JOSHUA C|POLICE OFFICER (ASSIGNED AS DETECTIVE)|POLICE|$97044.00\n",
            "30563|WEKE,  IRIS K|CROSSING GUARD|POLICE|$20092.80\n",
            "30564|WELBEL,  CHERYL H|POLICE OFFICER|POLICE|$69684.00\n",
            "30565|WELCH,  BRIAN M|CAPTAIN|FIRE|$123948.00\n",
            "30566|WELCH,  CHARLES S|OPERATING ENGINEER-GROUP C|WATER MGMNT|$93745.60\n",
            "30567|WELCH CZERWINSKI,  ERIN|POLICE OFFICER|POLICE|$69684.00\n",
            "30568|WELCH,  DORIAN H|LABORER - APPRENTICE|WATER MGMNT|$55328.00\n",
            "30569|WELCH,  EMMET J|SERGEANT|POLICE|$100440.00\n",
            "30570|WELCH,  ESTHER M|POOL MOTOR TRUCK DRIVER|STREETS & SAN|$71780.80\n",
            "30571|WELCH III,  ARTHUR F|FRM OF MACHINISTS - AUTOMOTIVE|GENERAL SERVICES|$97448.00\n",
            "30572|WELCH III,  EDDIE L|DEPUTY CHIEF|POLICE|$170112.00\n",
            "30573|WELCH,  JENNIFER|FIRST DEPUTY COMMISSIONER|FAMILY & SUPPORT|$131124.00\n",
            "30574|WELCH,  JOHN W|POLICE OFFICER|POLICE|$83616.00\n",
            "30575|WELCH JR,  TIMOTHY P|CONSTRUCTION LABORER|WATER MGMNT|$79040.00\n",
            "30576|WELCH,  MEGAN J|POLICE OFFICER|POLICE|$86520.00\n",
            "30577|WELCH,  SYLVESTER M|GARAGE ATTENDANT|GENERAL SERVICES|$46592.00\n",
            "30578|WELIN,  DANIEL|POLICE OFFICER|POLICE|$46206.00\n",
            "30579|WELLER,  ADAM L|REVENUE INVESTIGATOR II|BUSINESS AFFAIRS|$73200.00\n",
            "30580|WELLERE,  CHERYL D|DETENTION AIDE|POLICE|$48924.00\n",
            "30581|WELLERE,  COREY M|DETENTION AIDE|POLICE|$48924.00\n",
            "30582|WELLER,  KENNETH S|POLICE OFFICER|POLICE|$83616.00\n",
            "30583|WELLER,  WENDY V|POLICE OFFICER|POLICE|$83616.00\n",
            "30584|WELLHAUSEN,  NICOLE A|LEGISLATIVE AIDE|CITY COUNCIL|$47568.00\n",
            "30585|WELLS,  BRIAN D|POLICE OFFICER|POLICE|$80778.00\n",
            "30586|WELLS,  DAVID L|MANAGING DEPUTY COMMISSIONER|FAMILY & SUPPORT|$120468.00\n",
            "30587|WELLS,  DEIDRA L|POLICE OFFICER|POLICE|$83616.00\n",
            "30588|WELLS,  DIVETTA L|SANITATION LABORER|STREETS & SAN|$72384.00\n",
            "30589|WELLS,  FELICIA A|SANITATION LABORER|STREETS & SAN|$72384.00\n",
            "30590|WELLS JR,  JESSE D|POLICE OFFICER|POLICE|$83616.00\n",
            "30591|WELLS JR,  OTIS B|POLICE OFFICER|POLICE|$80778.00\n",
            "30592|WELLS,  KIMBERLY A|POOL MOTOR TRUCK DRIVER|WATER MGMNT|$71780.80\n",
            "30593|WELLS,  LADETRICA|PARALEGAL II|LAW|$69888.00\n",
            "30594|WELLS,  LAKITA N|LABORER|AVIATION|$67329.60\n",
            "30595|WELLS,  LAWRENCE D|FIREFIGHTER|FIRE|$93594.00\n",
            "30596|WELLS,  MICHAEL L|POLICE OFFICER|POLICE|$92316.00\n",
            "30597|WELLS,  MORHFIA S|LABORER|AVIATION|$67329.60\n",
            "30598|WELLS,  PEGGY D|PAYMENT SERVICES REPRESENTATIVE|FINANCE|$60780.00\n",
            "30599|WELLS,  PENNLINE|TRAFFIC CONTROL AIDE-HOURLY|OEMC|$19656.00\n",
            "30600|WELLS,  RUSSELL L|TRAFFIC CONTROL AIDE-HOURLY|OEMC|$19656.00\n",
            "30601|WELSH,  JOAN M|BRIDGE OPERATOR|TRANSPORTN|$64308.00\n",
            "30602|WELSH,  JOHN P|CONSTRUCTION LABORER|WATER MGMNT|$79040.00\n",
            "30603|WELSH,  JOHN T|FIREFIGHTER-EMT|FIRE|$85680.00\n",
            "30604|WELSH,  ROBERT A|CONSTRUCTION LABORER (SUB-FOREMAN)|WATER MGMNT|$80704.00\n",
            "30605|WENDELL,  JOHN|SENIOR SYSTEMS PROGRAMMER|BUSINESS AFFAIRS|$104736.00\n",
            "30606|WENDLANDT,  JAMES W|POLICE OFFICER|POLICE|$89718.00\n",
            "30607|WENDT,  GARY R|POLICE OFFICER|POLICE|$80778.00\n",
            "30608|WENDT,  MARK D|FIREFIGHTER|FIRE|$93594.00\n",
            "30609|WENDY,  RICHARD A|DEPUTY CORPORATION COUNSEL|LAW|$137076.00\n",
            "30610|WENGEL,  DIANE V|SUPVSR OF VOUCHER AUDITING|AVIATION|$80916.00\n",
            "30611|WENHOLZ,  RAYMOND J|FIREFIGHTER-EMT|FIRE|$91764.00\n",
            "30612|WENSERITT,  TODD R|POLICE OFFICER (ASSIGNED AS DETECTIVE)|POLICE|$97044.00\n",
            "30613|WENTA,  NICHOLAS E|POLICE OFFICER|POLICE|$80778.00\n",
            "30614|WENTA,  TERRENCE M|YOUTH SERVICES COORD|POLICE|$73752.00\n",
            "30615|WERNER,  JASON M|PARAMEDIC|FIRE|$54114.00\n",
            "30616|WERTEPNY,  CHRISTOPHER P|POLICE OFFICER|POLICE|$83616.00\n",
            "30617|WERTH,  MEERA|ASST CORPORATION COUNSEL SUPVSR|LAW|$111336.00\n",
            "30618|WESLANDER,  KENNETH M|PARAMEDIC|FIRE|$80778.00\n",
            "30619|WESLEY,  MONICA D|DIR OF ADMINISTRATION II|STREETS & SAN|$62640.00\n",
            "30620|WESLEY,  NANCY L|LOAD DISPATCHER|TRANSPORTN|$95888.04\n",
            "30621|WESLEY,  SONNIE L|CROSSING GUARD - PER AGREEMENT|POLICE|$17232.80\n",
            "30622|WESLEY,  WILMA L|SANITATION LABORER|STREETS & SAN|$72384.00\n",
            "30623|WESOLOWSKI,  ERIK|STUDENT INTERN|LAW|$15015.00\n",
            "30624|WESOLOWSKI,  FRANK|FIREFIGHTER-EMT|FIRE|$85680.00\n",
            "30625|WESSELHOFF,  MARK E|POLICE OFFICER|POLICE|$86520.00\n",
            "30626|WESSELHOFF,  MELISSA K|POLICE OFFICER|POLICE|$80778.00\n",
            "30627|WESSEL,  KENNETH L|POLICE OFFICER/EXPLSV DETECT K9 HNDLR|POLICE|$94236.00\n",
            "30628|WESSON,  FELISIA A|SECRETARY TO THE CHAIRMAN|CITY COUNCIL|$50004.00\n",
            "30629|WEST,  ADRIENNE D|PUBLIC HEALTH AIDE|HEALTH|$48168.00\n",
            "30630|WEST,  ALAN J|POLICE OFFICER|POLICE|$83616.00\n",
            "30631|WEST,  BARBARA J|COMMANDER|POLICE|$162684.00\n",
            "30632|WESTBROOK,  ANTOINE|FIREFIGHTER-EMT|FIRE|$85680.00\n",
            "30633|WESTBROOK,  JAMES M|MOTOR TRUCK DRIVER|TRANSPORTN|$71780.80\n",
            "30634|WESTBROOKS,  PAUL J|SANITATION LABORER|STREETS & SAN|$72384.00\n",
            "30635|WESTBROOKS,  RONALD|POLICE OFFICER|POLICE|$65946.00\n",
            "30636|WESTBROOKS,  TIMOTHY W|POLICE OFFICER|POLICE|$86520.00\n",
            "30637|WESTBROOKS,  TOMMY D|POOL MOTOR TRUCK DRIVER|STREETS & SAN|$71780.80\n",
            "30638|WEST,  CASSIE D|POLICE OFFICER|POLICE|$83616.00\n",
            "30639|WESTCOTT,  BRET M|POLICE OFFICER|POLICE|$80778.00\n",
            "30640|WESTCOTT,  LOGAN J|POLICE OFFICER|POLICE|$80778.00\n",
            "30641|WEST,  CRYSTAL C|TRAFFIC CONTROL AIDE-HOURLY|OEMC|$19656.00\n",
            "30642|WEST,  DARRIN T|DETENTION AIDE|POLICE|$61260.00\n",
            "30643|WESTENSEE,  JAY A|CHIEF INVESTIGATOR (IG)|INSPECTOR GEN|$91260.00\n",
            "30644|WESTHOUSE,  ROBERT M|POLICE OFFICER|POLICE|$83616.00\n",
            "30645|WEST,  JANET L|FIRE ENGINEER-EMT|FIRE|$99324.00\n",
            "30646|WEST,  JEFFREY|POLICE OFFICER|POLICE|$86520.00\n",
            "30647|WEST JR,  JAMES|PLUMBER|TRANSPORTN|$97032.00\n",
            "30648|WEST,  KEISHA|CROSSING GUARD|POLICE|$18324.80\n",
            "30649|WEST,  KENNETH A|POLICE OFFICER|POLICE|$89718.00\n",
            "30650|WEST,  KEVIN M|AMBULANCE COMMANDER|FIRE|$120264.00\n",
            "30651|WEST,  LAURA A|SERGEANT|POLICE|$103590.00\n",
            "30652|WESTLEY,  LA MONTE|POLICE OFFICER|POLICE|$86520.00\n",
            "30653|WESTLEY,  VANESSA|POLICE OFFICER|POLICE|$89718.00\n",
            "30654|WEST,  LORIE A|SANITATION CLERK|STREETS & SAN|$53352.00\n",
            "30655|WESTMAN,  SCOTT|POLICE OFFICER|POLICE|$65946.00\n",
            "30656|WEST,  MARIA A|CROSSING GUARD|POLICE|$18324.80\n",
            "30657|WEST,  MAUREEN|PROJECT MANAGER|TRANSPORTN|$100692.00\n",
            "30658|WESTMORELAND,  KELVIN|FIREFIGHTER|FIRE|$80778.00\n",
            "30659|WESTON,  ROBERT A|SERGEANT|POLICE|$110370.00\n",
            "30660|WEST,  PAUL C|MOTOR TRUCK DRIVER|AVIATION|$71780.80\n",
            "30661|WEST,  PERLENE|SANITATION LABORER|STREETS & SAN|$72384.00\n",
            "30662|WEST,  SANDRA|ASST COMPTROLLER|FINANCE|$99108.00\n",
            "30663|WEST,  SIMONE B|PROGRAM AUDITOR II|FAMILY & SUPPORT|$73200.00\n",
            "30664|WEST,  THOMAS R|GEN SUPT OF WATER MANAGEMENT|WATER MGMNT|$112332.00\n",
            "30665|WEST,  WALTER M|DEPUTY COMMISSIONER|GENERAL SERVICES|$124992.00\n",
            "30666|WETTERER,  DANETTE M|POLICE OFFICER|POLICE|$83616.00\n",
            "30667|WETTERER,  DANIEL R|POLICE OFFICER|POLICE|$89718.00\n",
            "30668|WETZEL,  DAVID N|POLICE OFFICER|POLICE|$86520.00\n",
            "30669|WEXLER,  PHILIP R|POLICE OFFICER (ASSIGNED AS DETECTIVE)|POLICE|$97044.00\n",
            "30670|WEYDEMAN,  CARL P|AVIATION SECURITY OFFICER|AVIATION|$70404.00\n",
            "30671|WEYER,  CHARLES R|POLICE OFFICER|POLICE|$86520.00\n",
            "30672|WEYLAND,  DANIEL A|AVIATION SECURITY SERGEANT|AVIATION|$63516.00\n",
            "30673|WHALEN,  JENNENE D|POLICE OFFICER|POLICE|$86520.00\n",
            "30674|WHALEN,  JOHN M|SERVICE WRITER|GENERAL SERVICES|$61356.00\n",
            "30675|WHALEN,  PATRICK J|MACHINIST (AUTOMOTIVE)|GENERAL SERVICES|$92248.00\n",
            "30676|WHALEN,  ROGER G|CONSTRUCTION LABORER|WATER MGMNT|$79040.00\n",
            "30677|WHALEN,  SCOTT T|CAPTAIN-EMT|FIRE|$131466.00\n",
            "30678|WHALEN,  WILLIAM A|POLICE OFFICER|POLICE|$69684.00\n",
            "30679|WHEAT,  CHRISTOPHER O|DEPUTY DIR|MAYOR'S OFFICE|$135000.00\n",
            "30680|WHEATLEY,  DAVID A|CONSTRUCTION LABORER|WATER MGMNT|$79040.00\n",
            "30681|WHEATLEY,  DELLA|AUDIO-VISION TESTER|FAMILY & SUPPORT|$41532.00\n",
            "30682|WHEATLEY,  IESHA C|DETENTION AIDE|POLICE|$44568.00\n",
            "30683|WHEATLY,  TENKYA N|FIREFIGHTER-EMT|FIRE|$85680.00\n",
            "30684|WHEELER,  ANNETTE M|POLICE OFFICER|POLICE|$86520.00\n",
            "30685|WHEELER,  CARMEN E|CROSSING GUARD|POLICE|$18324.80\n",
            "30686|WHEELER,  IVORY L|LEGISLATIVE AIDE|CITY COUNCIL|$55698.00\n",
            "30687|WHEELER,  ROBERT D|SERGEANT|POLICE|$110370.00\n",
            "30688|WHELAN,  MELISSA L|ASST CORPORATION COUNSEL SUPVSR|LAW|$91068.00\n",
            "30689|WHELEHAN,  LARRY J|SEWER BRICKLAYER|WATER MGMNT|$88566.40\n",
            "30690|WHERFEL,  PATRICK J|POLICE OFFICER|POLICE|$80778.00\n",
            "30691|WHICHER,  ANITA J|POLICE OFFICER|POLICE|$86520.00\n",
            "30692|WHIGHAM,  JAMES L|POLICE OFFICER|POLICE|$80778.00\n",
            "30693|WHIPPLE,  CHRISTINE M|SOCIAL WORKER III|FAMILY & SUPPORT|$75840.00\n",
            "30694|WHIRITY,  JOHN E|FOREMAN OF HOISTING ENGINEERS|WATER MGMNT|$106288.00\n",
            "30695|WHIRITY,  LINDA R|CROSSING GUARD|POLICE|$19188.00\n",
            "30696|WHIRITY,  MARTIN P|SENIOR PUBLIC VEHICLE INSPECTOR|BUSINESS AFFAIRS|$73200.00\n",
            "30697|WHISENTON,  DONNA M|POLICE OFFICER|POLICE|$86520.00\n",
            "30698|WHISLER,  KATHARINE J|ASST CORPORATION COUNSEL SUPVSR|LAW|$97488.00\n",
            "30699|WHITAKER,  AARON V|TRAFFIC CONTROL AIDE-HOURLY|OEMC|$19656.00\n",
            "30700|WHITAKER,  ELIZABETH A|ASST CORPORATION COUNSEL SUPVSR|LAW|$109728.00\n",
            "30701|WHITAKER,  RUBY L|FOSTER GRANDPARENT|FAMILY & SUPPORT|$2756.00\n",
            "30702|WHITBY,  ROY J|POOL MOTOR TRUCK DRIVER|AVIATION|$71780.80\n",
            "30703|WHITE,  ANTHONY D|LABORER - APPRENTICE|WATER MGMNT|$55328.00\n",
            "30704|WHITE,  ANTHONY J|SANITATION LABORER|STREETS & SAN|$72384.00\n",
            "30705|WHITE,  ANTON T|SERGEANT|POLICE|$103590.00\n",
            "30706|WHITE,  BRUCE T|MACHINIST|GENERAL SERVICES|$92248.00\n",
            "30707|WHITE,  CALVIN J|MOTOR TRUCK DRIVER|STREETS & SAN|$71780.80\n",
            "30708|WHITE,  CALVIN R|LIEUTENANT-EMT|FIRE|$113400.00\n",
            "30709|WHITE,  CARMELITA K|LIBRARY CLERK|PUBLIC LIBRARY|$40008.00\n",
            "30710|WHITE,  CAROL A|POLICE OFFICER|POLICE|$92316.00\n",
            "30711|WHITE,  CASSANDRA L|LIBRARY PAGE|PUBLIC LIBRARY|$12407.20\n",
            "30712|WHITE,  CATHERINE M|FOSTER GRANDPARENT|FAMILY & SUPPORT|$2756.00\n",
            "30713|WHITE CAVERS,  BILLIE M|POLICE COMMUNICATIONS OPERATOR II|OEMC|$80940.00\n",
            "30714|WHITE,  CEDRIC M|POLICE OFFICER|POLICE|$92316.00\n",
            "30715|WHITE,  COLLEEN|STAFF ASST TO THE ALDERMAN|CITY COUNCIL|$51696.00\n",
            "30716|WHITE,  CURT R|ELECTRICAL MECHANIC|OEMC|$91520.00\n",
            "30717|WHITE,  DARRELL|POLICE OFFICER|POLICE|$86520.00\n",
            "30718|WHITE,  DARRYL L|MOTOR TRUCK DRIVER|STREETS & SAN|$71780.80\n",
            "30719|WHITE,  DAWN M|POLICE OFFICER / FLD TRNG OFFICER|POLICE|$84858.00\n",
            "30720|WHITE,  DEBRA|POLICE COMMUNICATIONS OPERATOR II|OEMC|$88788.00\n",
            "30721|WHITE,  DELANDA J|CUSTODIAL WORKER|GENERAL SERVICES|$34008.00\n",
            "30722|WHITE,  DENNIS R|BRIDGE OPERATOR|TRANSPORTN|$64308.00\n",
            "30723|WHITE,  DETRICIA W|POLICE COMMUNICATIONS OPERATOR II|OEMC|$70404.00\n",
            "30724|WHITE,  DEVIN J|FIREFIGHTER-EMT|FIRE|$85680.00\n",
            "30725|WHITE,  ERIC B|POLICE OFFICER|POLICE|$83616.00\n",
            "30726|WHITE,  ESTAVION C|TREE TRIMMER|STREETS & SAN|$74464.00\n",
            "30727|WHITE,  FALLON S|LIBRARY ASSOCIATE - HOURLY|PUBLIC LIBRARY|$24835.20\n",
            "30728|WHITE,  FREDDIE L|CLERK III|HEALTH|$55428.00\n",
            "30729|WHITE,  GALE D|ELECTRICAL MECHANIC|AVIATION|$91520.00\n",
            "30730|WHITE,  GLENN|SERGEANT|POLICE|$106920.00\n",
            "30731|WHITE,  GREGORY|POLICE OFFICER|POLICE|$92316.00\n",
            "30732|WHITE,  HARRIET R|POLICE OFFICER|POLICE|$86520.00\n",
            "30733|WHITEHEAD,  BETTY J|SENIOR DATA ENTRY OPERATOR|POLICE|$60780.00\n",
            "30734|WHITEHEAD,  JAMES R|SANITATION LABORER|STREETS & SAN|$72384.00\n",
            "30735|WHITEHEAD,  PATRICIA A|LIBRARY CLERK|PUBLIC LIBRARY|$41952.00\n",
            "30736|WHITEHEAD,  RICHARD T|FIREFIGHTER-EMT|FIRE|$95460.00\n",
            "30737|WHITEHEAD SR,  TRACY L|POLICE OFFICER|POLICE|$89718.00\n",
            "30738|WHITEHEAD,  STEPHEN G|POLICE OFFICER|POLICE|$80778.00\n",
            "30739|WHITE III,  JOSEPH A|FIREFIGHTER/PARAMEDIC|FIRE|$93942.00\n",
            "30740|WHITE,  JABARI|GENERAL LABORER - DSS|STREETS & SAN|$40560.00\n",
            "30741|WHITE,  JAHAZIEL J|PROGRAM AIDE|POLICE|$9360.00\n",
            "30742|WHITE,  JAMES|FIREFIGHTER|FIRE|$93594.00\n",
            "30743|WHITE,  JOSEPH F|POLICE OFFICER|POLICE|$83616.00\n",
            "30744|WHITE,  JOSHUA P|CONSTRUCTION LABORER|WATER MGMNT|$79040.00\n",
            "30745|WHITE JR,  JOHN H|POLICE COMMUNICATIONS OPERATOR II|OEMC|$73764.00\n",
            "30746|WHITE JR,  RAYMOND|POOL MOTOR TRUCK DRIVER|STREETS & SAN|$71780.80\n",
            "30747|WHITE JR,  RUSSELL E|POLICE OFFICER|POLICE|$86520.00\n",
            "30748|WHITE,  KENNETH C|CONCRETE LABORER|TRANSPORTN|$79040.00\n",
            "30749|WHITE,  KIMBERLY A|ADMINISTRATIVE ASST II|LAW|$58020.00\n",
            "30750|WHITE,  LAKENYA N|INVESTIGATOR - IPRA II|IPRA|$84072.00\n",
            "30751|WHITE,  LARONDA|POLICE OFFICER|POLICE|$86520.00\n",
            "30752|WHITE,  LASHANNA|EMERGENCY CREW DISPATCHER|WATER MGMNT|$79040.00\n",
            "30753|WHITE,  LATASHA M|SENIOR DATA BASE ANALYST|DoIT|$104736.00\n",
            "30754|WHITE,  LEROY|FIRE ENGINEER|FIRE|$99888.00\n",
            "30755|WHITE,  LESTER|POLICE OFFICER|POLICE|$89718.00\n",
            "30756|WHITE,  LETITIA D|ADMINISTRATIVE ASST II|BUSINESS AFFAIRS|$55428.00\n",
            "30757|WHITELEY,  CLAYTON R|FIREFIGHTER|FIRE|$86520.00\n",
            "30758|WHITE,  LYNN|LIBRARIAN IV|PUBLIC LIBRARY|$87036.00\n",
            "30759|WHITE,  MARGARET M|TRAINING & DEVELOPMENT ANALYST|HUMAN RESOURCES|$80256.00\n",
            "30760|WHITE,  MARK W|POLICE OFFICER|POLICE|$83616.00\n",
            "30761|WHITE,  MARLITA|DIR OF ADMINISTRATIVE SERVICES|HEALTH|$83940.00\n",
            "30762|WHITE,  MELODY C|CAULKER|WATER MGMNT|$97032.00\n",
            "30763|WHITE,  MICHAEL C|POLICE OFFICER|POLICE|$86520.00\n",
            "30764|WHITE,  MICHAEL J|SERGEANT|POLICE|$103590.00\n",
            "30765|WHITE,  MILDRED|CROSSING GUARD - PER AGREEMENT|POLICE|$17232.80\n",
            "30766|WHITEMON,  ZENOBIA|CROSSING GUARD|POLICE|$22131.20\n",
            "30767|WHITENHILL,  NORMAN|MOTOR TRUCK DRIVER|STREETS & SAN|$71780.80\n",
            "30768|WHITE,  NICHOLAS J|POLICE OFFICER|POLICE|$83616.00\n",
            "30769|WHITE,  NORMAN S|HATE CRIME VICTIM ADVOCATE|HUMAN RELATIONS|$80916.00\n",
            "30770|WHITE,  PAUL C|POLICE OFFICER|POLICE|$86520.00\n",
            "30771|WHITE,  PAULETTE|ASST COMMISSIONER|AVIATION|$93912.00\n",
            "30772|WHITE,  PETER G|POLICE OFFICER|POLICE|$86520.00\n",
            "30773|WHITE,  QUINRETTA R|POLICE CADET|POLICE|$16380.00\n",
            "30774|WHITE,  RICKY C|PAINTER|TRANSPORTN|$86840.00\n",
            "30775|WHITE,  ROBERT E|POLICE OFFICER|POLICE|$80778.00\n",
            "30776|WHITE,  RONALD A|POLICE OFFICER|POLICE|$89718.00\n",
            "30777|WHITE,  ROY D|CONSTRUCTION LABORER|WATER MGMNT|$79040.00\n",
            "30778|WHITERS,  STEVEN E|FIREFIGHTER|FIRE|$80778.00\n",
            "30779|WHITE,  SCOTT A|POLICE OFFICER|POLICE|$80778.00\n",
            "30780|WHITE,  SHAVON J|TRAFFIC CONTROL AIDE-HOURLY|OEMC|$19656.00\n",
            "30781|WHITE,  SHEKELIA R|PARKING ENFORCEMENT AIDE|FINANCE|$44244.00\n",
            "30782|WHITE,  SHIRLEY|PUBLIC HEALTH AIDE|HEALTH|$48168.00\n",
            "30783|WHITESIDE,  CHRISTOPHE M|FIRE ENGINEER-EMT|FIRE|$102930.00\n",
            "30784|WHITESIDE,  DONNIE R|PARAMEDIC I/C|FIRE|$97044.00\n",
            "30785|WHITESIDE JR,  MALCOLM|DEPUTY COMMISSIONER|STREETS & SAN|$129336.00\n",
            "30786|WHITESIDE,  MARIA M|SERGEANT|POLICE|$110370.00\n",
            "30787|WHITESIDE,  RUBY|FOSTER GRANDPARENT|FAMILY & SUPPORT|$2756.00\n",
            "30788|WHITE SR,  KEVIN|POLICE OFFICER|POLICE|$89718.00\n",
            "30789|WHITE,  STACEY M|AUDITOR I|FINANCE|$52116.00\n",
            "30790|WHITE,  STEVEN L|POLICE OFFICER|POLICE|$80778.00\n",
            "30791|WHITE,  THOMAS M|FOREMAN OF LINEMEN|TRANSPORTN|$106288.00\n",
            "30792|WHITE,  TONTILO A|MACHINIST (AUTOMOTIVE)|GENERAL SERVICES|$92248.00\n",
            "30793|WHITE,  VERNA J|FOSTER GRANDPARENT|FAMILY & SUPPORT|$2756.00\n",
            "30794|WHITE,  WILLIAM H|MOTOR TRUCK DRIVER|STREETS & SAN|$72862.40\n",
            "30795|WHITE,  ZELANE|SUPVSR OF INVENTORY CONTROL I|POLICE|$60780.00\n",
            "30796|WHITFIELD-ALEXANDER,  EARLINE|MANAGER OF FAMIILY SUPPORT PROGRAMS|FAMILY & SUPPORT|$91152.00\n",
            "30797|WHITFIELD,  DIANNE E|ADMINISTRATIVE ASST II|FAMILY & SUPPORT|$66684.00\n",
            "30798|WHITFIELD,  JUDY L|LIBRARY PAGE|PUBLIC LIBRARY|$12407.20\n",
            "30799|WHITFIELD,  MARY|FOSTER GRANDPARENT|FAMILY & SUPPORT|$2756.00\n",
            "30800|WHITING JR,  GEORGE|POLICE OFFICER|POLICE|$69684.00\n",
            "30801|WHITING,  RONALD|CONSTRUCTION LABORER|WATER MGMNT|$79040.00\n",
            "30802|WHITLEY,  IDA M|GARAGE ATTENDANT|GENERAL SERVICES|$46592.00\n",
            "30803|WHITLEY,  WILLIAM R|POLICE OFFICER|POLICE|$89718.00\n",
            "30804|WHITLOCK,  JOSEPH V|FIREFIGHTER|FIRE|$86520.00\n",
            "30805|WHITMER,  TIMOTHY|POLICE OFFICER|POLICE|$69684.00\n",
            "30806|WHITMORE,  GAYLA|TRAFFIC CONTROL AIDE-HOURLY|OEMC|$19656.00\n",
            "30807|WHITMORE,  GREGORY A|SERGEANT|POLICE|$106920.00\n",
            "30808|WHITMORE JR,  ROY L|LIEUTENANT|POLICE|$120264.00\n",
            "30809|WHITNEY,  CELIA A|CROSSING GUARD - PER AGREEMENT|POLICE|$17232.80\n",
            "30810|WHITTAKER,  BYRON J|DEPUTY PROCUREMENT OFFICER|PROCUREMENT|$113880.00\n",
            "30811|WHITTAKER,  PATRICIA|POLICE COMMUNICATIONS OPERATOR I|OEMC|$53628.00\n",
            "30812|WHITT,  BENJAMIN B|FIREFIGHTER-EMT|FIRE|$91764.00\n",
            "30813|WHITTED,  JACKIE|ASST MANAGER OF POLICE PAYROLLS|POLICE|$80916.00\n",
            "30814|WHITT,  ELAINE E|STAFF ASST TO THE ALDERMAN|CITY COUNCIL|$30000.00\n",
            "30815|WHITTENBURG,  STACEY A|CROSSING GUARD|POLICE|$20092.80\n",
            "30816|WHITTEN,  RICKIE D|POLICE OFFICER|POLICE|$86520.00\n",
            "30817|WHITTINGHAM,  RENEE|POLICE OFFICER|POLICE|$80778.00\n",
            "30818|WHITTINGTON,  JAMES R|POLICE OFFICER (ASSIGNED AS SECURITY SPECIALIST)|POLICE|$106920.00\n",
            "30819|WHITTINGTON,  JEFFREY T|FIREFIGHTER|FIRE|$93594.00\n",
            "30820|WHITTLE,  ROBERT L|FIREFIGHTER-EMT|FIRE|$88680.00\n",
            "30821|WIBERG,  WAYNE A|LIEUTENANT|POLICE|$120264.00\n",
            "30822|WICENCYJUSZ,  ERIC|POLICE OFFICER|POLICE|$69684.00\n",
            "30823|WICKER,  BARRY|STATIONARY FIREMAN|AVIATION|$65686.40\n",
            "30824|WICKERY,  KEITH J|FIRE ENGINEER|FIRE|$93648.00\n",
            "30825|WICKERY,  KELEAN B|POLICE OFFICER|POLICE|$86520.00\n",
            "30826|WICKERY,  KEVIN J|POLICE OFFICER (ASSIGNED AS DETECTIVE)|POLICE|$99888.00\n",
            "30827|WICKERY,  SHAWN|POLICE OFFICER|POLICE|$46206.00\n",
            "30828|WICKEY,  MICHAEL L|AVIATION SECURITY OFFICER|AVIATION|$48924.00\n",
            "30829|WICKMAN,  LINDSEY R|ASST CORPORATION COUNSEL|LAW|$61980.00\n",
            "30830|WICKRAMASEKERA,  CHARLES T|POLICE OFFICER/EXPLSV DETECT K9 HNDLR|POLICE|$97044.00\n",
            "30831|WICZUS,  MICHAEL|FIREFIGHTER|FIRE|$90018.00\n",
            "30832|WIDAWSKY,  DANIEL J|CITY COMPTROLLER|FINANCE|$165000.00\n",
            "30833|WIDEMAN,  DARRELL|GENERAL LABORER - DSS|STREETS & SAN|$43201.60\n",
            "30834|WIDEMAN,  JOEL M|FIRE ENGINEER-EMT|FIRE|$95958.00\n",
            "30835|WIDEMAN,  SHARONDA|CUSTODIAL WORKER|AVIATION|$34008.00\n",
            "30836|WIDERSTROM,  CHRISTOPHE N|SUPERVISING POLICE COMMUNICATIONS OPERATOR|OEMC|$92604.00\n",
            "30837|WIDMANN,  DAVID J|DETENTION AIDE|POLICE|$67212.00\n",
            "30838|WIDMANN,  JOSHUA|POLICE OFFICER|POLICE|$46206.00\n",
            "30839|WIDMER,  CHRISTOPHER J|PROGRAM DIR|HEALTH|$73020.00\n",
            "30840|WIECHERT JR,  PAUL J|POLICE OFFICER|POLICE|$80778.00\n",
            "30841|WIECHERT,  LORETTA K|POLICE OFFICER|POLICE|$80778.00\n",
            "30842|WIECLAWEK,  MATTHEW L|FIREFIGHTER|FIRE|$86520.00\n",
            "30843|WIECZOREK,  DAVID G|CONSUMER INVESTIGATOR II|BUSINESS AFFAIRS|$69888.00\n",
            "30844|WIECZOREK,  PETER A|FIRE ENGINEER-EMT|FIRE|$95958.00\n",
            "30845|WIECZOREK,  STEVE|POLICE OFFICER|POLICE|$86520.00\n",
            "30846|WIECZOREK,  SUSAN M|ADMINISTRATIVE SERVICES OFFICER II|BUDGET & MGMT|$73752.00\n",
            "30847|WIECZOREK,  THOMAS E|LIEUTENANT|POLICE|$120264.00\n",
            "30848|WIECZOREK,  WILLIAM E|POLICE OFFICER|POLICE|$86520.00\n",
            "30849|WIEDEL,  SEAN S|ASST COMMISSIONER|TRANSPORTN|$81180.00\n",
            "30850|WIEDENSKI,  JELENA|POLICE OFFICER|POLICE|$86520.00\n",
            "30851|WIEDENSKI,  MARK J|POLICE OFFICER (ASSIGNED AS DETECTIVE)|POLICE|$93648.00\n",
            "30852|WIEDLIN,  DANIEL P|FIREFIGHTER-EMT (RECRUIT)|FIRE|$54114.00\n",
            "30853|WIELAND JR,  HEINZ U|SERGEANT|POLICE|$106920.00\n",
            "30854|WIELGAT,  MICHAEL S|CAPTAIN-EMT|FIRE|$131466.00\n",
            "30855|WIELGUS,  JAMES W|MOTOR TRUCK DRIVER|STREETS & SAN|$71780.80\n",
            "30856|WIENCEK,  MARGARET A|STAFF ASST|TRANSPORTN|$66684.00\n",
            "30857|WIENER,  GINA K|COORD OF SPECIAL PROJECTS|AVIATION|$88812.00\n",
            "30858|WIERCIAK,  STANLEY J|POLICE OFFICER|POLICE|$89718.00\n",
            "30859|WIER,  ERIC A|POLICE OFFICER|POLICE|$89718.00\n",
            "30860|WIETRZAK,  ANTHONY|ENGINEER OF ELECTRIC PUMPING STATIONS|WATER MGMNT|$110352.00\n",
            "30861|WIGGINS,  CATHERINE E|SUPPORT SERVICES COORD|FAMILY & SUPPORT|$66684.00\n",
            "30862|WIGGINS,  FRANKLIN E|POLICE OFFICER|POLICE|$89718.00\n",
            "30863|WIGGINS,  JOYCE E|LIBRARIAN III|PUBLIC LIBRARY|$87912.00\n",
            "30864|WIGGINS,  KENNETH L|POLICE OFFICER (ASSIGNED AS DETECTIVE)|POLICE|$97044.00\n",
            "30865|WIGGINS,  LEROY|POOL MOTOR TRUCK DRIVER|STREETS & SAN|$17945.20\n",
            "30866|WIGLEY,  KEEYNAN S|POLICE OFFICER|POLICE|$80778.00\n",
            "30867|WIITALA,  TREVOR B|FIREFIGHTER|FIRE|$65946.00\n",
            "30868|WIJAS,  DARIUSZ|POLICE OFFICER|POLICE|$69684.00\n",
            "30869|WIKSTEN,  RANDY|ELECTRICAL MECHANIC (AUTOMOTIVE)|GENERAL SERVICES|$91520.00\n",
            "30870|WIKTOREK,  MARK C|POLICE OFFICER (ASSIGNED AS DETECTIVE)|POLICE|$99888.00\n",
            "30871|WILBERT,  JAVARRIO C|GENERAL LABORER - AVIATION|AVIATION|$39520.00\n",
            "30872|WILBORN,  ARNITA|POLICE COMMUNICATIONS OPERATOR II|OEMC|$70404.00\n",
            "30873|WILBORN,  DESTRY M|POLICE OFFICER (ASSIGNED AS DETECTIVE)|POLICE|$93648.00\n",
            "30874|WILBOURN,  ALFIE L|MOTOR TRUCK DRIVER|AVIATION|$71780.80\n",
            "30875|WILBOURN,  LINEE S|TRAFFIC CONTROL AIDE-HOURLY|OEMC|$19656.00\n",
            "30876|WILBUR,  MICHAEL G|CAPTAIN-EMT|FIRE|$127566.00\n",
            "30877|WILCOXON,  LASHAUNA M|TRAFFIC CONTROL AIDE-HOURLY|OEMC|$19656.00\n",
            "30878|WILCZEWSKA,  DOROTA|LIBRARY PAGE|PUBLIC LIBRARY|$12407.20\n",
            "30879|WILCZYNSKI,  ROBERT K|MACHINIST (AUTOMOTIVE)|GENERAL SERVICES|$92248.00\n",
            "30880|WILDE,  CHRISTOPHER|POLICE OFFICER|POLICE|$69684.00\n",
            "30881|WILDER,  REY H|FIREFIGHTER-EMT|FIRE|$91764.00\n",
            "30882|WILDER,  RICK V|POLICE OFFICER|POLICE|$86520.00\n",
            "30883|WILEY EARLS,  CARMELITA P|CAPTAIN-EMT|FIRE|$127566.00\n",
            "30884|WILEY,  HAROLD B|SIGN HANGER|TRANSPORTN|$65124.80\n",
            "30885|WILEY,  JEFFERY J|FIREFIGHTER/PARAMEDIC|FIRE|$87720.00\n",
            "30886|WILEY,  MANER JEAN|CROSSING GUARD|POLICE|$22131.20\n",
            "30887|WILEY,  RUTH A|SENIOR COMPANION|FAMILY & SUPPORT|$2756.00\n",
            "30888|WILHELM,  MICHAEL M|LIEUTENANT|FIRE|$103590.00\n",
            "30889|WILHELMS,  MICHAEL D|FIREFIGHTER-EMT|FIRE|$88680.00\n",
            "30890|WILHELM,  THOMAS J|ACCIDENT ADJUSTER|GENERAL SERVICES|$76656.00\n",
            "30891|WILHOITE,  ALLEN S|LIBRARY ASSOCIATE|PUBLIC LIBRARY|$66120.00\n",
            "30892|WILK,  ANDREW J|FIREFIGHTER-EMT|FIRE|$85680.00\n",
            "30893|WILKE,  RAYMOND H|POLICE OFFICER|POLICE|$86520.00\n",
            "30894|WILKERSON,  CRYSTAL M|POLICE OFFICER|POLICE|$92316.00\n",
            "30895|WILKERSON,  FRANCHESTER|CROSSING GUARD|POLICE|$16692.00\n",
            "30896|WILKERSON,  GWENDOLYN|FOSTER GRANDPARENT|FAMILY & SUPPORT|$2756.00\n",
            "30897|WILKERSON,  KEVIN T|AUDITOR III|FAMILY & SUPPORT|$95880.00\n",
            "30898|WILKERSON,  LOUIS M|FIREFIGHTER|FIRE|$86520.00\n",
            "30899|WILKERSON,  QUINIDRA L|POLICE CADET|POLICE|$9360.00\n",
            "30900|WILKERSON,  QUINTIN L|SANITATION LABORER|STREETS & SAN|$72384.00\n",
            "30901|WILKERSON,  RONALD|SERGEANT|POLICE|$110370.00\n",
            "30902|WILKERSON,  TERRANCE|GARAGE ATTENDANT|GENERAL SERVICES|$46592.00\n",
            "30903|WILKES,  DEXTER D|MOTOR TRUCK DRIVER|STREETS & SAN|$71780.80\n",
            "30904|WILKINS,  ANTHONY H|LINEMAN|TRANSPORTN|$95888.00\n",
            "30905|WILKINS,  GWENDOLYN F|POOL MOTOR TRUCK DRIVER|STREETS & SAN|$16151.20\n",
            "30906|WILKINSON,  GUYSONJA L|HOSPITALITY WORKER|FAMILY & SUPPORT|$9516.00\n",
            "30907|WILKINS,  THADDEUS|SENIOR ADMINISTRATIVE LAW OFFICER|ADMIN HEARNG|$91980.00\n",
            "30908|WILKOSZEWSKI,  MICHELE L|POLICE OFFICER|POLICE|$86520.00\n",
            "30909|WILKOSZ,  MARY E|POLICE OFFICER|POLICE|$86520.00\n",
            "30910|WILKOSZ,  PETER A|POLICE OFFICER|POLICE|$86520.00\n",
            "30911|WILKS JR,  CHARLES J|FIREFIGHTER-EMT|FIRE|$88680.00\n",
            "30912|WILK,  VICTORIA|TRAFFIC CONTROL AIDE-HOURLY|OEMC|$19656.00\n",
            "30913|WILLABY,  HENRY D|DETENTION AIDE|POLICE|$55800.00\n",
            "30914|WILLARD,  JONATHAN L|MOTOR TRUCK DRIVER|STREETS & SAN|$71780.80\n",
            "30915|WILLARD,  ROBIN K|LIBRARIAN III|PUBLIC LIBRARY|$87912.00\n",
            "30916|WILLEMS,  LAWRENCE E|POLICE OFFICER|POLICE|$83616.00\n",
            "30917|WILLENS,  KAREN M|ADMINISTRATIVE ASST II|FIRE|$66684.00\n",
            "30918|WILLIAM HANDLEY,  LISA D|POLICE OFFICER|POLICE|$86520.00\n",
            "30919|WILLIAMS,  ADRIANN|PARKING ENFORCEMENT AIDE|FINANCE|$55248.00\n",
            "30920|WILLIAMS,  ALICE|CROSSING GUARD|POLICE|$20092.80\n",
            "30921|WILLIAMS,  ALLECIA J|POLICE OFFICER (ASSIGNED AS DETECTIVE)|POLICE|$99888.00\n",
            "30922|WILLIAMS,  ANDRE|FIREFIGHTER-EMT|FIRE|$91764.00\n",
            "30923|WILLIAMS,  ANDRE|POLICE OFFICER|POLICE|$80778.00\n",
            "30924|WILLIAMS,  ANDREA S|ADMINISTRATIVE ASST II|TRANSPORTN|$66684.00\n",
            "30925|WILLIAMS,  ANDRE L|ASST PROGRAM DIR|HEALTH|$52008.00\n",
            "30926|WILLIAMS,  ANDREW L|SANITATION LABORER|STREETS & SAN|$72384.00\n",
            "30927|WILLIAMS,  ANGELA|CONSTRUCTION LABORER|WATER MGMNT|$79040.00\n",
            "30928|WILLIAMS,  ANGELA E|SANITATION LABORER|STREETS & SAN|$72384.00\n",
            "30929|WILLIAMS,  ANGELA N|SENIOR DATA ENTRY OPERATOR|POLICE|$58020.00\n",
            "30930|WILLIAMS,  ANGELILA|SUPERVISING PROPERTY CUSTODIAN|POLICE|$66684.00\n",
            "30931|WILLIAMS,  ANGIE R|ADMINISTRATIVE ASST II|BUILDINGS|$63708.00\n",
            "30932|WILLIAMS,  ANTHONY|POOL MOTOR TRUCK DRIVER|AVIATION|$71780.80\n",
            "30933|WILLIAMS,  ANTINETTE M|AUDITOR I|FINANCE|$72120.00\n",
            "30934|WILLIAMS,  ANTOINE A|FIREFIGHTER-EMT|FIRE|$85680.00\n",
            "30935|WILLIAMS,  ANTONIO D|POOL MOTOR TRUCK DRIVER|STREETS & SAN|$16151.20\n",
            "30936|WILLIAMS,  ANTONIO F|FOREMAN OF CEMENT FINISHERS|TRANSPORTN|$93808.00\n",
            "30937|WILLIAMS,  ARDIS B|POLICE OFFICER|POLICE|$83616.00\n",
            "30938|WILLIAMS,  ASIA L|PARKING ENFORCEMENT AIDE|FINANCE|$44244.00\n",
            "30939|WILLIAMS,  BARBARA C|ASST TO THE ALDERMAN|CITY COUNCIL|$78120.00\n",
            "30940|WILLIAMS BENNET,  KENNETH F|FIRST DEPUTY CHIEF OF STAFF|MAYOR'S OFFICE|$159996.00\n",
            "30941|WILLIAMS,  BENNY B|POLICE OFFICER|POLICE|$80778.00\n",
            "30942|WILLIAMS,  BERNADINE J|DATA ENTRY OPERATOR|POLICE|$48168.00\n",
            "30943|WILLIAMS,  BERNARDINE D|LIBRARY PAGE|PUBLIC LIBRARY|$12407.20\n",
            "30944|WILLIAMS,  BEVERLY T|COMMUNITY ORGANIZER-CAPS|POLICE|$66684.00\n",
            "30945|WILLIAMS BEY,  JAMILLAH|SENIOR DATA ENTRY OPERATOR|PUBLIC LIBRARY|$48168.00\n",
            "30946|WILLIAMS-BEY,  YUSEF|POOL MOTOR TRUCK DRIVER|STREETS & SAN|$14357.20\n",
            "30947|WILLIAMS,  BILLY R|MOTOR TRUCK DRIVER|STREETS & SAN|$71780.80\n",
            "30948|WILLIAMS,  BRAD R|SERGEANT|POLICE|$110370.00\n",
            "30949|WILLIAMS,  BRENDA|HOSPITALITY WORKER|FAMILY & SUPPORT|$9516.00\n",
            "30950|WILLIAMS BURRIS,  LINDA D|FINANCIAL ANALYST|FINANCE|$88812.00\n",
            "30951|WILLIAMS,  CARL|POLICE COMMUNICATIONS OPERATOR II|OEMC|$67212.00\n",
            "30952|WILLIAMS,  CAROL A|SENIOR OPERATIONS ANALYST|TRANSPORTN|$87912.00\n",
            "30953|WILLIAMS,  CASSANDRA|SERGEANT|POLICE|$106920.00\n",
            "30954|WILLIAMS,  CHARICE L|POLICE OFFICER|POLICE|$83616.00\n",
            "30955|WILLIAMS,  CHARLES E|BATTALION CHIEF - EMT|FIRE|$143682.00\n",
            "30956|WILLIAMS,  CHARLES H|SANITATION LABORER|STREETS & SAN|$72384.00\n",
            "30957|WILLIAMS,  CHARLES L|COMMISSIONER OF STREETS AND SANITATION|STREETS & SAN|$157092.00\n",
            "30958|WILLIAMS,  CHARLOTTRIESIA|CROSSING GUARD|POLICE|$17492.80\n",
            "30959|WILLIAMS,  CHESIA M|ADMINISTRATIVE ASST II|FAMILY & SUPPORT|$58020.00\n",
            "30960|WILLIAMS,  CHRIS|POLICE OFFICER|POLICE|$83616.00\n",
            "30961|WILLIAMS,  CHRISTA M|ADMINISTRATIVE ASST III|POLICE|$73200.00\n",
            "30962|WILLIAMS-CHRISTMAS,  DEMARR|TRAFFIC CONTROL AIDE-HOURLY|OEMC|$19656.00\n",
            "30963|WILLIAMS,  CHRISTOPHE L|ASST DISTRICT SUPERINTENDENT|WATER MGMNT|$103272.00\n",
            "30964|WILLIAMS,  CHRISTOPHER A|POLICE OFFICER|POLICE|$80778.00\n",
            "30965|WILLIAMS,  CHRISTOPHER G|FIREFIGHTER|FIRE|$83616.00\n",
            "30966|WILLIAMS,  CHRISTY L|TRAFFIC CONTROL AIDE-HOURLY|OEMC|$19656.00\n",
            "30967|WILLIAMS,  CLARENCE|POOL MOTOR TRUCK DRIVER|TRANSPORTN|$71780.80\n",
            "30968|WILLIAMS,  CLARENCE E|POLICE OFFICER|POLICE|$89718.00\n",
            "30969|WILLIAMS,  CONSTANCE P|POOL MOTOR TRUCK DRIVER|TRANSPORTN|$71780.80\n",
            "30970|WILLIAMS,  CORA D|SENIOR PROGRAMMER/ANALYST|COMMUNITY DEVELOPMENT|$104736.00\n",
            "30971|WILLIAMS,  CORNELIUS|WATCHMAN|WATER MGMNT|$43950.40\n",
            "30972|WILLIAMS,  CORRY|POLICE OFFICER|POLICE|$86520.00\n",
            "30973|WILLIAMS,  CRAIG|POLICE OFFICER|POLICE|$89718.00\n",
            "30974|WILLIAMS,  CRYSTAL|TRAFFIC CONTROL AIDE-HOURLY|OEMC|$19656.00\n",
            "30975|WILLIAMS CURINGTON,  DARLENE L|POLICE OFFICER|POLICE|$86520.00\n",
            "30976|WILLIAMS,  CYNTHIA A|TRAFFIC ENFORCEMENT TECH|FINANCE|$31740.00\n",
            "30977|WILLIAMS,  CYNTHIA L|AVIATION SECURITY OFFICER|AVIATION|$61260.00\n",
            "30978|WILLIAMS,  CYNTHIA M|ASST PROJECT DIR|TRANSPORTN|$105828.00\n",
            "30979|WILLIAMS,  DAISY|CROSSING GUARD|POLICE|$22131.20\n",
            "30980|WILLIAMS,  DANIEAL D|FIREFIGHTER-EMT (RECRUIT)|FIRE|$54114.00\n",
            "30981|WILLIAMS,  DANIEL J|LIBRARY ASSOCIATE - HOURLY|PUBLIC LIBRARY|$24835.20\n",
            "30982|WILLIAMS,  DANIELLE S|OUTREACH WORKER|FAMILY & SUPPORT|$43920.00\n",
            "30983|WILLIAMS,  DARIUS L|MOTOR TRUCK DRIVER|STREETS & SAN|$71780.80\n",
            "30984|WILLIAMS,  DARNELL|POOL MOTOR TRUCK DRIVER|STREETS & SAN|$71780.80\n",
            "30985|WILLIAMS,  DARRICK L|POLICE OFFICER|POLICE|$83616.00\n",
            "30986|WILLIAMS,  DARRYL C|SANITATION LABORER|STREETS & SAN|$72384.00\n",
            "30987|WILLIAMS,  DARRYL E|POOL MOTOR TRUCK DRIVER|TRANSPORTN|$71780.80\n",
            "30988|WILLIAMS,  DAVID G|POLICE OFFICER|POLICE|$83616.00\n",
            "30989|WILLIAMS,  DAWN T|POLICE OFFICER|POLICE|$86520.00\n",
            "30990|WILLIAMS,  DEANDRE L|TRAFFIC CONTROL AIDE-HOURLY|OEMC|$19656.00\n",
            "30991|WILLIAMS,  DE ANNA C|POLICE OFFICER|POLICE|$83616.00\n",
            "30992|WILLIAMS,  DEBRA|TITLE V PROGRAM TRAINEE I|FAMILY & SUPPORT|$8580.00\n",
            "30993|WILLIAMS,  DELAINE|SENIOR DATA ENTRY OPERATOR|POLICE|$58020.00\n",
            "30994|WILLIAMS,  DELANDIS|MOTOR TRUCK DRIVER|WATER MGMNT|$71780.80\n",
            "30995|WILLIAMS,  DELITA J|CROSSING GUARD|POLICE|$20092.80\n",
            "30996|WILLIAMS,  DELORES G|TRAFFIC CONTROL AIDE-HOURLY|OEMC|$19656.00\n",
            "30997|WILLIAMS,  DEMETRIUS A|POLICE OFFICER|POLICE|$86520.00\n",
            "30998|WILLIAMS,  DEMITRIE|POOL MOTOR TRUCK DRIVER|AVIATION|$71780.80\n",
            "30999|WILLIAMS,  DEMOND|POOL MOTOR TRUCK DRIVER|STREETS & SAN|$17945.20\n",
            "31000|WILLIAMS,  DENISE R|SUPPORT SERVICES COORD|FAMILY & SUPPORT|$66684.00\n",
            "31001|WILLIAMS,  DENNIS|TRAFFIC CONTROL AIDE-HOURLY|OEMC|$19656.00\n",
            "31002|WILLIAMS,  DENNIS R|POOL MOTOR TRUCK DRIVER|STREETS & SAN|$71780.80\n",
            "31003|WILLIAMS,  DERICK T|LIEUTENANT|FIRE|$110370.00\n",
            "31004|WILLIAMS,  DEVELLE|GENERAL LABORER - AVIATION|AVIATION|$40788.80\n",
            "31005|WILLIAMS,  DIANE|ADMINISTRATIVE ASST II|FINANCE|$66684.00\n",
            "31006|WILLIAMS,  DIANE|CROSSING GUARD|POLICE|$17492.80\n",
            "31007|WILLIAMS,  DOLORES|SUPVSR OF PAYMENT CENTER|FINANCE|$88812.00\n",
            "31008|WILLIAMS,  DONALD D|POOL MOTOR TRUCK DRIVER|TRANSPORTN|$71780.80\n",
            "31009|WILLIAMS,  DONYAL|POLICE OFFICER|POLICE|$83616.00\n",
            "31010|WILLIAMS,  DWAIN P|LIEUTENANT-EMT|FIRE|$113400.00\n",
            "31011|WILLIAMS,  DWAYNE S|POLICE OFFICER|POLICE|$83616.00\n",
            "31012|WILLIAMS,  DWIGHT A|POLICE OFFICER|POLICE|$83616.00\n",
            "31013|WILLIAMS,  EARL|FIREFIGHTER-EMT|FIRE|$85680.00\n",
            "31014|WILLIAMS,  ELIZABETH D|POOL MOTOR TRUCK DRIVER|STREETS & SAN|$71780.80\n",
            "31015|WILLIAMS,  ELIZABETH R|FOSTER GRANDPARENT|FAMILY & SUPPORT|$2756.00\n",
            "31016|WILLIAMS,  ERIC B|POLICE OFFICER|POLICE|$89718.00\n",
            "31017|WILLIAMS,  ERIC C|POLICE COMMUNICATIONS OPERATOR I|OEMC|$48924.00\n",
            "31018|WILLIAMS,  ESTHER S|POLICE OFFICER (ASSIGNED AS DETECTIVE)|POLICE|$99888.00\n",
            "31019|WILLIAMS,  EUGENE E|CHIEF|POLICE|$185364.00\n",
            "31020|WILLIAMS,  FANNIE|FINGERPRINT TECHNICIAN I|POLICE|$60780.00\n",
            "31021|WILLIAMS,  FRANKIE T|ADMINISTRATIVE ASST III|COMMUNITY DEVELOPMENT|$80328.00\n",
            "31022|WILLIAMS,  FRANK X|HOISTING ENGINEER|WATER MGMNT|$97968.00\n",
            "31023|WILLIAMS,  FREDDIE L|FIREFIGHTER-EMT|FIRE|$91764.00\n",
            "31024|WILLIAMS,  FRED L|SENIOR COMPANION|FAMILY & SUPPORT|$2756.00\n",
            "31025|WILLIAMS,  GAIL|CROSSING GUARD - PER AGREEMENT|POLICE|$13790.40\n",
            "31026|WILLIAMS,  GANIYU M|TRAFFIC ENGINEER IV|TRANSPORTN|$104736.00\n",
            "31027|WILLIAMS,  GARY L|SERGEANT|POLICE|$106920.00\n",
            "31028|WILLIAMS,  GLENN E|MOTOR TRUCK DRIVER|TRANSPORTN|$71780.80\n",
            "31029|WILLIAMS,  GLORIA M|LIBRARY CLERK - HOURLY|PUBLIC LIBRARY|$15995.20\n",
            "31030|WILLIAMS,  GREGORY|POOL MOTOR TRUCK DRIVER|STREETS & SAN|$71780.80\n",
            "31031|WILLIAMS,  GREGORY C|POLICE OFFICER|POLICE|$80778.00\n",
            "31032|WILLIAMS,  GREGORY L|SUPERVISING FIRE COMMUNICATIONS OPERATOR|OEMC|$106287.96\n",
            "31033|WILLIAMS,  GWENDOLYN|CROSSING GUARD - PER AGREEMENT|POLICE|$13790.40\n",
            "31034|WILLIAMS,  HATTIE M|TRAFFIC CONTROL AIDE-HOURLY|OEMC|$19656.00\n",
            "31035|WILLIAMS,  HOWARD S|POOL MOTOR TRUCK DRIVER|STREETS & SAN|$71780.80\n",
            "31036|WILLIAMS III,  CHARLES R|POOL MOTOR TRUCK DRIVER|STREETS & SAN|$71780.80\n",
            "31037|WILLIAMS III,  ERNEST|LINEMAN|OEMC|$95888.04\n",
            "31038|WILLIAMS III,  HERBERT|POLICE OFFICER / FLD TRNG OFFICER|POLICE|$87780.00\n",
            "31039|WILLIAMS III,  SELLERS L|POLICE OFFICER|POLICE|$86520.00\n",
            "31040|WILLIAMS II,  ROBERT F|POLICE OFFICER|POLICE|$86520.00\n",
            "31041|WILLIAMS,  IVRA L|DISTRICT CLERK|WATER MGMNT|$43896.00\n",
            "31042|WILLIAMS,  JAMAL J|POLICE OFFICER|POLICE|$46206.00\n",
            "31043|WILLIAMS,  JAMES|LINEMAN|OEMC|$95888.04\n",
            "31044|WILLIAMS,  JAMES E|FIREFIGHTER|FIRE|$90018.00\n",
            "31045|WILLIAMS,  JAMES M|FIREFIGHTER-EMT|FIRE|$91764.00\n",
            "31046|WILLIAMS,  JANA Y|FIELD ANALYST|PROCUREMENT|$52008.00\n",
            "31047|WILLIAMS,  JANET M|CROSSING GUARD - PER AGREEMENT|POLICE|$16484.00\n",
            "31048|WILLIAMS,  JASMINE|CROSSING GUARD - PER AGREEMENT|POLICE|$13790.40\n",
            "31049|WILLIAMS,  JAWAHARIAL|CONSTRUCTION LABORER|WATER MGMNT|$79040.00\n",
            "31050|WILLIAMS,  JEFFREY|SANITATION LABORER|STREETS & SAN|$72384.00\n",
            "31051|WILLIAMS,  JERALD|POLICE OFFICER|POLICE|$69684.00\n",
            "31052|WILLIAMS,  JEROME|CONSTRUCTION LABORER|WATER MGMNT|$79040.00\n",
            "31053|WILLIAMS,  JERRY|PARAMEDIC FIELD CHIEF|FIRE|$135480.00\n",
            "31054|WILLIAMS,  JOANNE|CROSSING GUARD|POLICE|$18324.80\n",
            "31055|WILLIAMS,  JOCELYNE|PROJECT MANAGER|OEMC|$93504.00\n",
            "31056|WILLIAMS,  JOHNETTA|POLICE OFFICER|POLICE|$83616.00\n",
            "31057|WILLIAMS,  JOSEPH M|POLICE OFFICER|POLICE|$89718.00\n",
            "31058|WILLIAMS JR,  ALBERT|POLICE OFFICER|POLICE|$89718.00\n",
            "31059|WILLIAMS JR,  ALFRED|POLICE OFFICER|POLICE|$92316.00\n",
            "31060|WILLIAMS JR,  BOBBY|LIEUTENANT|FIRE|$110370.00\n",
            "31061|WILLIAMS JR,  ELI|ANIMAL CONTROL OFFICER|ANIMAL CONTRL|$44568.00\n",
            "31062|WILLIAMS JR.,  HERBERT E|FIREFIGHTER-EMT|FIRE|$85680.00\n",
            "31063|WILLIAMS JR,  HERMAN|POLICE OFFICER|POLICE|$83616.00\n",
            "31064|WILLIAMS JR,  JAMES F|TRAFFIC CONTROL AIDE-HOURLY|OEMC|$19656.00\n",
            "31065|WILLIAMS JR,  JOHN H|POLICE OFFICER|POLICE|$86520.00\n",
            "31066|WILLIAMS,  JUANITA|LIBRARY CLERK|PUBLIC LIBRARY|$43920.00\n",
            "31067|WILLIAMS,  JUWANA J|POLICE OFFICER|POLICE|$86520.00\n",
            "31068|WILLIAMS,  KAREN L|POLICE OFFICER (ASSIGNED AS DETECTIVE)|POLICE|$99888.00\n",
            "31069|WILLIAMS,  KARLISA|POLICE OFFICER|POLICE|$46206.00\n",
            "31070|WILLIAMS,  KATHERINE|POLICE OFFICER|POLICE|$83616.00\n",
            "31071|WILLIAMS,  KELLY A|HOSPITALITY WORKER|FAMILY & SUPPORT|$9516.00\n",
            "31072|WILLIAMS,  KELVIN L|SERGEANT|POLICE|$106920.00\n",
            "31073|WILLIAMS,  KENDRICK|OPERATING ENGINEER-GROUP A|GENERAL SERVICES|$98675.20\n",
            "31074|WILLIAMS,  KENNETH A|POOL MOTOR TRUCK DRIVER|STREETS & SAN|$14357.20\n",
            "31075|WILLIAMS,  KENNETH D|FIREFIGHTER-EMT (RECRUIT)|FIRE|$54114.00\n",
            "31076|WILLIAMS,  KENYA|AUDIO-VISION TESTER|FAMILY & SUPPORT|$45528.00\n",
            "31077|WILLIAMS,  KESHAUN J|POLICE OFFICER|POLICE|$80778.00\n",
            "31078|WILLIAMS,  KEVIN E|AVIATION SECURITY SERGEANT|AVIATION|$80916.00\n",
            "31079|WILLIAMS,  KEVIN K|POLICE OFFICER (ASGND AS MARINE OFFICER)|POLICE|$97044.00\n",
            "31080|WILLIAMS,  KIMBERLY|ANIMAL CARE AIDE II|ANIMAL CONTRL|$40056.00\n",
            "31081|WILLIAMS,  KIMBERLY|ADMINISTRATIVE ASST II - EXCLUDED|HUMAN RESOURCES|$47904.00\n",
            "31082|WILLIAMS,  KIM D|POLICE OFFICER|POLICE|$92316.00\n",
            "31083|WILLIAMS,  LADON P|CONCRETE LABORER|TRANSPORTN|$79040.00\n",
            "31084|WILLIAMS,  LANDIS S|SANITATION LABORER|STREETS & SAN|$72384.00\n",
            "31085|WILLIAMS,  LANDRY R|CONSTRUCTION LABORER|WATER MGMNT|$79040.00\n",
            "31086|WILLIAMS,  LARRY|GENERAL LABORER - DSS|STREETS & SAN|$40560.00\n",
            "31087|WILLIAMS,  LARRY D|ADMINISTRATIVE ASST III|BUILDINGS|$80328.00\n",
            "31088|WILLIAMS,  LARUE|CONCRETE LABORER|TRANSPORTN|$79040.00\n",
            "31089|WILLIAMS,  LATOYA P|POLICE OFFICER|POLICE|$83616.00\n",
            "31090|WILLIAMS,  LATREAL|CONCRETE LABORER|TRANSPORTN|$79040.00\n",
            "31091|WILLIAMS,  LAURA J|LABORER|AVIATION|$67329.60\n",
            "31092|WILLIAMS,  LAURITA|POLICE OFFICER|POLICE|$89718.00\n",
            "31093|WILLIAMS,  LAWRENCE R|POLICE OFFICER|POLICE|$83616.00\n",
            "31094|WILLIAMS LEE,  VALERIE|PUBLIC HEALTH NURSE II|HEALTH|$99708.00\n",
            "31095|WILLIAMS,  LEWIS L|LIEUTENANT|FIRE|$110370.00\n",
            "31096|WILLIAMS,  LINDA|ADMINISTRATIVE ASST III|HEALTH|$80328.00\n",
            "31097|WILLIAMS,  LINDA D|LIBRARY CLERK|PUBLIC LIBRARY|$50496.00\n",
            "31098|WILLIAMS,  LINDA F|TITLE V PROGRAM TRAINEE I|FAMILY & SUPPORT|$8580.00\n",
            "31099|WILLIAMS,  LINDA F|DATA ENTRY OPERATOR|TRANSPORTN|$41952.00\n",
            "31100|WILLIAMS,  LLOYD A|FIREFIGHTER-EMT|FIRE|$88680.00\n",
            "31101|WILLIAMS,  LONE M|FIREFIGHTER|FIRE|$65946.00\n",
            "31102|WILLIAMS,  LONNELL|POLICE OFFICER|POLICE|$83616.00\n",
            "31103|WILLIAMS,  LORRAINE|TRAFFIC CONTROL AIDE-HOURLY|OEMC|$19656.00\n",
            "31104|WILLIAMS,  LOUIS E|WARD SUPERINTENDENT|STREETS & SAN|$102060.00\n",
            "31105|WILLIAMS,  LUNYE D|SERGEANT|POLICE|$110370.00\n",
            "31106|WILLIAMS,  MAE F|SENIOR LIBRARY CLERK|PUBLIC LIBRARY|$45972.00\n",
            "31107|WILLIAMS,  MALIK A|POLICE OFFICER|POLICE|$86520.00\n",
            "31108|WILLIAMS,  MARILYN|SENIOR DATA ENTRY OPERATOR|POLICE|$60780.00\n",
            "31109|WILLIAMS,  MARILYN G|POLICE OFFICER|POLICE|$92316.00\n",
            "31110|WILLIAMS,  MARJANI|INFORMATION COORD|HEALTH|$62640.00\n",
            "31111|WILLIAMS,  MARK E|MOTOR TRUCK DRIVER|STREETS & SAN|$71780.80\n",
            "31112|WILLIAMS,  MARKUS C|POLICE OFFICER|POLICE|$80778.00\n",
            "31113|WILLIAMS,  MARPESSA|GENERAL LABORER - DSS|STREETS & SAN|$43201.60\n",
            "31114|WILLIAMS,  MARTHA J|POLICE COMMUNICATIONS OPERATOR I|OEMC|$64188.00\n",
            "31115|WILLIAMS,  MARVIN J|POLICE OFFICER|POLICE|$80778.00\n",
            "31116|WILLIAMS,  MARY A|LIBRARIAN IV|PUBLIC LIBRARY|$95880.00\n",
            "31117|WILLIAMS,  MARYSOL|CROSSING GUARD|POLICE|$17492.80\n",
            "31118|WILLIAMS,  MARY V|ALDERMANIC AIDE|CITY COUNCIL|$18720.00\n",
            "31119|WILLIAMS,  MARZEEK|POLICE OFFICER (ASSIGNED AS DETECTIVE)|POLICE|$97044.00\n",
            "31120|WILLIAMS,  MATTHEW|FOREMAN OF WATER PIPE CONSTRUCTION|WATER MGMNT|$101192.00\n",
            "31121|WILLIAMS,  MIA N|CLERK - BD OF ELECTIONS|BOARD OF ELECTION|$29328.00\n",
            "31122|WILLIAMS,  MICHAEL A|POOL MOTOR TRUCK DRIVER|STREETS & SAN|$71780.80\n",
            "31123|WILLIAMS,  MICHAEL D|POLICE OFFICER|POLICE|$89718.00\n",
            "31124|WILLIAMS,  MILDRED A|CROSSING GUARD|POLICE|$22131.20\n",
            "31125|WILLIAMS,  NOBLE D|POLICE OFFICER|POLICE|$86520.00\n",
            "31126|WILLIAMSON,  ANNE V|POLICE OFFICER (ASSIGNED AS DETECTIVE)|POLICE|$99888.00\n",
            "31127|WILLIAMSON,  DEMETRIUS A|DETENTION AIDE|POLICE|$67212.00\n",
            "31128|WILLIAMSON,  EDDIE L|POOL MOTOR TRUCK DRIVER|STREETS & SAN|$71780.80\n",
            "31129|WILLIAMSON,  GREGORY S|POLICE OFFICER|POLICE|$89718.00\n",
            "31130|WILLIAMSON,  JOHN M|POLICE OFFICER|POLICE|$83616.00\n",
            "31131|WILLIAMSON,  MICHAEL J|INVESTIGATOR|POLICE|$63276.00\n",
            "31132|WILLIAMSON,  MICHAEL P|POLICE OFFICER|POLICE|$92316.00\n",
            "31133|WILLIAMSON,  REGINALD L|POOL MOTOR TRUCK DRIVER|AVIATION|$71780.80\n",
            "31134|WILLIAMSON,  RICKY|FIELD SERVICE SPECIALIST II|TRANSPORTN|$73908.00\n",
            "31135|WILLIAMS,  ORALEAN A|MOTOR TRUCK DRIVER|STREETS & SAN|$71780.80\n",
            "31136|WILLIAMS,  ORENE F|CROSSING GUARD - PER AGREEMENT|POLICE|$13790.40\n",
            "31137|WILLIAMS,  PAMELA W|POLICE OFFICER|POLICE|$89718.00\n",
            "31138|WILLIAMS,  PATRICE|TRAFFIC CONTROL AIDE-HOURLY|OEMC|$19656.00\n",
            "31139|WILLIAMS,  PATRICE J|CLERK III|POLICE|$37812.00\n",
            "31140|WILLIAMS,  PATRICIA|CROSSING GUARD|POLICE|$22131.20\n",
            "31141|WILLIAMS,  PATRICIA A|SENIOR DATA ENTRY OPERATOR|POLICE|$60780.00\n",
            "31142|WILLIAMS,  PAUL|AIRPORT OPERATIONS SUPVSR II|AVIATION|$69840.00\n",
            "31143|WILLIAMS,  PELAURA|PARKING ENFORCEMENT AIDE|FINANCE|$35328.00\n",
            "31144|WILLIAMS,  PERRY J|POLICE OFFICER|POLICE|$86520.00\n",
            "31145|WILLIAMS,  PERRYON C|DETENTION AIDE|POLICE|$61260.00\n",
            "31146|WILLIAMS,  QUIANA T|PARAMEDIC|FIRE|$54114.00\n",
            "31147|WILLIAMS,  QUINCY A|MOTOR TRUCK DRIVER|WATER MGMNT|$71780.80\n",
            "31148|WILLIAMS,  RAMONA|PRINCIPAL CLERK-ELECTIONS|BOARD OF ELECTION|$67872.00\n",
            "31149|WILLIAMS,  RAMONA S|POLICE OFFICER|POLICE|$80778.00\n",
            "31150|WILLIAMS,  RAMSEY B|FIREFIGHTER-EMT|FIRE|$91764.00\n",
            "31151|WILLIAMS,  RAPUNZEL A|POLICE OFFICER (ASSIGNED AS DETECTIVE)|POLICE|$99888.00\n",
            "31152|WILLIAMS,  REGINA|DISTRICT CLERK|WATER MGMNT|$45972.00\n",
            "31153|WILLIAMS,  REGINA|CUSTODIAL WORKER|AVIATION|$26936.00\n",
            "31154|WILLIAMS,  REGINALD|FIREFIGHTER|FIRE|$93594.00\n",
            "31155|WILLIAMS,  REGINALD T|SANITATION LABORER|STREETS & SAN|$72384.00\n",
            "31156|WILLIAMS,  RENEE|CROSSING GUARD - PER AGREEMENT|POLICE|$17232.80\n",
            "31157|WILLIAMS,  RENEE C|POLICE OFFICER|POLICE|$83616.00\n",
            "31158|WILLIAMS,  RICARDO E|FIREFIGHTER-EMT|FIRE|$88680.00\n",
            "31159|WILLIAMS,  RICHARD|POOL MOTOR TRUCK DRIVER|STREETS & SAN|$71780.80\n",
            "31160|WILLIAMS,  RICHARD D|POLICE OFFICER|POLICE|$80778.00\n",
            "31161|WILLIAMS,  RICHARD L|POLICE OFFICER|POLICE|$83616.00\n",
            "31162|WILLIAMS,  ROBBY R|POOL MOTOR TRUCK DRIVER|STREETS & SAN|$71780.80\n",
            "31163|WILLIAMS,  ROBERT M|FIREFIGHTER|FIRE|$65946.00\n",
            "31164|WILLIAMS,  RODNEY|AVIATION SECURITY OFFICER|AVIATION|$80940.00\n",
            "31165|WILLIAMS,  RODNEY B|CONSTRUCTION LABORER|WATER MGMNT|$79040.00\n",
            "31166|WILLIAMS,  ROGER J|POLICE OFFICER|POLICE|$86520.00\n",
            "31167|WILLIAMS,  ROGER P|LIBRARY ASSOCIATE|PUBLIC LIBRARY|$66120.00\n",
            "31168|WILLIAMS,  RONNIE R|POLICE OFFICER|POLICE|$89718.00\n",
            "31169|WILLIAMS,  RORY A|FIREFIGHTER|FIRE|$83616.00\n",
            "31170|WILLIAMS,  ROXANNE D|SENIOR DATA ENTRY OPERATOR|POLICE|$52848.00\n",
            "31171|WILLIAMS,  ROY B|CONSTRUCTION LABORER|WATER MGMNT|$79040.00\n",
            "31172|WILLIAMS,  RUBY S|ACCOUNTING TECHNICIAN I|FINANCE|$63708.00\n",
            "31173|WILLIAMS,  SAMMIE D|POOL MOTOR TRUCK DRIVER|AVIATION|$71780.80\n",
            "31174|WILLIAMS,  SANDRA F|DETENTION AIDE|POLICE|$64188.00\n",
            "31175|WILLIAMS,  SANDRA M|ACCOUNTING TECHNICIAN II|FINANCE|$63708.00\n",
            "31176|WILLIAMS,  SELINA|PARKING ENFORCEMENT AIDE|FINANCE|$55800.00\n",
            "31177|WILLIAMS,  SHAUN M|POLICE OFFICER|POLICE|$83616.00\n",
            "31178|WILLIAMS,  SHELDON A|MOTOR TRUCK DRIVER|STREETS & SAN|$71780.80\n",
            "31179|WILLIAMS,  SHENITA M|SANITATION LABORER|STREETS & SAN|$72384.00\n",
            "31180|WILLIAMS,  SHERMAN L|FOREMAN OF LABORERS|TRANSPORTN|$80912.00\n",
            "31181|WILLIAMS,  SHERRY J|LEGISLATIVE AIDE|CITY COUNCIL|$42180.00\n",
            "31182|WILLIAMS,  SHERRY T|LABORER|AVIATION|$67329.60\n",
            "31183|WILLIAMS,  SHONDA N|PARKING ENFORCEMENT AIDE|FINANCE|$50904.00\n",
            "31184|WILLIAMS,  SILK L|POLICE OFFICER|POLICE|$86520.00\n",
            "31185|WILLIAMS,  SIRVILLE E|SANITATION LABORER|STREETS & SAN|$72384.00\n",
            "31186|WILLIAMS SMITH,  LANITA|POLICE COMMUNICATIONS OPERATOR I|OEMC|$70404.00\n",
            "31187|WILLIAMS,  STANLEY A|CAPTAIN-EMT|FIRE|$131466.00\n",
            "31188|WILLIAMS,  STANLEY E|POLICE OFFICER|POLICE|$89718.00\n",
            "31189|WILLIAMS,  STANLEY L|SERGEANT|POLICE|$103590.00\n",
            "31190|WILLIAMS,  STEPHANIE|CROSSING GUARD - PER AGREEMENT|POLICE|$13790.40\n",
            "31191|WILLIAMS,  STEPHEN E|POOL MOTOR TRUCK DRIVER|AVIATION|$71780.80\n",
            "31192|WILLIAMS,  STEVEN|CONCRETE LABORER|TRANSPORTN|$79040.00\n",
            "31193|WILLIAMS,  STEVEN A|POLICE OFFICER|POLICE|$86520.00\n",
            "31194|WILLIAMS,  STEVEN A|SANITATION LABORER|STREETS & SAN|$72384.00\n",
            "31195|WILLIAMS,  STEVEN G|FIREFIGHTER/PARAMEDIC|FIRE|$90798.00\n",
            "31196|WILLIAMS,  SUSAN M|POLICE OFFICER (ASSIGNED AS DETECTIVE)|POLICE|$93648.00\n",
            "31197|WILLIAMS,  TENAYA N|DEPUTY DIR|OEMC|$115740.00\n",
            "31198|WILLIAMS,  TENICIA|POLICE OFFICER (ASSIGNED AS DETECTIVE)|POLICE|$93648.00\n",
            "31199|WILLIAMS,  TERENCE L|POOL MOTOR TRUCK DRIVER|STREETS & SAN|$71780.80\n",
            "31200|WILLIAMS,  TERENCE V|COMMANDER|POLICE|$162684.00\n",
            "31201|WILLIAMS,  TERESA H|LIEUTENANT|POLICE|$123948.00\n",
            "31202|WILLIAMS,  TERRY C|POOL MOTOR TRUCK DRIVER|STREETS & SAN|$71780.80\n",
            "31203|WILLIAMS,  THOMAS E|SANITATION LABORER|STREETS & SAN|$72384.00\n",
            "31204|WILLIAMS,  THOMAS P|POLICE OFFICER (ASGND AS MARINE OFFICER)|POLICE|$94236.00\n",
            "31205|WILLIAMS,  TIFFANY T|INVESTIGATOR - IPRA II|IPRA|$88116.00\n",
            "31206|WILLIAMS,  TIMOTHY P|POLICE OFFICER|POLICE|$86520.00\n",
            "31207|WILLIAMS,  TODD|PARAMEDIC I/C|FIRE|$99888.00\n",
            "31208|WILLIAMS,  TONI|AUDIO-VISION TESTER|FAMILY & SUPPORT|$43476.00\n",
            "31209|WILLIAMS,  TONY L|STREET LIGHT REPAIR WORKER|TRANSPORTN|$95888.04\n",
            "31210|WILLIAMS,  TORRENCE J|BRIDGE OPERATOR|TRANSPORTN|$45972.00\n",
            "31211|WILLIAMS,  TRACEY A|POLICE OFFICER|POLICE|$80778.00\n",
            "31212|WILLIAMS,  TREVOR L|ACCOUNTING TECHNICIAN II|FINANCE|$60780.00\n",
            "31213|WILLIAMS,  TROY V|SERGEANT|POLICE|$110370.00\n",
            "31214|WILLIAMS,  UGHINGA|STEAMFITTER|AVIATION|$95680.00\n",
            "31215|WILLIAMS,  VALORI A|POLICE COMMUNICATIONS OPERATOR I|OEMC|$77220.00\n",
            "31216|WILLIAMS,  VENITA E|REVENUE INVESTIGATOR I|BUSINESS AFFAIRS|$80328.00\n",
            "31217|WILLIAMS,  VERLA|FOSTER GRANDPARENT|FAMILY & SUPPORT|$2756.00\n",
            "31218|WILLIAMS,  VERNON|MACHINIST (AUTOMOTIVE)|GENERAL SERVICES|$92248.00\n",
            "31219|WILLIAMS,  VICKIE H|FIELD SANITATION SPECIALIST|STREETS & SAN|$73908.00\n",
            "31220|WILLIAMS,  VICKIE V|POLICE OFFICER|POLICE|$80778.00\n",
            "31221|WILLIAMS,  VINITA F|POLICE OFFICER|POLICE|$83616.00\n",
            "31222|WILLIAMS,  VIVIAN|POLICE OFFICER|POLICE|$89718.00\n",
            "31223|WILLIAMS,  WALTER E|BOOTER - PARKING|FINANCE|$64812.80\n",
            "31224|WILLIAMS,  WARDELL|EQUIPMENT DISPATCHER|STREETS & SAN|$73028.80\n",
            "31225|WILLIAMS,  WENDY A|POLICE OFFICER|POLICE|$86520.00\n",
            "31226|WILLIAMS,  WILBUR|POLICE OFFICER|POLICE|$69684.00\n",
            "31227|WILLIAMS,  WILLIE B|POOL MOTOR TRUCK DRIVER|TRANSPORTN|$71780.80\n",
            "31228|WILLIAMS,  WILLIE J|MOTOR TRUCK DRIVER|STREETS & SAN|$71780.80\n",
            "31229|WILLIAMS,  WILLIE K|POOL MOTOR TRUCK DRIVER|STREETS & SAN|$71780.80\n",
            "31230|WILLIAMS,  YVETTE D|PAYMENT SERVICES REPRESENTATIVE|FINANCE|$60780.00\n",
            "31231|WILLIAMS,  ZACHARY L|DIR OF INFORMATION SYSTEMS|OEMC|$105828.00\n",
            "31232|WILLIAMS,  ZENA M|POLICE OFFICER|POLICE|$89718.00\n",
            "31233|WILLIFORD,  BRIDGETTE D|CROSSING GUARD|POLICE|$21080.80\n",
            "31234|WILLINGHAM,  ANNIE P|CROSSING GUARD|POLICE|$18324.80\n",
            "31235|WILLINGHAM,  RUSSELL L|SERGEANT|POLICE|$103590.00\n",
            "31236|WILLIS,  ANIKA|TRAFFIC CONTROL AIDE-HOURLY|OEMC|$19656.00\n",
            "31237|WILLIS,  CARLA J|STAFF ASST|FAMILY & SUPPORT|$76656.00\n",
            "31238|WILLIS,  GARY|TRAFFIC ENFORCEMENT TECH|FINANCE|$31740.00\n",
            "31239|WILLIS,  GEREE L|POLICE OFFICER|POLICE|$80778.00\n",
            "31240|WILLIS III,  RICHARD C|POLICE OFFICER|POLICE|$86520.00\n",
            "31241|WILLIS IVY,  MARY C|POLICE OFFICER|POLICE|$86520.00\n",
            "31242|WILLIS,  JOANNE C|LIBRARIAN IV|PUBLIC LIBRARY|$79632.00\n",
            "31243|WILLIS,  KIRK J|CRIMES SURVEILLANCE SPECIALIST|OEMC|$19676.80\n",
            "31244|WILLIS,  LARISSA|PAYMENT SERVICES REPRESENTATIVE|FINANCE|$66684.00\n",
            "31245|WILLIS,  LEO|DETENTION AIDE|POLICE|$67212.00\n",
            "31246|WILLIS,  MARGOT L|SERGEANT|POLICE|$110370.00\n",
            "31247|WILLIS,  MARK A|ELECTRICAL MECHANIC|GENERAL SERVICES|$91520.00\n",
            "31248|WILLIS,  MICHAEL K|SANITATION LABORER|STREETS & SAN|$72384.00\n",
            "31249|WILLIS,  MILLICENT G|LABOR RELATIONS SUPVSR|TRANSPORTN|$69684.00\n",
            "31250|WILLIS,  PATRICE C|CROSSING GUARD|POLICE|$18324.80\n",
            "31251|WILLIS,  RHONDA R|CROSSING GUARD|POLICE|$18324.80\n",
            "31252|WILLIS,  RONALD A|SERGEANT|POLICE|$106920.00\n",
            "31253|WILLIS,  SANDY|LABORER|TRANSPORTN|$79040.00\n",
            "31254|WILLIS,  SANITA|PAYMENT SERVICES REPRESENTATIVE|FINANCE|$58020.00\n",
            "31255|WILLIS,  THOMAS|FIREFIGHTER-EMT|FIRE|$88680.00\n",
            "31256|WILLNER,  JOHN E|LIEUTENANT|POLICE|$123948.00\n",
            "31257|WILLOUGHBY,  DARRELL K|SERGEANT|POLICE|$110370.00\n",
            "31258|WILMES,  ANGELA M|CROSSING GUARD|POLICE|$20092.80\n",
            "31259|WILMES,  JOHN A|MOTOR TRUCK DRIVER|AVIATION|$71780.80\n",
            "31260|WILMORE,  TARNAYDO R|DETENTION AIDE|POLICE|$48924.00\n",
            "31261|WILNER,  SUSAN J|LIBRARIAN I|PUBLIC LIBRARY|$72840.00\n",
            "31262|WILOCKI,  MICHAEL|POLICE OFFICER|POLICE|$73296.00\n",
            "31263|WILSON,  ALITA F|CROSSING GUARD|POLICE|$19188.00\n",
            "31264|WILSON,  ANGELA V|POLICE COMMUNICATIONS OPERATOR I|OEMC|$64188.00\n",
            "31265|WILSON,  ANTHONY B|POLICE OFFICER|POLICE|$80778.00\n",
            "31266|WILSON,  ANTHONY M|PARAMEDIC I/C|FIRE|$90456.00\n",
            "31267|WILSON,  ANTIONE D|POOL MOTOR TRUCK DRIVER|STREETS & SAN|$71780.80\n",
            "31268|WILSON,  ANTONIO T|PARAMEDIC|FIRE|$54114.00\n",
            "31269|WILSON,  BILLIE|SANITATION LABORER|STREETS & SAN|$72384.00\n",
            "31270|WILSON,  BOBBIE J|CROSSING GUARD|POLICE|$18324.80\n",
            "31271|WILSON,  BRIAN R|FIREFIGHTER-EMT|FIRE|$91764.00\n",
            "31272|WILSON,  BRUCE|FIREFIGHTER-EMT|FIRE|$91764.00\n",
            "31273|WILSON,  BRUCE A|PROPERTY CUSTODIAN - AUTO POUND|STREETS & SAN|$55428.00\n",
            "31274|WILSON,  CASSANDRA M|PUBLIC HEALTH AIDE|HEALTH|$48168.00\n",
            "31275|WILSON,  CATHERINE A|LIBRARIAN IV|PUBLIC LIBRARY|$95880.00\n",
            "31276|WILSON,  CHASITY M|POLICE COMMUNICATIONS OPERATOR I|OEMC|$53628.00\n",
            "31277|WILSON,  CHESTER|LEGISLATIVE AIDE|CITY COUNCIL|$104943.00\n",
            "31278|WILSON,  CHRISTOPHER G|POLICE OFFICER|POLICE|$92316.00\n",
            "31279|WILSON,  DANIEL S|FIREFIGHTER-EMT|FIRE|$88680.00\n",
            "31280|WILSON,  DARREN T|ELECTRICAL MECHANIC (AUTOMOTIVE)|GENERAL SERVICES|$91520.00\n",
            "31281|WILSON,  DARWIN A|TRAFFIC CONTROL AIDE-HOURLY|OEMC|$19656.00\n",
            "31282|WILSON,  DAVID F|POLICE OFFICER|POLICE|$69684.00\n",
            "31283|WILSON,  DEDRIC K|POOL MOTOR TRUCK DRIVER|TRANSPORTN|$71780.80\n",
            "31284|WILSON,  DENNA|FIELD VEHICLE INVESTIGATOR|STREETS & SAN|$52834.60\n",
            "31285|WILSON,  DWIGHT D|LIEUTENANT-EMT|FIRE|$117078.00\n",
            "31286|WILSON,  EDWARD J|PARAMEDIC I/C|FIRE|$87534.00\n",
            "31287|WILSON,  EDWARD J|FIREFIGHTER/PARAMEDIC|FIRE|$87720.00\n",
            "31288|WILSON,  ELIZABETH|POLICE OFFICER|POLICE|$86520.00\n",
            "31289|WILSON,  ERIC L|POOL MOTOR TRUCK DRIVER|STREETS & SAN|$71780.80\n",
            "31290|WILSON,  FELICIA|FINGERPRINT TECHNICIAN I|POLICE|$58020.00\n",
            "31291|WILSON,  FRANK F|DIRECTOR OF FINANCE|POLICE|$134268.00\n",
            "31292|WILSON,  GLADYS J|CROSSING GUARD - PER AGREEMENT|POLICE|$16484.00\n",
            "31293|WILSON GOWIN,  LINDSAY|ASST CORPORATION COUNSEL|LAW|$65196.00\n",
            "31294|WILSON,  GRACE L|INVESTIGATOR - IPRA III|IPRA|$116388.00\n",
            "31295|WILSON,  GUSTAVIA|SANITATION CLERK|STREETS & SAN|$67344.00\n",
            "31296|WILSON,  HELENA|POLICE COMMUNICATIONS OPERATOR I|OEMC|$61260.00\n",
            "31297|WILSON II,  ROBERT|FIREFIGHTER-EMT|FIRE|$85680.00\n",
            "31298|WILSON,  JACKIE|CONSTRUCTION LABORER|WATER MGMNT|$79040.00\n",
            "31299|WILSON,  JACQUELINE|TITLE V PROGRAM TRAINEE I|FAMILY & SUPPORT|$8580.00\n",
            "31300|WILSON,  JACQUELINE A|TIMEKEEPER - CPD|POLICE|$69888.00\n",
            "31301|WILSON,  JANICE L|POLICE OFFICER|POLICE|$83616.00\n",
            "31302|WILSON,  JANICE L|SANITATION LABORER|STREETS & SAN|$72384.00\n",
            "31303|WILSON,  JASON L|POLICE OFFICER / FLD TRNG OFFICER|POLICE|$90846.00\n",
            "31304|WILSON,  JEFFERY|SUPERVISING CLERK|GENERAL SERVICES|$43224.00\n",
            "31305|WILSON,  JEWELL D|SPECIALIST IN AGING II|FAMILY & SUPPORT|$80424.00\n",
            "31306|WILSON,  JOE L|SANITATION LABORER|STREETS & SAN|$72384.00\n",
            "31307|WILSON,  JOHN L|LABORER - APPRENTICE|WATER MGMNT|$55328.00\n",
            "31308|WILSON,  JOHN L|GENERAL LABORER - DSS|STREETS & SAN|$43201.60\n",
            "31309|WILSON,  JON K|FIREFIGHTER/PARAMEDIC|FIRE|$87720.00\n",
            "31310|WILSON,  JOSEPH M|POLICE OFFICER|POLICE|$69684.00\n",
            "31311|WILSON,  JOSHUA|POLICE OFFICER|POLICE|$65946.00\n",
            "31312|WILSON,  JULIAN|LABORER|TRANSPORTN|$79040.00\n",
            "31313|WILSON,  KAYLEE L|TRAFFIC CONTROL AIDE-HOURLY|OEMC|$19656.00\n",
            "31314|WILSON,  KAZAN|POLICE OFFICER|POLICE|$83616.00\n",
            "31315|WILSON,  KEITH E|DEPUTY DISTRICT CHIEF|FIRE|$156360.00\n",
            "31316|WILSON,  LAMANDA C|OFFICE ADMINISTRATOR|BUSINESS AFFAIRS|$59772.00\n",
            "31317|WILSON,  LAWANDA R|CLERK III|POLICE|$45972.00\n",
            "31318|WILSON,  LEE|SANITATION LABORER|STREETS & SAN|$72384.00\n",
            "31319|WILSON,  LEIGHA M|POLICE OFFICER|POLICE|$89718.00\n",
            "31320|WILSON,  LEON|MOTOR TRUCK DRIVER|TRANSPORTN|$71780.80\n",
            "31321|WILSON,  LEWIS R|CONCRETE LABORER|TRANSPORTN|$79040.00\n",
            "31322|WILSON,  LINDA D|MOTOR TRUCK DRIVER|STREETS & SAN|$71780.80\n",
            "31323|WILSON,  LORI M|PERSONAL COMPUTER OPERATOR III|LAW|$60780.00\n",
            "31324|WILSON,  MARK A|POLICE OFFICER|POLICE|$89718.00\n",
            "31325|WILSON,  MARY K|POLICE COMMUNICATIONS OPERATOR II|OEMC|$64188.00\n",
            "31326|WILSON,  MATTHEW|POLICE OFFICER|POLICE|$46206.00\n",
            "31327|WILSON,  MELISSA A|DETENTION AIDE|POLICE|$53292.00\n",
            "31328|WILSON,  MELVIN|TRAFFIC CONTROL AIDE-HOURLY|OEMC|$19656.00\n",
            "31329|WILSON,  MELVIN J|FRM OF MACHINISTS - AUTOMOTIVE|GENERAL SERVICES|$97448.00\n",
            "31330|WILSON,  MICHAEL|FIRE ENGINEER|FIRE|$93648.00\n",
            "31331|WILSON,  MICHAEL S|HOSPITALITY WORKER|FAMILY & SUPPORT|$9516.00\n",
            "31332|WILSON,  MICHAEL T|GENERAL FOREMAN OF MACHINISTS|TRANSPORTN|$99528.00\n",
            "31333|WILSON,  MICHELLE E|SERGEANT|POLICE|$103590.00\n",
            "31334|WILSON,  NATHAN|WARD SUPERINTENDENT|STREETS & SAN|$83940.00\n",
            "31335|WILSON,  ONYX|CRIMINAL HISTORY ANALYST|HUMAN RESOURCES|$54492.00\n",
            "31336|WILSON,  RANDALL P|FIREFIGHTER-EMT|FIRE|$91764.00\n",
            "31337|WILSON,  RAYMOND L|HOISTING ENGINEER|TRANSPORTN|$95264.00\n",
            "31338|WILSON,  REGINA D|POLICE OFFICER|POLICE|$80778.00\n",
            "31339|WILSON,  ROBERT T|DETENTION AIDE|POLICE|$48924.00\n",
            "31340|WILSON,  ROBERT W|POLICE OFFICER|POLICE|$86520.00\n",
            "31341|WILSON,  RONALD|FIREFIGHTER|FIRE|$83616.00\n",
            "31342|WILSON,  SAHLISA|CROSSING GUARD - PER AGREEMENT|POLICE|$13790.40\n",
            "31343|WILSON,  SARAH|COORD OF ECON DEV I - PLNG & DEV|COMMUNITY DEVELOPMENT|$59796.00\n",
            "31344|WILSON,  SHAWN|FIREFIGHTER|FIRE|$93594.00\n",
            "31345|WILSON,  SHILENA|POLICE OFFICER|POLICE|$69684.00\n",
            "31346|WILSON,  SIM S|FIREFIGHTER-EMT|FIRE|$88680.00\n",
            "31347|WILSON,  STAFFORD D|POLICE OFFICER|POLICE|$83616.00\n",
            "31348|WILSON,  STEVE|ASST CHIEF OPERATING ENGINEER|WATER MGMNT|$108534.40\n",
            "31349|WILSON,  STEVEN F|SERGEANT|POLICE|$110370.00\n",
            "31350|WILSON,  STEVEN J|SERGEANT|POLICE|$103590.00\n",
            "31351|WILSON,  STEVEN K|POLICE OFFICER|POLICE|$89718.00\n",
            "31352|WILSON SWIFT,  LASHAUAN S|PARAMEDIC|FIRE|$93594.00\n",
            "31353|WILSON,  TAMMY|CROSSING GUARD|POLICE|$18324.80\n",
            "31354|WILSON,  TOM J|POLICE OFFICER|POLICE|$86520.00\n",
            "31355|WILSON,  VALLARY A|LIBRARY CLERK - HOURLY|PUBLIC LIBRARY|$15995.20\n",
            "31356|WILSON,  VENESSA|TRAFFIC CONTROL AIDE-HOURLY|OEMC|$19656.00\n",
            "31357|WILSON,  VICTOR D|FIREFIGHTER-EMT|FIRE|$91764.00\n",
            "31358|WILSON,  WILLIAM C|SEWER BRICKLAYER|WATER MGMNT|$88566.40\n",
            "31359|WILSON,  WILLIAM P|PLUMBER|WATER MGMNT|$97032.00\n",
            "31360|WILSON,  WILLIAM T|CONSTRUCTION LABORER|WATER MGMNT|$79040.00\n",
            "31361|WILSON,  WYNELLE C|CLERK IV - TIMEKEEPER|WATER MGMNT|$60780.00\n",
            "31362|WIMBLEY,  DANNY J|POLICE OFFICER|POLICE|$89718.00\n",
            "31363|WIMBLEY,  LE VONNE R|COMMUNITY ORGANIZER-CAPS|POLICE|$76656.00\n",
            "31364|WIMMS,  CATHY R|WATCHMAN|WATER MGMNT|$43950.40\n",
            "31365|WIMMS,  JACQUELINE P|SENIOR COMPANION|FAMILY & SUPPORT|$2756.00\n",
            "31366|WIMMS,  ROBERT|POOL MOTOR TRUCK DRIVER|WATER MGMNT|$71780.80\n",
            "31367|WINARSKI,  MATTHEW|POLICE OFFICER|POLICE|$46206.00\n",
            "31368|WINBURN,  ANTHONY J|POLICE OFFICER|POLICE|$83616.00\n",
            "31369|WINBURN-WRIGHT,  ANGELA N|POLICE OFFICER|POLICE|$89718.00\n",
            "31370|WINCLECHTER,  LINDA A|POLICE OFFICER|POLICE|$83616.00\n",
            "31371|WIND,  FREDERICK J|LABORER|AVIATION|$67329.60\n",
            "31372|WINDHORST,  DALE E|POLICE OFFICER|POLICE|$86520.00\n",
            "31373|WINDHORST,  KAREN D|POLICE COMMUNICATIONS OPERATOR II|OEMC|$80940.00\n",
            "31374|WINDSOR,  DANIEL W|FIREFIGHTER|FIRE|$83616.00\n",
            "31375|WINEMAN STONE,  JILL|ASST TO THE MAYOR|MAYOR'S OFFICE|$116652.00\n",
            "31376|WINES,  PATRINA L|SERGEANT|POLICE|$106920.00\n",
            "31377|WINFIELD,  CARLA Y|POOL MOTOR TRUCK DRIVER|TRANSPORTN|$71780.80\n",
            "31378|WINFORD,  KEITH|SANITATION LABORER|STREETS & SAN|$72384.00\n",
            "31379|WINFORD,  RONALD D|SANITATION LABORER|STREETS & SAN|$72384.00\n",
            "31380|WINFREY,  DIANE|CROSSING GUARD|POLICE|$22131.20\n",
            "31381|WINFREY,  MCARTHUR|SANITATION LABORER|STREETS & SAN|$72384.00\n",
            "31382|WINFREY,  RUDOLPH|SANITATION CLERK|STREETS & SAN|$61356.00\n",
            "31383|WINFREY,  RYAN L|POLICE OFFICER|POLICE|$80778.00\n",
            "31384|WINGARD,  VERONICA L|POLICE OFFICER|POLICE|$83616.00\n",
            "31385|WINGFIELD,  KENDRA D|POLICE OFFICER|POLICE|$83616.00\n",
            "31386|WINIARZ,  JASON|CONSTRUCTION LABORER|WATER MGMNT|$79040.00\n",
            "31387|WINIECKI,  THERESA|FIREFIGHTER/PARAMEDIC|FIRE|$90798.00\n",
            "31388|WINKE,  GABRIEL E|HOISTING ENGINEER|WATER MGMNT|$97968.00\n",
            "31389|WINKLER,  JOSEPH D|PARAMEDIC|FIRE|$54114.00\n",
            "31390|WINNERS,  CALVIN|POLICE OFFICER|POLICE|$80778.00\n",
            "31391|WINNERS,  ELIUTH|POLICE OFFICER|POLICE|$46206.00\n",
            "31392|WINOGRAD,  MICHAEL D|FIREFIGHTER-EMT|FIRE|$91764.00\n",
            "31393|WINSTEAD,  EDWARD R|POLICE OFFICER|POLICE|$86520.00\n",
            "31394|WINSTEAD,  KEVIN T|SERGEANT|POLICE|$103590.00\n",
            "31395|WINSTON,  T'ZARA I|TRAFFIC CONTROL AIDE-HOURLY|OEMC|$19656.00\n",
            "31396|WINSTROM,  ERIC|POLICE LEGAL OFFICER II|POLICE|$113232.00\n",
            "31397|WINSTROM,  RACHEL L|POLICE OFFICER|POLICE|$80778.00\n",
            "31398|WINTERS,  EDDIE|SERGEANT|POLICE|$106920.00\n",
            "31399|WINTERS,  JOHN T|FOREMAN OF CEMENT FINISHERS|TRANSPORTN|$93808.00\n",
            "31400|WINTERS,  MALAKIA D|POLICE OFFICER|POLICE|$80778.00\n",
            "31401|WINTERS,  WANDA|CROSSING GUARD|POLICE|$18324.80\n",
            "31402|WINTON,  INESA|TITLE V PROGRAM TRAINEE I|FAMILY & SUPPORT|$8580.00\n",
            "31403|WINTON JR,  GEORGE|TITLE V PROGRAM TRAINEE I|FAMILY & SUPPORT|$8580.00\n",
            "31404|WIORA,  BRENDA R|CROSSING GUARD|POLICE|$20092.80\n",
            "31405|WIORSKI,  THERESA R|ACCOUNTING TECHNICIAN II|AVIATION|$66684.00\n",
            "31406|WIRTH,  MATTHEW J|POLICE OFFICER|POLICE|$83616.00\n",
            "31407|WIRTZ,  KEVIN T|FIREFIGHTER-EMT|FIRE|$91764.00\n",
            "31408|WIRTZ,  TERRENCE F|PARAMEDIC FIELD CHIEF|FIRE|$135480.00\n",
            "31409|WISCH,  RENEE E|POLICE OFFICER|POLICE|$89718.00\n",
            "31410|WISELOGEL,  SETH T|POLICE OFFICER|POLICE|$83616.00\n",
            "31411|WISE,  LUCAS A|POLICE OFFICER / FLD TRNG OFFICER|POLICE|$87780.00\n",
            "31412|WISEMAN,  AMY K|PARAMEDIC|FIRE|$76902.00\n",
            "31413|WISEMAN,  JOHN|FIREFIGHTER (PER ARBITRATORS AWARD)-PARAMEDIC|FIRE|$98244.00\n",
            "31414|WISEMAN,  JOSHUA G|PARAMEDIC I/C|FIRE|$87534.00\n",
            "31415|WISE,  MARTIN|RECRUITER|HUMAN RESOURCES|$75840.00\n",
            "31416|WISE,  ROBERT C|LIBRARY PAGE|PUBLIC LIBRARY|$12407.20\n",
            "31417|WISER,  RICHARD W|SERGEANT|POLICE|$110370.00\n",
            "31418|WISKUR,  DENISE M|CROSSING GUARD|POLICE|$20092.80\n",
            "31419|WISNAR,  CLARENCE A|FILTRATION ENGINEER V|WATER MGMNT|$114492.00\n",
            "31420|WISNESKI,  RANDALL W|BUILDING/CONSTRUCTION INSPECTOR|BUILDINGS|$97596.00\n",
            "31421|WISNIEWSKI,  GARY A|POLICE OFFICER (ASSIGNED AS DETECTIVE)|POLICE|$97044.00\n",
            "31422|WISNIEWSKI,  JERRY V|SANITATION LABORER|STREETS & SAN|$72384.00\n",
            "31423|WISNIEWSKI,  JORDAN J|AVIATION SECURITY OFFICER|AVIATION|$46656.00\n",
            "31424|WISNIEWSKI,  JOSEPH R|FIREFIGHTER|FIRE|$86520.00\n",
            "31425|WISNIEWSKI,  JUSTIN|POLICE OFFICER|POLICE|$69684.00\n",
            "31426|WISNIEWSKI,  KEITH T|GENERAL MANAGER OF AIRPORT OPERATIONS|AVIATION|$106884.00\n",
            "31427|WISNIEWSKI,  RENETTA M|POLICE OFFICER|POLICE|$92316.00\n",
            "31428|WISNIEWSKI,  RONALD E|FIRE ENGINEER-EMT|FIRE|$95958.00\n",
            "31429|WISSING,  COREY E|FIREFIGHTER|FIRE|$65946.00\n",
            "31430|WISTAFKE,  STEVEN M|FIREFIGHTER|FIRE|$65946.00\n",
            "31431|WISZ,  DONALD E|POLICE OFFICER|POLICE|$86520.00\n",
            "31432|WITCHARD JR,  CALVON|PARALEGAL II|LAW|$73200.00\n",
            "31433|WITCZAK,  CHRISTOPHER J|POLICE OFFICER|POLICE|$89718.00\n",
            "31434|WITCZAK,  STEVEN J|SERGEANT|POLICE|$110370.00\n",
            "31435|WITHERS,  FREDRICK R|POLICE OFFICER|POLICE|$89718.00\n",
            "31436|WITHERS,  LLEWELLYN F|POLICE OFFICER|POLICE|$92316.00\n",
            "31437|WITKOWSKI,  MICHAEL D|HOISTING ENGINEER|WATER MGMNT|$97968.00\n",
            "31438|WITKUS,  MICHELE H|PARAMEDIC I/C|FIRE|$99888.00\n",
            "31439|WITRY,  MARY P|PROJECT MANAGER|FINANCE|$117276.00\n",
            "31440|WITT,  DEBORAH J|POLICE OFFICER|POLICE|$86520.00\n",
            "31441|WITT,  JAMES L|POLICE OFFICER|POLICE|$86520.00\n",
            "31442|WITT,  KARLA S|POLICE OFFICER|POLICE|$86520.00\n",
            "31443|WITT,  KRISTINA C|POLICE OFFICER|POLICE|$83616.00\n",
            "31444|WITTMAN,  ELISABETH C|ARCHIVAL SPECIALIST|CITY CLERK|$65460.00\n",
            "31445|WITULSKI,  TODD E|POLICE OFFICER|POLICE|$83616.00\n",
            "31446|WIZGIRD,  DOMINIC J|FIREFIGHTER|FIRE|$86520.00\n",
            "31447|WLEZIEN,  LEONARD G|POLICE OFFICER|POLICE|$92316.00\n",
            "31448|WLEZIEN,  THOMAS M|POLICE OFFICER|POLICE|$89718.00\n",
            "31449|WLODARCZYK,  THOMAS J|FIREFIGHTER|FIRE|$86520.00\n",
            "31450|WLODAREK,  RONALD J|CARPENTER|AVIATION|$90168.00\n",
            "31451|WLODKOWSKI,  DARIUSZ|POLICE OFFICER|POLICE|$73296.00\n",
            "31452|WLODYGA,  TIM H|LINEMAN|TRANSPORTN|$95888.00\n",
            "31453|WLOSEK,  WANDA|POLICE OFFICER|POLICE|$83616.00\n",
            "31454|WNEK,  LUKASZ P|POLICE OFFICER|POLICE|$80778.00\n",
            "31455|WOCKNER,  JOHN L|DECK HAND|WATER MGMNT|$70844.80\n",
            "31456|WODNICKI,  EDWARD M|SERGEANT|POLICE|$110370.00\n",
            "31457|WODZINSKI,  DANNY J|POLICE OFFICER|POLICE|$83616.00\n",
            "31458|WODZISZ,  JOHN J|AMBULANCE COMMANDER|FIRE|$116724.00\n",
            "31459|WOITEL,  GEOFFREY L|POLICE OFFICER|POLICE|$86520.00\n",
            "31460|WOJCIK,  ALBERT|PROJECTS ADMINISTRATOR|GENERAL SERVICES|$93912.00\n",
            "31461|WOJCIK,  ANTHONY T|LIEUTENANT|POLICE|$123948.00\n",
            "31462|WOJCIK,  JEFFREY J|POLICE OFFICER|POLICE|$89718.00\n",
            "31463|WOJCIK,  JOHN T|LABORER|GENERAL SERVICES|$79040.00\n",
            "31464|WOJCIK,  MATTHEW|POLICE OFFICER|POLICE|$65946.00\n",
            "31465|WOJCIK,  RICHARD J|POLICE OFFICER|POLICE|$86520.00\n",
            "31466|WOJCIK,  STEPHEN J|POLICE OFFICER (ASSIGNED AS DETECTIVE)|POLICE|$93648.00\n",
            "31467|WOJDYLA,  LUCY|PROJECT COORD|PROCUREMENT|$54492.00\n",
            "31468|WOJNICKI,  PAUL G|FIRE ENGINEER|FIRE|$99888.00\n",
            "31469|WOJNICKI,  ROBERT A|MOTOR TRUCK DRIVER|STREETS & SAN|$71780.80\n",
            "31470|WOJTACZKA,  JACOB|POLICE OFFICER|POLICE|$69684.00\n",
            "31471|WOJTAN,  KENNETH|POLICE OFFICER|POLICE|$89718.00\n",
            "31472|WOJTASIK,  JAY J|POLICE OFFICER|POLICE|$83616.00\n",
            "31473|WOJTECKI,  KENNETH S|BATTALION CHIEF - EMT|FIRE|$143682.00\n",
            "31474|WOJTKIEWICZ,  COREY A|POLICE OFFICER|POLICE|$83616.00\n",
            "31475|WOJTOWICZ,  DONALD|AVIATION SECURITY SERGEANT|AVIATION|$80916.00\n",
            "31476|WOJT,  WALDEMAR|FIRE MARSHAL|FIRE|$90018.00\n",
            "31477|WOLANIN,  SLAWOMIR|HOISTING ENGINEER|TRANSPORTN|$97968.00\n",
            "31478|WOLANSKI,  JASON L|POLICE OFFICER|POLICE|$83616.00\n",
            "31479|WOLANSKI,  MARGARET M|POLICE OFFICER|POLICE|$83616.00\n",
            "31480|WOLBERS,  ADAM C|POLICE OFFICER|POLICE|$83616.00\n",
            "31481|WOLDEIT,  DEBORAH A|POLICE OFFICER|POLICE|$92316.00\n",
            "31482|WOLFE,  ALAIN R|LIBRARIAN II|PUBLIC LIBRARY|$80424.00\n",
            "31483|WOLFE,  RAMA D|POLICE OFFICER|POLICE|$86520.00\n",
            "31484|WOLFE,  RICHARD P|POLICE OFFICER|POLICE|$89718.00\n",
            "31485|WOLFF,  SCOTT M|POLICE OFFICER|POLICE|$86520.00\n",
            "31486|WOLFORTH,  ERIC R|POLICE OFFICER|POLICE|$80778.00\n",
            "31487|WOLF,  ROBERT L|ASST COMMISSIONER|COMMUNITY DEVELOPMENT|$92988.00\n",
            "31488|WOLF,  TIMOTHY A|SERGEANT|POLICE|$100440.00\n",
            "31489|WOLF,  WILLIAM T|SERGEANT|POLICE|$106920.00\n",
            "31490|WOLINSKI,  ALEX J|POLICE OFFICER|POLICE|$83616.00\n",
            "31491|WOLINSKI,  LUKASZ|POLICE OFFICER|POLICE|$46206.00\n",
            "31492|WOLINSKI,  SEBASTIAN|POLICE OFFICER|POLICE|$73296.00\n",
            "31493|WOLINSKY,  GARY H|CASE ANALYST - LAW|LAW|$77280.00\n",
            "31494|WOLKOWICZ,  JAMES J|FIREFIGHTER-EMT|FIRE|$85680.00\n",
            "31495|WOLOWICZ,  RICHARD J|POLICE OFFICER|POLICE|$86520.00\n",
            "31496|WOLSKI,  MARK G|PLUMBER|TRANSPORTN|$97032.00\n",
            "31497|WOMBLES,  J|POLICE OFFICER|POLICE|$83616.00\n",
            "31498|WONDOLOWSKI,  FORREST|MACHINIST (AUTOMOTIVE)|GENERAL SERVICES|$92248.00\n",
            "31499|WONG,  AIDE G|SANITATION LABORER|STREETS & SAN|$72384.00\n",
            "31500|WONG,  BENNY|POLICE OFFICER|POLICE|$89718.00\n",
            "31501|WONG,  CINDY|LIBRARY PAGE|PUBLIC LIBRARY|$12407.20\n",
            "31502|WONG,  DANIEL|STAFF ASST|COMMUNITY DEVELOPMENT|$66684.00\n",
            "31503|WONG,  JACINTA S|STAFF ASST|BUILDINGS|$63024.00\n",
            "31504|WONG,  KAI C|MACHINIST (AUTOMOTIVE)|GENERAL SERVICES|$92248.00\n",
            "31505|WONG,  LISA|PROJECT MANAGER - BUILDINGS|BUILDINGS|$104736.00\n",
            "31506|WONG,  PUI C|SPECIALIST IN AGING II|FAMILY & SUPPORT|$80424.00\n",
            "31507|WONG,  SAMUEL H|DIR OF ACCOUNTING|FINANCE|$90696.00\n",
            "31508|WONG,  SHERI|ASST CORPORATION COUNSEL|LAW|$61980.00\n",
            "31509|WONG,  TIMMY|SENIOR PROGRAMMER/ANALYST|DoIT|$87660.00\n",
            "31510|WONG,  WILLIAM|MEDICAL DIR|FIRE|$148283.20\n",
            "31511|WONG,  WILLIE|LABORER - APPRENTICE|WATER MGMNT|$47424.00\n",
            "31512|WONSLEY,  ROBERT J|MOTOR TRUCK DRIVER|STREETS & SAN|$71780.80\n",
            "31513|WOODALL,  ADRENIA I|PARKING ENFORCEMENT AIDE|FINANCE|$44244.00\n",
            "31514|WOODALL,  AMANDA M|PROGRAM DIR|TRANSPORTN|$63516.00\n",
            "31515|WOODALL,  JAMAAL D|CROSSING GUARD - PER AGREEMENT|POLICE|$17232.80\n",
            "31516|WOODALL,  JONATHAN E|POLICE OFFICER|POLICE|$80778.00\n",
            "31517|WOODARD,  DOROTHY A|DISTRICT CLERK|WATER MGMNT|$55968.00\n",
            "31518|WOODARD,  HEDDIE J|FOSTER GRANDPARENT|FAMILY & SUPPORT|$2756.00\n",
            "31519|WOODARD,  KEANNA D|CROSSING GUARD - PER AGREEMENT|POLICE|$16484.00\n",
            "31520|WOOD,  CHARLES F|DETENTION AIDE|POLICE|$44568.00\n",
            "31521|WOODEN,  LAWRENCE C|FIREFIGHTER-EMT|FIRE|$85680.00\n",
            "31522|WOODFORK MOORE,  KIMLEMAY|ASST PROCUREMENT OFFICER|PROCUREMENT|$104772.00\n",
            "31523|WOOD,  GREGORY M|POLICE OFFICER|POLICE|$80778.00\n",
            "31524|WOOD,  JESSICA A|BUSINESS CONSULTANT|BUSINESS AFFAIRS|$57084.00\n",
            "31525|WOOD,  JOHN T|FIREFIGHTER|FIRE|$86520.00\n",
            "31526|WOOD,  MICHAEL C|FIREFIGHTER/PARAMEDIC|FIRE|$93942.00\n",
            "31527|WOOD,  MICHELE A|POLICE OFFICER (ASSIGNED AS DETECTIVE)|POLICE|$90456.00\n",
            "31528|WOOD,  PATRICIA K|PARAMEDIC I/C|FIRE|$93648.00\n",
            "31529|WOOD,  PETER M|FIREFIGHTER/PARAMEDIC|FIRE|$97728.00\n",
            "31530|WOOD,  RASHAD B|PARAMEDIC|FIRE|$54114.00\n",
            "31531|WOOD,  RICHARD J|PARAMEDIC I/C|FIRE|$87534.00\n",
            "31532|WOODRIDGE,  RACHENETTE|ADMINISTRATIVE ASST II|ADMIN HEARNG|$58020.00\n",
            "31533|WOODRIDGE,  ROBERT L|FOREMAN OF WATER PIPE CONSTRUCTION|WATER MGMNT|$101192.00\n",
            "31534|WOODRUFF,  LUTHER R|GARAGE ATTENDANT|GENERAL SERVICES|$46592.00\n",
            "31535|WOODRUFF,  TERRY L|SANITATION LABORER|STREETS & SAN|$72384.00\n",
            "31536|WOODS,  AMANDA C|POLICE OFFICER|POLICE|$83616.00\n",
            "31537|WOODS,  ANDRE A|POLICE OFFICER|POLICE|$86520.00\n",
            "31538|WOODS,  BENJAMIN E|FIREFIGHTER-EMT|FIRE|$85680.00\n",
            "31539|WOODS,  BRENT L|FIREFIGHTER-EMT|FIRE|$85680.00\n",
            "31540|WOODS,  BRIAN E|FIREFIGHTER-EMT|FIRE|$88680.00\n",
            "31541|WOODS,  CHERYL M|PUBLIC HEALTH ADMINISTRATOR I|HEALTH|$69888.00\n",
            "31542|WOODS,  CONSTANCE M|COURT FILE CLERK|LAW|$58020.00\n",
            "31543|WOODS,  CORNELIUS A|STATIONARY FIREMAN|WATER MGMNT|$65686.40\n",
            "31544|WOODS,  DANIEL F|LIEUTENANT|FIRE|$103590.00\n",
            "31545|WOODS,  DAVID|SEWER BRICKLAYER|WATER MGMNT|$88566.40\n",
            "31546|WOODS,  DAVID A|POLICE OFFICER|POLICE|$89718.00\n",
            "31547|WOODS,  FRANKIE|PERSONAL COMPUTER OPERATOR II|TRANSPORTN|$55428.00\n",
            "31548|WOODS,  GAIL E|COORD OF SPECIAL PROJECTS|FAMILY & SUPPORT|$73752.00\n",
            "31549|WOODS,  GARETH|POLICE OFFICER|POLICE|$69684.00\n",
            "31550|WOODS HAWTHORNE,  CRYSTAL D|POLICE COMMUNICATIONS OPERATOR II|OEMC|$67212.00\n",
            "31551|WOODSIDE,  GLENN W|LIBRARIAN I|PUBLIC LIBRARY|$72840.00\n",
            "31552|WOODS,  JAMES A|SHIFT SUPVSR OF AVIATION SECURITY|AVIATION|$84780.00\n",
            "31553|WOODS,  JAMES W|POLICE OFFICER|POLICE|$86520.00\n",
            "31554|WOODS,  JIMMY R|POLICE OFFICER|POLICE|$83616.00\n",
            "31555|WOODS JR,  CHARLES F|POLICE OFFICER|POLICE|$83616.00\n",
            "31556|WOODS JR,  JOHNNY L|POOL MOTOR TRUCK DRIVER|WATER MGMNT|$71780.80\n",
            "31557|WOODS JR,  SILAS|POLICE OFFICER|POLICE|$86520.00\n",
            "31558|WOODS,  KAREN D|SENIOR DATA ENTRY OPERATOR|POLICE|$58020.00\n",
            "31559|WOODS,  KIMBERLY D|SERGEANT|POLICE|$100440.00\n",
            "31560|WOODS,  LEONARD J|MOTOR TRUCK DRIVER|GENERAL SERVICES|$71780.80\n",
            "31561|WOODS,  LERAY O|SANITATION LABORER|STREETS & SAN|$72384.00\n",
            "31562|WOODS,  MARCIE M|SANITATION LABORER|STREETS & SAN|$72384.00\n",
            "31563|WOODS,  MARLON F|LIEUTENANT|FIRE|$110370.00\n",
            "31564|WOODS,  MICHELLE L|ASST PROJECT DIR|GENERAL SERVICES|$92064.00\n",
            "31565|WOODSON,  ANGELA L|PARAMEDIC|FIRE|$90018.00\n",
            "31566|WOODSON,  CHARLES|TRAFFIC CONTROL AIDE-HOURLY|OEMC|$19656.00\n",
            "31567|WOODSON,  RANDY A|POOL MOTOR TRUCK DRIVER|STREETS & SAN|$71780.80\n",
            "31568|WOODS,  ORLANDO J|CONSTRUCTION LABORER|WATER MGMNT|$79040.00\n",
            "31569|WOODS,  PAUL F|POLICE OFFICER|POLICE|$89718.00\n",
            "31570|WOODS,  RICHARD E|MOTOR TRUCK DRIVER|STREETS & SAN|$71780.80\n",
            "31571|WOODS,  ROBERT E|AVIATION SECURITY OFFICER|AVIATION|$80940.00\n",
            "31572|WOODS,  ROBERT J|MOTOR TRUCK DRIVER|WATER MGMNT|$71780.80\n",
            "31573|WOODS,  ROBERT L|POLICE OFFICER|POLICE|$86520.00\n",
            "31574|WOODS,  ROMELLA|TRAFFIC CONTROL AIDE-HOURLY|OEMC|$19656.00\n",
            "31575|WOODS,  ROSETTA|POLICE OFFICER|POLICE|$83616.00\n",
            "31576|WOODS,  RUFUS|INVESTIGATOR|FIRE|$77280.00\n",
            "31577|WOODS,  SANDRA D|TIMEKEEPER - CPD|POLICE|$73200.00\n",
            "31578|WOODS,  SCHANEE|POOL MOTOR TRUCK DRIVER|AVIATION|$71780.80\n",
            "31579|WOODS,  STEPHEN W|POLICE OFFICER|POLICE|$80778.00\n",
            "31580|WOODS,  STEVEN|POLICE OFFICER|POLICE|$92316.00\n",
            "31581|WOODS,  SUSAN L|PUBLIC HEALTH ADMINISTRATOR I|HEALTH|$63708.00\n",
            "31582|WOODS,  TIANNA D|POLICE OFFICER|POLICE|$86520.00\n",
            "31583|WOODS,  TUWANDA L|DETENTION AIDE|POLICE|$48924.00\n",
            "31584|WOODS,  YVETTE|ACCOUNTANT IV|FINANCE|$95880.00\n",
            "31585|WOOD,  THOMAS A|CHIEF CONTRACT EXPEDITER|TRANSPORTN|$54492.00\n",
            "31586|WOOD,  THOMAS G|CONSTRUCTION LABORER|WATER MGMNT|$79040.00\n",
            "31587|WOOD,  TIMOTHY E|POLICE OFFICER|POLICE|$83616.00\n",
            "31588|WOODVILLE,  CINDY S|POLICE OFFICER|POLICE|$89718.00\n",
            "31589|WOODVILLE,  DANNY D|FIREFIGHTER-EMT|FIRE|$99258.00\n",
            "31590|WOOLARD,  KRISTI L|ANIMAL CONTROL OFFICER|ANIMAL CONTRL|$40596.00\n",
            "31591|WOOLEY,  CHANETE R|POLICE OFFICER (ASSIGNED AS DETECTIVE)|POLICE|$93648.00\n",
            "31592|WOOLEY,  DESEAN L|POLICE OFFICER|POLICE|$80778.00\n",
            "31593|WOOSLEY,  ERIKA A|POLICE OFFICER|POLICE|$83616.00\n",
            "31594|WOOTEN,  CRAIG L|POLICE OFFICER|POLICE|$86520.00\n",
            "31595|WOOTEN,  JERRY|MOTOR TRUCK DRIVER|TRANSPORTN|$71780.80\n",
            "31596|WOOTEN,  RICHARD A|POLICE OFFICER|POLICE|$86520.00\n",
            "31597|WOOTEN,  SANDRA D|POLICE OFFICER|POLICE|$86520.00\n",
            "31598|WOOTEN,  TYRONE|GARAGE ATTENDANT|GENERAL SERVICES|$46592.00\n",
            "31599|WOOTEN,  YVETTE M|SERGEANT|POLICE|$106920.00\n",
            "31600|WO,  RANDALL K|POLICE OFFICER (ASSIGNED AS DETECTIVE)|POLICE|$97044.00\n",
            "31601|WORDEN,  JEFFREY A|OPERATING ENGINEER-GROUP C|WATER MGMNT|$93745.60\n",
            "31602|WORD,  HOSEA|SERGEANT|POLICE|$106920.00\n",
            "31603|WORKMAN,  SCOTT J|POLICE OFFICER|POLICE|$83616.00\n",
            "31604|WORKS,  ANTOINETTE L|ADMINISTRATIVE ASST III|TRANSPORTN|$73200.00\n",
            "31605|WORMLEY,  ANGELA M|POLICE OFFICER|POLICE|$86520.00\n",
            "31606|WORMLEY,  TONY E|DETENTION AIDE|POLICE|$48924.00\n",
            "31607|WORONKO,  MATTHEW A|LIBRARIAN I|PUBLIC LIBRARY|$59352.00\n",
            "31608|WOROZAKEN,  BRADLEY A|FIREFIGHTER|FIRE|$93594.00\n",
            "31609|WORRELL,  RENATA L|POLICE OFFICER|POLICE|$83616.00\n",
            "31610|WORRILL,  OSCAR W|HOUSE DRAIN INSPECTOR|WATER MGMNT|$99252.00\n",
            "31611|WORSECK,  ANDREW W|CHIEF ASST CORPORATION COUNSEL|LAW|$124572.00\n",
            "31612|WORTHAM,  KEVIN L|POLICE OFFICER|POLICE|$92316.00\n",
            "31613|WORTHEM,  CONSTANCE K|POLICE OFFICER (ASSIGNED AS EVIDENCE TECHNICIAN)|POLICE|$90846.00\n",
            "31614|WORTHEM,  THOMAS M|POLICE OFFICER|POLICE|$86520.00\n",
            "31615|WORTHINGTON,  KIMBERLY A|DEPUTY COMMISSIONER|GENERAL SERVICES|$114588.00\n",
            "31616|WORTHY,  JOANN|SENIOR RESEARCH ANALYST|COMMUNITY DEVELOPMENT|$80424.00\n",
            "31617|WORTHY,  SHARMAN V|TRAFFIC CONTROL AIDE-HOURLY|OEMC|$19656.00\n",
            "31618|WORTMAN,  AARON J|MOTOR TRUCK DRIVER|STREETS & SAN|$71780.80\n",
            "31619|WORWA,  PRZEMYSLAW|POLICE OFFICER|POLICE|$69684.00\n",
            "31620|WOS,  MATTHEW J|OPERATIONS ANALYST|FINANCE|$72840.00\n",
            "31621|WOULFE,  MARTIN J|PLUMBING INSPECTOR|BUILDINGS|$99252.00\n",
            "31622|WOULFE,  MICHAEL|SEWER BRICKLAYER|WATER MGMNT|$88566.40\n",
            "31623|WOYTOWICZ,  KRISTEN|ASST CORPORATION COUNSEL|LAW|$57192.00\n",
            "31624|WOZNIAK,  BARTOSZ M|PARAMEDIC I/C|FIRE|$87534.00\n",
            "31625|WOZNIAK,  JOHN M|POLICE OFFICER|POLICE|$83616.00\n",
            "31626|WOZNIAK,  MICHAEL J|POLICE OFFICER|POLICE|$80778.00\n",
            "31627|WOZNIAK,  RONALD G|POLICE OFFICER|POLICE|$86520.00\n",
            "31628|WOZNIAK,  STANLEY H|LIEUTENANT-EMT|FIRE|$117078.00\n",
            "31629|WOZNICKI,  ADAM A|TREE TRIMMER|STREETS & SAN|$74464.00\n",
            "31630|WOZNICKI,  APRIL A|PARAMEDIC|FIRE|$54114.00\n",
            "31631|WOZNICKI,  BRIAN L|PARAMEDIC|FIRE|$54114.00\n",
            "31632|WOZNY,  ERIC J|FIREFIGHTER|FIRE|$65946.00\n",
            "31633|WRAY,  HILBERTO F|TRAFFIC CONTROL AIDE-HOURLY|OEMC|$19656.00\n",
            "31634|WRENCHER,  GERMAINE A|POLICE OFFICER|POLICE|$83616.00\n",
            "31635|WREN,  JANET L|BRIDGE OPERATOR|TRANSPORTN|$64308.00\n",
            "31636|WRICE,  LINDA D|CLERK - BD OF ELECTIONS|BOARD OF ELECTION|$30816.00\n",
            "31637|WRIGHT,  ALFRED W|MOTOR TRUCK DRIVER|STREETS & SAN|$71780.80\n",
            "31638|WRIGHT,  ANGELA|FIRE COMMUNICATIONS OPERATOR I|OEMC|$65676.00\n",
            "31639|WRIGHT,  ANGEL P|SANITATION CLERK|STREETS & SAN|$55968.00\n",
            "31640|WRIGHT,  ANTHONY J|POOL MOTOR TRUCK DRIVER|STREETS & SAN|$64604.80\n",
            "31641|WRIGHT,  BERNARD R|LABORER - APPRENTICE|WATER MGMNT|$55328.00\n",
            "31642|WRIGHT,  BRIAN E|SERGEANT|POLICE|$103590.00\n",
            "31643|WRIGHT,  CAROLYN|COMMUNICATIONS OPERATOR I - 311|OEMC|$66684.00\n",
            "31644|WRIGHT,  CHERYL D|FINGERPRINT TECHNICIAN III|POLICE|$80328.00\n",
            "31645|WRIGHT,  CORREY J|AVIATION COMMUNICATIONS OPERATOR|OEMC|$58476.00\n",
            "31646|WRIGHT,  DARIUS T|LABORER - APPRENTICE|WATER MGMNT|$63232.00\n",
            "31647|WRIGHT,  DARREN A|POLICE OFFICER|POLICE|$86520.00\n",
            "31648|WRIGHT,  DAVID T|SERGEANT|POLICE|$110370.00\n",
            "31649|WRIGHT,  DORIAN T|POLICE OFFICER|POLICE|$69684.00\n",
            "31650|WRIGHT,  DWAYNE L|SANITATION LABORER|STREETS & SAN|$72384.00\n",
            "31651|WRIGHT,  ELIZABETH M|MOTOR TRUCK DRIVER|WATER MGMNT|$71780.80\n",
            "31652|WRIGHT,  ERIC D|POLICE OFFICER|POLICE|$73296.00\n",
            "31653|WRIGHT,  GEORAS L|PARKING INVESTIGATOR|FINANCE|$47424.00\n",
            "31654|WRIGHT,  GREGORY D|CONCRETE LABORER|TRANSPORTN|$79040.00\n",
            "31655|WRIGHT,  JASON|TRAFFIC CONTROL AIDE-HOURLY|OEMC|$19656.00\n",
            "31656|WRIGHT,  JEROME T|TRAFFIC CONTROL AIDE-HOURLY|OEMC|$19656.00\n",
            "31657|WRIGHT,  JEWELL|POLICE COMMUNICATIONS OPERATOR I|OEMC|$77220.00\n",
            "31658|WRIGHT,  JULIUS|SANITATION LABORER|STREETS & SAN|$72384.00\n",
            "31659|WRIGHT,  LESLIE|POOL MOTOR TRUCK DRIVER|STREETS & SAN|$14357.20\n",
            "31660|WRIGHT,  LINDA|CROSSING GUARD - PER AGREEMENT|POLICE|$13790.40\n",
            "31661|WRIGHT,  MARC E|PROJECTS ADMINISTRATOR|AVIATION|$85128.00\n",
            "31662|WRIGHT,  MARCELLA N|ASST SPECIALIST IN AGING|FAMILY & SUPPORT|$58020.00\n",
            "31663|WRIGHT,  MARCHAND|POLICE OFFICER|POLICE|$80778.00\n",
            "31664|WRIGHT,  MICHAEL|CONSTRUCTION LABORER|WATER MGMNT|$79040.00\n",
            "31665|WRIGHT,  MICHAEL J|POLICE OFFICER|POLICE|$86520.00\n",
            "31666|WRIGHT,  MICHELLE|HOSPITALITY WORKER|FAMILY & SUPPORT|$9516.00\n",
            "31667|WRIGHT,  NANCY C|POLICE OFFICER|POLICE|$86520.00\n",
            "31668|WRIGHT,  NICHOLAS D|LIBRARY PAGE|PUBLIC LIBRARY|$12407.20\n",
            "31669|WRIGHT,  NIRVANA M|PAYMENT SERVICES REPRESENTATIVE|CITY CLERK|$58020.00\n",
            "31670|WRIGHT,  RONALD A|MOTOR TRUCK DRIVER|STREETS & SAN|$71780.80\n",
            "31671|WRIGHT,  RONALD G|POLICE OFFICER|POLICE|$83616.00\n",
            "31672|WRIGHT,  SHELLY D|PARAMEDIC I/C|FIRE|$90456.00\n",
            "31673|WRIGHT,  SHERRIE Y|POLICE COMMUNICATIONS OPERATOR II|OEMC|$64188.00\n",
            "31674|WRIGHT SHUMAKER,  MICHELLE D|AVIATION SECURITY OFFICER|AVIATION|$61260.00\n",
            "31675|WRIGHT,  TRINA L|PROGRAM AUDITOR III|COMMUNITY DEVELOPMENT|$80328.00\n",
            "31676|WRIGHT,  TYRA|MOTOR TRUCK DRIVER|AVIATION|$71780.80\n",
            "31677|WRIGHT,  VICTORIA L|SR CERTIFICATION / COMPLIANCE OFFICER|PROCUREMENT|$72852.00\n",
            "31678|WRIGHT,  VIOLET H|CROSSING GUARD|POLICE|$22131.20\n",
            "31679|WRIGHT,  WENDELL E|POLICE OFFICER|POLICE|$83616.00\n",
            "31680|WRIGLEY,  JOHN E|POLICE OFFICER|POLICE|$83616.00\n",
            "31681|WROBEL,  MICHAEL|POLICE OFFICER|POLICE|$80778.00\n",
            "31682|WROBLEWSKI,  JACEK|FILTRATION ENGINEER III|WATER MGMNT|$95880.00\n",
            "31683|WRONKOWSKI,  ANTHONY R|POLICE OFFICER (ASSIGNED AS DETECTIVE)|POLICE|$99888.00\n",
            "31684|WRONOWSKI,  JAMES J|AVIATION SECURITY OFFICER - HOURLY|AVIATION|$22120.80\n",
            "31685|WRONOWSKI,  JAMES J|FIREFIGHTER|FIRE|$80778.00\n",
            "31686|WRONSKI JR,  ROBERT S|CONSTRUCTION LABORER|WATER MGMNT|$79040.00\n",
            "31687|WRZESINSKI,  HENRY J|FIRE ENGINEER-EMT|FIRE|$105918.00\n",
            "31688|WTORKOWSKI,  ALBERT P|COORDINATING ENGINEER II|WATER MGMNT|$119256.00\n",
            "31689|WU,  DAVID C|LIEUTENANT|POLICE|$120264.00\n",
            "31690|WUEBBEN,  CHRISTOPHER T|PARAMEDIC|FIRE|$54114.00\n",
            "31691|WUERTZ,  MICHAEL J|POLICE OFFICER|POLICE|$83616.00\n",
            "31692|WUJCIK,  DARLENE|SERGEANT|POLICE|$106920.00\n",
            "31693|WU,  JIE C|LIBRARY ASSOCIATE - HOURLY|PUBLIC LIBRARY|$24835.20\n",
            "31694|WU,  JIN H|SENIOR COMPANION|FAMILY & SUPPORT|$2756.00\n",
            "31695|WURTZ,  DWAINE C|MOTOR TRUCK DRIVER|WATER MGMNT|$71780.80\n",
            "31696|WYATT,  MARY E|TRAFFIC CONTROL AIDE-HOURLY|OEMC|$19656.00\n",
            "31697|WYATT,  MAURICE D|FIREFIGHTER-EMT|FIRE|$91764.00\n",
            "31698|WYATT,  PHILLIP E|FIRE ENGINEER|FIRE|$93648.00\n",
            "31699|WYATT,  TODD H|COORDINATING PLANNER|COMMUNITY DEVELOPMENT|$78000.00\n",
            "31700|WYATT,  WILLIE R|STATIONARY FIREMAN|WATER MGMNT|$65686.40\n",
            "31701|WYDRA,  MARK R|TRAFFIC SIGNAL REPAIRMAN|TRANSPORTN|$95888.04\n",
            "31702|WYHER,  CHRISTOPHER B|FIREFIGHTER-EMT|FIRE|$85680.00\n",
            "31703|WYMAN,  DANIEL S|POLICE OFFICER|POLICE|$89718.00\n",
            "31704|WYMAN,  KEVIN D|POLICE OFFICER|POLICE|$86520.00\n",
            "31705|WYMAN,  RICHARD W|FIREFIGHTER-EMT|FIRE|$88680.00\n",
            "31706|WYNN,  JAMES B|POLICE OFFICER|POLICE|$86520.00\n",
            "31707|WYNN,  REENA C|CLERK III|GENERAL SERVICES|$41952.00\n",
            "31708|WYNN,  WALEED|POLICE OFFICER|POLICE|$83616.00\n",
            "31709|WYPYCH,  ANNA|POLICE OFFICER|POLICE|$46206.00\n",
            "31710|WYROBA,  ALBERT F|POLICE OFFICER|POLICE|$83616.00\n",
            "31711|WYSINGER,  ALFONZA|FIRST DEPUTY SUPERINTENDENT|POLICE|$197736.00\n",
            "31712|WYSINGER,  BERNARD|POLICE OFFICER|POLICE|$86520.00\n",
            "31713|WYSOCKI,  TROY P|SANITATION LABORER|STREETS & SAN|$72384.00\n",
            "31714|WYTANIEC,  JEFFREY|FILTRATION ENGINEER II|WATER MGMNT|$72120.00\n",
            "31715|XANOS,  NICHOLAS S|POLICE OFFICER (ASSIGNED AS DETECTIVE)|POLICE|$93648.00\n",
            "31716|XENTARAS,  DEMETRIOS V|POLICE OFFICER|POLICE|$86520.00\n",
            "31717|XIA,  CHUN M|LIBRARIAN I|PUBLIC LIBRARY|$72840.00\n",
            "31718|XIE,  DE KUAN|FOSTER GRANDPARENT|FAMILY & SUPPORT|$2756.00\n",
            "31719|XIE,  JIANHUAI|SENIOR LIBRARY CLERK|PUBLIC LIBRARY|$30324.00\n",
            "31720|XIQUES,  JOHN C|SERGEANT|POLICE|$103590.00\n",
            "31721|XUE,  YAN|PRINCIPAL PROGRAMMER/ANALYST|DoIT|$96768.00\n",
            "31722|YABES,  FRANCESCA N|ASST CORPORATION COUNSEL|LAW|$57192.00\n",
            "31723|YAGER,  KATHERINE A|ASST ADMINISTRATIVE SECRETARY III|MAYOR'S OFFICE|$90000.00\n",
            "31724|YAKES,  ALAN J|POLICE OFFICER|POLICE|$89718.00\n",
            "31725|YAKES,  JOSEPH|POLICE OFFICER|POLICE|$65946.00\n",
            "31726|YAKES,  KENNETH J|POLICE OFFICER|POLICE|$89718.00\n",
            "31727|YAKES,  SHARON M|CROSSING GUARD|POLICE|$19188.00\n",
            "31728|YAKIMEC,  MYKHAYLO|TRAFFIC CONTROL AIDE-HOURLY|OEMC|$19656.00\n",
            "31729|YAMAJI,  BRADLEY|POLICE OFFICER|POLICE|$46206.00\n",
            "31730|YAMAJI,  PETER S|VETERINARIAN|ANIMAL CONTRL|$121920.00\n",
            "31731|YAMANE,  ROBERT M|EXPLOSIVES TECHNICIAN I|POLICE|$110370.00\n",
            "31732|YAMASHIROYA,  GARY H|COMMANDER|POLICE|$162684.00\n",
            "31733|YAMEOGO,  MICHELLE M|WATCHMAN|WATER MGMNT|$43950.40\n",
            "31734|YAMICH,  ELENI|POLICE OFFICER|POLICE|$83616.00\n",
            "31735|YANAGIDATE,  ALAN I|POLICE OFFICER (ASSIGNED AS DETECTIVE)|POLICE|$99888.00\n",
            "31736|YANCEY,  DOCK|CAPTAIN-EMT|FIRE|$131466.00\n",
            "31737|YANCY,  EMERALD V|ADMINISTRATIVE ASST II|POLICE|$66684.00\n",
            "31738|YANCY,  ETHEL M|LEGISLATIVE AIDE|CITY COUNCIL|$24744.00\n",
            "31739|YANEZ,  ARNULFO G|POLICE OFFICER|POLICE|$69684.00\n",
            "31740|YANEZ  JR,  CARLOS|POLICE OFFICER|POLICE|$46206.00\n",
            "31741|YANEZ,  JUAN A|POLICE OFFICER|POLICE|$86520.00\n",
            "31742|YANEZ,  RAFAEL|POLICE OFFICER|POLICE|$83616.00\n",
            "31743|YANEZ,  YVETTE C|AVIATION SECURITY SERGEANT|AVIATION|$70380.00\n",
            "31744|YANGA,  PEDRO G|POLICE OFFICER|POLICE|$86520.00\n",
            "31745|YANG,  BO|POLICE OFFICER|POLICE|$46206.00\n",
            "31746|YANG,  LUYANG|CIVIL ENGINEER V|TRANSPORTN|$114492.00\n",
            "31747|YANNEY,  KRISTY|POLICE OFFICER|POLICE|$69684.00\n",
            "31748|YANOW,  GERI LYNN|ASST CORPORATION COUNSEL SUPVSR|LAW|$109728.00\n",
            "31749|YAO,  QI|LABORATORY TECHNICIAN III|HEALTH|$60780.00\n",
            "31750|YAPDIANGCO,  ROBERT|POLICE OFFICER|POLICE|$69684.00\n",
            "31751|YARBER,  ERIC M|POOL MOTOR TRUCK DRIVER|TRANSPORTN|$71780.80\n",
            "31752|YARBER,  SHARI L|PROPERTY CUSTODIAN - AUTO POUND|STREETS & SAN|$58020.00\n",
            "31753|YARBROUGH,  AUDREY L|CONTRACTS REVIEW SPECIALIST II|HEALTH|$88116.00\n",
            "31754|YARBROUGH,  ETHEL C|LIBRARY PAGE|PUBLIC LIBRARY|$12407.20\n",
            "31755|YARISH,  JOHN A|PROJECTS ADMINISTRATOR|GENERAL SERVICES|$86736.00\n",
            "31756|YARKONY,  AVI|ENGINEERING TECHNICIAN IV|WATER MGMNT|$76656.00\n",
            "31757|YARLING,  ZACHARY|POLICE OFFICER|POLICE|$69684.00\n",
            "31758|YARMER,  KEITH E|PLUMBER|WATER MGMNT|$97032.00\n",
            "31759|YARWOOD,  CRAIG M|DISTRICT SUPVSR - GRAFFITI REMOVAL SERVICES|STREETS & SAN|$92304.00\n",
            "31760|YASHCENKO,  LARISA V|SENIOR COMPANION|FAMILY & SUPPORT|$2756.00\n",
            "31761|YATES,  CLIFFORD E|PROJECT COORD|BUILDINGS|$88812.00\n",
            "31762|YATES,  KEIA D|AVIATION SECURITY OFFICER|AVIATION|$64188.00\n",
            "31763|YATES,  NICHOLAUS D|POLICE OFFICER|POLICE|$80778.00\n",
            "31764|YATES,  ROBERT E|POLICE OFFICER|POLICE|$92316.00\n",
            "31765|YATES,  THOMAS E|FOREMAN OF CONSTRUCTION LABORERS|TRANSPORTN|$81328.00\n",
            "31766|YAU,  ALICE|POLICE OFFICER|POLICE|$80778.00\n",
            "31767|YAU,  HENRY|LINEMAN|TRANSPORTN|$95888.00\n",
            "31768|YAU,  THOMAS C|SEWER BRICKLAYER|WATER MGMNT|$88566.40\n",
            "31769|YAVERSKI,  BRIAN T|POLICE OFFICER (ASSIGNED AS DETECTIVE)|POLICE|$97044.00\n",
            "31770|YBARRA,  JULIE C|POLICE OFFICER|POLICE|$83616.00\n",
            "31771|YEE,  BARRY|AUTO POUND SUPVSR|STREETS & SAN|$93228.00\n",
            "31772|YEE,  DERRICK|PERSONAL COMPUTER OPERATOR II|BUSINESS AFFAIRS|$52848.00\n",
            "31773|YEE,  PAUL|DETENTION AIDE|POLICE|$67212.00\n",
            "31774|YEE,  SHIRLEY|LIBRARIAN IV|PUBLIC LIBRARY|$95880.00\n",
            "31775|YEE,  STEVEN S|POLICE TECHNICIAN|POLICE|$90846.00\n",
            "31776|YEFIMOVA,  YELENA|SENIOR COMPANION|FAMILY & SUPPORT|$2756.00\n",
            "31777|YEKSIGIAN,  JOHN P|REHABILITATION CONSTRUCTION SPECIALIST|COMMUNITY DEVELOPMENT|$84072.00\n",
            "31778|YELVERTON,  CAROLYN E|CROSSING GUARD|POLICE|$22131.20\n",
            "31779|YEPES,  GLORIA M|AIRPORT OPERATIONS SUPVSR I|AVIATION|$60732.00\n",
            "31780|YEPEZ,  JESUS|CIVIL ENGINEER IV|TRANSPORTN|$104736.00\n",
            "31781|YERGER,  SYLVIA M|TRAFFIC CONTROL AIDE-HOURLY|OEMC|$19656.00\n",
            "31782|YERKE,  APRIL M|FIREFIGHTER|FIRE|$65946.00\n",
            "31783|YERKE,  EDWARD P|POLICE OFFICER|POLICE|$86520.00\n",
            "31784|YERKES,  TIMOTHY J|PARAMEDIC|FIRE|$54114.00\n",
            "31785|YERSICH,  JEFFREY M|CONSTRUCTION LABORER|WATER MGMNT|$79040.00\n",
            "31786|YE,  SONG D|SENIOR COMPANION|FAMILY & SUPPORT|$2756.00\n",
            "31787|YE,  SONG P|SENIOR COMPANION|FAMILY & SUPPORT|$2756.00\n",
            "31788|YESUFU,  STEPHANIE A|CIVIL ENGINEER III|TRANSPORTN|$87036.00\n",
            "31789|YI,  RICHARD Y|POLICE OFFICER|POLICE|$83616.00\n",
            "31790|YNIGUEZ,  JOHN J|POLICE OFFICER (ASSIGNED AS DETECTIVE)|POLICE|$97044.00\n",
            "31791|YNIGUEZ,  MICHAEL J|FIRE ENGINEER-EMT|FIRE|$99324.00\n",
            "31792|YOCKEY,  RODNEY M|POLICE OFFICER|POLICE|$80778.00\n",
            "31793|YODER,  TERESA G|ARCHIVAL SPECIALIST|PUBLIC LIBRARY|$72840.00\n",
            "31794|YOHANNA,  ALISON|LAW CLERK|LAW|$25152.40\n",
            "31795|YOHANNA,  JOSEPH K|POLICE OFFICER|POLICE|$80778.00\n",
            "31796|YOKAS,  JENNIFER|PARAMEDIC|FIRE|$73296.00\n",
            "31797|YOKELY,  DARYL A|AVIATION SECURITY OFFICER|AVIATION|$67212.00\n",
            "31798|YONG,  RICKY|FOREMAN OF MOTOR TRUCK DRIVERS|STREETS & SAN|$75732.80\n",
            "31799|YONOVER,  SCOTT D|DEPUTY DIR|FINANCE|$127824.00\n",
            "31800|YONUSHATIS,  EDWARD J|CONSTRUCTION LABORER|WATER MGMNT|$79040.00\n",
            "31801|YOON,  CHUNG SUE|LIBRARY CLERK|PUBLIC LIBRARY|$45972.00\n",
            "31802|YOON,  JUNKOO|LIBRARIAN II|PUBLIC LIBRARY|$59352.00\n",
            "31803|YORK,  THOMAS L|STEAMFITTER|GENERAL SERVICES|$95680.00\n",
            "31804|YOSHIMURA,  EDDIE M|SERGEANT|POLICE|$110370.00\n",
            "31805|YOSHIMURA,  MARUJA|FILTRATION ENGINEER II|WATER MGMNT|$65460.00\n",
            "31806|YOST,  JASON D|DEPUTY COMPTROLLER|FINANCE|$118080.00\n",
            "31807|YOST,  ROBERT R|POLICE OFFICER|POLICE|$86520.00\n",
            "31808|YOUNAN,  MICHAEL G|POLICE OFFICER|POLICE|$83616.00\n",
            "31809|YOUNAN,  ZIA|PARKING ENFORCEMENT AIDE|FINANCE|$35328.00\n",
            "31810|YOUNG,  AMANDA|FOSTER GRANDPARENT|FAMILY & SUPPORT|$2756.00\n",
            "31811|YOUNG,  ANNA R|TITLE V PROGRAM TRAINEE I|FAMILY & SUPPORT|$8580.00\n",
            "31812|YOUNG,  ANNETTE|CROSSING GUARD|POLICE|$18324.80\n",
            "31813|YOUNG,  ARTHUR M|SERGEANT|POLICE|$103590.00\n",
            "31814|YOUNG,  ASTON J|SANITATION LABORER|STREETS & SAN|$72384.00\n",
            "31815|YOUNGBLOOM,  LAURENCE G|CRIMES SURVEILLANCE SPECIALIST|OEMC|$19676.80\n",
            "31816|YOUNG,  BRIAN E|DETENTION AIDE|POLICE|$67212.00\n",
            "31817|YOUNG,  BRUCE|GENERAL LABORER - DSS|STREETS & SAN|$43201.60\n",
            "31818|YOUNG,  CARLIE|POLICE OFFICER|POLICE|$86520.00\n",
            "31819|YOUNG,  CAROLYN M|POLICE OFFICER|POLICE|$80778.00\n",
            "31820|YOUNG,  CHARLES C|POOL MOTOR TRUCK DRIVER|STREETS & SAN|$71780.80\n",
            "31821|YOUNG,  CHERRY L|CROSSING GUARD|POLICE|$22131.20\n",
            "31822|YOUNG,  CHRISTOPHER C|POLICE OFFICER|POLICE|$83616.00\n",
            "31823|YOUNG,  CHRISTOPHER K|POOL MOTOR TRUCK DRIVER|STREETS & SAN|$71780.80\n",
            "31824|YOUNG,  CLEOTIS|CONSTRUCTION LABORER|WATER MGMNT|$79040.00\n",
            "31825|YOUNG,  CRYSTAL V|AVIATION COMMUNICATIONS OPERATOR|OEMC|$61260.00\n",
            "31826|YOUNG,  DANA A|POLICE COMMUNICATIONS OPERATOR II|OEMC|$70404.00\n",
            "31827|YOUNG,  DANIEL J|POLICE OFFICER|POLICE|$89718.00\n",
            "31828|YOUNG,  DARRYL|POLICE OFFICER|POLICE|$83616.00\n",
            "31829|YOUNG,  DERRICK|POLICE COMMUNICATIONS OPERATOR II|OEMC|$73764.00\n",
            "31830|YOUNG,  DEVONNA R|POLICE OFFICER|POLICE|$86520.00\n",
            "31831|YOUNG,  DIANE|ADMINISTRATIVE ASST II|HEALTH|$66684.00\n",
            "31832|YOUNG,  EMILE L|ASST COMPTROLLER|FINANCE|$111216.00\n",
            "31833|YOUNG,  EUNICE|SENIOR COMPANION|FAMILY & SUPPORT|$2756.00\n",
            "31834|YOUNG,  GERALDINE|CRIMINAL HISTORY ANALYST|POLICE|$80328.00\n",
            "31835|YOUNG,  GREGORY J|POLICE OFFICER|POLICE|$80778.00\n",
            "31836|YOUNG,  IRENE S|POLICE COMMUNICATIONS OPERATOR II|OEMC|$80940.00\n",
            "31837|YOUNG,  JAMES G|POLICE OFFICER|POLICE|$92316.00\n",
            "31838|YOUNG,  JERMAINE M|POLICE OFFICER|POLICE|$80778.00\n",
            "31839|YOUNG,  JERRY L|CLERK III|POLICE|$55428.00\n",
            "31840|YOUNG,  JOHN A|CONSTRUCTION LABORER|WATER MGMNT|$79040.00\n",
            "31841|YOUNG JR,  KENNETH|POLICE OFFICER|POLICE|$89718.00\n",
            "31842|YOUNG JR,  LEROY|CONSUMER INVESTIGATOR I|BUSINESS AFFAIRS|$69888.00\n",
            "31843|YOUNG,  KENNETH|DETENTION AIDE|POLICE|$67212.00\n",
            "31844|YOUNG,  KRISTY|CROSSING GUARD - PER AGREEMENT|POLICE|$13790.40\n",
            "31845|YOUNG,  LADIVA M|TREE TRIMMER|STREETS & SAN|$74464.00\n",
            "31846|YOUNG,  LARRY|OPERATING ENGINEER-GROUP C|AVIATION|$93745.60\n",
            "31847|YOUNG,  LASHAUN|TRAFFIC CONTROL AIDE-HOURLY|OEMC|$19656.00\n",
            "31848|YOUNG,  LINDA F|SANITATION LABORER|STREETS & SAN|$72384.00\n",
            "31849|YOUNG,  LONNIE D|POLICE OFFICER|POLICE|$86520.00\n",
            "31850|YOUNG,  MAURICE A|FIREFIGHTER-EMT (RECRUIT)|FIRE|$54114.00\n",
            "31851|YOUNG,  MICHELE D|CROSSING GUARD|POLICE|$22131.20\n",
            "31852|YOUNG,  PAUL D|POLICE OFFICER|POLICE|$80778.00\n",
            "31853|YOUNG,  RASHIDA L|POLICE OFFICER|POLICE|$80778.00\n",
            "31854|YOUNG,  RAY W|SERGEANT|POLICE|$106920.00\n",
            "31855|YOUNG,  RITA T|TIMEKEEPER - CPD|POLICE|$73200.00\n",
            "31856|YOUNG,  ROBERT A|POLICE OFFICER|POLICE|$86520.00\n",
            "31857|YOUNG,  RONALD L|LIEUTENANT|FIRE|$110370.00\n",
            "31858|YOUNG,  SARAH L|MANAGER OF DATA ENTRY OPERATORS|FIRE|$57648.00\n",
            "31859|YOUNG,  STEPHEN L|FIREFIGHTER|FIRE|$93594.00\n",
            "31860|YOUNG,  STEVEN A|POLICE OFFICER|POLICE|$89718.00\n",
            "31861|YOUNG,  SUSAN E|POLICE OFFICER|POLICE|$80778.00\n",
            "31862|YOUNG,  TAMARA S|HEAD LIBRARY CLERK|PUBLIC LIBRARY|$60780.00\n",
            "31863|YOUNG,  THOMAS E|FIREFIGHTER/PARAMEDIC|FIRE|$90798.00\n",
            "31864|YOUNG,  THOMAS P|POLICE OFFICER|POLICE|$89718.00\n",
            "31865|YOUNG,  TORRI R|DENTAL ASST|HEALTH|$55428.00\n",
            "31866|YOUNG,  YVONNE M|TRAFFIC CONTROL AIDE-HOURLY|OEMC|$19656.00\n",
            "31867|YOUNKINS,  MARK A|CONTRACTS COMPLIANCE COORD|HEALTH|$80916.00\n",
            "31868|YOUNKINS,  RHONDA C|POLICE COMMUNICATIONS OPERATOR I|OEMC|$61260.00\n",
            "31869|YOUSIF,  EVAN F|POLICE OFFICER|POLICE|$83616.00\n",
            "31870|YOUSTRA,  RYAN|POLICE OFFICER|POLICE|$73296.00\n",
            "31871|YOZA,  KENNETH K|FIRE ENGINEER|FIRE|$93648.00\n",
            "31872|YRACHETA,  LORI|POOL MOTOR TRUCK DRIVER|AVIATION|$71780.80\n",
            "31873|YUE,  HENRY K|ACCOUNTANT I|FINANCE|$72840.00\n",
            "31874|YUEN,  ELLEN|HEAD LIBRARY CLERK|PUBLIC LIBRARY|$60780.00\n",
            "31875|YUE,  WILLIAM K|PREPRESS TECHNICIAN|GENERAL SERVICES|$50160.00\n",
            "31876|YUKAWA,  LAURA G|POLICE OFFICER|POLICE|$89718.00\n",
            "31877|YU,  LIANG W|LIBRARY CLERK|PUBLIC LIBRARY|$38208.00\n",
            "31878|YU,  MING Z|SENIOR COMPANION|FAMILY & SUPPORT|$2756.00\n",
            "31879|YUNG,  MAY|POOL MOTOR TRUCK DRIVER|STREETS & SAN|$71780.80\n",
            "31880|YUNG,  TIMOTHY|SUPVSR OF AUDITING|FINANCE|$99108.00\n",
            "31881|YURISICH,  DONALD M|POLICE OFFICER (ASSIGNED AS DETECTIVE)|POLICE|$93648.00\n",
            "31882|YUSUF,  MOHAMMAD A|POLICE OFFICER|POLICE|$83616.00\n",
            "31883|YU,  WAN FANG|LIBRARIAN I|PUBLIC LIBRARY|$59352.00\n",
            "31884|YZAGUIRRE,  MICHAEL R|POLICE OFFICER|POLICE|$89718.00\n",
            "31885|ZABEL,  SHERRY|CLERK - BD OF ELECTIONS|BOARD OF ELECTION|$28608.00\n",
            "31886|ZABER,  GREGORY S|ASST CHIEF OPERATING ENGINEER|WATER MGMNT|$108534.40\n",
            "31887|ZABER,  NICHOLAS E|SERGEANT|POLICE|$106920.00\n",
            "31888|ZABLOCKI,  EDMUND F|POLICE OFFICER|POLICE|$83616.00\n",
            "31889|ZACCAGNINI,  GEORGE J|CAPTAIN-EMT|FIRE|$131466.00\n",
            "31890|ZACCAGNINI,  JOSEPH A|OPERATING ENGINEER-GROUP A|AVIATION|$98675.20\n",
            "31891|ZACCAGNINO,  JOSEPH A|POLICE OFFICER|POLICE|$83616.00\n",
            "31892|ZACCONE,  THOMAS S|POLICE OFFICER|POLICE|$80778.00\n",
            "31893|ZACEK,  DAVID R|POLICE OFFICER|POLICE|$89718.00\n",
            "31894|ZACEK,  DEBRA A|POLICE OFFICER|POLICE|$86520.00\n",
            "31895|ZACH,  MICHAEL D|FIREFIGHTER/PARAMEDIC|FIRE|$79584.00\n",
            "31896|ZADURA,  STEFAN W|POLICE OFFICER|POLICE|$83616.00\n",
            "31897|ZAENTZ,  JONATHAN A|PARAMEDIC FIELD CHIEF|FIRE|$128004.00\n",
            "31898|ZAFIRIS,  CHRISTOPHER|ARCHITECT IV|DISABILITIES|$104736.00\n",
            "31899|ZAGLOBA,  AMANDA L|LIBRARIAN I|PUBLIC LIBRARY|$53796.00\n",
            "31900|ZAGONE,  JOSEPH M|SEWER BRICKLAYER|WATER MGMNT|$88566.40\n",
            "31901|ZAGORSKI,  RUSSELL|POLICE OFFICER|POLICE|$69684.00\n",
            "31902|ZAHDAN,  HAZEM|FILTRATION ENGINEER III|WATER MGMNT|$95880.00\n",
            "31903|ZAHDAN,  MOEEN D|STAFF ASST TO THE ALDERMAN|CITY COUNCIL|$55656.00\n",
            "31904|ZAHDAN,  ZIYADEH D|PLUMBING INSPECTOR|WATER MGMNT|$99252.00\n",
            "31905|ZAHLMANN,  KRISTINE L|POLICE OFFICER|POLICE|$83616.00\n",
            "31906|ZAHN,  DAVID R|LIEUTENANT|POLICE|$116724.00\n",
            "31907|ZAHRADNIK,  JOSEPH|POLICE OFFICER|POLICE|$73296.00\n",
            "31908|ZAIB,  ZOHAIB|POLICE OFFICER|POLICE|$69684.00\n",
            "31909|ZAIDAN,  JENNIFER L|POLICE OFFICER|POLICE|$83616.00\n",
            "31910|ZAIDI,  SYED K|PARKING ENFORCEMENT AIDE|FINANCE|$46380.00\n",
            "31911|ZAJA,  ALAN J|BATTALION CHIEF|FIRE|$135480.00\n",
            "31912|ZAJAC,  ANTHONY M|FIRE ENGINEER-EMT|FIRE|$99324.00\n",
            "31913|ZAJAC,  JASON R|FIREFIGHTER-EMT|FIRE|$91764.00\n",
            "31914|ZAJAC,  MARTIN E|FIREFIGHTER-EMT (RECRUIT)|FIRE|$54114.00\n",
            "31915|ZAJAC,  VICTOR D|FIREFIGHTER (PER ARBITRATORS AWARD)-PARAMEDIC|FIRE|$98244.00\n",
            "31916|ZAJCZENKO,  STEFAN W|POLICE OFFICER|POLICE|$86520.00\n",
            "31917|ZAJDZINSKI,  VINCENT|MACHINIST (AUTOMOTIVE)|GENERAL SERVICES|$92248.00\n",
            "31918|ZAKEE,  AMEER|FIREFIGHTER-EMT|FIRE|$85680.00\n",
            "31919|ZAKE,  JOSHUA S|CIVIL ENGINEER IV|TRANSPORTN|$104736.00\n",
            "31920|ZAK,  ELIZABETH V|POLICE COMMUNICATIONS OPERATOR II|OEMC|$73764.00\n",
            "31921|ZALA,  VEEJAY N|POLICE OFFICER|POLICE|$86520.00\n",
            "31922|ZALESKI,  MARIUSZ|AVIATION SECURITY OFFICER|AVIATION|$64188.00\n",
            "31923|ZALEWSKI,  DANIEL L|POLICE OFFICER|POLICE|$92316.00\n",
            "31924|ZALEWSKI,  FRANK A|POOL MOTOR TRUCK DRIVER|STREETS & SAN|$71780.80\n",
            "31925|ZALEWSKI,  JOHN E|POLICE OFFICER (ASSIGNED AS DETECTIVE)|POLICE|$97044.00\n",
            "31926|ZALEWSKI,  MARK|POLICE OFFICER|POLICE|$86520.00\n",
            "31927|ZALEWSKI,  MICHAEL R|ALDERMAN|CITY COUNCIL|$114996.00\n",
            "31928|ZALINSKI,  ANDRZEJ|POLICE OFFICER|POLICE|$65946.00\n",
            "31929|ZALINSKI,  DONALD E|POLICE OFFICER|POLICE|$86520.00\n",
            "31930|ZALINSKI,  KIMBERLY S|POLICE OFFICER|POLICE|$86520.00\n",
            "31931|ZALINSKI,  SHANNON M|LIBRARIAN I|PUBLIC LIBRARY|$72840.00\n",
            "31932|ZALINSKI,  STANISLAW|POLICE OFFICER|POLICE|$80778.00\n",
            "31933|ZALLER,  MATTHEW J|FIREFIGHTER/PARAMEDIC|FIRE|$87720.00\n",
            "31934|ZAMARRIPA,  CRUZ C|CROSSING GUARD|POLICE|$18324.80\n",
            "31935|ZAMAYOA,  ALYSSA-MARIE|PROGRAM AIDE|POLICE|$9360.00\n",
            "31936|ZAMBRANO,  EMMANUEL|POLICE OFFICER|POLICE|$69684.00\n",
            "31937|ZAMBRANO,  JAVIER A|POLICE OFFICER|POLICE|$83616.00\n",
            "31938|ZAMBRANO JR,  LUIS|POLICE OFFICER (ASSIGNED AS SECURITY SPECIALIST)|POLICE|$106920.00\n",
            "31939|ZAMBRANO,  SONIA|POLICE OFFICER|POLICE|$83616.00\n",
            "31940|ZAMOJSKA,  MARTA K|POLICE OFFICER|POLICE|$69684.00\n",
            "31941|ZAMOJSKI,  CAROLYN|CROSSING GUARD|POLICE|$22131.20\n",
            "31942|ZAMORA,  ANTHONY M|POLICE OFFICER|POLICE|$80778.00\n",
            "31943|ZAMORA,  CARLOS A|POLICE OFFICER|POLICE|$83616.00\n",
            "31944|ZAMORA,  HECTOR M|POOL MOTOR TRUCK DRIVER|AVIATION|$71780.80\n",
            "31945|ZAMORA II,  MARTIN|POOL MOTOR TRUCK DRIVER|TRANSPORTN|$71780.80\n",
            "31946|ZAMORA,  JANE F|PROGRAM AUDITOR II|HEALTH|$73200.00\n",
            "31947|ZAMORA,  JESUS|GENERAL LABORER - DSS|STREETS & SAN|$43201.60\n",
            "31948|ZAMORA,  LEONCIO|ASPHALT LABORER|TRANSPORTN|$79040.00\n",
            "31949|ZAMORA,  LOUIS C|FIREFIGHTER-EMT|FIRE|$99258.00\n",
            "31950|ZAMORA,  MARTIN|MOTOR TRUCK DRIVER|STREETS & SAN|$71780.80\n",
            "31951|ZAMORA,  MICHAEL|FIRE ENGINEER-EMT|FIRE|$99324.00\n",
            "31952|ZAMORA,  PASCUAL|MOTOR TRUCK DRIVER|STREETS & SAN|$71780.80\n",
            "31953|ZAMORA,  REBECCA A|ADMIN SERVICES OFFICER I-EXCLUDED|POLICE|$64152.00\n",
            "31954|ZAMUDIO,  JAIME|FIREFIGHTER|FIRE|$90018.00\n",
            "31955|ZAMZOW,  ANNE E|POLICE OFFICER|POLICE|$83616.00\n",
            "31956|ZANDERS,  JERRY J|POLICE OFFICER|POLICE|$83616.00\n",
            "31957|ZANGARIYA,  SOHEB M|TRAFFIC CONTROL AIDE-HOURLY|OEMC|$19656.00\n",
            "31958|ZANIN,  MICHAEL J|ELECTRICAL MECHANIC|GENERAL SERVICES|$91520.00\n",
            "31959|ZANKO,  JESSE A|AVIATION SECURITY OFFICER|AVIATION|$48924.00\n",
            "31960|ZAPATA,  HUGO|SR PROCUREMENT SPECIALIST|PROCUREMENT|$84780.00\n",
            "31961|ZAPATA,  JOSHUA|POLICE OFFICER|POLICE|$83616.00\n",
            "31962|ZAPATA,  MARGIE|TRAFFIC CONTROL AIDE|OEMC|$35328.00\n",
            "31963|ZAPATA,  MARIA G|POLICE OFFICER|POLICE|$80778.00\n",
            "31964|ZAPATA,  PEDRO|POLICE OFFICER|POLICE|$86520.00\n",
            "31965|ZARAGOZA,  GREGORY|POLICE OFFICER|POLICE|$89718.00\n",
            "31966|ZARAGOZA,  JUAN F|POLICE OFFICER|POLICE|$89718.00\n",
            "31967|ZARAGOZA,  MARTHA G|POLICE OFFICER|POLICE|$86520.00\n",
            "31968|ZARAGOZA,  MICHAEL|POLICE OFFICER|POLICE|$69684.00\n",
            "31969|ZARAGOZA,  RAYMUNDO|POLICE OFFICER|POLICE|$83616.00\n",
            "31970|ZARATE,  MARCOS|ELECTRICAL MECHANIC-AUTO-POLICE MTR MNT|GENERAL SERVICES|$91520.00\n",
            "31971|ZARATE,  RICHARD L|FIRE ENGINEER-EMT|FIRE|$105918.00\n",
            "31972|ZARATE,  ROSIEL|SENIOR BUSINESS CONSULTANT|BUSINESS AFFAIRS|$67224.00\n",
            "31973|ZARBOCK,  NICK F|POLICE OFFICER|POLICE|$86520.00\n",
            "31974|ZARCO,  GAMALIEL|POLICE OFFICER|POLICE|$69684.00\n",
            "31975|ZARCONE,  ANTHONY J|FIREFIGHTER|FIRE|$90018.00\n",
            "31976|ZAREMBA,  WILLIAM M|DETENTION AIDE|POLICE|$61260.00\n",
            "31977|ZARESKI,  WALTER S|POOL MOTOR TRUCK DRIVER|STREETS & SAN|$71780.80\n",
            "31978|ZARIC,  MARKO|STAFF ASST TO THE ALDERMAN|CITY COUNCIL|$45684.00\n",
            "31979|ZARKY,  ROGER P|GARAGE ATTENDANT|GENERAL SERVICES|$46592.00\n",
            "31980|ZARLENGA,  MICHAEL C|SANITATION LABORER|STREETS & SAN|$72384.00\n",
            "31981|ZARLENGA,  NICHOLAS|FIREFIGHTER-EMT|FIRE|$85680.00\n",
            "31982|ZAROBSKY,  JEFFREY O|FIREFIGHTER/PARAMEDIC|FIRE|$87720.00\n",
            "31983|ZARO,  NICHOLAS J|WARD SUPERINTENDENT|STREETS & SAN|$97416.00\n",
            "31984|ZATORA,  MONIKA|POLICE OFFICER|POLICE|$80778.00\n",
            "31985|ZATORA,  TOMASZ M|POLICE OFFICER|POLICE|$80778.00\n",
            "31986|ZATOR,  KENNETH W|AVIATION SECURITY OFFICER - HOURLY|AVIATION|$22120.80\n",
            "31987|ZATOR,  KEVIN M|AVIATION SECURITY SERGEANT|AVIATION|$67224.00\n",
            "31988|ZATTAIR,  NICK|POLICE OFFICER|POLICE|$89718.00\n",
            "31989|ZAUCEDO,  JOSE C|FIREFIGHTER-EMT|FIRE|$88680.00\n",
            "31990|ZAUKAS,  RYAN M|POOL MOTOR TRUCK DRIVER|TRANSPORTN|$71780.80\n",
            "31991|ZAVALA,  FERNANDO|ACCOUNTANT IV|FINANCE|$95880.00\n",
            "31992|ZAVALA,  JOSUE|CONCRETE LABORER|TRANSPORTN|$79040.00\n",
            "31993|ZAVALA,  MARK A|LABORER|TRANSPORTN|$71136.00\n",
            "31994|ZAVALA,  MATTHEW R|SERVICE WRITER|GENERAL SERVICES|$61356.00\n",
            "31995|ZAVALA,  MICHAEL D|FRM OF MACHINISTS - AUTOMOTIVE|GENERAL SERVICES|$97448.00\n",
            "31996|ZAVALA,  OLGA|CROSSING GUARD|POLICE|$17492.80\n",
            "31997|ZAVALA,  ROBERTO|POLICE OFFICER|POLICE|$69684.00\n",
            "31998|ZAVALA,  SHALINA P|DATA ENTRY OPERATOR|POLICE|$41952.00\n",
            "31999|ZAVALA,  VICTOR M|EQUIPMENT DISPATCHER|GENERAL SERVICES|$73028.80\n",
            "32000|ZAVALA,  WENSESLAO|POLICE OFFICER|POLICE|$83616.00\n",
            "32001|ZAVALETA,  RAMON|POLICE OFFICER|POLICE|$83616.00\n",
            "32002|ZAVISTAUSKAS,  ROMAS|PLUMBER|WATER MGMNT|$97032.00\n",
            "32003|ZAVOS,  JAMES M|POOL MOTOR TRUCK DRIVER|STREETS & SAN|$71780.80\n",
            "32004|ZAWADA,  RICHARD A|POLICE OFFICER|POLICE|$89718.00\n",
            "32005|ZAWADA,  ROMAN F|POLICE OFFICER|POLICE|$83616.00\n",
            "32006|ZAWADSKI,  JAMES|CLERK IV|LAW|$66684.00\n",
            "32007|ZAWADZKI,  SHELLEY M|LIBRARIAN III|PUBLIC LIBRARY|$83256.00\n",
            "32008|ZAWILA,  MARK A|POLICE OFFICER (ASSIGNED AS DETECTIVE)|POLICE|$97044.00\n",
            "32009|ZAWILA,  ROBERT|POOL MOTOR TRUCK DRIVER|STREETS & SAN|$71780.80\n",
            "32010|ZAWORA,  JOHN M|SUPVSR OF LOT CLEANING SERVICES|STREETS & SAN|$92304.00\n",
            "32011|ZAYAS,  ALBERTO H|POLICE OFFICER|POLICE|$80778.00\n",
            "32012|ZAYAS,  ALEXIS M|POLICE OFFICER|POLICE|$76902.00\n",
            "32013|ZAYAS JR,  ANDRES|SERGEANT|POLICE|$106920.00\n",
            "32014|ZAYED,  SAMERA Z|DISABILITY SPECIALIST II|DISABILITIES|$80424.00\n",
            "32015|ZBELA,  KRYSTYNA Z|POLICE OFFICER|POLICE|$80778.00\n",
            "32016|ZBIKOWSKI,  THOMAS M|FIREFIGHTER-EMT (RECRUIT)|FIRE|$54114.00\n",
            "32017|ZBOREK,  ROBERT|VETERINARY ASST|ANIMAL CONTRL|$60780.00\n",
            "32018|ZBORIL,  NORA A|PUBLIC RELATIONS REPRESENTATIVE III|CULTURAL AFFAIRS|$70380.00\n",
            "32019|ZDANYS,  DAVID A|POLICE OFFICER|POLICE|$86520.00\n",
            "32020|ZDEB,  MARK J|POLICE OFFICER|POLICE|$80778.00\n",
            "32021|ZDRZALKA,  PIOTR|POLICE OFFICER|POLICE|$69684.00\n",
            "32022|ZECEVICH,  DRAGAN|FOREMAN OF ELECTRICAL MECHANICS|WATER MGMNT|$97760.00\n",
            "32023|ZEFRAN,  FRANK J|CONSTRUCTION LABORER|WATER MGMNT|$79040.00\n",
            "32024|ZEFRAN,  JOHN L|ASST GENERAL SUPT OF STREETS AND SANITATION|STREETS & SAN|$93024.00\n",
            "32025|ZEGA,  JAMES E|POLICE OFFICER|POLICE|$89718.00\n",
            "32026|ZEGLIS,  THERESA|POLICE OFFICER|POLICE|$69684.00\n",
            "32027|ZEHAR,  DONALD L|CONSTRUCTION LABORER|AVIATION|$79040.00\n",
            "32028|ZEIGER,  EDWARD A|POLICE COMMUNICATIONS OPERATOR I|OEMC|$77220.00\n",
            "32029|ZEIGLER,  RICK A|FIREFIGHTER (PER ARBITRATORS AWARD)-PARAMEDIC|FIRE|$108462.00\n",
            "32030|ZEIMYS,  ERIK M|HOISTING ENGINEER - MECHANIC|GENERAL SERVICES|$104208.00\n",
            "32031|ZELAYA,  MANUEL E|FOREMAN OF PAINTERS|AVIATION|$97697.60\n",
            "32032|ZELEZNAK,  MARK J|ELECTRICAL MECHANIC-AUTO-POLICE MTR MNT|GENERAL SERVICES|$91520.00\n",
            "32033|ZELIG,  DAVID J|POLICE OFFICER|POLICE|$89718.00\n",
            "32034|ZELITZKY,  ADAM R|SERGEANT|POLICE|$110370.00\n",
            "32035|ZELLER,  DANIEL J|FIREFIGHTER/PARAMEDIC|FIRE|$87720.00\n",
            "32036|ZELLER,  ELIZABETH M|PARAMEDIC I/C|FIRE|$87534.00\n",
            "32037|ZEMEK,  HELEN O|LIEUTENANT|POLICE|$120264.00\n",
            "32038|ZEMKE,  CRAIG M|SUPVSR OF CHILDREN SERVICES PROGRAMS|FAMILY & SUPPORT|$67224.00\n",
            "32039|ZEMKE,  RICHARD P|MACHINIST|AVIATION|$92248.00\n",
            "32040|ZENDEJAS,  RUBEN|FIREFIGHTER/PARAMEDIC|FIRE|$93942.00\n",
            "32041|ZENERE,  MARCO|POLICE OFFICER|POLICE|$69684.00\n",
            "32042|ZENI,  MOHAMMAD S|GARAGE ATTENDANT|GENERAL SERVICES|$46592.00\n",
            "32043|ZENO DAVIS,  CHARISSE J|POLICE OFFICER|POLICE|$89718.00\n",
            "32044|ZEPEDA,  ADRIAN|POLICE OFFICER|POLICE|$80778.00\n",
            "32045|ZEPEDA,  ANDRES A|POLICE OFFICER|POLICE|$83616.00\n",
            "32046|ZEPEDA,  CARLOS|CONSTRUCTION LABORER|WATER MGMNT|$79040.00\n",
            "32047|ZEPEDA,  ERNESTO|TREE TRIMMER|STREETS & SAN|$74464.00\n",
            "32048|ZEPEDA,  JOSE R|CONSTRUCTION LABORER|WATER MGMNT|$79040.00\n",
            "32049|ZEPEDA,  LILIANA|POLICE OFFICER|POLICE|$69684.00\n",
            "32050|ZEPEDA,  LUIS|WARD SUPERINTENDENT|STREETS & SAN|$83940.00\n",
            "32051|ZEPEDA,  SERGIO|ELECTRICAL MECHANIC|AVIATION|$91520.00\n",
            "32052|ZERITIS,  ANGELO G|FIRE ENGINEER-EMT|FIRE|$95958.00\n",
            "32053|ZERMENO,  OSCAR|POLICE OFFICER|POLICE|$80778.00\n",
            "32054|ZERVAS,  NICHOLAS J|LIEUTENANT-EMT|FIRE|$106524.00\n",
            "32055|ZEUTSCHEL,  PAUL R|FIREFIGHTER-EMT|FIRE|$85680.00\n",
            "32056|ZHANG,  ANNE|CIVIL ENGINEER III|TRANSPORTN|$72120.00\n",
            "32057|ZHANG,  JACKIE L|FOREMAN OF CEMENT FINISHERS|TRANSPORTN|$93808.00\n",
            "32058|ZHANG,  JENNIFER|HEAD LIBRARY CLERK|PUBLIC LIBRARY|$52848.00\n",
            "32059|ZHANG,  KEFENG|ACCOUNTING TECHNICIAN II|FINANCE|$58020.00\n",
            "32060|ZHEN,  CHRISTINE|LIBRARY PAGE|PUBLIC LIBRARY|$12407.20\n",
            "32061|ZIA,  GREGORY P|POLICE OFFICER|POLICE|$83616.00\n",
            "32062|ZIA,  KEVIN M|POLICE OFFICER|POLICE|$83616.00\n",
            "32063|ZIARNO,  ELIZABETH|PARALEGAL II|LAW|$73200.00\n",
            "32064|ZICK,  JOYCE E|CLINICAL THERAPIST III|HEALTH|$95880.00\n",
            "32065|ZIC SCHLOMAS,  VIRGINIA M|SERGEANT|POLICE|$110370.00\n",
            "32066|ZIEBA,  AGNIESZKA|POLICE OFFICER|POLICE|$69684.00\n",
            "32067|ZIEDMAN,  CRAIG R|POLICE OFFICER|POLICE|$86520.00\n",
            "32068|ZIEGENBEIN,  HANS T|LIEUTENANT-EMT|FIRE|$109872.00\n",
            "32069|ZIEGLER,  BARBARA G|CLERK CITY COUNCIL|CITY COUNCIL|$27300.00\n",
            "32070|ZIEGLER,  WILLIAM F|POLICE OFFICER|POLICE|$86520.00\n",
            "32071|ZIELINSKI,  JOHN D|POLICE OFFICER|POLICE|$89718.00\n",
            "32072|ZIELINSKI,  KAREN L|TRAFFIC CONTROL AIDE-HOURLY|OEMC|$19656.00\n",
            "32073|ZIELINSKI,  MICHAEL A|FIRE ENGINEER|FIRE|$93648.00\n",
            "32074|ZIELINSKI,  ROBERT|FOREMAN OF CEMENT FINISHERS|TRANSPORTN|$93808.00\n",
            "32075|ZIELINSKI,  ROBERT C|POLICE OFFICER|POLICE|$86520.00\n",
            "32076|ZIELINSKI,  TECLA|CROSSING GUARD|POLICE|$22131.20\n",
            "32077|ZIELINSKI,  THEODORE J|PLUMBER|WATER MGMNT|$97032.00\n",
            "32078|ZIEMANN,  DAVID M|CONSTRUCTION LABORER|WATER MGMNT|$79040.00\n",
            "32079|ZIEMANN,  DONALD W|MOTOR TRUCK DRIVER|WATER MGMNT|$71780.80\n",
            "32080|ZIEMAN,  ROBERT|POLICE OFFICER|POLICE|$65946.00\n",
            "32081|ZIEMBA,  DONALD P|FIREFIGHTER-EMT|FIRE|$88680.00\n",
            "32082|ZIEMBA,  JOSEPH M|POLICE COMMUNICATIONS OPERATOR II|OEMC|$77220.00\n",
            "32083|ZIEMBA,  LLOYD W|LIEUTENANT-EMT|FIRE|$109872.00\n",
            "32084|ZIEMBA,  TIM C|POLICE OFFICER|POLICE|$86520.00\n",
            "32085|ZIENTARSKI,  DAVID A|OPERATING ENGINEER-GROUP A|GENERAL SERVICES|$98675.20\n",
            "32086|ZIGELMAN,  BENJAMIN M|LIBRARY CLERK|PUBLIC LIBRARY|$40008.00\n",
            "32087|ZIGELMAN,  LILYA|LIBRARIAN III|PUBLIC LIBRARY|$83256.00\n",
            "32088|ZILCH,  MARK|FIREFIGHTER-EMT|FIRE|$85680.00\n",
            "32089|ZILSKE,  KEITH J|FIREFIGHTER|FIRE|$65946.00\n",
            "32090|ZIMMERMAN,  EDWARD A|POOL MOTOR TRUCK DRIVER|AVIATION|$71780.80\n",
            "32091|ZIMMERMAN,  SARAH V|LIBRARIAN I|PUBLIC LIBRARY|$72840.00\n",
            "32092|ZIMO,  JOHN|FIREFIGHTER/PARAMEDIC|FIRE|$90798.00\n",
            "32093|ZIMS,  NATEESHA A|AVIATION COMMUNICATIONS OPERATOR|OEMC|$64188.00\n",
            "32094|ZINCHUK,  BRIAN C|OPERATING ENGINEER-GROUP C|WATER MGMNT|$93745.60\n",
            "32095|ZINCHUK,  JOHN M|POLICE OFFICER|POLICE|$83616.00\n",
            "32096|ZINGARELLI,  JOHN M|FIREFIGHTER|FIRE|$80778.00\n",
            "32097|ZINK,  JAMES H|FIREFIGHTER|FIRE|$80778.00\n",
            "32098|ZIOLKOWSKI,  THOMAS P|FIREFIGHTER/PARAMEDIC|FIRE|$83514.00\n",
            "32099|ZIOMEK,  JEFFREY G|POOL MOTOR TRUCK DRIVER|TRANSPORTN|$71780.80\n",
            "32100|ZIRNGIBL,  DIANE M|STAFF ASST|AVIATION|$73200.00\n",
            "32101|ZITTNAN,  VINCENT M|PARAMEDIC I/C|FIRE|$83370.00\n",
            "32102|ZIVAT,  MATTHEW|POLICE OFFICER|POLICE|$92316.00\n",
            "32103|ZIVAT,  MICHAEL|CONSTRUCTION LABORER|WATER MGMNT|$79040.00\n",
            "32104|ZIZUMBO,  DANIEL|POOL MOTOR TRUCK DRIVER|WATER MGMNT|$71780.80\n",
            "32105|ZIZUMBO,  DAVID|MOTOR TRUCK DRIVER|STREETS & SAN|$71780.80\n",
            "32106|ZIZUMBO,  FABIOLA|SANITATION LABORER|STREETS & SAN|$72384.00\n",
            "32107|ZIZUMBO,  JOSE N|MOTOR TRUCK DRIVER|STREETS & SAN|$72862.40\n",
            "32108|ZIZUMBO,  LUIS|MOTOR TRUCK DRIVER|STREETS & SAN|$71780.80\n",
            "32109|ZIZZO,  RUSS D|MOTOR TRUCK DRIVER|AVIATION|$71780.80\n",
            "32110|ZLOTKOWSKI,  JEFFREY|POLICE OFFICER|POLICE|$89718.00\n",
            "32111|ZNAK,  ANDRIY|AVIATION SECURITY OFFICER|AVIATION|$48924.00\n",
            "32112|ZNAVOR,  THOMAS A|LIEUTENANT-PARAMEDIC|FIRE|$119868.00\n",
            "32113|ZOCHOWSKI,  DAVID J|OPERATING ENGINEER-GROUP C|AVIATION|$93745.60\n",
            "32114|ZODO,  ALEX J|POLICE OFFICER|POLICE|$83616.00\n",
            "32115|ZODO,  NICOLA E|SERGEANT|POLICE|$103590.00\n",
            "32116|ZOGG,  PAUL V|POLICE OFFICER|POLICE|$86520.00\n",
            "32117|ZOLDAN,  ANTON J|POLICE OFFICER|POLICE|$86520.00\n",
            "32118|ZOLLER,  DANIEL F|FIREFIGHTER|FIRE|$86520.00\n",
            "32119|ZOLLER,  RICHARD S|POLICE OFFICER|POLICE|$86520.00\n",
            "32120|ZOLLNER,  BRIAN T|FIREFIGHTER-EMT (RECRUIT)|FIRE|$54114.00\n",
            "32121|ZOLTEK,  JOHN J|ELECTRICAL MECHANIC-AUTO-POLICE MTR MNT|GENERAL SERVICES|$91520.00\n",
            "32122|ZON,  CHRISTOPHE K|FIREFIGHTER|FIRE|$86520.00\n",
            "32123|ZONSIUS,  MICHAEL|MANAGING DEPUTY COMMISSIONER|AVIATION|$148644.00\n",
            "32124|ZOOK,  JOHN S|POLICE OFFICER|POLICE|$89718.00\n",
            "32125|ZORNIAK,  ROMAN|FIREFIGHTER/PARAMEDIC|FIRE|$87720.00\n",
            "32126|ZOTTA,  CELESTINO|FIREFIGHTER|FIRE|$93594.00\n",
            "32127|ZOTTA,  FRANK|POLICE OFFICER|POLICE|$89718.00\n",
            "32128|ZOTTA,  SANDINO|MECHANICAL ENGINEER IV|WATER MGMNT|$104736.00\n",
            "32129|ZOVKO,  ERIKA|ADMINISTRATIVE ASST|MAYOR'S OFFICE|$62796.00\n",
            "32130|ZOVKO,  RICHARD A|HOISTING ENGINEER - MECHANIC|GENERAL SERVICES|$104208.00\n",
            "32131|ZUBB,  SHANNON M|POLICE OFFICER|POLICE|$80778.00\n",
            "32132|ZUBECK,  GINA M|POLICE OFFICER|POLICE|$86520.00\n",
            "32133|ZUBECK,  JAMES F|POLICE OFFICER|POLICE|$86520.00\n",
            "32134|ZUBER,  MICHAEL R|POLICE OFFICER (ASSIGNED AS DETECTIVE)|POLICE|$97044.00\n",
            "32135|ZUCCARELLI,  ROBERT A|BRIDGE AND STRUCTURAL IRON WORKER|TRANSPORTN|$89440.00\n",
            "32136|ZUCKER,  MICHAEL J|MACHINIST (AUTOMOTIVE)|GENERAL SERVICES|$92248.00\n",
            "32137|ZUELKE,  CHRISTOPHER W|PARAMEDIC|FIRE|$80778.00\n",
            "32138|ZUHR,  ANTHONY D|FIREFIGHTER-EMT|FIRE|$85680.00\n",
            "32139|ZUKLIC,  JASON M|FIREFIGHTER-EMT|FIRE|$85680.00\n",
            "32140|ZULEVIC,  JANAAN M|POLICE OFFICER|POLICE|$46206.00\n",
            "32141|ZULEY,  RICHARD P|PROJECTS ADMINISTRATOR|AVIATION|$77772.00\n",
            "32142|ZULFIC,  ALEN|POLICE OFFICER|POLICE|$46206.00\n",
            "32143|ZULKEY,  JOSEPH|POLICE OFFICER|POLICE|$69684.00\n",
            "32144|ZULLO,  GREGORY G|POLICE OFFICER|POLICE|$89718.00\n",
            "32145|ZULLO,  JOHN J|FIREFIGHTER|FIRE|$93594.00\n",
            "32146|ZUMARAS,  ROLAND A|AIRPORT MAINTENANCE FOREMAN|AVIATION|$69409.60\n",
            "32147|ZUMBROCK,  JOHN M|POLICE OFFICER|POLICE|$83616.00\n",
            "32148|ZUMMO,  ROBERT J|MOTOR TRUCK DRIVER|STREETS & SAN|$71780.80\n",
            "32149|ZUNICH,  JONATHAN G|SANITATION LABORER|STREETS & SAN|$72384.00\n",
            "32150|ZUNIGA JR,  JAMES|GARAGE ATTENDANT|GENERAL SERVICES|$46592.00\n",
            "32151|ZUNIGA,  JUAN M|POLICE OFFICER|POLICE|$83616.00\n",
            "32152|ZUNIGA,  JURDON|POLICE OFFICER|POLICE|$69684.00\n",
            "32153|ZUNIGA,  OSCAR|POLICE OFFICER|POLICE|$69684.00\n",
            "32154|ZUNIGA,  RONALD|POLICE OFFICER|POLICE|$86520.00\n",
            "32155|ZUNIGA,  THOMAS|GENERAL LABORER - DSS|STREETS & SAN|$43201.60\n",
            "32156|ZUNIGA,  VICENTE|FIREFIGHTER-EMT|FIRE|$88680.00\n",
            "32157|ZUNO,  ERIK|LABORER - APPRENTICE|WATER MGMNT|$63232.00\n",
            "32158|ZUPAN,  BILL M|LIEUTENANT-EMT|FIRE|$106524.00\n",
            "32159|ZUPANCIC,  KELLY|POLICE OFFICER|POLICE|$46206.00\n",
            "32160|ZUPAN,  VICTORIA J|POLICE OFFICER|POLICE|$80778.00\n",
            "32161|ZURAWSKI,  CAROL A|CROSSING GUARD|POLICE|$21080.80\n",
            "32162|ZURAWSKI,  JEFFREY|FRM OF MACHINISTS - AUTOMOTIVE|GENERAL SERVICES|$97448.00\n",
            "32163|ZURAWSKI,  MAC Z|SANITATION LABORER|STREETS & SAN|$72384.00\n",
            "32164|ZURAWSKI,  MARY E|POLICE OFFICER|POLICE|$89718.00\n",
            "32165|ZUREK,  FRANCIS|ELECTRICAL MECHANIC|OEMC|$91520.00\n",
            "32166|ZUREK,  MARY H|SENIOR PUBLIC INFORMATION OFFICER|FINANCE|$80916.00\n",
            "32167|ZURITA,  ADRIEL|POLICE OFFICER|POLICE|$46206.00\n",
            "32168|ZVANJA,  TINA M|LEGAL SECRETARY|LAW|$69888.00\n",
            "32169|ZWARYCZ MANN,  IRENE A|CROSSING GUARD|POLICE|$16692.00\n",
            "32170|ZWARYCZ,  THOMAS J|POOL MOTOR TRUCK DRIVER|WATER MGMNT|$71780.80\n",
            "32171|ZWIESLER,  MATTHEW|AIRPORT OPERATIONS SUPVSR I|AVIATION|$69840.00\n",
            "32172|ZWIT,  JEFFREY J|POLICE OFFICER|POLICE|$83616.00\n",
            "32173|ZWOLFER,  MATTHEW W|FIREFIGHTER-EMT|FIRE|$91764.00\n",
            "32174|ZYDEK,  BRYAN|POLICE OFFICER|POLICE|$80778.00\n",
            "32175|ZYGADLO,  JOHN P|MACHINIST (AUTOMOTIVE)|GENERAL SERVICES|$92248.00\n",
            "32176|ZYGADLO,  MICHAEL J|FRM OF MACHINISTS - AUTOMOTIVE|GENERAL SERVICES|$97448.00\n",
            "32177|ZYGOWICZ,  PETER J|POLICE OFFICER|POLICE|$86520.00\n",
            "32178|ZYMANTAS,  MARK E|POLICE OFFICER|POLICE|$83616.00\n",
            "32179|ZYRKOWSKI,  CARLO E|POLICE OFFICER|POLICE|$86520.00\n",
            "32180|ZYSKOWSKI,  DARIUSZ|CHIEF DATA BASE ANALYST|DoIT|$110352.00\n",
            "32181||||\n"
          ]
        }
      ]
    },
    {
      "cell_type": "code",
      "source": [
        "dates = pd.date_range('20180101', periods = 10)\n",
        "df = pd.DataFrame(np.random.randn(10,4), index = dates, columns = list('ABDC'))"
      ],
      "metadata": {
        "id": "yEBOKurcAgVX"
      },
      "execution_count": 17,
      "outputs": []
    },
    {
      "cell_type": "code",
      "source": [
        "df"
      ],
      "metadata": {
        "id": "GV6hbxjvBLsf",
        "outputId": "0631cea9-effe-4f5d-b154-32058220d21b",
        "colab": {
          "base_uri": "https://localhost:8080/",
          "height": 363
        }
      },
      "execution_count": 18,
      "outputs": [
        {
          "output_type": "execute_result",
          "data": {
            "text/plain": [
              "                   A         B         D         C\n",
              "2018-01-01 -1.123221  0.625538 -1.468574  0.411005\n",
              "2018-01-02  0.416058  1.514346 -0.074206 -0.099888\n",
              "2018-01-03  1.023791  1.668241 -1.116285  1.829497\n",
              "2018-01-04 -1.044991  0.725572 -1.381702 -0.932526\n",
              "2018-01-05 -0.358288 -0.692604 -0.423671  0.921837\n",
              "2018-01-06 -0.344338 -0.630725 -1.022371  0.001387\n",
              "2018-01-07  0.258556  2.161624 -0.596845 -1.375201\n",
              "2018-01-08  0.875489 -1.906523 -1.351571  0.169668\n",
              "2018-01-09  0.423297  1.148635 -0.973240 -0.364423\n",
              "2018-01-10  0.190854 -0.220147 -1.230907  0.072883"
            ],
            "text/html": [
              "\n",
              "  <div id=\"df-38da9eaa-793f-4c90-8010-aa0a8020c81d\">\n",
              "    <div class=\"colab-df-container\">\n",
              "      <div>\n",
              "<style scoped>\n",
              "    .dataframe tbody tr th:only-of-type {\n",
              "        vertical-align: middle;\n",
              "    }\n",
              "\n",
              "    .dataframe tbody tr th {\n",
              "        vertical-align: top;\n",
              "    }\n",
              "\n",
              "    .dataframe thead th {\n",
              "        text-align: right;\n",
              "    }\n",
              "</style>\n",
              "<table border=\"1\" class=\"dataframe\">\n",
              "  <thead>\n",
              "    <tr style=\"text-align: right;\">\n",
              "      <th></th>\n",
              "      <th>A</th>\n",
              "      <th>B</th>\n",
              "      <th>D</th>\n",
              "      <th>C</th>\n",
              "    </tr>\n",
              "  </thead>\n",
              "  <tbody>\n",
              "    <tr>\n",
              "      <th>2018-01-01</th>\n",
              "      <td>-1.123221</td>\n",
              "      <td>0.625538</td>\n",
              "      <td>-1.468574</td>\n",
              "      <td>0.411005</td>\n",
              "    </tr>\n",
              "    <tr>\n",
              "      <th>2018-01-02</th>\n",
              "      <td>0.416058</td>\n",
              "      <td>1.514346</td>\n",
              "      <td>-0.074206</td>\n",
              "      <td>-0.099888</td>\n",
              "    </tr>\n",
              "    <tr>\n",
              "      <th>2018-01-03</th>\n",
              "      <td>1.023791</td>\n",
              "      <td>1.668241</td>\n",
              "      <td>-1.116285</td>\n",
              "      <td>1.829497</td>\n",
              "    </tr>\n",
              "    <tr>\n",
              "      <th>2018-01-04</th>\n",
              "      <td>-1.044991</td>\n",
              "      <td>0.725572</td>\n",
              "      <td>-1.381702</td>\n",
              "      <td>-0.932526</td>\n",
              "    </tr>\n",
              "    <tr>\n",
              "      <th>2018-01-05</th>\n",
              "      <td>-0.358288</td>\n",
              "      <td>-0.692604</td>\n",
              "      <td>-0.423671</td>\n",
              "      <td>0.921837</td>\n",
              "    </tr>\n",
              "    <tr>\n",
              "      <th>2018-01-06</th>\n",
              "      <td>-0.344338</td>\n",
              "      <td>-0.630725</td>\n",
              "      <td>-1.022371</td>\n",
              "      <td>0.001387</td>\n",
              "    </tr>\n",
              "    <tr>\n",
              "      <th>2018-01-07</th>\n",
              "      <td>0.258556</td>\n",
              "      <td>2.161624</td>\n",
              "      <td>-0.596845</td>\n",
              "      <td>-1.375201</td>\n",
              "    </tr>\n",
              "    <tr>\n",
              "      <th>2018-01-08</th>\n",
              "      <td>0.875489</td>\n",
              "      <td>-1.906523</td>\n",
              "      <td>-1.351571</td>\n",
              "      <td>0.169668</td>\n",
              "    </tr>\n",
              "    <tr>\n",
              "      <th>2018-01-09</th>\n",
              "      <td>0.423297</td>\n",
              "      <td>1.148635</td>\n",
              "      <td>-0.973240</td>\n",
              "      <td>-0.364423</td>\n",
              "    </tr>\n",
              "    <tr>\n",
              "      <th>2018-01-10</th>\n",
              "      <td>0.190854</td>\n",
              "      <td>-0.220147</td>\n",
              "      <td>-1.230907</td>\n",
              "      <td>0.072883</td>\n",
              "    </tr>\n",
              "  </tbody>\n",
              "</table>\n",
              "</div>\n",
              "      <button class=\"colab-df-convert\" onclick=\"convertToInteractive('df-38da9eaa-793f-4c90-8010-aa0a8020c81d')\"\n",
              "              title=\"Convert this dataframe to an interactive table.\"\n",
              "              style=\"display:none;\">\n",
              "        \n",
              "  <svg xmlns=\"http://www.w3.org/2000/svg\" height=\"24px\"viewBox=\"0 0 24 24\"\n",
              "       width=\"24px\">\n",
              "    <path d=\"M0 0h24v24H0V0z\" fill=\"none\"/>\n",
              "    <path d=\"M18.56 5.44l.94 2.06.94-2.06 2.06-.94-2.06-.94-.94-2.06-.94 2.06-2.06.94zm-11 1L8.5 8.5l.94-2.06 2.06-.94-2.06-.94L8.5 2.5l-.94 2.06-2.06.94zm10 10l.94 2.06.94-2.06 2.06-.94-2.06-.94-.94-2.06-.94 2.06-2.06.94z\"/><path d=\"M17.41 7.96l-1.37-1.37c-.4-.4-.92-.59-1.43-.59-.52 0-1.04.2-1.43.59L10.3 9.45l-7.72 7.72c-.78.78-.78 2.05 0 2.83L4 21.41c.39.39.9.59 1.41.59.51 0 1.02-.2 1.41-.59l7.78-7.78 2.81-2.81c.8-.78.8-2.07 0-2.86zM5.41 20L4 18.59l7.72-7.72 1.47 1.35L5.41 20z\"/>\n",
              "  </svg>\n",
              "      </button>\n",
              "      \n",
              "  <style>\n",
              "    .colab-df-container {\n",
              "      display:flex;\n",
              "      flex-wrap:wrap;\n",
              "      gap: 12px;\n",
              "    }\n",
              "\n",
              "    .colab-df-convert {\n",
              "      background-color: #E8F0FE;\n",
              "      border: none;\n",
              "      border-radius: 50%;\n",
              "      cursor: pointer;\n",
              "      display: none;\n",
              "      fill: #1967D2;\n",
              "      height: 32px;\n",
              "      padding: 0 0 0 0;\n",
              "      width: 32px;\n",
              "    }\n",
              "\n",
              "    .colab-df-convert:hover {\n",
              "      background-color: #E2EBFA;\n",
              "      box-shadow: 0px 1px 2px rgba(60, 64, 67, 0.3), 0px 1px 3px 1px rgba(60, 64, 67, 0.15);\n",
              "      fill: #174EA6;\n",
              "    }\n",
              "\n",
              "    [theme=dark] .colab-df-convert {\n",
              "      background-color: #3B4455;\n",
              "      fill: #D2E3FC;\n",
              "    }\n",
              "\n",
              "    [theme=dark] .colab-df-convert:hover {\n",
              "      background-color: #434B5C;\n",
              "      box-shadow: 0px 1px 3px 1px rgba(0, 0, 0, 0.15);\n",
              "      filter: drop-shadow(0px 1px 2px rgba(0, 0, 0, 0.3));\n",
              "      fill: #FFFFFF;\n",
              "    }\n",
              "  </style>\n",
              "\n",
              "      <script>\n",
              "        const buttonEl =\n",
              "          document.querySelector('#df-38da9eaa-793f-4c90-8010-aa0a8020c81d button.colab-df-convert');\n",
              "        buttonEl.style.display =\n",
              "          google.colab.kernel.accessAllowed ? 'block' : 'none';\n",
              "\n",
              "        async function convertToInteractive(key) {\n",
              "          const element = document.querySelector('#df-38da9eaa-793f-4c90-8010-aa0a8020c81d');\n",
              "          const dataTable =\n",
              "            await google.colab.kernel.invokeFunction('convertToInteractive',\n",
              "                                                     [key], {});\n",
              "          if (!dataTable) return;\n",
              "\n",
              "          const docLinkHtml = 'Like what you see? Visit the ' +\n",
              "            '<a target=\"_blank\" href=https://colab.research.google.com/notebooks/data_table.ipynb>data table notebook</a>'\n",
              "            + ' to learn more about interactive tables.';\n",
              "          element.innerHTML = '';\n",
              "          dataTable['output_type'] = 'display_data';\n",
              "          await google.colab.output.renderOutput(dataTable, element);\n",
              "          const docLink = document.createElement('div');\n",
              "          docLink.innerHTML = docLinkHtml;\n",
              "          element.appendChild(docLink);\n",
              "        }\n",
              "      </script>\n",
              "    </div>\n",
              "  </div>\n",
              "  "
            ]
          },
          "metadata": {},
          "execution_count": 18
        }
      ]
    },
    {
      "cell_type": "code",
      "source": [
        "df.head()"
      ],
      "metadata": {
        "id": "k1Bd8D9RBVxg",
        "outputId": "e3715082-375c-453f-92ae-90a520fed75b",
        "colab": {
          "base_uri": "https://localhost:8080/",
          "height": 206
        }
      },
      "execution_count": 19,
      "outputs": [
        {
          "output_type": "execute_result",
          "data": {
            "text/plain": [
              "                   A         B         D         C\n",
              "2018-01-01 -1.123221  0.625538 -1.468574  0.411005\n",
              "2018-01-02  0.416058  1.514346 -0.074206 -0.099888\n",
              "2018-01-03  1.023791  1.668241 -1.116285  1.829497\n",
              "2018-01-04 -1.044991  0.725572 -1.381702 -0.932526\n",
              "2018-01-05 -0.358288 -0.692604 -0.423671  0.921837"
            ],
            "text/html": [
              "\n",
              "  <div id=\"df-1ae1732e-d6e4-42a1-9007-b535eea52b87\">\n",
              "    <div class=\"colab-df-container\">\n",
              "      <div>\n",
              "<style scoped>\n",
              "    .dataframe tbody tr th:only-of-type {\n",
              "        vertical-align: middle;\n",
              "    }\n",
              "\n",
              "    .dataframe tbody tr th {\n",
              "        vertical-align: top;\n",
              "    }\n",
              "\n",
              "    .dataframe thead th {\n",
              "        text-align: right;\n",
              "    }\n",
              "</style>\n",
              "<table border=\"1\" class=\"dataframe\">\n",
              "  <thead>\n",
              "    <tr style=\"text-align: right;\">\n",
              "      <th></th>\n",
              "      <th>A</th>\n",
              "      <th>B</th>\n",
              "      <th>D</th>\n",
              "      <th>C</th>\n",
              "    </tr>\n",
              "  </thead>\n",
              "  <tbody>\n",
              "    <tr>\n",
              "      <th>2018-01-01</th>\n",
              "      <td>-1.123221</td>\n",
              "      <td>0.625538</td>\n",
              "      <td>-1.468574</td>\n",
              "      <td>0.411005</td>\n",
              "    </tr>\n",
              "    <tr>\n",
              "      <th>2018-01-02</th>\n",
              "      <td>0.416058</td>\n",
              "      <td>1.514346</td>\n",
              "      <td>-0.074206</td>\n",
              "      <td>-0.099888</td>\n",
              "    </tr>\n",
              "    <tr>\n",
              "      <th>2018-01-03</th>\n",
              "      <td>1.023791</td>\n",
              "      <td>1.668241</td>\n",
              "      <td>-1.116285</td>\n",
              "      <td>1.829497</td>\n",
              "    </tr>\n",
              "    <tr>\n",
              "      <th>2018-01-04</th>\n",
              "      <td>-1.044991</td>\n",
              "      <td>0.725572</td>\n",
              "      <td>-1.381702</td>\n",
              "      <td>-0.932526</td>\n",
              "    </tr>\n",
              "    <tr>\n",
              "      <th>2018-01-05</th>\n",
              "      <td>-0.358288</td>\n",
              "      <td>-0.692604</td>\n",
              "      <td>-0.423671</td>\n",
              "      <td>0.921837</td>\n",
              "    </tr>\n",
              "  </tbody>\n",
              "</table>\n",
              "</div>\n",
              "      <button class=\"colab-df-convert\" onclick=\"convertToInteractive('df-1ae1732e-d6e4-42a1-9007-b535eea52b87')\"\n",
              "              title=\"Convert this dataframe to an interactive table.\"\n",
              "              style=\"display:none;\">\n",
              "        \n",
              "  <svg xmlns=\"http://www.w3.org/2000/svg\" height=\"24px\"viewBox=\"0 0 24 24\"\n",
              "       width=\"24px\">\n",
              "    <path d=\"M0 0h24v24H0V0z\" fill=\"none\"/>\n",
              "    <path d=\"M18.56 5.44l.94 2.06.94-2.06 2.06-.94-2.06-.94-.94-2.06-.94 2.06-2.06.94zm-11 1L8.5 8.5l.94-2.06 2.06-.94-2.06-.94L8.5 2.5l-.94 2.06-2.06.94zm10 10l.94 2.06.94-2.06 2.06-.94-2.06-.94-.94-2.06-.94 2.06-2.06.94z\"/><path d=\"M17.41 7.96l-1.37-1.37c-.4-.4-.92-.59-1.43-.59-.52 0-1.04.2-1.43.59L10.3 9.45l-7.72 7.72c-.78.78-.78 2.05 0 2.83L4 21.41c.39.39.9.59 1.41.59.51 0 1.02-.2 1.41-.59l7.78-7.78 2.81-2.81c.8-.78.8-2.07 0-2.86zM5.41 20L4 18.59l7.72-7.72 1.47 1.35L5.41 20z\"/>\n",
              "  </svg>\n",
              "      </button>\n",
              "      \n",
              "  <style>\n",
              "    .colab-df-container {\n",
              "      display:flex;\n",
              "      flex-wrap:wrap;\n",
              "      gap: 12px;\n",
              "    }\n",
              "\n",
              "    .colab-df-convert {\n",
              "      background-color: #E8F0FE;\n",
              "      border: none;\n",
              "      border-radius: 50%;\n",
              "      cursor: pointer;\n",
              "      display: none;\n",
              "      fill: #1967D2;\n",
              "      height: 32px;\n",
              "      padding: 0 0 0 0;\n",
              "      width: 32px;\n",
              "    }\n",
              "\n",
              "    .colab-df-convert:hover {\n",
              "      background-color: #E2EBFA;\n",
              "      box-shadow: 0px 1px 2px rgba(60, 64, 67, 0.3), 0px 1px 3px 1px rgba(60, 64, 67, 0.15);\n",
              "      fill: #174EA6;\n",
              "    }\n",
              "\n",
              "    [theme=dark] .colab-df-convert {\n",
              "      background-color: #3B4455;\n",
              "      fill: #D2E3FC;\n",
              "    }\n",
              "\n",
              "    [theme=dark] .colab-df-convert:hover {\n",
              "      background-color: #434B5C;\n",
              "      box-shadow: 0px 1px 3px 1px rgba(0, 0, 0, 0.15);\n",
              "      filter: drop-shadow(0px 1px 2px rgba(0, 0, 0, 0.3));\n",
              "      fill: #FFFFFF;\n",
              "    }\n",
              "  </style>\n",
              "\n",
              "      <script>\n",
              "        const buttonEl =\n",
              "          document.querySelector('#df-1ae1732e-d6e4-42a1-9007-b535eea52b87 button.colab-df-convert');\n",
              "        buttonEl.style.display =\n",
              "          google.colab.kernel.accessAllowed ? 'block' : 'none';\n",
              "\n",
              "        async function convertToInteractive(key) {\n",
              "          const element = document.querySelector('#df-1ae1732e-d6e4-42a1-9007-b535eea52b87');\n",
              "          const dataTable =\n",
              "            await google.colab.kernel.invokeFunction('convertToInteractive',\n",
              "                                                     [key], {});\n",
              "          if (!dataTable) return;\n",
              "\n",
              "          const docLinkHtml = 'Like what you see? Visit the ' +\n",
              "            '<a target=\"_blank\" href=https://colab.research.google.com/notebooks/data_table.ipynb>data table notebook</a>'\n",
              "            + ' to learn more about interactive tables.';\n",
              "          element.innerHTML = '';\n",
              "          dataTable['output_type'] = 'display_data';\n",
              "          await google.colab.output.renderOutput(dataTable, element);\n",
              "          const docLink = document.createElement('div');\n",
              "          docLink.innerHTML = docLinkHtml;\n",
              "          element.appendChild(docLink);\n",
              "        }\n",
              "      </script>\n",
              "    </div>\n",
              "  </div>\n",
              "  "
            ]
          },
          "metadata": {},
          "execution_count": 19
        }
      ]
    },
    {
      "cell_type": "code",
      "source": [
        "df.describe()"
      ],
      "metadata": {
        "id": "de_ilgcmBdyI",
        "outputId": "ce485aca-1a52-4d9d-8589-638a31cd7cc2",
        "colab": {
          "base_uri": "https://localhost:8080/",
          "height": 300
        }
      },
      "execution_count": 20,
      "outputs": [
        {
          "output_type": "execute_result",
          "data": {
            "text/plain": [
              "               A          B          D          C\n",
              "count  10.000000  10.000000  10.000000  10.000000\n",
              "mean    0.031721   0.439396  -0.963937   0.063424\n",
              "std     0.734900   1.274368   0.458948   0.898345\n",
              "min    -1.123221  -1.906523  -1.468574  -1.375201\n",
              "25%    -0.354800  -0.528081  -1.321405  -0.298290\n",
              "50%     0.224705   0.675555  -1.069328   0.037135\n",
              "75%     0.421487   1.422918  -0.690944   0.350671\n",
              "max     1.023791   2.161624  -0.074206   1.829497"
            ],
            "text/html": [
              "\n",
              "  <div id=\"df-b4bc92f0-3f3b-4eb3-bce4-7d686f9f69f0\">\n",
              "    <div class=\"colab-df-container\">\n",
              "      <div>\n",
              "<style scoped>\n",
              "    .dataframe tbody tr th:only-of-type {\n",
              "        vertical-align: middle;\n",
              "    }\n",
              "\n",
              "    .dataframe tbody tr th {\n",
              "        vertical-align: top;\n",
              "    }\n",
              "\n",
              "    .dataframe thead th {\n",
              "        text-align: right;\n",
              "    }\n",
              "</style>\n",
              "<table border=\"1\" class=\"dataframe\">\n",
              "  <thead>\n",
              "    <tr style=\"text-align: right;\">\n",
              "      <th></th>\n",
              "      <th>A</th>\n",
              "      <th>B</th>\n",
              "      <th>D</th>\n",
              "      <th>C</th>\n",
              "    </tr>\n",
              "  </thead>\n",
              "  <tbody>\n",
              "    <tr>\n",
              "      <th>count</th>\n",
              "      <td>10.000000</td>\n",
              "      <td>10.000000</td>\n",
              "      <td>10.000000</td>\n",
              "      <td>10.000000</td>\n",
              "    </tr>\n",
              "    <tr>\n",
              "      <th>mean</th>\n",
              "      <td>0.031721</td>\n",
              "      <td>0.439396</td>\n",
              "      <td>-0.963937</td>\n",
              "      <td>0.063424</td>\n",
              "    </tr>\n",
              "    <tr>\n",
              "      <th>std</th>\n",
              "      <td>0.734900</td>\n",
              "      <td>1.274368</td>\n",
              "      <td>0.458948</td>\n",
              "      <td>0.898345</td>\n",
              "    </tr>\n",
              "    <tr>\n",
              "      <th>min</th>\n",
              "      <td>-1.123221</td>\n",
              "      <td>-1.906523</td>\n",
              "      <td>-1.468574</td>\n",
              "      <td>-1.375201</td>\n",
              "    </tr>\n",
              "    <tr>\n",
              "      <th>25%</th>\n",
              "      <td>-0.354800</td>\n",
              "      <td>-0.528081</td>\n",
              "      <td>-1.321405</td>\n",
              "      <td>-0.298290</td>\n",
              "    </tr>\n",
              "    <tr>\n",
              "      <th>50%</th>\n",
              "      <td>0.224705</td>\n",
              "      <td>0.675555</td>\n",
              "      <td>-1.069328</td>\n",
              "      <td>0.037135</td>\n",
              "    </tr>\n",
              "    <tr>\n",
              "      <th>75%</th>\n",
              "      <td>0.421487</td>\n",
              "      <td>1.422918</td>\n",
              "      <td>-0.690944</td>\n",
              "      <td>0.350671</td>\n",
              "    </tr>\n",
              "    <tr>\n",
              "      <th>max</th>\n",
              "      <td>1.023791</td>\n",
              "      <td>2.161624</td>\n",
              "      <td>-0.074206</td>\n",
              "      <td>1.829497</td>\n",
              "    </tr>\n",
              "  </tbody>\n",
              "</table>\n",
              "</div>\n",
              "      <button class=\"colab-df-convert\" onclick=\"convertToInteractive('df-b4bc92f0-3f3b-4eb3-bce4-7d686f9f69f0')\"\n",
              "              title=\"Convert this dataframe to an interactive table.\"\n",
              "              style=\"display:none;\">\n",
              "        \n",
              "  <svg xmlns=\"http://www.w3.org/2000/svg\" height=\"24px\"viewBox=\"0 0 24 24\"\n",
              "       width=\"24px\">\n",
              "    <path d=\"M0 0h24v24H0V0z\" fill=\"none\"/>\n",
              "    <path d=\"M18.56 5.44l.94 2.06.94-2.06 2.06-.94-2.06-.94-.94-2.06-.94 2.06-2.06.94zm-11 1L8.5 8.5l.94-2.06 2.06-.94-2.06-.94L8.5 2.5l-.94 2.06-2.06.94zm10 10l.94 2.06.94-2.06 2.06-.94-2.06-.94-.94-2.06-.94 2.06-2.06.94z\"/><path d=\"M17.41 7.96l-1.37-1.37c-.4-.4-.92-.59-1.43-.59-.52 0-1.04.2-1.43.59L10.3 9.45l-7.72 7.72c-.78.78-.78 2.05 0 2.83L4 21.41c.39.39.9.59 1.41.59.51 0 1.02-.2 1.41-.59l7.78-7.78 2.81-2.81c.8-.78.8-2.07 0-2.86zM5.41 20L4 18.59l7.72-7.72 1.47 1.35L5.41 20z\"/>\n",
              "  </svg>\n",
              "      </button>\n",
              "      \n",
              "  <style>\n",
              "    .colab-df-container {\n",
              "      display:flex;\n",
              "      flex-wrap:wrap;\n",
              "      gap: 12px;\n",
              "    }\n",
              "\n",
              "    .colab-df-convert {\n",
              "      background-color: #E8F0FE;\n",
              "      border: none;\n",
              "      border-radius: 50%;\n",
              "      cursor: pointer;\n",
              "      display: none;\n",
              "      fill: #1967D2;\n",
              "      height: 32px;\n",
              "      padding: 0 0 0 0;\n",
              "      width: 32px;\n",
              "    }\n",
              "\n",
              "    .colab-df-convert:hover {\n",
              "      background-color: #E2EBFA;\n",
              "      box-shadow: 0px 1px 2px rgba(60, 64, 67, 0.3), 0px 1px 3px 1px rgba(60, 64, 67, 0.15);\n",
              "      fill: #174EA6;\n",
              "    }\n",
              "\n",
              "    [theme=dark] .colab-df-convert {\n",
              "      background-color: #3B4455;\n",
              "      fill: #D2E3FC;\n",
              "    }\n",
              "\n",
              "    [theme=dark] .colab-df-convert:hover {\n",
              "      background-color: #434B5C;\n",
              "      box-shadow: 0px 1px 3px 1px rgba(0, 0, 0, 0.15);\n",
              "      filter: drop-shadow(0px 1px 2px rgba(0, 0, 0, 0.3));\n",
              "      fill: #FFFFFF;\n",
              "    }\n",
              "  </style>\n",
              "\n",
              "      <script>\n",
              "        const buttonEl =\n",
              "          document.querySelector('#df-b4bc92f0-3f3b-4eb3-bce4-7d686f9f69f0 button.colab-df-convert');\n",
              "        buttonEl.style.display =\n",
              "          google.colab.kernel.accessAllowed ? 'block' : 'none';\n",
              "\n",
              "        async function convertToInteractive(key) {\n",
              "          const element = document.querySelector('#df-b4bc92f0-3f3b-4eb3-bce4-7d686f9f69f0');\n",
              "          const dataTable =\n",
              "            await google.colab.kernel.invokeFunction('convertToInteractive',\n",
              "                                                     [key], {});\n",
              "          if (!dataTable) return;\n",
              "\n",
              "          const docLinkHtml = 'Like what you see? Visit the ' +\n",
              "            '<a target=\"_blank\" href=https://colab.research.google.com/notebooks/data_table.ipynb>data table notebook</a>'\n",
              "            + ' to learn more about interactive tables.';\n",
              "          element.innerHTML = '';\n",
              "          dataTable['output_type'] = 'display_data';\n",
              "          await google.colab.output.renderOutput(dataTable, element);\n",
              "          const docLink = document.createElement('div');\n",
              "          docLink.innerHTML = docLinkHtml;\n",
              "          element.appendChild(docLink);\n",
              "        }\n",
              "      </script>\n",
              "    </div>\n",
              "  </div>\n",
              "  "
            ]
          },
          "metadata": {},
          "execution_count": 20
        }
      ]
    },
    {
      "cell_type": "code",
      "source": [
        "df.mean()"
      ],
      "metadata": {
        "id": "zNcr-OIYBisA",
        "outputId": "34006a63-f30c-40ca-a0df-3274ac13f476",
        "colab": {
          "base_uri": "https://localhost:8080/"
        }
      },
      "execution_count": 21,
      "outputs": [
        {
          "output_type": "execute_result",
          "data": {
            "text/plain": [
              "A    0.031721\n",
              "B    0.439396\n",
              "D   -0.963937\n",
              "C    0.063424\n",
              "dtype: float64"
            ]
          },
          "metadata": {},
          "execution_count": 21
        }
      ]
    },
    {
      "cell_type": "code",
      "source": [
        "df.mean(1)"
      ],
      "metadata": {
        "id": "pHgDU5YDB-v0",
        "outputId": "e36c46f4-a683-4993-cef2-797699dd24f6",
        "colab": {
          "base_uri": "https://localhost:8080/"
        }
      },
      "execution_count": 22,
      "outputs": [
        {
          "output_type": "execute_result",
          "data": {
            "text/plain": [
              "2018-01-01   -0.388813\n",
              "2018-01-02    0.439078\n",
              "2018-01-03    0.851311\n",
              "2018-01-04   -0.658412\n",
              "2018-01-05   -0.138182\n",
              "2018-01-06   -0.499012\n",
              "2018-01-07    0.112033\n",
              "2018-01-08   -0.553234\n",
              "2018-01-09    0.058567\n",
              "2018-01-10   -0.296829\n",
              "Freq: D, dtype: float64"
            ]
          },
          "metadata": {},
          "execution_count": 22
        }
      ]
    },
    {
      "cell_type": "code",
      "source": [
        "df.apply(np.cumsum)"
      ],
      "metadata": {
        "id": "S9EFgrnhFhhs",
        "outputId": "b3431b03-e5c3-4138-a73f-43cdd6974809",
        "colab": {
          "base_uri": "https://localhost:8080/",
          "height": 363
        }
      },
      "execution_count": 23,
      "outputs": [
        {
          "output_type": "execute_result",
          "data": {
            "text/plain": [
              "                   A         B         D         C\n",
              "2018-01-01 -1.123221  0.625538 -1.468574  0.411005\n",
              "2018-01-02 -0.707164  2.139884 -1.542780  0.311117\n",
              "2018-01-03  0.316627  3.808124 -2.659065  2.140614\n",
              "2018-01-04 -0.728364  4.533696 -4.040767  1.208088\n",
              "2018-01-05 -1.086652  3.841092 -4.464439  2.129925\n",
              "2018-01-06 -1.430990  3.210367 -5.486809  2.131311\n",
              "2018-01-07 -1.172434  5.371992 -6.083655  0.756110\n",
              "2018-01-08 -0.296944  3.465469 -7.435226  0.925778\n",
              "2018-01-09  0.126352  4.614105 -8.408466  0.561355\n",
              "2018-01-10  0.317207  4.393958 -9.639373  0.634238"
            ],
            "text/html": [
              "\n",
              "  <div id=\"df-c1738732-f391-48b9-8153-c643ee2c0e2b\">\n",
              "    <div class=\"colab-df-container\">\n",
              "      <div>\n",
              "<style scoped>\n",
              "    .dataframe tbody tr th:only-of-type {\n",
              "        vertical-align: middle;\n",
              "    }\n",
              "\n",
              "    .dataframe tbody tr th {\n",
              "        vertical-align: top;\n",
              "    }\n",
              "\n",
              "    .dataframe thead th {\n",
              "        text-align: right;\n",
              "    }\n",
              "</style>\n",
              "<table border=\"1\" class=\"dataframe\">\n",
              "  <thead>\n",
              "    <tr style=\"text-align: right;\">\n",
              "      <th></th>\n",
              "      <th>A</th>\n",
              "      <th>B</th>\n",
              "      <th>D</th>\n",
              "      <th>C</th>\n",
              "    </tr>\n",
              "  </thead>\n",
              "  <tbody>\n",
              "    <tr>\n",
              "      <th>2018-01-01</th>\n",
              "      <td>-1.123221</td>\n",
              "      <td>0.625538</td>\n",
              "      <td>-1.468574</td>\n",
              "      <td>0.411005</td>\n",
              "    </tr>\n",
              "    <tr>\n",
              "      <th>2018-01-02</th>\n",
              "      <td>-0.707164</td>\n",
              "      <td>2.139884</td>\n",
              "      <td>-1.542780</td>\n",
              "      <td>0.311117</td>\n",
              "    </tr>\n",
              "    <tr>\n",
              "      <th>2018-01-03</th>\n",
              "      <td>0.316627</td>\n",
              "      <td>3.808124</td>\n",
              "      <td>-2.659065</td>\n",
              "      <td>2.140614</td>\n",
              "    </tr>\n",
              "    <tr>\n",
              "      <th>2018-01-04</th>\n",
              "      <td>-0.728364</td>\n",
              "      <td>4.533696</td>\n",
              "      <td>-4.040767</td>\n",
              "      <td>1.208088</td>\n",
              "    </tr>\n",
              "    <tr>\n",
              "      <th>2018-01-05</th>\n",
              "      <td>-1.086652</td>\n",
              "      <td>3.841092</td>\n",
              "      <td>-4.464439</td>\n",
              "      <td>2.129925</td>\n",
              "    </tr>\n",
              "    <tr>\n",
              "      <th>2018-01-06</th>\n",
              "      <td>-1.430990</td>\n",
              "      <td>3.210367</td>\n",
              "      <td>-5.486809</td>\n",
              "      <td>2.131311</td>\n",
              "    </tr>\n",
              "    <tr>\n",
              "      <th>2018-01-07</th>\n",
              "      <td>-1.172434</td>\n",
              "      <td>5.371992</td>\n",
              "      <td>-6.083655</td>\n",
              "      <td>0.756110</td>\n",
              "    </tr>\n",
              "    <tr>\n",
              "      <th>2018-01-08</th>\n",
              "      <td>-0.296944</td>\n",
              "      <td>3.465469</td>\n",
              "      <td>-7.435226</td>\n",
              "      <td>0.925778</td>\n",
              "    </tr>\n",
              "    <tr>\n",
              "      <th>2018-01-09</th>\n",
              "      <td>0.126352</td>\n",
              "      <td>4.614105</td>\n",
              "      <td>-8.408466</td>\n",
              "      <td>0.561355</td>\n",
              "    </tr>\n",
              "    <tr>\n",
              "      <th>2018-01-10</th>\n",
              "      <td>0.317207</td>\n",
              "      <td>4.393958</td>\n",
              "      <td>-9.639373</td>\n",
              "      <td>0.634238</td>\n",
              "    </tr>\n",
              "  </tbody>\n",
              "</table>\n",
              "</div>\n",
              "      <button class=\"colab-df-convert\" onclick=\"convertToInteractive('df-c1738732-f391-48b9-8153-c643ee2c0e2b')\"\n",
              "              title=\"Convert this dataframe to an interactive table.\"\n",
              "              style=\"display:none;\">\n",
              "        \n",
              "  <svg xmlns=\"http://www.w3.org/2000/svg\" height=\"24px\"viewBox=\"0 0 24 24\"\n",
              "       width=\"24px\">\n",
              "    <path d=\"M0 0h24v24H0V0z\" fill=\"none\"/>\n",
              "    <path d=\"M18.56 5.44l.94 2.06.94-2.06 2.06-.94-2.06-.94-.94-2.06-.94 2.06-2.06.94zm-11 1L8.5 8.5l.94-2.06 2.06-.94-2.06-.94L8.5 2.5l-.94 2.06-2.06.94zm10 10l.94 2.06.94-2.06 2.06-.94-2.06-.94-.94-2.06-.94 2.06-2.06.94z\"/><path d=\"M17.41 7.96l-1.37-1.37c-.4-.4-.92-.59-1.43-.59-.52 0-1.04.2-1.43.59L10.3 9.45l-7.72 7.72c-.78.78-.78 2.05 0 2.83L4 21.41c.39.39.9.59 1.41.59.51 0 1.02-.2 1.41-.59l7.78-7.78 2.81-2.81c.8-.78.8-2.07 0-2.86zM5.41 20L4 18.59l7.72-7.72 1.47 1.35L5.41 20z\"/>\n",
              "  </svg>\n",
              "      </button>\n",
              "      \n",
              "  <style>\n",
              "    .colab-df-container {\n",
              "      display:flex;\n",
              "      flex-wrap:wrap;\n",
              "      gap: 12px;\n",
              "    }\n",
              "\n",
              "    .colab-df-convert {\n",
              "      background-color: #E8F0FE;\n",
              "      border: none;\n",
              "      border-radius: 50%;\n",
              "      cursor: pointer;\n",
              "      display: none;\n",
              "      fill: #1967D2;\n",
              "      height: 32px;\n",
              "      padding: 0 0 0 0;\n",
              "      width: 32px;\n",
              "    }\n",
              "\n",
              "    .colab-df-convert:hover {\n",
              "      background-color: #E2EBFA;\n",
              "      box-shadow: 0px 1px 2px rgba(60, 64, 67, 0.3), 0px 1px 3px 1px rgba(60, 64, 67, 0.15);\n",
              "      fill: #174EA6;\n",
              "    }\n",
              "\n",
              "    [theme=dark] .colab-df-convert {\n",
              "      background-color: #3B4455;\n",
              "      fill: #D2E3FC;\n",
              "    }\n",
              "\n",
              "    [theme=dark] .colab-df-convert:hover {\n",
              "      background-color: #434B5C;\n",
              "      box-shadow: 0px 1px 3px 1px rgba(0, 0, 0, 0.15);\n",
              "      filter: drop-shadow(0px 1px 2px rgba(0, 0, 0, 0.3));\n",
              "      fill: #FFFFFF;\n",
              "    }\n",
              "  </style>\n",
              "\n",
              "      <script>\n",
              "        const buttonEl =\n",
              "          document.querySelector('#df-c1738732-f391-48b9-8153-c643ee2c0e2b button.colab-df-convert');\n",
              "        buttonEl.style.display =\n",
              "          google.colab.kernel.accessAllowed ? 'block' : 'none';\n",
              "\n",
              "        async function convertToInteractive(key) {\n",
              "          const element = document.querySelector('#df-c1738732-f391-48b9-8153-c643ee2c0e2b');\n",
              "          const dataTable =\n",
              "            await google.colab.kernel.invokeFunction('convertToInteractive',\n",
              "                                                     [key], {});\n",
              "          if (!dataTable) return;\n",
              "\n",
              "          const docLinkHtml = 'Like what you see? Visit the ' +\n",
              "            '<a target=\"_blank\" href=https://colab.research.google.com/notebooks/data_table.ipynb>data table notebook</a>'\n",
              "            + ' to learn more about interactive tables.';\n",
              "          element.innerHTML = '';\n",
              "          dataTable['output_type'] = 'display_data';\n",
              "          await google.colab.output.renderOutput(dataTable, element);\n",
              "          const docLink = document.createElement('div');\n",
              "          docLink.innerHTML = docLinkHtml;\n",
              "          element.appendChild(docLink);\n",
              "        }\n",
              "      </script>\n",
              "    </div>\n",
              "  </div>\n",
              "  "
            ]
          },
          "metadata": {},
          "execution_count": 23
        }
      ]
    },
    {
      "cell_type": "code",
      "source": [
        "left = pd.DataFrame({'chave': ['chave1', 'chave2'], 'coluna1': [1,2]})\n",
        "right = pd.DataFrame({'chave': ['chave1', 'chave2'], 'coluna2': [4,5]})\n",
        "pd.merge(left, right, on ='chave')"
      ],
      "metadata": {
        "id": "ImASA_oiHHSl",
        "outputId": "1af23c2e-c1a0-40ab-fc08-c7671c9d5511",
        "colab": {
          "base_uri": "https://localhost:8080/",
          "height": 112
        }
      },
      "execution_count": 24,
      "outputs": [
        {
          "output_type": "execute_result",
          "data": {
            "text/plain": [
              "    chave  coluna1  coluna2\n",
              "0  chave1        1        4\n",
              "1  chave2        2        5"
            ],
            "text/html": [
              "\n",
              "  <div id=\"df-74640ac5-9713-42d2-88e3-2ec914908c2f\">\n",
              "    <div class=\"colab-df-container\">\n",
              "      <div>\n",
              "<style scoped>\n",
              "    .dataframe tbody tr th:only-of-type {\n",
              "        vertical-align: middle;\n",
              "    }\n",
              "\n",
              "    .dataframe tbody tr th {\n",
              "        vertical-align: top;\n",
              "    }\n",
              "\n",
              "    .dataframe thead th {\n",
              "        text-align: right;\n",
              "    }\n",
              "</style>\n",
              "<table border=\"1\" class=\"dataframe\">\n",
              "  <thead>\n",
              "    <tr style=\"text-align: right;\">\n",
              "      <th></th>\n",
              "      <th>chave</th>\n",
              "      <th>coluna1</th>\n",
              "      <th>coluna2</th>\n",
              "    </tr>\n",
              "  </thead>\n",
              "  <tbody>\n",
              "    <tr>\n",
              "      <th>0</th>\n",
              "      <td>chave1</td>\n",
              "      <td>1</td>\n",
              "      <td>4</td>\n",
              "    </tr>\n",
              "    <tr>\n",
              "      <th>1</th>\n",
              "      <td>chave2</td>\n",
              "      <td>2</td>\n",
              "      <td>5</td>\n",
              "    </tr>\n",
              "  </tbody>\n",
              "</table>\n",
              "</div>\n",
              "      <button class=\"colab-df-convert\" onclick=\"convertToInteractive('df-74640ac5-9713-42d2-88e3-2ec914908c2f')\"\n",
              "              title=\"Convert this dataframe to an interactive table.\"\n",
              "              style=\"display:none;\">\n",
              "        \n",
              "  <svg xmlns=\"http://www.w3.org/2000/svg\" height=\"24px\"viewBox=\"0 0 24 24\"\n",
              "       width=\"24px\">\n",
              "    <path d=\"M0 0h24v24H0V0z\" fill=\"none\"/>\n",
              "    <path d=\"M18.56 5.44l.94 2.06.94-2.06 2.06-.94-2.06-.94-.94-2.06-.94 2.06-2.06.94zm-11 1L8.5 8.5l.94-2.06 2.06-.94-2.06-.94L8.5 2.5l-.94 2.06-2.06.94zm10 10l.94 2.06.94-2.06 2.06-.94-2.06-.94-.94-2.06-.94 2.06-2.06.94z\"/><path d=\"M17.41 7.96l-1.37-1.37c-.4-.4-.92-.59-1.43-.59-.52 0-1.04.2-1.43.59L10.3 9.45l-7.72 7.72c-.78.78-.78 2.05 0 2.83L4 21.41c.39.39.9.59 1.41.59.51 0 1.02-.2 1.41-.59l7.78-7.78 2.81-2.81c.8-.78.8-2.07 0-2.86zM5.41 20L4 18.59l7.72-7.72 1.47 1.35L5.41 20z\"/>\n",
              "  </svg>\n",
              "      </button>\n",
              "      \n",
              "  <style>\n",
              "    .colab-df-container {\n",
              "      display:flex;\n",
              "      flex-wrap:wrap;\n",
              "      gap: 12px;\n",
              "    }\n",
              "\n",
              "    .colab-df-convert {\n",
              "      background-color: #E8F0FE;\n",
              "      border: none;\n",
              "      border-radius: 50%;\n",
              "      cursor: pointer;\n",
              "      display: none;\n",
              "      fill: #1967D2;\n",
              "      height: 32px;\n",
              "      padding: 0 0 0 0;\n",
              "      width: 32px;\n",
              "    }\n",
              "\n",
              "    .colab-df-convert:hover {\n",
              "      background-color: #E2EBFA;\n",
              "      box-shadow: 0px 1px 2px rgba(60, 64, 67, 0.3), 0px 1px 3px 1px rgba(60, 64, 67, 0.15);\n",
              "      fill: #174EA6;\n",
              "    }\n",
              "\n",
              "    [theme=dark] .colab-df-convert {\n",
              "      background-color: #3B4455;\n",
              "      fill: #D2E3FC;\n",
              "    }\n",
              "\n",
              "    [theme=dark] .colab-df-convert:hover {\n",
              "      background-color: #434B5C;\n",
              "      box-shadow: 0px 1px 3px 1px rgba(0, 0, 0, 0.15);\n",
              "      filter: drop-shadow(0px 1px 2px rgba(0, 0, 0, 0.3));\n",
              "      fill: #FFFFFF;\n",
              "    }\n",
              "  </style>\n",
              "\n",
              "      <script>\n",
              "        const buttonEl =\n",
              "          document.querySelector('#df-74640ac5-9713-42d2-88e3-2ec914908c2f button.colab-df-convert');\n",
              "        buttonEl.style.display =\n",
              "          google.colab.kernel.accessAllowed ? 'block' : 'none';\n",
              "\n",
              "        async function convertToInteractive(key) {\n",
              "          const element = document.querySelector('#df-74640ac5-9713-42d2-88e3-2ec914908c2f');\n",
              "          const dataTable =\n",
              "            await google.colab.kernel.invokeFunction('convertToInteractive',\n",
              "                                                     [key], {});\n",
              "          if (!dataTable) return;\n",
              "\n",
              "          const docLinkHtml = 'Like what you see? Visit the ' +\n",
              "            '<a target=\"_blank\" href=https://colab.research.google.com/notebooks/data_table.ipynb>data table notebook</a>'\n",
              "            + ' to learn more about interactive tables.';\n",
              "          element.innerHTML = '';\n",
              "          dataTable['output_type'] = 'display_data';\n",
              "          await google.colab.output.renderOutput(dataTable, element);\n",
              "          const docLink = document.createElement('div');\n",
              "          docLink.innerHTML = docLinkHtml;\n",
              "          element.appendChild(docLink);\n",
              "        }\n",
              "      </script>\n",
              "    </div>\n",
              "  </div>\n",
              "  "
            ]
          },
          "metadata": {},
          "execution_count": 24
        }
      ]
    },
    {
      "cell_type": "code",
      "source": [
        "df = pd.DataFrame(np.random.randn(8,4), columns = ['A', 'B', 'C', 'D'])"
      ],
      "metadata": {
        "id": "fgzBnY70HztX"
      },
      "execution_count": 25,
      "outputs": []
    },
    {
      "cell_type": "code",
      "source": [
        "df"
      ],
      "metadata": {
        "id": "uewHe6ZbKCY8",
        "outputId": "96f811ee-f4b9-49ae-a383-8cc0a9258254",
        "colab": {
          "base_uri": "https://localhost:8080/",
          "height": 300
        }
      },
      "execution_count": 26,
      "outputs": [
        {
          "output_type": "execute_result",
          "data": {
            "text/plain": [
              "          A         B         C         D\n",
              "0 -0.375807 -1.426931  0.302806 -0.965580\n",
              "1  2.083471  0.907158 -1.479388 -0.125734\n",
              "2 -0.343952 -0.754419 -1.035468 -0.557137\n",
              "3 -0.527673  0.623096  2.534901  0.951181\n",
              "4  0.154403  0.662849  0.724059  1.194913\n",
              "5 -1.248226  0.861402  0.698519 -0.519097\n",
              "6  0.322469 -0.722711  1.246509  0.061017\n",
              "7 -0.297665  0.551197 -0.239184 -0.627537"
            ],
            "text/html": [
              "\n",
              "  <div id=\"df-4bdf22b3-1ef6-4a26-a704-ebdbdc784a6d\">\n",
              "    <div class=\"colab-df-container\">\n",
              "      <div>\n",
              "<style scoped>\n",
              "    .dataframe tbody tr th:only-of-type {\n",
              "        vertical-align: middle;\n",
              "    }\n",
              "\n",
              "    .dataframe tbody tr th {\n",
              "        vertical-align: top;\n",
              "    }\n",
              "\n",
              "    .dataframe thead th {\n",
              "        text-align: right;\n",
              "    }\n",
              "</style>\n",
              "<table border=\"1\" class=\"dataframe\">\n",
              "  <thead>\n",
              "    <tr style=\"text-align: right;\">\n",
              "      <th></th>\n",
              "      <th>A</th>\n",
              "      <th>B</th>\n",
              "      <th>C</th>\n",
              "      <th>D</th>\n",
              "    </tr>\n",
              "  </thead>\n",
              "  <tbody>\n",
              "    <tr>\n",
              "      <th>0</th>\n",
              "      <td>-0.375807</td>\n",
              "      <td>-1.426931</td>\n",
              "      <td>0.302806</td>\n",
              "      <td>-0.965580</td>\n",
              "    </tr>\n",
              "    <tr>\n",
              "      <th>1</th>\n",
              "      <td>2.083471</td>\n",
              "      <td>0.907158</td>\n",
              "      <td>-1.479388</td>\n",
              "      <td>-0.125734</td>\n",
              "    </tr>\n",
              "    <tr>\n",
              "      <th>2</th>\n",
              "      <td>-0.343952</td>\n",
              "      <td>-0.754419</td>\n",
              "      <td>-1.035468</td>\n",
              "      <td>-0.557137</td>\n",
              "    </tr>\n",
              "    <tr>\n",
              "      <th>3</th>\n",
              "      <td>-0.527673</td>\n",
              "      <td>0.623096</td>\n",
              "      <td>2.534901</td>\n",
              "      <td>0.951181</td>\n",
              "    </tr>\n",
              "    <tr>\n",
              "      <th>4</th>\n",
              "      <td>0.154403</td>\n",
              "      <td>0.662849</td>\n",
              "      <td>0.724059</td>\n",
              "      <td>1.194913</td>\n",
              "    </tr>\n",
              "    <tr>\n",
              "      <th>5</th>\n",
              "      <td>-1.248226</td>\n",
              "      <td>0.861402</td>\n",
              "      <td>0.698519</td>\n",
              "      <td>-0.519097</td>\n",
              "    </tr>\n",
              "    <tr>\n",
              "      <th>6</th>\n",
              "      <td>0.322469</td>\n",
              "      <td>-0.722711</td>\n",
              "      <td>1.246509</td>\n",
              "      <td>0.061017</td>\n",
              "    </tr>\n",
              "    <tr>\n",
              "      <th>7</th>\n",
              "      <td>-0.297665</td>\n",
              "      <td>0.551197</td>\n",
              "      <td>-0.239184</td>\n",
              "      <td>-0.627537</td>\n",
              "    </tr>\n",
              "  </tbody>\n",
              "</table>\n",
              "</div>\n",
              "      <button class=\"colab-df-convert\" onclick=\"convertToInteractive('df-4bdf22b3-1ef6-4a26-a704-ebdbdc784a6d')\"\n",
              "              title=\"Convert this dataframe to an interactive table.\"\n",
              "              style=\"display:none;\">\n",
              "        \n",
              "  <svg xmlns=\"http://www.w3.org/2000/svg\" height=\"24px\"viewBox=\"0 0 24 24\"\n",
              "       width=\"24px\">\n",
              "    <path d=\"M0 0h24v24H0V0z\" fill=\"none\"/>\n",
              "    <path d=\"M18.56 5.44l.94 2.06.94-2.06 2.06-.94-2.06-.94-.94-2.06-.94 2.06-2.06.94zm-11 1L8.5 8.5l.94-2.06 2.06-.94-2.06-.94L8.5 2.5l-.94 2.06-2.06.94zm10 10l.94 2.06.94-2.06 2.06-.94-2.06-.94-.94-2.06-.94 2.06-2.06.94z\"/><path d=\"M17.41 7.96l-1.37-1.37c-.4-.4-.92-.59-1.43-.59-.52 0-1.04.2-1.43.59L10.3 9.45l-7.72 7.72c-.78.78-.78 2.05 0 2.83L4 21.41c.39.39.9.59 1.41.59.51 0 1.02-.2 1.41-.59l7.78-7.78 2.81-2.81c.8-.78.8-2.07 0-2.86zM5.41 20L4 18.59l7.72-7.72 1.47 1.35L5.41 20z\"/>\n",
              "  </svg>\n",
              "      </button>\n",
              "      \n",
              "  <style>\n",
              "    .colab-df-container {\n",
              "      display:flex;\n",
              "      flex-wrap:wrap;\n",
              "      gap: 12px;\n",
              "    }\n",
              "\n",
              "    .colab-df-convert {\n",
              "      background-color: #E8F0FE;\n",
              "      border: none;\n",
              "      border-radius: 50%;\n",
              "      cursor: pointer;\n",
              "      display: none;\n",
              "      fill: #1967D2;\n",
              "      height: 32px;\n",
              "      padding: 0 0 0 0;\n",
              "      width: 32px;\n",
              "    }\n",
              "\n",
              "    .colab-df-convert:hover {\n",
              "      background-color: #E2EBFA;\n",
              "      box-shadow: 0px 1px 2px rgba(60, 64, 67, 0.3), 0px 1px 3px 1px rgba(60, 64, 67, 0.15);\n",
              "      fill: #174EA6;\n",
              "    }\n",
              "\n",
              "    [theme=dark] .colab-df-convert {\n",
              "      background-color: #3B4455;\n",
              "      fill: #D2E3FC;\n",
              "    }\n",
              "\n",
              "    [theme=dark] .colab-df-convert:hover {\n",
              "      background-color: #434B5C;\n",
              "      box-shadow: 0px 1px 3px 1px rgba(0, 0, 0, 0.15);\n",
              "      filter: drop-shadow(0px 1px 2px rgba(0, 0, 0, 0.3));\n",
              "      fill: #FFFFFF;\n",
              "    }\n",
              "  </style>\n",
              "\n",
              "      <script>\n",
              "        const buttonEl =\n",
              "          document.querySelector('#df-4bdf22b3-1ef6-4a26-a704-ebdbdc784a6d button.colab-df-convert');\n",
              "        buttonEl.style.display =\n",
              "          google.colab.kernel.accessAllowed ? 'block' : 'none';\n",
              "\n",
              "        async function convertToInteractive(key) {\n",
              "          const element = document.querySelector('#df-4bdf22b3-1ef6-4a26-a704-ebdbdc784a6d');\n",
              "          const dataTable =\n",
              "            await google.colab.kernel.invokeFunction('convertToInteractive',\n",
              "                                                     [key], {});\n",
              "          if (!dataTable) return;\n",
              "\n",
              "          const docLinkHtml = 'Like what you see? Visit the ' +\n",
              "            '<a target=\"_blank\" href=https://colab.research.google.com/notebooks/data_table.ipynb>data table notebook</a>'\n",
              "            + ' to learn more about interactive tables.';\n",
              "          element.innerHTML = '';\n",
              "          dataTable['output_type'] = 'display_data';\n",
              "          await google.colab.output.renderOutput(dataTable, element);\n",
              "          const docLink = document.createElement('div');\n",
              "          docLink.innerHTML = docLinkHtml;\n",
              "          element.appendChild(docLink);\n",
              "        }\n",
              "      </script>\n",
              "    </div>\n",
              "  </div>\n",
              "  "
            ]
          },
          "metadata": {},
          "execution_count": 26
        }
      ]
    },
    {
      "cell_type": "code",
      "source": [
        "s = df.iloc[3]"
      ],
      "metadata": {
        "id": "f-mFAqLCKFdx"
      },
      "execution_count": 27,
      "outputs": []
    },
    {
      "cell_type": "code",
      "source": [
        "s"
      ],
      "metadata": {
        "id": "G8hsSCZxKkgF",
        "outputId": "51f024a6-8fab-4b14-ce12-6177e06df2f5",
        "colab": {
          "base_uri": "https://localhost:8080/"
        }
      },
      "execution_count": 28,
      "outputs": [
        {
          "output_type": "execute_result",
          "data": {
            "text/plain": [
              "A   -0.527673\n",
              "B    0.623096\n",
              "C    2.534901\n",
              "D    0.951181\n",
              "Name: 3, dtype: float64"
            ]
          },
          "metadata": {},
          "execution_count": 28
        }
      ]
    },
    {
      "cell_type": "code",
      "source": [
        "df.append(s, ignore_index = True)"
      ],
      "metadata": {
        "id": "ZSqOk5t5LMps",
        "outputId": "033b617e-2de2-404f-8c5c-711584a30693",
        "colab": {
          "base_uri": "https://localhost:8080/",
          "height": 332
        }
      },
      "execution_count": 29,
      "outputs": [
        {
          "output_type": "execute_result",
          "data": {
            "text/plain": [
              "          A         B         C         D\n",
              "0 -0.375807 -1.426931  0.302806 -0.965580\n",
              "1  2.083471  0.907158 -1.479388 -0.125734\n",
              "2 -0.343952 -0.754419 -1.035468 -0.557137\n",
              "3 -0.527673  0.623096  2.534901  0.951181\n",
              "4  0.154403  0.662849  0.724059  1.194913\n",
              "5 -1.248226  0.861402  0.698519 -0.519097\n",
              "6  0.322469 -0.722711  1.246509  0.061017\n",
              "7 -0.297665  0.551197 -0.239184 -0.627537\n",
              "8 -0.527673  0.623096  2.534901  0.951181"
            ],
            "text/html": [
              "\n",
              "  <div id=\"df-0bb0275f-d6e3-4a09-bb4f-9cdc225a7498\">\n",
              "    <div class=\"colab-df-container\">\n",
              "      <div>\n",
              "<style scoped>\n",
              "    .dataframe tbody tr th:only-of-type {\n",
              "        vertical-align: middle;\n",
              "    }\n",
              "\n",
              "    .dataframe tbody tr th {\n",
              "        vertical-align: top;\n",
              "    }\n",
              "\n",
              "    .dataframe thead th {\n",
              "        text-align: right;\n",
              "    }\n",
              "</style>\n",
              "<table border=\"1\" class=\"dataframe\">\n",
              "  <thead>\n",
              "    <tr style=\"text-align: right;\">\n",
              "      <th></th>\n",
              "      <th>A</th>\n",
              "      <th>B</th>\n",
              "      <th>C</th>\n",
              "      <th>D</th>\n",
              "    </tr>\n",
              "  </thead>\n",
              "  <tbody>\n",
              "    <tr>\n",
              "      <th>0</th>\n",
              "      <td>-0.375807</td>\n",
              "      <td>-1.426931</td>\n",
              "      <td>0.302806</td>\n",
              "      <td>-0.965580</td>\n",
              "    </tr>\n",
              "    <tr>\n",
              "      <th>1</th>\n",
              "      <td>2.083471</td>\n",
              "      <td>0.907158</td>\n",
              "      <td>-1.479388</td>\n",
              "      <td>-0.125734</td>\n",
              "    </tr>\n",
              "    <tr>\n",
              "      <th>2</th>\n",
              "      <td>-0.343952</td>\n",
              "      <td>-0.754419</td>\n",
              "      <td>-1.035468</td>\n",
              "      <td>-0.557137</td>\n",
              "    </tr>\n",
              "    <tr>\n",
              "      <th>3</th>\n",
              "      <td>-0.527673</td>\n",
              "      <td>0.623096</td>\n",
              "      <td>2.534901</td>\n",
              "      <td>0.951181</td>\n",
              "    </tr>\n",
              "    <tr>\n",
              "      <th>4</th>\n",
              "      <td>0.154403</td>\n",
              "      <td>0.662849</td>\n",
              "      <td>0.724059</td>\n",
              "      <td>1.194913</td>\n",
              "    </tr>\n",
              "    <tr>\n",
              "      <th>5</th>\n",
              "      <td>-1.248226</td>\n",
              "      <td>0.861402</td>\n",
              "      <td>0.698519</td>\n",
              "      <td>-0.519097</td>\n",
              "    </tr>\n",
              "    <tr>\n",
              "      <th>6</th>\n",
              "      <td>0.322469</td>\n",
              "      <td>-0.722711</td>\n",
              "      <td>1.246509</td>\n",
              "      <td>0.061017</td>\n",
              "    </tr>\n",
              "    <tr>\n",
              "      <th>7</th>\n",
              "      <td>-0.297665</td>\n",
              "      <td>0.551197</td>\n",
              "      <td>-0.239184</td>\n",
              "      <td>-0.627537</td>\n",
              "    </tr>\n",
              "    <tr>\n",
              "      <th>8</th>\n",
              "      <td>-0.527673</td>\n",
              "      <td>0.623096</td>\n",
              "      <td>2.534901</td>\n",
              "      <td>0.951181</td>\n",
              "    </tr>\n",
              "  </tbody>\n",
              "</table>\n",
              "</div>\n",
              "      <button class=\"colab-df-convert\" onclick=\"convertToInteractive('df-0bb0275f-d6e3-4a09-bb4f-9cdc225a7498')\"\n",
              "              title=\"Convert this dataframe to an interactive table.\"\n",
              "              style=\"display:none;\">\n",
              "        \n",
              "  <svg xmlns=\"http://www.w3.org/2000/svg\" height=\"24px\"viewBox=\"0 0 24 24\"\n",
              "       width=\"24px\">\n",
              "    <path d=\"M0 0h24v24H0V0z\" fill=\"none\"/>\n",
              "    <path d=\"M18.56 5.44l.94 2.06.94-2.06 2.06-.94-2.06-.94-.94-2.06-.94 2.06-2.06.94zm-11 1L8.5 8.5l.94-2.06 2.06-.94-2.06-.94L8.5 2.5l-.94 2.06-2.06.94zm10 10l.94 2.06.94-2.06 2.06-.94-2.06-.94-.94-2.06-.94 2.06-2.06.94z\"/><path d=\"M17.41 7.96l-1.37-1.37c-.4-.4-.92-.59-1.43-.59-.52 0-1.04.2-1.43.59L10.3 9.45l-7.72 7.72c-.78.78-.78 2.05 0 2.83L4 21.41c.39.39.9.59 1.41.59.51 0 1.02-.2 1.41-.59l7.78-7.78 2.81-2.81c.8-.78.8-2.07 0-2.86zM5.41 20L4 18.59l7.72-7.72 1.47 1.35L5.41 20z\"/>\n",
              "  </svg>\n",
              "      </button>\n",
              "      \n",
              "  <style>\n",
              "    .colab-df-container {\n",
              "      display:flex;\n",
              "      flex-wrap:wrap;\n",
              "      gap: 12px;\n",
              "    }\n",
              "\n",
              "    .colab-df-convert {\n",
              "      background-color: #E8F0FE;\n",
              "      border: none;\n",
              "      border-radius: 50%;\n",
              "      cursor: pointer;\n",
              "      display: none;\n",
              "      fill: #1967D2;\n",
              "      height: 32px;\n",
              "      padding: 0 0 0 0;\n",
              "      width: 32px;\n",
              "    }\n",
              "\n",
              "    .colab-df-convert:hover {\n",
              "      background-color: #E2EBFA;\n",
              "      box-shadow: 0px 1px 2px rgba(60, 64, 67, 0.3), 0px 1px 3px 1px rgba(60, 64, 67, 0.15);\n",
              "      fill: #174EA6;\n",
              "    }\n",
              "\n",
              "    [theme=dark] .colab-df-convert {\n",
              "      background-color: #3B4455;\n",
              "      fill: #D2E3FC;\n",
              "    }\n",
              "\n",
              "    [theme=dark] .colab-df-convert:hover {\n",
              "      background-color: #434B5C;\n",
              "      box-shadow: 0px 1px 3px 1px rgba(0, 0, 0, 0.15);\n",
              "      filter: drop-shadow(0px 1px 2px rgba(0, 0, 0, 0.3));\n",
              "      fill: #FFFFFF;\n",
              "    }\n",
              "  </style>\n",
              "\n",
              "      <script>\n",
              "        const buttonEl =\n",
              "          document.querySelector('#df-0bb0275f-d6e3-4a09-bb4f-9cdc225a7498 button.colab-df-convert');\n",
              "        buttonEl.style.display =\n",
              "          google.colab.kernel.accessAllowed ? 'block' : 'none';\n",
              "\n",
              "        async function convertToInteractive(key) {\n",
              "          const element = document.querySelector('#df-0bb0275f-d6e3-4a09-bb4f-9cdc225a7498');\n",
              "          const dataTable =\n",
              "            await google.colab.kernel.invokeFunction('convertToInteractive',\n",
              "                                                     [key], {});\n",
              "          if (!dataTable) return;\n",
              "\n",
              "          const docLinkHtml = 'Like what you see? Visit the ' +\n",
              "            '<a target=\"_blank\" href=https://colab.research.google.com/notebooks/data_table.ipynb>data table notebook</a>'\n",
              "            + ' to learn more about interactive tables.';\n",
              "          element.innerHTML = '';\n",
              "          dataTable['output_type'] = 'display_data';\n",
              "          await google.colab.output.renderOutput(dataTable, element);\n",
              "          const docLink = document.createElement('div');\n",
              "          docLink.innerHTML = docLinkHtml;\n",
              "          element.appendChild(docLink);\n",
              "        }\n",
              "      </script>\n",
              "    </div>\n",
              "  </div>\n",
              "  "
            ]
          },
          "metadata": {},
          "execution_count": 29
        }
      ]
    },
    {
      "cell_type": "markdown",
      "source": [
        "# **Time Series**"
      ],
      "metadata": {
        "id": "omxGdeVKLkKS"
      }
    },
    {
      "cell_type": "code",
      "source": [
        "rng = pd.date_range('1/1/2018', periods = 50, freq = 'S')"
      ],
      "metadata": {
        "id": "Ivb2envtLmoH"
      },
      "execution_count": 31,
      "outputs": []
    },
    {
      "cell_type": "code",
      "source": [
        "ts = pd.Series(np.random.randint(0, 500, len(rng)), index = rng)"
      ],
      "metadata": {
        "id": "Sm4L-dAmMPOK"
      },
      "execution_count": 32,
      "outputs": []
    },
    {
      "cell_type": "code",
      "source": [
        "ts"
      ],
      "metadata": {
        "id": "POlKHWuwNGQ8",
        "outputId": "fecfcddc-fd47-4ee8-f3ca-86d7e43c235c",
        "colab": {
          "base_uri": "https://localhost:8080/"
        }
      },
      "execution_count": 33,
      "outputs": [
        {
          "output_type": "execute_result",
          "data": {
            "text/plain": [
              "2018-01-01 00:00:00     73\n",
              "2018-01-01 00:00:01    499\n",
              "2018-01-01 00:00:02    406\n",
              "2018-01-01 00:00:03    316\n",
              "2018-01-01 00:00:04     89\n",
              "2018-01-01 00:00:05    113\n",
              "2018-01-01 00:00:06    494\n",
              "2018-01-01 00:00:07     89\n",
              "2018-01-01 00:00:08     31\n",
              "2018-01-01 00:00:09    471\n",
              "2018-01-01 00:00:10    211\n",
              "2018-01-01 00:00:11    244\n",
              "2018-01-01 00:00:12    300\n",
              "2018-01-01 00:00:13    280\n",
              "2018-01-01 00:00:14    231\n",
              "2018-01-01 00:00:15    174\n",
              "2018-01-01 00:00:16     26\n",
              "2018-01-01 00:00:17    366\n",
              "2018-01-01 00:00:18     71\n",
              "2018-01-01 00:00:19    448\n",
              "2018-01-01 00:00:20    223\n",
              "2018-01-01 00:00:21    111\n",
              "2018-01-01 00:00:22    416\n",
              "2018-01-01 00:00:23     77\n",
              "2018-01-01 00:00:24    218\n",
              "2018-01-01 00:00:25    255\n",
              "2018-01-01 00:00:26     46\n",
              "2018-01-01 00:00:27    410\n",
              "2018-01-01 00:00:28    460\n",
              "2018-01-01 00:00:29    258\n",
              "2018-01-01 00:00:30     76\n",
              "2018-01-01 00:00:31    381\n",
              "2018-01-01 00:00:32    305\n",
              "2018-01-01 00:00:33    497\n",
              "2018-01-01 00:00:34    351\n",
              "2018-01-01 00:00:35     63\n",
              "2018-01-01 00:00:36    228\n",
              "2018-01-01 00:00:37     67\n",
              "2018-01-01 00:00:38    296\n",
              "2018-01-01 00:00:39     47\n",
              "2018-01-01 00:00:40    212\n",
              "2018-01-01 00:00:41    373\n",
              "2018-01-01 00:00:42     61\n",
              "2018-01-01 00:00:43    184\n",
              "2018-01-01 00:00:44    269\n",
              "2018-01-01 00:00:45     69\n",
              "2018-01-01 00:00:46     81\n",
              "2018-01-01 00:00:47    245\n",
              "2018-01-01 00:00:48    249\n",
              "2018-01-01 00:00:49    272\n",
              "Freq: S, dtype: int64"
            ]
          },
          "metadata": {},
          "execution_count": 33
        }
      ]
    },
    {
      "cell_type": "code",
      "source": [
        "rng = pd.date_range('1/1/2016', periods = 5, freq = 'M')\n",
        "ts = pd.Series(np.random.randn(len(rng)), index = rng)\n",
        "ts"
      ],
      "metadata": {
        "id": "jNpDrZiiOP-M",
        "outputId": "dd866707-8ebe-4b18-c943-2d093b79f4de",
        "colab": {
          "base_uri": "https://localhost:8080/"
        }
      },
      "execution_count": 34,
      "outputs": [
        {
          "output_type": "execute_result",
          "data": {
            "text/plain": [
              "2016-01-31   -0.348890\n",
              "2016-02-29    0.116048\n",
              "2016-03-31   -0.468475\n",
              "2016-04-30    1.582899\n",
              "2016-05-31    0.638531\n",
              "Freq: M, dtype: float64"
            ]
          },
          "metadata": {},
          "execution_count": 34
        }
      ]
    },
    {
      "cell_type": "markdown",
      "source": [
        "# **Plotting**"
      ],
      "metadata": {
        "id": "RQ-AqpLFQ8r7"
      }
    },
    {
      "cell_type": "code",
      "source": [
        "import matplotlib.pyplot as plt\n",
        "from matplotlib import style"
      ],
      "metadata": {
        "id": "dJJ9bKBRQ-q4"
      },
      "execution_count": 38,
      "outputs": []
    },
    {
      "cell_type": "code",
      "source": [
        "ts = pd.Series(np.random.randn(500), index = pd.date_range('1/1/2016', periods = 500))\n",
        "ts = ts.cumsum()\n",
        "ts.plot()"
      ],
      "metadata": {
        "id": "ZmCPJrJhRQna",
        "outputId": "78489a60-63b6-47ae-dbad-b207a359a0df",
        "colab": {
          "base_uri": "https://localhost:8080/",
          "height": 297
        }
      },
      "execution_count": 39,
      "outputs": [
        {
          "output_type": "execute_result",
          "data": {
            "text/plain": [
              "<matplotlib.axes._subplots.AxesSubplot at 0x7fbcf1a7cc10>"
            ]
          },
          "metadata": {},
          "execution_count": 39
        },
        {
          "output_type": "display_data",
          "data": {
            "text/plain": [
              "<Figure size 432x288 with 1 Axes>"
            ],
            "image/png": "[encoded data removed]"
          },
          "metadata": {
            "needs_background": "light"
          }
        }
      ]
    },
    {
      "cell_type": "code",
      "source": [
        "df = pd.DataFrame(np.random.randn(500,4), index = ts.index, columns = ['A', 'B', 'C', 'D'])\n",
        "df = df.cumsum()\n",
        "plt.figure(); df.plot(); plt.legend(loc = 'best')"
      ],
      "metadata": {
        "id": "ISUZ6815R1Ln",
        "outputId": "9b2af0ad-1e82-4df8-df16-3f81a8ee9388",
        "colab": {
          "base_uri": "https://localhost:8080/",
          "height": 312
        }
      },
      "execution_count": 42,
      "outputs": [
        {
          "output_type": "execute_result",
          "data": {
            "text/plain": [
              "<matplotlib.legend.Legend at 0x7fbcf226d950>"
            ]
          },
          "metadata": {},
          "execution_count": 42
        },
        {
          "output_type": "display_data",
          "data": {
            "text/plain": [
              "<Figure size 432x288 with 0 Axes>"
            ]
          },
          "metadata": {}
        },
        {
          "output_type": "display_data",
          "data": {
            "text/plain": [
              "<Figure size 432x288 with 1 Axes>"
            ],
            "image/png": "[encoded data removed]"
          },
          "metadata": {
            "needs_background": "light"
          }
        }
      ]
    },
    {
      "cell_type": "markdown",
      "source": [
        "# **Output**"
      ],
      "metadata": {
        "id": "3p9aJiDxU0i3"
      }
    },
    {
      "cell_type": "code",
      "source": [
        "import os"
      ],
      "metadata": {
        "id": "OM2e47YWU2Yt"
      },
      "execution_count": 52,
      "outputs": []
    },
    {
      "cell_type": "code",
      "source": [
        "!head teste-df-output.xlsx"
      ],
      "metadata": {
        "id": "FvQnHOoDVFGx",
        "outputId": "ca3a6c43-45a7-47ce-90ac-48bd7d2405f8",
        "colab": {
          "base_uri": "https://localhost:8080/"
        }
      },
      "execution_count": 53,
      "outputs": [
        {
          "output_type": "stream",
          "name": "stdout",
          "text": [
            "head: cannot open 'teste-df-output.xlsx' for reading: No such file or directory\n"
          ]
        }
      ]
    },
    {
      "cell_type": "code",
      "source": [
        "df.to_excel('teste-df-output.xlsx', sheet_name= 'Sheet1')"
      ],
      "metadata": {
        "id": "6WlM3GDYXBVj"
      },
      "execution_count": 54,
      "outputs": []
    },
    {
      "cell_type": "code",
      "source": [
        "!head teste-df-output.xlsx"
      ],
      "metadata": {
        "id": "5-6Jk97VXSsL",
        "outputId": "45b6c2d8-5586-47be-e41c-13edbbd766e2",
        "colab": {
          "base_uri": "https://localhost:8080/"
        }
      },
      "execution_count": 55,
      "outputs": [
        {
          "output_type": "stream",
          "name": "stdout",
          "text": [
            "PK\u0003\u0004\u0014\u0000\u0000\u0000\b\u0000ш�T\u0007AMb�\u0000\u0000\u0000�\u0000\u0000\u0000\u0010\u0000\u0000\u0000docProps/app.xmlM�=\u000b\u00021\u0010D��q��A�Bb@�R��\u000f{\u001b/�dC�B~�9��n\u001eo\u0018F�\n",
            "g*�\u000e-�T��\"�\u000f\u0000\u0015\u0017��N]�n\u001c�h�cy\u0000;�Ό�HI`��\u001e�\t���M�\u000e�F�r\u000e\u001e�xN��pe'å!\u0005\r�rmީ�5�&��\u001f��;i^PK\u0003\u0004\u0014\u0000\u0000\u0000\b\u0000ш�T\u0000|GV�\u0000\u0000\u0000+\u0002\u0000\u0000\u0011\u0000\u0000\u0000docProps/core.xml͒�J�0\u0010�_Ero'͊+�ۋ�IApA�\u0016���`�d�ݷ7��]D\u001f�cf~��\u001b�VG�C��\u0014\"&���F��,uܰ\u0003Q�\u0000Y\u001fЩ\\��/�]HNQy�=D�?�\u001eAp~\u0003\u000eI\u0019E\n",
            "&`\u0015\u0017\"�Z��N�(�\u0013��\u0005\u001f?S?Ì\u0006�ѡ�\fM�\u0000릉�8�-\\\u0000\u0013�0��]@�\u0010��ع\u0003�\u001c�]R�0��jΕ\u001d\u001ax{z|�׭�Ϥ���+[Iǈ\u001bv������>�Np!*��\u001a�m֒\u000by}�>���\b�`���c�`�¯��\u0000PK\u0003\u0004\u0014\u0000\u0000\u0000\b\u0000ш�T�\\�#\u0010\u0006\u0000\u0000�'\u0000\u0000\u0013\u0000\u0000\u0000xl/theme/theme1.xml�Z[s�8\u0014~��xg�m\u000b�6���\u0013siv۴���N\u001f�\u0011X�lyd���G6\u0010˖\r�M��<\u0004,���EG��8y��.b膈��x`�/�ֻ�/��W2$\u0011A0\u0019����\n",
            "�L^�Zi\u0000�8}�\u0013\u0012�܂�\bKx\u0014��\\�[\u001a/#����V�il�\u0018Gd`}^,h@�TQZo_ ��\u001f3�\u0015�T�e�\u0001\u0013WA&�����l����>e��:\u001d2�n0\u001bX �o��NZ��T���jg?Vk���H���}�\u0005�I���\u0015\b2\r;:�X�v|��ퟌ��t4m\u001a���x8��ҋp\u001c\u0004�Q���l��A\t��i�d��ڮ����SO��}��h�\n",
            "�[O�kw�ӎ�ƭ�x\r��O�î�ƫ�t�i&'��k��\u0016hBF��z\u0012\u0015��@� \u0000Xpv���\u0003�^)�u�\u001a�\u001d��A\\�X�9�\u0011���\u0004�i�\u0019�4Fr��\u0005\u000e\u00007��LP|�A����\\���)�P\u001a\b�ȁ�G�!�ܯ����ɤ3z�}:�k�i�\u0001����ϓ�s�䟧��MB�p�,\t��#[a�'n;\u0013r:\u001cgB|�����%2���\n",
            "�N<g\u001fV��]��䞌r#���X}�OGn#ש��\"הF$E��-��\u00118�I\r2\u0013?\b���jP\u001c\u0002�\t1�����Ƭ\u0011�\u0013}��\b�ߍ���o�=W�XIڄ�\u0010F\u001a�s�s�l�\u0007�F��U�ܣ�X\u0015\u0001�\u0018�4�5,��x���<\u001d\u0013\u0012͔\u000b\u0006A��$&\u0012�9~MH\u0013�+�����@�/$�J��i�#�t&��3\u001a�F�\u001bu�h�<z�\u0005��5\n",
            "\u001c�\u001b\u001d\u0002g\u001b�F!�i��\u001e�$����\u0011+B>b\u00196\u001ar�\u0016��q��`Z\u0012��xNҴ\u0011�Y�5�>`��͑u�֑\u000e\u0011�^7B>b΋�\u0011�\u001e�8J���qX\u0004��^�I���f��~��3l,��G�\u0017J�\u000f&�?�24\u0007��Y\t��Vj���4>�\u001e2\n",
            "\u0005�\u001e>�zx\n",
            "7�ƼP��{\u0001���7«���9.}ϥ��=�ҷ7#}g�Ӌ[�Fn[���1��4.(cWr���T��)�9����h>�����$���Y-#\u0016�K��A$�����*�\t�d[%\t�T�e7�\u0012�B\u001bn�S�J��对(�<[�鯡t>,��<_��\u000b3C�rK궔��&8J���pN\u001e�\f;g<�\u001d�w�\u001d5��]v�#�0S�C�\u001aB�\u0003m���:8����\n",
            "�R�o����x\u001a�9�\u0004�}�Wm�������Q���<�\u001dǈ�!���C�y{_�g��P4\u0014ml�$,F�`���,\u0014�d`-�\u0007��Q\u0002�RU`1[�\u0003+��|L�E�p�\\_�ђ�ۦe�n�)w\u0019m\"R9�i�\u0013g���e��U\u001d�U[�j=�\u0015N��Y�ȟ\f\u0011N\u0016\u000b\u0012Hc�\u0017�J��\u0019S��+I�U8�E3�\u0012�\u0018����qNS�\u0012v�\u000f\u00022��9�ze1g���-\f\t,[�Y\u0012�M]��盜�z\"v��w�`��p�G\u000f�;�_�]C�~����n�;HL�y�\u0011\u0001tE\u0002#�\u001c\u0006\u0016\u00172�P\u0006\u0013\u0001͔�D�\u0002�d�\u001c���\u000b��\f�)\u0015έ>9E,��N^�%\u0012\u0014��\f\u0005!\u0017r���jw���,�m�T2d�\u0017�C��=3rC�T%��&\u000b���Tͻ\u001a�&`K�zn�-'��^�=�\u0017=F��\u001e��s�z��E��X�\u001e�2�9p�:�\u0003^�\u0013,C�~�}���\u0011�b���O�%�;�{� ���ۤ���\f|ԫZ�d+\u0011?K\u0007|\u001f�\u0006c�[�4_�\u0014b������1\fy�X�\f�f8߇E�\u001a3Ջ�9�\n"
          ]
        }
      ]
    },
    {
      "cell_type": "code",
      "source": [
        "newDf2 = pd.read_excel('teste-df-output.xlsx', 'Sheet1', index_col = None, na_values = ['NA'])"
      ],
      "metadata": {
        "id": "uDNScTHaXUyf"
      },
      "execution_count": 56,
      "outputs": []
    },
    {
      "cell_type": "code",
      "source": [
        "newDf2.head()"
      ],
      "metadata": {
        "id": "BYxDbo0hXuBw",
        "outputId": "302b7020-c16d-4906-f1d5-956c351f1070",
        "colab": {
          "base_uri": "https://localhost:8080/",
          "height": 206
        }
      },
      "execution_count": 48,
      "outputs": [
        {
          "output_type": "execute_result",
          "data": {
            "text/plain": [
              "  Unnamed: 0         A         B         C         D\n",
              "0 2016-01-01  0.375418  0.686977 -0.339184 -1.159382\n",
              "1 2016-01-02  0.531479  2.344786 -0.301448 -0.229675\n",
              "2 2016-01-03  0.692124  2.386511 -0.516925  0.160539\n",
              "3 2016-01-04  0.650978  2.902273  0.328581 -1.447084\n",
              "4 2016-01-05  1.142931  2.336648  0.218907 -1.860836"
            ],
            "text/html": [
              "\n",
              "  <div id=\"df-c1257a1d-0b93-4ce9-a521-9702eeb558af\">\n",
              "    <div class=\"colab-df-container\">\n",
              "      <div>\n",
              "<style scoped>\n",
              "    .dataframe tbody tr th:only-of-type {\n",
              "        vertical-align: middle;\n",
              "    }\n",
              "\n",
              "    .dataframe tbody tr th {\n",
              "        vertical-align: top;\n",
              "    }\n",
              "\n",
              "    .dataframe thead th {\n",
              "        text-align: right;\n",
              "    }\n",
              "</style>\n",
              "<table border=\"1\" class=\"dataframe\">\n",
              "  <thead>\n",
              "    <tr style=\"text-align: right;\">\n",
              "      <th></th>\n",
              "      <th>Unnamed: 0</th>\n",
              "      <th>A</th>\n",
              "      <th>B</th>\n",
              "      <th>C</th>\n",
              "      <th>D</th>\n",
              "    </tr>\n",
              "  </thead>\n",
              "  <tbody>\n",
              "    <tr>\n",
              "      <th>0</th>\n",
              "      <td>2016-01-01</td>\n",
              "      <td>0.375418</td>\n",
              "      <td>0.686977</td>\n",
              "      <td>-0.339184</td>\n",
              "      <td>-1.159382</td>\n",
              "    </tr>\n",
              "    <tr>\n",
              "      <th>1</th>\n",
              "      <td>2016-01-02</td>\n",
              "      <td>0.531479</td>\n",
              "      <td>2.344786</td>\n",
              "      <td>-0.301448</td>\n",
              "      <td>-0.229675</td>\n",
              "    </tr>\n",
              "    <tr>\n",
              "      <th>2</th>\n",
              "      <td>2016-01-03</td>\n",
              "      <td>0.692124</td>\n",
              "      <td>2.386511</td>\n",
              "      <td>-0.516925</td>\n",
              "      <td>0.160539</td>\n",
              "    </tr>\n",
              "    <tr>\n",
              "      <th>3</th>\n",
              "      <td>2016-01-04</td>\n",
              "      <td>0.650978</td>\n",
              "      <td>2.902273</td>\n",
              "      <td>0.328581</td>\n",
              "      <td>-1.447084</td>\n",
              "    </tr>\n",
              "    <tr>\n",
              "      <th>4</th>\n",
              "      <td>2016-01-05</td>\n",
              "      <td>1.142931</td>\n",
              "      <td>2.336648</td>\n",
              "      <td>0.218907</td>\n",
              "      <td>-1.860836</td>\n",
              "    </tr>\n",
              "  </tbody>\n",
              "</table>\n",
              "</div>\n",
              "      <button class=\"colab-df-convert\" onclick=\"convertToInteractive('df-c1257a1d-0b93-4ce9-a521-9702eeb558af')\"\n",
              "              title=\"Convert this dataframe to an interactive table.\"\n",
              "              style=\"display:none;\">\n",
              "        \n",
              "  <svg xmlns=\"http://www.w3.org/2000/svg\" height=\"24px\"viewBox=\"0 0 24 24\"\n",
              "       width=\"24px\">\n",
              "    <path d=\"M0 0h24v24H0V0z\" fill=\"none\"/>\n",
              "    <path d=\"M18.56 5.44l.94 2.06.94-2.06 2.06-.94-2.06-.94-.94-2.06-.94 2.06-2.06.94zm-11 1L8.5 8.5l.94-2.06 2.06-.94-2.06-.94L8.5 2.5l-.94 2.06-2.06.94zm10 10l.94 2.06.94-2.06 2.06-.94-2.06-.94-.94-2.06-.94 2.06-2.06.94z\"/><path d=\"M17.41 7.96l-1.37-1.37c-.4-.4-.92-.59-1.43-.59-.52 0-1.04.2-1.43.59L10.3 9.45l-7.72 7.72c-.78.78-.78 2.05 0 2.83L4 21.41c.39.39.9.59 1.41.59.51 0 1.02-.2 1.41-.59l7.78-7.78 2.81-2.81c.8-.78.8-2.07 0-2.86zM5.41 20L4 18.59l7.72-7.72 1.47 1.35L5.41 20z\"/>\n",
              "  </svg>\n",
              "      </button>\n",
              "      \n",
              "  <style>\n",
              "    .colab-df-container {\n",
              "      display:flex;\n",
              "      flex-wrap:wrap;\n",
              "      gap: 12px;\n",
              "    }\n",
              "\n",
              "    .colab-df-convert {\n",
              "      background-color: #E8F0FE;\n",
              "      border: none;\n",
              "      border-radius: 50%;\n",
              "      cursor: pointer;\n",
              "      display: none;\n",
              "      fill: #1967D2;\n",
              "      height: 32px;\n",
              "      padding: 0 0 0 0;\n",
              "      width: 32px;\n",
              "    }\n",
              "\n",
              "    .colab-df-convert:hover {\n",
              "      background-color: #E2EBFA;\n",
              "      box-shadow: 0px 1px 2px rgba(60, 64, 67, 0.3), 0px 1px 3px 1px rgba(60, 64, 67, 0.15);\n",
              "      fill: #174EA6;\n",
              "    }\n",
              "\n",
              "    [theme=dark] .colab-df-convert {\n",
              "      background-color: #3B4455;\n",
              "      fill: #D2E3FC;\n",
              "    }\n",
              "\n",
              "    [theme=dark] .colab-df-convert:hover {\n",
              "      background-color: #434B5C;\n",
              "      box-shadow: 0px 1px 3px 1px rgba(0, 0, 0, 0.15);\n",
              "      filter: drop-shadow(0px 1px 2px rgba(0, 0, 0, 0.3));\n",
              "      fill: #FFFFFF;\n",
              "    }\n",
              "  </style>\n",
              "\n",
              "      <script>\n",
              "        const buttonEl =\n",
              "          document.querySelector('#df-c1257a1d-0b93-4ce9-a521-9702eeb558af button.colab-df-convert');\n",
              "        buttonEl.style.display =\n",
              "          google.colab.kernel.accessAllowed ? 'block' : 'none';\n",
              "\n",
              "        async function convertToInteractive(key) {\n",
              "          const element = document.querySelector('#df-c1257a1d-0b93-4ce9-a521-9702eeb558af');\n",
              "          const dataTable =\n",
              "            await google.colab.kernel.invokeFunction('convertToInteractive',\n",
              "                                                     [key], {});\n",
              "          if (!dataTable) return;\n",
              "\n",
              "          const docLinkHtml = 'Like what you see? Visit the ' +\n",
              "            '<a target=\"_blank\" href=https://colab.research.google.com/notebooks/data_table.ipynb>data table notebook</a>'\n",
              "            + ' to learn more about interactive tables.';\n",
              "          element.innerHTML = '';\n",
              "          dataTable['output_type'] = 'display_data';\n",
              "          await google.colab.output.renderOutput(dataTable, element);\n",
              "          const docLink = document.createElement('div');\n",
              "          docLink.innerHTML = docLinkHtml;\n",
              "          element.appendChild(docLink);\n",
              "        }\n",
              "      </script>\n",
              "    </div>\n",
              "  </div>\n",
              "  "
            ]
          },
          "metadata": {},
          "execution_count": 48
        }
      ]
    },
    {
      "cell_type": "code",
      "source": [
        "os.remove('teste-df-output.xlsx')"
      ],
      "metadata": {
        "id": "FLsUlnldX0-I"
      },
      "execution_count": 57,
      "outputs": []
    },
    {
      "cell_type": "code",
      "source": [
        "!head teste-df-output.xlsx"
      ],
      "metadata": {
        "id": "4fvAAmLDYJym",
        "outputId": "b7b6fe7b-2f4e-4d68-d095-e263aae10d9f",
        "colab": {
          "base_uri": "https://localhost:8080/"
        }
      },
      "execution_count": 58,
      "outputs": [
        {
          "output_type": "stream",
          "name": "stdout",
          "text": [
            "head: cannot open 'teste-df-output.xlsx' for reading: No such file or directory\n"
          ]
        }
      ]
    }
  ]
}