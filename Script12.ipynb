{
  "nbformat": 4,
  "nbformat_minor": 0,
  "metadata": {
    "colab": {
      "name": "Script12.ipynb",
      "provenance": [],
      "toc_visible": true,
      "authorship_tag": "ABX9TyP7OT69+pzcukkUszO4QzU6",
      "include_colab_link": true
    },
    "kernelspec": {
      "name": "python3",
      "display_name": "Python 3"
    },
    "language_info": {
      "name": "python"
    }
  },
  "cells": [
    {
      "cell_type": "markdown",
      "metadata": {
        "id": "view-in-github",
        "colab_type": "text"
      },
      "source": [
        "<a href=\"https://colab.research.google.com/github/DiasMelissa/DiasMelissa/blob/main/Script12.ipynb\" target=\"_parent\"><img src=\"https://colab.research.google.com/assets/colab-badge.svg\" alt=\"Open In Colab\"/></a>"
      ]
    },
    {
      "cell_type": "markdown",
      "source": [
        "# **Object oriented programming**\n",
        "\n",
        "Structured x object oriented\n",
        "\n",
        "Structured: sequence, decision and iteration.\n",
        "Objected oriented: attributes (caracteres), methods (functions), class.\n",
        "\n",
        "It shows the relationship between real-world objects that is brought to computing.\n",
        "\n",
        "Main concepts:\n",
        "\n",
        "* Class is a template its instance is an object;\n",
        "* Object is a class instance and it has features and properties;\n",
        "* Attributes are features or properties that help identify the object;\n",
        "* Methods are actions of the objects (functions inside the classes);\n",
        "* Message is a call to an object to invoke one of its methods;\n",
        "* Heritage is a mechanism by which a class called a subclass can extend another class called a superclass by taking advantage of its attributes and methods, that is, the subclass inherits attributes and methods from the superclass.\n",
        "Inheritance allows classes to share their attributes and methods and other members within the class;\n",
        "* Polymorphism is the principle from which classes derived from a single base class are able to invoke methods that, although having the same definition, behave differently for each of the derived classes.\n",
        "The same attributes and methods can be used on different objects but with different logical implementations;\n",
        "* Encapsulation is the technique that makes the internal details of the functioning of the methods of a class remain hidden for the objects.\n",
        "\n",
        "**Class** is a basic structure representing the object's type, a template from which objects will be created. It defines the nature of a future object.\n",
        "**Objects** is a classe intance. It represents entities with qualities (attributes) and actions (methods) they can perform.\n",
        "In python everything is an object.\n"
      ],
      "metadata": {
        "id": "cL414BZrM86X"
      }
    },
    {
      "cell_type": "markdown",
      "source": [
        "# **Classes**"
      ],
      "metadata": {
        "id": "CAdGqPhfqECr"
      }
    },
    {
      "cell_type": "code",
      "execution_count": 9,
      "metadata": {
        "id": "2_PIH-CBKPFv"
      },
      "outputs": [],
      "source": [
        "class Book():\n",
        "  def __init__(self):\n",
        "    self.title = 'Alice in Wonderland'\n",
        "    self.isbn = 985215\n",
        "    print('Constructor is called to create an object from this class')\n",
        "  def imprime(self):\n",
        "   print('It was created the book %s and the ISBN %d' %(self.title, self.isbn))"
      ]
    },
    {
      "cell_type": "code",
      "source": [
        "Book1 = Book()"
      ],
      "metadata": {
        "colab": {
          "base_uri": "https://localhost:8080/"
        },
        "id": "Pkz9rgFpt-Aq",
        "outputId": "f5fa0bef-2392-456a-8110-0ef566f39a82"
      },
      "execution_count": 10,
      "outputs": [
        {
          "output_type": "stream",
          "name": "stdout",
          "text": [
            "Constructor is called to create an object from this class\n"
          ]
        }
      ]
    },
    {
      "cell_type": "code",
      "source": [
        "type(Book1)"
      ],
      "metadata": {
        "colab": {
          "base_uri": "https://localhost:8080/"
        },
        "id": "dLzR-McJuFOs",
        "outputId": "1dabb8c0-849b-4662-b273-3a20822b7750"
      },
      "execution_count": 11,
      "outputs": [
        {
          "output_type": "execute_result",
          "data": {
            "text/plain": [
              "__main__.Book"
            ]
          },
          "metadata": {},
          "execution_count": 11
        }
      ]
    },
    {
      "cell_type": "code",
      "source": [
        "Book1.title"
      ],
      "metadata": {
        "colab": {
          "base_uri": "https://localhost:8080/",
          "height": 35
        },
        "id": "40BYthUtuIpI",
        "outputId": "18b6744d-bd4b-41cd-973a-f1e012b4fe00"
      },
      "execution_count": 12,
      "outputs": [
        {
          "output_type": "execute_result",
          "data": {
            "text/plain": [
              "'Alice in Wonderland'"
            ],
            "application/vnd.google.colaboratory.intrinsic+json": {
              "type": "string"
            }
          },
          "metadata": {},
          "execution_count": 12
        }
      ]
    },
    {
      "cell_type": "code",
      "source": [
        "Book1.imprime()"
      ],
      "metadata": {
        "colab": {
          "base_uri": "https://localhost:8080/"
        },
        "id": "_NIehgPJuR3o",
        "outputId": "0197ba3b-b66a-4c4b-cf2a-26a1fdbc6e34"
      },
      "execution_count": 13,
      "outputs": [
        {
          "output_type": "stream",
          "name": "stdout",
          "text": [
            "It was created the book Alice in Wonderland and the ISBN 985215\n"
          ]
        }
      ]
    },
    {
      "cell_type": "code",
      "source": [
        "class Book():\n",
        "  def __init__(self, title, isbn):\n",
        "    self.title = title\n",
        "    self.isbn = isbn\n",
        "    print('Constructor is called to create an object from this class')\n",
        "  def imprime(self, title, isbn):\n",
        "   print('It was created the book %s and the ISBN %d' %(title, isbn))"
      ],
      "metadata": {
        "id": "LkyNoCLAuWmf"
      },
      "execution_count": 14,
      "outputs": []
    },
    {
      "cell_type": "code",
      "source": [
        "Book2 = Book(\"Don Quixote\", 77856125)"
      ],
      "metadata": {
        "colab": {
          "base_uri": "https://localhost:8080/"
        },
        "id": "Zx6GzNOp9lkA",
        "outputId": "60d7548f-8dda-4e0e-e081-4131a21688ed"
      },
      "execution_count": 15,
      "outputs": [
        {
          "output_type": "stream",
          "name": "stdout",
          "text": [
            "Constructor is called to create an object from this class\n"
          ]
        }
      ]
    },
    {
      "cell_type": "code",
      "source": [
        "Book2.title"
      ],
      "metadata": {
        "colab": {
          "base_uri": "https://localhost:8080/",
          "height": 35
        },
        "id": "MkhIk8fx-JRL",
        "outputId": "a54fc016-6972-4e31-ab5b-30a386cad051"
      },
      "execution_count": 16,
      "outputs": [
        {
          "output_type": "execute_result",
          "data": {
            "text/plain": [
              "'Don Quixote'"
            ],
            "application/vnd.google.colaboratory.intrinsic+json": {
              "type": "string"
            }
          },
          "metadata": {},
          "execution_count": 16
        }
      ]
    },
    {
      "cell_type": "code",
      "source": [
        "Book2.imprime(\"Don Quixote\", 77856125)"
      ],
      "metadata": {
        "colab": {
          "base_uri": "https://localhost:8080/"
        },
        "id": "i1t4Lw4F-NBH",
        "outputId": "514b90fb-9c96-4bac-a5a6-d308dddd8572"
      },
      "execution_count": 17,
      "outputs": [
        {
          "output_type": "stream",
          "name": "stdout",
          "text": [
            "It was created the book Don Quixote and the ISBN 77856125\n"
          ]
        }
      ]
    },
    {
      "cell_type": "code",
      "source": [
        "class Dog():\n",
        "  def __init__(self, breed):\n",
        "    self.breed = breed\n",
        "    print(\"Constructor is called to create an object from this class\")"
      ],
      "metadata": {
        "id": "5B6xfJEFAPTw"
      },
      "execution_count": 18,
      "outputs": []
    },
    {
      "cell_type": "code",
      "source": [
        "Terry = Dog(breed = 'German Shepherd')"
      ],
      "metadata": {
        "colab": {
          "base_uri": "https://localhost:8080/"
        },
        "id": "x6qzUqs-AuXf",
        "outputId": "30b8610c-1757-4de3-9701-0f309a6f0b95"
      },
      "execution_count": 19,
      "outputs": [
        {
          "output_type": "stream",
          "name": "stdout",
          "text": [
            "Constructor is called to create an object from this class\n"
          ]
        }
      ]
    },
    {
      "cell_type": "code",
      "source": [
        "Terry.breed"
      ],
      "metadata": {
        "colab": {
          "base_uri": "https://localhost:8080/",
          "height": 35
        },
        "id": "V5KVNs2tA82E",
        "outputId": "5585e0e7-023e-4663-9faa-f74dc8d24968"
      },
      "execution_count": 20,
      "outputs": [
        {
          "output_type": "execute_result",
          "data": {
            "text/plain": [
              "'German Shepherd'"
            ],
            "application/vnd.google.colaboratory.intrinsic+json": {
              "type": "string"
            }
          },
          "metadata": {},
          "execution_count": 20
        }
      ]
    },
    {
      "cell_type": "code",
      "source": [
        "Lily = Dog(breed = 'Pomeranian')"
      ],
      "metadata": {
        "colab": {
          "base_uri": "https://localhost:8080/"
        },
        "id": "mFPmcJ6nA-yg",
        "outputId": "5a54403c-ed28-40c9-95b8-191bff618f6b"
      },
      "execution_count": 21,
      "outputs": [
        {
          "output_type": "stream",
          "name": "stdout",
          "text": [
            "Constructor is called to create an object from this class\n"
          ]
        }
      ]
    },
    {
      "cell_type": "code",
      "source": [
        "Lily.breed"
      ],
      "metadata": {
        "colab": {
          "base_uri": "https://localhost:8080/",
          "height": 35
        },
        "id": "Vgab4kbPBH-4",
        "outputId": "c844c1fa-8052-4e10-c727-712bae155f12"
      },
      "execution_count": 22,
      "outputs": [
        {
          "output_type": "execute_result",
          "data": {
            "text/plain": [
              "'Pomeranian'"
            ],
            "application/vnd.google.colaboratory.intrinsic+json": {
              "type": "string"
            }
          },
          "metadata": {},
          "execution_count": 22
        }
      ]
    },
    {
      "cell_type": "markdown",
      "source": [
        "# **Objects**\n",
        "\n",
        "Everything in Python is an object."
      ],
      "metadata": {
        "id": "eBH0fYpJBXmw"
      }
    },
    {
      "cell_type": "code",
      "source": [
        "lista_numbers = ['Data', 'Science', 'Grade', 90, 80]"
      ],
      "metadata": {
        "id": "u9W_ua2sBYqB"
      },
      "execution_count": 23,
      "outputs": []
    },
    {
      "cell_type": "code",
      "source": [
        "type(lista_numbers)"
      ],
      "metadata": {
        "colab": {
          "base_uri": "https://localhost:8080/"
        },
        "id": "ZxZ6d8LdK7xX",
        "outputId": "ec01dae3-00c3-4f3d-ef3f-485a7c4607fa"
      },
      "execution_count": 24,
      "outputs": [
        {
          "output_type": "execute_result",
          "data": {
            "text/plain": [
              "list"
            ]
          },
          "metadata": {},
          "execution_count": 24
        }
      ]
    },
    {
      "cell_type": "code",
      "source": [
        "lista_numbers.count(80)"
      ],
      "metadata": {
        "outputId": "c1ec8982-0788-44e5-9a79-4c0ff097dcc4",
        "colab": {
          "base_uri": "https://localhost:8080/"
        },
        "id": "xfIwvNjZLcrV"
      },
      "execution_count": 25,
      "outputs": [
        {
          "output_type": "execute_result",
          "data": {
            "text/plain": [
              "1"
            ]
          },
          "metadata": {},
          "execution_count": 25
        }
      ]
    },
    {
      "cell_type": "code",
      "source": [
        "print(type(90))\n",
        "print(type([]))\n",
        "print(type(()))\n",
        "print(type({}))\n",
        "print(type('a'))"
      ],
      "metadata": {
        "id": "qEf-HF7VLoSx",
        "outputId": "c2e01e14-688f-4ba5-b2cf-e20f30fcee94",
        "colab": {
          "base_uri": "https://localhost:8080/"
        }
      },
      "execution_count": 26,
      "outputs": [
        {
          "output_type": "stream",
          "name": "stdout",
          "text": [
            "<class 'int'>\n",
            "<class 'list'>\n",
            "<class 'tuple'>\n",
            "<class 'dict'>\n",
            "<class 'str'>\n"
          ]
        }
      ]
    },
    {
      "cell_type": "code",
      "source": [
        "class Car():\n",
        "  pass\n",
        "Impala = Car()\n",
        "print(type(Impala))  "
      ],
      "metadata": {
        "id": "0XMEc57ZMTNK",
        "outputId": "ba5c2e4a-31ea-44a4-ac19-ad19d401cb7b",
        "colab": {
          "base_uri": "https://localhost:8080/"
        }
      },
      "execution_count": 27,
      "outputs": [
        {
          "output_type": "stream",
          "name": "stdout",
          "text": [
            "<class '__main__.Car'>\n"
          ]
        }
      ]
    },
    {
      "cell_type": "code",
      "source": [
        "class Students():\n",
        "  def __init__(self, name, age, grade):\n",
        "    self.name = name\n",
        "    self.age = age\n",
        "    self.grade = grade"
      ],
      "metadata": {
        "id": "a1rvoop_MpMY"
      },
      "execution_count": 28,
      "outputs": []
    },
    {
      "cell_type": "code",
      "source": [
        "firstStudant = Students(\"Molly\", 5, 10)"
      ],
      "metadata": {
        "id": "AOuZeT6vM6J9"
      },
      "execution_count": 29,
      "outputs": []
    },
    {
      "cell_type": "code",
      "source": [
        "firstStudant.name"
      ],
      "metadata": {
        "id": "pmbY021BNH0-",
        "outputId": "8a864a44-d87c-44b4-ebaf-5e301064af04",
        "colab": {
          "base_uri": "https://localhost:8080/",
          "height": 35
        }
      },
      "execution_count": 30,
      "outputs": [
        {
          "output_type": "execute_result",
          "data": {
            "text/plain": [
              "'Molly'"
            ],
            "application/vnd.google.colaboratory.intrinsic+json": {
              "type": "string"
            }
          },
          "metadata": {},
          "execution_count": 30
        }
      ]
    },
    {
      "cell_type": "code",
      "source": [
        "firstStudant.age"
      ],
      "metadata": {
        "id": "iNUW6ZykNLAk",
        "outputId": "ef314586-3370-4def-9207-8f1dca6fc514",
        "colab": {
          "base_uri": "https://localhost:8080/"
        }
      },
      "execution_count": 31,
      "outputs": [
        {
          "output_type": "execute_result",
          "data": {
            "text/plain": [
              "5"
            ]
          },
          "metadata": {},
          "execution_count": 31
        }
      ]
    },
    {
      "cell_type": "code",
      "source": [
        "firstStudant.grade"
      ],
      "metadata": {
        "id": "h2GLL6vqNMxI",
        "outputId": "5a1de5fa-e2f0-489b-a7e1-c21bdb21d205",
        "colab": {
          "base_uri": "https://localhost:8080/"
        }
      },
      "execution_count": 32,
      "outputs": [
        {
          "output_type": "execute_result",
          "data": {
            "text/plain": [
              "10"
            ]
          },
          "metadata": {},
          "execution_count": 32
        }
      ]
    },
    {
      "cell_type": "code",
      "source": [
        "class employees():\n",
        "  def __init__(self, name, pay):\n",
        "    self.name = name\n",
        "    self.pay = pay\n",
        "\n",
        "  def listEmployee(self): \n",
        "    print(\"The employee name is \" + self.name + \"the pay is R$\" + str(self.pay)) \n"
      ],
      "metadata": {
        "id": "_SDuEHVVPOLr"
      },
      "execution_count": 42,
      "outputs": []
    },
    {
      "cell_type": "code",
      "source": [
        "firstEmployee = employees(\"Anna\", 4000)"
      ],
      "metadata": {
        "id": "tdsx-MRZQrk3"
      },
      "execution_count": 43,
      "outputs": []
    },
    {
      "cell_type": "code",
      "source": [
        "firstEmployee.listEmployee()"
      ],
      "metadata": {
        "id": "K7Fwy7W_Q7ee",
        "outputId": "ed798509-897c-41e0-b554-989b95d27ad8",
        "colab": {
          "base_uri": "https://localhost:8080/"
        }
      },
      "execution_count": 44,
      "outputs": [
        {
          "output_type": "stream",
          "name": "stdout",
          "text": [
            "The employee name is Annathe pay is R$4000\n"
          ]
        }
      ]
    },
    {
      "cell_type": "markdown",
      "source": [
        "\n",
        "Using attributes\n",
        "---\n",
        "\n"
      ],
      "metadata": {
        "id": "OS3oG-ONS0yu"
      }
    },
    {
      "cell_type": "code",
      "source": [
        "hasattr(firstEmployee, 'name')"
      ],
      "metadata": {
        "id": "a1O9wnLbRl1V",
        "outputId": "324cadb2-6c94-4e5f-d466-d5a3befc110b",
        "colab": {
          "base_uri": "https://localhost:8080/"
        }
      },
      "execution_count": 46,
      "outputs": [
        {
          "output_type": "execute_result",
          "data": {
            "text/plain": [
              "True"
            ]
          },
          "metadata": {},
          "execution_count": 46
        }
      ]
    },
    {
      "cell_type": "code",
      "source": [
        "hasattr(firstEmployee, 'pay')"
      ],
      "metadata": {
        "id": "XcZNjSGjSRAB",
        "outputId": "973c5ff3-8a18-46b5-9e92-dd98292eebd5",
        "colab": {
          "base_uri": "https://localhost:8080/"
        }
      },
      "execution_count": 47,
      "outputs": [
        {
          "output_type": "execute_result",
          "data": {
            "text/plain": [
              "True"
            ]
          },
          "metadata": {},
          "execution_count": 47
        }
      ]
    },
    {
      "cell_type": "code",
      "source": [
        "setattr(firstEmployee, 'pay', 5000)"
      ],
      "metadata": {
        "id": "dJxgWhuQSUxS"
      },
      "execution_count": 48,
      "outputs": []
    },
    {
      "cell_type": "code",
      "source": [
        "hasattr(firstEmployee, 'pay')"
      ],
      "metadata": {
        "id": "6Y_GHZ1SSdKp",
        "outputId": "39a15b4b-d63b-4fcc-b771-d843d1ff4512",
        "colab": {
          "base_uri": "https://localhost:8080/"
        }
      },
      "execution_count": 49,
      "outputs": [
        {
          "output_type": "execute_result",
          "data": {
            "text/plain": [
              "True"
            ]
          },
          "metadata": {},
          "execution_count": 49
        }
      ]
    },
    {
      "cell_type": "code",
      "source": [
        "getattr(firstEmployee, 'pay')"
      ],
      "metadata": {
        "id": "vwMpuntYSjV2",
        "outputId": "c841603e-4c15-4b77-80ed-3058aad580a5",
        "colab": {
          "base_uri": "https://localhost:8080/"
        }
      },
      "execution_count": 50,
      "outputs": [
        {
          "output_type": "execute_result",
          "data": {
            "text/plain": [
              "5000"
            ]
          },
          "metadata": {},
          "execution_count": 50
        }
      ]
    },
    {
      "cell_type": "code",
      "source": [
        "delattr(firstEmployee, 'pay')"
      ],
      "metadata": {
        "id": "mXBSfVlPSo7m"
      },
      "execution_count": 51,
      "outputs": []
    },
    {
      "cell_type": "code",
      "source": [
        "hasattr(firstEmployee, 'pay')"
      ],
      "metadata": {
        "id": "8QNcNXu2StIm",
        "outputId": "5ec089b8-ca6b-4306-f2bc-92ae02fcc479",
        "colab": {
          "base_uri": "https://localhost:8080/"
        }
      },
      "execution_count": 52,
      "outputs": [
        {
          "output_type": "execute_result",
          "data": {
            "text/plain": [
              "False"
            ]
          },
          "metadata": {},
          "execution_count": 52
        }
      ]
    },
    {
      "cell_type": "markdown",
      "source": [
        "# **Methods**\n",
        "\n",
        "They are functions defined inside a class body. They are used to perform operations with the attributes of objects."
      ],
      "metadata": {
        "id": "wY-uDQmBTOEa"
      }
    },
    {
      "cell_type": "code",
      "source": [
        "class Circle():\n",
        "\n",
        "  pi = 3.14\n",
        "\n",
        "  def __init__(self, radius = 2):\n",
        "    self.radius = radius\n",
        "\n",
        "  def area(self):\n",
        "    return (self.radius * self.radius) * Circle.pi\n",
        "\n",
        "  def setRadius(self, new_radius):\n",
        "    self.radius = new_radius\n",
        "\n",
        "  def getRadius(self):\n",
        "    return self.radius\n",
        "\n"
      ],
      "metadata": {
        "id": "kHEkxN5jTRCk"
      },
      "execution_count": 53,
      "outputs": []
    },
    {
      "cell_type": "code",
      "source": [
        "c = Circle()"
      ],
      "metadata": {
        "id": "PDEKGUJxXZlr"
      },
      "execution_count": 54,
      "outputs": []
    },
    {
      "cell_type": "code",
      "source": [
        "c.getRadius()"
      ],
      "metadata": {
        "id": "yZMgM-LqXcsg",
        "outputId": "f8433ed0-827d-4618-bd66-5bcbb31b2d4a",
        "colab": {
          "base_uri": "https://localhost:8080/"
        }
      },
      "execution_count": 56,
      "outputs": [
        {
          "output_type": "execute_result",
          "data": {
            "text/plain": [
              "2"
            ]
          },
          "metadata": {},
          "execution_count": 56
        }
      ]
    },
    {
      "cell_type": "code",
      "source": [
        "c2 = Circle(5)"
      ],
      "metadata": {
        "id": "B5NCTuUKXiwZ"
      },
      "execution_count": 57,
      "outputs": []
    },
    {
      "cell_type": "code",
      "source": [
        "c2.getRadius()"
      ],
      "metadata": {
        "id": "5YYsdFvhXoQ5",
        "outputId": "9dae3424-5161-43e7-b0e2-0f2517a79873",
        "colab": {
          "base_uri": "https://localhost:8080/"
        }
      },
      "execution_count": 59,
      "outputs": [
        {
          "output_type": "execute_result",
          "data": {
            "text/plain": [
              "5"
            ]
          },
          "metadata": {},
          "execution_count": 59
        }
      ]
    },
    {
      "cell_type": "code",
      "source": [
        "print(\"The radius is :\", c.getRadius())"
      ],
      "metadata": {
        "id": "2jPZeKaFXyn5",
        "outputId": "75925e4f-b753-4e8f-e58b-3d637781aba1",
        "colab": {
          "base_uri": "https://localhost:8080/"
        }
      },
      "execution_count": 60,
      "outputs": [
        {
          "output_type": "stream",
          "name": "stdout",
          "text": [
            "The radius is : 2\n"
          ]
        }
      ]
    },
    {
      "cell_type": "code",
      "source": [
        "print(\"The area is :\", c.area())"
      ],
      "metadata": {
        "id": "zyrfvybjX7wf",
        "outputId": "1cc1fec5-3dc3-429c-fee7-b815cc5ccbc0",
        "colab": {
          "base_uri": "https://localhost:8080/"
        }
      },
      "execution_count": 61,
      "outputs": [
        {
          "output_type": "stream",
          "name": "stdout",
          "text": [
            "The area is : 12.56\n"
          ]
        }
      ]
    },
    {
      "cell_type": "code",
      "source": [
        "c.setRadius(4)"
      ],
      "metadata": {
        "id": "cdwXL8rYYBO6"
      },
      "execution_count": 62,
      "outputs": []
    },
    {
      "cell_type": "code",
      "source": [
        "print('The new radius is: ', c.getRadius())"
      ],
      "metadata": {
        "id": "kOsF9SthYehO",
        "outputId": "9e397c09-53e3-492d-9067-53e675f4b693",
        "colab": {
          "base_uri": "https://localhost:8080/"
        }
      },
      "execution_count": 63,
      "outputs": [
        {
          "output_type": "stream",
          "name": "stdout",
          "text": [
            "The new radius is:  4\n"
          ]
        }
      ]
    },
    {
      "cell_type": "markdown",
      "source": [
        "# **Heritage**\n",
        "\n",
        "It's a form to create new classes using previously defined classes. They are called sub-classes."
      ],
      "metadata": {
        "id": "7F7sKGZ9ZJbb"
      }
    },
    {
      "cell_type": "code",
      "source": [
        "class Animal():\n",
        "  def __init__(self):\n",
        "    print(\"Bred animal\")\n",
        "\n",
        "  def identify(self):\n",
        "    print(\"Animal\")  \n",
        "\n",
        "  def eat(self):\n",
        "    print(\"Eating\")  "
      ],
      "metadata": {
        "id": "RIg3b0TeZoGD"
      },
      "execution_count": 64,
      "outputs": []
    },
    {
      "cell_type": "code",
      "source": [
        "class Dog(Animal):\n",
        "  def __init__(self):\n",
        "    Animal.__init__(self)\n",
        "    print(\"Dog object was created\")\n",
        "  def identify(self):\n",
        "    print(\"Dog\")\n",
        "  def bark(self):\n",
        "    print(\"Au Au\")  \n"
      ],
      "metadata": {
        "id": "h5nEdQrqdxDQ"
      },
      "execution_count": 65,
      "outputs": []
    },
    {
      "cell_type": "code",
      "source": [
        "Rex = Dog()"
      ],
      "metadata": {
        "id": "XvehGu-gfJqR",
        "outputId": "07b52d43-be49-4987-f652-a998f344e187",
        "colab": {
          "base_uri": "https://localhost:8080/"
        }
      },
      "execution_count": 66,
      "outputs": [
        {
          "output_type": "stream",
          "name": "stdout",
          "text": [
            "Bred animal\n",
            "Dog object was created\n"
          ]
        }
      ]
    },
    {
      "cell_type": "code",
      "source": [
        "Rex.identify()"
      ],
      "metadata": {
        "id": "1OxTFEC-fPZK",
        "outputId": "7fd78372-6a5a-4450-c89f-826eb12afeec",
        "colab": {
          "base_uri": "https://localhost:8080/"
        }
      },
      "execution_count": 67,
      "outputs": [
        {
          "output_type": "stream",
          "name": "stdout",
          "text": [
            "Dog\n"
          ]
        }
      ]
    },
    {
      "cell_type": "code",
      "source": [
        "Rex.eat()"
      ],
      "metadata": {
        "id": "Sx3Y6PJ8faTS",
        "outputId": "656bbebb-0a76-4270-e11e-db2a30a0fb0c",
        "colab": {
          "base_uri": "https://localhost:8080/"
        }
      },
      "execution_count": 68,
      "outputs": [
        {
          "output_type": "stream",
          "name": "stdout",
          "text": [
            "Eating\n"
          ]
        }
      ]
    },
    {
      "cell_type": "code",
      "source": [
        "Rex.bark()"
      ],
      "metadata": {
        "id": "z5YcFbNFfdDE",
        "outputId": "1826faf6-9960-4785-bf2d-0acc81d783d6",
        "colab": {
          "base_uri": "https://localhost:8080/"
        }
      },
      "execution_count": 69,
      "outputs": [
        {
          "output_type": "stream",
          "name": "stdout",
          "text": [
            "Au Au\n"
          ]
        }
      ]
    },
    {
      "cell_type": "markdown",
      "source": [
        "# **Special methods**\n",
        "Classes in python can implement certain operations with special methods.\n",
        "The class can then have behavior like function, dictionary and number."
      ],
      "metadata": {
        "id": "ZAI03u26f8w1"
      }
    },
    {
      "cell_type": "code",
      "source": [
        "class Book():\n",
        "  def __init__(self, title, author, pages):\n",
        "    print(\"The book was created\")\n",
        "    self.title = title\n",
        "    self.author = author\n",
        "    self.pages = pages\n",
        "\n",
        "  def __str__(self):\n",
        "    return\"Title: %s, author: %s, pages: %s\" \\\n",
        "    %(self.title, self.author, self.pages)\n",
        "\n",
        "  def __len__(self):\n",
        "    return self.pages\n",
        "\n",
        "  def len(self):\n",
        "    return print(\"There are the pages of book with common method: \", self.pages)    \n"
      ],
      "metadata": {
        "id": "gYnukksCf_oD"
      },
      "execution_count": 77,
      "outputs": []
    },
    {
      "cell_type": "code",
      "source": [
        "book1 = Book(\"One Hundred Years of Solitude\", \"Gabriel Garcia Marquez\", 448)"
      ],
      "metadata": {
        "id": "iFCG_2ZBjgNS",
        "outputId": "3cb87aa9-f56a-4bcc-da1f-97802f41f78e",
        "colab": {
          "base_uri": "https://localhost:8080/"
        }
      },
      "execution_count": 79,
      "outputs": [
        {
          "output_type": "stream",
          "name": "stdout",
          "text": [
            "The book was created\n"
          ]
        }
      ]
    },
    {
      "cell_type": "code",
      "source": [
        "print(book1)"
      ],
      "metadata": {
        "id": "IHHec4XYkHk1",
        "outputId": "b8d38586-8643-4414-8821-d54023a54cb1",
        "colab": {
          "base_uri": "https://localhost:8080/"
        }
      },
      "execution_count": 72,
      "outputs": [
        {
          "output_type": "stream",
          "name": "stdout",
          "text": [
            "Title: One Hundred Years of Solitude, author: Gabriel Garcia Marquez, pages: 448\n"
          ]
        }
      ]
    },
    {
      "cell_type": "code",
      "source": [
        "str(book1)"
      ],
      "metadata": {
        "id": "0DJ4KUwckK-g",
        "outputId": "0f5fda5b-48da-4b34-eba2-27f790c28a04",
        "colab": {
          "base_uri": "https://localhost:8080/",
          "height": 35
        }
      },
      "execution_count": 74,
      "outputs": [
        {
          "output_type": "execute_result",
          "data": {
            "text/plain": [
              "'Title: One Hundred Years of Solitude, author: Gabriel Garcia Marquez, pages: 448'"
            ],
            "application/vnd.google.colaboratory.intrinsic+json": {
              "type": "string"
            }
          },
          "metadata": {},
          "execution_count": 74
        }
      ]
    },
    {
      "cell_type": "code",
      "source": [
        "len(book1)"
      ],
      "metadata": {
        "id": "lmzwrel2kPYb",
        "outputId": "2adcd10a-fff9-42b2-e72b-ea4cf21fd113",
        "colab": {
          "base_uri": "https://localhost:8080/"
        }
      },
      "execution_count": 75,
      "outputs": [
        {
          "output_type": "execute_result",
          "data": {
            "text/plain": [
              "448"
            ]
          },
          "metadata": {},
          "execution_count": 75
        }
      ]
    },
    {
      "cell_type": "code",
      "source": [
        "book1.len()"
      ],
      "metadata": {
        "id": "lhdRGvDMktLv",
        "outputId": "c792685e-0c7c-47c6-f93f-dd5b405bf4f7",
        "colab": {
          "base_uri": "https://localhost:8080/"
        }
      },
      "execution_count": 80,
      "outputs": [
        {
          "output_type": "stream",
          "name": "stdout",
          "text": [
            "There are the pages of book with common method:  448\n"
          ]
        }
      ]
    },
    {
      "cell_type": "code",
      "source": [
        "del book1.pages"
      ],
      "metadata": {
        "id": "EDty9PDTkvwE"
      },
      "execution_count": 81,
      "outputs": []
    },
    {
      "cell_type": "code",
      "source": [
        "hasattr(book1, 'pages')"
      ],
      "metadata": {
        "id": "WRpttxuolE4r",
        "outputId": "995b07e5-18e8-429c-c196-76a6ce04b19c",
        "colab": {
          "base_uri": "https://localhost:8080/"
        }
      },
      "execution_count": 83,
      "outputs": [
        {
          "output_type": "execute_result",
          "data": {
            "text/plain": [
              "False"
            ]
          },
          "metadata": {},
          "execution_count": 83
        }
      ]
    }
  ]
}