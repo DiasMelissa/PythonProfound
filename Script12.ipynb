{
  "nbformat": 4,
  "nbformat_minor": 0,
  "metadata": {
    "colab": {
      "name": "Script12.ipynb",
      "provenance": [],
      "toc_visible": true,
      "authorship_tag": "ABX9TyONukUIg0AFtJFOXw+NLz/U",
      "include_colab_link": true
    },
    "kernelspec": {
      "name": "python3",
      "display_name": "Python 3"
    },
    "language_info": {
      "name": "python"
    }
  },
  "cells": [
    {
      "cell_type": "markdown",
      "metadata": {
        "id": "view-in-github",
        "colab_type": "text"
      },
      "source": [
        "<a href=\"https://colab.research.google.com/github/DiasMelissa/DiasMelissa/blob/main/Script12.ipynb\" target=\"_parent\"><img src=\"https://colab.research.google.com/assets/colab-badge.svg\" alt=\"Open In Colab\"/></a>"
      ]
    },
    {
      "cell_type": "markdown",
      "source": [
        "# **Object oriented programming**\n",
        "\n",
        "Structured x object oriented\n",
        "\n",
        "Structured: sequence, decision and iteration.\n",
        "Objected oriented: attributes (caracteres), methods (functions), class.\n",
        "\n",
        "It shows the relationship between real-world objects that is brought to computing.\n",
        "\n",
        "Main concepts:\n",
        "\n",
        "* Class is a template its instance is an object;\n",
        "* Object is a class instance and it has features and properties;\n",
        "* Attributes are features or properties that help identify the object;\n",
        "* Methods are actions of the objects (functions inside the classes);\n",
        "* Message is a call to an object to invoke one of its methods;\n",
        "* Heritage is a mechanism by which a class called a subclass can extend another class called a superclass by taking advantage of its attributes and methods, that is, the subclass inherits attributes and methods from the superclass.\n",
        "Inheritance allows classes to share their attributes and methods and other members within the class;\n",
        "* Polymorphism is the principle from which classes derived from a single base class are able to invoke methods that, although having the same definition, behave differently for each of the derived classes.\n",
        "The same attributes and methods can be used on different objects but with different logical implementations;\n",
        "* Encapsulation is the technique that makes the internal details of the functioning of the methods of a class remain hidden for the objects.\n",
        "\n",
        "**Class** is a basic structure representing the object's type, a template from which objects will be created. It defines the nature of a future object.\n",
        "**Objects** is a classe intance. It represents entities with qualities (attributes) and actions (methods) they can perform.\n",
        "In python everything is an object.\n"
      ],
      "metadata": {
        "id": "cL414BZrM86X"
      }
    },
    {
      "cell_type": "markdown",
      "source": [
        "# **Classes**"
      ],
      "metadata": {
        "id": "CAdGqPhfqECr"
      }
    },
    {
      "cell_type": "code",
      "execution_count": 9,
      "metadata": {
        "id": "2_PIH-CBKPFv"
      },
      "outputs": [],
      "source": [
        "class Book():\n",
        "  def __init__(self):\n",
        "    self.title = 'Alice in Wonderland'\n",
        "    self.isbn = 985215\n",
        "    print('Constructor is called to create an object from this class')\n",
        "  def imprime(self):\n",
        "   print('It was created the book %s and the ISBN %d' %(self.title, self.isbn))"
      ]
    },
    {
      "cell_type": "code",
      "source": [
        "Book1 = Book()"
      ],
      "metadata": {
        "colab": {
          "base_uri": "https://localhost:8080/"
        },
        "id": "Pkz9rgFpt-Aq",
        "outputId": "f5fa0bef-2392-456a-8110-0ef566f39a82"
      },
      "execution_count": 10,
      "outputs": [
        {
          "output_type": "stream",
          "name": "stdout",
          "text": [
            "Constructor is called to create an object from this class\n"
          ]
        }
      ]
    },
    {
      "cell_type": "code",
      "source": [
        "type(Book1)"
      ],
      "metadata": {
        "colab": {
          "base_uri": "https://localhost:8080/"
        },
        "id": "dLzR-McJuFOs",
        "outputId": "1dabb8c0-849b-4662-b273-3a20822b7750"
      },
      "execution_count": 11,
      "outputs": [
        {
          "output_type": "execute_result",
          "data": {
            "text/plain": [
              "__main__.Book"
            ]
          },
          "metadata": {},
          "execution_count": 11
        }
      ]
    },
    {
      "cell_type": "code",
      "source": [
        "Book1.title"
      ],
      "metadata": {
        "colab": {
          "base_uri": "https://localhost:8080/",
          "height": 35
        },
        "id": "40BYthUtuIpI",
        "outputId": "18b6744d-bd4b-41cd-973a-f1e012b4fe00"
      },
      "execution_count": 12,
      "outputs": [
        {
          "output_type": "execute_result",
          "data": {
            "text/plain": [
              "'Alice in Wonderland'"
            ],
            "application/vnd.google.colaboratory.intrinsic+json": {
              "type": "string"
            }
          },
          "metadata": {},
          "execution_count": 12
        }
      ]
    },
    {
      "cell_type": "code",
      "source": [
        "Book1.imprime()"
      ],
      "metadata": {
        "colab": {
          "base_uri": "https://localhost:8080/"
        },
        "id": "_NIehgPJuR3o",
        "outputId": "0197ba3b-b66a-4c4b-cf2a-26a1fdbc6e34"
      },
      "execution_count": 13,
      "outputs": [
        {
          "output_type": "stream",
          "name": "stdout",
          "text": [
            "It was created the book Alice in Wonderland and the ISBN 985215\n"
          ]
        }
      ]
    },
    {
      "cell_type": "code",
      "source": [
        "class Book():\n",
        "  def __init__(self, title, isbn):\n",
        "    self.title = title\n",
        "    self.isbn = isbn\n",
        "    print('Constructor is called to create an object from this class')\n",
        "  def imprime(self, title, isbn):\n",
        "   print('It was created the book %s and the ISBN %d' %(title, isbn))"
      ],
      "metadata": {
        "id": "LkyNoCLAuWmf"
      },
      "execution_count": 14,
      "outputs": []
    },
    {
      "cell_type": "code",
      "source": [
        "Book2 = Book(\"Don Quixote\", 77856125)"
      ],
      "metadata": {
        "id": "Zx6GzNOp9lkA",
        "outputId": "60d7548f-8dda-4e0e-e081-4131a21688ed",
        "colab": {
          "base_uri": "https://localhost:8080/"
        }
      },
      "execution_count": 15,
      "outputs": [
        {
          "output_type": "stream",
          "name": "stdout",
          "text": [
            "Constructor is called to create an object from this class\n"
          ]
        }
      ]
    },
    {
      "cell_type": "code",
      "source": [
        "Book2.title"
      ],
      "metadata": {
        "id": "MkhIk8fx-JRL",
        "outputId": "a54fc016-6972-4e31-ab5b-30a386cad051",
        "colab": {
          "base_uri": "https://localhost:8080/",
          "height": 35
        }
      },
      "execution_count": 16,
      "outputs": [
        {
          "output_type": "execute_result",
          "data": {
            "text/plain": [
              "'Don Quixote'"
            ],
            "application/vnd.google.colaboratory.intrinsic+json": {
              "type": "string"
            }
          },
          "metadata": {},
          "execution_count": 16
        }
      ]
    },
    {
      "cell_type": "code",
      "source": [
        "Book2.imprime(\"Don Quixote\", 77856125)"
      ],
      "metadata": {
        "id": "i1t4Lw4F-NBH",
        "outputId": "514b90fb-9c96-4bac-a5a6-d308dddd8572",
        "colab": {
          "base_uri": "https://localhost:8080/"
        }
      },
      "execution_count": 17,
      "outputs": [
        {
          "output_type": "stream",
          "name": "stdout",
          "text": [
            "It was created the book Don Quixote and the ISBN 77856125\n"
          ]
        }
      ]
    },
    {
      "cell_type": "code",
      "source": [
        "class Dog():\n",
        "  def __init__(self, breed):\n",
        "    self.breed = breed\n",
        "    print(\"Constructor is called to create an object from this class\")"
      ],
      "metadata": {
        "id": "5B6xfJEFAPTw"
      },
      "execution_count": 18,
      "outputs": []
    },
    {
      "cell_type": "code",
      "source": [
        "Terry = Dog(breed = 'German Shepherd')"
      ],
      "metadata": {
        "id": "x6qzUqs-AuXf",
        "outputId": "30b8610c-1757-4de3-9701-0f309a6f0b95",
        "colab": {
          "base_uri": "https://localhost:8080/"
        }
      },
      "execution_count": 19,
      "outputs": [
        {
          "output_type": "stream",
          "name": "stdout",
          "text": [
            "Constructor is called to create an object from this class\n"
          ]
        }
      ]
    },
    {
      "cell_type": "code",
      "source": [
        "Terry.breed"
      ],
      "metadata": {
        "id": "V5KVNs2tA82E",
        "outputId": "5585e0e7-023e-4663-9faa-f74dc8d24968",
        "colab": {
          "base_uri": "https://localhost:8080/",
          "height": 35
        }
      },
      "execution_count": 20,
      "outputs": [
        {
          "output_type": "execute_result",
          "data": {
            "text/plain": [
              "'German Shepherd'"
            ],
            "application/vnd.google.colaboratory.intrinsic+json": {
              "type": "string"
            }
          },
          "metadata": {},
          "execution_count": 20
        }
      ]
    },
    {
      "cell_type": "code",
      "source": [
        "Lily = Dog(breed = 'Pomeranian')"
      ],
      "metadata": {
        "id": "mFPmcJ6nA-yg",
        "outputId": "5a54403c-ed28-40c9-95b8-191bff618f6b",
        "colab": {
          "base_uri": "https://localhost:8080/"
        }
      },
      "execution_count": 21,
      "outputs": [
        {
          "output_type": "stream",
          "name": "stdout",
          "text": [
            "Constructor is called to create an object from this class\n"
          ]
        }
      ]
    },
    {
      "cell_type": "code",
      "source": [
        "Lily.breed"
      ],
      "metadata": {
        "id": "Vgab4kbPBH-4",
        "outputId": "c844c1fa-8052-4e10-c727-712bae155f12",
        "colab": {
          "base_uri": "https://localhost:8080/",
          "height": 35
        }
      },
      "execution_count": 22,
      "outputs": [
        {
          "output_type": "execute_result",
          "data": {
            "text/plain": [
              "'Pomeranian'"
            ],
            "application/vnd.google.colaboratory.intrinsic+json": {
              "type": "string"
            }
          },
          "metadata": {},
          "execution_count": 22
        }
      ]
    },
    {
      "cell_type": "markdown",
      "source": [
        "# **Objects**\n",
        "\n",
        "Everything in Python is an object."
      ],
      "metadata": {
        "id": "eBH0fYpJBXmw"
      }
    },
    {
      "cell_type": "code",
      "source": [
        ""
      ],
      "metadata": {
        "id": "u9W_ua2sBYqB"
      },
      "execution_count": null,
      "outputs": []
    }
  ]
}