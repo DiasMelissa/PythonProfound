{
  "nbformat": 4,
  "nbformat_minor": 0,
  "metadata": {
    "colab": {
      "name": "Script12.ipynb",
      "provenance": [],
      "authorship_tag": "ABX9TyOL4ekksQrGObWecW/hCc+9",
      "include_colab_link": true
    },
    "kernelspec": {
      "name": "python3",
      "display_name": "Python 3"
    },
    "language_info": {
      "name": "python"
    }
  },
  "cells": [
    {
      "cell_type": "markdown",
      "metadata": {
        "id": "view-in-github",
        "colab_type": "text"
      },
      "source": [
        "<a href=\"https://colab.research.google.com/github/DiasMelissa/DiasMelissa/blob/main/Script12.ipynb\" target=\"_parent\"><img src=\"https://colab.research.google.com/assets/colab-badge.svg\" alt=\"Open In Colab\"/></a>"
      ]
    },
    {
      "cell_type": "markdown",
      "source": [
        "# **Object oriented programming**\n",
        "\n",
        "Structured x object oriented\n",
        "\n",
        "Structured: sequence, decision and iteration.\n",
        "Objected oriented: attributes (caracteres), methods (functions), class.\n",
        "\n",
        "It shows the relationship between real-world objects that is brought to computing.\n",
        "\n",
        "Main concepts:\n",
        "\n",
        "* Class is a template its instance is an object;\n",
        "* Object is a class instance and it has features and properties;\n",
        "* Attributes are features or properties that help identify the object;\n",
        "* Methods are actions of the objects (functions inside the classes);\n",
        "* Message is a call to an object to invoke one of its methods;\n",
        "* Heritage is a mechanism by which a class called a subclass can extend another class called a superclass by taking advantage of its attributes and methods, that is, the subclass inherits attributes and methods from the superclass.\n",
        "Inheritance allows classes to share their attributes and methods and other members within the class;\n",
        "* Polymorphism is the principle from which classes derived from a single base class are able to invoke methods that, although having the same definition, behave differently for each of the derived classes.\n",
        "The same attributes and methods can be used on different objects but with different logical implementations;\n",
        "* Encapsulation is the technique that makes the internal details of the functioning of the methods of a class remain hidden for the objects.\n",
        "\n",
        "**Class** is a basic structure representing the object's type, a template from which objects will be created. It defines the nature of a future object.\n",
        "**Objects** is a classe intance. It represents entities with qualities (attributes) and actions (methods) they can perform.\n",
        "In python everything is an object.\n"
      ],
      "metadata": {
        "id": "cL414BZrM86X"
      }
    },
    {
      "cell_type": "markdown",
      "source": [
        "# **Classes**"
      ],
      "metadata": {
        "id": "CAdGqPhfqECr"
      }
    },
    {
      "cell_type": "code",
      "execution_count": 4,
      "metadata": {
        "id": "2_PIH-CBKPFv"
      },
      "outputs": [],
      "source": [
        "class Book():\n",
        "  def __init__(self):\n",
        "    self.titulo = 'Alice in Wonderland'\n",
        "    self.isbn = 985215\n",
        "    print('Constructor is called to create an object from this class')\n",
        "  def imprime(self):\n",
        "   print('It was created the book %s and the ISBN %d' %(self.titulo, self.isbn))"
      ]
    },
    {
      "cell_type": "code",
      "source": [
        "Book1 = Book()"
      ],
      "metadata": {
        "colab": {
          "base_uri": "https://localhost:8080/"
        },
        "id": "Pkz9rgFpt-Aq",
        "outputId": "44ee8560-4331-4b36-cc9c-7cc6acab67e1"
      },
      "execution_count": 5,
      "outputs": [
        {
          "output_type": "stream",
          "name": "stdout",
          "text": [
            "Constructor is called to create an object from this class\n"
          ]
        }
      ]
    },
    {
      "cell_type": "code",
      "source": [
        "type(Book1)"
      ],
      "metadata": {
        "colab": {
          "base_uri": "https://localhost:8080/"
        },
        "id": "dLzR-McJuFOs",
        "outputId": "5afa8212-cba4-4000-cdc5-7fcdc755d1e8"
      },
      "execution_count": 7,
      "outputs": [
        {
          "output_type": "execute_result",
          "data": {
            "text/plain": [
              "__main__.Book"
            ]
          },
          "metadata": {},
          "execution_count": 7
        }
      ]
    },
    {
      "cell_type": "code",
      "source": [
        "Book1.titulo"
      ],
      "metadata": {
        "colab": {
          "base_uri": "https://localhost:8080/",
          "height": 35
        },
        "id": "40BYthUtuIpI",
        "outputId": "d0ffce2b-cee2-4ed1-fb93-c16aa4738ab7"
      },
      "execution_count": 8,
      "outputs": [
        {
          "output_type": "execute_result",
          "data": {
            "text/plain": [
              "'Alice in Wonderland'"
            ],
            "application/vnd.google.colaboratory.intrinsic+json": {
              "type": "string"
            }
          },
          "metadata": {},
          "execution_count": 8
        }
      ]
    },
    {
      "cell_type": "code",
      "source": [
        "Book1.imprime()"
      ],
      "metadata": {
        "colab": {
          "base_uri": "https://localhost:8080/"
        },
        "id": "_NIehgPJuR3o",
        "outputId": "01653790-d5c9-491e-f5ff-19807e8dd5f6"
      },
      "execution_count": 9,
      "outputs": [
        {
          "output_type": "stream",
          "name": "stdout",
          "text": [
            "It was created the book Alice in Wonderland and the ISBN 985215\n"
          ]
        }
      ]
    },
    {
      "cell_type": "code",
      "source": [
        ""
      ],
      "metadata": {
        "id": "LkyNoCLAuWmf"
      },
      "execution_count": null,
      "outputs": []
    }
  ]
}