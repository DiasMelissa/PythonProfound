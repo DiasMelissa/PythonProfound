{
  "nbformat": 4,
  "nbformat_minor": 0,
  "metadata": {
    "colab": {
      "name": "Script06.ipynb",
      "provenance": [],
      "toc_visible": true,
      "authorship_tag": "ABX9TyOcN44Esp4vQT/660ajE2g2",
      "include_colab_link": true
    },
    "kernelspec": {
      "name": "python3",
      "display_name": "Python 3"
    },
    "language_info": {
      "name": "python"
    }
  },
  "cells": [
    {
      "cell_type": "markdown",
      "metadata": {
        "id": "view-in-github",
        "colab_type": "text"
      },
      "source": [
        "<a href=\"https://colab.research.google.com/github/DiasMelissa/DiasMelissa/blob/main/Script06.ipynb\" target=\"_parent\"><img src=\"https://colab.research.google.com/assets/colab-badge.svg\" alt=\"Open In Colab\"/></a>"
      ]
    },
    {
      "cell_type": "markdown",
      "source": [
        "# **Conditionals if/else/elif**\n",
        "\n",
        "if is useful to execute actions according to certain results.\n",
        "Elif is useful to avoid repetitions inside the if/else structure.\n",
        "\n",
        "if (...):\n",
        "      ....\n",
        "elif(...):\n",
        "      ....      \n",
        "else:\n",
        "      ....      \n"
      ],
      "metadata": {
        "id": "bI4LhmcFcWxF"
      }
    },
    {
      "cell_type": "code",
      "execution_count": 1,
      "metadata": {
        "colab": {
          "base_uri": "https://localhost:8080/"
        },
        "id": "Zllrym9QcQ62",
        "outputId": "81ba45b1-785b-43c2-a9ae-59c945de83cb"
      },
      "outputs": [
        {
          "output_type": "stream",
          "name": "stdout",
          "text": [
            "It's true\n"
          ]
        }
      ],
      "source": [
        "# Conditional if\n",
        "\n",
        "if (100 > 2):\n",
        "  print(\"It's true\")"
      ]
    },
    {
      "cell_type": "code",
      "source": [
        "# Conditional If...Else\n",
        "\n",
        "if (1000 > 10000):\n",
        "    print(\"It's true\")\n",
        "else:\n",
        "  print(\"It's false\")    "
      ],
      "metadata": {
        "colab": {
          "base_uri": "https://localhost:8080/"
        },
        "id": "7lX74pQarxl0",
        "outputId": "5cb4b274-7366-46dd-b98a-fd5448449e9f"
      },
      "execution_count": 3,
      "outputs": [
        {
          "output_type": "stream",
          "name": "stdout",
          "text": [
            "It's false\n"
          ]
        }
      ]
    },
    {
      "cell_type": "code",
      "source": [
        "if (10 == 10):\n",
        "  print(\"It's testing\")"
      ],
      "metadata": {
        "colab": {
          "base_uri": "https://localhost:8080/"
        },
        "id": "XRTicowHsYFR",
        "outputId": "bd93f799-971d-44ac-dc11-35cafd6416b2"
      },
      "execution_count": 5,
      "outputs": [
        {
          "output_type": "stream",
          "name": "stdout",
          "text": [
            "It's testing\n"
          ]
        }
      ]
    },
    {
      "cell_type": "code",
      "source": [
        "if (True):\n",
        "  print(\"It's working\")"
      ],
      "metadata": {
        "colab": {
          "base_uri": "https://localhost:8080/"
        },
        "id": "qlKIHB-RstyX",
        "outputId": "70b3bddd-ca3d-45da-ba5f-e826c2af4441"
      },
      "execution_count": 6,
      "outputs": [
        {
          "output_type": "stream",
          "name": "stdout",
          "text": [
            "It's working\n"
          ]
        }
      ]
    },
    {
      "cell_type": "markdown",
      "source": [
        "Nested conditionals"
      ],
      "metadata": {
        "id": "Zy-AuGZtt0Pr"
      }
    },
    {
      "cell_type": "code",
      "source": [
        "age = 20\n",
        "if (age > 18):\n",
        "  print(\"You're over 18 years old\")"
      ],
      "metadata": {
        "colab": {
          "base_uri": "https://localhost:8080/"
        },
        "id": "0m6rY8QGt_cK",
        "outputId": "863ed4f1-97f6-4b6b-a8a1-d0c1e3f33c7d"
      },
      "execution_count": 26,
      "outputs": [
        {
          "output_type": "stream",
          "name": "stdout",
          "text": [
            "You're over 18 years old\n"
          ]
        }
      ]
    },
    {
      "cell_type": "code",
      "source": [
        "age1 = 16\n",
        "Name = \"Molly\"\n",
        "if (age1 > 17):\n",
        "  if (Name == \"Molly\"):\n",
        "    print(\"You can join us\")\n",
        "  else:\n",
        "    print(\"You can't join us\")  "
      ],
      "metadata": {
        "id": "SAQhzOOTuej3"
      },
      "execution_count": 30,
      "outputs": []
    },
    {
      "cell_type": "code",
      "source": [
        "age1 = 18\n",
        "Name = \"Molly\"\n",
        "if (age1 > 17 and Name == \"Molly\"):\n",
        "    print(\"You can join us\")"
      ],
      "metadata": {
        "colab": {
          "base_uri": "https://localhost:8080/"
        },
        "id": "VhxMTHXIv0Vp",
        "outputId": "b1f92dbf-715c-47de-ba0f-13e9492fb81c"
      },
      "execution_count": 32,
      "outputs": [
        {
          "output_type": "stream",
          "name": "stdout",
          "text": [
            "You can join us\n"
          ]
        }
      ]
    },
    {
      "cell_type": "code",
      "source": [
        "age1 = 18\n",
        "Name = \"Molly\"\n",
        "if (age1 > 17 or Name == \"Molly\"):\n",
        "    print(\"You can join us\")"
      ],
      "metadata": {
        "colab": {
          "base_uri": "https://localhost:8080/"
        },
        "id": "ieU2bZzQzfRK",
        "outputId": "b26d116c-6827-414b-e004-95e23281c383"
      },
      "execution_count": 33,
      "outputs": [
        {
          "output_type": "stream",
          "name": "stdout",
          "text": [
            "You can join us\n"
          ]
        }
      ]
    },
    {
      "cell_type": "markdown",
      "source": [
        "Elif"
      ],
      "metadata": {
        "id": "sVNGYkPoz7Ia"
      }
    },
    {
      "cell_type": "code",
      "source": [
        "day = \"Tuesday\"\n",
        "if (day == \"Monday\"):\n",
        "  print(\"It will rain\")\n",
        "elif (day == \"Tuesday\"):\n",
        "  print(\"It won't rain\")\n",
        "else:\n",
        "  print(\"There isn't information about the weather forecast\")  "
      ],
      "metadata": {
        "colab": {
          "base_uri": "https://localhost:8080/"
        },
        "id": "CcAcDMXtz8aP",
        "outputId": "cc5f3b79-a627-4d0e-d0d3-60f27bbeeb47"
      },
      "execution_count": 34,
      "outputs": [
        {
          "output_type": "stream",
          "name": "stdout",
          "text": [
            "It won't rain\n"
          ]
        }
      ]
    },
    {
      "cell_type": "markdown",
      "source": [
        "Logical operators"
      ],
      "metadata": {
        "id": "RgWf02Nj37Ju"
      }
    },
    {
      "cell_type": "code",
      "source": [
        "subject = input(\"Write the name of the subject: \")\n",
        "final_grade = input(\"Write the final grade (between 0 and 100): \")\n",
        "\n",
        "if (subject == 'English' and final_grade >= '70'):\n",
        "  print(\"You passed\")\n",
        "else:\n",
        "  print(\"You failed\")  "
      ],
      "metadata": {
        "colab": {
          "base_uri": "https://localhost:8080/"
        },
        "id": "mXuCGSQ84A-t",
        "outputId": "a08c4d1c-f1a2-4708-f265-d4fb4c058c9b"
      },
      "execution_count": 36,
      "outputs": [
        {
          "output_type": "stream",
          "name": "stdout",
          "text": [
            "Write the name of the subject: English\n",
            "Write the final grade (between 0 and 100): 80\n",
            "You passed\n"
          ]
        }
      ]
    },
    {
      "cell_type": "code",
      "source": [
        "subject = input(\"Write the name of the subject: \")\n",
        "final_grade = input(\"Write the final grade (between 0 and 100): \")\n",
        "semester = input(\"Write the semester (between 1 and 4): \")\n",
        "\n",
        "if (subject == 'English' and final_grade >= '70' and int(semester) != 1):\n",
        "  print(\"You passed in %s with %r!\" %(subject, final_grade))\n",
        "else:\n",
        "  print(\"You failed\")  "
      ],
      "metadata": {
        "colab": {
          "base_uri": "https://localhost:8080/"
        },
        "id": "6vIWpL2L7z7w",
        "outputId": "323f3762-8ffd-402c-d82e-a73ec0c8cf26"
      },
      "execution_count": 39,
      "outputs": [
        {
          "output_type": "stream",
          "name": "stdout",
          "text": [
            "Write the name of the subject: English\n",
            "Write the final grade (between 0 and 100): 80\n",
            "Write the semester (between 1 and 4): 2\n",
            "You passed in English with '80'!\n"
          ]
        }
      ]
    },
    {
      "cell_type": "markdown",
      "source": [
        "# **Repetition structures**\n",
        "\n",
        "Loop For is usual to validate each item in a set of values.\n",
        "\n",
        "for i in setofvalues:\n",
        "  ..."
      ],
      "metadata": {
        "id": "xMzxAtxwl6bV"
      }
    },
    {
      "cell_type": "markdown",
      "source": [
        "Loop For"
      ],
      "metadata": {
        "id": "lxwRiHlV_OGh"
      }
    },
    {
      "cell_type": "code",
      "source": [
        "year = (2020, 2021, 2022)\n",
        "\n",
        "for i in year:\n",
        "  print(i)"
      ],
      "metadata": {
        "colab": {
          "base_uri": "https://localhost:8080/"
        },
        "id": "dVuAC2_VmGFh",
        "outputId": "49dc4a28-19e4-46e4-9df4-4b9606fa41ea"
      },
      "execution_count": 40,
      "outputs": [
        {
          "output_type": "stream",
          "name": "stdout",
          "text": [
            "2020\n",
            "2021\n",
            "2022\n"
          ]
        }
      ]
    },
    {
      "cell_type": "code",
      "source": [
        "ShoppingList = [\"Egg\", \"Cake\", \"Soda\", \"Cookie\"]\n",
        "\n",
        "for i in ShoppingList:\n",
        "  print(i)"
      ],
      "metadata": {
        "colab": {
          "base_uri": "https://localhost:8080/"
        },
        "id": "Ey4GOc6G_wOy",
        "outputId": "f482da40-a273-48bb-f06b-c76053345ddf"
      },
      "execution_count": 41,
      "outputs": [
        {
          "output_type": "stream",
          "name": "stdout",
          "text": [
            "Egg\n",
            "Cake\n",
            "Soda\n",
            "Cookie\n"
          ]
        }
      ]
    },
    {
      "cell_type": "code",
      "source": [
        "for counter in range(0, 15):\n",
        "  print(counter)"
      ],
      "metadata": {
        "colab": {
          "base_uri": "https://localhost:8080/"
        },
        "id": "FGX6LHlWACN-",
        "outputId": "b12427f7-597b-496c-bec5-3c2760e43c37"
      },
      "execution_count": 42,
      "outputs": [
        {
          "output_type": "stream",
          "name": "stdout",
          "text": [
            "0\n",
            "1\n",
            "2\n",
            "3\n",
            "4\n",
            "5\n",
            "6\n",
            "7\n",
            "8\n",
            "9\n",
            "10\n",
            "11\n",
            "12\n",
            "13\n",
            "14\n"
          ]
        }
      ]
    },
    {
      "cell_type": "code",
      "source": [
        "# Printing even numbers\n",
        "\n",
        "numbers = [10, 20, 22, 34, 50, 9, 1, 15, 16, 45, 60]\n",
        "for i in numbers:\n",
        "  if (i % 2 == 0):\n",
        "    print(i)"
      ],
      "metadata": {
        "colab": {
          "base_uri": "https://localhost:8080/"
        },
        "id": "uMOWLGe2AsVo",
        "outputId": "9f6faefa-ab28-4618-a9b6-d75cb8f26c9b"
      },
      "execution_count": 43,
      "outputs": [
        {
          "output_type": "stream",
          "name": "stdout",
          "text": [
            "10\n",
            "20\n",
            "22\n",
            "34\n",
            "50\n",
            "16\n",
            "60\n"
          ]
        }
      ]
    },
    {
      "cell_type": "code",
      "source": [
        "# Printing numbers between 0 and 50, increment of 2\n",
        "\n",
        "for i in range(0, 50, 2):\n",
        "  print(i)"
      ],
      "metadata": {
        "colab": {
          "base_uri": "https://localhost:8080/"
        },
        "id": "CFsYaByHC7Ig",
        "outputId": "25c8e51c-6093-41d3-b5b4-e5ad16a98657"
      },
      "execution_count": 44,
      "outputs": [
        {
          "output_type": "stream",
          "name": "stdout",
          "text": [
            "0\n",
            "2\n",
            "4\n",
            "6\n",
            "8\n",
            "10\n",
            "12\n",
            "14\n",
            "16\n",
            "18\n",
            "20\n",
            "22\n",
            "24\n",
            "26\n",
            "28\n",
            "30\n",
            "32\n",
            "34\n",
            "36\n",
            "38\n",
            "40\n",
            "42\n",
            "44\n",
            "46\n",
            "48\n"
          ]
        }
      ]
    },
    {
      "cell_type": "code",
      "source": [
        "for character in \"Python is fun\":\n",
        "  print(character)"
      ],
      "metadata": {
        "colab": {
          "base_uri": "https://localhost:8080/"
        },
        "id": "On0OpXRuFgr5",
        "outputId": "306d6eb0-1e0e-4a37-c960-2c9583baafcd"
      },
      "execution_count": 45,
      "outputs": [
        {
          "output_type": "stream",
          "name": "stdout",
          "text": [
            "P\n",
            "y\n",
            "t\n",
            "h\n",
            "o\n",
            "n\n",
            " \n",
            "i\n",
            "s\n",
            " \n",
            "f\n",
            "u\n",
            "n\n"
          ]
        }
      ]
    },
    {
      "cell_type": "markdown",
      "source": [
        "Nested loops"
      ],
      "metadata": {
        "id": "K5tuj6FTIUup"
      }
    },
    {
      "cell_type": "code",
      "source": [
        "for i in range(0,3):\n",
        "  for j in range(0,3):\n",
        "    print(j)"
      ],
      "metadata": {
        "colab": {
          "base_uri": "https://localhost:8080/"
        },
        "id": "mCQpI0S_IWuS",
        "outputId": "15b929b4-1115-4a34-a0f0-b20c31f7f38e"
      },
      "execution_count": 46,
      "outputs": [
        {
          "output_type": "stream",
          "name": "stdout",
          "text": [
            "0\n",
            "1\n",
            "2\n",
            "0\n",
            "1\n",
            "2\n",
            "0\n",
            "1\n",
            "2\n"
          ]
        }
      ]
    },
    {
      "cell_type": "code",
      "source": [
        "A = [20, 15, 11, 36, 40]\n",
        "sum = 0\n",
        "for i in A:\n",
        "  double = i * 2\n",
        "  sum += double\n",
        "print(sum)  "
      ],
      "metadata": {
        "colab": {
          "base_uri": "https://localhost:8080/"
        },
        "id": "7T4sN1S9IvMx",
        "outputId": "0f943d17-fc4d-4d68-9e37-3bba87ed26c7"
      },
      "execution_count": 47,
      "outputs": [
        {
          "output_type": "stream",
          "name": "stdout",
          "text": [
            "244\n"
          ]
        }
      ]
    },
    {
      "cell_type": "code",
      "source": [
        "lists =[[0, 1, 2], [4, 5, 6], [8, 9, 10]]\n",
        "\n",
        "for value in lists:\n",
        "  print(value)"
      ],
      "metadata": {
        "colab": {
          "base_uri": "https://localhost:8080/"
        },
        "id": "xvAXSqypJfU0",
        "outputId": "46dd38c3-74e3-45a1-fb05-c534f03dfbda"
      },
      "execution_count": 48,
      "outputs": [
        {
          "output_type": "stream",
          "name": "stdout",
          "text": [
            "[0, 1, 2]\n",
            "[4, 5, 6]\n",
            "[8, 9, 10]\n"
          ]
        }
      ]
    },
    {
      "cell_type": "code",
      "source": [
        "list1 = [7, 8, 9, 10, 15]\n",
        "\n",
        "counter = 0\n",
        "\n",
        "for i in list1:\n",
        "  counter += 1\n",
        "print(counter)  "
      ],
      "metadata": {
        "colab": {
          "base_uri": "https://localhost:8080/"
        },
        "id": "cvB2VucxJuZA",
        "outputId": "02d34c92-a720-4053-addb-26fbd54f736e"
      },
      "execution_count": 49,
      "outputs": [
        {
          "output_type": "stream",
          "name": "stdout",
          "text": [
            "5\n"
          ]
        }
      ]
    },
    {
      "cell_type": "code",
      "source": [
        "list2 = [[7, 8, 9, 10, 15], [1, 2, 3], [11, 12, 13, 14]]\n",
        "\n",
        "counter = 0\n",
        "firstline = list2[1]\n",
        "for column in firstline:\n",
        "  counter += 1\n",
        "print(counter)  "
      ],
      "metadata": {
        "colab": {
          "base_uri": "https://localhost:8080/"
        },
        "id": "nv3DaCjGKUvu",
        "outputId": "f210336a-ac2c-45ae-c124-f5b60a04f195"
      },
      "execution_count": 51,
      "outputs": [
        {
          "output_type": "stream",
          "name": "stdout",
          "text": [
            "3\n"
          ]
        }
      ]
    },
    {
      "cell_type": "code",
      "source": [
        "list3 = [10, 20, 30, 40, 50]\n",
        "\n",
        "for i in list3:\n",
        "  if (i == 30):\n",
        "    print(\"Found in the list\")"
      ],
      "metadata": {
        "colab": {
          "base_uri": "https://localhost:8080/"
        },
        "id": "rUJzlx5dK2yE",
        "outputId": "4e891860-0c53-42a8-a30d-382652c8f6ba"
      },
      "execution_count": 53,
      "outputs": [
        {
          "output_type": "stream",
          "name": "stdout",
          "text": [
            "Found in the list\n"
          ]
        }
      ]
    },
    {
      "cell_type": "code",
      "source": [
        "dictionary = {'key1': 'Hello', 'key2': 'Bye', 'key3': 'Sure'}\n",
        "for i in dictionary:\n",
        "  print(i)"
      ],
      "metadata": {
        "colab": {
          "base_uri": "https://localhost:8080/"
        },
        "id": "GRq9b15WLU6Q",
        "outputId": "26e1ce48-0c83-4592-ccae-568bd20cd528"
      },
      "execution_count": 54,
      "outputs": [
        {
          "output_type": "stream",
          "name": "stdout",
          "text": [
            "key1\n",
            "key2\n",
            "key3\n"
          ]
        }
      ]
    },
    {
      "cell_type": "code",
      "source": [
        "dictionary = {'key1': 'Hello', 'key2': 'Bye', 'key3': 'Sure'}\n",
        "for i in dictionary.items():\n",
        "  print(i)"
      ],
      "metadata": {
        "colab": {
          "base_uri": "https://localhost:8080/"
        },
        "id": "3xiUvHGaL2QA",
        "outputId": "9b5a92d8-3122-47a2-b299-3fa8247991b3"
      },
      "execution_count": 55,
      "outputs": [
        {
          "output_type": "stream",
          "name": "stdout",
          "text": [
            "('key1', 'Hello')\n",
            "('key2', 'Bye')\n",
            "('key3', 'Sure')\n"
          ]
        }
      ]
    },
    {
      "cell_type": "markdown",
      "source": [
        "# **Methods**"
      ],
      "metadata": {
        "id": "jdhf0NeBmCru"
      }
    },
    {
      "cell_type": "code",
      "source": [
        ""
      ],
      "metadata": {
        "id": "Jt_oip8umK0O"
      },
      "execution_count": null,
      "outputs": []
    },
    {
      "cell_type": "markdown",
      "source": [
        "# **Functions**"
      ],
      "metadata": {
        "id": "US-ln5UpmHUY"
      }
    },
    {
      "cell_type": "code",
      "source": [
        ""
      ],
      "metadata": {
        "id": "3SNI7A30mKbw"
      },
      "execution_count": null,
      "outputs": []
    },
    {
      "cell_type": "markdown",
      "source": [
        "\n",
        "# **Others operations**"
      ],
      "metadata": {
        "id": "wvwmiJuPmLx6"
      }
    },
    {
      "cell_type": "code",
      "source": [
        ""
      ],
      "metadata": {
        "id": "yEBDa7sQmQ8W"
      },
      "execution_count": null,
      "outputs": []
    }
  ]
}