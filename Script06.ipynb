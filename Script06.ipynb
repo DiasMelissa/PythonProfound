{
  "nbformat": 4,
  "nbformat_minor": 0,
  "metadata": {
    "colab": {
      "name": "Script06.ipynb",
      "provenance": [],
      "toc_visible": true,
      "authorship_tag": "ABX9TyPpFfYrmMr4sp1TIp/9/CX4",
      "include_colab_link": true
    },
    "kernelspec": {
      "name": "python3",
      "display_name": "Python 3"
    },
    "language_info": {
      "name": "python"
    }
  },
  "cells": [
    {
      "cell_type": "markdown",
      "metadata": {
        "id": "view-in-github",
        "colab_type": "text"
      },
      "source": [
        "<a href=\"https://colab.research.google.com/github/DiasMelissa/DiasMelissa/blob/main/Script06.ipynb\" target=\"_parent\"><img src=\"https://colab.research.google.com/assets/colab-badge.svg\" alt=\"Open In Colab\"/></a>"
      ]
    },
    {
      "cell_type": "markdown",
      "source": [
        "# **Conditionals if/else/elif**\n",
        "\n",
        "if is useful to execute actions according to certain results.\n",
        "Elif is useful to avoid repetitions inside the if/else structure.\n",
        "\n",
        "if (...):\n",
        "      ....\n",
        "elif(...):\n",
        "      ....      \n",
        "else:\n",
        "      ....  \n",
        "\n",
        "While is useful to execute iterations.\n",
        "\n",
        "while(...):\n",
        "  print(\"Execute if such condition is true\")\n",
        "\n",
        "Range function:\n",
        "\n",
        "range ([start], [stop], [step])\n"
      ],
      "metadata": {
        "id": "bI4LhmcFcWxF"
      }
    },
    {
      "cell_type": "code",
      "execution_count": null,
      "metadata": {
        "colab": {
          "base_uri": "https://localhost:8080/"
        },
        "id": "Zllrym9QcQ62",
        "outputId": "81ba45b1-785b-43c2-a9ae-59c945de83cb"
      },
      "outputs": [
        {
          "output_type": "stream",
          "name": "stdout",
          "text": [
            "It's true\n"
          ]
        }
      ],
      "source": [
        "# Conditional if\n",
        "\n",
        "if (100 > 2):\n",
        "  print(\"It's true\")"
      ]
    },
    {
      "cell_type": "code",
      "source": [
        "# Conditional If...Else\n",
        "\n",
        "if (1000 > 10000):\n",
        "    print(\"It's true\")\n",
        "else:\n",
        "  print(\"It's false\")    "
      ],
      "metadata": {
        "colab": {
          "base_uri": "https://localhost:8080/"
        },
        "id": "7lX74pQarxl0",
        "outputId": "5cb4b274-7366-46dd-b98a-fd5448449e9f"
      },
      "execution_count": null,
      "outputs": [
        {
          "output_type": "stream",
          "name": "stdout",
          "text": [
            "It's false\n"
          ]
        }
      ]
    },
    {
      "cell_type": "code",
      "source": [
        "if (10 == 10):\n",
        "  print(\"It's testing\")"
      ],
      "metadata": {
        "colab": {
          "base_uri": "https://localhost:8080/"
        },
        "id": "XRTicowHsYFR",
        "outputId": "bd93f799-971d-44ac-dc11-35cafd6416b2"
      },
      "execution_count": null,
      "outputs": [
        {
          "output_type": "stream",
          "name": "stdout",
          "text": [
            "It's testing\n"
          ]
        }
      ]
    },
    {
      "cell_type": "code",
      "source": [
        "if (True):\n",
        "  print(\"It's working\")"
      ],
      "metadata": {
        "colab": {
          "base_uri": "https://localhost:8080/"
        },
        "id": "qlKIHB-RstyX",
        "outputId": "70b3bddd-ca3d-45da-ba5f-e826c2af4441"
      },
      "execution_count": null,
      "outputs": [
        {
          "output_type": "stream",
          "name": "stdout",
          "text": [
            "It's working\n"
          ]
        }
      ]
    },
    {
      "cell_type": "markdown",
      "source": [
        "Nested conditionals"
      ],
      "metadata": {
        "id": "Zy-AuGZtt0Pr"
      }
    },
    {
      "cell_type": "code",
      "source": [
        "age = 20\n",
        "if (age > 18):\n",
        "  print(\"You're over 18 years old\")"
      ],
      "metadata": {
        "colab": {
          "base_uri": "https://localhost:8080/"
        },
        "id": "0m6rY8QGt_cK",
        "outputId": "863ed4f1-97f6-4b6b-a8a1-d0c1e3f33c7d"
      },
      "execution_count": null,
      "outputs": [
        {
          "output_type": "stream",
          "name": "stdout",
          "text": [
            "You're over 18 years old\n"
          ]
        }
      ]
    },
    {
      "cell_type": "code",
      "source": [
        "age1 = 16\n",
        "Name = \"Molly\"\n",
        "if (age1 > 17):\n",
        "  if (Name == \"Molly\"):\n",
        "    print(\"You can join us\")\n",
        "  else:\n",
        "    print(\"You can't join us\")  "
      ],
      "metadata": {
        "id": "SAQhzOOTuej3"
      },
      "execution_count": null,
      "outputs": []
    },
    {
      "cell_type": "code",
      "source": [
        "age1 = 18\n",
        "Name = \"Molly\"\n",
        "if (age1 > 17 and Name == \"Molly\"):\n",
        "    print(\"You can join us\")"
      ],
      "metadata": {
        "colab": {
          "base_uri": "https://localhost:8080/"
        },
        "id": "VhxMTHXIv0Vp",
        "outputId": "b1f92dbf-715c-47de-ba0f-13e9492fb81c"
      },
      "execution_count": null,
      "outputs": [
        {
          "output_type": "stream",
          "name": "stdout",
          "text": [
            "You can join us\n"
          ]
        }
      ]
    },
    {
      "cell_type": "code",
      "source": [
        "age1 = 18\n",
        "Name = \"Molly\"\n",
        "if (age1 > 17 or Name == \"Molly\"):\n",
        "    print(\"You can join us\")"
      ],
      "metadata": {
        "colab": {
          "base_uri": "https://localhost:8080/"
        },
        "id": "ieU2bZzQzfRK",
        "outputId": "b26d116c-6827-414b-e004-95e23281c383"
      },
      "execution_count": null,
      "outputs": [
        {
          "output_type": "stream",
          "name": "stdout",
          "text": [
            "You can join us\n"
          ]
        }
      ]
    },
    {
      "cell_type": "markdown",
      "source": [
        "Elif"
      ],
      "metadata": {
        "id": "sVNGYkPoz7Ia"
      }
    },
    {
      "cell_type": "code",
      "source": [
        "day = \"Tuesday\"\n",
        "if (day == \"Monday\"):\n",
        "  print(\"It will rain\")\n",
        "elif (day == \"Tuesday\"):\n",
        "  print(\"It won't rain\")\n",
        "else:\n",
        "  print(\"There isn't information about the weather forecast\")  "
      ],
      "metadata": {
        "colab": {
          "base_uri": "https://localhost:8080/"
        },
        "id": "CcAcDMXtz8aP",
        "outputId": "cc5f3b79-a627-4d0e-d0d3-60f27bbeeb47"
      },
      "execution_count": null,
      "outputs": [
        {
          "output_type": "stream",
          "name": "stdout",
          "text": [
            "It won't rain\n"
          ]
        }
      ]
    },
    {
      "cell_type": "markdown",
      "source": [
        "Logical operators"
      ],
      "metadata": {
        "id": "RgWf02Nj37Ju"
      }
    },
    {
      "cell_type": "code",
      "source": [
        "subject = input(\"Write the name of the subject: \")\n",
        "final_grade = input(\"Write the final grade (between 0 and 100): \")\n",
        "\n",
        "if (subject == 'English' and final_grade >= '70'):\n",
        "  print(\"You passed\")\n",
        "else:\n",
        "  print(\"You failed\")  "
      ],
      "metadata": {
        "colab": {
          "base_uri": "https://localhost:8080/"
        },
        "id": "mXuCGSQ84A-t",
        "outputId": "a08c4d1c-f1a2-4708-f265-d4fb4c058c9b"
      },
      "execution_count": null,
      "outputs": [
        {
          "output_type": "stream",
          "name": "stdout",
          "text": [
            "Write the name of the subject: English\n",
            "Write the final grade (between 0 and 100): 80\n",
            "You passed\n"
          ]
        }
      ]
    },
    {
      "cell_type": "code",
      "source": [
        "subject = input(\"Write the name of the subject: \")\n",
        "final_grade = input(\"Write the final grade (between 0 and 100): \")\n",
        "semester = input(\"Write the semester (between 1 and 4): \")\n",
        "\n",
        "if (subject == 'English' and final_grade >= '70' and int(semester) != 1):\n",
        "  print(\"You passed in %s with %r!\" %(subject, final_grade))\n",
        "else:\n",
        "  print(\"You failed\")  "
      ],
      "metadata": {
        "colab": {
          "base_uri": "https://localhost:8080/"
        },
        "id": "6vIWpL2L7z7w",
        "outputId": "323f3762-8ffd-402c-d82e-a73ec0c8cf26"
      },
      "execution_count": null,
      "outputs": [
        {
          "output_type": "stream",
          "name": "stdout",
          "text": [
            "Write the name of the subject: English\n",
            "Write the final grade (between 0 and 100): 80\n",
            "Write the semester (between 1 and 4): 2\n",
            "You passed in English with '80'!\n"
          ]
        }
      ]
    },
    {
      "cell_type": "markdown",
      "source": [
        "# **Repetition structures**\n",
        "\n",
        "Loop For is usual to validate each item in a set of values.\n",
        "\n",
        "for i in setofvalues:\n",
        "  ..."
      ],
      "metadata": {
        "id": "xMzxAtxwl6bV"
      }
    },
    {
      "cell_type": "markdown",
      "source": [
        "Loop For"
      ],
      "metadata": {
        "id": "lxwRiHlV_OGh"
      }
    },
    {
      "cell_type": "code",
      "source": [
        "year = (2020, 2021, 2022)\n",
        "\n",
        "for i in year:\n",
        "  print(i)"
      ],
      "metadata": {
        "colab": {
          "base_uri": "https://localhost:8080/"
        },
        "id": "dVuAC2_VmGFh",
        "outputId": "49dc4a28-19e4-46e4-9df4-4b9606fa41ea"
      },
      "execution_count": null,
      "outputs": [
        {
          "output_type": "stream",
          "name": "stdout",
          "text": [
            "2020\n",
            "2021\n",
            "2022\n"
          ]
        }
      ]
    },
    {
      "cell_type": "code",
      "source": [
        "ShoppingList = [\"Egg\", \"Cake\", \"Soda\", \"Cookie\"]\n",
        "\n",
        "for i in ShoppingList:\n",
        "  print(i)"
      ],
      "metadata": {
        "colab": {
          "base_uri": "https://localhost:8080/"
        },
        "id": "Ey4GOc6G_wOy",
        "outputId": "f482da40-a273-48bb-f06b-c76053345ddf"
      },
      "execution_count": null,
      "outputs": [
        {
          "output_type": "stream",
          "name": "stdout",
          "text": [
            "Egg\n",
            "Cake\n",
            "Soda\n",
            "Cookie\n"
          ]
        }
      ]
    },
    {
      "cell_type": "code",
      "source": [
        "for counter in range(0, 15):\n",
        "  print(counter)"
      ],
      "metadata": {
        "colab": {
          "base_uri": "https://localhost:8080/"
        },
        "id": "FGX6LHlWACN-",
        "outputId": "b12427f7-597b-496c-bec5-3c2760e43c37"
      },
      "execution_count": null,
      "outputs": [
        {
          "output_type": "stream",
          "name": "stdout",
          "text": [
            "0\n",
            "1\n",
            "2\n",
            "3\n",
            "4\n",
            "5\n",
            "6\n",
            "7\n",
            "8\n",
            "9\n",
            "10\n",
            "11\n",
            "12\n",
            "13\n",
            "14\n"
          ]
        }
      ]
    },
    {
      "cell_type": "code",
      "source": [
        "# Printing even numbers\n",
        "\n",
        "numbers = [10, 20, 22, 34, 50, 9, 1, 15, 16, 45, 60]\n",
        "for i in numbers:\n",
        "  if (i % 2 == 0):\n",
        "    print(i)"
      ],
      "metadata": {
        "colab": {
          "base_uri": "https://localhost:8080/"
        },
        "id": "uMOWLGe2AsVo",
        "outputId": "9f6faefa-ab28-4618-a9b6-d75cb8f26c9b"
      },
      "execution_count": null,
      "outputs": [
        {
          "output_type": "stream",
          "name": "stdout",
          "text": [
            "10\n",
            "20\n",
            "22\n",
            "34\n",
            "50\n",
            "16\n",
            "60\n"
          ]
        }
      ]
    },
    {
      "cell_type": "code",
      "source": [
        "# Printing numbers between 0 and 50, increment of 2\n",
        "\n",
        "for i in range(0, 50, 2):\n",
        "  print(i)"
      ],
      "metadata": {
        "colab": {
          "base_uri": "https://localhost:8080/"
        },
        "id": "CFsYaByHC7Ig",
        "outputId": "25c8e51c-6093-41d3-b5b4-e5ad16a98657"
      },
      "execution_count": null,
      "outputs": [
        {
          "output_type": "stream",
          "name": "stdout",
          "text": [
            "0\n",
            "2\n",
            "4\n",
            "6\n",
            "8\n",
            "10\n",
            "12\n",
            "14\n",
            "16\n",
            "18\n",
            "20\n",
            "22\n",
            "24\n",
            "26\n",
            "28\n",
            "30\n",
            "32\n",
            "34\n",
            "36\n",
            "38\n",
            "40\n",
            "42\n",
            "44\n",
            "46\n",
            "48\n"
          ]
        }
      ]
    },
    {
      "cell_type": "code",
      "source": [
        "for character in \"Python is fun\":\n",
        "  print(character)"
      ],
      "metadata": {
        "colab": {
          "base_uri": "https://localhost:8080/"
        },
        "id": "On0OpXRuFgr5",
        "outputId": "306d6eb0-1e0e-4a37-c960-2c9583baafcd"
      },
      "execution_count": null,
      "outputs": [
        {
          "output_type": "stream",
          "name": "stdout",
          "text": [
            "P\n",
            "y\n",
            "t\n",
            "h\n",
            "o\n",
            "n\n",
            " \n",
            "i\n",
            "s\n",
            " \n",
            "f\n",
            "u\n",
            "n\n"
          ]
        }
      ]
    },
    {
      "cell_type": "markdown",
      "source": [
        "Nested loops"
      ],
      "metadata": {
        "id": "K5tuj6FTIUup"
      }
    },
    {
      "cell_type": "code",
      "source": [
        "for i in range(0,3):\n",
        "  for j in range(0,3):\n",
        "    print(j)"
      ],
      "metadata": {
        "colab": {
          "base_uri": "https://localhost:8080/"
        },
        "id": "mCQpI0S_IWuS",
        "outputId": "15b929b4-1115-4a34-a0f0-b20c31f7f38e"
      },
      "execution_count": null,
      "outputs": [
        {
          "output_type": "stream",
          "name": "stdout",
          "text": [
            "0\n",
            "1\n",
            "2\n",
            "0\n",
            "1\n",
            "2\n",
            "0\n",
            "1\n",
            "2\n"
          ]
        }
      ]
    },
    {
      "cell_type": "code",
      "source": [
        "A = [20, 15, 11, 36, 40]\n",
        "sum = 0\n",
        "for i in A:\n",
        "  double = i * 2\n",
        "  sum += double\n",
        "print(sum)  "
      ],
      "metadata": {
        "colab": {
          "base_uri": "https://localhost:8080/"
        },
        "id": "7T4sN1S9IvMx",
        "outputId": "0f943d17-fc4d-4d68-9e37-3bba87ed26c7"
      },
      "execution_count": null,
      "outputs": [
        {
          "output_type": "stream",
          "name": "stdout",
          "text": [
            "244\n"
          ]
        }
      ]
    },
    {
      "cell_type": "code",
      "source": [
        "lists =[[0, 1, 2], [4, 5, 6], [8, 9, 10]]\n",
        "\n",
        "for value in lists:\n",
        "  print(value)"
      ],
      "metadata": {
        "colab": {
          "base_uri": "https://localhost:8080/"
        },
        "id": "xvAXSqypJfU0",
        "outputId": "46dd38c3-74e3-45a1-fb05-c534f03dfbda"
      },
      "execution_count": null,
      "outputs": [
        {
          "output_type": "stream",
          "name": "stdout",
          "text": [
            "[0, 1, 2]\n",
            "[4, 5, 6]\n",
            "[8, 9, 10]\n"
          ]
        }
      ]
    },
    {
      "cell_type": "code",
      "source": [
        "list1 = [7, 8, 9, 10, 15]\n",
        "\n",
        "counter = 0\n",
        "\n",
        "for i in list1:\n",
        "  counter += 1\n",
        "print(counter)  "
      ],
      "metadata": {
        "colab": {
          "base_uri": "https://localhost:8080/"
        },
        "id": "cvB2VucxJuZA",
        "outputId": "02d34c92-a720-4053-addb-26fbd54f736e"
      },
      "execution_count": null,
      "outputs": [
        {
          "output_type": "stream",
          "name": "stdout",
          "text": [
            "5\n"
          ]
        }
      ]
    },
    {
      "cell_type": "code",
      "source": [
        "list2 = [[7, 8, 9, 10, 15], [1, 2, 3], [11, 12, 13, 14]]\n",
        "\n",
        "counter = 0\n",
        "firstline = list2[1]\n",
        "for column in firstline:\n",
        "  counter += 1\n",
        "print(counter)  "
      ],
      "metadata": {
        "colab": {
          "base_uri": "https://localhost:8080/"
        },
        "id": "nv3DaCjGKUvu",
        "outputId": "f210336a-ac2c-45ae-c124-f5b60a04f195"
      },
      "execution_count": null,
      "outputs": [
        {
          "output_type": "stream",
          "name": "stdout",
          "text": [
            "3\n"
          ]
        }
      ]
    },
    {
      "cell_type": "code",
      "source": [
        "list3 = [10, 20, 30, 40, 50]\n",
        "\n",
        "for i in list3:\n",
        "  if (i == 30):\n",
        "    print(\"Found in the list\")"
      ],
      "metadata": {
        "colab": {
          "base_uri": "https://localhost:8080/"
        },
        "id": "rUJzlx5dK2yE",
        "outputId": "4e891860-0c53-42a8-a30d-382652c8f6ba"
      },
      "execution_count": null,
      "outputs": [
        {
          "output_type": "stream",
          "name": "stdout",
          "text": [
            "Found in the list\n"
          ]
        }
      ]
    },
    {
      "cell_type": "code",
      "source": [
        "dictionary = {'key1': 'Hello', 'key2': 'Bye', 'key3': 'Sure'}\n",
        "for i in dictionary:\n",
        "  print(i)"
      ],
      "metadata": {
        "colab": {
          "base_uri": "https://localhost:8080/"
        },
        "id": "GRq9b15WLU6Q",
        "outputId": "26e1ce48-0c83-4592-ccae-568bd20cd528"
      },
      "execution_count": null,
      "outputs": [
        {
          "output_type": "stream",
          "name": "stdout",
          "text": [
            "key1\n",
            "key2\n",
            "key3\n"
          ]
        }
      ]
    },
    {
      "cell_type": "code",
      "source": [
        "dictionary = {'key1': 'Hello', 'key2': 'Bye', 'key3': 'Sure'}\n",
        "for i in dictionary.items():\n",
        "  print(i)"
      ],
      "metadata": {
        "colab": {
          "base_uri": "https://localhost:8080/"
        },
        "id": "3xiUvHGaL2QA",
        "outputId": "9b5a92d8-3122-47a2-b299-3fa8247991b3"
      },
      "execution_count": null,
      "outputs": [
        {
          "output_type": "stream",
          "name": "stdout",
          "text": [
            "('key1', 'Hello')\n",
            "('key2', 'Bye')\n",
            "('key3', 'Sure')\n"
          ]
        }
      ]
    },
    {
      "cell_type": "markdown",
      "source": [
        "While"
      ],
      "metadata": {
        "id": "tzUOxyZ40rxM"
      }
    },
    {
      "cell_type": "code",
      "source": [
        "counter = 0\n",
        "while (counter <= 15):\n",
        "  print(counter)\n",
        "  counter = counter + 1"
      ],
      "metadata": {
        "colab": {
          "base_uri": "https://localhost:8080/"
        },
        "id": "nb2tsmms0o1E",
        "outputId": "be93af1e-9d08-4628-a3d3-dbf4ad369ef5"
      },
      "execution_count": null,
      "outputs": [
        {
          "output_type": "stream",
          "name": "stdout",
          "text": [
            "0\n",
            "1\n",
            "2\n",
            "3\n",
            "4\n",
            "5\n",
            "6\n",
            "7\n",
            "8\n",
            "9\n",
            "10\n",
            "11\n",
            "12\n",
            "13\n",
            "14\n",
            "15\n"
          ]
        }
      ]
    },
    {
      "cell_type": "code",
      "source": [
        "y = 0\n",
        "\n",
        "while (y < 15):\n",
        "  print(\"The value of y in this iteration is: \", y)\n",
        "  print(\"y is still smaller than 15, adding 1 to y\")\n",
        "  y += 1\n",
        "\n",
        "else:\n",
        "  print(\"Finish\")  "
      ],
      "metadata": {
        "id": "uEhAjRw91N9Q",
        "outputId": "41eb5a32-c057-492f-b9ea-b4d4657249f1",
        "colab": {
          "base_uri": "https://localhost:8080/"
        }
      },
      "execution_count": null,
      "outputs": [
        {
          "output_type": "stream",
          "name": "stdout",
          "text": [
            "The value of y in this iteration is:  0\n",
            "y is still smaller than 15, adding 1 to y\n",
            "The value of y in this iteration is:  1\n",
            "y is still smaller than 15, adding 1 to y\n",
            "The value of y in this iteration is:  2\n",
            "y is still smaller than 15, adding 1 to y\n",
            "The value of y in this iteration is:  3\n",
            "y is still smaller than 15, adding 1 to y\n",
            "The value of y in this iteration is:  4\n",
            "y is still smaller than 15, adding 1 to y\n",
            "The value of y in this iteration is:  5\n",
            "y is still smaller than 15, adding 1 to y\n",
            "The value of y in this iteration is:  6\n",
            "y is still smaller than 15, adding 1 to y\n",
            "The value of y in this iteration is:  7\n",
            "y is still smaller than 15, adding 1 to y\n",
            "The value of y in this iteration is:  8\n",
            "y is still smaller than 15, adding 1 to y\n",
            "The value of y in this iteration is:  9\n",
            "y is still smaller than 15, adding 1 to y\n",
            "The value of y in this iteration is:  10\n",
            "y is still smaller than 15, adding 1 to y\n",
            "The value of y in this iteration is:  11\n",
            "y is still smaller than 15, adding 1 to y\n",
            "The value of y in this iteration is:  12\n",
            "y is still smaller than 15, adding 1 to y\n",
            "The value of y in this iteration is:  13\n",
            "y is still smaller than 15, adding 1 to y\n",
            "The value of y in this iteration is:  14\n",
            "y is still smaller than 15, adding 1 to y\n",
            "Finish\n"
          ]
        }
      ]
    },
    {
      "cell_type": "markdown",
      "source": [
        "Pass, break and continue"
      ],
      "metadata": {
        "id": "ABfN3YzB2mXX"
      }
    },
    {
      "cell_type": "code",
      "source": [
        "counter = 0\n",
        "while (counter < 80):\n",
        "  if (counter == 10):\n",
        "    break\n",
        "  else:\n",
        "    pass\n",
        "  print(counter) \n",
        "  counter = counter + 1   "
      ],
      "metadata": {
        "id": "34Gt5UO22ptJ",
        "outputId": "c2ee7219-68cd-446e-f3ef-d2aadcbbb84e",
        "colab": {
          "base_uri": "https://localhost:8080/"
        }
      },
      "execution_count": null,
      "outputs": [
        {
          "output_type": "stream",
          "name": "stdout",
          "text": [
            "0\n",
            "1\n",
            "2\n",
            "3\n",
            "4\n",
            "5\n",
            "6\n",
            "7\n",
            "8\n",
            "9\n"
          ]
        }
      ]
    },
    {
      "cell_type": "code",
      "source": [
        "for verify in \"Python\":\n",
        "  if verify == \"o\":\n",
        "    continue\n",
        "  print(verify)  "
      ],
      "metadata": {
        "id": "AOi8lrN47RNY",
        "outputId": "d3f4b297-dffc-4427-8ca5-94571300c257",
        "colab": {
          "base_uri": "https://localhost:8080/"
        }
      },
      "execution_count": null,
      "outputs": [
        {
          "output_type": "stream",
          "name": "stdout",
          "text": [
            "P\n",
            "y\n",
            "t\n",
            "h\n",
            "n\n"
          ]
        }
      ]
    },
    {
      "cell_type": "code",
      "source": [
        "def checkNumberIsPrime(number):\n",
        "  counter = 2\n",
        "\n",
        "  while (counter < number):\n",
        "    if (number % counter == 0):\n",
        "      return False\n",
        "\n",
        "    counter = counter + 1\n",
        "\n",
        "  return True\n",
        "\n",
        "\n",
        "for number in range(2,21):\n",
        "  itIsPrimeNumber = checkNumberIsPrime(number)\n",
        "\n",
        "  if (itIsPrimeNumber):\n",
        "    print(str(number) + \" is a prime number\")\n"
      ],
      "metadata": {
        "id": "GEUse6AG8zFZ",
        "outputId": "f1dec420-63a9-4b52-cb7b-065173e6c414",
        "colab": {
          "base_uri": "https://localhost:8080/"
        }
      },
      "execution_count": null,
      "outputs": [
        {
          "output_type": "stream",
          "name": "stdout",
          "text": [
            "2 is a prime number\n",
            "3 is a prime number\n",
            "5 is a prime number\n",
            "7 is a prime number\n",
            "11 is a prime number\n",
            "13 is a prime number\n",
            "17 is a prime number\n",
            "19 is a prime number\n"
          ]
        }
      ]
    },
    {
      "cell_type": "markdown",
      "source": [
        "Range"
      ],
      "metadata": {
        "id": "yCPUE7icGu5Z"
      }
    },
    {
      "cell_type": "code",
      "source": [
        "print(range(10, 20, 2))"
      ],
      "metadata": {
        "id": "2R8FxpycGs_t",
        "outputId": "715af9a6-1c37-4f42-9e49-71ff9775b36b",
        "colab": {
          "base_uri": "https://localhost:8080/"
        }
      },
      "execution_count": null,
      "outputs": [
        {
          "output_type": "stream",
          "name": "stdout",
          "text": [
            "range(10, 20, 2)\n"
          ]
        }
      ]
    },
    {
      "cell_type": "code",
      "source": [
        "for Number in range(0, 10, 3):\n",
        "  print(Number)"
      ],
      "metadata": {
        "id": "DzvLAnXlHBmj",
        "outputId": "8f93e822-d3e9-41cf-876f-3a2bae50c38a",
        "colab": {
          "base_uri": "https://localhost:8080/"
        }
      },
      "execution_count": null,
      "outputs": [
        {
          "output_type": "stream",
          "name": "stdout",
          "text": [
            "0\n",
            "3\n",
            "6\n",
            "9\n"
          ]
        }
      ]
    },
    {
      "cell_type": "code",
      "source": [
        "for Number in range(3, 9):\n",
        "  print(Number)"
      ],
      "metadata": {
        "id": "PtSAoH0LHXog",
        "outputId": "797847fd-80d4-42c6-c498-2d5c5eae95bb",
        "colab": {
          "base_uri": "https://localhost:8080/"
        }
      },
      "execution_count": null,
      "outputs": [
        {
          "output_type": "stream",
          "name": "stdout",
          "text": [
            "3\n",
            "4\n",
            "5\n",
            "6\n",
            "7\n",
            "8\n"
          ]
        }
      ]
    },
    {
      "cell_type": "code",
      "source": [
        "for Number in range(0, -10, -3):\n",
        "  print(Number)"
      ],
      "metadata": {
        "id": "zeHmDDFmHeau",
        "outputId": "2199385d-e521-4653-867e-4dd2567c0305",
        "colab": {
          "base_uri": "https://localhost:8080/"
        }
      },
      "execution_count": null,
      "outputs": [
        {
          "output_type": "stream",
          "name": "stdout",
          "text": [
            "0\n",
            "-3\n",
            "-6\n",
            "-9\n"
          ]
        }
      ]
    },
    {
      "cell_type": "code",
      "source": [
        "fruits = [\"Apple\", \"Lemon\", \"Orange\", \"Banana\"]\n",
        "length_fruits = len(fruits)\n",
        "print(len(fruits))\n",
        "for i in range(0, length_fruits):\n",
        "  print(fruits[i])"
      ],
      "metadata": {
        "id": "-EqHIDsHHxdV",
        "outputId": "8b7777ca-7968-4015-fdb9-ddd0c955d804",
        "colab": {
          "base_uri": "https://localhost:8080/"
        }
      },
      "execution_count": null,
      "outputs": [
        {
          "output_type": "stream",
          "name": "stdout",
          "text": [
            "4\n",
            "Apple\n",
            "Lemon\n",
            "Orange\n",
            "Banana\n"
          ]
        }
      ]
    },
    {
      "cell_type": "code",
      "source": [
        "type(range(0, 5))"
      ],
      "metadata": {
        "id": "DFdlUYIQJFoP",
        "outputId": "f512356f-e309-4025-f8f4-72820a784e6a",
        "colab": {
          "base_uri": "https://localhost:8080/"
        }
      },
      "execution_count": null,
      "outputs": [
        {
          "output_type": "execute_result",
          "data": {
            "text/plain": [
              "range"
            ]
          },
          "metadata": {},
          "execution_count": 31
        }
      ]
    },
    {
      "cell_type": "markdown",
      "source": [
        "# **Methods**\n",
        "\n",
        "Functions are built into objects. It allows you to perform specific actions and it can have arguments. \n",
        "\n",
        "objeto.method (arg1, arg2, ...)"
      ],
      "metadata": {
        "id": "jdhf0NeBmCru"
      }
    },
    {
      "cell_type": "code",
      "source": [
        "list1 = []"
      ],
      "metadata": {
        "id": "Jt_oip8umK0O"
      },
      "execution_count": null,
      "outputs": []
    },
    {
      "cell_type": "code",
      "source": [
        "list1.append(2)\n",
        "print(list1)"
      ],
      "metadata": {
        "id": "3gYsweJ3Kh3T",
        "outputId": "0b7323a3-30be-4424-e191-d51a5005faf4",
        "colab": {
          "base_uri": "https://localhost:8080/"
        }
      },
      "execution_count": null,
      "outputs": [
        {
          "output_type": "stream",
          "name": "stdout",
          "text": [
            "[2]\n"
          ]
        }
      ]
    },
    {
      "cell_type": "code",
      "source": [
        "list1.count(2)"
      ],
      "metadata": {
        "id": "ZnnmldgTKpNu",
        "outputId": "e304339f-892e-478c-8c8e-af4655e26111",
        "colab": {
          "base_uri": "https://localhost:8080/"
        }
      },
      "execution_count": null,
      "outputs": [
        {
          "output_type": "execute_result",
          "data": {
            "text/plain": [
              "1"
            ]
          },
          "metadata": {},
          "execution_count": 37
        }
      ]
    },
    {
      "cell_type": "code",
      "source": [
        "# Function help() explains how to use a method\n",
        "help(list1.count)"
      ],
      "metadata": {
        "id": "oa9gWRqwLUjp",
        "outputId": "828da8e9-978d-457c-fa5d-1af194d17e17",
        "colab": {
          "base_uri": "https://localhost:8080/"
        }
      },
      "execution_count": null,
      "outputs": [
        {
          "output_type": "stream",
          "name": "stdout",
          "text": [
            "Help on built-in function count:\n",
            "\n",
            "count(value, /) method of builtins.list instance\n",
            "    Return number of occurrences of value.\n",
            "\n"
          ]
        }
      ]
    },
    {
      "cell_type": "code",
      "source": [
        "# Show all the methods and attributes from an object\n",
        "dir(list1)"
      ],
      "metadata": {
        "id": "nOgIu3aLLkK-",
        "outputId": "193c2415-5d71-4aa5-acaa-44c190f16a52",
        "colab": {
          "base_uri": "https://localhost:8080/"
        }
      },
      "execution_count": null,
      "outputs": [
        {
          "output_type": "execute_result",
          "data": {
            "text/plain": [
              "['__add__',\n",
              " '__class__',\n",
              " '__contains__',\n",
              " '__delattr__',\n",
              " '__delitem__',\n",
              " '__dir__',\n",
              " '__doc__',\n",
              " '__eq__',\n",
              " '__format__',\n",
              " '__ge__',\n",
              " '__getattribute__',\n",
              " '__getitem__',\n",
              " '__gt__',\n",
              " '__hash__',\n",
              " '__iadd__',\n",
              " '__imul__',\n",
              " '__init__',\n",
              " '__init_subclass__',\n",
              " '__iter__',\n",
              " '__le__',\n",
              " '__len__',\n",
              " '__lt__',\n",
              " '__mul__',\n",
              " '__ne__',\n",
              " '__new__',\n",
              " '__reduce__',\n",
              " '__reduce_ex__',\n",
              " '__repr__',\n",
              " '__reversed__',\n",
              " '__rmul__',\n",
              " '__setattr__',\n",
              " '__setitem__',\n",
              " '__sizeof__',\n",
              " '__str__',\n",
              " '__subclasshook__',\n",
              " 'append',\n",
              " 'clear',\n",
              " 'copy',\n",
              " 'count',\n",
              " 'extend',\n",
              " 'index',\n",
              " 'insert',\n",
              " 'pop',\n",
              " 'remove',\n",
              " 'reverse',\n",
              " 'sort']"
            ]
          },
          "metadata": {},
          "execution_count": 40
        }
      ]
    },
    {
      "cell_type": "code",
      "source": [
        "name = \"Molly is a bird\"\n",
        "print(name.split())"
      ],
      "metadata": {
        "id": "WNI1hhdhLyPJ",
        "outputId": "f187b3e8-204c-4d29-b290-a5ffdfcf11a6",
        "colab": {
          "base_uri": "https://localhost:8080/"
        }
      },
      "execution_count": null,
      "outputs": [
        {
          "output_type": "stream",
          "name": "stdout",
          "text": [
            "['Molly', 'is', 'a', 'bird']\n"
          ]
        }
      ]
    },
    {
      "cell_type": "markdown",
      "source": [
        "# **Functions**\n",
        "\n",
        "They are useful when we construct code that are getting bigger to solve problems. We can bundle a set of instructions and there are parameters can serve as input to a function.\n",
        "\n",
        "def functionName(arg1,arg2):\n",
        "\n",
        "  ''' Comments '''\n",
        "\n",
        "  Here is the code\n",
        "  Here is the return of the function"
      ],
      "metadata": {
        "id": "US-ln5UpmHUY"
      }
    },
    {
      "cell_type": "code",
      "source": [
        "# Defining a function\n",
        "\n",
        "def firstFunction():\n",
        "  print(\"Hello World\")"
      ],
      "metadata": {
        "id": "3SNI7A30mKbw"
      },
      "execution_count": 1,
      "outputs": []
    },
    {
      "cell_type": "code",
      "source": [
        "firstFunction()"
      ],
      "metadata": {
        "id": "W1WcQxwf7_5L",
        "outputId": "498f10fa-b5ae-441f-f90c-bc3a44d46b0d",
        "colab": {
          "base_uri": "https://localhost:8080/"
        }
      },
      "execution_count": 2,
      "outputs": [
        {
          "output_type": "stream",
          "name": "stdout",
          "text": [
            "Hello World\n"
          ]
        }
      ]
    },
    {
      "cell_type": "code",
      "source": [
        "# Defining a function with parameter\n",
        "\n",
        "def secondFunction(name):\n",
        "  print(\"Hello %s\" %(name))\n"
      ],
      "metadata": {
        "id": "9LuuDfbG8DD5"
      },
      "execution_count": 3,
      "outputs": []
    },
    {
      "cell_type": "code",
      "source": [
        "secondFunction('Molly')"
      ],
      "metadata": {
        "id": "-zbxWp0b8bN-",
        "outputId": "fd5ce286-18fe-4921-c40f-d40e82b598c4",
        "colab": {
          "base_uri": "https://localhost:8080/"
        }
      },
      "execution_count": 4,
      "outputs": [
        {
          "output_type": "stream",
          "name": "stdout",
          "text": [
            "Hello Molly\n"
          ]
        }
      ]
    },
    {
      "cell_type": "code",
      "source": [
        "def thirdFunction():\n",
        "  for i in range(0,10):\n",
        "    print(\"Number \"+ str(i))"
      ],
      "metadata": {
        "id": "dUoDMC1D-ntN"
      },
      "execution_count": 11,
      "outputs": []
    },
    {
      "cell_type": "code",
      "source": [
        "thirdFunction()"
      ],
      "metadata": {
        "id": "9cOHw2uZ-5DE",
        "outputId": "0b09789a-b05c-4c91-ddb0-c3ab38b16b67",
        "colab": {
          "base_uri": "https://localhost:8080/"
        }
      },
      "execution_count": 12,
      "outputs": [
        {
          "output_type": "stream",
          "name": "stdout",
          "text": [
            "Number 0\n",
            "Number 1\n",
            "Number 2\n",
            "Number 3\n",
            "Number 4\n",
            "Number 5\n",
            "Number 6\n",
            "Number 7\n",
            "Number 8\n",
            "Number 9\n"
          ]
        }
      ]
    },
    {
      "cell_type": "code",
      "source": [
        "def addNumber(firstNumber, secondNumber):\n",
        "  print(\"First number is \" + str(firstNumber))\n",
        "  print(\"Second number is \" + str(secondNumber))\n",
        "  print(\"Sum is \", firstNumber + secondNumber )\n"
      ],
      "metadata": {
        "id": "sh8hNA9P_ekO"
      },
      "execution_count": 16,
      "outputs": []
    },
    {
      "cell_type": "code",
      "source": [
        "addNumber(3, 2)"
      ],
      "metadata": {
        "id": "bxC9zNsCAKNr",
        "outputId": "af9b638a-4b3f-4b25-bc2f-3110828b2350",
        "colab": {
          "base_uri": "https://localhost:8080/"
        }
      },
      "execution_count": 17,
      "outputs": [
        {
          "output_type": "stream",
          "name": "stdout",
          "text": [
            "First number is 3\n",
            "Second number is 2\n",
            "Sum is  5\n"
          ]
        }
      ]
    },
    {
      "cell_type": "markdown",
      "source": [
        "Local and global variables"
      ],
      "metadata": {
        "id": "lV4tbEuGAukS"
      }
    },
    {
      "cell_type": "code",
      "source": [
        "global_var = 100\n",
        "\n",
        "def multiply(numberOne, numberTwo):\n",
        "\n",
        "  local_var = numberOne * numberTwo\n",
        "  print(local_var)\n"
      ],
      "metadata": {
        "id": "StZ15gBxAZen"
      },
      "execution_count": 22,
      "outputs": []
    },
    {
      "cell_type": "code",
      "source": [
        "multiply(5, 10)"
      ],
      "metadata": {
        "id": "boNg-lUcBIiZ",
        "outputId": "55a847dc-d45c-430d-8e7f-41b01c14c407",
        "colab": {
          "base_uri": "https://localhost:8080/"
        }
      },
      "execution_count": 23,
      "outputs": [
        {
          "output_type": "stream",
          "name": "stdout",
          "text": [
            "50\n"
          ]
        }
      ]
    },
    {
      "cell_type": "code",
      "source": [
        "print(global_var)"
      ],
      "metadata": {
        "id": "WndhOjPQBa0Y",
        "outputId": "a8adbab7-c673-42bb-ec68-5ebfc9cb2cb5",
        "colab": {
          "base_uri": "https://localhost:8080/"
        }
      },
      "execution_count": 24,
      "outputs": [
        {
          "output_type": "stream",
          "name": "stdout",
          "text": [
            "100\n"
          ]
        }
      ]
    },
    {
      "cell_type": "code",
      "source": [
        "print(local_var) # There is only inside the function"
      ],
      "metadata": {
        "id": "OLobPBcQBe0e"
      },
      "execution_count": null,
      "outputs": []
    },
    {
      "cell_type": "markdown",
      "source": [
        "Built in functions"
      ],
      "metadata": {
        "id": "ysNerFpMBxTM"
      }
    },
    {
      "cell_type": "code",
      "source": [
        "abs(-10)"
      ],
      "metadata": {
        "id": "tss8V2zDB9aG",
        "outputId": "60834f6a-2ee8-4cdb-8098-ab33fc9bea39",
        "colab": {
          "base_uri": "https://localhost:8080/"
        }
      },
      "execution_count": 27,
      "outputs": [
        {
          "output_type": "execute_result",
          "data": {
            "text/plain": [
              "10"
            ]
          },
          "metadata": {},
          "execution_count": 27
        }
      ]
    },
    {
      "cell_type": "code",
      "source": [
        "abs(100)"
      ],
      "metadata": {
        "id": "rbjq6AUVCBp3",
        "outputId": "6dc267c6-c6a8-43ae-82c0-e84008299e64",
        "colab": {
          "base_uri": "https://localhost:8080/"
        }
      },
      "execution_count": 28,
      "outputs": [
        {
          "output_type": "execute_result",
          "data": {
            "text/plain": [
              "100"
            ]
          },
          "metadata": {},
          "execution_count": 28
        }
      ]
    },
    {
      "cell_type": "code",
      "source": [
        "bool(0)"
      ],
      "metadata": {
        "id": "u4DX5PMPCFul",
        "outputId": "db02ab29-7020-4bb2-97aa-025eeb74d183",
        "colab": {
          "base_uri": "https://localhost:8080/"
        }
      },
      "execution_count": 29,
      "outputs": [
        {
          "output_type": "execute_result",
          "data": {
            "text/plain": [
              "False"
            ]
          },
          "metadata": {},
          "execution_count": 29
        }
      ]
    },
    {
      "cell_type": "code",
      "source": [
        "bool(1)"
      ],
      "metadata": {
        "id": "lkipjXFmCHjn",
        "outputId": "1bcf5404-af7c-4596-e4c3-e3168b460ed2",
        "colab": {
          "base_uri": "https://localhost:8080/"
        }
      },
      "execution_count": 30,
      "outputs": [
        {
          "output_type": "execute_result",
          "data": {
            "text/plain": [
              "True"
            ]
          },
          "metadata": {},
          "execution_count": 30
        }
      ]
    },
    {
      "cell_type": "markdown",
      "source": [
        "Str, float and int functions"
      ],
      "metadata": {
        "id": "_3-ZFyeuCTCb"
      }
    },
    {
      "cell_type": "code",
      "source": [
        "age = int(input(\"Write with your age: \"))\n",
        "\n",
        "if (age >= 18):\n",
        "  print(\"You can drive\")"
      ],
      "metadata": {
        "id": "E_Yz2XHhCWkb",
        "outputId": "f92ccd5b-cac3-4ba2-dd04-14d8b9c688f7",
        "colab": {
          "base_uri": "https://localhost:8080/"
        }
      },
      "execution_count": 32,
      "outputs": [
        {
          "output_type": "stream",
          "name": "stdout",
          "text": [
            "Write with your age: 18\n",
            "You can drive\n"
          ]
        }
      ]
    },
    {
      "cell_type": "code",
      "source": [
        "int(50)"
      ],
      "metadata": {
        "id": "LIHA9oSJDHM0",
        "outputId": "48172bb6-e3c6-4618-c913-6b3e0cb2175e",
        "colab": {
          "base_uri": "https://localhost:8080/"
        }
      },
      "execution_count": 33,
      "outputs": [
        {
          "output_type": "execute_result",
          "data": {
            "text/plain": [
              "50"
            ]
          },
          "metadata": {},
          "execution_count": 33
        }
      ]
    },
    {
      "cell_type": "code",
      "source": [
        "float(12.5)"
      ],
      "metadata": {
        "id": "5tb9lRrrDI-d",
        "outputId": "690ce94f-c819-4fdf-ad1d-eaffb7b89f5f",
        "colab": {
          "base_uri": "https://localhost:8080/"
        }
      },
      "execution_count": 34,
      "outputs": [
        {
          "output_type": "execute_result",
          "data": {
            "text/plain": [
              "12.5"
            ]
          },
          "metadata": {},
          "execution_count": 34
        }
      ]
    },
    {
      "cell_type": "code",
      "source": [
        "str(10)"
      ],
      "metadata": {
        "id": "xtdgLjkXDLw_",
        "outputId": "10d1053e-1eae-43be-b8b6-71ee93f05fca",
        "colab": {
          "base_uri": "https://localhost:8080/",
          "height": 36
        }
      },
      "execution_count": 35,
      "outputs": [
        {
          "output_type": "execute_result",
          "data": {
            "text/plain": [
              "'10'"
            ],
            "application/vnd.google.colaboratory.intrinsic+json": {
              "type": "string"
            }
          },
          "metadata": {},
          "execution_count": 35
        }
      ]
    },
    {
      "cell_type": "code",
      "source": [
        "len([5,10,15,20])"
      ],
      "metadata": {
        "id": "fcpc1e5xDO-I",
        "outputId": "bdbfefb9-fefc-438f-a3e8-a3d048c13ba1",
        "colab": {
          "base_uri": "https://localhost:8080/"
        }
      },
      "execution_count": 36,
      "outputs": [
        {
          "output_type": "execute_result",
          "data": {
            "text/plain": [
              "4"
            ]
          },
          "metadata": {},
          "execution_count": 36
        }
      ]
    },
    {
      "cell_type": "code",
      "source": [
        "listOne= [0, 1, 2, 3]"
      ],
      "metadata": {
        "id": "w6YE5_QVDXwd"
      },
      "execution_count": 37,
      "outputs": []
    },
    {
      "cell_type": "code",
      "source": [
        "max(listOne)"
      ],
      "metadata": {
        "id": "HOq6Z2bbDbqD",
        "outputId": "4ce8b142-fd86-4291-b0de-67fc5c5f2ebf",
        "colab": {
          "base_uri": "https://localhost:8080/"
        }
      },
      "execution_count": 38,
      "outputs": [
        {
          "output_type": "execute_result",
          "data": {
            "text/plain": [
              "3"
            ]
          },
          "metadata": {},
          "execution_count": 38
        }
      ]
    },
    {
      "cell_type": "code",
      "source": [
        "min(listOne)"
      ],
      "metadata": {
        "id": "9CkeS_vfDd-U",
        "outputId": "34857eda-8aec-4adb-d0c5-d7648bd49588",
        "colab": {
          "base_uri": "https://localhost:8080/"
        }
      },
      "execution_count": 39,
      "outputs": [
        {
          "output_type": "execute_result",
          "data": {
            "text/plain": [
              "0"
            ]
          },
          "metadata": {},
          "execution_count": 39
        }
      ]
    },
    {
      "cell_type": "code",
      "source": [
        "listTwo= [50, 100, 200, 250]"
      ],
      "metadata": {
        "id": "O7Fi-mxsDlpQ"
      },
      "execution_count": 40,
      "outputs": []
    },
    {
      "cell_type": "code",
      "source": [
        "sum(listTwo)"
      ],
      "metadata": {
        "id": "hP68y9NVDpn8",
        "outputId": "6c0c5750-9761-4855-9052-23e08f0b788f",
        "colab": {
          "base_uri": "https://localhost:8080/"
        }
      },
      "execution_count": 41,
      "outputs": [
        {
          "output_type": "execute_result",
          "data": {
            "text/plain": [
              "600"
            ]
          },
          "metadata": {},
          "execution_count": 41
        }
      ]
    },
    {
      "cell_type": "markdown",
      "source": [
        "\n",
        "Creating functions with others"
      ],
      "metadata": {
        "id": "pOAfo6CYGUAi"
      }
    },
    {
      "cell_type": "code",
      "source": [
        "import math\n",
        "\n",
        "def numberPrime(number):\n",
        "\n",
        "  ''' \n",
        "  Verify if number \n",
        "  is prime \n",
        "  '''\n",
        "  \n",
        "  if (number % 2 == 0 and number > 2):\n",
        "    return \"This number is not prime\"\n",
        "\n",
        "  for i in range(3, int(math.sqrt(number)) + 1, 2):\n",
        "    if (number % i == 0):\n",
        "      return \"This number is not prime\"\n",
        "  return \"This number is prime\"    \n",
        "      "
      ],
      "metadata": {
        "id": "wETKjCe2GbA2"
      },
      "execution_count": 42,
      "outputs": []
    },
    {
      "cell_type": "code",
      "source": [
        "numberPrime(3)"
      ],
      "metadata": {
        "id": "kQ0Z0LNAILas",
        "outputId": "09751c79-d059-47b1-e3a3-f1c4b830d9d8",
        "colab": {
          "base_uri": "https://localhost:8080/",
          "height": 36
        }
      },
      "execution_count": 45,
      "outputs": [
        {
          "output_type": "execute_result",
          "data": {
            "text/plain": [
              "'This number is prime'"
            ],
            "application/vnd.google.colaboratory.intrinsic+json": {
              "type": "string"
            }
          },
          "metadata": {},
          "execution_count": 45
        }
      ]
    },
    {
      "cell_type": "markdown",
      "source": [
        "Data split"
      ],
      "metadata": {
        "id": "H_m2xMWsI70A"
      }
    },
    {
      "cell_type": "code",
      "source": [
        "def split_text(text):\n",
        "  return text.split(\" \")\n"
      ],
      "metadata": {
        "id": "xYs5MCcPJCgO"
      },
      "execution_count": 49,
      "outputs": []
    },
    {
      "cell_type": "code",
      "source": [
        "split_text(\"This is a python example\")"
      ],
      "metadata": {
        "id": "f7vFRhYkJcrt",
        "outputId": "5588c936-85ba-44e0-91f6-7d90d9b7609e",
        "colab": {
          "base_uri": "https://localhost:8080/"
        }
      },
      "execution_count": 50,
      "outputs": [
        {
          "output_type": "execute_result",
          "data": {
            "text/plain": [
              "['This', 'is', 'a', 'python', 'example']"
            ]
          },
          "metadata": {},
          "execution_count": 50
        }
      ]
    },
    {
      "cell_type": "code",
      "source": [
        "variable = split_text(\"This is a python example\")\n",
        "print(variable)"
      ],
      "metadata": {
        "id": "Uh-TMt4fJpYB",
        "outputId": "5f15faf0-6bbb-4bdf-f1a8-ecadc7e8ed0d",
        "colab": {
          "base_uri": "https://localhost:8080/"
        }
      },
      "execution_count": 52,
      "outputs": [
        {
          "output_type": "stream",
          "name": "stdout",
          "text": [
            "['This', 'is', 'a', 'python', 'example']\n"
          ]
        }
      ]
    },
    {
      "cell_type": "code",
      "source": [
        "Lower_example = \"This Text is an Example of LowerCase\""
      ],
      "metadata": {
        "id": "xpOHGW0mKH-A"
      },
      "execution_count": 53,
      "outputs": []
    },
    {
      "cell_type": "code",
      "source": [
        "def lowerCase(text):\n",
        "  return text.lower()"
      ],
      "metadata": {
        "id": "qCz23i-5KZCu"
      },
      "execution_count": 54,
      "outputs": []
    },
    {
      "cell_type": "code",
      "source": [
        "lower_string = lowerCase(Lower_example)"
      ],
      "metadata": {
        "id": "lKBHFg1hKmLF"
      },
      "execution_count": 55,
      "outputs": []
    },
    {
      "cell_type": "code",
      "source": [
        "lower_string"
      ],
      "metadata": {
        "id": "fL1BNrmbKvg_",
        "outputId": "7cfc0ea8-1d43-458b-ffd5-f2a69860ed96",
        "colab": {
          "base_uri": "https://localhost:8080/",
          "height": 36
        }
      },
      "execution_count": 56,
      "outputs": [
        {
          "output_type": "execute_result",
          "data": {
            "text/plain": [
              "'this text is an example of lowercase'"
            ],
            "application/vnd.google.colaboratory.intrinsic+json": {
              "type": "string"
            }
          },
          "metadata": {},
          "execution_count": 56
        }
      ]
    },
    {
      "cell_type": "markdown",
      "source": [
        "Functions with variable variables"
      ],
      "metadata": {
        "id": "5Wi-XKFSLDGQ"
      }
    },
    {
      "cell_type": "code",
      "source": [
        "def printVarInfo(arg1, *vartuple):\n",
        "  print(\"The parameter that was passed :\", arg1)\n",
        "\n",
        "  for item in vartuple:\n",
        "    print(\"The parameter that was passed :\", item)\n",
        "  return;    \n"
      ],
      "metadata": {
        "id": "zNueNqCqLEBC"
      },
      "execution_count": 62,
      "outputs": []
    },
    {
      "cell_type": "code",
      "source": [
        "printVarInfo(5)"
      ],
      "metadata": {
        "id": "5p2xLy8fLsm5",
        "outputId": "1e4c6942-ec8c-404f-d380-41dfdd4ecc76",
        "colab": {
          "base_uri": "https://localhost:8080/"
        }
      },
      "execution_count": 63,
      "outputs": [
        {
          "output_type": "stream",
          "name": "stdout",
          "text": [
            "The parameter that was passed : 5\n"
          ]
        }
      ]
    },
    {
      "cell_type": "code",
      "source": [
        "printVarInfo('Mel', 'Molly', 'Will')"
      ],
      "metadata": {
        "id": "XVXX2Tj9MHwy",
        "outputId": "e312925d-f5d0-43f6-8344-77f417b320a7",
        "colab": {
          "base_uri": "https://localhost:8080/"
        }
      },
      "execution_count": 64,
      "outputs": [
        {
          "output_type": "stream",
          "name": "stdout",
          "text": [
            "The parameter that was passed : Mel\n",
            "The parameter that was passed : Molly\n",
            "The parameter that was passed : Will\n"
          ]
        }
      ]
    },
    {
      "cell_type": "markdown",
      "source": [
        "\n",
        "# **Lambda expressions**\n",
        "\n",
        "There are anonymous functions. There is no need to define a function using the def word. It useful when it is used with math(), filter() and reduce().\n",
        "\n",
        "Example:\n",
        "\n",
        "lambda x:x**2"
      ],
      "metadata": {
        "id": "wvwmiJuPmLx6"
      }
    },
    {
      "cell_type": "code",
      "source": [
        "power = lambda number: number ** 2"
      ],
      "metadata": {
        "id": "mpy_g2mTOQOJ"
      },
      "execution_count": 65,
      "outputs": []
    },
    {
      "cell_type": "code",
      "source": [
        "power(2)"
      ],
      "metadata": {
        "id": "Oa58U_2nOYcO",
        "outputId": "60d15ce6-ecb4-4d68-b62f-cc49ba634cf3",
        "colab": {
          "base_uri": "https://localhost:8080/"
        }
      },
      "execution_count": 66,
      "outputs": [
        {
          "output_type": "execute_result",
          "data": {
            "text/plain": [
              "4"
            ]
          },
          "metadata": {},
          "execution_count": 66
        }
      ]
    },
    {
      "cell_type": "code",
      "source": [
        "evenNumber = lambda x: x % 2 == 0"
      ],
      "metadata": {
        "id": "yEBDa7sQmQ8W"
      },
      "execution_count": 67,
      "outputs": []
    },
    {
      "cell_type": "code",
      "source": [
        "evenNumber(5)"
      ],
      "metadata": {
        "id": "4q5JCU9OO2dO",
        "outputId": "c262f7c3-9b97-45f8-d56f-7cc955629632",
        "colab": {
          "base_uri": "https://localhost:8080/"
        }
      },
      "execution_count": 68,
      "outputs": [
        {
          "output_type": "execute_result",
          "data": {
            "text/plain": [
              "False"
            ]
          },
          "metadata": {},
          "execution_count": 68
        }
      ]
    },
    {
      "cell_type": "code",
      "source": [
        "evenNumber(6)"
      ],
      "metadata": {
        "id": "8JENIpsvO5jZ",
        "outputId": "43089be7-10c4-41c6-b13a-6495e1bf711e",
        "colab": {
          "base_uri": "https://localhost:8080/"
        }
      },
      "execution_count": 70,
      "outputs": [
        {
          "output_type": "execute_result",
          "data": {
            "text/plain": [
              "True"
            ]
          },
          "metadata": {},
          "execution_count": 70
        }
      ]
    },
    {
      "cell_type": "code",
      "source": [
        "first = lambda s:s[0]"
      ],
      "metadata": {
        "id": "OXvZbMpzPDBm"
      },
      "execution_count": 71,
      "outputs": []
    },
    {
      "cell_type": "code",
      "source": [
        "first('Melissa')"
      ],
      "metadata": {
        "id": "HJNkycS8PIWm",
        "outputId": "5f562dba-8bd3-4482-9b7b-4bcee9111358",
        "colab": {
          "base_uri": "https://localhost:8080/",
          "height": 36
        }
      },
      "execution_count": 72,
      "outputs": [
        {
          "output_type": "execute_result",
          "data": {
            "text/plain": [
              "'M'"
            ],
            "application/vnd.google.colaboratory.intrinsic+json": {
              "type": "string"
            }
          },
          "metadata": {},
          "execution_count": 72
        }
      ]
    },
    {
      "cell_type": "code",
      "source": [
        "reverse = lambda s:s[::-1]"
      ],
      "metadata": {
        "id": "D3I7u54_PPaT"
      },
      "execution_count": 73,
      "outputs": []
    },
    {
      "cell_type": "code",
      "source": [
        "reverse('Melissa')"
      ],
      "metadata": {
        "id": "nOWOYP4WPXPd",
        "outputId": "e70740d5-4799-4a11-b98d-22cf9c5f5764",
        "colab": {
          "base_uri": "https://localhost:8080/",
          "height": 36
        }
      },
      "execution_count": 74,
      "outputs": [
        {
          "output_type": "execute_result",
          "data": {
            "text/plain": [
              "'assileM'"
            ],
            "application/vnd.google.colaboratory.intrinsic+json": {
              "type": "string"
            }
          },
          "metadata": {},
          "execution_count": 74
        }
      ]
    },
    {
      "cell_type": "code",
      "source": [
        "addNumber = lambda x,y: x+y "
      ],
      "metadata": {
        "id": "EK1WPSX-Pbdu"
      },
      "execution_count": 75,
      "outputs": []
    },
    {
      "cell_type": "code",
      "source": [
        "addNumber(5, 10)"
      ],
      "metadata": {
        "id": "yD1luJ7qPi8S",
        "outputId": "c9d5a9be-5b7d-415c-8aa9-96749d6232dc",
        "colab": {
          "base_uri": "https://localhost:8080/"
        }
      },
      "execution_count": 76,
      "outputs": [
        {
          "output_type": "execute_result",
          "data": {
            "text/plain": [
              "15"
            ]
          },
          "metadata": {},
          "execution_count": 76
        }
      ]
    }
  ]
}