{
  "nbformat": 4,
  "nbformat_minor": 0,
  "metadata": {
    "colab": {
      "name": "Script06.ipynb",
      "provenance": [],
      "toc_visible": true,
      "authorship_tag": "ABX9TyOhiDhKN0yZU5dMJaQlBUYq",
      "include_colab_link": true
    },
    "kernelspec": {
      "name": "python3",
      "display_name": "Python 3"
    },
    "language_info": {
      "name": "python"
    }
  },
  "cells": [
    {
      "cell_type": "markdown",
      "metadata": {
        "id": "view-in-github",
        "colab_type": "text"
      },
      "source": [
        "<a href=\"https://colab.research.google.com/github/DiasMelissa/DiasMelissa/blob/main/Script06.ipynb\" target=\"_parent\"><img src=\"https://colab.research.google.com/assets/colab-badge.svg\" alt=\"Open In Colab\"/></a>"
      ]
    },
    {
      "cell_type": "markdown",
      "source": [
        "# **Conditionals if/else/elif**\n",
        "\n",
        "if is useful to execute actions according to certain results.\n",
        "Elif is useful to avoid repetitions inside the if/else structure.\n",
        "\n",
        "if (...):\n",
        "      ....\n",
        "elif(...):\n",
        "      ....      \n",
        "else:\n",
        "      ....      \n"
      ],
      "metadata": {
        "id": "bI4LhmcFcWxF"
      }
    },
    {
      "cell_type": "code",
      "execution_count": 1,
      "metadata": {
        "colab": {
          "base_uri": "https://localhost:8080/"
        },
        "id": "Zllrym9QcQ62",
        "outputId": "81ba45b1-785b-43c2-a9ae-59c945de83cb"
      },
      "outputs": [
        {
          "output_type": "stream",
          "name": "stdout",
          "text": [
            "It's true\n"
          ]
        }
      ],
      "source": [
        "# Conditional if\n",
        "\n",
        "if (100 > 2):\n",
        "  print(\"It's true\")"
      ]
    },
    {
      "cell_type": "code",
      "source": [
        "# Conditional If...Else\n",
        "\n",
        "if (1000 > 10000):\n",
        "    print(\"It's true\")\n",
        "else:\n",
        "  print(\"It's false\")    "
      ],
      "metadata": {
        "colab": {
          "base_uri": "https://localhost:8080/"
        },
        "id": "7lX74pQarxl0",
        "outputId": "5cb4b274-7366-46dd-b98a-fd5448449e9f"
      },
      "execution_count": 3,
      "outputs": [
        {
          "output_type": "stream",
          "name": "stdout",
          "text": [
            "It's false\n"
          ]
        }
      ]
    },
    {
      "cell_type": "code",
      "source": [
        "if (10 == 10):\n",
        "  print(\"It's testing\")"
      ],
      "metadata": {
        "colab": {
          "base_uri": "https://localhost:8080/"
        },
        "id": "XRTicowHsYFR",
        "outputId": "bd93f799-971d-44ac-dc11-35cafd6416b2"
      },
      "execution_count": 5,
      "outputs": [
        {
          "output_type": "stream",
          "name": "stdout",
          "text": [
            "It's testing\n"
          ]
        }
      ]
    },
    {
      "cell_type": "code",
      "source": [
        "if (True):\n",
        "  print(\"It's working\")"
      ],
      "metadata": {
        "colab": {
          "base_uri": "https://localhost:8080/"
        },
        "id": "qlKIHB-RstyX",
        "outputId": "70b3bddd-ca3d-45da-ba5f-e826c2af4441"
      },
      "execution_count": 6,
      "outputs": [
        {
          "output_type": "stream",
          "name": "stdout",
          "text": [
            "It's working\n"
          ]
        }
      ]
    },
    {
      "cell_type": "markdown",
      "source": [
        "Nested conditionals"
      ],
      "metadata": {
        "id": "Zy-AuGZtt0Pr"
      }
    },
    {
      "cell_type": "code",
      "source": [
        "age = 20\n",
        "if (age > 18):\n",
        "  print(\"You're over 18 years old\")"
      ],
      "metadata": {
        "colab": {
          "base_uri": "https://localhost:8080/"
        },
        "id": "0m6rY8QGt_cK",
        "outputId": "863ed4f1-97f6-4b6b-a8a1-d0c1e3f33c7d"
      },
      "execution_count": 26,
      "outputs": [
        {
          "output_type": "stream",
          "name": "stdout",
          "text": [
            "You're over 18 years old\n"
          ]
        }
      ]
    },
    {
      "cell_type": "code",
      "source": [
        "age1 = 16\n",
        "Name = \"Molly\"\n",
        "if (age1 > 17):\n",
        "  if (Name == \"Molly\"):\n",
        "    print(\"You can join us\")\n",
        "  else:\n",
        "    print(\"You can't join us\")  "
      ],
      "metadata": {
        "id": "SAQhzOOTuej3"
      },
      "execution_count": 30,
      "outputs": []
    },
    {
      "cell_type": "code",
      "source": [
        "age1 = 18\n",
        "Name = \"Molly\"\n",
        "if (age1 > 17 and Name == \"Molly\"):\n",
        "    print(\"You can join us\")"
      ],
      "metadata": {
        "colab": {
          "base_uri": "https://localhost:8080/"
        },
        "id": "VhxMTHXIv0Vp",
        "outputId": "b1f92dbf-715c-47de-ba0f-13e9492fb81c"
      },
      "execution_count": 32,
      "outputs": [
        {
          "output_type": "stream",
          "name": "stdout",
          "text": [
            "You can join us\n"
          ]
        }
      ]
    },
    {
      "cell_type": "code",
      "source": [
        "age1 = 18\n",
        "Name = \"Molly\"\n",
        "if (age1 > 17 or Name == \"Molly\"):\n",
        "    print(\"You can join us\")"
      ],
      "metadata": {
        "colab": {
          "base_uri": "https://localhost:8080/"
        },
        "id": "ieU2bZzQzfRK",
        "outputId": "b26d116c-6827-414b-e004-95e23281c383"
      },
      "execution_count": 33,
      "outputs": [
        {
          "output_type": "stream",
          "name": "stdout",
          "text": [
            "You can join us\n"
          ]
        }
      ]
    },
    {
      "cell_type": "markdown",
      "source": [
        "Elif"
      ],
      "metadata": {
        "id": "sVNGYkPoz7Ia"
      }
    },
    {
      "cell_type": "code",
      "source": [
        "day = \"Tuesday\"\n",
        "if (day == \"Monday\"):\n",
        "  print(\"It will rain\")\n",
        "elif (day == \"Tuesday\"):\n",
        "  print(\"It won't rain\")\n",
        "else:\n",
        "  print(\"There isn't information about the weather forecast\")  "
      ],
      "metadata": {
        "colab": {
          "base_uri": "https://localhost:8080/"
        },
        "id": "CcAcDMXtz8aP",
        "outputId": "cc5f3b79-a627-4d0e-d0d3-60f27bbeeb47"
      },
      "execution_count": 34,
      "outputs": [
        {
          "output_type": "stream",
          "name": "stdout",
          "text": [
            "It won't rain\n"
          ]
        }
      ]
    },
    {
      "cell_type": "markdown",
      "source": [
        "Logical operators"
      ],
      "metadata": {
        "id": "RgWf02Nj37Ju"
      }
    },
    {
      "cell_type": "code",
      "source": [
        "subject = input(\"Write the name of the subject: \")\n",
        "final_grade = input(\"Write the final grade (between 0 and 100): \")\n",
        "\n",
        "if (subject == 'English' and final_grade >= '70'):\n",
        "  print(\"You passed\")\n",
        "else:\n",
        "  print(\"You failed\")  "
      ],
      "metadata": {
        "colab": {
          "base_uri": "https://localhost:8080/"
        },
        "id": "mXuCGSQ84A-t",
        "outputId": "a08c4d1c-f1a2-4708-f265-d4fb4c058c9b"
      },
      "execution_count": 36,
      "outputs": [
        {
          "output_type": "stream",
          "name": "stdout",
          "text": [
            "Write the name of the subject: English\n",
            "Write the final grade (between 0 and 100): 80\n",
            "You passed\n"
          ]
        }
      ]
    },
    {
      "cell_type": "code",
      "source": [
        "subject = input(\"Write the name of the subject: \")\n",
        "final_grade = input(\"Write the final grade (between 0 and 100): \")\n",
        "semester = input(\"Write the semester (between 1 and 4): \")\n",
        "\n",
        "if (subject == 'English' and final_grade >= '70' and int(semester) != 1):\n",
        "  print(\"You passed in %s with %r!\" %(subject, final_grade))\n",
        "else:\n",
        "  print(\"You failed\")  "
      ],
      "metadata": {
        "colab": {
          "base_uri": "https://localhost:8080/"
        },
        "id": "6vIWpL2L7z7w",
        "outputId": "323f3762-8ffd-402c-d82e-a73ec0c8cf26"
      },
      "execution_count": 39,
      "outputs": [
        {
          "output_type": "stream",
          "name": "stdout",
          "text": [
            "Write the name of the subject: English\n",
            "Write the final grade (between 0 and 100): 80\n",
            "Write the semester (between 1 and 4): 2\n",
            "You passed in English with '80'!\n"
          ]
        }
      ]
    },
    {
      "cell_type": "markdown",
      "source": [
        "# **Repetition structures**"
      ],
      "metadata": {
        "id": "xMzxAtxwl6bV"
      }
    },
    {
      "cell_type": "code",
      "source": [
        ""
      ],
      "metadata": {
        "id": "dVuAC2_VmGFh"
      },
      "execution_count": null,
      "outputs": []
    },
    {
      "cell_type": "markdown",
      "source": [
        "# **Methods**"
      ],
      "metadata": {
        "id": "jdhf0NeBmCru"
      }
    },
    {
      "cell_type": "code",
      "source": [
        ""
      ],
      "metadata": {
        "id": "Jt_oip8umK0O"
      },
      "execution_count": null,
      "outputs": []
    },
    {
      "cell_type": "markdown",
      "source": [
        "# **Functions**"
      ],
      "metadata": {
        "id": "US-ln5UpmHUY"
      }
    },
    {
      "cell_type": "code",
      "source": [
        ""
      ],
      "metadata": {
        "id": "3SNI7A30mKbw"
      },
      "execution_count": null,
      "outputs": []
    },
    {
      "cell_type": "markdown",
      "source": [
        "\n",
        "# **Others operations**"
      ],
      "metadata": {
        "id": "wvwmiJuPmLx6"
      }
    },
    {
      "cell_type": "code",
      "source": [
        ""
      ],
      "metadata": {
        "id": "yEBDa7sQmQ8W"
      },
      "execution_count": null,
      "outputs": []
    }
  ]
}