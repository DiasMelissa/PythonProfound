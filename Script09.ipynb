{
  "nbformat": 4,
  "nbformat_minor": 0,
  "metadata": {
    "colab": {
      "name": "Script09.ipynb",
      "provenance": [],
      "authorship_tag": "ABX9TyP2APa06fyW+n++B89PD5zj",
      "include_colab_link": true
    },
    "kernelspec": {
      "name": "python3",
      "display_name": "Python 3"
    },
    "language_info": {
      "name": "python"
    }
  },
  "cells": [
    {
      "cell_type": "markdown",
      "metadata": {
        "id": "view-in-github",
        "colab_type": "text"
      },
      "source": [
        "<a href=\"https://colab.research.google.com/github/DiasMelissa/DiasMelissa/blob/main/Script09.ipynb\" target=\"_parent\"><img src=\"https://colab.research.google.com/assets/colab-badge.svg\" alt=\"Open In Colab\"/></a>"
      ]
    },
    {
      "cell_type": "markdown",
      "source": [
        "# **Manipulating files**\n",
        "\n",
        "* TXT\n",
        "* CSV\n",
        "* JSON"
      ],
      "metadata": {
        "id": "lTXwRt_ucoac"
      }
    },
    {
      "cell_type": "markdown",
      "source": [
        "Manipulating txt files"
      ],
      "metadata": {
        "id": "iHsTLFkod3bU"
      }
    },
    {
      "cell_type": "code",
      "execution_count": 9,
      "metadata": {
        "id": "QMsnYt2ycdl7"
      },
      "outputs": [],
      "source": [
        "text = \"Data Science is growing.\\n\"\n",
        "text = text + \"It's required knowledge of statistics, programming and machine learning.\\n\"\n",
        "text = text + \"For sure, in Big Data.\""
      ]
    },
    {
      "cell_type": "code",
      "source": [
        "print(text)"
      ],
      "metadata": {
        "colab": {
          "base_uri": "https://localhost:8080/"
        },
        "id": "8Bgc1nS3e9lv",
        "outputId": "b39891be-6387-4a42-efbb-5f1471090af5"
      },
      "execution_count": 10,
      "outputs": [
        {
          "output_type": "stream",
          "name": "stdout",
          "text": [
            "Data Science is growing.\n",
            "It's required knowledge of statistics, programming and machine learning.\n",
            "For sure, in Big Data.\n"
          ]
        }
      ]
    },
    {
      "cell_type": "code",
      "source": [
        "import os\n",
        "file = open(os.path.join(\"cientista.txt\"), 'w')"
      ],
      "metadata": {
        "id": "SE5nnerGfBRv"
      },
      "execution_count": 11,
      "outputs": []
    },
    {
      "cell_type": "code",
      "source": [
        "for word in text.split():\n",
        "  file.write(word+ ' ')"
      ],
      "metadata": {
        "id": "r8fnXYp-fihD"
      },
      "execution_count": 12,
      "outputs": []
    },
    {
      "cell_type": "code",
      "source": [
        "file.close()"
      ],
      "metadata": {
        "id": "1f8fsC7ifwsx"
      },
      "execution_count": 13,
      "outputs": []
    },
    {
      "cell_type": "code",
      "source": [
        "file = open(\"cientista.txt\", 'r')\n",
        "content = file.read()\n",
        "file.close()\n",
        "print(content)"
      ],
      "metadata": {
        "colab": {
          "base_uri": "https://localhost:8080/"
        },
        "id": "QNHJF9Q3fzfD",
        "outputId": "30f71470-013e-4041-bc84-ca881a0abf69"
      },
      "execution_count": 14,
      "outputs": [
        {
          "output_type": "stream",
          "name": "stdout",
          "text": [
            "Data Science is growing. It's required knowledge of statistics, programming and machine learning. For sure, in Big Data. \n"
          ]
        }
      ]
    },
    {
      "cell_type": "markdown",
      "source": [
        "Using the expression with\n",
        "\n",
        "Close() runs automatically. "
      ],
      "metadata": {
        "id": "bnx-BNphgZrJ"
      }
    },
    {
      "cell_type": "code",
      "source": [
        "with open('cientista.txt', 'r') as file:\n",
        "  content = file.read()"
      ],
      "metadata": {
        "id": "LQh2DropgMgv"
      },
      "execution_count": 16,
      "outputs": []
    },
    {
      "cell_type": "code",
      "source": [
        "print(len(content))"
      ],
      "metadata": {
        "colab": {
          "base_uri": "https://localhost:8080/"
        },
        "id": "ECwoXTdahpPX",
        "outputId": "ea7d89a5-4e4b-45c3-8a40-1460e8fe8a2a"
      },
      "execution_count": 17,
      "outputs": [
        {
          "output_type": "stream",
          "name": "stdout",
          "text": [
            "121\n"
          ]
        }
      ]
    },
    {
      "cell_type": "code",
      "source": [
        "print(content)"
      ],
      "metadata": {
        "colab": {
          "base_uri": "https://localhost:8080/"
        },
        "id": "3AshEF6OhszQ",
        "outputId": "90f0afe6-d063-4c3f-c4a5-f1cc628f6fb7"
      },
      "execution_count": 18,
      "outputs": [
        {
          "output_type": "stream",
          "name": "stdout",
          "text": [
            "Data Science is growing. It's required knowledge of statistics, programming and machine learning. For sure, in Big Data. \n"
          ]
        }
      ]
    },
    {
      "cell_type": "code",
      "source": [
        "with open('cientista.txt', 'w') as file1:\n",
        "  file1.write(text[:21])\n",
        "  file1.write('\\n')\n",
        "  file1.write(text[:33])"
      ],
      "metadata": {
        "id": "oKDZzbpfhv9T"
      },
      "execution_count": 38,
      "outputs": []
    },
    {
      "cell_type": "code",
      "source": [
        "file1 = open(\"cientista.txt\", 'r')\n",
        "content = file1.read()\n",
        "file1.close()\n",
        "\n",
        "print(text)"
      ],
      "metadata": {
        "colab": {
          "base_uri": "https://localhost:8080/"
        },
        "id": "N_yWnuF4iPIk",
        "outputId": "3c8b3caa-374c-483a-e849-1ad0a175a9e7"
      },
      "execution_count": 39,
      "outputs": [
        {
          "output_type": "stream",
          "name": "stdout",
          "text": [
            "Data Science is growing.\n",
            "It's required knowledge of statistics, programming and machine learning.\n",
            "For sure, in Big Data.\n"
          ]
        }
      ]
    },
    {
      "cell_type": "markdown",
      "source": [
        "Manipulating csv files"
      ],
      "metadata": {
        "id": "EVsLb5YokQi0"
      }
    },
    {
      "cell_type": "code",
      "source": [
        "import csv"
      ],
      "metadata": {
        "id": "vRkmozQnlLk9"
      },
      "execution_count": 40,
      "outputs": []
    },
    {
      "cell_type": "code",
      "source": [
        "with open('numeros.csv', 'w') as file:\n",
        "  writer = csv.writer(file)\n",
        "  writer.writerow(('First', 'Second', 'Third'))\n",
        "  writer.writerow((41, 80, 95))\n",
        "  writer.writerow((56, 75, 99))"
      ],
      "metadata": {
        "id": "KrE7g6BOlTkS"
      },
      "execution_count": 42,
      "outputs": []
    },
    {
      "cell_type": "code",
      "source": [
        "with open('numeros.csv', 'r') as file:\n",
        "  read = csv.reader(file)\n",
        "  for i in read:\n",
        "    print(\"Number of columns:\", len(i))\n",
        "    print(i)"
      ],
      "metadata": {
        "colab": {
          "base_uri": "https://localhost:8080/"
        },
        "id": "Ktp_aUZBl9fo",
        "outputId": "10bf9315-910a-4464-9c27-0253cc49fea5"
      },
      "execution_count": 43,
      "outputs": [
        {
          "output_type": "stream",
          "name": "stdout",
          "text": [
            "Number of columns: 3\n",
            "['First', 'Second', 'Third']\n",
            "Number of columns: 3\n",
            "['41', '80', '95']\n",
            "Number of columns: 3\n",
            "['56', '75', '99']\n"
          ]
        }
      ]
    },
    {
      "cell_type": "code",
      "source": [
        "# Converting the file to list\n",
        "with open('numeros.csv', 'r') as file:\n",
        "  read = csv.reader(file)\n",
        "  data = list(read)\n",
        "print(data)  "
      ],
      "metadata": {
        "colab": {
          "base_uri": "https://localhost:8080/"
        },
        "id": "oLFIA4M0n1uk",
        "outputId": "b8348ef8-75b9-4cbc-e31e-ec63e2d515a0"
      },
      "execution_count": 44,
      "outputs": [
        {
          "output_type": "stream",
          "name": "stdout",
          "text": [
            "[['First', 'Second', 'Third'], ['41', '80', '95'], ['56', '75', '99']]\n"
          ]
        }
      ]
    },
    {
      "cell_type": "code",
      "source": [
        "for line in data[1:]:\n",
        "  print(line)"
      ],
      "metadata": {
        "colab": {
          "base_uri": "https://localhost:8080/"
        },
        "id": "AsDkAkzeoiPS",
        "outputId": "980b3a30-0341-444d-e691-c23a88f064aa"
      },
      "execution_count": 49,
      "outputs": [
        {
          "output_type": "stream",
          "name": "stdout",
          "text": [
            "['41', '80', '95']\n",
            "['56', '75', '99']\n"
          ]
        }
      ]
    },
    {
      "cell_type": "markdown",
      "source": [
        "Manipulating JSON files"
      ],
      "metadata": {
        "id": "KrialOnlo9u_"
      }
    },
    {
      "cell_type": "code",
      "source": [
        "dictionary = {'name': 'Molly',\n",
        "              'language': 'Python',\n",
        "              'similar': ['c', 'Modula-3', 'lisp'],\n",
        "              'users': 1000000}"
      ],
      "metadata": {
        "id": "qLOsyaPUpKQD"
      },
      "execution_count": 52,
      "outputs": []
    },
    {
      "cell_type": "code",
      "source": [
        "for k,v in dictionary.items():\n",
        "  print(k,v)"
      ],
      "metadata": {
        "colab": {
          "base_uri": "https://localhost:8080/"
        },
        "id": "3csDv5VNqIAQ",
        "outputId": "754f64da-e076-4ec8-aeeb-8b47f5031e6f"
      },
      "execution_count": 53,
      "outputs": [
        {
          "output_type": "stream",
          "name": "stdout",
          "text": [
            "name Molly\n",
            "language Python\n",
            "similar ['c', 'Modula-3', 'lisp']\n",
            "users 1000000\n"
          ]
        }
      ]
    },
    {
      "cell_type": "code",
      "source": [
        "import json"
      ],
      "metadata": {
        "id": "DI7QOoIiqN8V"
      },
      "execution_count": 54,
      "outputs": []
    },
    {
      "cell_type": "code",
      "source": [
        "json.dumps(dictionary)"
      ],
      "metadata": {
        "colab": {
          "base_uri": "https://localhost:8080/",
          "height": 53
        },
        "id": "22LNFhY7qSqe",
        "outputId": "6f1731e7-e3fc-4da5-c178-e5430bd61df0"
      },
      "execution_count": 55,
      "outputs": [
        {
          "output_type": "execute_result",
          "data": {
            "text/plain": [
              "'{\"name\": \"Molly\", \"language\": \"Python\", \"similar\": [\"c\", \"Modula-3\", \"lisp\"], \"users\": 1000000}'"
            ],
            "application/vnd.google.colaboratory.intrinsic+json": {
              "type": "string"
            }
          },
          "metadata": {},
          "execution_count": 55
        }
      ]
    },
    {
      "cell_type": "code",
      "source": [
        "with open('dados.json', 'w') as file:\n",
        "  file.write(json.dumps(dictionary))"
      ],
      "metadata": {
        "id": "4AAm3cs1quRF"
      },
      "execution_count": 70,
      "outputs": []
    },
    {
      "cell_type": "code",
      "source": [
        "with open('dados.json', 'r') as file:\n",
        "  text = file.read()\n",
        "  data = json.loads(text)"
      ],
      "metadata": {
        "id": "Rvz9RoCSqhzb"
      },
      "execution_count": 58,
      "outputs": []
    },
    {
      "cell_type": "code",
      "source": [
        "print(data)"
      ],
      "metadata": {
        "colab": {
          "base_uri": "https://localhost:8080/"
        },
        "id": "ewP-jOADrAyI",
        "outputId": "710f3ace-6eac-4d98-fc2e-e426b6c85e8f"
      },
      "execution_count": 59,
      "outputs": [
        {
          "output_type": "stream",
          "name": "stdout",
          "text": [
            "{'name': 'Molly', 'language': 'Python', 'similar': ['c', 'Modula-3', 'lisp'], 'users': 1000000}\n"
          ]
        }
      ]
    },
    {
      "cell_type": "code",
      "source": [
        "print(data['name'])"
      ],
      "metadata": {
        "colab": {
          "base_uri": "https://localhost:8080/"
        },
        "id": "TJKDtebmrRDW",
        "outputId": "58b14446-a86f-4dbd-feae-a3396a79d889"
      },
      "execution_count": 61,
      "outputs": [
        {
          "output_type": "stream",
          "name": "stdout",
          "text": [
            "Molly\n"
          ]
        }
      ]
    },
    {
      "cell_type": "code",
      "source": [
        "from urllib.request import urlopen\n",
        "response = urlopen(\"http://vimeo.com/api/v2/video/57733101.json\").read().decode('utf8')\n",
        "data = json.loads(response)[0]"
      ],
      "metadata": {
        "id": "mOadYxsIreGw"
      },
      "execution_count": 71,
      "outputs": []
    },
    {
      "cell_type": "code",
      "source": [
        "print('Title: ', data['title'])\n",
        "print('URL: ', data['url'])\n",
        "print('Duration: ', data['duration'])\n",
        "print('Number of views: ', data['stats_number_of_plays'])"
      ],
      "metadata": {
        "colab": {
          "base_uri": "https://localhost:8080/"
        },
        "id": "7cSGMtQ6rXCA",
        "outputId": "02542801-8701-44d7-8b69-f0813a7ce3ac"
      },
      "execution_count": 72,
      "outputs": [
        {
          "output_type": "stream",
          "name": "stdout",
          "text": [
            "Title:  The Good Man trailer\n",
            "URL:  https://vimeo.com/57733101\n",
            "Duration:  143\n",
            "Number of views:  6447\n"
          ]
        }
      ]
    },
    {
      "cell_type": "code",
      "source": [
        "import os\n",
        "\n",
        "sourceFile = 'dados.json'\n",
        "destinationFile = 'json_data.txt'\n"
      ],
      "metadata": {
        "id": "kH8Yjks1sxE9"
      },
      "execution_count": 73,
      "outputs": []
    },
    {
      "cell_type": "code",
      "source": [
        "with open(sourceFile, 'r') as infile:\n",
        "  text = infile.read()\n",
        "  with open(destinationFile, 'w') as outfile:\n",
        "    outfile.write(text)\n"
      ],
      "metadata": {
        "id": "E8Aq1VnTtF8a"
      },
      "execution_count": 74,
      "outputs": []
    },
    {
      "cell_type": "code",
      "source": [
        "open(destinationFile,'w').write(open(sourceFile,'r').read())"
      ],
      "metadata": {
        "colab": {
          "base_uri": "https://localhost:8080/"
        },
        "id": "HdtiOEBkt1Ch",
        "outputId": "81173e2c-6266-4516-e480-0d3074f14c7c"
      },
      "execution_count": 75,
      "outputs": [
        {
          "output_type": "execute_result",
          "data": {
            "text/plain": [
              "95"
            ]
          },
          "metadata": {},
          "execution_count": 75
        }
      ]
    },
    {
      "cell_type": "code",
      "source": [
        "with open('json_data.txt', 'r') as file:\n",
        "  text = file.read()\n",
        "  data = json.loads(text)\n"
      ],
      "metadata": {
        "id": "v5O_6Ac4uAtY"
      },
      "execution_count": 78,
      "outputs": []
    },
    {
      "cell_type": "code",
      "source": [
        "print(data)"
      ],
      "metadata": {
        "colab": {
          "base_uri": "https://localhost:8080/"
        },
        "id": "RPjOUQDiuyIk",
        "outputId": "03d2e964-b299-4e57-d990-ad5e50c40605"
      },
      "execution_count": 79,
      "outputs": [
        {
          "output_type": "stream",
          "name": "stdout",
          "text": [
            "{'name': 'Molly', 'language': 'Python', 'similar': ['c', 'Modula-3', 'lisp'], 'users': 1000000}\n"
          ]
        }
      ]
    },
    {
      "cell_type": "code",
      "source": [
        ""
      ],
      "metadata": {
        "id": "os_wd2kcuQYg"
      },
      "execution_count": null,
      "outputs": []
    }
  ]
}